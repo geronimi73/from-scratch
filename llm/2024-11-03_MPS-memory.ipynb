{
 "cells": [
  {
   "cell_type": "code",
   "execution_count": 1,
   "id": "a895288f-08aa-4501-87f4-4d0d88e1812a",
   "metadata": {},
   "outputs": [
    {
     "name": "stdout",
     "output_type": "stream",
     "text": [
      "Start: 0\n",
      "After moving tensor with 40000 elements (torch.float32): 160,000\n",
      "After empty_cache(): 160,000\n",
      "After del and empty_cache(): 0\n"
     ]
    }
   ],
   "source": [
    "import torch\n",
    "\n",
    "print(f\"Start: {torch.mps.current_allocated_memory()}\")\n",
    "a=torch.randn((400,100)).to(\"mps\")\n",
    "print(f\"After moving tensor with {a.flatten().size(0)} elements ({a.dtype}): {torch.mps.current_allocated_memory():,}\")\n",
    "torch.mps.empty_cache()\n",
    "print(f\"After empty_cache(): {torch.mps.current_allocated_memory():,}\")\n",
    "del a\n",
    "print(f\"After del and empty_cache(): {torch.mps.current_allocated_memory()}\")\n"
   ]
  }
 ],
 "metadata": {
  "kernelspec": {
   "display_name": "Python 3 (ipykernel)",
   "language": "python",
   "name": "python3"
  },
  "language_info": {
   "codemirror_mode": {
    "name": "ipython",
    "version": 3
   },
   "file_extension": ".py",
   "mimetype": "text/x-python",
   "name": "python",
   "nbconvert_exporter": "python",
   "pygments_lexer": "ipython3",
   "version": "3.12.4"
  }
 },
 "nbformat": 4,
 "nbformat_minor": 5
}
