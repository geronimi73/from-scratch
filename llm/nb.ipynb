{
 "cells": [
  {
   "cell_type": "code",
   "execution_count": 2,
   "id": "9c934a82-d668-4f76-840a-570daa77c397",
   "metadata": {},
   "outputs": [
    {
     "name": "stdout",
     "output_type": "stream",
     "text": [
      "Requirement already satisfied: tiktoken in /Library/Frameworks/Python.framework/Versions/3.12/lib/python3.12/site-packages (0.3.3)\n",
      "Requirement already satisfied: regex>=2022.1.18 in /Library/Frameworks/Python.framework/Versions/3.12/lib/python3.12/site-packages (from tiktoken) (2024.5.15)\n",
      "Requirement already satisfied: requests>=2.26.0 in /Library/Frameworks/Python.framework/Versions/3.12/lib/python3.12/site-packages (from tiktoken) (2.32.3)\n",
      "Requirement already satisfied: charset-normalizer<4,>=2 in /Library/Frameworks/Python.framework/Versions/3.12/lib/python3.12/site-packages (from requests>=2.26.0->tiktoken) (3.3.2)\n",
      "Requirement already satisfied: idna<4,>=2.5 in /Library/Frameworks/Python.framework/Versions/3.12/lib/python3.12/site-packages (from requests>=2.26.0->tiktoken) (3.7)\n",
      "Requirement already satisfied: urllib3<3,>=1.21.1 in /Library/Frameworks/Python.framework/Versions/3.12/lib/python3.12/site-packages (from requests>=2.26.0->tiktoken) (2.2.1)\n",
      "Requirement already satisfied: certifi>=2017.4.17 in /Library/Frameworks/Python.framework/Versions/3.12/lib/python3.12/site-packages (from requests>=2.26.0->tiktoken) (2024.2.2)\n",
      "\n",
      "\u001b[1m[\u001b[0m\u001b[34;49mnotice\u001b[0m\u001b[1;39;49m]\u001b[0m\u001b[39;49m A new release of pip is available: \u001b[0m\u001b[31;49m24.0\u001b[0m\u001b[39;49m -> \u001b[0m\u001b[32;49m24.2\u001b[0m\n",
      "\u001b[1m[\u001b[0m\u001b[34;49mnotice\u001b[0m\u001b[1;39;49m]\u001b[0m\u001b[39;49m To update, run: \u001b[0m\u001b[32;49mpython3.12 -m pip install --upgrade pip\u001b[0m\n"
     ]
    }
   ],
   "source": [
    "!pip3 install tiktoken"
   ]
  },
  {
   "cell_type": "code",
   "execution_count": 21,
   "id": "9b364d5c-3806-42e3-acb2-66d1e1455ee2",
   "metadata": {},
   "outputs": [],
   "source": [
    "import tiktoken\n",
    "\n",
    "# r50k_base vocab size: 50,257 https://arxiv.org/pdf/2404.09894\n",
    "enc = tiktoken.get_encoding(\"r50k_base\")\n",
    "assert enc.decode(enc.encode(\"hello world\")) == \"hello world\"\n",
    "\n",
    "def tokenize(string):\n",
    "    return enc.encode(string)"
   ]
  },
  {
   "cell_type": "code",
   "execution_count": 33,
   "id": "e9b79baf-d6df-4c3c-bdbe-2cbc04495f57",
   "metadata": {},
   "outputs": [
    {
     "data": {
      "text/plain": [
       "50257"
      ]
     },
     "execution_count": 33,
     "metadata": {},
     "output_type": "execute_result"
    }
   ],
   "source": [
    "enc.n_vocab"
   ]
  },
  {
   "cell_type": "code",
   "execution_count": 19,
   "id": "08f9d316-b1e2-4268-89bb-2813079c83f2",
   "metadata": {},
   "outputs": [],
   "source": [
    "import datasets\n",
    "\n",
    "dataset = datasets.load_dataset('karpathy/tiny_shakespeare')['train']"
   ]
  },
  {
   "cell_type": "code",
   "execution_count": 28,
   "id": "3c5a0937-5c2f-4a70-9771-7036a74eddc7",
   "metadata": {},
   "outputs": [],
   "source": [
    "dataset_tok = tokenize(dataset[\"text\"][0])"
   ]
  },
  {
   "cell_type": "code",
   "execution_count": 30,
   "id": "b04a067f-9170-4776-9c19-6ec7882b1558",
   "metadata": {},
   "outputs": [
    {
     "data": {
      "text/plain": [
       "\u001b[0;31mType:\u001b[0m        list\n",
       "\u001b[0;31mString form:\u001b[0m [5962, 22307, 25, 198, 8421, 356, 5120, 597, 2252, 11, 3285, 502, 2740, 13, 198, 198, 3237, 25, 1 <...> 97, 5603, 25, 198, 16973, 1683, 22427, 4145, 308, 28130, 355, 314, 30, 198, 1537, 508, 2058, 994]\n",
       "\u001b[0;31mLength:\u001b[0m      301966\n",
       "\u001b[0;31mDocstring:\u001b[0m  \n",
       "Built-in mutable sequence.\n",
       "\n",
       "If no argument is given, the constructor creates a new empty list.\n",
       "The argument must be an iterable if specified."
      ]
     },
     "metadata": {},
     "output_type": "display_data"
    }
   ],
   "source": [
    "dataset_tok"
   ]
  },
  {
   "cell_type": "markdown",
   "id": "3bfff8a3-6fd8-41b7-93b0-43913a50fec9",
   "metadata": {},
   "source": [
    "# Try an MLP\n",
    "initial network code from mistral"
   ]
  },
  {
   "cell_type": "code",
   "execution_count": 68,
   "id": "3d66a2ac-94c1-480b-b241-b564603ecc6b",
   "metadata": {},
   "outputs": [],
   "source": [
    "import torch\n",
    "import torch.nn as nn\n",
    "import torch.optim as optim\n",
    "\n",
    "class MLP(nn.Module):\n",
    "    def __init__(self, vocab_size, embedding_dim, hidden_size, num_classes):\n",
    "        super(MLP, self).__init__()\n",
    "        self.embedding = nn.Embedding(vocab_size, embedding_dim)\n",
    "        self.fc1 = nn.Linear(embedding_dim, hidden_size)\n",
    "        self.relu = nn.ReLU()\n",
    "        self.fc2 = nn.Linear(hidden_size, num_classes)\n",
    "\n",
    "    def forward(self, x):\n",
    "        out = self.embedding(x)\n",
    "        print(out)\n",
    "        out = out.mean(dim=1)  # Average the embeddings to get a single vector per sentence\n",
    "        out = self.fc1(out)\n",
    "        out = self.relu(out)\n",
    "        out = self.fc2(out)\n",
    "        return out"
   ]
  },
  {
   "cell_type": "code",
   "execution_count": 69,
   "id": "50572328-74bb-4f6f-900b-badceb3dd01a",
   "metadata": {},
   "outputs": [],
   "source": [
    "model = MLP(vocab_size=50_272, embedding_dim=2048, hidden_size=512, num_classes=50_272)"
   ]
  },
  {
   "cell_type": "code",
   "execution_count": 37,
   "id": "a5605655-b706-420d-913b-8f4139ec1259",
   "metadata": {},
   "outputs": [
    {
     "data": {
      "text/plain": [
       "MLP(\n",
       "  (embedding): Embedding(50272, 2048)\n",
       "  (fc1): Linear(in_features=2048, out_features=512, bias=True)\n",
       "  (relu): ReLU()\n",
       "  (fc2): Linear(in_features=512, out_features=50272, bias=True)\n",
       ")"
      ]
     },
     "execution_count": 37,
     "metadata": {},
     "output_type": "execute_result"
    }
   ],
   "source": [
    "model"
   ]
  },
  {
   "cell_type": "code",
   "execution_count": 44,
   "id": "305d5448-2197-4ab5-bcfc-5b7f5b6fd335",
   "metadata": {},
   "outputs": [
    {
     "data": {
      "text/plain": [
       "Parameter containing:\n",
       "tensor([[-0.1237,  0.6950,  0.9105,  ..., -2.3125, -0.0577, -0.8628],\n",
       "        [-1.0967, -1.8143, -0.5356,  ...,  0.5066,  1.9037,  0.7108],\n",
       "        [ 0.3591,  1.1603,  0.0509,  ..., -0.6011,  0.0869, -0.7442],\n",
       "        ...,\n",
       "        [ 2.0267,  0.1178, -0.6515,  ..., -2.4884, -1.0660,  1.9106],\n",
       "        [ 1.5039, -0.5427,  1.9437,  ..., -0.2915, -1.3808,  1.1161],\n",
       "        [ 0.5985,  0.4771, -0.1294,  ...,  1.3846, -2.0148,  1.5337]],\n",
       "       requires_grad=True)"
      ]
     },
     "execution_count": 44,
     "metadata": {},
     "output_type": "execute_result"
    }
   ],
   "source": [
    "p=next(model.parameters())\n",
    "p"
   ]
  },
  {
   "cell_type": "code",
   "execution_count": 47,
   "id": "027a5642-aae5-4d3b-989e-4f2cc950fe35",
   "metadata": {},
   "outputs": [
    {
     "data": {
      "text/plain": [
       "129795680"
      ]
     },
     "execution_count": 47,
     "metadata": {},
     "output_type": "execute_result"
    }
   ],
   "source": [
    "def count_parameters(model):\n",
    "    return sum(p.numel() for p in model.parameters() if p.requires_grad)\n",
    "count_parameters(model)"
   ]
  },
  {
   "cell_type": "code",
   "execution_count": 103,
   "id": "e59babc7-0cd1-4e4b-90b7-e9bb9c311173",
   "metadata": {},
   "outputs": [],
   "source": [
    "import tiktoken\n",
    "\n",
    "# r50k_base vocab size: 50,257 https://arxiv.org/pdf/2404.09894\n",
    "enc = tiktoken.get_encoding(\"r50k_base\")\n",
    "assert enc.decode(enc.encode(\"hello world\")) == \"hello world\"\n",
    "\n",
    "def tokenize(string):\n",
    "    return torch.tensor(enc.encode(string))\n",
    "\n",
    "def detokenize(tensor):\n",
    "    return enc.decode([tensor.item()])"
   ]
  },
  {
   "cell_type": "code",
   "execution_count": 56,
   "id": "2622ae4c-7c9d-4157-97d5-a071b8118a3b",
   "metadata": {},
   "outputs": [
    {
     "name": "stderr",
     "output_type": "stream",
     "text": [
      "/var/folders/fd/9xbk36z13vx8c3h6tbf6qchm0000gn/T/ipykernel_73707/3084114126.py:1: UserWarning: To copy construct from a tensor, it is recommended to use sourceTensor.clone().detach() or sourceTensor.clone().detach().requires_grad_(True), rather than torch.tensor(sourceTensor).\n",
      "  input_tok=torch.tensor(tokenize(\"hello world\"))\n"
     ]
    }
   ],
   "source": [
    "input_tok=torch.tensor(tokenize(\"hello world\"))"
   ]
  },
  {
   "cell_type": "code",
   "execution_count": 59,
   "id": "4270d87b-2c84-4aba-8740-702e8b1b786e",
   "metadata": {},
   "outputs": [
    {
     "data": {
      "text/plain": [
       "tensor([[ 0.8269, -0.2897, -0.8429,  ..., -2.4529, -1.4156, -0.5684],\n",
       "        [-0.5045,  0.1804, -0.7209,  ...,  0.0440,  0.2390, -0.6576]],\n",
       "       grad_fn=<EmbeddingBackward0>)"
      ]
     },
     "execution_count": 59,
     "metadata": {},
     "output_type": "execute_result"
    }
   ],
   "source": [
    "model.embedding(input_tok)"
   ]
  },
  {
   "cell_type": "code",
   "execution_count": 62,
   "id": "ce7e9e94-5a95-4243-b434-88ecfa864a1a",
   "metadata": {},
   "outputs": [
    {
     "data": {
      "text/plain": [
       "torch.Size([2, 2048])"
      ]
     },
     "execution_count": 62,
     "metadata": {},
     "output_type": "execute_result"
    }
   ],
   "source": [
    "model.embedding(input_tok).size()"
   ]
  },
  {
   "cell_type": "code",
   "execution_count": 64,
   "id": "f7054da3-11b3-4c88-a930-0c65e035cbc1",
   "metadata": {},
   "outputs": [
    {
     "data": {
      "text/plain": [
       "tensor([[ 0.0716, -0.4247,  0.0595,  ...,  0.7414, -0.4766,  0.0736],\n",
       "        [ 0.6885, -0.0650, -0.0086,  ...,  0.3499, -0.9063, -0.0974]],\n",
       "       grad_fn=<AddmmBackward0>)"
      ]
     },
     "execution_count": 64,
     "metadata": {},
     "output_type": "execute_result"
    }
   ],
   "source": [
    "model.fc1(model.embedding(input_tok))"
   ]
  },
  {
   "cell_type": "code",
   "execution_count": 71,
   "id": "d246ae0b-cef2-4f44-a068-45cfba177257",
   "metadata": {},
   "outputs": [
    {
     "data": {
      "text/plain": [
       "torch.Size([2, 512])"
      ]
     },
     "execution_count": 71,
     "metadata": {},
     "output_type": "execute_result"
    }
   ],
   "source": [
    "model.fc1(model.embedding(input_tok)).size()"
   ]
  },
  {
   "cell_type": "code",
   "execution_count": 75,
   "id": "92aa6f86-8cdb-4c7b-83a7-8fb9b0be9e61",
   "metadata": {},
   "outputs": [
    {
     "data": {
      "text/plain": [
       "torch.Size([512])"
      ]
     },
     "execution_count": 75,
     "metadata": {},
     "output_type": "execute_result"
    }
   ],
   "source": [
    "model.fc1(model.embedding(input_tok)).mean(dim=0).size()"
   ]
  },
  {
   "cell_type": "code",
   "execution_count": 87,
   "id": "4c06ef73-8b53-4406-adde-77129ef7d17e",
   "metadata": {},
   "outputs": [],
   "source": [
    "import torch\n",
    "import torch.nn as nn\n",
    "import torch.optim as optim\n",
    "\n",
    "class MLP(nn.Module):\n",
    "    def __init__(self, vocab_size, embedding_dim, hidden_size, num_classes):\n",
    "        super(MLP, self).__init__()\n",
    "        self.embedding = nn.Embedding(vocab_size, embedding_dim)\n",
    "        self.fc1 = nn.Linear(embedding_dim, hidden_size)\n",
    "        self.relu = nn.ReLU()\n",
    "        self.fc2 = nn.Linear(hidden_size, num_classes)\n",
    "\n",
    "    def forward(self, x):\n",
    "        out = self.embedding(x)\n",
    "        out = out.mean(dim=0)  # Average the embeddings to get a single vector per sentence\n",
    "        out = self.fc1(out)\n",
    "        out = self.relu(out)\n",
    "        out = self.fc2(out)\n",
    "        return out\n",
    "model = MLP(vocab_size=50_272, embedding_dim=2048, hidden_size=512, num_classes=50_272)"
   ]
  },
  {
   "cell_type": "code",
   "execution_count": 88,
   "id": "a8229c33-0432-4b54-8eb0-5eb07cead6e0",
   "metadata": {},
   "outputs": [
    {
     "data": {
      "text/plain": [
       "tensor([-0.1296, -0.0484,  0.2392,  ...,  0.0882, -0.2404,  0.1858],\n",
       "       grad_fn=<ViewBackward0>)"
      ]
     },
     "execution_count": 88,
     "metadata": {},
     "output_type": "execute_result"
    }
   ],
   "source": [
    "model(input_tok)"
   ]
  },
  {
   "cell_type": "code",
   "execution_count": 90,
   "id": "7dd72009-4460-429b-8e8c-ae8a167ed13a",
   "metadata": {},
   "outputs": [
    {
     "data": {
      "text/plain": [
       "torch.Size([50272])"
      ]
     },
     "execution_count": 90,
     "metadata": {},
     "output_type": "execute_result"
    }
   ],
   "source": [
    "model(input_tok).size()"
   ]
  },
  {
   "cell_type": "code",
   "execution_count": 91,
   "id": "1658196e-11da-4890-9140-e9ce86d46e85",
   "metadata": {},
   "outputs": [],
   "source": [
    "output = model(input_tok)"
   ]
  },
  {
   "cell_type": "code",
   "execution_count": 92,
   "id": "6133fd0e-be79-4fa3-a8bf-8134b2291f32",
   "metadata": {},
   "outputs": [
    {
     "data": {
      "text/plain": [
       "tensor(15694)"
      ]
     },
     "execution_count": 92,
     "metadata": {},
     "output_type": "execute_result"
    }
   ],
   "source": [
    "torch.argmax(output)"
   ]
  },
  {
   "cell_type": "code",
   "execution_count": 100,
   "id": "b4ae4370-95a0-439f-80de-535f29dad292",
   "metadata": {},
   "outputs": [
    {
     "data": {
      "text/plain": [
       "15694"
      ]
     },
     "execution_count": 100,
     "metadata": {},
     "output_type": "execute_result"
    }
   ],
   "source": [
    "torch.argmax(output).item()"
   ]
  },
  {
   "cell_type": "code",
   "execution_count": 102,
   "id": "edd79a5c-d7eb-4a99-a106-5d26ce408fab",
   "metadata": {},
   "outputs": [
    {
     "data": {
      "text/plain": [
       "' Oscar'"
      ]
     },
     "execution_count": 102,
     "metadata": {},
     "output_type": "execute_result"
    }
   ],
   "source": [
    "enc.decode([torch.argmax(output).item()])"
   ]
  },
  {
   "cell_type": "code",
   "execution_count": 106,
   "id": "57e0f62f-a5b8-4059-b0c3-969917288cad",
   "metadata": {},
   "outputs": [
    {
     "data": {
      "text/plain": [
       "' Oscar'"
      ]
     },
     "execution_count": 106,
     "metadata": {},
     "output_type": "execute_result"
    }
   ],
   "source": [
    "detokenize(torch.argmax(output))"
   ]
  },
  {
   "cell_type": "markdown",
   "id": "2509db3b-d73c-4dbf-997b-5317dea02e98",
   "metadata": {},
   "source": [
    "## training loop"
   ]
  },
  {
   "cell_type": "code",
   "execution_count": 133,
   "id": "0e62a46e-b84f-43dc-8f24-12feab2dd706",
   "metadata": {},
   "outputs": [],
   "source": [
    "def tokenize_dataset():\n",
    "    import datasets\n",
    "    dataset = datasets.load_dataset('karpathy/tiny_shakespeare')['train']\n",
    "    return tokenize(dataset[\"text\"][0])\n",
    "dataset_tok = tokenize_dataset().to(\"mps\")\n",
    "dataset_tok_samples = torch.split(dataset_tok, 100)"
   ]
  },
  {
   "cell_type": "code",
   "execution_count": 146,
   "id": "7ff0e65a-21c8-410e-a698-eaaa0c22b0db",
   "metadata": {},
   "outputs": [],
   "source": [
    "dataset_tok_samples = torch.split(dataset_tok, 100)"
   ]
  },
  {
   "cell_type": "code",
   "execution_count": 150,
   "id": "754f0094-d062-456a-9cd1-86823e4607a5",
   "metadata": {},
   "outputs": [
    {
     "data": {
      "text/plain": [
       "3020"
      ]
     },
     "execution_count": 150,
     "metadata": {},
     "output_type": "execute_result"
    }
   ],
   "source": [
    "len(dataset_tok_samples)"
   ]
  },
  {
   "cell_type": "code",
   "execution_count": 127,
   "id": "113f9f47-ac12-4366-933b-7949e5c350a7",
   "metadata": {},
   "outputs": [
    {
     "data": {
      "text/plain": [
       "tensor([ 5962, 22307,    25,   198,  8421,   356,  5120,   597,  2252,    11])"
      ]
     },
     "metadata": {},
     "output_type": "display_data"
    },
    {
     "data": {
      "text/plain": [
       "tensor(3285)"
      ]
     },
     "metadata": {},
     "output_type": "display_data"
    }
   ],
   "source": [
    "i=0\n",
    "x = dataset_tok_samples[i]\n",
    "display(x)\n",
    "y = dataset_tok_samples[i+1][0]\n",
    "display(y)"
   ]
  },
  {
   "cell_type": "code",
   "execution_count": 128,
   "id": "cc8d431f-1a85-44c7-8075-63a4066d5ccf",
   "metadata": {},
   "outputs": [
    {
     "data": {
      "text/plain": [
       "tensor([ 5962, 22307,    25,   198,  8421,   356,  5120,   597,  2252,    11])"
      ]
     },
     "execution_count": 128,
     "metadata": {},
     "output_type": "execute_result"
    }
   ],
   "source": [
    "dataset_tok_samples[0]"
   ]
  },
  {
   "cell_type": "code",
   "execution_count": 129,
   "id": "68d19aca-9ac6-42da-a8ed-752c1536c461",
   "metadata": {},
   "outputs": [
    {
     "data": {
      "text/plain": [
       "tensor([3285,  502, 2740,   13,  198,  198, 3237,   25,  198, 5248])"
      ]
     },
     "execution_count": 129,
     "metadata": {},
     "output_type": "execute_result"
    }
   ],
   "source": [
    "dataset_tok_samples[1]"
   ]
  },
  {
   "cell_type": "code",
   "execution_count": null,
   "id": "ed17c23b-5452-4c3d-b74e-3c1cb1511f91",
   "metadata": {},
   "outputs": [],
   "source": []
  },
  {
   "cell_type": "code",
   "execution_count": 121,
   "id": "b3b269b8-32c2-4182-ab49-77023950abea",
   "metadata": {},
   "outputs": [
    {
     "data": {
      "text/plain": [
       "MLP(\n",
       "  (embedding): Embedding(50272, 1024)\n",
       "  (fc1): Linear(in_features=1024, out_features=512, bias=True)\n",
       "  (relu): ReLU()\n",
       "  (fc2): Linear(in_features=512, out_features=50272, bias=True)\n",
       ")"
      ]
     },
     "execution_count": 121,
     "metadata": {},
     "output_type": "execute_result"
    }
   ],
   "source": [
    "import torch\n",
    "import torch.nn as nn\n",
    "import torch.optim as optim\n",
    "\n",
    "class MLP(nn.Module):\n",
    "    def __init__(self, vocab_size, embedding_dim, hidden_size, num_classes):\n",
    "        super(MLP, self).__init__()\n",
    "        self.embedding = nn.Embedding(vocab_size, embedding_dim)\n",
    "        self.fc1 = nn.Linear(embedding_dim, hidden_size)\n",
    "        self.relu = nn.ReLU()\n",
    "        self.fc2 = nn.Linear(hidden_size, num_classes)\n",
    "\n",
    "    def forward(self, x):\n",
    "        out = self.embedding(x)\n",
    "        out = out.mean(dim=0)  # Average the embeddings to get a single vector per sentence\n",
    "        out = self.fc1(out)\n",
    "        out = self.relu(out)\n",
    "        out = self.fc2(out)\n",
    "        return out\n",
    "        \n",
    "model = MLP(vocab_size=50_272, embedding_dim=1024, hidden_size=512, num_classes=50_272)\n",
    "model.to(\"mps\")"
   ]
  },
  {
   "cell_type": "code",
   "execution_count": 120,
   "id": "4ce160f0-1710-4ea0-9208-5e245bd413d3",
   "metadata": {},
   "outputs": [
    {
     "data": {
      "text/plain": [
       "77792864"
      ]
     },
     "execution_count": 120,
     "metadata": {},
     "output_type": "execute_result"
    }
   ],
   "source": [
    "def count_parameters(model):\n",
    "    return sum(p.numel() for p in model.parameters() if p.requires_grad)\n",
    "count_parameters(model)"
   ]
  },
  {
   "cell_type": "code",
   "execution_count": 155,
   "id": "e9ff8eac-7c28-4210-ac21-d10e65e3e55a",
   "metadata": {},
   "outputs": [
    {
     "name": "stdout",
     "output_type": "stream",
     "text": [
      "epoch 0\n"
     ]
    },
    {
     "name": "stderr",
     "output_type": "stream",
     "text": [
      "  1%|▎                                                 | 19/3019 [00:00<00:16, 185.00it/s]"
     ]
    },
    {
     "name": "stdout",
     "output_type": "stream",
     "text": [
      "5.465605735778809\n"
     ]
    },
    {
     "name": "stderr",
     "output_type": "stream",
     "text": [
      "  4%|██                                                | 121/3019 [00:02<00:53, 54.34it/s]"
     ]
    },
    {
     "name": "stdout",
     "output_type": "stream",
     "text": [
      "6.946822643280029\n"
     ]
    },
    {
     "name": "stderr",
     "output_type": "stream",
     "text": [
      "  7%|███▋                                              | 221/3019 [00:04<00:51, 54.09it/s]"
     ]
    },
    {
     "name": "stdout",
     "output_type": "stream",
     "text": [
      "4.3307318687438965\n"
     ]
    },
    {
     "name": "stderr",
     "output_type": "stream",
     "text": [
      " 11%|█████▎                                            | 321/3019 [00:06<00:49, 54.51it/s]"
     ]
    },
    {
     "name": "stdout",
     "output_type": "stream",
     "text": [
      "4.909192085266113\n"
     ]
    },
    {
     "name": "stderr",
     "output_type": "stream",
     "text": [
      " 14%|██████▉                                           | 421/3019 [00:08<00:47, 54.68it/s]"
     ]
    },
    {
     "name": "stdout",
     "output_type": "stream",
     "text": [
      "3.822279930114746\n"
     ]
    },
    {
     "name": "stderr",
     "output_type": "stream",
     "text": [
      " 17%|████████▋                                         | 522/3019 [00:10<00:47, 52.40it/s]"
     ]
    },
    {
     "name": "stdout",
     "output_type": "stream",
     "text": [
      "8.737098693847656\n"
     ]
    },
    {
     "name": "stderr",
     "output_type": "stream",
     "text": [
      " 21%|██████████▎                                       | 621/3019 [00:13<00:44, 54.09it/s]"
     ]
    },
    {
     "name": "stdout",
     "output_type": "stream",
     "text": [
      "5.0302815437316895\n"
     ]
    },
    {
     "name": "stderr",
     "output_type": "stream",
     "text": [
      " 24%|███████████▉                                      | 722/3019 [00:15<00:43, 53.37it/s]"
     ]
    },
    {
     "name": "stdout",
     "output_type": "stream",
     "text": [
      "6.727201461791992\n"
     ]
    },
    {
     "name": "stderr",
     "output_type": "stream",
     "text": [
      " 27%|█████████████▌                                    | 821/3019 [00:17<00:40, 54.04it/s]"
     ]
    },
    {
     "name": "stdout",
     "output_type": "stream",
     "text": [
      "9.454524993896484\n"
     ]
    },
    {
     "name": "stderr",
     "output_type": "stream",
     "text": [
      " 31%|███████████████▎                                  | 922/3019 [00:19<00:39, 53.60it/s]"
     ]
    },
    {
     "name": "stdout",
     "output_type": "stream",
     "text": [
      "6.732208251953125\n"
     ]
    },
    {
     "name": "stderr",
     "output_type": "stream",
     "text": [
      " 34%|████████████████▌                                | 1021/3019 [00:21<00:36, 54.43it/s]"
     ]
    },
    {
     "name": "stdout",
     "output_type": "stream",
     "text": [
      "10.785686492919922\n"
     ]
    },
    {
     "name": "stderr",
     "output_type": "stream",
     "text": [
      " 37%|██████████████████▏                              | 1122/3019 [00:23<00:35, 53.40it/s]"
     ]
    },
    {
     "name": "stdout",
     "output_type": "stream",
     "text": [
      "1.8712513446807861\n"
     ]
    },
    {
     "name": "stderr",
     "output_type": "stream",
     "text": [
      " 40%|███████████████████▊                             | 1221/3019 [00:25<00:33, 54.01it/s]"
     ]
    },
    {
     "name": "stdout",
     "output_type": "stream",
     "text": [
      "5.857855796813965\n"
     ]
    },
    {
     "name": "stderr",
     "output_type": "stream",
     "text": [
      " 44%|█████████████████████▍                           | 1322/3019 [00:28<00:31, 53.31it/s]"
     ]
    },
    {
     "name": "stdout",
     "output_type": "stream",
     "text": [
      "10.788585662841797\n"
     ]
    },
    {
     "name": "stderr",
     "output_type": "stream",
     "text": [
      " 47%|███████████████████████                          | 1421/3019 [00:30<00:29, 54.31it/s]"
     ]
    },
    {
     "name": "stdout",
     "output_type": "stream",
     "text": [
      "10.686820030212402\n"
     ]
    },
    {
     "name": "stderr",
     "output_type": "stream",
     "text": [
      " 50%|████████████████████████▋                        | 1522/3019 [00:32<00:28, 52.94it/s]"
     ]
    },
    {
     "name": "stdout",
     "output_type": "stream",
     "text": [
      "7.384192943572998\n"
     ]
    },
    {
     "name": "stderr",
     "output_type": "stream",
     "text": [
      " 54%|██████████████████████████▎                      | 1621/3019 [00:34<00:25, 54.18it/s]"
     ]
    },
    {
     "name": "stdout",
     "output_type": "stream",
     "text": [
      "6.984598636627197\n"
     ]
    },
    {
     "name": "stderr",
     "output_type": "stream",
     "text": [
      " 57%|███████████████████████████▉                     | 1722/3019 [00:36<00:24, 53.18it/s]"
     ]
    },
    {
     "name": "stdout",
     "output_type": "stream",
     "text": [
      "11.143735885620117\n"
     ]
    },
    {
     "name": "stderr",
     "output_type": "stream",
     "text": [
      " 60%|█████████████████████████████▌                   | 1821/3019 [00:38<00:22, 54.26it/s]"
     ]
    },
    {
     "name": "stdout",
     "output_type": "stream",
     "text": [
      "3.45967173576355\n"
     ]
    },
    {
     "name": "stderr",
     "output_type": "stream",
     "text": [
      " 64%|███████████████████████████████▏                 | 1922/3019 [00:41<00:20, 53.34it/s]"
     ]
    },
    {
     "name": "stdout",
     "output_type": "stream",
     "text": [
      "7.195433616638184\n"
     ]
    },
    {
     "name": "stderr",
     "output_type": "stream",
     "text": [
      " 67%|████████████████████████████████▊                | 2021/3019 [00:43<00:18, 54.27it/s]"
     ]
    },
    {
     "name": "stdout",
     "output_type": "stream",
     "text": [
      "6.244462013244629\n"
     ]
    },
    {
     "name": "stderr",
     "output_type": "stream",
     "text": [
      " 70%|██████████████████████████████████▍              | 2122/3019 [00:45<00:16, 53.29it/s]"
     ]
    },
    {
     "name": "stdout",
     "output_type": "stream",
     "text": [
      "6.327399253845215\n"
     ]
    },
    {
     "name": "stderr",
     "output_type": "stream",
     "text": [
      " 74%|████████████████████████████████████             | 2221/3019 [00:47<00:14, 53.28it/s]"
     ]
    },
    {
     "name": "stdout",
     "output_type": "stream",
     "text": [
      "10.721595764160156\n"
     ]
    },
    {
     "name": "stderr",
     "output_type": "stream",
     "text": [
      " 77%|█████████████████████████████████████▋           | 2322/3019 [00:49<00:13, 53.31it/s]"
     ]
    },
    {
     "name": "stdout",
     "output_type": "stream",
     "text": [
      "7.594691276550293\n"
     ]
    },
    {
     "name": "stderr",
     "output_type": "stream",
     "text": [
      " 80%|███████████████████████████████████████▎         | 2422/3019 [00:51<00:11, 52.24it/s]"
     ]
    },
    {
     "name": "stdout",
     "output_type": "stream",
     "text": [
      "8.340780258178711\n"
     ]
    },
    {
     "name": "stderr",
     "output_type": "stream",
     "text": [
      " 84%|████████████████████████████████████████▉        | 2522/3019 [00:54<00:09, 52.49it/s]"
     ]
    },
    {
     "name": "stdout",
     "output_type": "stream",
     "text": [
      "10.96922492980957\n"
     ]
    },
    {
     "name": "stderr",
     "output_type": "stream",
     "text": [
      " 87%|██████████████████████████████████████████▌      | 2621/3019 [00:56<00:07, 52.43it/s]"
     ]
    },
    {
     "name": "stdout",
     "output_type": "stream",
     "text": [
      "3.2982606887817383\n"
     ]
    },
    {
     "name": "stderr",
     "output_type": "stream",
     "text": [
      " 90%|████████████████████████████████████████████▏    | 2722/3019 [00:58<00:05, 53.55it/s]"
     ]
    },
    {
     "name": "stdout",
     "output_type": "stream",
     "text": [
      "5.372392177581787\n"
     ]
    },
    {
     "name": "stderr",
     "output_type": "stream",
     "text": [
      " 93%|█████████████████████████████████████████████▊   | 2821/3019 [01:00<00:03, 54.35it/s]"
     ]
    },
    {
     "name": "stdout",
     "output_type": "stream",
     "text": [
      "9.578253746032715\n"
     ]
    },
    {
     "name": "stderr",
     "output_type": "stream",
     "text": [
      " 97%|███████████████████████████████████████████████▍ | 2922/3019 [01:02<00:01, 52.87it/s]"
     ]
    },
    {
     "name": "stdout",
     "output_type": "stream",
     "text": [
      "11.81136417388916\n"
     ]
    },
    {
     "name": "stderr",
     "output_type": "stream",
     "text": [
      "100%|█████████████████████████████████████████████████| 3019/3019 [01:04<00:00, 46.57it/s]"
     ]
    },
    {
     "name": "stdout",
     "output_type": "stream",
     "text": [
      "4.885822296142578\n"
     ]
    },
    {
     "name": "stderr",
     "output_type": "stream",
     "text": [
      "\n"
     ]
    },
    {
     "name": "stdout",
     "output_type": "stream",
     "text": [
      "Epoch [1/10], Loss: 7.4682\n",
      "epoch 1\n"
     ]
    },
    {
     "name": "stderr",
     "output_type": "stream",
     "text": [
      "  1%|▎                                                 | 21/3019 [00:00<00:15, 187.54it/s]"
     ]
    },
    {
     "name": "stdout",
     "output_type": "stream",
     "text": [
      "7.453350067138672\n"
     ]
    },
    {
     "name": "stderr",
     "output_type": "stream",
     "text": [
      "  4%|██                                                | 121/3019 [00:02<00:54, 53.22it/s]"
     ]
    },
    {
     "name": "stdout",
     "output_type": "stream",
     "text": [
      "6.447746276855469\n"
     ]
    },
    {
     "name": "stderr",
     "output_type": "stream",
     "text": [
      "  7%|███▋                                              | 221/3019 [00:04<00:52, 53.20it/s]"
     ]
    },
    {
     "name": "stdout",
     "output_type": "stream",
     "text": [
      "3.9637138843536377\n"
     ]
    },
    {
     "name": "stderr",
     "output_type": "stream",
     "text": [
      " 11%|█████▎                                            | 321/3019 [00:06<00:50, 53.11it/s]"
     ]
    },
    {
     "name": "stdout",
     "output_type": "stream",
     "text": [
      "4.682737350463867\n"
     ]
    },
    {
     "name": "stderr",
     "output_type": "stream",
     "text": [
      " 14%|██████▉                                           | 421/3019 [00:08<00:48, 53.53it/s]"
     ]
    },
    {
     "name": "stdout",
     "output_type": "stream",
     "text": [
      "3.6597084999084473\n"
     ]
    },
    {
     "name": "stderr",
     "output_type": "stream",
     "text": [
      " 17%|████████▋                                         | 521/3019 [00:10<00:46, 53.19it/s]"
     ]
    },
    {
     "name": "stdout",
     "output_type": "stream",
     "text": [
      "8.666448593139648\n"
     ]
    },
    {
     "name": "stderr",
     "output_type": "stream",
     "text": [
      " 21%|██████████▎                                       | 621/3019 [00:12<00:43, 54.84it/s]"
     ]
    },
    {
     "name": "stdout",
     "output_type": "stream",
     "text": [
      "6.353846073150635\n"
     ]
    },
    {
     "name": "stderr",
     "output_type": "stream",
     "text": [
      " 24%|███████████▉                                      | 721/3019 [00:15<00:42, 53.64it/s]"
     ]
    },
    {
     "name": "stdout",
     "output_type": "stream",
     "text": [
      "6.385531425476074\n"
     ]
    },
    {
     "name": "stderr",
     "output_type": "stream",
     "text": [
      " 27%|█████████████▌                                    | 821/3019 [00:17<00:40, 54.14it/s]"
     ]
    },
    {
     "name": "stdout",
     "output_type": "stream",
     "text": [
      "8.997998237609863\n"
     ]
    },
    {
     "name": "stderr",
     "output_type": "stream",
     "text": [
      " 31%|███████████████▎                                  | 921/3019 [00:19<00:38, 53.83it/s]"
     ]
    },
    {
     "name": "stdout",
     "output_type": "stream",
     "text": [
      "6.5271501541137695\n"
     ]
    },
    {
     "name": "stderr",
     "output_type": "stream",
     "text": [
      " 34%|████████████████▌                                | 1021/3019 [00:21<00:36, 54.49it/s]"
     ]
    },
    {
     "name": "stdout",
     "output_type": "stream",
     "text": [
      "10.069212913513184\n"
     ]
    },
    {
     "name": "stderr",
     "output_type": "stream",
     "text": [
      " 37%|██████████████████▏                              | 1121/3019 [00:23<00:35, 53.95it/s]"
     ]
    },
    {
     "name": "stdout",
     "output_type": "stream",
     "text": [
      "1.9971132278442383\n"
     ]
    },
    {
     "name": "stderr",
     "output_type": "stream",
     "text": [
      " 40%|███████████████████▊                             | 1221/3019 [00:25<00:33, 53.45it/s]"
     ]
    },
    {
     "name": "stdout",
     "output_type": "stream",
     "text": [
      "5.721668720245361\n"
     ]
    },
    {
     "name": "stderr",
     "output_type": "stream",
     "text": [
      " 44%|█████████████████████▍                           | 1322/3019 [00:27<00:32, 52.87it/s]"
     ]
    },
    {
     "name": "stdout",
     "output_type": "stream",
     "text": [
      "9.947879791259766\n"
     ]
    },
    {
     "name": "stderr",
     "output_type": "stream",
     "text": [
      " 47%|███████████████████████                          | 1421/3019 [00:30<00:29, 53.89it/s]"
     ]
    },
    {
     "name": "stdout",
     "output_type": "stream",
     "text": [
      "9.90035629272461\n"
     ]
    },
    {
     "name": "stderr",
     "output_type": "stream",
     "text": [
      " 50%|████████████████████████▋                        | 1522/3019 [00:32<00:28, 53.25it/s]"
     ]
    },
    {
     "name": "stdout",
     "output_type": "stream",
     "text": [
      "7.20819091796875\n"
     ]
    },
    {
     "name": "stderr",
     "output_type": "stream",
     "text": [
      " 54%|██████████████████████████▎                      | 1621/3019 [00:34<00:25, 54.13it/s]"
     ]
    },
    {
     "name": "stdout",
     "output_type": "stream",
     "text": [
      "6.948866367340088\n"
     ]
    },
    {
     "name": "stderr",
     "output_type": "stream",
     "text": [
      " 57%|███████████████████████████▉                     | 1722/3019 [00:36<00:24, 53.45it/s]"
     ]
    },
    {
     "name": "stdout",
     "output_type": "stream",
     "text": [
      "10.00713062286377\n"
     ]
    },
    {
     "name": "stderr",
     "output_type": "stream",
     "text": [
      " 60%|█████████████████████████████▌                   | 1821/3019 [00:38<00:21, 54.62it/s]"
     ]
    },
    {
     "name": "stdout",
     "output_type": "stream",
     "text": [
      "3.2682836055755615\n"
     ]
    },
    {
     "name": "stderr",
     "output_type": "stream",
     "text": [
      " 64%|███████████████████████████████▏                 | 1922/3019 [00:40<00:20, 53.06it/s]"
     ]
    },
    {
     "name": "stdout",
     "output_type": "stream",
     "text": [
      "6.442442893981934\n"
     ]
    },
    {
     "name": "stderr",
     "output_type": "stream",
     "text": [
      " 67%|████████████████████████████████▊                | 2021/3019 [00:43<00:18, 53.82it/s]"
     ]
    },
    {
     "name": "stdout",
     "output_type": "stream",
     "text": [
      "6.115901947021484\n"
     ]
    },
    {
     "name": "stderr",
     "output_type": "stream",
     "text": [
      " 70%|██████████████████████████████████▍              | 2121/3019 [00:45<00:17, 52.16it/s]"
     ]
    },
    {
     "name": "stdout",
     "output_type": "stream",
     "text": [
      "6.153189659118652\n"
     ]
    },
    {
     "name": "stderr",
     "output_type": "stream",
     "text": [
      " 74%|████████████████████████████████████             | 2221/3019 [00:47<00:15, 53.05it/s]"
     ]
    },
    {
     "name": "stdout",
     "output_type": "stream",
     "text": [
      "10.056564331054688\n"
     ]
    },
    {
     "name": "stderr",
     "output_type": "stream",
     "text": [
      " 77%|█████████████████████████████████████▋           | 2321/3019 [00:49<00:13, 52.91it/s]"
     ]
    },
    {
     "name": "stdout",
     "output_type": "stream",
     "text": [
      "7.401577949523926\n"
     ]
    },
    {
     "name": "stderr",
     "output_type": "stream",
     "text": [
      " 80%|███████████████████████████████████████▎         | 2422/3019 [00:51<00:11, 51.20it/s]"
     ]
    },
    {
     "name": "stdout",
     "output_type": "stream",
     "text": [
      "8.236882209777832\n"
     ]
    },
    {
     "name": "stderr",
     "output_type": "stream",
     "text": [
      " 84%|████████████████████████████████████████▉        | 2522/3019 [00:54<00:09, 53.47it/s]"
     ]
    },
    {
     "name": "stdout",
     "output_type": "stream",
     "text": [
      "10.228537559509277\n"
     ]
    },
    {
     "name": "stderr",
     "output_type": "stream",
     "text": [
      " 87%|██████████████████████████████████████████▌      | 2621/3019 [00:56<00:07, 54.09it/s]"
     ]
    },
    {
     "name": "stdout",
     "output_type": "stream",
     "text": [
      "3.2517192363739014\n"
     ]
    },
    {
     "name": "stderr",
     "output_type": "stream",
     "text": [
      " 90%|████████████████████████████████████████████▏    | 2722/3019 [00:58<00:05, 53.47it/s]"
     ]
    },
    {
     "name": "stdout",
     "output_type": "stream",
     "text": [
      "5.393994331359863\n"
     ]
    },
    {
     "name": "stderr",
     "output_type": "stream",
     "text": [
      " 93%|█████████████████████████████████████████████▊   | 2821/3019 [01:00<00:03, 54.45it/s]"
     ]
    },
    {
     "name": "stdout",
     "output_type": "stream",
     "text": [
      "7.812224388122559\n"
     ]
    },
    {
     "name": "stderr",
     "output_type": "stream",
     "text": [
      " 97%|███████████████████████████████████████████████▍ | 2922/3019 [01:02<00:01, 53.31it/s]"
     ]
    },
    {
     "name": "stdout",
     "output_type": "stream",
     "text": [
      "11.028300285339355\n"
     ]
    },
    {
     "name": "stderr",
     "output_type": "stream",
     "text": [
      "100%|█████████████████████████████████████████████████| 3019/3019 [01:04<00:00, 46.66it/s]"
     ]
    },
    {
     "name": "stdout",
     "output_type": "stream",
     "text": [
      "4.910494327545166\n"
     ]
    },
    {
     "name": "stderr",
     "output_type": "stream",
     "text": [
      "\n"
     ]
    },
    {
     "name": "stdout",
     "output_type": "stream",
     "text": [
      "Epoch [2/10], Loss: 6.1298\n",
      "epoch 2\n"
     ]
    },
    {
     "name": "stderr",
     "output_type": "stream",
     "text": [
      "  1%|▎                                                 | 21/3019 [00:00<00:16, 182.62it/s]"
     ]
    },
    {
     "name": "stdout",
     "output_type": "stream",
     "text": [
      "7.347874164581299\n"
     ]
    },
    {
     "name": "stderr",
     "output_type": "stream",
     "text": [
      "  4%|██                                                | 122/3019 [00:02<00:55, 52.60it/s]"
     ]
    },
    {
     "name": "stdout",
     "output_type": "stream",
     "text": [
      "6.321597099304199\n"
     ]
    },
    {
     "name": "stderr",
     "output_type": "stream",
     "text": [
      "  7%|███▋                                              | 221/3019 [00:04<00:51, 54.12it/s]"
     ]
    },
    {
     "name": "stdout",
     "output_type": "stream",
     "text": [
      "3.9537861347198486\n"
     ]
    },
    {
     "name": "stderr",
     "output_type": "stream",
     "text": [
      " 11%|█████▎                                            | 322/3019 [00:06<00:51, 52.51it/s]"
     ]
    },
    {
     "name": "stdout",
     "output_type": "stream",
     "text": [
      "4.614434242248535\n"
     ]
    },
    {
     "name": "stderr",
     "output_type": "stream",
     "text": [
      " 14%|██████▉                                           | 421/3019 [00:08<00:48, 53.84it/s]"
     ]
    },
    {
     "name": "stdout",
     "output_type": "stream",
     "text": [
      "3.6321725845336914\n"
     ]
    },
    {
     "name": "stderr",
     "output_type": "stream",
     "text": [
      " 17%|████████▋                                         | 522/3019 [00:10<00:46, 53.20it/s]"
     ]
    },
    {
     "name": "stdout",
     "output_type": "stream",
     "text": [
      "8.576119422912598\n"
     ]
    },
    {
     "name": "stderr",
     "output_type": "stream",
     "text": [
      " 21%|██████████▎                                       | 621/3019 [00:13<00:44, 54.36it/s]"
     ]
    },
    {
     "name": "stdout",
     "output_type": "stream",
     "text": [
      "6.226738929748535\n"
     ]
    },
    {
     "name": "stderr",
     "output_type": "stream",
     "text": [
      " 24%|███████████▉                                      | 722/3019 [00:15<00:43, 53.30it/s]"
     ]
    },
    {
     "name": "stdout",
     "output_type": "stream",
     "text": [
      "6.3541693687438965\n"
     ]
    },
    {
     "name": "stderr",
     "output_type": "stream",
     "text": [
      " 27%|█████████████▌                                    | 821/3019 [00:17<00:40, 54.00it/s]"
     ]
    },
    {
     "name": "stdout",
     "output_type": "stream",
     "text": [
      "8.695263862609863\n"
     ]
    },
    {
     "name": "stderr",
     "output_type": "stream",
     "text": [
      " 31%|███████████████▎                                  | 922/3019 [00:19<00:39, 53.06it/s]"
     ]
    },
    {
     "name": "stdout",
     "output_type": "stream",
     "text": [
      "6.481634616851807\n"
     ]
    },
    {
     "name": "stderr",
     "output_type": "stream",
     "text": [
      " 34%|████████████████▌                                | 1021/3019 [00:21<00:37, 53.99it/s]"
     ]
    },
    {
     "name": "stdout",
     "output_type": "stream",
     "text": [
      "9.446836471557617\n"
     ]
    },
    {
     "name": "stderr",
     "output_type": "stream",
     "text": [
      " 37%|██████████████████▏                              | 1121/3019 [00:23<00:35, 53.77it/s]"
     ]
    },
    {
     "name": "stdout",
     "output_type": "stream",
     "text": [
      "2.102203607559204\n"
     ]
    },
    {
     "name": "stderr",
     "output_type": "stream",
     "text": [
      " 40%|███████████████████▊                             | 1221/3019 [00:26<00:33, 54.19it/s]"
     ]
    },
    {
     "name": "stdout",
     "output_type": "stream",
     "text": [
      "5.672794342041016\n"
     ]
    },
    {
     "name": "stderr",
     "output_type": "stream",
     "text": [
      " 44%|█████████████████████▍                           | 1321/3019 [00:28<00:31, 53.30it/s]"
     ]
    },
    {
     "name": "stdout",
     "output_type": "stream",
     "text": [
      "9.2799072265625\n"
     ]
    },
    {
     "name": "stderr",
     "output_type": "stream",
     "text": [
      " 47%|███████████████████████                          | 1421/3019 [00:30<00:29, 53.94it/s]"
     ]
    },
    {
     "name": "stdout",
     "output_type": "stream",
     "text": [
      "9.210540771484375\n"
     ]
    },
    {
     "name": "stderr",
     "output_type": "stream",
     "text": [
      " 50%|████████████████████████▋                        | 1521/3019 [00:32<00:27, 53.68it/s]"
     ]
    },
    {
     "name": "stdout",
     "output_type": "stream",
     "text": [
      "7.087265491485596\n"
     ]
    },
    {
     "name": "stderr",
     "output_type": "stream",
     "text": [
      " 54%|██████████████████████████▎                      | 1621/3019 [00:34<00:26, 53.52it/s]"
     ]
    },
    {
     "name": "stdout",
     "output_type": "stream",
     "text": [
      "6.9098968505859375\n"
     ]
    },
    {
     "name": "stderr",
     "output_type": "stream",
     "text": [
      " 57%|███████████████████████████▉                     | 1721/3019 [00:36<00:23, 54.35it/s]"
     ]
    },
    {
     "name": "stdout",
     "output_type": "stream",
     "text": [
      "9.246781349182129\n"
     ]
    },
    {
     "name": "stderr",
     "output_type": "stream",
     "text": [
      " 60%|█████████████████████████████▌                   | 1821/3019 [00:39<00:22, 54.07it/s]"
     ]
    },
    {
     "name": "stdout",
     "output_type": "stream",
     "text": [
      "3.1356797218322754\n"
     ]
    },
    {
     "name": "stderr",
     "output_type": "stream",
     "text": [
      " 64%|███████████████████████████████▏                 | 1921/3019 [00:41<00:20, 53.21it/s]"
     ]
    },
    {
     "name": "stdout",
     "output_type": "stream",
     "text": [
      "6.275660514831543\n"
     ]
    },
    {
     "name": "stderr",
     "output_type": "stream",
     "text": [
      " 67%|████████████████████████████████▊                | 2021/3019 [00:43<00:19, 51.68it/s]"
     ]
    },
    {
     "name": "stdout",
     "output_type": "stream",
     "text": [
      "6.023571014404297\n"
     ]
    },
    {
     "name": "stderr",
     "output_type": "stream",
     "text": [
      " 70%|██████████████████████████████████▍              | 2121/3019 [00:45<00:17, 50.41it/s]"
     ]
    },
    {
     "name": "stdout",
     "output_type": "stream",
     "text": [
      "6.0090532302856445\n"
     ]
    },
    {
     "name": "stderr",
     "output_type": "stream",
     "text": [
      " 74%|████████████████████████████████████             | 2221/3019 [00:47<00:15, 53.13it/s]"
     ]
    },
    {
     "name": "stdout",
     "output_type": "stream",
     "text": [
      "9.44960880279541\n"
     ]
    },
    {
     "name": "stderr",
     "output_type": "stream",
     "text": [
      " 77%|█████████████████████████████████████▋           | 2321/3019 [00:50<00:13, 53.63it/s]"
     ]
    },
    {
     "name": "stdout",
     "output_type": "stream",
     "text": [
      "7.222307205200195\n"
     ]
    },
    {
     "name": "stderr",
     "output_type": "stream",
     "text": [
      " 80%|███████████████████████████████████████▎         | 2421/3019 [00:52<00:11, 53.74it/s]"
     ]
    },
    {
     "name": "stdout",
     "output_type": "stream",
     "text": [
      "8.151721954345703\n"
     ]
    },
    {
     "name": "stderr",
     "output_type": "stream",
     "text": [
      " 84%|████████████████████████████████████████▉        | 2521/3019 [00:54<00:09, 54.39it/s]"
     ]
    },
    {
     "name": "stdout",
     "output_type": "stream",
     "text": [
      "9.565282821655273\n"
     ]
    },
    {
     "name": "stderr",
     "output_type": "stream",
     "text": [
      " 87%|██████████████████████████████████████████▌      | 2621/3019 [00:56<00:07, 53.45it/s]"
     ]
    },
    {
     "name": "stdout",
     "output_type": "stream",
     "text": [
      "3.2201948165893555\n"
     ]
    },
    {
     "name": "stderr",
     "output_type": "stream",
     "text": [
      " 90%|████████████████████████████████████████████▏    | 2721/3019 [00:58<00:05, 54.47it/s]"
     ]
    },
    {
     "name": "stdout",
     "output_type": "stream",
     "text": [
      "5.39705753326416\n"
     ]
    },
    {
     "name": "stderr",
     "output_type": "stream",
     "text": [
      " 93%|█████████████████████████████████████████████▊   | 2821/3019 [01:00<00:03, 50.31it/s]"
     ]
    },
    {
     "name": "stdout",
     "output_type": "stream",
     "text": [
      "7.022452354431152\n"
     ]
    },
    {
     "name": "stderr",
     "output_type": "stream",
     "text": [
      " 97%|███████████████████████████████████████████████▍ | 2922/3019 [01:03<00:01, 53.14it/s]"
     ]
    },
    {
     "name": "stdout",
     "output_type": "stream",
     "text": [
      "10.220866203308105\n"
     ]
    },
    {
     "name": "stderr",
     "output_type": "stream",
     "text": [
      "100%|█████████████████████████████████████████████████| 3019/3019 [01:05<00:00, 46.29it/s]"
     ]
    },
    {
     "name": "stdout",
     "output_type": "stream",
     "text": [
      "4.941470623016357\n"
     ]
    },
    {
     "name": "stderr",
     "output_type": "stream",
     "text": [
      "\n"
     ]
    },
    {
     "name": "stdout",
     "output_type": "stream",
     "text": [
      "Epoch [3/10], Loss: 5.9888\n",
      "epoch 3\n"
     ]
    },
    {
     "name": "stderr",
     "output_type": "stream",
     "text": [
      "  1%|▎                                                 | 21/3019 [00:00<00:15, 189.72it/s]"
     ]
    },
    {
     "name": "stdout",
     "output_type": "stream",
     "text": [
      "7.201307773590088\n"
     ]
    },
    {
     "name": "stderr",
     "output_type": "stream",
     "text": [
      "  4%|██                                                | 121/3019 [00:02<00:54, 52.76it/s]"
     ]
    },
    {
     "name": "stdout",
     "output_type": "stream",
     "text": [
      "6.2156548500061035\n"
     ]
    },
    {
     "name": "stderr",
     "output_type": "stream",
     "text": [
      "  7%|███▋                                              | 221/3019 [00:04<00:53, 52.50it/s]"
     ]
    },
    {
     "name": "stdout",
     "output_type": "stream",
     "text": [
      "3.9432878494262695\n"
     ]
    },
    {
     "name": "stderr",
     "output_type": "stream",
     "text": [
      " 11%|█████▎                                            | 321/3019 [00:06<00:51, 52.33it/s]"
     ]
    },
    {
     "name": "stdout",
     "output_type": "stream",
     "text": [
      "4.546546459197998\n"
     ]
    },
    {
     "name": "stderr",
     "output_type": "stream",
     "text": [
      " 14%|██████▉                                           | 421/3019 [00:08<00:49, 52.77it/s]"
     ]
    },
    {
     "name": "stdout",
     "output_type": "stream",
     "text": [
      "3.525007724761963\n"
     ]
    },
    {
     "name": "stderr",
     "output_type": "stream",
     "text": [
      " 17%|████████▋                                         | 521/3019 [00:10<00:46, 53.60it/s]"
     ]
    },
    {
     "name": "stdout",
     "output_type": "stream",
     "text": [
      "8.485221862792969\n"
     ]
    },
    {
     "name": "stderr",
     "output_type": "stream",
     "text": [
      " 21%|██████████▎                                       | 621/3019 [00:13<00:45, 52.99it/s]"
     ]
    },
    {
     "name": "stdout",
     "output_type": "stream",
     "text": [
      "6.03612756729126\n"
     ]
    },
    {
     "name": "stderr",
     "output_type": "stream",
     "text": [
      " 24%|███████████▉                                      | 721/3019 [00:15<00:43, 52.38it/s]"
     ]
    },
    {
     "name": "stdout",
     "output_type": "stream",
     "text": [
      "6.32828426361084\n"
     ]
    },
    {
     "name": "stderr",
     "output_type": "stream",
     "text": [
      " 27%|█████████████▌                                    | 821/3019 [00:17<00:41, 52.46it/s]"
     ]
    },
    {
     "name": "stdout",
     "output_type": "stream",
     "text": [
      "8.508553504943848\n"
     ]
    },
    {
     "name": "stderr",
     "output_type": "stream",
     "text": [
      " 31%|███████████████▎                                  | 921/3019 [00:19<00:39, 53.61it/s]"
     ]
    },
    {
     "name": "stdout",
     "output_type": "stream",
     "text": [
      "6.456733226776123\n"
     ]
    },
    {
     "name": "stderr",
     "output_type": "stream",
     "text": [
      " 34%|████████████████▌                                | 1021/3019 [00:21<00:37, 52.60it/s]"
     ]
    },
    {
     "name": "stdout",
     "output_type": "stream",
     "text": [
      "8.977384567260742\n"
     ]
    },
    {
     "name": "stderr",
     "output_type": "stream",
     "text": [
      " 37%|██████████████████▏                              | 1121/3019 [00:23<00:36, 52.46it/s]"
     ]
    },
    {
     "name": "stdout",
     "output_type": "stream",
     "text": [
      "2.1185953617095947\n"
     ]
    },
    {
     "name": "stderr",
     "output_type": "stream",
     "text": [
      " 40%|███████████████████▊                             | 1221/3019 [00:25<00:33, 52.93it/s]"
     ]
    },
    {
     "name": "stdout",
     "output_type": "stream",
     "text": [
      "5.66642951965332\n"
     ]
    },
    {
     "name": "stderr",
     "output_type": "stream",
     "text": [
      " 44%|█████████████████████▍                           | 1321/3019 [00:28<00:31, 53.09it/s]"
     ]
    },
    {
     "name": "stdout",
     "output_type": "stream",
     "text": [
      "8.835129737854004\n"
     ]
    },
    {
     "name": "stderr",
     "output_type": "stream",
     "text": [
      " 47%|███████████████████████                          | 1421/3019 [00:30<00:30, 53.20it/s]"
     ]
    },
    {
     "name": "stdout",
     "output_type": "stream",
     "text": [
      "8.672625541687012\n"
     ]
    },
    {
     "name": "stderr",
     "output_type": "stream",
     "text": [
      " 50%|████████████████████████▋                        | 1521/3019 [00:32<00:28, 52.01it/s]"
     ]
    },
    {
     "name": "stdout",
     "output_type": "stream",
     "text": [
      "6.963284492492676\n"
     ]
    },
    {
     "name": "stderr",
     "output_type": "stream",
     "text": [
      " 54%|██████████████████████████▎                      | 1621/3019 [00:34<00:27, 51.41it/s]"
     ]
    },
    {
     "name": "stdout",
     "output_type": "stream",
     "text": [
      "6.847848415374756\n"
     ]
    },
    {
     "name": "stderr",
     "output_type": "stream",
     "text": [
      " 57%|███████████████████████████▉                     | 1721/3019 [00:36<00:25, 51.56it/s]"
     ]
    },
    {
     "name": "stdout",
     "output_type": "stream",
     "text": [
      "8.818192481994629\n"
     ]
    },
    {
     "name": "stderr",
     "output_type": "stream",
     "text": [
      " 60%|█████████████████████████████▌                   | 1821/3019 [00:39<00:23, 50.64it/s]"
     ]
    },
    {
     "name": "stdout",
     "output_type": "stream",
     "text": [
      "3.0116126537323\n"
     ]
    },
    {
     "name": "stderr",
     "output_type": "stream",
     "text": [
      " 64%|███████████████████████████████▏                 | 1921/3019 [00:41<00:22, 49.77it/s]"
     ]
    },
    {
     "name": "stdout",
     "output_type": "stream",
     "text": [
      "6.149281978607178\n"
     ]
    },
    {
     "name": "stderr",
     "output_type": "stream",
     "text": [
      " 67%|████████████████████████████████▊                | 2021/3019 [00:43<00:19, 50.58it/s]"
     ]
    },
    {
     "name": "stdout",
     "output_type": "stream",
     "text": [
      "5.896614074707031\n"
     ]
    },
    {
     "name": "stderr",
     "output_type": "stream",
     "text": [
      " 70%|██████████████████████████████████▍              | 2121/3019 [00:45<00:17, 52.12it/s]"
     ]
    },
    {
     "name": "stdout",
     "output_type": "stream",
     "text": [
      "5.866583824157715\n"
     ]
    },
    {
     "name": "stderr",
     "output_type": "stream",
     "text": [
      " 74%|████████████████████████████████████             | 2221/3019 [00:48<00:14, 53.38it/s]"
     ]
    },
    {
     "name": "stdout",
     "output_type": "stream",
     "text": [
      "8.996143341064453\n"
     ]
    },
    {
     "name": "stderr",
     "output_type": "stream",
     "text": [
      " 77%|█████████████████████████████████████▋           | 2321/3019 [00:50<00:13, 53.25it/s]"
     ]
    },
    {
     "name": "stdout",
     "output_type": "stream",
     "text": [
      "7.030572414398193\n"
     ]
    },
    {
     "name": "stderr",
     "output_type": "stream",
     "text": [
      " 80%|███████████████████████████████████████▎         | 2421/3019 [00:52<00:11, 52.89it/s]"
     ]
    },
    {
     "name": "stdout",
     "output_type": "stream",
     "text": [
      "8.087370872497559\n"
     ]
    },
    {
     "name": "stderr",
     "output_type": "stream",
     "text": [
      " 84%|████████████████████████████████████████▉        | 2521/3019 [00:54<00:09, 53.55it/s]"
     ]
    },
    {
     "name": "stdout",
     "output_type": "stream",
     "text": [
      "9.064264297485352\n"
     ]
    },
    {
     "name": "stderr",
     "output_type": "stream",
     "text": [
      " 87%|██████████████████████████████████████████▌      | 2621/3019 [00:56<00:07, 53.57it/s]"
     ]
    },
    {
     "name": "stdout",
     "output_type": "stream",
     "text": [
      "3.180727958679199\n"
     ]
    },
    {
     "name": "stderr",
     "output_type": "stream",
     "text": [
      " 90%|████████████████████████████████████████████▏    | 2721/3019 [00:58<00:05, 53.62it/s]"
     ]
    },
    {
     "name": "stdout",
     "output_type": "stream",
     "text": [
      "5.321279525756836\n"
     ]
    },
    {
     "name": "stderr",
     "output_type": "stream",
     "text": [
      " 93%|█████████████████████████████████████████████▊   | 2821/3019 [01:00<00:03, 54.74it/s]"
     ]
    },
    {
     "name": "stdout",
     "output_type": "stream",
     "text": [
      "6.736977577209473\n"
     ]
    },
    {
     "name": "stderr",
     "output_type": "stream",
     "text": [
      " 97%|███████████████████████████████████████████████▍ | 2921/3019 [01:03<00:01, 53.89it/s]"
     ]
    },
    {
     "name": "stdout",
     "output_type": "stream",
     "text": [
      "9.453795433044434\n"
     ]
    },
    {
     "name": "stderr",
     "output_type": "stream",
     "text": [
      "100%|█████████████████████████████████████████████████| 3019/3019 [01:05<00:00, 46.34it/s]"
     ]
    },
    {
     "name": "stdout",
     "output_type": "stream",
     "text": [
      "4.950602054595947\n"
     ]
    },
    {
     "name": "stderr",
     "output_type": "stream",
     "text": [
      "\n"
     ]
    },
    {
     "name": "stdout",
     "output_type": "stream",
     "text": [
      "Epoch [4/10], Loss: 5.8632\n",
      "epoch 4\n"
     ]
    },
    {
     "name": "stderr",
     "output_type": "stream",
     "text": [
      "  1%|▎                                                 | 21/3019 [00:00<00:15, 187.83it/s]"
     ]
    },
    {
     "name": "stdout",
     "output_type": "stream",
     "text": [
      "7.003539562225342\n"
     ]
    },
    {
     "name": "stderr",
     "output_type": "stream",
     "text": [
      "  4%|██                                                | 121/3019 [00:02<00:54, 53.61it/s]"
     ]
    },
    {
     "name": "stdout",
     "output_type": "stream",
     "text": [
      "6.0985002517700195\n"
     ]
    },
    {
     "name": "stderr",
     "output_type": "stream",
     "text": [
      "  7%|███▋                                              | 221/3019 [00:04<00:51, 54.33it/s]"
     ]
    },
    {
     "name": "stdout",
     "output_type": "stream",
     "text": [
      "3.928828239440918\n"
     ]
    },
    {
     "name": "stderr",
     "output_type": "stream",
     "text": [
      " 11%|█████▎                                            | 321/3019 [00:06<00:49, 54.53it/s]"
     ]
    },
    {
     "name": "stdout",
     "output_type": "stream",
     "text": [
      "4.472568511962891\n"
     ]
    },
    {
     "name": "stderr",
     "output_type": "stream",
     "text": [
      " 14%|██████▉                                           | 421/3019 [00:08<00:49, 52.90it/s]"
     ]
    },
    {
     "name": "stdout",
     "output_type": "stream",
     "text": [
      "3.331671714782715\n"
     ]
    },
    {
     "name": "stderr",
     "output_type": "stream",
     "text": [
      " 17%|████████▋                                         | 521/3019 [00:10<00:46, 53.62it/s]"
     ]
    },
    {
     "name": "stdout",
     "output_type": "stream",
     "text": [
      "8.355520248413086\n"
     ]
    },
    {
     "name": "stderr",
     "output_type": "stream",
     "text": [
      " 21%|██████████▎                                       | 621/3019 [00:13<00:45, 52.63it/s]"
     ]
    },
    {
     "name": "stdout",
     "output_type": "stream",
     "text": [
      "5.800446510314941\n"
     ]
    },
    {
     "name": "stderr",
     "output_type": "stream",
     "text": [
      " 24%|███████████▉                                      | 721/3019 [00:15<00:43, 53.29it/s]"
     ]
    },
    {
     "name": "stdout",
     "output_type": "stream",
     "text": [
      "6.253820419311523\n"
     ]
    },
    {
     "name": "stderr",
     "output_type": "stream",
     "text": [
      " 27%|█████████████▌                                    | 821/3019 [00:17<00:41, 53.01it/s]"
     ]
    },
    {
     "name": "stdout",
     "output_type": "stream",
     "text": [
      "8.362748146057129\n"
     ]
    },
    {
     "name": "stderr",
     "output_type": "stream",
     "text": [
      " 31%|███████████████▎                                  | 921/3019 [00:19<00:40, 52.28it/s]"
     ]
    },
    {
     "name": "stdout",
     "output_type": "stream",
     "text": [
      "6.438010215759277\n"
     ]
    },
    {
     "name": "stderr",
     "output_type": "stream",
     "text": [
      " 34%|████████████████▌                                | 1021/3019 [00:21<00:37, 52.87it/s]"
     ]
    },
    {
     "name": "stdout",
     "output_type": "stream",
     "text": [
      "8.659896850585938\n"
     ]
    },
    {
     "name": "stderr",
     "output_type": "stream",
     "text": [
      " 37%|██████████████████▏                              | 1121/3019 [00:23<00:35, 53.42it/s]"
     ]
    },
    {
     "name": "stdout",
     "output_type": "stream",
     "text": [
      "2.0760698318481445\n"
     ]
    },
    {
     "name": "stderr",
     "output_type": "stream",
     "text": [
      " 40%|███████████████████▊                             | 1221/3019 [00:25<00:33, 53.55it/s]"
     ]
    },
    {
     "name": "stdout",
     "output_type": "stream",
     "text": [
      "5.683427333831787\n"
     ]
    },
    {
     "name": "stderr",
     "output_type": "stream",
     "text": [
      " 44%|█████████████████████▍                           | 1321/3019 [00:28<00:32, 52.62it/s]"
     ]
    },
    {
     "name": "stdout",
     "output_type": "stream",
     "text": [
      "8.526704788208008\n"
     ]
    },
    {
     "name": "stderr",
     "output_type": "stream",
     "text": [
      " 47%|███████████████████████                          | 1422/3019 [00:30<00:30, 53.19it/s]"
     ]
    },
    {
     "name": "stdout",
     "output_type": "stream",
     "text": [
      "8.270748138427734\n"
     ]
    },
    {
     "name": "stderr",
     "output_type": "stream",
     "text": [
      " 50%|████████████████████████▋                        | 1521/3019 [00:32<00:29, 50.30it/s]"
     ]
    },
    {
     "name": "stdout",
     "output_type": "stream",
     "text": [
      "6.821808815002441\n"
     ]
    },
    {
     "name": "stderr",
     "output_type": "stream",
     "text": [
      " 54%|██████████████████████████▎                      | 1621/3019 [00:34<00:26, 52.65it/s]"
     ]
    },
    {
     "name": "stdout",
     "output_type": "stream",
     "text": [
      "6.787380695343018\n"
     ]
    },
    {
     "name": "stderr",
     "output_type": "stream",
     "text": [
      " 57%|███████████████████████████▉                     | 1721/3019 [00:37<00:25, 50.09it/s]"
     ]
    },
    {
     "name": "stdout",
     "output_type": "stream",
     "text": [
      "8.533958435058594\n"
     ]
    },
    {
     "name": "stderr",
     "output_type": "stream",
     "text": [
      " 60%|█████████████████████████████▌                   | 1821/3019 [00:39<00:22, 53.33it/s]"
     ]
    },
    {
     "name": "stdout",
     "output_type": "stream",
     "text": [
      "2.86369252204895\n"
     ]
    },
    {
     "name": "stderr",
     "output_type": "stream",
     "text": [
      " 64%|███████████████████████████████▏                 | 1921/3019 [00:41<00:20, 53.49it/s]"
     ]
    },
    {
     "name": "stdout",
     "output_type": "stream",
     "text": [
      "6.015859603881836\n"
     ]
    },
    {
     "name": "stderr",
     "output_type": "stream",
     "text": [
      " 67%|████████████████████████████████▊                | 2021/3019 [00:43<00:18, 53.51it/s]"
     ]
    },
    {
     "name": "stdout",
     "output_type": "stream",
     "text": [
      "5.722857475280762\n"
     ]
    },
    {
     "name": "stderr",
     "output_type": "stream",
     "text": [
      " 70%|██████████████████████████████████▍              | 2121/3019 [00:45<00:17, 52.79it/s]"
     ]
    },
    {
     "name": "stdout",
     "output_type": "stream",
     "text": [
      "5.724057197570801\n"
     ]
    },
    {
     "name": "stderr",
     "output_type": "stream",
     "text": [
      " 74%|████████████████████████████████████             | 2221/3019 [00:47<00:14, 53.40it/s]"
     ]
    },
    {
     "name": "stdout",
     "output_type": "stream",
     "text": [
      "8.644861221313477\n"
     ]
    },
    {
     "name": "stderr",
     "output_type": "stream",
     "text": [
      " 77%|█████████████████████████████████████▋           | 2321/3019 [00:49<00:13, 53.40it/s]"
     ]
    },
    {
     "name": "stdout",
     "output_type": "stream",
     "text": [
      "6.852071762084961\n"
     ]
    },
    {
     "name": "stderr",
     "output_type": "stream",
     "text": [
      " 80%|███████████████████████████████████████▎         | 2421/3019 [00:52<00:10, 54.76it/s]"
     ]
    },
    {
     "name": "stdout",
     "output_type": "stream",
     "text": [
      "8.016700744628906\n"
     ]
    },
    {
     "name": "stderr",
     "output_type": "stream",
     "text": [
      " 84%|████████████████████████████████████████▉        | 2521/3019 [00:54<00:09, 53.38it/s]"
     ]
    },
    {
     "name": "stdout",
     "output_type": "stream",
     "text": [
      "8.69953441619873\n"
     ]
    },
    {
     "name": "stderr",
     "output_type": "stream",
     "text": [
      " 87%|██████████████████████████████████████████▌      | 2621/3019 [00:56<00:07, 54.78it/s]"
     ]
    },
    {
     "name": "stdout",
     "output_type": "stream",
     "text": [
      "3.132874011993408\n"
     ]
    },
    {
     "name": "stderr",
     "output_type": "stream",
     "text": [
      " 90%|████████████████████████████████████████████▏    | 2721/3019 [00:58<00:05, 53.83it/s]"
     ]
    },
    {
     "name": "stdout",
     "output_type": "stream",
     "text": [
      "5.165095329284668\n"
     ]
    },
    {
     "name": "stderr",
     "output_type": "stream",
     "text": [
      " 93%|█████████████████████████████████████████████▊   | 2821/3019 [01:00<00:03, 54.71it/s]"
     ]
    },
    {
     "name": "stdout",
     "output_type": "stream",
     "text": [
      "6.562404632568359\n"
     ]
    },
    {
     "name": "stderr",
     "output_type": "stream",
     "text": [
      " 97%|███████████████████████████████████████████████▍ | 2921/3019 [01:02<00:01, 53.80it/s]"
     ]
    },
    {
     "name": "stdout",
     "output_type": "stream",
     "text": [
      "8.826882362365723\n"
     ]
    },
    {
     "name": "stderr",
     "output_type": "stream",
     "text": [
      "100%|█████████████████████████████████████████████████| 3019/3019 [01:04<00:00, 46.55it/s]"
     ]
    },
    {
     "name": "stdout",
     "output_type": "stream",
     "text": [
      "4.962264060974121\n"
     ]
    },
    {
     "name": "stderr",
     "output_type": "stream",
     "text": [
      "\n"
     ]
    },
    {
     "name": "stdout",
     "output_type": "stream",
     "text": [
      "Epoch [5/10], Loss: 5.7366\n",
      "epoch 5\n"
     ]
    },
    {
     "name": "stderr",
     "output_type": "stream",
     "text": [
      "  1%|▎                                                 | 21/3019 [00:00<00:15, 189.81it/s]"
     ]
    },
    {
     "name": "stdout",
     "output_type": "stream",
     "text": [
      "6.731203079223633\n"
     ]
    },
    {
     "name": "stderr",
     "output_type": "stream",
     "text": [
      "  4%|██                                                | 121/3019 [00:02<00:54, 53.27it/s]"
     ]
    },
    {
     "name": "stdout",
     "output_type": "stream",
     "text": [
      "5.95680570602417\n"
     ]
    },
    {
     "name": "stderr",
     "output_type": "stream",
     "text": [
      "  7%|███▋                                              | 221/3019 [00:04<00:52, 53.67it/s]"
     ]
    },
    {
     "name": "stdout",
     "output_type": "stream",
     "text": [
      "3.913015127182007\n"
     ]
    },
    {
     "name": "stderr",
     "output_type": "stream",
     "text": [
      " 11%|█████▎                                            | 321/3019 [00:06<00:51, 52.89it/s]"
     ]
    },
    {
     "name": "stdout",
     "output_type": "stream",
     "text": [
      "4.39017391204834\n"
     ]
    },
    {
     "name": "stderr",
     "output_type": "stream",
     "text": [
      " 14%|██████▉                                           | 421/3019 [00:08<00:49, 52.96it/s]"
     ]
    },
    {
     "name": "stdout",
     "output_type": "stream",
     "text": [
      "3.0753705501556396\n"
     ]
    },
    {
     "name": "stderr",
     "output_type": "stream",
     "text": [
      " 17%|████████▋                                         | 521/3019 [00:10<00:46, 53.56it/s]"
     ]
    },
    {
     "name": "stdout",
     "output_type": "stream",
     "text": [
      "8.168975830078125\n"
     ]
    },
    {
     "name": "stderr",
     "output_type": "stream",
     "text": [
      " 21%|██████████▎                                       | 621/3019 [00:13<00:45, 52.47it/s]"
     ]
    },
    {
     "name": "stdout",
     "output_type": "stream",
     "text": [
      "5.494902610778809\n"
     ]
    },
    {
     "name": "stderr",
     "output_type": "stream",
     "text": [
      " 24%|███████████▉                                      | 721/3019 [00:15<00:42, 53.46it/s]"
     ]
    },
    {
     "name": "stdout",
     "output_type": "stream",
     "text": [
      "6.129286766052246\n"
     ]
    },
    {
     "name": "stderr",
     "output_type": "stream",
     "text": [
      " 27%|█████████████▌                                    | 821/3019 [00:17<00:41, 52.80it/s]"
     ]
    },
    {
     "name": "stdout",
     "output_type": "stream",
     "text": [
      "8.240874290466309\n"
     ]
    },
    {
     "name": "stderr",
     "output_type": "stream",
     "text": [
      " 31%|███████████████▎                                  | 921/3019 [00:19<00:39, 52.88it/s]"
     ]
    },
    {
     "name": "stdout",
     "output_type": "stream",
     "text": [
      "6.445594787597656\n"
     ]
    },
    {
     "name": "stderr",
     "output_type": "stream",
     "text": [
      " 34%|████████████████▌                                | 1022/3019 [00:21<00:39, 50.96it/s]"
     ]
    },
    {
     "name": "stdout",
     "output_type": "stream",
     "text": [
      "8.434523582458496\n"
     ]
    },
    {
     "name": "stderr",
     "output_type": "stream",
     "text": [
      " 37%|██████████████████▏                              | 1121/3019 [00:23<00:37, 50.13it/s]"
     ]
    },
    {
     "name": "stdout",
     "output_type": "stream",
     "text": [
      "1.972154974937439\n"
     ]
    },
    {
     "name": "stderr",
     "output_type": "stream",
     "text": [
      " 40%|███████████████████▊                             | 1221/3019 [00:26<00:34, 51.48it/s]"
     ]
    },
    {
     "name": "stdout",
     "output_type": "stream",
     "text": [
      "5.688590049743652\n"
     ]
    },
    {
     "name": "stderr",
     "output_type": "stream",
     "text": [
      " 44%|█████████████████████▍                           | 1321/3019 [00:28<00:33, 50.47it/s]"
     ]
    },
    {
     "name": "stdout",
     "output_type": "stream",
     "text": [
      "8.285442352294922\n"
     ]
    },
    {
     "name": "stderr",
     "output_type": "stream",
     "text": [
      " 47%|███████████████████████                          | 1421/3019 [00:30<00:31, 50.04it/s]"
     ]
    },
    {
     "name": "stdout",
     "output_type": "stream",
     "text": [
      "7.955873489379883\n"
     ]
    },
    {
     "name": "stderr",
     "output_type": "stream",
     "text": [
      " 50%|████████████████████████▋                        | 1521/3019 [00:33<00:28, 52.59it/s]"
     ]
    },
    {
     "name": "stdout",
     "output_type": "stream",
     "text": [
      "6.678776264190674\n"
     ]
    },
    {
     "name": "stderr",
     "output_type": "stream",
     "text": [
      " 54%|██████████████████████████▎                      | 1621/3019 [00:35<00:26, 52.53it/s]"
     ]
    },
    {
     "name": "stdout",
     "output_type": "stream",
     "text": [
      "6.747345447540283\n"
     ]
    },
    {
     "name": "stderr",
     "output_type": "stream",
     "text": [
      " 57%|███████████████████████████▉                     | 1721/3019 [00:37<00:24, 53.39it/s]"
     ]
    },
    {
     "name": "stdout",
     "output_type": "stream",
     "text": [
      "8.285117149353027\n"
     ]
    },
    {
     "name": "stderr",
     "output_type": "stream",
     "text": [
      " 60%|█████████████████████████████▌                   | 1821/3019 [00:39<00:22, 53.22it/s]"
     ]
    },
    {
     "name": "stdout",
     "output_type": "stream",
     "text": [
      "2.6815483570098877\n"
     ]
    },
    {
     "name": "stderr",
     "output_type": "stream",
     "text": [
      " 64%|███████████████████████████████▏                 | 1921/3019 [00:41<00:21, 50.90it/s]"
     ]
    },
    {
     "name": "stdout",
     "output_type": "stream",
     "text": [
      "5.872052192687988\n"
     ]
    },
    {
     "name": "stderr",
     "output_type": "stream",
     "text": [
      " 67%|████████████████████████████████▊                | 2021/3019 [00:43<00:19, 51.37it/s]"
     ]
    },
    {
     "name": "stdout",
     "output_type": "stream",
     "text": [
      "5.544182777404785\n"
     ]
    },
    {
     "name": "stderr",
     "output_type": "stream",
     "text": [
      " 70%|██████████████████████████████████▍              | 2121/3019 [00:46<00:17, 50.94it/s]"
     ]
    },
    {
     "name": "stdout",
     "output_type": "stream",
     "text": [
      "5.574755668640137\n"
     ]
    },
    {
     "name": "stderr",
     "output_type": "stream",
     "text": [
      " 74%|████████████████████████████████████             | 2222/3019 [00:48<00:15, 50.51it/s]"
     ]
    },
    {
     "name": "stdout",
     "output_type": "stream",
     "text": [
      "8.364692687988281\n"
     ]
    },
    {
     "name": "stderr",
     "output_type": "stream",
     "text": [
      " 77%|█████████████████████████████████████▋           | 2321/3019 [00:50<00:12, 53.88it/s]"
     ]
    },
    {
     "name": "stdout",
     "output_type": "stream",
     "text": [
      "6.701681613922119\n"
     ]
    },
    {
     "name": "stderr",
     "output_type": "stream",
     "text": [
      " 80%|███████████████████████████████████████▎         | 2421/3019 [00:52<00:11, 53.59it/s]"
     ]
    },
    {
     "name": "stdout",
     "output_type": "stream",
     "text": [
      "7.931663990020752\n"
     ]
    },
    {
     "name": "stderr",
     "output_type": "stream",
     "text": [
      " 84%|████████████████████████████████████████▉        | 2521/3019 [00:54<00:09, 54.22it/s]"
     ]
    },
    {
     "name": "stdout",
     "output_type": "stream",
     "text": [
      "8.407367706298828\n"
     ]
    },
    {
     "name": "stderr",
     "output_type": "stream",
     "text": [
      " 87%|██████████████████████████████████████████▌      | 2621/3019 [00:57<00:07, 53.71it/s]"
     ]
    },
    {
     "name": "stdout",
     "output_type": "stream",
     "text": [
      "3.022704601287842\n"
     ]
    },
    {
     "name": "stderr",
     "output_type": "stream",
     "text": [
      " 90%|████████████████████████████████████████████▏    | 2721/3019 [00:59<00:05, 53.93it/s]"
     ]
    },
    {
     "name": "stdout",
     "output_type": "stream",
     "text": [
      "5.002985954284668\n"
     ]
    },
    {
     "name": "stderr",
     "output_type": "stream",
     "text": [
      " 93%|█████████████████████████████████████████████▊   | 2821/3019 [01:01<00:03, 53.40it/s]"
     ]
    },
    {
     "name": "stdout",
     "output_type": "stream",
     "text": [
      "6.386857986450195\n"
     ]
    },
    {
     "name": "stderr",
     "output_type": "stream",
     "text": [
      " 97%|███████████████████████████████████████████████▍ | 2921/3019 [01:03<00:01, 54.53it/s]"
     ]
    },
    {
     "name": "stdout",
     "output_type": "stream",
     "text": [
      "8.313516616821289\n"
     ]
    },
    {
     "name": "stderr",
     "output_type": "stream",
     "text": [
      "100%|█████████████████████████████████████████████████| 3019/3019 [01:05<00:00, 46.00it/s]"
     ]
    },
    {
     "name": "stdout",
     "output_type": "stream",
     "text": [
      "4.980915546417236\n"
     ]
    },
    {
     "name": "stderr",
     "output_type": "stream",
     "text": [
      "\n"
     ]
    },
    {
     "name": "stdout",
     "output_type": "stream",
     "text": [
      "Epoch [6/10], Loss: 5.6318\n",
      "epoch 6\n"
     ]
    },
    {
     "name": "stderr",
     "output_type": "stream",
     "text": [
      "  1%|▎                                                 | 21/3019 [00:00<00:15, 193.98it/s]"
     ]
    },
    {
     "name": "stdout",
     "output_type": "stream",
     "text": [
      "6.479714870452881\n"
     ]
    },
    {
     "name": "stderr",
     "output_type": "stream",
     "text": [
      "  4%|██                                                | 121/3019 [00:02<00:54, 53.06it/s]"
     ]
    },
    {
     "name": "stdout",
     "output_type": "stream",
     "text": [
      "5.830029010772705\n"
     ]
    },
    {
     "name": "stderr",
     "output_type": "stream",
     "text": [
      "  7%|███▋                                              | 221/3019 [00:04<00:52, 53.37it/s]"
     ]
    },
    {
     "name": "stdout",
     "output_type": "stream",
     "text": [
      "3.897350788116455\n"
     ]
    },
    {
     "name": "stderr",
     "output_type": "stream",
     "text": [
      " 11%|█████▎                                            | 321/3019 [00:06<00:50, 53.44it/s]"
     ]
    },
    {
     "name": "stdout",
     "output_type": "stream",
     "text": [
      "4.327633857727051\n"
     ]
    },
    {
     "name": "stderr",
     "output_type": "stream",
     "text": [
      " 14%|██████▉                                           | 421/3019 [00:08<00:48, 53.07it/s]"
     ]
    },
    {
     "name": "stdout",
     "output_type": "stream",
     "text": [
      "2.799675941467285\n"
     ]
    },
    {
     "name": "stderr",
     "output_type": "stream",
     "text": [
      " 17%|████████▋                                         | 521/3019 [00:10<00:46, 54.25it/s]"
     ]
    },
    {
     "name": "stdout",
     "output_type": "stream",
     "text": [
      "7.9109907150268555\n"
     ]
    },
    {
     "name": "stderr",
     "output_type": "stream",
     "text": [
      " 21%|██████████▎                                       | 621/3019 [00:12<00:44, 53.74it/s]"
     ]
    },
    {
     "name": "stdout",
     "output_type": "stream",
     "text": [
      "5.119419574737549\n"
     ]
    },
    {
     "name": "stderr",
     "output_type": "stream",
     "text": [
      " 24%|███████████▉                                      | 721/3019 [00:15<00:42, 54.14it/s]"
     ]
    },
    {
     "name": "stdout",
     "output_type": "stream",
     "text": [
      "5.959661483764648\n"
     ]
    },
    {
     "name": "stderr",
     "output_type": "stream",
     "text": [
      " 27%|█████████████▌                                    | 821/3019 [00:17<00:40, 54.49it/s]"
     ]
    },
    {
     "name": "stdout",
     "output_type": "stream",
     "text": [
      "8.10384464263916\n"
     ]
    },
    {
     "name": "stderr",
     "output_type": "stream",
     "text": [
      " 31%|███████████████▎                                  | 921/3019 [00:19<00:40, 51.86it/s]"
     ]
    },
    {
     "name": "stdout",
     "output_type": "stream",
     "text": [
      "6.47285270690918\n"
     ]
    },
    {
     "name": "stderr",
     "output_type": "stream",
     "text": [
      " 34%|████████████████▌                                | 1021/3019 [00:21<00:37, 52.77it/s]"
     ]
    },
    {
     "name": "stdout",
     "output_type": "stream",
     "text": [
      "8.249833106994629\n"
     ]
    },
    {
     "name": "stderr",
     "output_type": "stream",
     "text": [
      " 37%|██████████████████▏                              | 1121/3019 [00:23<00:36, 51.87it/s]"
     ]
    },
    {
     "name": "stdout",
     "output_type": "stream",
     "text": [
      "1.8323405981063843\n"
     ]
    },
    {
     "name": "stderr",
     "output_type": "stream",
     "text": [
      " 40%|███████████████████▊                             | 1221/3019 [00:26<00:34, 52.82it/s]"
     ]
    },
    {
     "name": "stdout",
     "output_type": "stream",
     "text": [
      "5.68227481842041\n"
     ]
    },
    {
     "name": "stderr",
     "output_type": "stream",
     "text": [
      " 44%|█████████████████████▍                           | 1321/3019 [00:28<00:31, 54.33it/s]"
     ]
    },
    {
     "name": "stdout",
     "output_type": "stream",
     "text": [
      "8.045705795288086\n"
     ]
    },
    {
     "name": "stderr",
     "output_type": "stream",
     "text": [
      " 47%|███████████████████████                          | 1421/3019 [00:30<00:29, 53.93it/s]"
     ]
    },
    {
     "name": "stdout",
     "output_type": "stream",
     "text": [
      "7.675932884216309\n"
     ]
    },
    {
     "name": "stderr",
     "output_type": "stream",
     "text": [
      " 50%|████████████████████████▋                        | 1521/3019 [00:32<00:27, 54.63it/s]"
     ]
    },
    {
     "name": "stdout",
     "output_type": "stream",
     "text": [
      "6.519760608673096\n"
     ]
    },
    {
     "name": "stderr",
     "output_type": "stream",
     "text": [
      " 54%|██████████████████████████▎                      | 1621/3019 [00:34<00:25, 53.90it/s]"
     ]
    },
    {
     "name": "stdout",
     "output_type": "stream",
     "text": [
      "6.709967613220215\n"
     ]
    },
    {
     "name": "stderr",
     "output_type": "stream",
     "text": [
      " 57%|███████████████████████████▉                     | 1721/3019 [00:36<00:23, 54.71it/s]"
     ]
    },
    {
     "name": "stdout",
     "output_type": "stream",
     "text": [
      "8.014190673828125\n"
     ]
    },
    {
     "name": "stderr",
     "output_type": "stream",
     "text": [
      " 60%|█████████████████████████████▌                   | 1821/3019 [00:38<00:22, 53.15it/s]"
     ]
    },
    {
     "name": "stdout",
     "output_type": "stream",
     "text": [
      "2.4165942668914795\n"
     ]
    },
    {
     "name": "stderr",
     "output_type": "stream",
     "text": [
      " 64%|███████████████████████████████▏                 | 1921/3019 [00:41<00:20, 54.34it/s]"
     ]
    },
    {
     "name": "stdout",
     "output_type": "stream",
     "text": [
      "5.7219743728637695\n"
     ]
    },
    {
     "name": "stderr",
     "output_type": "stream",
     "text": [
      " 67%|████████████████████████████████▊                | 2021/3019 [00:43<00:18, 52.78it/s]"
     ]
    },
    {
     "name": "stdout",
     "output_type": "stream",
     "text": [
      "5.386234283447266\n"
     ]
    },
    {
     "name": "stderr",
     "output_type": "stream",
     "text": [
      " 70%|██████████████████████████████████▍              | 2121/3019 [00:45<00:16, 54.90it/s]"
     ]
    },
    {
     "name": "stdout",
     "output_type": "stream",
     "text": [
      "5.43556022644043\n"
     ]
    },
    {
     "name": "stderr",
     "output_type": "stream",
     "text": [
      " 74%|████████████████████████████████████             | 2221/3019 [00:47<00:14, 53.38it/s]"
     ]
    },
    {
     "name": "stdout",
     "output_type": "stream",
     "text": [
      "8.083749771118164\n"
     ]
    },
    {
     "name": "stderr",
     "output_type": "stream",
     "text": [
      " 77%|█████████████████████████████████████▋           | 2321/3019 [00:49<00:12, 54.90it/s]"
     ]
    },
    {
     "name": "stdout",
     "output_type": "stream",
     "text": [
      "6.592273712158203\n"
     ]
    },
    {
     "name": "stderr",
     "output_type": "stream",
     "text": [
      " 80%|███████████████████████████████████████▎         | 2421/3019 [00:51<00:11, 53.74it/s]"
     ]
    },
    {
     "name": "stdout",
     "output_type": "stream",
     "text": [
      "7.845215320587158\n"
     ]
    },
    {
     "name": "stderr",
     "output_type": "stream",
     "text": [
      " 84%|████████████████████████████████████████▉        | 2521/3019 [00:53<00:09, 54.55it/s]"
     ]
    },
    {
     "name": "stdout",
     "output_type": "stream",
     "text": [
      "8.119572639465332\n"
     ]
    },
    {
     "name": "stderr",
     "output_type": "stream",
     "text": [
      " 87%|██████████████████████████████████████████▌      | 2621/3019 [00:56<00:07, 53.99it/s]"
     ]
    },
    {
     "name": "stdout",
     "output_type": "stream",
     "text": [
      "2.8345296382904053\n"
     ]
    },
    {
     "name": "stderr",
     "output_type": "stream",
     "text": [
      " 90%|████████████████████████████████████████████▏    | 2721/3019 [00:58<00:05, 54.56it/s]"
     ]
    },
    {
     "name": "stdout",
     "output_type": "stream",
     "text": [
      "4.8296637535095215\n"
     ]
    },
    {
     "name": "stderr",
     "output_type": "stream",
     "text": [
      " 93%|█████████████████████████████████████████████▊   | 2821/3019 [01:00<00:03, 54.52it/s]"
     ]
    },
    {
     "name": "stdout",
     "output_type": "stream",
     "text": [
      "6.203058242797852\n"
     ]
    },
    {
     "name": "stderr",
     "output_type": "stream",
     "text": [
      " 97%|███████████████████████████████████████████████▍ | 2921/3019 [01:02<00:01, 54.02it/s]"
     ]
    },
    {
     "name": "stdout",
     "output_type": "stream",
     "text": [
      "7.9156317710876465\n"
     ]
    },
    {
     "name": "stderr",
     "output_type": "stream",
     "text": [
      "100%|█████████████████████████████████████████████████| 3019/3019 [01:04<00:00, 46.84it/s]"
     ]
    },
    {
     "name": "stdout",
     "output_type": "stream",
     "text": [
      "4.979364395141602\n"
     ]
    },
    {
     "name": "stderr",
     "output_type": "stream",
     "text": [
      "\n"
     ]
    },
    {
     "name": "stdout",
     "output_type": "stream",
     "text": [
      "Epoch [7/10], Loss: 5.5045\n",
      "epoch 7\n"
     ]
    },
    {
     "name": "stderr",
     "output_type": "stream",
     "text": [
      "  1%|▎                                                 | 21/3019 [00:00<00:15, 193.36it/s]"
     ]
    },
    {
     "name": "stdout",
     "output_type": "stream",
     "text": [
      "6.18161678314209\n"
     ]
    },
    {
     "name": "stderr",
     "output_type": "stream",
     "text": [
      "  4%|██                                                | 121/3019 [00:02<00:52, 54.78it/s]"
     ]
    },
    {
     "name": "stdout",
     "output_type": "stream",
     "text": [
      "5.693840026855469\n"
     ]
    },
    {
     "name": "stderr",
     "output_type": "stream",
     "text": [
      "  7%|███▋                                              | 221/3019 [00:04<00:52, 52.99it/s]"
     ]
    },
    {
     "name": "stdout",
     "output_type": "stream",
     "text": [
      "3.8621978759765625\n"
     ]
    },
    {
     "name": "stderr",
     "output_type": "stream",
     "text": [
      " 11%|█████▎                                            | 321/3019 [00:06<00:49, 54.72it/s]"
     ]
    },
    {
     "name": "stdout",
     "output_type": "stream",
     "text": [
      "4.272250175476074\n"
     ]
    },
    {
     "name": "stderr",
     "output_type": "stream",
     "text": [
      " 14%|██████▉                                           | 421/3019 [00:08<00:48, 54.03it/s]"
     ]
    },
    {
     "name": "stdout",
     "output_type": "stream",
     "text": [
      "2.511284828186035\n"
     ]
    },
    {
     "name": "stderr",
     "output_type": "stream",
     "text": [
      " 17%|████████▋                                         | 521/3019 [00:10<00:46, 53.36it/s]"
     ]
    },
    {
     "name": "stdout",
     "output_type": "stream",
     "text": [
      "7.624136924743652\n"
     ]
    },
    {
     "name": "stderr",
     "output_type": "stream",
     "text": [
      " 21%|██████████▎                                       | 621/3019 [00:13<00:46, 51.14it/s]"
     ]
    },
    {
     "name": "stdout",
     "output_type": "stream",
     "text": [
      "4.728509902954102\n"
     ]
    },
    {
     "name": "stderr",
     "output_type": "stream",
     "text": [
      " 24%|███████████▉                                      | 721/3019 [00:15<00:43, 52.37it/s]"
     ]
    },
    {
     "name": "stdout",
     "output_type": "stream",
     "text": [
      "5.731062889099121\n"
     ]
    },
    {
     "name": "stderr",
     "output_type": "stream",
     "text": [
      " 27%|█████████████▌                                    | 821/3019 [00:17<00:43, 50.54it/s]"
     ]
    },
    {
     "name": "stdout",
     "output_type": "stream",
     "text": [
      "7.96302604675293\n"
     ]
    },
    {
     "name": "stderr",
     "output_type": "stream",
     "text": [
      " 31%|███████████████▎                                  | 921/3019 [00:19<00:40, 51.72it/s]"
     ]
    },
    {
     "name": "stdout",
     "output_type": "stream",
     "text": [
      "6.478482246398926\n"
     ]
    },
    {
     "name": "stderr",
     "output_type": "stream",
     "text": [
      " 34%|████████████████▌                                | 1021/3019 [00:21<00:37, 53.29it/s]"
     ]
    },
    {
     "name": "stdout",
     "output_type": "stream",
     "text": [
      "8.045193672180176\n"
     ]
    },
    {
     "name": "stderr",
     "output_type": "stream",
     "text": [
      " 37%|██████████████████▏                              | 1121/3019 [00:24<00:35, 53.65it/s]"
     ]
    },
    {
     "name": "stdout",
     "output_type": "stream",
     "text": [
      "1.6679989099502563\n"
     ]
    },
    {
     "name": "stderr",
     "output_type": "stream",
     "text": [
      " 40%|███████████████████▊                             | 1221/3019 [00:26<00:34, 51.93it/s]"
     ]
    },
    {
     "name": "stdout",
     "output_type": "stream",
     "text": [
      "5.660869598388672\n"
     ]
    },
    {
     "name": "stderr",
     "output_type": "stream",
     "text": [
      " 44%|█████████████████████▍                           | 1321/3019 [00:28<00:31, 53.24it/s]"
     ]
    },
    {
     "name": "stdout",
     "output_type": "stream",
     "text": [
      "7.808385848999023\n"
     ]
    },
    {
     "name": "stderr",
     "output_type": "stream",
     "text": [
      " 47%|███████████████████████                          | 1421/3019 [00:30<00:30, 52.20it/s]"
     ]
    },
    {
     "name": "stdout",
     "output_type": "stream",
     "text": [
      "7.426618576049805\n"
     ]
    },
    {
     "name": "stderr",
     "output_type": "stream",
     "text": [
      " 50%|████████████████████████▋                        | 1521/3019 [00:32<00:28, 52.11it/s]"
     ]
    },
    {
     "name": "stdout",
     "output_type": "stream",
     "text": [
      "6.33098840713501\n"
     ]
    },
    {
     "name": "stderr",
     "output_type": "stream",
     "text": [
      " 54%|██████████████████████████▎                      | 1621/3019 [00:35<00:26, 53.09it/s]"
     ]
    },
    {
     "name": "stdout",
     "output_type": "stream",
     "text": [
      "6.6827497482299805\n"
     ]
    },
    {
     "name": "stderr",
     "output_type": "stream",
     "text": [
      " 57%|███████████████████████████▉                     | 1721/3019 [00:37<00:24, 52.55it/s]"
     ]
    },
    {
     "name": "stdout",
     "output_type": "stream",
     "text": [
      "7.75083065032959\n"
     ]
    },
    {
     "name": "stderr",
     "output_type": "stream",
     "text": [
      " 60%|█████████████████████████████▌                   | 1821/3019 [00:39<00:22, 53.01it/s]"
     ]
    },
    {
     "name": "stdout",
     "output_type": "stream",
     "text": [
      "2.089611053466797\n"
     ]
    },
    {
     "name": "stderr",
     "output_type": "stream",
     "text": [
      " 64%|███████████████████████████████▏                 | 1921/3019 [00:41<00:20, 53.36it/s]"
     ]
    },
    {
     "name": "stdout",
     "output_type": "stream",
     "text": [
      "5.556334495544434\n"
     ]
    },
    {
     "name": "stderr",
     "output_type": "stream",
     "text": [
      " 67%|████████████████████████████████▊                | 2021/3019 [00:43<00:18, 52.77it/s]"
     ]
    },
    {
     "name": "stdout",
     "output_type": "stream",
     "text": [
      "5.252137184143066\n"
     ]
    },
    {
     "name": "stderr",
     "output_type": "stream",
     "text": [
      " 70%|██████████████████████████████████▍              | 2121/3019 [00:45<00:17, 52.46it/s]"
     ]
    },
    {
     "name": "stdout",
     "output_type": "stream",
     "text": [
      "5.308225154876709\n"
     ]
    },
    {
     "name": "stderr",
     "output_type": "stream",
     "text": [
      " 74%|████████████████████████████████████             | 2221/3019 [00:48<00:15, 52.82it/s]"
     ]
    },
    {
     "name": "stdout",
     "output_type": "stream",
     "text": [
      "7.803323745727539\n"
     ]
    },
    {
     "name": "stderr",
     "output_type": "stream",
     "text": [
      " 77%|█████████████████████████████████████▋           | 2321/3019 [00:50<00:13, 52.92it/s]"
     ]
    },
    {
     "name": "stdout",
     "output_type": "stream",
     "text": [
      "6.457420349121094\n"
     ]
    },
    {
     "name": "stderr",
     "output_type": "stream",
     "text": [
      " 80%|███████████████████████████████████████▎         | 2421/3019 [00:52<00:11, 53.22it/s]"
     ]
    },
    {
     "name": "stdout",
     "output_type": "stream",
     "text": [
      "7.723869323730469\n"
     ]
    },
    {
     "name": "stderr",
     "output_type": "stream",
     "text": [
      " 84%|████████████████████████████████████████▉        | 2521/3019 [00:54<00:09, 51.70it/s]"
     ]
    },
    {
     "name": "stdout",
     "output_type": "stream",
     "text": [
      "7.844557762145996\n"
     ]
    },
    {
     "name": "stderr",
     "output_type": "stream",
     "text": [
      " 84%|█████████████████████████████████████████▏       | 2535/3019 [00:54<00:10, 46.18it/s]\n"
     ]
    },
    {
     "ename": "KeyboardInterrupt",
     "evalue": "",
     "output_type": "error",
     "traceback": [
      "\u001b[0;31m---------------------------------------------------------------------------\u001b[0m",
      "\u001b[0;31mKeyboardInterrupt\u001b[0m                         Traceback (most recent call last)",
      "Cell \u001b[0;32mIn[155], line 15\u001b[0m\n\u001b[1;32m     12\u001b[0m inputs \u001b[38;5;241m=\u001b[39m dataset_tok_samples[i]\n\u001b[1;32m     13\u001b[0m labels \u001b[38;5;241m=\u001b[39m dataset_tok_samples[i\u001b[38;5;241m+\u001b[39m\u001b[38;5;241m1\u001b[39m][\u001b[38;5;241m0\u001b[39m]\n\u001b[0;32m---> 15\u001b[0m outputs \u001b[38;5;241m=\u001b[39m \u001b[43mmodel\u001b[49m\u001b[43m(\u001b[49m\u001b[43minputs\u001b[49m\u001b[43m)\u001b[49m\n\u001b[1;32m     16\u001b[0m loss \u001b[38;5;241m=\u001b[39m criterion(outputs, labels)\n\u001b[1;32m     17\u001b[0m \u001b[38;5;28;01mif\u001b[39;00m (i \u001b[38;5;241m%\u001b[39m \u001b[38;5;241m100\u001b[39m \u001b[38;5;241m==\u001b[39m \u001b[38;5;241m0\u001b[39m):\n",
      "File \u001b[0;32m/Library/Frameworks/Python.framework/Versions/3.12/lib/python3.12/site-packages/torch/nn/modules/module.py:1532\u001b[0m, in \u001b[0;36mModule._wrapped_call_impl\u001b[0;34m(self, *args, **kwargs)\u001b[0m\n\u001b[1;32m   1530\u001b[0m     \u001b[38;5;28;01mreturn\u001b[39;00m \u001b[38;5;28mself\u001b[39m\u001b[38;5;241m.\u001b[39m_compiled_call_impl(\u001b[38;5;241m*\u001b[39margs, \u001b[38;5;241m*\u001b[39m\u001b[38;5;241m*\u001b[39mkwargs)  \u001b[38;5;66;03m# type: ignore[misc]\u001b[39;00m\n\u001b[1;32m   1531\u001b[0m \u001b[38;5;28;01melse\u001b[39;00m:\n\u001b[0;32m-> 1532\u001b[0m     \u001b[38;5;28;01mreturn\u001b[39;00m \u001b[38;5;28;43mself\u001b[39;49m\u001b[38;5;241;43m.\u001b[39;49m\u001b[43m_call_impl\u001b[49m\u001b[43m(\u001b[49m\u001b[38;5;241;43m*\u001b[39;49m\u001b[43margs\u001b[49m\u001b[43m,\u001b[49m\u001b[43m \u001b[49m\u001b[38;5;241;43m*\u001b[39;49m\u001b[38;5;241;43m*\u001b[39;49m\u001b[43mkwargs\u001b[49m\u001b[43m)\u001b[49m\n",
      "File \u001b[0;32m/Library/Frameworks/Python.framework/Versions/3.12/lib/python3.12/site-packages/torch/nn/modules/module.py:1541\u001b[0m, in \u001b[0;36mModule._call_impl\u001b[0;34m(self, *args, **kwargs)\u001b[0m\n\u001b[1;32m   1536\u001b[0m \u001b[38;5;66;03m# If we don't have any hooks, we want to skip the rest of the logic in\u001b[39;00m\n\u001b[1;32m   1537\u001b[0m \u001b[38;5;66;03m# this function, and just call forward.\u001b[39;00m\n\u001b[1;32m   1538\u001b[0m \u001b[38;5;28;01mif\u001b[39;00m \u001b[38;5;129;01mnot\u001b[39;00m (\u001b[38;5;28mself\u001b[39m\u001b[38;5;241m.\u001b[39m_backward_hooks \u001b[38;5;129;01mor\u001b[39;00m \u001b[38;5;28mself\u001b[39m\u001b[38;5;241m.\u001b[39m_backward_pre_hooks \u001b[38;5;129;01mor\u001b[39;00m \u001b[38;5;28mself\u001b[39m\u001b[38;5;241m.\u001b[39m_forward_hooks \u001b[38;5;129;01mor\u001b[39;00m \u001b[38;5;28mself\u001b[39m\u001b[38;5;241m.\u001b[39m_forward_pre_hooks\n\u001b[1;32m   1539\u001b[0m         \u001b[38;5;129;01mor\u001b[39;00m _global_backward_pre_hooks \u001b[38;5;129;01mor\u001b[39;00m _global_backward_hooks\n\u001b[1;32m   1540\u001b[0m         \u001b[38;5;129;01mor\u001b[39;00m _global_forward_hooks \u001b[38;5;129;01mor\u001b[39;00m _global_forward_pre_hooks):\n\u001b[0;32m-> 1541\u001b[0m     \u001b[38;5;28;01mreturn\u001b[39;00m \u001b[43mforward_call\u001b[49m\u001b[43m(\u001b[49m\u001b[38;5;241;43m*\u001b[39;49m\u001b[43margs\u001b[49m\u001b[43m,\u001b[49m\u001b[43m \u001b[49m\u001b[38;5;241;43m*\u001b[39;49m\u001b[38;5;241;43m*\u001b[39;49m\u001b[43mkwargs\u001b[49m\u001b[43m)\u001b[49m\n\u001b[1;32m   1543\u001b[0m \u001b[38;5;28;01mtry\u001b[39;00m:\n\u001b[1;32m   1544\u001b[0m     result \u001b[38;5;241m=\u001b[39m \u001b[38;5;28;01mNone\u001b[39;00m\n",
      "Cell \u001b[0;32mIn[121], line 16\u001b[0m, in \u001b[0;36mMLP.forward\u001b[0;34m(self, x)\u001b[0m\n\u001b[1;32m     14\u001b[0m out \u001b[38;5;241m=\u001b[39m \u001b[38;5;28mself\u001b[39m\u001b[38;5;241m.\u001b[39membedding(x)\n\u001b[1;32m     15\u001b[0m out \u001b[38;5;241m=\u001b[39m out\u001b[38;5;241m.\u001b[39mmean(dim\u001b[38;5;241m=\u001b[39m\u001b[38;5;241m0\u001b[39m)  \u001b[38;5;66;03m# Average the embeddings to get a single vector per sentence\u001b[39;00m\n\u001b[0;32m---> 16\u001b[0m out \u001b[38;5;241m=\u001b[39m \u001b[38;5;28;43mself\u001b[39;49m\u001b[38;5;241;43m.\u001b[39;49m\u001b[43mfc1\u001b[49m\u001b[43m(\u001b[49m\u001b[43mout\u001b[49m\u001b[43m)\u001b[49m\n\u001b[1;32m     17\u001b[0m out \u001b[38;5;241m=\u001b[39m \u001b[38;5;28mself\u001b[39m\u001b[38;5;241m.\u001b[39mrelu(out)\n\u001b[1;32m     18\u001b[0m out \u001b[38;5;241m=\u001b[39m \u001b[38;5;28mself\u001b[39m\u001b[38;5;241m.\u001b[39mfc2(out)\n",
      "File \u001b[0;32m/Library/Frameworks/Python.framework/Versions/3.12/lib/python3.12/site-packages/torch/nn/modules/module.py:1532\u001b[0m, in \u001b[0;36mModule._wrapped_call_impl\u001b[0;34m(self, *args, **kwargs)\u001b[0m\n\u001b[1;32m   1530\u001b[0m     \u001b[38;5;28;01mreturn\u001b[39;00m \u001b[38;5;28mself\u001b[39m\u001b[38;5;241m.\u001b[39m_compiled_call_impl(\u001b[38;5;241m*\u001b[39margs, \u001b[38;5;241m*\u001b[39m\u001b[38;5;241m*\u001b[39mkwargs)  \u001b[38;5;66;03m# type: ignore[misc]\u001b[39;00m\n\u001b[1;32m   1531\u001b[0m \u001b[38;5;28;01melse\u001b[39;00m:\n\u001b[0;32m-> 1532\u001b[0m     \u001b[38;5;28;01mreturn\u001b[39;00m \u001b[38;5;28;43mself\u001b[39;49m\u001b[38;5;241;43m.\u001b[39;49m\u001b[43m_call_impl\u001b[49m\u001b[43m(\u001b[49m\u001b[38;5;241;43m*\u001b[39;49m\u001b[43margs\u001b[49m\u001b[43m,\u001b[49m\u001b[43m \u001b[49m\u001b[38;5;241;43m*\u001b[39;49m\u001b[38;5;241;43m*\u001b[39;49m\u001b[43mkwargs\u001b[49m\u001b[43m)\u001b[49m\n",
      "File \u001b[0;32m/Library/Frameworks/Python.framework/Versions/3.12/lib/python3.12/site-packages/torch/nn/modules/module.py:1541\u001b[0m, in \u001b[0;36mModule._call_impl\u001b[0;34m(self, *args, **kwargs)\u001b[0m\n\u001b[1;32m   1536\u001b[0m \u001b[38;5;66;03m# If we don't have any hooks, we want to skip the rest of the logic in\u001b[39;00m\n\u001b[1;32m   1537\u001b[0m \u001b[38;5;66;03m# this function, and just call forward.\u001b[39;00m\n\u001b[1;32m   1538\u001b[0m \u001b[38;5;28;01mif\u001b[39;00m \u001b[38;5;129;01mnot\u001b[39;00m (\u001b[38;5;28mself\u001b[39m\u001b[38;5;241m.\u001b[39m_backward_hooks \u001b[38;5;129;01mor\u001b[39;00m \u001b[38;5;28mself\u001b[39m\u001b[38;5;241m.\u001b[39m_backward_pre_hooks \u001b[38;5;129;01mor\u001b[39;00m \u001b[38;5;28mself\u001b[39m\u001b[38;5;241m.\u001b[39m_forward_hooks \u001b[38;5;129;01mor\u001b[39;00m \u001b[38;5;28mself\u001b[39m\u001b[38;5;241m.\u001b[39m_forward_pre_hooks\n\u001b[1;32m   1539\u001b[0m         \u001b[38;5;129;01mor\u001b[39;00m _global_backward_pre_hooks \u001b[38;5;129;01mor\u001b[39;00m _global_backward_hooks\n\u001b[1;32m   1540\u001b[0m         \u001b[38;5;129;01mor\u001b[39;00m _global_forward_hooks \u001b[38;5;129;01mor\u001b[39;00m _global_forward_pre_hooks):\n\u001b[0;32m-> 1541\u001b[0m     \u001b[38;5;28;01mreturn\u001b[39;00m \u001b[43mforward_call\u001b[49m\u001b[43m(\u001b[49m\u001b[38;5;241;43m*\u001b[39;49m\u001b[43margs\u001b[49m\u001b[43m,\u001b[49m\u001b[43m \u001b[49m\u001b[38;5;241;43m*\u001b[39;49m\u001b[38;5;241;43m*\u001b[39;49m\u001b[43mkwargs\u001b[49m\u001b[43m)\u001b[49m\n\u001b[1;32m   1543\u001b[0m \u001b[38;5;28;01mtry\u001b[39;00m:\n\u001b[1;32m   1544\u001b[0m     result \u001b[38;5;241m=\u001b[39m \u001b[38;5;28;01mNone\u001b[39;00m\n",
      "File \u001b[0;32m/Library/Frameworks/Python.framework/Versions/3.12/lib/python3.12/site-packages/torch/nn/modules/linear.py:116\u001b[0m, in \u001b[0;36mLinear.forward\u001b[0;34m(self, input)\u001b[0m\n\u001b[1;32m    115\u001b[0m \u001b[38;5;28;01mdef\u001b[39;00m \u001b[38;5;21mforward\u001b[39m(\u001b[38;5;28mself\u001b[39m, \u001b[38;5;28minput\u001b[39m: Tensor) \u001b[38;5;241m-\u001b[39m\u001b[38;5;241m>\u001b[39m Tensor:\n\u001b[0;32m--> 116\u001b[0m     \u001b[38;5;28;01mreturn\u001b[39;00m \u001b[43mF\u001b[49m\u001b[38;5;241;43m.\u001b[39;49m\u001b[43mlinear\u001b[49m\u001b[43m(\u001b[49m\u001b[38;5;28;43minput\u001b[39;49m\u001b[43m,\u001b[49m\u001b[43m \u001b[49m\u001b[38;5;28;43mself\u001b[39;49m\u001b[38;5;241;43m.\u001b[39;49m\u001b[43mweight\u001b[49m\u001b[43m,\u001b[49m\u001b[43m \u001b[49m\u001b[38;5;28;43mself\u001b[39;49m\u001b[38;5;241;43m.\u001b[39;49m\u001b[43mbias\u001b[49m\u001b[43m)\u001b[49m\n",
      "\u001b[0;31mKeyboardInterrupt\u001b[0m: "
     ]
    }
   ],
   "source": [
    "from tqdm import tqdm \n",
    "\n",
    "criterion = nn.CrossEntropyLoss()\n",
    "optimizer = optim.SGD(model.parameters(), lr=0.01)\n",
    "\n",
    "# Training loop\n",
    "num_epochs = 10\n",
    "for epoch in range(num_epochs):\n",
    "    print(f\"epoch {epoch}\")\n",
    "    for i in tqdm(range(len(dataset_tok_samples)-1)):\n",
    "        # Forward pass\n",
    "        inputs = dataset_tok_samples[i]\n",
    "        labels = dataset_tok_samples[i+1][0]\n",
    "\n",
    "        outputs = model(inputs)\n",
    "        loss = criterion(outputs, labels)\n",
    "        if (i % 100 == 0):\n",
    "            print(loss.item())\n",
    "        \n",
    "        # Backward and optimize\n",
    "        optimizer.zero_grad()\n",
    "        loss.backward()\n",
    "        optimizer.step()\n",
    "\n",
    "    print('Epoch [{}/{}], Loss: {:.4f}'.format(epoch+1, num_epochs, loss.item()))"
   ]
  },
  {
   "cell_type": "code",
   "execution_count": 139,
   "id": "3a4d6943-3226-400c-9a03-90adbe304cd7",
   "metadata": {},
   "outputs": [],
   "source": [
    "criterion = nn.CrossEntropyLoss()\n",
    "i=0\n",
    "inputs = dataset_tok_samples[i]\n",
    "labels = dataset_tok_samples[i+1][0]\n",
    "outputs = model(inputs)\n"
   ]
  },
  {
   "cell_type": "code",
   "execution_count": 140,
   "id": "57460294-0473-4ed2-a639-c033f5fed901",
   "metadata": {},
   "outputs": [],
   "source": [
    "loss = criterion(outputs, labels)"
   ]
  },
  {
   "cell_type": "code",
   "execution_count": 141,
   "id": "4b568b4c-e8dc-4f17-950e-1f6af79c88f4",
   "metadata": {},
   "outputs": [
    {
     "data": {
      "text/plain": [
       "tensor(10.7479, device='mps:0', grad_fn=<NllLossBackward0>)"
      ]
     },
     "execution_count": 141,
     "metadata": {},
     "output_type": "execute_result"
    }
   ],
   "source": [
    "loss"
   ]
  },
  {
   "cell_type": "code",
   "execution_count": 156,
   "id": "f4359f2d-5e71-4391-b265-457bf778ce30",
   "metadata": {},
   "outputs": [
    {
     "ename": "RuntimeError",
     "evalue": "Placeholder storage has not been allocated on MPS device!",
     "output_type": "error",
     "traceback": [
      "\u001b[0;31m---------------------------------------------------------------------------\u001b[0m",
      "\u001b[0;31mRuntimeError\u001b[0m                              Traceback (most recent call last)",
      "Cell \u001b[0;32mIn[156], line 1\u001b[0m\n\u001b[0;32m----> 1\u001b[0m \u001b[43mmodel\u001b[49m\u001b[43m(\u001b[49m\u001b[43mtokenize\u001b[49m\u001b[43m(\u001b[49m\u001b[38;5;124;43m\"\u001b[39;49m\u001b[38;5;124;43mhello world\u001b[39;49m\u001b[38;5;124;43m\"\u001b[39;49m\u001b[43m)\u001b[49m\u001b[43m)\u001b[49m\n",
      "File \u001b[0;32m/Library/Frameworks/Python.framework/Versions/3.12/lib/python3.12/site-packages/torch/nn/modules/module.py:1532\u001b[0m, in \u001b[0;36mModule._wrapped_call_impl\u001b[0;34m(self, *args, **kwargs)\u001b[0m\n\u001b[1;32m   1530\u001b[0m     \u001b[38;5;28;01mreturn\u001b[39;00m \u001b[38;5;28mself\u001b[39m\u001b[38;5;241m.\u001b[39m_compiled_call_impl(\u001b[38;5;241m*\u001b[39margs, \u001b[38;5;241m*\u001b[39m\u001b[38;5;241m*\u001b[39mkwargs)  \u001b[38;5;66;03m# type: ignore[misc]\u001b[39;00m\n\u001b[1;32m   1531\u001b[0m \u001b[38;5;28;01melse\u001b[39;00m:\n\u001b[0;32m-> 1532\u001b[0m     \u001b[38;5;28;01mreturn\u001b[39;00m \u001b[38;5;28;43mself\u001b[39;49m\u001b[38;5;241;43m.\u001b[39;49m\u001b[43m_call_impl\u001b[49m\u001b[43m(\u001b[49m\u001b[38;5;241;43m*\u001b[39;49m\u001b[43margs\u001b[49m\u001b[43m,\u001b[49m\u001b[43m \u001b[49m\u001b[38;5;241;43m*\u001b[39;49m\u001b[38;5;241;43m*\u001b[39;49m\u001b[43mkwargs\u001b[49m\u001b[43m)\u001b[49m\n",
      "File \u001b[0;32m/Library/Frameworks/Python.framework/Versions/3.12/lib/python3.12/site-packages/torch/nn/modules/module.py:1541\u001b[0m, in \u001b[0;36mModule._call_impl\u001b[0;34m(self, *args, **kwargs)\u001b[0m\n\u001b[1;32m   1536\u001b[0m \u001b[38;5;66;03m# If we don't have any hooks, we want to skip the rest of the logic in\u001b[39;00m\n\u001b[1;32m   1537\u001b[0m \u001b[38;5;66;03m# this function, and just call forward.\u001b[39;00m\n\u001b[1;32m   1538\u001b[0m \u001b[38;5;28;01mif\u001b[39;00m \u001b[38;5;129;01mnot\u001b[39;00m (\u001b[38;5;28mself\u001b[39m\u001b[38;5;241m.\u001b[39m_backward_hooks \u001b[38;5;129;01mor\u001b[39;00m \u001b[38;5;28mself\u001b[39m\u001b[38;5;241m.\u001b[39m_backward_pre_hooks \u001b[38;5;129;01mor\u001b[39;00m \u001b[38;5;28mself\u001b[39m\u001b[38;5;241m.\u001b[39m_forward_hooks \u001b[38;5;129;01mor\u001b[39;00m \u001b[38;5;28mself\u001b[39m\u001b[38;5;241m.\u001b[39m_forward_pre_hooks\n\u001b[1;32m   1539\u001b[0m         \u001b[38;5;129;01mor\u001b[39;00m _global_backward_pre_hooks \u001b[38;5;129;01mor\u001b[39;00m _global_backward_hooks\n\u001b[1;32m   1540\u001b[0m         \u001b[38;5;129;01mor\u001b[39;00m _global_forward_hooks \u001b[38;5;129;01mor\u001b[39;00m _global_forward_pre_hooks):\n\u001b[0;32m-> 1541\u001b[0m     \u001b[38;5;28;01mreturn\u001b[39;00m \u001b[43mforward_call\u001b[49m\u001b[43m(\u001b[49m\u001b[38;5;241;43m*\u001b[39;49m\u001b[43margs\u001b[49m\u001b[43m,\u001b[49m\u001b[43m \u001b[49m\u001b[38;5;241;43m*\u001b[39;49m\u001b[38;5;241;43m*\u001b[39;49m\u001b[43mkwargs\u001b[49m\u001b[43m)\u001b[49m\n\u001b[1;32m   1543\u001b[0m \u001b[38;5;28;01mtry\u001b[39;00m:\n\u001b[1;32m   1544\u001b[0m     result \u001b[38;5;241m=\u001b[39m \u001b[38;5;28;01mNone\u001b[39;00m\n",
      "Cell \u001b[0;32mIn[121], line 14\u001b[0m, in \u001b[0;36mMLP.forward\u001b[0;34m(self, x)\u001b[0m\n\u001b[1;32m     13\u001b[0m \u001b[38;5;28;01mdef\u001b[39;00m \u001b[38;5;21mforward\u001b[39m(\u001b[38;5;28mself\u001b[39m, x):\n\u001b[0;32m---> 14\u001b[0m     out \u001b[38;5;241m=\u001b[39m \u001b[38;5;28;43mself\u001b[39;49m\u001b[38;5;241;43m.\u001b[39;49m\u001b[43membedding\u001b[49m\u001b[43m(\u001b[49m\u001b[43mx\u001b[49m\u001b[43m)\u001b[49m\n\u001b[1;32m     15\u001b[0m     out \u001b[38;5;241m=\u001b[39m out\u001b[38;5;241m.\u001b[39mmean(dim\u001b[38;5;241m=\u001b[39m\u001b[38;5;241m0\u001b[39m)  \u001b[38;5;66;03m# Average the embeddings to get a single vector per sentence\u001b[39;00m\n\u001b[1;32m     16\u001b[0m     out \u001b[38;5;241m=\u001b[39m \u001b[38;5;28mself\u001b[39m\u001b[38;5;241m.\u001b[39mfc1(out)\n",
      "File \u001b[0;32m/Library/Frameworks/Python.framework/Versions/3.12/lib/python3.12/site-packages/torch/nn/modules/module.py:1532\u001b[0m, in \u001b[0;36mModule._wrapped_call_impl\u001b[0;34m(self, *args, **kwargs)\u001b[0m\n\u001b[1;32m   1530\u001b[0m     \u001b[38;5;28;01mreturn\u001b[39;00m \u001b[38;5;28mself\u001b[39m\u001b[38;5;241m.\u001b[39m_compiled_call_impl(\u001b[38;5;241m*\u001b[39margs, \u001b[38;5;241m*\u001b[39m\u001b[38;5;241m*\u001b[39mkwargs)  \u001b[38;5;66;03m# type: ignore[misc]\u001b[39;00m\n\u001b[1;32m   1531\u001b[0m \u001b[38;5;28;01melse\u001b[39;00m:\n\u001b[0;32m-> 1532\u001b[0m     \u001b[38;5;28;01mreturn\u001b[39;00m \u001b[38;5;28;43mself\u001b[39;49m\u001b[38;5;241;43m.\u001b[39;49m\u001b[43m_call_impl\u001b[49m\u001b[43m(\u001b[49m\u001b[38;5;241;43m*\u001b[39;49m\u001b[43margs\u001b[49m\u001b[43m,\u001b[49m\u001b[43m \u001b[49m\u001b[38;5;241;43m*\u001b[39;49m\u001b[38;5;241;43m*\u001b[39;49m\u001b[43mkwargs\u001b[49m\u001b[43m)\u001b[49m\n",
      "File \u001b[0;32m/Library/Frameworks/Python.framework/Versions/3.12/lib/python3.12/site-packages/torch/nn/modules/module.py:1541\u001b[0m, in \u001b[0;36mModule._call_impl\u001b[0;34m(self, *args, **kwargs)\u001b[0m\n\u001b[1;32m   1536\u001b[0m \u001b[38;5;66;03m# If we don't have any hooks, we want to skip the rest of the logic in\u001b[39;00m\n\u001b[1;32m   1537\u001b[0m \u001b[38;5;66;03m# this function, and just call forward.\u001b[39;00m\n\u001b[1;32m   1538\u001b[0m \u001b[38;5;28;01mif\u001b[39;00m \u001b[38;5;129;01mnot\u001b[39;00m (\u001b[38;5;28mself\u001b[39m\u001b[38;5;241m.\u001b[39m_backward_hooks \u001b[38;5;129;01mor\u001b[39;00m \u001b[38;5;28mself\u001b[39m\u001b[38;5;241m.\u001b[39m_backward_pre_hooks \u001b[38;5;129;01mor\u001b[39;00m \u001b[38;5;28mself\u001b[39m\u001b[38;5;241m.\u001b[39m_forward_hooks \u001b[38;5;129;01mor\u001b[39;00m \u001b[38;5;28mself\u001b[39m\u001b[38;5;241m.\u001b[39m_forward_pre_hooks\n\u001b[1;32m   1539\u001b[0m         \u001b[38;5;129;01mor\u001b[39;00m _global_backward_pre_hooks \u001b[38;5;129;01mor\u001b[39;00m _global_backward_hooks\n\u001b[1;32m   1540\u001b[0m         \u001b[38;5;129;01mor\u001b[39;00m _global_forward_hooks \u001b[38;5;129;01mor\u001b[39;00m _global_forward_pre_hooks):\n\u001b[0;32m-> 1541\u001b[0m     \u001b[38;5;28;01mreturn\u001b[39;00m \u001b[43mforward_call\u001b[49m\u001b[43m(\u001b[49m\u001b[38;5;241;43m*\u001b[39;49m\u001b[43margs\u001b[49m\u001b[43m,\u001b[49m\u001b[43m \u001b[49m\u001b[38;5;241;43m*\u001b[39;49m\u001b[38;5;241;43m*\u001b[39;49m\u001b[43mkwargs\u001b[49m\u001b[43m)\u001b[49m\n\u001b[1;32m   1543\u001b[0m \u001b[38;5;28;01mtry\u001b[39;00m:\n\u001b[1;32m   1544\u001b[0m     result \u001b[38;5;241m=\u001b[39m \u001b[38;5;28;01mNone\u001b[39;00m\n",
      "File \u001b[0;32m/Library/Frameworks/Python.framework/Versions/3.12/lib/python3.12/site-packages/torch/nn/modules/sparse.py:163\u001b[0m, in \u001b[0;36mEmbedding.forward\u001b[0;34m(self, input)\u001b[0m\n\u001b[1;32m    162\u001b[0m \u001b[38;5;28;01mdef\u001b[39;00m \u001b[38;5;21mforward\u001b[39m(\u001b[38;5;28mself\u001b[39m, \u001b[38;5;28minput\u001b[39m: Tensor) \u001b[38;5;241m-\u001b[39m\u001b[38;5;241m>\u001b[39m Tensor:\n\u001b[0;32m--> 163\u001b[0m     \u001b[38;5;28;01mreturn\u001b[39;00m \u001b[43mF\u001b[49m\u001b[38;5;241;43m.\u001b[39;49m\u001b[43membedding\u001b[49m\u001b[43m(\u001b[49m\n\u001b[1;32m    164\u001b[0m \u001b[43m        \u001b[49m\u001b[38;5;28;43minput\u001b[39;49m\u001b[43m,\u001b[49m\u001b[43m \u001b[49m\u001b[38;5;28;43mself\u001b[39;49m\u001b[38;5;241;43m.\u001b[39;49m\u001b[43mweight\u001b[49m\u001b[43m,\u001b[49m\u001b[43m \u001b[49m\u001b[38;5;28;43mself\u001b[39;49m\u001b[38;5;241;43m.\u001b[39;49m\u001b[43mpadding_idx\u001b[49m\u001b[43m,\u001b[49m\u001b[43m \u001b[49m\u001b[38;5;28;43mself\u001b[39;49m\u001b[38;5;241;43m.\u001b[39;49m\u001b[43mmax_norm\u001b[49m\u001b[43m,\u001b[49m\n\u001b[1;32m    165\u001b[0m \u001b[43m        \u001b[49m\u001b[38;5;28;43mself\u001b[39;49m\u001b[38;5;241;43m.\u001b[39;49m\u001b[43mnorm_type\u001b[49m\u001b[43m,\u001b[49m\u001b[43m \u001b[49m\u001b[38;5;28;43mself\u001b[39;49m\u001b[38;5;241;43m.\u001b[39;49m\u001b[43mscale_grad_by_freq\u001b[49m\u001b[43m,\u001b[49m\u001b[43m \u001b[49m\u001b[38;5;28;43mself\u001b[39;49m\u001b[38;5;241;43m.\u001b[39;49m\u001b[43msparse\u001b[49m\u001b[43m)\u001b[49m\n",
      "File \u001b[0;32m/Library/Frameworks/Python.framework/Versions/3.12/lib/python3.12/site-packages/torch/nn/functional.py:2264\u001b[0m, in \u001b[0;36membedding\u001b[0;34m(input, weight, padding_idx, max_norm, norm_type, scale_grad_by_freq, sparse)\u001b[0m\n\u001b[1;32m   2258\u001b[0m     \u001b[38;5;66;03m# Note [embedding_renorm set_grad_enabled]\u001b[39;00m\n\u001b[1;32m   2259\u001b[0m     \u001b[38;5;66;03m# XXX: equivalent to\u001b[39;00m\n\u001b[1;32m   2260\u001b[0m     \u001b[38;5;66;03m# with torch.no_grad():\u001b[39;00m\n\u001b[1;32m   2261\u001b[0m     \u001b[38;5;66;03m#   torch.embedding_renorm_\u001b[39;00m\n\u001b[1;32m   2262\u001b[0m     \u001b[38;5;66;03m# remove once script supports set_grad_enabled\u001b[39;00m\n\u001b[1;32m   2263\u001b[0m     _no_grad_embedding_renorm_(weight, \u001b[38;5;28minput\u001b[39m, max_norm, norm_type)\n\u001b[0;32m-> 2264\u001b[0m \u001b[38;5;28;01mreturn\u001b[39;00m \u001b[43mtorch\u001b[49m\u001b[38;5;241;43m.\u001b[39;49m\u001b[43membedding\u001b[49m\u001b[43m(\u001b[49m\u001b[43mweight\u001b[49m\u001b[43m,\u001b[49m\u001b[43m \u001b[49m\u001b[38;5;28;43minput\u001b[39;49m\u001b[43m,\u001b[49m\u001b[43m \u001b[49m\u001b[43mpadding_idx\u001b[49m\u001b[43m,\u001b[49m\u001b[43m \u001b[49m\u001b[43mscale_grad_by_freq\u001b[49m\u001b[43m,\u001b[49m\u001b[43m \u001b[49m\u001b[43msparse\u001b[49m\u001b[43m)\u001b[49m\n",
      "\u001b[0;31mRuntimeError\u001b[0m: Placeholder storage has not been allocated on MPS device!"
     ]
    }
   ],
   "source": [
    "model(tokenize(\"hello world\"))"
   ]
  },
  {
   "cell_type": "code",
   "execution_count": 159,
   "id": "bab84b31-3b94-4a62-982c-3d45e4c63299",
   "metadata": {},
   "outputs": [],
   "source": [
    "import tiktoken\n",
    "\n",
    "# r50k_base vocab size: 50,257 https://arxiv.org/pdf/2404.09894\n",
    "enc = tiktoken.get_encoding(\"r50k_base\")\n",
    "assert enc.decode(enc.encode(\"hello world\")) == \"hello world\"\n",
    "\n",
    "def tokenize(string):\n",
    "    return torch.tensor(enc.encode(string)).to(\"mps\")\n",
    "\n",
    "def detokenize(tensor):\n",
    "    return enc.decode([tensor.item()])"
   ]
  },
  {
   "cell_type": "code",
   "execution_count": 161,
   "id": "e6436770-a645-48f7-acf2-29c7743cc561",
   "metadata": {},
   "outputs": [
    {
     "data": {
      "text/plain": [
       "tensor(616, device='mps:0')"
      ]
     },
     "execution_count": 161,
     "metadata": {},
     "output_type": "execute_result"
    }
   ],
   "source": [
    "torch.argmax(model(tokenize(\"hello world\")))"
   ]
  },
  {
   "cell_type": "code",
   "execution_count": 170,
   "id": "afdcc807-bc7e-44df-81ac-4fe488c29417",
   "metadata": {},
   "outputs": [],
   "source": [
    "def generate(prompt, tokens):\n",
    "    with torch.no_grad():\n",
    "        for _ in range(tokens):\n",
    "            input_tok = tokenize(prompt)\n",
    "            output_tok = model(input_tok)\n",
    "            output = detokenize(torch.argmax(output_tok))\n",
    "            prompt = prompt + output\n",
    "        return prompt"
   ]
  },
  {
   "cell_type": "code",
   "execution_count": 172,
   "id": "1e9105c2-f686-4f8c-b967-634f52d6d329",
   "metadata": {},
   "outputs": [
    {
     "data": {
      "text/plain": [
       "'my.\\n:\\n lord lord:\\n lord lord,,,,,,,,,,,,,,,,,,,,,,,,,,,,,,,,,,,,,,,,,,,,,,,,,,,,,,,,,,,,,,,,,,,,,,,,,,,,,,,,,,,,,,,,:,'"
      ]
     },
     "execution_count": 172,
     "metadata": {},
     "output_type": "execute_result"
    }
   ],
   "source": [
    "generate(\"my\", 100)"
   ]
  },
  {
   "cell_type": "code",
   "execution_count": 175,
   "id": "fd178edd-f683-418e-9bd8-b22aa51d02c3",
   "metadata": {},
   "outputs": [
    {
     "data": {
      "text/plain": [
       "'First Citizen:\\nBefore we proceed any lord lord be be be be.\\n:\\n:\\n be be be be be a a a a a a,,,,,,,,,,,,,,,,,,,,,,,,,,,'"
      ]
     },
     "execution_count": 175,
     "metadata": {},
     "output_type": "execute_result"
    }
   ],
   "source": [
    "generate(\"First Citizen:\\nBefore we proceed any\", 50)"
   ]
  },
  {
   "cell_type": "markdown",
   "id": "208740e0-c959-4aa9-8188-11840215c970",
   "metadata": {},
   "source": [
    "## training loop with generate"
   ]
  },
  {
   "cell_type": "code",
   "execution_count": 179,
   "id": "9fd01611-dc71-4b11-b7af-793c28b8eaf5",
   "metadata": {},
   "outputs": [
    {
     "name": "stdout",
     "output_type": "stream",
     "text": [
      "epoch 0\n"
     ]
    },
    {
     "name": "stderr",
     "output_type": "stream",
     "text": [
      "  0%|                                                            | 0/3019 [00:00<?, ?it/s]"
     ]
    },
    {
     "name": "stdout",
     "output_type": "stream",
     "text": [
      "4.739320755004883\n",
      "Oh my lord,,,,,,,,:\n",
      ",,,,,,,,,,,,,,,,,,,,,,,,, you you you you you you you you you you you you you you you\n"
     ]
    },
    {
     "name": "stderr",
     "output_type": "stream",
     "text": [
      "  4%|██                                                | 121/3019 [00:02<00:52, 54.95it/s]"
     ]
    },
    {
     "name": "stdout",
     "output_type": "stream",
     "text": [
      "5.493747711181641\n"
     ]
    },
    {
     "name": "stderr",
     "output_type": "stream",
     "text": [
      "  7%|███▋                                              | 221/3019 [00:04<00:58, 48.05it/s]"
     ]
    },
    {
     "name": "stdout",
     "output_type": "stream",
     "text": [
      "3.8157081604003906\n",
      "Oh my lord,\n",
      " my, my,\n",
      " my my, my,\n",
      " my my my,\n",
      " my my, my,\n",
      " my my my,,, my,\n",
      " my my, my\n",
      " my, my, my\n",
      " my my, my,\n",
      "\n"
     ]
    },
    {
     "name": "stderr",
     "output_type": "stream",
     "text": [
      " 11%|█████▎                                            | 321/3019 [00:06<00:49, 54.96it/s]"
     ]
    },
    {
     "name": "stdout",
     "output_type": "stream",
     "text": [
      "4.282778263092041\n"
     ]
    },
    {
     "name": "stderr",
     "output_type": "stream",
     "text": [
      " 14%|██████▉                                           | 421/3019 [00:08<00:53, 48.19it/s]"
     ]
    },
    {
     "name": "stdout",
     "output_type": "stream",
     "text": [
      "2.1833231449127197\n",
      "Oh my lord\n",
      ":\n",
      "FirstFirstFirstFirstFirstFirstFirstmanmanmanmanmanmanmanmanmanmanmanmanmanmanmanmanmanmanmanmanmanmanmanmanmanmanmanmanmanmanmanmanmanmanmanmanmanmanmanman\n"
     ]
    },
    {
     "name": "stderr",
     "output_type": "stream",
     "text": [
      " 17%|████████▋                                         | 521/3019 [00:11<00:48, 52.01it/s]"
     ]
    },
    {
     "name": "stdout",
     "output_type": "stream",
     "text": [
      "7.239518642425537\n"
     ]
    },
    {
     "name": "stderr",
     "output_type": "stream",
     "text": [
      " 21%|██████████▎                                       | 621/3019 [00:13<00:48, 49.38it/s]"
     ]
    },
    {
     "name": "stdout",
     "output_type": "stream",
     "text": [
      "4.273525238037109\n",
      "Oh my lord,,,,,,,,,,,,,,,,:\n",
      "\n",
      "\n",
      "\n",
      "\n",
      " of,,,,,,,,,,,,,,,,,,,,,,,,,,,\n"
     ]
    },
    {
     "name": "stderr",
     "output_type": "stream",
     "text": [
      " 24%|███████████▉                                      | 721/3019 [00:15<00:42, 53.66it/s]"
     ]
    },
    {
     "name": "stdout",
     "output_type": "stream",
     "text": [
      "5.426806449890137\n"
     ]
    },
    {
     "name": "stderr",
     "output_type": "stream",
     "text": [
      " 27%|█████████████▌                                    | 821/3019 [00:17<00:44, 49.12it/s]"
     ]
    },
    {
     "name": "stdout",
     "output_type": "stream",
     "text": [
      "7.741692543029785\n",
      "Oh my lord,,,,,,,,,,,,,,,,,,,,,,,,,,,,,,,,,,,,,,,,:,:\n",
      " of,,,,,\n"
     ]
    },
    {
     "name": "stderr",
     "output_type": "stream",
     "text": [
      " 31%|███████████████▎                                  | 921/3019 [00:19<00:39, 53.69it/s]"
     ]
    },
    {
     "name": "stdout",
     "output_type": "stream",
     "text": [
      "6.473517417907715\n"
     ]
    },
    {
     "name": "stderr",
     "output_type": "stream",
     "text": [
      " 34%|████████████████▌                                | 1021/3019 [00:22<00:41, 47.85it/s]"
     ]
    },
    {
     "name": "stdout",
     "output_type": "stream",
     "text": [
      "7.84591007232666\n",
      "Oh my lord,,,,,,,,,,,,,,,,,,,,,,,,,,,,,,,,,,,,,,,,,,,,,,,,,,\n"
     ]
    },
    {
     "name": "stderr",
     "output_type": "stream",
     "text": [
      " 37%|██████████████████▏                              | 1121/3019 [00:24<00:34, 55.11it/s]"
     ]
    },
    {
     "name": "stdout",
     "output_type": "stream",
     "text": [
      "1.5305815935134888\n"
     ]
    },
    {
     "name": "stderr",
     "output_type": "stream",
     "text": [
      " 40%|███████████████████▊                             | 1221/3019 [00:26<00:37, 47.92it/s]"
     ]
    },
    {
     "name": "stdout",
     "output_type": "stream",
     "text": [
      "5.7079758644104\n",
      "Oh my lord,,,,,,,,,,,,,,,,,,,,,,,,,,,,,,,,,,,,,,,,,,,,,,,,,,\n"
     ]
    },
    {
     "name": "stderr",
     "output_type": "stream",
     "text": [
      " 44%|█████████████████████▍                           | 1321/3019 [00:28<00:30, 55.10it/s]"
     ]
    },
    {
     "name": "stdout",
     "output_type": "stream",
     "text": [
      "7.505709171295166\n"
     ]
    },
    {
     "name": "stderr",
     "output_type": "stream",
     "text": [
      " 47%|███████████████████████                          | 1421/3019 [00:30<00:33, 47.82it/s]"
     ]
    },
    {
     "name": "stdout",
     "output_type": "stream",
     "text": [
      "7.155731201171875\n",
      "Oh my lord\n",
      ": of,\n",
      " of of, thee thee\n",
      " thee thee thee\n",
      " thee thee thee\n",
      " thou thou thou thou thou thou thou thou thou thou thou thou thou thou thou thou thou thou thou thou thou thou thou thou thou thou thou thou thou thou thou\n"
     ]
    },
    {
     "name": "stderr",
     "output_type": "stream",
     "text": [
      " 50%|████████████████████████▋                        | 1521/3019 [00:32<00:27, 54.38it/s]"
     ]
    },
    {
     "name": "stdout",
     "output_type": "stream",
     "text": [
      "6.014634132385254\n"
     ]
    },
    {
     "name": "stderr",
     "output_type": "stream",
     "text": [
      " 54%|██████████████████████████▎                      | 1621/3019 [00:35<00:28, 48.88it/s]"
     ]
    },
    {
     "name": "stdout",
     "output_type": "stream",
     "text": [
      "6.655128479003906\n",
      "Oh my lord\n",
      ":\n",
      " of\n",
      " of a a,,,,,,,,,,,,,,,,,,,,,,,,,,,,,,,,,,,,,,,,,,\n"
     ]
    },
    {
     "name": "stderr",
     "output_type": "stream",
     "text": [
      " 57%|███████████████████████████▉                     | 1721/3019 [00:37<00:23, 54.46it/s]"
     ]
    },
    {
     "name": "stdout",
     "output_type": "stream",
     "text": [
      "7.413839340209961\n"
     ]
    },
    {
     "name": "stderr",
     "output_type": "stream",
     "text": [
      " 60%|█████████████████████████████▎                   | 1804/3019 [00:39<00:51, 23.56it/s]"
     ]
    },
    {
     "name": "stdout",
     "output_type": "stream",
     "text": [
      "1.6786696910858154\n",
      "Oh my lord\n",
      ", thy thy, thy I I I I I I I I I I I I I I I I I I I I I I I I I I I I I I I I I I I I I I I I I I I I\n"
     ]
    },
    {
     "name": "stderr",
     "output_type": "stream",
     "text": [
      " 64%|███████████████████████████████▏                 | 1921/3019 [00:41<00:20, 53.05it/s]"
     ]
    },
    {
     "name": "stdout",
     "output_type": "stream",
     "text": [
      "5.339375972747803\n"
     ]
    },
    {
     "name": "stderr",
     "output_type": "stream",
     "text": [
      " 66%|████████████████████████████████▌                | 2005/3019 [00:43<00:41, 24.51it/s]"
     ]
    },
    {
     "name": "stdout",
     "output_type": "stream",
     "text": [
      "5.10425329208374\n",
      "Oh my lord\n",
      ": of\n",
      " a a,,,,,,,,,,,,,,,,,,,,,,,,,,,,,,,,,,,,,,,,,,,,\n"
     ]
    },
    {
     "name": "stderr",
     "output_type": "stream",
     "text": [
      " 70%|██████████████████████████████████▍              | 2121/3019 [00:46<00:16, 53.63it/s]"
     ]
    },
    {
     "name": "stdout",
     "output_type": "stream",
     "text": [
      "5.197390079498291\n"
     ]
    },
    {
     "name": "stderr",
     "output_type": "stream",
     "text": [
      " 74%|████████████████████████████████████             | 2221/3019 [00:48<00:16, 49.12it/s]"
     ]
    },
    {
     "name": "stdout",
     "output_type": "stream",
     "text": [
      "7.435320854187012\n",
      "Oh my lord\n",
      ":;,,,,,,,,,,,,,,,,,,,,,,,,,,,,,,,,,,,,,,,,,,,,,,,\n"
     ]
    },
    {
     "name": "stderr",
     "output_type": "stream",
     "text": [
      " 77%|█████████████████████████████████████▋           | 2321/3019 [00:50<00:13, 52.09it/s]"
     ]
    },
    {
     "name": "stdout",
     "output_type": "stream",
     "text": [
      "6.393999099731445\n"
     ]
    },
    {
     "name": "stderr",
     "output_type": "stream",
     "text": [
      " 80%|███████████████████████████████████████          | 2405/3019 [00:52<00:25, 23.93it/s]"
     ]
    },
    {
     "name": "stdout",
     "output_type": "stream",
     "text": [
      "7.485574722290039\n",
      "Oh my lord\n",
      " a a,,,,,,,,,,,,,,,,,,,,,,,,,,,,,,,,,,,,,,,,,,,,,,,\n"
     ]
    },
    {
     "name": "stderr",
     "output_type": "stream",
     "text": [
      " 84%|████████████████████████████████████████▉        | 2521/3019 [00:55<00:09, 51.45it/s]"
     ]
    },
    {
     "name": "stdout",
     "output_type": "stream",
     "text": [
      "7.4429192543029785\n"
     ]
    },
    {
     "name": "stderr",
     "output_type": "stream",
     "text": [
      " 87%|██████████████████████████████████████████▌      | 2621/3019 [00:57<00:08, 48.51it/s]"
     ]
    },
    {
     "name": "stdout",
     "output_type": "stream",
     "text": [
      "2.5149855613708496\n",
      "Oh my lord\n",
      ": of,,,,,,,,,,,,,,,,,,,,,,,,,,,,,,,,,,,,,,,,,,,,,,,\n"
     ]
    },
    {
     "name": "stderr",
     "output_type": "stream",
     "text": [
      " 90%|████████████████████████████████████████████▏    | 2721/3019 [00:59<00:05, 53.74it/s]"
     ]
    },
    {
     "name": "stdout",
     "output_type": "stream",
     "text": [
      "4.696096420288086\n"
     ]
    },
    {
     "name": "stderr",
     "output_type": "stream",
     "text": [
      " 93%|█████████████████████████████████████████████▊   | 2821/3019 [01:01<00:04, 48.31it/s]"
     ]
    },
    {
     "name": "stdout",
     "output_type": "stream",
     "text": [
      "5.970882415771484\n",
      "Oh my lord\n",
      ":;,,.,.,.,.,.,.,.,.,.,.,.,.,.,.,.,.,.,.,.,.,.....\n"
     ]
    },
    {
     "name": "stderr",
     "output_type": "stream",
     "text": [
      " 97%|███████████████████████████████████████████████▍ | 2921/3019 [01:03<00:01, 53.91it/s]"
     ]
    },
    {
     "name": "stdout",
     "output_type": "stream",
     "text": [
      "7.823840141296387\n"
     ]
    },
    {
     "name": "stderr",
     "output_type": "stream",
     "text": [
      "100%|█████████████████████████████████████████████████| 3019/3019 [01:06<00:00, 45.72it/s]"
     ]
    },
    {
     "name": "stdout",
     "output_type": "stream",
     "text": [
      "5.025279521942139\n",
      "Oh my lord\n",
      " a,,,,,,,,,,,,,,,,,, a,,,,,,,,,,,,,,,,,,,,,,,,,, a,,\n"
     ]
    },
    {
     "name": "stderr",
     "output_type": "stream",
     "text": [
      "\n"
     ]
    },
    {
     "name": "stdout",
     "output_type": "stream",
     "text": [
      "Epoch [1/10], Loss: 5.4860\n",
      "epoch 1\n"
     ]
    },
    {
     "name": "stderr",
     "output_type": "stream",
     "text": [
      "  0%|                                                    | 7/3019 [00:00<00:43, 69.82it/s]"
     ]
    },
    {
     "name": "stdout",
     "output_type": "stream",
     "text": [
      "5.76944637298584\n",
      "Oh my lord\n",
      ":,:,:,:\n",
      " me a a a a,, a,,,,,,,,,, a,,,,,,,,,,,,,,,,,,,,,,\n"
     ]
    },
    {
     "name": "stderr",
     "output_type": "stream",
     "text": [
      "  4%|██                                                | 121/3019 [00:02<00:53, 53.93it/s]"
     ]
    },
    {
     "name": "stdout",
     "output_type": "stream",
     "text": [
      "5.395726203918457\n"
     ]
    },
    {
     "name": "stderr",
     "output_type": "stream",
     "text": [
      "  7%|███▋                                              | 221/3019 [00:04<00:56, 49.11it/s]"
     ]
    },
    {
     "name": "stdout",
     "output_type": "stream",
     "text": [
      "3.7870712280273438\n",
      "Oh my lord\n",
      ", my,\n",
      " my my my\n",
      " my my,\n",
      " my my my\n",
      " my my my,\n",
      " my my\n",
      " my my my,\n",
      " my my my\n",
      " my my,\n",
      " my my my\n",
      " my my,\n",
      " my my my,\n"
     ]
    },
    {
     "name": "stderr",
     "output_type": "stream",
     "text": [
      " 11%|█████▎                                            | 321/3019 [00:06<00:49, 54.73it/s]"
     ]
    },
    {
     "name": "stdout",
     "output_type": "stream",
     "text": [
      "4.1613311767578125\n"
     ]
    },
    {
     "name": "stderr",
     "output_type": "stream",
     "text": [
      " 14%|██████▉                                           | 421/3019 [00:08<00:53, 48.46it/s]"
     ]
    },
    {
     "name": "stdout",
     "output_type": "stream",
     "text": [
      "1.8973206281661987\n",
      "Oh my lord\n",
      ":\n",
      "FirstFirstFirstFirstFirstFirst my my\n",
      " my of my,\n",
      " my my\n",
      " my of a,,,,,,,,,,,,,,,,,,,,,,,,,,,\n"
     ]
    },
    {
     "name": "stderr",
     "output_type": "stream",
     "text": [
      " 17%|████████▋                                         | 521/3019 [00:11<00:45, 54.60it/s]"
     ]
    },
    {
     "name": "stdout",
     "output_type": "stream",
     "text": [
      "6.920591354370117\n"
     ]
    },
    {
     "name": "stderr",
     "output_type": "stream",
     "text": [
      " 21%|██████████▎                                       | 621/3019 [00:13<00:49, 48.51it/s]"
     ]
    },
    {
     "name": "stdout",
     "output_type": "stream",
     "text": [
      "3.842439889907837\n",
      "Oh my lord\n",
      ":\n",
      "OUOUI.\n",
      "OUOUOUOUOUOUOUOU.OUOUOUOU.OUOU,,,,,,,,,,,,,,,,,,,,,,,,,,\n"
     ]
    },
    {
     "name": "stderr",
     "output_type": "stream",
     "text": [
      " 24%|███████████▉                                      | 721/3019 [00:15<00:41, 54.85it/s]"
     ]
    },
    {
     "name": "stdout",
     "output_type": "stream",
     "text": [
      "5.056027412414551\n"
     ]
    },
    {
     "name": "stderr",
     "output_type": "stream",
     "text": [
      " 27%|█████████████▌                                    | 821/3019 [00:17<00:45, 48.00it/s]"
     ]
    },
    {
     "name": "stdout",
     "output_type": "stream",
     "text": [
      "7.573494911193848\n",
      "Oh my lord,,,,,,,,,,,,,,,,,,,,,,,,:,:\n",
      " of,,,,,,,,,,,,,,,,,,,,,\n"
     ]
    },
    {
     "name": "stderr",
     "output_type": "stream",
     "text": [
      " 31%|███████████████▎                                  | 921/3019 [00:19<00:38, 54.41it/s]"
     ]
    },
    {
     "name": "stdout",
     "output_type": "stream",
     "text": [
      "6.440330505371094\n"
     ]
    },
    {
     "name": "stderr",
     "output_type": "stream",
     "text": [
      " 34%|████████████████▌                                | 1021/3019 [00:22<00:40, 49.02it/s]"
     ]
    },
    {
     "name": "stdout",
     "output_type": "stream",
     "text": [
      "7.61979866027832\n",
      "Oh my lord,,,,,,,,,,,,,,,,,,,,,,,,,,,,,,,,,,,,,,,,,,,,,,,,,,\n"
     ]
    },
    {
     "name": "stderr",
     "output_type": "stream",
     "text": [
      " 37%|██████████████████▏                              | 1121/3019 [00:24<00:34, 54.33it/s]"
     ]
    },
    {
     "name": "stdout",
     "output_type": "stream",
     "text": [
      "1.3780488967895508\n"
     ]
    },
    {
     "name": "stderr",
     "output_type": "stream",
     "text": [
      " 40%|███████████████████▊                             | 1221/3019 [00:26<00:37, 48.27it/s]"
     ]
    },
    {
     "name": "stdout",
     "output_type": "stream",
     "text": [
      "5.5746846199035645\n",
      "Oh my lord,,,,,,,,,,,,,,,,,,,,,,,,,,,,,,,,,,,,,,,,,,,,,,,, you you\n"
     ]
    },
    {
     "name": "stderr",
     "output_type": "stream",
     "text": [
      " 44%|█████████████████████▍                           | 1321/3019 [00:28<00:31, 54.62it/s]"
     ]
    },
    {
     "name": "stdout",
     "output_type": "stream",
     "text": [
      "7.29876184463501\n"
     ]
    },
    {
     "name": "stderr",
     "output_type": "stream",
     "text": [
      " 47%|███████████████████████                          | 1421/3019 [00:30<00:33, 47.93it/s]"
     ]
    },
    {
     "name": "stdout",
     "output_type": "stream",
     "text": [
      "6.879942893981934\n",
      "Oh my lord\n",
      ": of,\n",
      " of of what what what what what what what and and and and and and and and and and and and and and and and; and and; and and; and and; and; and and;\n",
      " and and and and\n"
     ]
    },
    {
     "name": "stderr",
     "output_type": "stream",
     "text": [
      " 50%|████████████████████████▋                        | 1521/3019 [00:32<00:27, 54.01it/s]"
     ]
    },
    {
     "name": "stdout",
     "output_type": "stream",
     "text": [
      "5.780572414398193\n"
     ]
    },
    {
     "name": "stderr",
     "output_type": "stream",
     "text": [
      " 54%|██████████████████████████▎                      | 1621/3019 [00:35<00:28, 48.71it/s]"
     ]
    },
    {
     "name": "stdout",
     "output_type": "stream",
     "text": [
      "6.614697456359863\n",
      "Oh my lord\n",
      ":\n",
      " of\n",
      " of of a a a,, a,,,,,,,,,,,,,,,,,,,,,,,,,,,,,,,,,,,,,\n"
     ]
    },
    {
     "name": "stderr",
     "output_type": "stream",
     "text": [
      " 57%|███████████████████████████▉                     | 1721/3019 [00:37<00:23, 54.54it/s]"
     ]
    },
    {
     "name": "stdout",
     "output_type": "stream",
     "text": [
      "7.15958309173584\n"
     ]
    },
    {
     "name": "stderr",
     "output_type": "stream",
     "text": [
      " 60%|█████████████████████████████▌                   | 1821/3019 [00:39<00:24, 48.10it/s]"
     ]
    },
    {
     "name": "stdout",
     "output_type": "stream",
     "text": [
      "1.3402528762817383\n",
      "Oh my lord\n",
      ", thy thy, thy I I I I I I I I I I I I I I I I I I I I I I I I I I I I I I I I I I I I I I I I I I I I\n"
     ]
    },
    {
     "name": "stderr",
     "output_type": "stream",
     "text": [
      " 64%|███████████████████████████████▏                 | 1921/3019 [00:41<00:20, 54.26it/s]"
     ]
    },
    {
     "name": "stdout",
     "output_type": "stream",
     "text": [
      "5.13337516784668\n"
     ]
    },
    {
     "name": "stderr",
     "output_type": "stream",
     "text": [
      " 67%|████████████████████████████████▊                | 2021/3019 [00:43<00:20, 47.56it/s]"
     ]
    },
    {
     "name": "stdout",
     "output_type": "stream",
     "text": [
      "5.016393661499023\n",
      "Oh my lord\n",
      ": of\n",
      " a a,,,,,,,,,,,,,,,,,,,,,,,,,,,,,,,,,,,,,,,,,,,,\n"
     ]
    },
    {
     "name": "stderr",
     "output_type": "stream",
     "text": [
      " 70%|██████████████████████████████████▍              | 2121/3019 [00:46<00:17, 52.39it/s]"
     ]
    },
    {
     "name": "stdout",
     "output_type": "stream",
     "text": [
      "5.057741641998291\n"
     ]
    },
    {
     "name": "stderr",
     "output_type": "stream",
     "text": [
      " 73%|███████████████████████████████████▊             | 2205/3019 [00:48<00:36, 22.41it/s]"
     ]
    },
    {
     "name": "stdout",
     "output_type": "stream",
     "text": [
      "7.194148063659668\n",
      "Oh my lord\n",
      ":;,,,,,,,,,,,,,,,,,,,,,,,,,,,,,,,,,,,,,,,,,,,,,,,\n"
     ]
    },
    {
     "name": "stderr",
     "output_type": "stream",
     "text": [
      " 77%|█████████████████████████████████████▋           | 2321/3019 [00:50<00:13, 53.09it/s]"
     ]
    },
    {
     "name": "stdout",
     "output_type": "stream",
     "text": [
      "6.09573221206665\n"
     ]
    },
    {
     "name": "stderr",
     "output_type": "stream",
     "text": [
      " 80%|███████████████████████████████████████▎         | 2421/3019 [00:53<00:12, 48.04it/s]"
     ]
    },
    {
     "name": "stdout",
     "output_type": "stream",
     "text": [
      "7.311812877655029\n",
      "Oh my lord\n",
      " a a,,,,,,,,,,,,,,,,,,,,,,,,,, a,,,,,,,,,,,,,,,,,,,,\n"
     ]
    },
    {
     "name": "stderr",
     "output_type": "stream",
     "text": [
      " 84%|████████████████████████████████████████▉        | 2521/3019 [00:55<00:09, 54.29it/s]"
     ]
    },
    {
     "name": "stdout",
     "output_type": "stream",
     "text": [
      "7.215010643005371\n"
     ]
    },
    {
     "name": "stderr",
     "output_type": "stream",
     "text": [
      " 87%|██████████████████████████████████████████▌      | 2621/3019 [00:57<00:08, 47.96it/s]"
     ]
    },
    {
     "name": "stdout",
     "output_type": "stream",
     "text": [
      "2.3279647827148438\n",
      "Oh my lord\n",
      ": of,,,,,,,,,,,,,,,,,,,,,,,,,,,,,,,,,,,,,,,,,,,,,,,\n"
     ]
    },
    {
     "name": "stderr",
     "output_type": "stream",
     "text": [
      " 90%|████████████████████████████████████████████▏    | 2721/3019 [00:59<00:05, 53.43it/s]"
     ]
    },
    {
     "name": "stdout",
     "output_type": "stream",
     "text": [
      "4.537994861602783\n"
     ]
    },
    {
     "name": "stderr",
     "output_type": "stream",
     "text": [
      " 93%|█████████████████████████████████████████████▊   | 2821/3019 [01:01<00:04, 47.81it/s]"
     ]
    },
    {
     "name": "stdout",
     "output_type": "stream",
     "text": [
      "5.709035873413086\n",
      "Oh my lord\n",
      ":;,,.,.,.,.,.,.,.,.,.,.,.,.,.,.,.,...............\n"
     ]
    },
    {
     "name": "stderr",
     "output_type": "stream",
     "text": [
      " 97%|███████████████████████████████████████████████▍ | 2921/3019 [01:03<00:01, 54.80it/s]"
     ]
    },
    {
     "name": "stdout",
     "output_type": "stream",
     "text": [
      "7.393028736114502\n"
     ]
    },
    {
     "name": "stderr",
     "output_type": "stream",
     "text": [
      "100%|█████████████████████████████████████████████████| 3019/3019 [01:06<00:00, 45.66it/s]"
     ]
    },
    {
     "name": "stdout",
     "output_type": "stream",
     "text": [
      "5.0819878578186035\n",
      "Oh my lord\n",
      " a,,,,,,,,,, a,,,,,,,,,,,,,,,,,, a,,,,,,,,,,,,,,,,,,\n"
     ]
    },
    {
     "name": "stderr",
     "output_type": "stream",
     "text": [
      "\n"
     ]
    },
    {
     "name": "stdout",
     "output_type": "stream",
     "text": [
      "Epoch [2/10], Loss: 5.2452\n",
      "epoch 2\n"
     ]
    },
    {
     "name": "stderr",
     "output_type": "stream",
     "text": [
      "  0%|                                                    | 6/3019 [00:00<00:50, 59.80it/s]"
     ]
    },
    {
     "name": "stdout",
     "output_type": "stream",
     "text": [
      "5.521025657653809\n",
      "Oh my lord\n",
      ":,:,:; a,, a,, a,,,,,,,,,, a,,,,,,,,,,,,,,,,,, a,,,,,,\n"
     ]
    },
    {
     "name": "stderr",
     "output_type": "stream",
     "text": [
      "  4%|██                                                | 121/3019 [00:02<00:54, 53.53it/s]"
     ]
    },
    {
     "name": "stdout",
     "output_type": "stream",
     "text": [
      "5.244872093200684\n"
     ]
    },
    {
     "name": "stderr",
     "output_type": "stream",
     "text": [
      "  7%|███▋                                              | 221/3019 [00:04<00:57, 48.99it/s]"
     ]
    },
    {
     "name": "stdout",
     "output_type": "stream",
     "text": [
      "3.722022294998169\n",
      "Oh my lord\n",
      ", my my\n",
      " my my,\n",
      " my my my\n",
      " my my my\n",
      " my my my\n",
      " my my my,\n",
      " my my my\n",
      " my my my\n",
      " my my you you you you you you you you you you you you you you\n"
     ]
    },
    {
     "name": "stderr",
     "output_type": "stream",
     "text": [
      " 11%|█████▎                                            | 321/3019 [00:06<00:49, 54.35it/s]"
     ]
    },
    {
     "name": "stdout",
     "output_type": "stream",
     "text": [
      "4.030699729919434\n"
     ]
    },
    {
     "name": "stderr",
     "output_type": "stream",
     "text": [
      " 13%|██████▋                                           | 401/3019 [00:08<02:11, 19.90it/s]"
     ]
    },
    {
     "name": "stdout",
     "output_type": "stream",
     "text": [
      "1.6861549615859985\n",
      "Oh my lord\n",
      ":\n",
      "FirstFirstFirstFirstFirst my my\n",
      " my of my of a,, a,,,,,,,,,,,,,,,,,,,,,,,,,,,,,,,\n"
     ]
    },
    {
     "name": "stderr",
     "output_type": "stream",
     "text": [
      " 17%|████████▋                                         | 521/3019 [00:11<00:45, 54.67it/s]"
     ]
    },
    {
     "name": "stdout",
     "output_type": "stream",
     "text": [
      "6.566405773162842\n"
     ]
    },
    {
     "name": "stderr",
     "output_type": "stream",
     "text": [
      " 20%|█████████▉                                        | 599/3019 [00:14<03:52, 10.43it/s]"
     ]
    },
    {
     "name": "stdout",
     "output_type": "stream",
     "text": [
      "3.384103298187256\n"
     ]
    },
    {
     "name": "stderr",
     "output_type": "stream",
     "text": [
      " 20%|█████████▉                                        | 601/3019 [00:17<15:29,  2.60it/s]"
     ]
    },
    {
     "name": "stdout",
     "output_type": "stream",
     "text": [
      "Oh my lord,,,,,,,,,,,,,,,,:\n",
      " of,,,,,,,,,,,,,,,,,,,,,,,,,,,,,,,\n"
     ]
    },
    {
     "name": "stderr",
     "output_type": "stream",
     "text": [
      " 23%|███████████▌                                      | 701/3019 [00:27<22:15,  1.74it/s]"
     ]
    },
    {
     "name": "stdout",
     "output_type": "stream",
     "text": [
      "4.736268043518066\n"
     ]
    },
    {
     "name": "stderr",
     "output_type": "stream",
     "text": [
      " 26%|█████████████▏                                    | 800/3019 [00:36<03:58,  9.30it/s]"
     ]
    },
    {
     "name": "stdout",
     "output_type": "stream",
     "text": [
      "7.362662315368652\n"
     ]
    },
    {
     "name": "stderr",
     "output_type": "stream",
     "text": [
      " 27%|█████████████▍                                    | 810/3019 [00:39<06:52,  5.35it/s]"
     ]
    },
    {
     "name": "stdout",
     "output_type": "stream",
     "text": [
      "Oh my lord,,,,,,,,,,,,,,,,:\n",
      ",,,,,,,,,,,,,,,,,,,,,,,,,,,,,,,,\n"
     ]
    },
    {
     "name": "stderr",
     "output_type": "stream",
     "text": [
      " 30%|███████████████                                   | 913/3019 [00:49<03:29, 10.03it/s]"
     ]
    },
    {
     "name": "stdout",
     "output_type": "stream",
     "text": [
      "6.3568572998046875\n"
     ]
    },
    {
     "name": "stderr",
     "output_type": "stream",
     "text": [
      " 33%|████████████████▏                                | 1000/3019 [00:58<03:25,  9.83it/s]"
     ]
    },
    {
     "name": "stdout",
     "output_type": "stream",
     "text": [
      "7.3562140464782715\n"
     ]
    },
    {
     "name": "stderr",
     "output_type": "stream",
     "text": [
      " 33%|████████████████▍                                | 1010/3019 [01:00<06:02,  5.54it/s]"
     ]
    },
    {
     "name": "stdout",
     "output_type": "stream",
     "text": [
      "Oh my lord,,,,,,,,,,,,,,,,,,,,,,,,,,,,,,,,,,,,,,,,,,,,,,,,,,\n"
     ]
    },
    {
     "name": "stderr",
     "output_type": "stream",
     "text": [
      " 37%|██████████████████                               | 1112/3019 [01:11<03:26,  9.23it/s]"
     ]
    },
    {
     "name": "stdout",
     "output_type": "stream",
     "text": [
      "1.1981719732284546\n"
     ]
    },
    {
     "name": "stderr",
     "output_type": "stream",
     "text": [
      " 40%|███████████████████▍                             | 1199/3019 [01:20<03:43,  8.14it/s]"
     ]
    },
    {
     "name": "stdout",
     "output_type": "stream",
     "text": [
      "5.435676574707031\n"
     ]
    },
    {
     "name": "stderr",
     "output_type": "stream",
     "text": [
      " 40%|███████████████████▋                             | 1214/3019 [01:25<06:21,  4.74it/s]"
     ]
    },
    {
     "name": "stdout",
     "output_type": "stream",
     "text": [
      "Oh my lord,,,,,,,,,,,,,,,,,,,,,,,,,,,,,,,,,,,,,,,,,,,,,,,, you you\n"
     ]
    },
    {
     "name": "stderr",
     "output_type": "stream",
     "text": [
      " 43%|█████████████████████                            | 1300/3019 [01:34<12:40,  2.26it/s]"
     ]
    },
    {
     "name": "stdout",
     "output_type": "stream",
     "text": [
      "7.052342414855957\n"
     ]
    },
    {
     "name": "stderr",
     "output_type": "stream",
     "text": [
      " 46%|██████████████████████▋                          | 1399/3019 [01:46<04:07,  6.54it/s]"
     ]
    },
    {
     "name": "stdout",
     "output_type": "stream",
     "text": [
      "6.596590995788574\n"
     ]
    },
    {
     "name": "stderr",
     "output_type": "stream",
     "text": [
      " 47%|██████████████████████▉                          | 1410/3019 [01:49<04:52,  5.50it/s]"
     ]
    },
    {
     "name": "stdout",
     "output_type": "stream",
     "text": [
      "Oh my lord\n",
      ": of,\n",
      " of of what what what what what what my and and and and and and and and and and and; and and; and; and\n",
      " and and and; and and; and;\n",
      " and and and and; and;\n"
     ]
    },
    {
     "name": "stderr",
     "output_type": "stream",
     "text": [
      " 50%|████████████████████████▌                        | 1510/3019 [02:01<03:30,  7.16it/s]"
     ]
    },
    {
     "name": "stdout",
     "output_type": "stream",
     "text": [
      "5.474974632263184\n"
     ]
    },
    {
     "name": "stderr",
     "output_type": "stream",
     "text": [
      " 53%|█████████████████████████▉                       | 1599/3019 [02:10<02:42,  8.72it/s]"
     ]
    },
    {
     "name": "stdout",
     "output_type": "stream",
     "text": [
      "6.549405097961426\n"
     ]
    },
    {
     "name": "stderr",
     "output_type": "stream",
     "text": [
      " 53%|██████████████████████████▏                      | 1611/3019 [02:13<03:55,  5.97it/s]"
     ]
    },
    {
     "name": "stdout",
     "output_type": "stream",
     "text": [
      "Oh my lord\n",
      ":\n",
      " of\n",
      " of of\n",
      " a a a a a a,, a,, a,, a,,,,,,,,,,,,,,,,,,,,,,,,,,,\n"
     ]
    },
    {
     "name": "stderr",
     "output_type": "stream",
     "text": [
      " 57%|███████████████████████████▊                     | 1712/3019 [02:25<02:40,  8.13it/s]"
     ]
    },
    {
     "name": "stdout",
     "output_type": "stream",
     "text": [
      "6.825686454772949\n"
     ]
    },
    {
     "name": "stderr",
     "output_type": "stream",
     "text": [
      " 60%|█████████████████████████████▏                   | 1799/3019 [02:34<02:07,  9.57it/s]"
     ]
    },
    {
     "name": "stdout",
     "output_type": "stream",
     "text": [
      "0.9878969788551331\n"
     ]
    },
    {
     "name": "stderr",
     "output_type": "stream",
     "text": [
      " 60%|█████████████████████████████▎                   | 1809/3019 [02:37<03:45,  5.37it/s]"
     ]
    },
    {
     "name": "stdout",
     "output_type": "stream",
     "text": [
      "Oh my lord, not to to to to to you you you you you you you you you you you you you you you you you, you, you you, you, you, you you,,,,,,,,, you,,,,\n"
     ]
    },
    {
     "name": "stderr",
     "output_type": "stream",
     "text": [
      " 63%|███████████████████████████████                  | 1912/3019 [02:48<02:00,  9.15it/s]"
     ]
    },
    {
     "name": "stdout",
     "output_type": "stream",
     "text": [
      "4.889806747436523\n"
     ]
    },
    {
     "name": "stderr",
     "output_type": "stream",
     "text": [
      " 66%|████████████████████████████████▍                | 2000/3019 [02:57<02:03,  8.22it/s]"
     ]
    },
    {
     "name": "stdout",
     "output_type": "stream",
     "text": [
      "4.906648635864258\n"
     ]
    },
    {
     "name": "stderr",
     "output_type": "stream",
     "text": [
      " 67%|████████████████████████████████▋                | 2011/3019 [02:59<02:53,  5.83it/s]"
     ]
    },
    {
     "name": "stdout",
     "output_type": "stream",
     "text": [
      "Oh my lord\n",
      ": of\n",
      " of a a,, a,,,,,,,,,,,,,,,,,,,,,,,,,,,,,,,,,,,,,,,,\n"
     ]
    },
    {
     "name": "stderr",
     "output_type": "stream",
     "text": [
      " 70%|██████████████████████████████████▎              | 2111/3019 [03:11<01:47,  8.45it/s]"
     ]
    },
    {
     "name": "stdout",
     "output_type": "stream",
     "text": [
      "4.956395149230957\n"
     ]
    },
    {
     "name": "stderr",
     "output_type": "stream",
     "text": [
      " 73%|███████████████████████████████████▋             | 2200/3019 [03:20<04:12,  3.24it/s]"
     ]
    },
    {
     "name": "stdout",
     "output_type": "stream",
     "text": [
      "6.913549423217773\n"
     ]
    },
    {
     "name": "stderr",
     "output_type": "stream",
     "text": [
      " 73%|███████████████████████████████████▊             | 2210/3019 [03:23<02:21,  5.74it/s]"
     ]
    },
    {
     "name": "stdout",
     "output_type": "stream",
     "text": [
      "Oh my lord\n",
      ": of,\n",
      " my;, thee thee\n",
      " thee thee, thee\n",
      " thee thee thou thou thou thou thou thou thou thou thou thou thou thou thou thou thou thou thou thou thou thou thou thou thou thou thou thou thou thou thou thou thou thou\n"
     ]
    },
    {
     "name": "stderr",
     "output_type": "stream",
     "text": [
      " 76%|█████████████████████████████████████▍           | 2309/3019 [03:33<01:51,  6.38it/s]"
     ]
    },
    {
     "name": "stdout",
     "output_type": "stream",
     "text": [
      "5.801706314086914\n"
     ]
    },
    {
     "name": "stderr",
     "output_type": "stream",
     "text": [
      " 79%|██████████████████████████████████████▉          | 2400/3019 [03:42<01:06,  9.34it/s]"
     ]
    },
    {
     "name": "stdout",
     "output_type": "stream",
     "text": [
      "7.111647129058838\n"
     ]
    },
    {
     "name": "stderr",
     "output_type": "stream",
     "text": [
      " 80%|███████████████████████████████████████          | 2409/3019 [03:45<02:03,  4.96it/s]"
     ]
    },
    {
     "name": "stdout",
     "output_type": "stream",
     "text": [
      "Oh my lord\n",
      " a a,,,,,,,,,, a,,,,,,,,,,,,,,,,,, a,,,,,,,,,, a,,,,,,\n"
     ]
    },
    {
     "name": "stderr",
     "output_type": "stream",
     "text": [
      " 83%|████████████████████████████████████████▋        | 2510/3019 [03:56<01:04,  7.87it/s]"
     ]
    },
    {
     "name": "stdout",
     "output_type": "stream",
     "text": [
      "6.979058265686035\n"
     ]
    },
    {
     "name": "stderr",
     "output_type": "stream",
     "text": [
      " 86%|██████████████████████████████████████████▏      | 2600/3019 [04:05<00:42,  9.78it/s]"
     ]
    },
    {
     "name": "stdout",
     "output_type": "stream",
     "text": [
      "2.136423110961914\n"
     ]
    },
    {
     "name": "stderr",
     "output_type": "stream",
     "text": [
      " 86%|██████████████████████████████████████████▍      | 2611/3019 [04:07<01:06,  6.13it/s]"
     ]
    },
    {
     "name": "stdout",
     "output_type": "stream",
     "text": [
      "Oh my lord\n",
      ": of,,,,,,,, of,,,,,,,,,,,,,,,,,,,,,,,,,,,,,,,,,,,,,,\n"
     ]
    },
    {
     "name": "stderr",
     "output_type": "stream",
     "text": [
      " 90%|████████████████████████████████████████████     | 2712/3019 [04:17<00:32,  9.40it/s]"
     ]
    },
    {
     "name": "stdout",
     "output_type": "stream",
     "text": [
      "4.389835834503174\n"
     ]
    },
    {
     "name": "stderr",
     "output_type": "stream",
     "text": [
      " 93%|█████████████████████████████████████████████▍   | 2800/3019 [04:26<00:23,  9.39it/s]"
     ]
    },
    {
     "name": "stdout",
     "output_type": "stream",
     "text": [
      "5.450019836425781\n"
     ]
    },
    {
     "name": "stderr",
     "output_type": "stream",
     "text": [
      " 93%|█████████████████████████████████████████████▌   | 2811/3019 [04:29<00:34,  6.05it/s]"
     ]
    },
    {
     "name": "stdout",
     "output_type": "stream",
     "text": [
      "Oh my lord,\n",
      " my from from from, from\n",
      " no no more from more from I from I I from I your your your your your your your your your your your your your your your your your your your your your your your your your your your your your\n"
     ]
    },
    {
     "name": "stderr",
     "output_type": "stream",
     "text": [
      " 96%|███████████████████████████████████████████████▏ | 2910/3019 [04:40<00:14,  7.69it/s]"
     ]
    },
    {
     "name": "stdout",
     "output_type": "stream",
     "text": [
      "6.992526054382324\n"
     ]
    },
    {
     "name": "stderr",
     "output_type": "stream",
     "text": [
      " 99%|████████████████████████████████████████████████▋| 3000/3019 [04:48<00:01,  9.58it/s]"
     ]
    },
    {
     "name": "stdout",
     "output_type": "stream",
     "text": [
      "5.099965572357178\n"
     ]
    },
    {
     "name": "stderr",
     "output_type": "stream",
     "text": [
      "100%|████████████████████████████████████████████████▊| 3010/3019 [04:51<00:01,  5.61it/s]"
     ]
    },
    {
     "name": "stdout",
     "output_type": "stream",
     "text": [
      "Oh my lord\n",
      " a,,,,,,,,,, a,,,,,,,,,, a,,,,,,,,,, a,, a,, a,, a,, a,, a\n"
     ]
    },
    {
     "name": "stderr",
     "output_type": "stream",
     "text": [
      "100%|█████████████████████████████████████████████████| 3019/3019 [04:51<00:00, 10.35it/s]\n"
     ]
    },
    {
     "name": "stdout",
     "output_type": "stream",
     "text": [
      "Epoch [3/10], Loss: 5.0898\n",
      "epoch 3\n"
     ]
    },
    {
     "name": "stderr",
     "output_type": "stream",
     "text": [
      "  0%|                                                            | 0/3019 [00:00<?, ?it/s]"
     ]
    },
    {
     "name": "stdout",
     "output_type": "stream",
     "text": [
      "5.278284549713135\n"
     ]
    },
    {
     "name": "stderr",
     "output_type": "stream",
     "text": [
      "  0%|▏                                                  | 11/3019 [00:00<03:19, 15.07it/s]"
     ]
    },
    {
     "name": "stdout",
     "output_type": "stream",
     "text": [
      "Oh my lord\n",
      ":,:,:; a a,, a,, a,, a,, a,, a a,, a,, a a,, a a,, a a,, a,, a a,, a\n"
     ]
    },
    {
     "name": "stderr",
     "output_type": "stream",
     "text": [
      "  4%|█▊                                                | 112/3019 [00:11<05:13,  9.28it/s]"
     ]
    },
    {
     "name": "stdout",
     "output_type": "stream",
     "text": [
      "5.074894905090332\n"
     ]
    },
    {
     "name": "stderr",
     "output_type": "stream",
     "text": [
      "  7%|███▎                                              | 200/3019 [00:20<05:00,  9.38it/s]"
     ]
    },
    {
     "name": "stdout",
     "output_type": "stream",
     "text": [
      "3.6463301181793213\n"
     ]
    },
    {
     "name": "stderr",
     "output_type": "stream",
     "text": [
      "  7%|███▍                                              | 211/3019 [00:22<07:42,  6.07it/s]"
     ]
    },
    {
     "name": "stdout",
     "output_type": "stream",
     "text": [
      "Oh my lord\n",
      ", my from\n",
      " my my,\n",
      " my my my\n",
      " my my my from\n",
      " my my from\n",
      " my, my\n",
      " my my my\n",
      " my my my from\n",
      " my my of,\n",
      " my my from from\n",
      " my, from\n",
      " my\n"
     ]
    },
    {
     "name": "stderr",
     "output_type": "stream",
     "text": [
      " 10%|█████                                             | 306/3019 [00:33<09:49,  4.61it/s]"
     ]
    },
    {
     "name": "stdout",
     "output_type": "stream",
     "text": [
      "3.905843734741211\n"
     ]
    },
    {
     "name": "stderr",
     "output_type": "stream",
     "text": [
      " 13%|██████▌                                           | 400/3019 [00:42<04:30,  9.69it/s]"
     ]
    },
    {
     "name": "stdout",
     "output_type": "stream",
     "text": [
      "1.4391422271728516\n"
     ]
    },
    {
     "name": "stderr",
     "output_type": "stream",
     "text": [
      " 14%|██████▊                                           | 410/3019 [00:44<07:43,  5.63it/s]"
     ]
    },
    {
     "name": "stdout",
     "output_type": "stream",
     "text": [
      "Oh my lord\n",
      ":\n",
      "FirstFirstFirstFirst my my of,\n",
      " my my\n",
      " my my\n",
      " of a a,, a,,,,,,,,,,,,,,,,,,,,,,,,,,\n"
     ]
    },
    {
     "name": "stderr",
     "output_type": "stream",
     "text": [
      " 17%|████████▍                                         | 509/3019 [00:55<06:01,  6.95it/s]"
     ]
    },
    {
     "name": "stdout",
     "output_type": "stream",
     "text": [
      "6.198441028594971\n"
     ]
    },
    {
     "name": "stderr",
     "output_type": "stream",
     "text": [
      " 20%|█████████▉                                        | 600/3019 [01:04<04:27,  9.04it/s]"
     ]
    },
    {
     "name": "stdout",
     "output_type": "stream",
     "text": [
      "2.882537364959717\n"
     ]
    },
    {
     "name": "stderr",
     "output_type": "stream",
     "text": [
      " 20%|██████████                                        | 611/3019 [01:07<06:44,  5.95it/s]"
     ]
    },
    {
     "name": "stdout",
     "output_type": "stream",
     "text": [
      "Oh my lord,,,,,,,,:\n",
      "\n",
      "\n",
      " of,,,,,,,,,,,,,,,,,,,,,,,,,,,,,,,,,,,,,\n"
     ]
    },
    {
     "name": "stderr",
     "output_type": "stream",
     "text": [
      " 24%|███████████▊                                      | 712/3019 [01:18<04:13,  9.10it/s]"
     ]
    },
    {
     "name": "stdout",
     "output_type": "stream",
     "text": [
      "4.336553573608398\n"
     ]
    },
    {
     "name": "stderr",
     "output_type": "stream",
     "text": [
      " 26%|█████████████▏                                    | 800/3019 [01:26<03:48,  9.71it/s]"
     ]
    },
    {
     "name": "stdout",
     "output_type": "stream",
     "text": [
      "7.1125407218933105\n"
     ]
    },
    {
     "name": "stderr",
     "output_type": "stream",
     "text": [
      " 27%|█████████████▍                                    | 811/3019 [01:29<06:02,  6.09it/s]"
     ]
    },
    {
     "name": "stdout",
     "output_type": "stream",
     "text": [
      "Oh my lord,,,,,,,,,,,,,,,,:,:\n",
      " of,,,,,,,,,,,,,,,, of,,,,,,,,,,,,\n"
     ]
    },
    {
     "name": "stderr",
     "output_type": "stream",
     "text": [
      " 30%|███████████████                                   | 912/3019 [01:39<03:46,  9.29it/s]"
     ]
    },
    {
     "name": "stdout",
     "output_type": "stream",
     "text": [
      "6.280756950378418\n"
     ]
    },
    {
     "name": "stderr",
     "output_type": "stream",
     "text": [
      " 33%|████████████████▏                                | 1000/3019 [01:48<03:37,  9.29it/s]"
     ]
    },
    {
     "name": "stdout",
     "output_type": "stream",
     "text": [
      "7.100739002227783\n"
     ]
    },
    {
     "name": "stderr",
     "output_type": "stream",
     "text": [
      " 34%|████████████████▍                                | 1012/3019 [01:51<05:06,  6.55it/s]"
     ]
    },
    {
     "name": "stdout",
     "output_type": "stream",
     "text": [
      "Oh my lord,,,,,,,,,,,,,,,,,,,,,,,,,,,,,,,,,,,,,,,,:,:,:,:;;;\n"
     ]
    },
    {
     "name": "stderr",
     "output_type": "stream",
     "text": [
      " 37%|██████████████████                               | 1111/3019 [02:01<03:39,  8.68it/s]"
     ]
    },
    {
     "name": "stdout",
     "output_type": "stream",
     "text": [
      "1.0862637758255005\n"
     ]
    },
    {
     "name": "stderr",
     "output_type": "stream",
     "text": [
      " 40%|███████████████████▍                             | 1200/3019 [02:10<03:17,  9.22it/s]"
     ]
    },
    {
     "name": "stdout",
     "output_type": "stream",
     "text": [
      "5.249495506286621\n"
     ]
    },
    {
     "name": "stderr",
     "output_type": "stream",
     "text": [
      " 40%|███████████████████▋                             | 1211/3019 [02:13<04:56,  6.09it/s]"
     ]
    },
    {
     "name": "stdout",
     "output_type": "stream",
     "text": [
      "Oh my lord,,,,,,,,,,,,,,,,,,,,,,,,,,,,,,,,,,,,,,,, you you you you you you you you you you\n"
     ]
    },
    {
     "name": "stderr",
     "output_type": "stream",
     "text": [
      " 43%|█████████████████████                            | 1299/3019 [02:27<02:45, 10.40it/s]"
     ]
    },
    {
     "name": "stdout",
     "output_type": "stream",
     "text": [
      "6.75404167175293\n"
     ]
    },
    {
     "name": "stderr",
     "output_type": "stream",
     "text": [
      " 46%|██████████████████████▋                          | 1400/3019 [02:37<02:46,  9.71it/s]"
     ]
    },
    {
     "name": "stdout",
     "output_type": "stream",
     "text": [
      "6.302060127258301\n"
     ]
    },
    {
     "name": "stderr",
     "output_type": "stream",
     "text": [
      " 47%|██████████████████████▉                          | 1413/3019 [02:39<03:42,  7.23it/s]"
     ]
    },
    {
     "name": "stdout",
     "output_type": "stream",
     "text": [
      "Oh my lord\n",
      ": of of\n",
      " of a a a,, a,, a,, a a,, a,, a,, a,, a a,, a a,, a a,, a a,, a a,,\n"
     ]
    },
    {
     "name": "stderr",
     "output_type": "stream",
     "text": [
      " 50%|████████████████████████▍                        | 1508/3019 [02:50<04:27,  5.64it/s]"
     ]
    },
    {
     "name": "stdout",
     "output_type": "stream",
     "text": [
      "5.1197381019592285\n"
     ]
    },
    {
     "name": "stderr",
     "output_type": "stream",
     "text": [
      " 53%|█████████████████████████▉                       | 1600/3019 [02:59<02:28,  9.55it/s]"
     ]
    },
    {
     "name": "stdout",
     "output_type": "stream",
     "text": [
      "6.492030143737793\n"
     ]
    },
    {
     "name": "stderr",
     "output_type": "stream",
     "text": [
      " 53%|██████████████████████████                       | 1609/3019 [03:01<04:38,  5.06it/s]"
     ]
    },
    {
     "name": "stdout",
     "output_type": "stream",
     "text": [
      "Oh my lord\n",
      ":\n",
      " of\n",
      " of of\n",
      " a a a a a a a a,, a,, a,, a,, a,, a,, a,, a,, a,, a,, a,, a a\n"
     ]
    },
    {
     "name": "stderr",
     "output_type": "stream",
     "text": [
      " 57%|███████████████████████████▊                     | 1710/3019 [03:12<02:47,  7.82it/s]"
     ]
    },
    {
     "name": "stdout",
     "output_type": "stream",
     "text": [
      "6.4680399894714355\n"
     ]
    },
    {
     "name": "stderr",
     "output_type": "stream",
     "text": [
      " 60%|█████████████████████████████▏                   | 1797/3019 [03:22<08:06,  2.51it/s]"
     ]
    },
    {
     "name": "stdout",
     "output_type": "stream",
     "text": [
      "0.684388279914856\n"
     ]
    },
    {
     "name": "stderr",
     "output_type": "stream",
     "text": [
      " 60%|█████████████████████████████▏                   | 1801/3019 [03:24<10:51,  1.87it/s]"
     ]
    },
    {
     "name": "stdout",
     "output_type": "stream",
     "text": [
      "Oh my lord, not to to to to you you you you you you you you you you you you, you, you you, you, you,,,,,,,,, you,,,,,,,, you,,,,\n"
     ]
    },
    {
     "name": "stderr",
     "output_type": "stream",
     "text": [
      " 63%|███████████████████████████████                  | 1911/3019 [03:35<02:10,  8.50it/s]"
     ]
    },
    {
     "name": "stdout",
     "output_type": "stream",
     "text": [
      "4.633691310882568\n"
     ]
    },
    {
     "name": "stderr",
     "output_type": "stream",
     "text": [
      " 66%|████████████████████████████████▍                | 2000/3019 [03:44<01:47,  9.51it/s]"
     ]
    },
    {
     "name": "stdout",
     "output_type": "stream",
     "text": [
      "4.828655242919922\n"
     ]
    },
    {
     "name": "stderr",
     "output_type": "stream",
     "text": [
      " 67%|████████████████████████████████▌                | 2009/3019 [03:47<03:20,  5.03it/s]"
     ]
    },
    {
     "name": "stdout",
     "output_type": "stream",
     "text": [
      "Oh my lord\n",
      ": of\n",
      " of a a a,,,,,,,,,,,,,,,,,,,,,,,,,,,,,,,,,,,,,,,,,,\n"
     ]
    },
    {
     "name": "stderr",
     "output_type": "stream",
     "text": [
      " 70%|██████████████████████████████████▎              | 2111/3019 [03:57<01:46,  8.49it/s]"
     ]
    },
    {
     "name": "stdout",
     "output_type": "stream",
     "text": [
      "4.873596668243408\n"
     ]
    },
    {
     "name": "stderr",
     "output_type": "stream",
     "text": [
      " 73%|███████████████████████████████████▋             | 2200/3019 [04:06<01:26,  9.45it/s]"
     ]
    },
    {
     "name": "stdout",
     "output_type": "stream",
     "text": [
      "6.621037483215332\n"
     ]
    },
    {
     "name": "stderr",
     "output_type": "stream",
     "text": [
      " 73%|███████████████████████████████████▉             | 2211/3019 [04:09<02:12,  6.10it/s]"
     ]
    },
    {
     "name": "stdout",
     "output_type": "stream",
     "text": [
      "Oh my lord\n",
      ": of,\n",
      " my;, thee thee thee\n",
      " thee thee\n",
      " thee's's\n",
      "'s's's\n",
      "'s's\n",
      "MyMyMyMyMy myMy my of my of of of my of of, my, my, thee thee,\n"
     ]
    },
    {
     "name": "stderr",
     "output_type": "stream",
     "text": [
      " 76%|█████████████████████████████████████▍           | 2308/3019 [04:19<01:49,  6.51it/s]"
     ]
    },
    {
     "name": "stdout",
     "output_type": "stream",
     "text": [
      "5.4894914627075195\n"
     ]
    },
    {
     "name": "stderr",
     "output_type": "stream",
     "text": [
      " 79%|██████████████████████████████████████▉          | 2399/3019 [04:29<00:33, 18.40it/s]"
     ]
    },
    {
     "name": "stdout",
     "output_type": "stream",
     "text": [
      "6.850987434387207\n"
     ]
    },
    {
     "name": "stderr",
     "output_type": "stream",
     "text": [
      " 80%|███████████████████████████████████████▏         | 2412/3019 [04:32<01:24,  7.17it/s]"
     ]
    },
    {
     "name": "stdout",
     "output_type": "stream",
     "text": [
      "Oh my lord\n",
      " a a,, a,,,,,,,,,, a,, a,, a,, a,, a a,, a,, a,, a a,, a,, a,, a a\n"
     ]
    },
    {
     "name": "stderr",
     "output_type": "stream",
     "text": [
      " 83%|████████████████████████████████████████▋        | 2509/3019 [04:47<01:06,  7.63it/s]"
     ]
    },
    {
     "name": "stdout",
     "output_type": "stream",
     "text": [
      "6.732120513916016\n"
     ]
    },
    {
     "name": "stderr",
     "output_type": "stream",
     "text": [
      " 86%|██████████████████████████████████████████▏      | 2600/3019 [04:56<00:51,  8.19it/s]"
     ]
    },
    {
     "name": "stdout",
     "output_type": "stream",
     "text": [
      "2.008538007736206\n"
     ]
    },
    {
     "name": "stderr",
     "output_type": "stream",
     "text": [
      " 86%|██████████████████████████████████████████▎      | 2609/3019 [04:59<01:30,  4.55it/s]"
     ]
    },
    {
     "name": "stdout",
     "output_type": "stream",
     "text": [
      "Oh my lord\n",
      ": of of,,,,,,,,,,,,,,,,,,,,,,,,,,,,,,,, of,,,,,,,,,,,,,\n"
     ]
    },
    {
     "name": "stderr",
     "output_type": "stream",
     "text": [
      " 89%|███████████████████████████████████████████▊     | 2700/3019 [05:09<00:40,  7.87it/s]"
     ]
    },
    {
     "name": "stdout",
     "output_type": "stream",
     "text": [
      "4.139251708984375\n"
     ]
    },
    {
     "name": "stderr",
     "output_type": "stream",
     "text": [
      " 93%|█████████████████████████████████████████████▌   | 2804/3019 [05:14<00:09, 23.56it/s]"
     ]
    },
    {
     "name": "stdout",
     "output_type": "stream",
     "text": [
      "5.193159103393555\n",
      "Oh my lord the death death death death death death death death death death death death death death death death death death death by by\n",
      " by by by a a a a a a a a a a a a a a a a,, a,, a,,\n"
     ]
    },
    {
     "name": "stderr",
     "output_type": "stream",
     "text": [
      " 97%|███████████████████████████████████████████████▍ | 2921/3019 [05:16<00:01, 51.67it/s]"
     ]
    },
    {
     "name": "stdout",
     "output_type": "stream",
     "text": [
      "6.604251384735107\n"
     ]
    },
    {
     "name": "stderr",
     "output_type": "stream",
     "text": [
      "100%|█████████████████████████████████████████████████| 3019/3019 [05:18<00:00,  9.47it/s]"
     ]
    },
    {
     "name": "stdout",
     "output_type": "stream",
     "text": [
      "5.104969024658203\n",
      "Oh my lord\n",
      " a,,,,,,,,,, a,,,,,,,,,, a,, a,, a,, a a,, a a,, a a,, a a,, a a\n"
     ]
    },
    {
     "name": "stderr",
     "output_type": "stream",
     "text": [
      "\n"
     ]
    },
    {
     "name": "stdout",
     "output_type": "stream",
     "text": [
      "Epoch [4/10], Loss: 4.9183\n",
      "epoch 4\n"
     ]
    },
    {
     "name": "stderr",
     "output_type": "stream",
     "text": [
      "  0%|                                                    | 2/3019 [00:00<02:32, 19.82it/s]"
     ]
    },
    {
     "name": "stdout",
     "output_type": "stream",
     "text": [
      "5.051997661590576\n",
      "Oh my lord\n",
      ":,:,:; a a a,, a a,, a a a a,, a a a a,, a a a,, a a a,, a a a,, a a a,, a a\n"
     ]
    },
    {
     "name": "stderr",
     "output_type": "stream",
     "text": [
      "  4%|██                                                | 121/3019 [00:02<00:55, 52.40it/s]"
     ]
    },
    {
     "name": "stdout",
     "output_type": "stream",
     "text": [
      "4.88855504989624\n"
     ]
    },
    {
     "name": "stderr",
     "output_type": "stream",
     "text": [
      "  7%|███▍                                              | 205/3019 [00:04<01:55, 24.39it/s]"
     ]
    },
    {
     "name": "stdout",
     "output_type": "stream",
     "text": [
      "3.591200351715088\n",
      "Oh my lord\n",
      ", my from\n",
      " my my from,\n",
      " my my from\n",
      " my my from\n",
      ", my from\n",
      " my my from,\n",
      " my my\n",
      " my my from from\n",
      " my, from\n",
      " my my'',\n",
      " my my of of from\n"
     ]
    },
    {
     "name": "stderr",
     "output_type": "stream",
     "text": [
      " 11%|█████▎                                            | 321/3019 [00:06<00:51, 52.03it/s]"
     ]
    },
    {
     "name": "stdout",
     "output_type": "stream",
     "text": [
      "3.7236125469207764\n"
     ]
    },
    {
     "name": "stderr",
     "output_type": "stream",
     "text": [
      " 13%|██████▋                                           | 404/3019 [00:09<01:55, 22.55it/s]"
     ]
    },
    {
     "name": "stdout",
     "output_type": "stream",
     "text": [
      "1.2396875619888306\n",
      "Oh my lord\n",
      ":\n",
      "FirstFirstFirstFirst my my of my;,\n",
      " my my\n",
      " my of a,, a,,,,,,,,,,,,,,,,,,,,,,,,,,,\n"
     ]
    },
    {
     "name": "stderr",
     "output_type": "stream",
     "text": [
      " 17%|████████▋                                         | 521/3019 [00:11<00:49, 50.50it/s]"
     ]
    },
    {
     "name": "stdout",
     "output_type": "stream",
     "text": [
      "5.782574653625488\n"
     ]
    },
    {
     "name": "stderr",
     "output_type": "stream",
     "text": [
      " 21%|██████████▎                                       | 621/3019 [00:13<00:51, 46.34it/s]"
     ]
    },
    {
     "name": "stdout",
     "output_type": "stream",
     "text": [
      "2.3939459323883057\n",
      "Oh my lord,,,,,,,,:\n",
      " of,,,,,,,,,,,,,,,,,,,,,,,,,,,,,,,,,,,,,,,\n"
     ]
    },
    {
     "name": "stderr",
     "output_type": "stream",
     "text": [
      " 24%|███████████▉                                      | 721/3019 [00:16<00:44, 52.04it/s]"
     ]
    },
    {
     "name": "stdout",
     "output_type": "stream",
     "text": [
      "3.8865039348602295\n"
     ]
    },
    {
     "name": "stderr",
     "output_type": "stream",
     "text": [
      " 27%|█████████████▎                                    | 805/3019 [00:18<01:33, 23.77it/s]"
     ]
    },
    {
     "name": "stdout",
     "output_type": "stream",
     "text": [
      "6.833131313323975\n",
      "Oh my lord,,,,,,,,:\n",
      ",,,,,,,, of,,,,,,,,,,,,,,,,,,,,,,,,,,,,,,,\n"
     ]
    },
    {
     "name": "stderr",
     "output_type": "stream",
     "text": [
      " 31%|███████████████▎                                  | 921/3019 [00:20<00:41, 50.45it/s]"
     ]
    },
    {
     "name": "stdout",
     "output_type": "stream",
     "text": [
      "6.140818119049072\n"
     ]
    },
    {
     "name": "stderr",
     "output_type": "stream",
     "text": [
      " 33%|████████████████▎                                | 1002/3019 [00:22<01:32, 21.86it/s]"
     ]
    },
    {
     "name": "stdout",
     "output_type": "stream",
     "text": [
      "6.825182914733887\n",
      "Oh my lord,,,,,,,,,,,,,,,,,,,,,,,,:,:,:;;;,;,;,;;;,;,;,;,;;;\n"
     ]
    },
    {
     "name": "stderr",
     "output_type": "stream",
     "text": [
      " 37%|██████████████████▏                              | 1121/3019 [00:25<00:37, 50.25it/s]"
     ]
    },
    {
     "name": "stdout",
     "output_type": "stream",
     "text": [
      "0.9620109796524048\n"
     ]
    },
    {
     "name": "stderr",
     "output_type": "stream",
     "text": [
      " 40%|███████████████████▌                             | 1204/3019 [00:27<01:18, 23.24it/s]"
     ]
    },
    {
     "name": "stdout",
     "output_type": "stream",
     "text": [
      "5.042476654052734\n",
      "Oh my lord,,,,,,,,,,,,,,,,,,,,,,,,,,,,,,,,,,,,,,,, you you you you you you you you you you\n"
     ]
    },
    {
     "name": "stderr",
     "output_type": "stream",
     "text": [
      " 44%|█████████████████████▍                           | 1321/3019 [00:29<00:33, 50.15it/s]"
     ]
    },
    {
     "name": "stdout",
     "output_type": "stream",
     "text": [
      "6.438421249389648\n"
     ]
    },
    {
     "name": "stderr",
     "output_type": "stream",
     "text": [
      " 47%|██████████████████████▊                          | 1405/3019 [00:31<01:06, 24.32it/s]"
     ]
    },
    {
     "name": "stdout",
     "output_type": "stream",
     "text": [
      "5.989421844482422\n",
      "Oh my lord\n",
      ": of of\n",
      " of a a a a,, a,, a a,, a,, a a a,, a a a a,, a a a,, a a,, a a a,, a a,\n"
     ]
    },
    {
     "name": "stderr",
     "output_type": "stream",
     "text": [
      " 50%|████████████████████████▋                        | 1521/3019 [00:34<00:28, 53.01it/s]"
     ]
    },
    {
     "name": "stdout",
     "output_type": "stream",
     "text": [
      "4.721506595611572\n"
     ]
    },
    {
     "name": "stderr",
     "output_type": "stream",
     "text": [
      " 53%|██████████████████████████                       | 1605/3019 [00:36<00:58, 24.10it/s]"
     ]
    },
    {
     "name": "stdout",
     "output_type": "stream",
     "text": [
      "6.413758277893066\n",
      "Oh my lord\n",
      ":\n",
      " of\n",
      "NowNowNow\n",
      "NowNowNow\n",
      "NowNowNow\n",
      "NowNow\n",
      "NowNowNow\n",
      "NowNow\n",
      "NowNow\n",
      "NowNowNow\n",
      "NowNow\n",
      "NowNowNow\n",
      "NowNow\n",
      "NowNow\n",
      "NowNowNow\n"
     ]
    },
    {
     "name": "stderr",
     "output_type": "stream",
     "text": [
      " 57%|███████████████████████████▉                     | 1721/3019 [00:38<00:26, 49.56it/s]"
     ]
    },
    {
     "name": "stdout",
     "output_type": "stream",
     "text": [
      "6.12061071395874\n"
     ]
    },
    {
     "name": "stderr",
     "output_type": "stream",
     "text": [
      " 60%|█████████████████████████████▌                   | 1821/3019 [00:41<00:25, 47.52it/s]"
     ]
    },
    {
     "name": "stdout",
     "output_type": "stream",
     "text": [
      "0.4543962776660919\n",
      "Oh my lord, not to to to you you you you you you you you,,, you,,, you, you,,,,,,,,, you,,,,,,,,,,, you,,,,,\n"
     ]
    },
    {
     "name": "stderr",
     "output_type": "stream",
     "text": [
      " 64%|███████████████████████████████▏                 | 1921/3019 [00:43<00:21, 51.54it/s]"
     ]
    },
    {
     "name": "stdout",
     "output_type": "stream",
     "text": [
      "4.322589874267578\n"
     ]
    },
    {
     "name": "stderr",
     "output_type": "stream",
     "text": [
      " 66%|████████████████████████████████▌                | 2005/3019 [00:45<00:42, 23.95it/s]"
     ]
    },
    {
     "name": "stdout",
     "output_type": "stream",
     "text": [
      "4.702245712280273\n",
      "Oh my lord\n",
      ": of of\n",
      " a a a,,,,,,,,,,,,,,,,,, a,,,,,,,,,,,,,,,,,,,,,,,\n"
     ]
    },
    {
     "name": "stderr",
     "output_type": "stream",
     "text": [
      " 70%|██████████████████████████████████▍              | 2121/3019 [00:47<00:17, 50.20it/s]"
     ]
    },
    {
     "name": "stdout",
     "output_type": "stream",
     "text": [
      "4.7801008224487305\n"
     ]
    },
    {
     "name": "stderr",
     "output_type": "stream",
     "text": [
      " 74%|████████████████████████████████████             | 2221/3019 [00:50<00:16, 47.18it/s]"
     ]
    },
    {
     "name": "stdout",
     "output_type": "stream",
     "text": [
      "6.310546398162842\n",
      "Oh my lord\n",
      ": of;,\n",
      " my my;,,,,,,,,,,,,,,,,,,,,,,,,,,,,,,,,, my, thee thee thee, thee\n",
      "\n"
     ]
    },
    {
     "name": "stderr",
     "output_type": "stream",
     "text": [
      " 77%|█████████████████████████████████████▋           | 2321/3019 [00:52<00:13, 52.05it/s]"
     ]
    },
    {
     "name": "stdout",
     "output_type": "stream",
     "text": [
      "5.1343994140625\n"
     ]
    },
    {
     "name": "stderr",
     "output_type": "stream",
     "text": [
      " 80%|███████████████████████████████████████          | 2405/3019 [00:54<00:25, 23.92it/s]"
     ]
    },
    {
     "name": "stdout",
     "output_type": "stream",
     "text": [
      "6.5817670822143555\n",
      "Oh my lord\n",
      "DD:\n",
      "; a a a,, a a,, a,, a a,, a a,, a a,, a,, a a,, a a,, a a,, a a,, a\n"
     ]
    },
    {
     "name": "stderr",
     "output_type": "stream",
     "text": [
      " 84%|████████████████████████████████████████▉        | 2521/3019 [00:57<00:09, 50.05it/s]"
     ]
    },
    {
     "name": "stdout",
     "output_type": "stream",
     "text": [
      "6.461355686187744\n"
     ]
    },
    {
     "name": "stderr",
     "output_type": "stream",
     "text": [
      " 87%|██████████████████████████████████████████▌      | 2621/3019 [00:59<00:08, 47.78it/s]"
     ]
    },
    {
     "name": "stdout",
     "output_type": "stream",
     "text": [
      "1.8330804109573364\n",
      "Oh my lord\n",
      ": of of,,,,,,,, of,,,,,,,,,,,,,,,,,,,,,,,,,,,,,,,, of,,,,\n"
     ]
    },
    {
     "name": "stderr",
     "output_type": "stream",
     "text": [
      " 90%|████████████████████████████████████████████▏    | 2721/3019 [01:01<00:05, 53.62it/s]"
     ]
    },
    {
     "name": "stdout",
     "output_type": "stream",
     "text": [
      "3.923668384552002\n"
     ]
    },
    {
     "name": "stderr",
     "output_type": "stream",
     "text": [
      " 93%|█████████████████████████████████████████████▊   | 2821/3019 [01:03<00:03, 49.53it/s]"
     ]
    },
    {
     "name": "stdout",
     "output_type": "stream",
     "text": [
      "4.930257320404053\n",
      "Oh my lord the death death death death death death death death death death death death death death death death death by by by by his his the his the the the the the death death death death death death death death death death death death death his his his his his his\n"
     ]
    },
    {
     "name": "stderr",
     "output_type": "stream",
     "text": [
      " 97%|███████████████████████████████████████████████▍ | 2921/3019 [01:05<00:01, 53.95it/s]"
     ]
    },
    {
     "name": "stdout",
     "output_type": "stream",
     "text": [
      "6.23732328414917\n"
     ]
    },
    {
     "name": "stderr",
     "output_type": "stream",
     "text": [
      "100%|█████████████████████████████████████████████████| 3019/3019 [01:07<00:00, 44.40it/s]"
     ]
    },
    {
     "name": "stdout",
     "output_type": "stream",
     "text": [
      "5.089311599731445\n",
      "Oh my lord,\n",
      ",,,,,,,,,, a,, a,, a,, a,, a,, a a a,, a a a,, a a a,, a a a,, a a,\n"
     ]
    },
    {
     "name": "stderr",
     "output_type": "stream",
     "text": [
      "\n"
     ]
    },
    {
     "name": "stdout",
     "output_type": "stream",
     "text": [
      "Epoch [5/10], Loss: 4.7568\n",
      "epoch 5\n"
     ]
    },
    {
     "name": "stderr",
     "output_type": "stream",
     "text": [
      "  0%|                                                    | 5/3019 [00:00<01:00, 49.94it/s]"
     ]
    },
    {
     "name": "stdout",
     "output_type": "stream",
     "text": [
      "4.802842140197754\n",
      "Oh my lord\n",
      ":,:; a,, a a a,, a a a a a a a a a a a a a a a a a a a a a a a a a a a a a a,, a a a a a\n"
     ]
    },
    {
     "name": "stderr",
     "output_type": "stream",
     "text": [
      "  4%|██                                                | 121/3019 [00:02<00:53, 53.85it/s]"
     ]
    },
    {
     "name": "stdout",
     "output_type": "stream",
     "text": [
      "4.662951469421387\n"
     ]
    },
    {
     "name": "stderr",
     "output_type": "stream",
     "text": [
      "  7%|███▋                                              | 221/3019 [00:04<00:56, 49.14it/s]"
     ]
    },
    {
     "name": "stdout",
     "output_type": "stream",
     "text": [
      "3.5357491970062256\n",
      "Oh my lord\n",
      ":,:,:; you you you you you you you,,,,,,,, you,,,,,,,, you,,,,,,,, you,,,,,,,, you\n"
     ]
    },
    {
     "name": "stderr",
     "output_type": "stream",
     "text": [
      " 11%|█████▎                                            | 321/3019 [00:06<00:49, 54.14it/s]"
     ]
    },
    {
     "name": "stdout",
     "output_type": "stream",
     "text": [
      "3.4866137504577637\n"
     ]
    },
    {
     "name": "stderr",
     "output_type": "stream",
     "text": [
      " 14%|██████▉                                           | 421/3019 [00:08<00:53, 49.00it/s]"
     ]
    },
    {
     "name": "stdout",
     "output_type": "stream",
     "text": [
      "1.0862035751342773\n",
      "Oh my lord\n",
      ":\n",
      "FirstFirst, my my\n",
      " my of of a,,,,,,,,,,,,,,,,,,,,,,,,,, a,,,,,,,,,,\n"
     ]
    },
    {
     "name": "stderr",
     "output_type": "stream",
     "text": [
      " 17%|████████▋                                         | 521/3019 [00:11<00:45, 54.55it/s]"
     ]
    },
    {
     "name": "stdout",
     "output_type": "stream",
     "text": [
      "5.330979347229004\n"
     ]
    },
    {
     "name": "stderr",
     "output_type": "stream",
     "text": [
      " 21%|██████████▎                                       | 621/3019 [00:13<00:49, 48.29it/s]"
     ]
    },
    {
     "name": "stdout",
     "output_type": "stream",
     "text": [
      "1.9423925876617432\n",
      "Oh my lord\n",
      ":\n",
      " is of of a a a a a a,, a,,,,,,,,,, a,,,,,,,,,, a,, a,, a,, a,, a,\n"
     ]
    },
    {
     "name": "stderr",
     "output_type": "stream",
     "text": [
      " 24%|███████████▉                                      | 721/3019 [00:15<00:42, 54.64it/s]"
     ]
    },
    {
     "name": "stdout",
     "output_type": "stream",
     "text": [
      "3.448061943054199\n"
     ]
    },
    {
     "name": "stderr",
     "output_type": "stream",
     "text": [
      " 27%|█████████████▌                                    | 821/3019 [00:17<00:45, 48.16it/s]"
     ]
    },
    {
     "name": "stdout",
     "output_type": "stream",
     "text": [
      "6.569996356964111\n",
      "Oh my lord,,,,,,,,:\n",
      " of,,,,,,,,,,,,,,,,,,,,,,,,,,,,,,,,,,,,,,,\n"
     ]
    },
    {
     "name": "stderr",
     "output_type": "stream",
     "text": [
      " 31%|███████████████▎                                  | 921/3019 [00:19<00:39, 53.29it/s]"
     ]
    },
    {
     "name": "stdout",
     "output_type": "stream",
     "text": [
      "6.000277042388916\n"
     ]
    },
    {
     "name": "stderr",
     "output_type": "stream",
     "text": [
      " 33%|████████████████▎                                | 1003/3019 [00:22<01:29, 22.61it/s]"
     ]
    },
    {
     "name": "stdout",
     "output_type": "stream",
     "text": [
      "6.529935836791992\n",
      "Oh my lord,;,,,,,,,,,,,,,,,,,,,,,,,,,,,,,,,,,,,,,,,,,,,,,,,,\n"
     ]
    },
    {
     "name": "stderr",
     "output_type": "stream",
     "text": [
      " 37%|██████████████████▏                              | 1121/3019 [00:24<00:36, 52.04it/s]"
     ]
    },
    {
     "name": "stdout",
     "output_type": "stream",
     "text": [
      "0.877565324306488\n"
     ]
    },
    {
     "name": "stderr",
     "output_type": "stream",
     "text": [
      " 40%|███████████████████▌                             | 1205/3019 [00:26<01:16, 23.87it/s]"
     ]
    },
    {
     "name": "stdout",
     "output_type": "stream",
     "text": [
      "4.786412239074707\n",
      "Oh my lord,,,,,,,,,,,,,,,,:\n",
      " of of,,,,,,,,,,,,,,,,,,,,,,,, of,,,,,\n"
     ]
    },
    {
     "name": "stderr",
     "output_type": "stream",
     "text": [
      " 44%|█████████████████████▍                           | 1321/3019 [00:28<00:32, 52.53it/s]"
     ]
    },
    {
     "name": "stdout",
     "output_type": "stream",
     "text": [
      "6.091498374938965\n"
     ]
    },
    {
     "name": "stderr",
     "output_type": "stream",
     "text": [
      " 47%|███████████████████████                          | 1421/3019 [00:31<00:33, 47.55it/s]"
     ]
    },
    {
     "name": "stdout",
     "output_type": "stream",
     "text": [
      "5.661901950836182\n",
      "Oh my lord\n",
      ": of of\n",
      " of a a a a,, a,, a a,, a a a a a,, a a a a,, a a a,, a a a a,, a a a,, a a\n"
     ]
    },
    {
     "name": "stderr",
     "output_type": "stream",
     "text": [
      " 50%|████████████████████████▋                        | 1521/3019 [00:33<00:27, 55.03it/s]"
     ]
    },
    {
     "name": "stdout",
     "output_type": "stream",
     "text": [
      "4.3145856857299805\n"
     ]
    },
    {
     "name": "stderr",
     "output_type": "stream",
     "text": [
      " 54%|██████████████████████████▎                      | 1621/3019 [00:35<00:29, 47.51it/s]"
     ]
    },
    {
     "name": "stdout",
     "output_type": "stream",
     "text": [
      "6.336386680603027\n",
      "Oh my lord\n",
      ":\n",
      " of of\n",
      " of\n",
      " a a a a a a a a a,, a,, a a a,, a,, a a,, a a,, a a,, a a,, a,, a\n"
     ]
    },
    {
     "name": "stderr",
     "output_type": "stream",
     "text": [
      " 57%|███████████████████████████▉                     | 1721/3019 [00:37<00:23, 55.03it/s]"
     ]
    },
    {
     "name": "stdout",
     "output_type": "stream",
     "text": [
      "5.723203659057617\n"
     ]
    },
    {
     "name": "stderr",
     "output_type": "stream",
     "text": [
      " 60%|█████████████████████████████▏                   | 1801/3019 [00:39<01:02, 19.40it/s]"
     ]
    },
    {
     "name": "stdout",
     "output_type": "stream",
     "text": [
      "0.2860679030418396\n",
      "Oh my lord, not to to to you you you you you you, you,,,,,,,,, you,,,,,,,, you,,,,,,,,, you,,,,,,,,\n"
     ]
    },
    {
     "name": "stderr",
     "output_type": "stream",
     "text": [
      " 64%|███████████████████████████████▏                 | 1921/3019 [00:42<00:22, 48.89it/s]"
     ]
    },
    {
     "name": "stdout",
     "output_type": "stream",
     "text": [
      "3.995004653930664\n"
     ]
    },
    {
     "name": "stderr",
     "output_type": "stream",
     "text": [
      " 66%|████████████████████████████████▍                | 2002/3019 [00:44<00:53, 18.97it/s]"
     ]
    },
    {
     "name": "stdout",
     "output_type": "stream",
     "text": [
      "4.559289455413818\n",
      "Oh my lord the death death death death death death death death death death death death death death his his his his his a a a\n",
      " a a a a a a a a\n",
      " a a a a a a a a a a a a a a a a,\n"
     ]
    },
    {
     "name": "stderr",
     "output_type": "stream",
     "text": [
      " 70%|██████████████████████████████████▍              | 2121/3019 [00:47<00:17, 50.57it/s]"
     ]
    },
    {
     "name": "stdout",
     "output_type": "stream",
     "text": [
      "4.627713680267334\n"
     ]
    },
    {
     "name": "stderr",
     "output_type": "stream",
     "text": [
      " 73%|███████████████████████████████████▊             | 2205/3019 [00:49<00:33, 24.47it/s]"
     ]
    },
    {
     "name": "stdout",
     "output_type": "stream",
     "text": [
      "5.987973213195801\n",
      "Oh my lord\n",
      ": of;,\n",
      " my my of, thee thee\n",
      " thee thee, thee thee\n",
      " thee thee\n",
      " thee thee, thee\n",
      " thee thee thou thou thou thou thou thou thou thou thou thou thou thou thou thou thou thou thou thou thou thou thou\n"
     ]
    },
    {
     "name": "stderr",
     "output_type": "stream",
     "text": [
      " 77%|████████████████████████████████████▏          | 2321/3019 [18:05<2:23:35, 12.34s/it]"
     ]
    },
    {
     "name": "stdout",
     "output_type": "stream",
     "text": [
      "4.717750549316406\n"
     ]
    },
    {
     "name": "stderr",
     "output_type": "stream",
     "text": [
      " 80%|███████████████████████████████████████          | 2405/3019 [18:07<01:27,  7.03it/s]"
     ]
    },
    {
     "name": "stdout",
     "output_type": "stream",
     "text": [
      "6.247227191925049\n",
      "Oh my lord\n",
      "DD:\n",
      ";DD;,\n",
      " my my;;;,\n",
      " my; my\n",
      " my of\n",
      " a a a,, a,, a,,,,,,,,,, a,, a,,\n"
     ]
    },
    {
     "name": "stderr",
     "output_type": "stream",
     "text": [
      " 84%|████████████████████████████████████████▉        | 2521/3019 [18:10<00:10, 48.07it/s]"
     ]
    },
    {
     "name": "stdout",
     "output_type": "stream",
     "text": [
      "6.15183162689209\n"
     ]
    },
    {
     "name": "stderr",
     "output_type": "stream",
     "text": [
      " 86%|██████████████████████████████████████████▏      | 2602/3019 [18:12<00:19, 21.08it/s]"
     ]
    },
    {
     "name": "stdout",
     "output_type": "stream",
     "text": [
      "1.6734589338302612\n",
      "Oh my lord:\n",
      " of of of,,,,,,,,,,,,,,,,,,,,,,,, of,,,,,,,,,,,,,,,,,,,,\n"
     ]
    },
    {
     "name": "stderr",
     "output_type": "stream",
     "text": [
      " 90%|████████████████████████████████████████████▏    | 2722/3019 [18:15<00:06, 48.05it/s]"
     ]
    },
    {
     "name": "stdout",
     "output_type": "stream",
     "text": [
      "3.705810308456421\n"
     ]
    },
    {
     "name": "stderr",
     "output_type": "stream",
     "text": [
      " 93%|█████████████████████████████████████████████▌   | 2805/3019 [18:17<00:09, 22.56it/s]"
     ]
    },
    {
     "name": "stdout",
     "output_type": "stream",
     "text": [
      "4.610214710235596\n",
      "Oh my lord the death death death death death death death death death death death death death death death by by by by his his the the the the death death death death death death death death death death death death death death death death his his his his his his his his\n"
     ]
    },
    {
     "name": "stderr",
     "output_type": "stream",
     "text": [
      " 97%|███████████████████████████████████████████████▍ | 2921/3019 [18:19<00:01, 49.06it/s]"
     ]
    },
    {
     "name": "stdout",
     "output_type": "stream",
     "text": [
      "5.8587141036987305\n"
     ]
    },
    {
     "name": "stderr",
     "output_type": "stream",
     "text": [
      "100%|█████████████████████████████████████████████████| 3019/3019 [18:22<00:00,  2.74it/s]"
     ]
    },
    {
     "name": "stdout",
     "output_type": "stream",
     "text": [
      "5.050633430480957\n",
      "Oh my lord from,\n",
      ",,,,,,,,,,, from,,,,,,,, from,,, from,, from,, a a a,, a,, a,, a a,, a a\n"
     ]
    },
    {
     "name": "stderr",
     "output_type": "stream",
     "text": [
      "\n"
     ]
    },
    {
     "name": "stdout",
     "output_type": "stream",
     "text": [
      "Epoch [6/10], Loss: 4.5875\n",
      "epoch 6\n"
     ]
    },
    {
     "name": "stderr",
     "output_type": "stream",
     "text": [
      "  0%|                                                    | 1/3019 [00:00<06:54,  7.28it/s]"
     ]
    },
    {
     "name": "stdout",
     "output_type": "stream",
     "text": [
      "4.548473834991455\n",
      "Oh my lord:\n",
      ",\n",
      " me and and a a a a a a a a a a a a a a a a a a a a a a a a a a a a a a a a a a a a a a a a a a a\n"
     ]
    },
    {
     "name": "stderr",
     "output_type": "stream",
     "text": [
      "  4%|██                                                | 121/3019 [00:02<00:57, 50.19it/s]"
     ]
    },
    {
     "name": "stdout",
     "output_type": "stream",
     "text": [
      "4.450908660888672\n"
     ]
    },
    {
     "name": "stderr",
     "output_type": "stream",
     "text": [
      "  7%|███▍                                              | 204/3019 [00:04<02:04, 22.57it/s]"
     ]
    },
    {
     "name": "stdout",
     "output_type": "stream",
     "text": [
      "3.4182629585266113\n",
      "Oh my lord from,\n",
      ":\n",
      ",,,,,,,,, my my\n",
      " my my of from from\n",
      " my of of from from,\n",
      " from, from\n",
      ", from from\n",
      ", my from from\n",
      ", from\n",
      " my my from from\n"
     ]
    },
    {
     "name": "stderr",
     "output_type": "stream",
     "text": [
      " 11%|█████▎                                            | 321/3019 [00:07<00:53, 50.09it/s]"
     ]
    },
    {
     "name": "stdout",
     "output_type": "stream",
     "text": [
      "3.240034341812134\n"
     ]
    },
    {
     "name": "stderr",
     "output_type": "stream",
     "text": [
      " 13%|██████▋                                           | 404/3019 [00:09<01:55, 22.56it/s]"
     ]
    },
    {
     "name": "stdout",
     "output_type": "stream",
     "text": [
      "0.9391868710517883\n",
      "Oh my lord\n",
      ":\n",
      "First, my\n",
      " my of my of of a a,,,,,,,,,,,,,,,,,,,,,,,,,, a,,,,,,,,,\n"
     ]
    },
    {
     "name": "stderr",
     "output_type": "stream",
     "text": [
      " 17%|████████▋                                         | 521/3019 [00:11<00:49, 50.33it/s]"
     ]
    },
    {
     "name": "stdout",
     "output_type": "stream",
     "text": [
      "4.873053550720215\n"
     ]
    },
    {
     "name": "stderr",
     "output_type": "stream",
     "text": [
      " 20%|██████████                                        | 604/3019 [00:14<01:46, 22.60it/s]"
     ]
    },
    {
     "name": "stdout",
     "output_type": "stream",
     "text": [
      "1.5052013397216797\n",
      "Oh my lord:\n",
      " of,,,,,,,,,,,,,,,,,,,,,,,,,,,,,,,,,,,,,,,,, my,,,,,\n"
     ]
    },
    {
     "name": "stderr",
     "output_type": "stream",
     "text": [
      " 24%|███████████▉                                      | 721/3019 [00:16<00:47, 48.65it/s]"
     ]
    },
    {
     "name": "stdout",
     "output_type": "stream",
     "text": [
      "3.0159499645233154\n"
     ]
    },
    {
     "name": "stderr",
     "output_type": "stream",
     "text": [
      " 27%|█████████████▌                                    | 821/3019 [00:18<00:45, 48.22it/s]"
     ]
    },
    {
     "name": "stdout",
     "output_type": "stream",
     "text": [
      "6.284123420715332\n",
      "Oh my lord:\n",
      " of,,,,,,,,,,,,,,,,,,,,,,,,,,,,,,,,,,,,,,,,,,,,,,,\n"
     ]
    },
    {
     "name": "stderr",
     "output_type": "stream",
     "text": [
      " 31%|███████████████▎                                  | 921/3019 [00:20<00:38, 54.11it/s]"
     ]
    },
    {
     "name": "stdout",
     "output_type": "stream",
     "text": [
      "5.855216026306152\n"
     ]
    },
    {
     "name": "stderr",
     "output_type": "stream",
     "text": [
      " 34%|████████████████▌                                | 1021/3019 [00:23<00:41, 48.69it/s]"
     ]
    },
    {
     "name": "stdout",
     "output_type": "stream",
     "text": [
      "6.221966743469238\n",
      "Oh my lord,;,;,;,;,;;;,;,;;;,;,;;;,;,;,;;;,;,;;;,;,;;,;;;,;,\n"
     ]
    },
    {
     "name": "stderr",
     "output_type": "stream",
     "text": [
      " 37%|██████████████████▏                              | 1121/3019 [00:25<00:36, 51.55it/s]"
     ]
    },
    {
     "name": "stdout",
     "output_type": "stream",
     "text": [
      "0.8157532215118408\n"
     ]
    },
    {
     "name": "stderr",
     "output_type": "stream",
     "text": [
      " 40%|███████████████████▌                             | 1204/3019 [00:27<01:21, 22.38it/s]"
     ]
    },
    {
     "name": "stdout",
     "output_type": "stream",
     "text": [
      "4.50529670715332\n",
      "Oh my lord,,,,,,,,:\n",
      " of of,,,,,,,, of,,,,,,,,,,,,,,,,,,,,,,,,,,,,,\n"
     ]
    },
    {
     "name": "stderr",
     "output_type": "stream",
     "text": [
      " 44%|█████████████████████▍                           | 1321/3019 [00:29<00:33, 50.87it/s]"
     ]
    },
    {
     "name": "stdout",
     "output_type": "stream",
     "text": [
      "5.723560810089111\n"
     ]
    },
    {
     "name": "stderr",
     "output_type": "stream",
     "text": [
      " 47%|███████████████████████                          | 1421/3019 [00:32<00:34, 46.26it/s]"
     ]
    },
    {
     "name": "stdout",
     "output_type": "stream",
     "text": [
      "5.345588684082031\n",
      "Oh my lord\n",
      ": of of\n",
      " of a a a\n",
      " a a a,, a a a a a,, a a a a a a,, a a a a\n",
      " a a a a aUS\n",
      "USUS\n",
      "USUSUS\n",
      "US\n"
     ]
    },
    {
     "name": "stderr",
     "output_type": "stream",
     "text": [
      " 50%|████████████████████████▋                        | 1521/3019 [00:34<00:27, 54.86it/s]"
     ]
    },
    {
     "name": "stdout",
     "output_type": "stream",
     "text": [
      "3.8900279998779297\n"
     ]
    },
    {
     "name": "stderr",
     "output_type": "stream",
     "text": [
      " 54%|██████████████████████████▎                      | 1621/3019 [00:36<00:29, 47.98it/s]"
     ]
    },
    {
     "name": "stdout",
     "output_type": "stream",
     "text": [
      "6.245049953460693\n",
      "Oh my lord:\n",
      "\n",
      "\n",
      " of\n",
      " of\n",
      " of\n",
      " a a a a a a a a a,, a,, a a a,, a a,, a a,, a,, a a a,, a a,, a\n"
     ]
    },
    {
     "name": "stderr",
     "output_type": "stream",
     "text": [
      " 57%|███████████████████████████▉                     | 1721/3019 [00:38<00:23, 54.91it/s]"
     ]
    },
    {
     "name": "stdout",
     "output_type": "stream",
     "text": [
      "5.348388671875\n"
     ]
    },
    {
     "name": "stderr",
     "output_type": "stream",
     "text": [
      " 60%|█████████████████████████████▌                   | 1821/3019 [00:40<00:24, 48.05it/s]"
     ]
    },
    {
     "name": "stdout",
     "output_type": "stream",
     "text": [
      "0.18021950125694275\n",
      "Oh my lord, not to to? you you you you,,,,,,,, you,,,,,,,, you,,,,,,,,,,,,,,,, you,,,,,,\n"
     ]
    },
    {
     "name": "stderr",
     "output_type": "stream",
     "text": [
      " 64%|███████████████████████████████▏                 | 1921/3019 [00:43<00:20, 54.55it/s]"
     ]
    },
    {
     "name": "stdout",
     "output_type": "stream",
     "text": [
      "3.6490232944488525\n"
     ]
    },
    {
     "name": "stderr",
     "output_type": "stream",
     "text": [
      " 67%|████████████████████████████████▊                | 2021/3019 [00:45<00:21, 46.81it/s]"
     ]
    },
    {
     "name": "stdout",
     "output_type": "stream",
     "text": [
      "4.388136863708496\n",
      "Oh my lord the death death death death death death death death death death death death death death my death death death my death death death my death death death my death death death my death death death my death death death my death death death my death death death my death death\n"
     ]
    },
    {
     "name": "stderr",
     "output_type": "stream",
     "text": [
      " 70%|██████████████████████████████████▍              | 2121/3019 [00:47<00:16, 53.62it/s]"
     ]
    },
    {
     "name": "stdout",
     "output_type": "stream",
     "text": [
      "4.5065131187438965\n"
     ]
    },
    {
     "name": "stderr",
     "output_type": "stream",
     "text": [
      " 74%|████████████████████████████████████             | 2221/3019 [00:49<00:16, 49.10it/s]"
     ]
    },
    {
     "name": "stdout",
     "output_type": "stream",
     "text": [
      "5.626983642578125\n",
      "Oh my lord the death death death death death death death death death death death death death death death my death death death my death death death death my death death death my death death death my death death death death my death death death my death death death my death death death\n"
     ]
    },
    {
     "name": "stderr",
     "output_type": "stream",
     "text": [
      " 77%|█████████████████████████████████████▋           | 2321/3019 [00:51<00:12, 54.03it/s]"
     ]
    },
    {
     "name": "stdout",
     "output_type": "stream",
     "text": [
      "4.2764434814453125\n"
     ]
    },
    {
     "name": "stderr",
     "output_type": "stream",
     "text": [
      " 80%|███████████████████████████████████████▎         | 2421/3019 [00:54<00:12, 49.15it/s]"
     ]
    },
    {
     "name": "stdout",
     "output_type": "stream",
     "text": [
      "5.908012390136719\n",
      "Oh my lord\n",
      "DDDD:\n",
      ";;;,\n",
      " my; my;,\n",
      " my of my\n",
      " my of\n",
      " of my of\n",
      " my of a a a\n",
      " a a a a a a a a,, a,, a,\n"
     ]
    },
    {
     "name": "stderr",
     "output_type": "stream",
     "text": [
      " 84%|████████████████████████████████████████▉        | 2521/3019 [00:56<00:09, 54.59it/s]"
     ]
    },
    {
     "name": "stdout",
     "output_type": "stream",
     "text": [
      "5.853918075561523\n"
     ]
    },
    {
     "name": "stderr",
     "output_type": "stream",
     "text": [
      " 87%|██████████████████████████████████████████▌      | 2621/3019 [00:58<00:08, 48.39it/s]"
     ]
    },
    {
     "name": "stdout",
     "output_type": "stream",
     "text": [
      "1.4731841087341309\n",
      "Oh my lord of\n",
      ": of of of a a,,,,,,,, a,,,,,,,,,, a,,,,,,,,,,,,,,,,,, a,,,\n"
     ]
    },
    {
     "name": "stderr",
     "output_type": "stream",
     "text": [
      " 90%|████████████████████████████████████████████▏    | 2721/3019 [01:00<00:05, 54.63it/s]"
     ]
    },
    {
     "name": "stdout",
     "output_type": "stream",
     "text": [
      "3.3735463619232178\n"
     ]
    },
    {
     "name": "stderr",
     "output_type": "stream",
     "text": [
      " 93%|█████████████████████████████████████████████▊   | 2821/3019 [01:02<00:04, 48.23it/s]"
     ]
    },
    {
     "name": "stdout",
     "output_type": "stream",
     "text": [
      "4.283673286437988\n",
      "Oh my lord the death death death death death death death death death death death death death by by by by his the the death death death death his his the the death death death death his his the the the death death death death death death death death death death death death\n"
     ]
    },
    {
     "name": "stderr",
     "output_type": "stream",
     "text": [
      " 97%|███████████████████████████████████████████████▍ | 2921/3019 [01:04<00:01, 54.37it/s]"
     ]
    },
    {
     "name": "stdout",
     "output_type": "stream",
     "text": [
      "5.456117630004883\n"
     ]
    },
    {
     "name": "stderr",
     "output_type": "stream",
     "text": [
      "100%|█████████████████████████████████████████████████| 3019/3019 [01:06<00:00, 45.08it/s]"
     ]
    },
    {
     "name": "stdout",
     "output_type": "stream",
     "text": [
      "4.987483978271484\n",
      "Oh my lord:\n",
      ",,,,,,,,,,,,,,,,,,,,,,,,,For,For, it, it not not not not not not not not not not not not not not not not\n"
     ]
    },
    {
     "name": "stderr",
     "output_type": "stream",
     "text": [
      "\n"
     ]
    },
    {
     "name": "stdout",
     "output_type": "stream",
     "text": [
      "Epoch [7/10], Loss: 4.4125\n",
      "epoch 7\n"
     ]
    },
    {
     "name": "stderr",
     "output_type": "stream",
     "text": [
      "  0%|▏                                                   | 9/3019 [00:00<00:33, 89.79it/s]"
     ]
    },
    {
     "name": "stdout",
     "output_type": "stream",
     "text": [
      "4.344283103942871\n",
      "Oh my lord:\n",
      " and; by,,,,,,,,,,, a, from from from, from from\n",
      " I I from I from I from your your your your your your your your your your your your your your your your your your\n"
     ]
    },
    {
     "name": "stderr",
     "output_type": "stream",
     "text": [
      "  4%|██                                                | 121/3019 [00:02<00:52, 54.85it/s]"
     ]
    },
    {
     "name": "stdout",
     "output_type": "stream",
     "text": [
      "4.19516134262085\n"
     ]
    },
    {
     "name": "stderr",
     "output_type": "stream",
     "text": [
      "  7%|███▏                                           | 204/3019 [15:44<43:01:25, 55.02s/it]"
     ]
    },
    {
     "name": "stdout",
     "output_type": "stream",
     "text": [
      "3.278991222381592\n",
      "Oh my lord:\n",
      ",\n",
      " my my of of my of from from from\n",
      ", from\n",
      ", from from\n",
      ", from, from\n",
      ":,:,:\n",
      " my my my\n",
      " my my of from from\n",
      " my of from from\n",
      ":,:\n"
     ]
    },
    {
     "name": "stderr",
     "output_type": "stream",
     "text": [
      " 11%|█████▎                                            | 321/3019 [15:46<05:24,  8.31it/s]"
     ]
    },
    {
     "name": "stdout",
     "output_type": "stream",
     "text": [
      "2.952188014984131\n"
     ]
    },
    {
     "name": "stderr",
     "output_type": "stream",
     "text": [
      " 13%|██████▋                                           | 401/3019 [15:48<02:05, 20.87it/s]"
     ]
    },
    {
     "name": "stdout",
     "output_type": "stream",
     "text": [
      "0.807242214679718\n",
      "Oh my lord\n",
      ":,:\n",
      "FirstFirst my of my of; a a a,,,,,,,,,,,,,,,,,,,,,,,,,,,,,,,,,, a\n"
     ]
    },
    {
     "name": "stderr",
     "output_type": "stream",
     "text": [
      " 17%|████████▋                                         | 521/3019 [15:50<00:48, 52.02it/s]"
     ]
    },
    {
     "name": "stdout",
     "output_type": "stream",
     "text": [
      "4.376625061035156\n"
     ]
    },
    {
     "name": "stderr",
     "output_type": "stream",
     "text": [
      " 21%|██████████▎                                       | 621/3019 [15:53<00:51, 46.85it/s]"
     ]
    },
    {
     "name": "stdout",
     "output_type": "stream",
     "text": [
      "1.1488934755325317\n",
      "Oh my lord:\n",
      " of,,,,,,,,,,,,,,,,,,,,,,,,,,,,,,,,,,,,,,,,, my of,,,,\n"
     ]
    },
    {
     "name": "stderr",
     "output_type": "stream",
     "text": [
      " 24%|███████████▉                                      | 721/3019 [15:55<00:42, 53.57it/s]"
     ]
    },
    {
     "name": "stdout",
     "output_type": "stream",
     "text": [
      "2.5508241653442383\n"
     ]
    },
    {
     "name": "stderr",
     "output_type": "stream",
     "text": [
      " 27%|█████████████▌                                    | 821/3019 [15:57<00:45, 47.91it/s]"
     ]
    },
    {
     "name": "stdout",
     "output_type": "stream",
     "text": [
      "5.977435111999512\n",
      "Oh my lord:\n",
      " of,,,,,,,,,,,,,,,,,,,,,,,,,,,,,,,,,,,,,,,,,,,,,,,\n"
     ]
    },
    {
     "name": "stderr",
     "output_type": "stream",
     "text": [
      " 31%|███████████████▎                                  | 921/3019 [15:59<00:38, 54.84it/s]"
     ]
    },
    {
     "name": "stdout",
     "output_type": "stream",
     "text": [
      "5.647723197937012\n"
     ]
    },
    {
     "name": "stderr",
     "output_type": "stream",
     "text": [
      " 34%|████████████████▌                                | 1021/3019 [16:01<00:41, 48.06it/s]"
     ]
    },
    {
     "name": "stdout",
     "output_type": "stream",
     "text": [
      "5.927183151245117\n",
      "Oh my lord,;,;,;,;;;,;,;;;,;;,;;,;;;,;,;;;,;,;;;,;,;;;,;,;;;\n"
     ]
    },
    {
     "name": "stderr",
     "output_type": "stream",
     "text": [
      " 37%|██████████████████▏                              | 1121/3019 [16:04<00:34, 54.79it/s]"
     ]
    },
    {
     "name": "stdout",
     "output_type": "stream",
     "text": [
      "0.7666257619857788\n"
     ]
    },
    {
     "name": "stderr",
     "output_type": "stream",
     "text": [
      " 40%|███████████████████▊                             | 1221/3019 [16:06<00:37, 48.54it/s]"
     ]
    },
    {
     "name": "stdout",
     "output_type": "stream",
     "text": [
      "4.202661514282227\n",
      "Oh my lord,,,,,,,,:\n",
      " of of of,\n",
      ", what what my,,,,,,,,,,,,,,,, of, thee,,,,,,,,,,,,\n"
     ]
    },
    {
     "name": "stderr",
     "output_type": "stream",
     "text": [
      " 44%|█████████████████████▍                           | 1321/3019 [16:08<00:31, 54.34it/s]"
     ]
    },
    {
     "name": "stdout",
     "output_type": "stream",
     "text": [
      "5.337179183959961\n"
     ]
    },
    {
     "name": "stderr",
     "output_type": "stream",
     "text": [
      " 47%|███████████████████████                          | 1421/3019 [16:10<00:33, 47.41it/s]"
     ]
    },
    {
     "name": "stdout",
     "output_type": "stream",
     "text": [
      "4.945630073547363\n",
      "Oh my lord:\n",
      " of of\n",
      " of a a\n",
      " a a a a,NNNNNN\n",
      "NNNNNNNNNNNNNNNN\n",
      "NNNNNNNNNNNN\n"
     ]
    },
    {
     "name": "stderr",
     "output_type": "stream",
     "text": [
      " 50%|████████████████████████▋                        | 1521/3019 [16:12<00:28, 53.03it/s]"
     ]
    },
    {
     "name": "stdout",
     "output_type": "stream",
     "text": [
      "3.420156478881836\n"
     ]
    },
    {
     "name": "stderr",
     "output_type": "stream",
     "text": [
      " 54%|██████████████████████████▎                      | 1621/3019 [16:14<00:29, 47.33it/s]"
     ]
    },
    {
     "name": "stdout",
     "output_type": "stream",
     "text": [
      "6.115439414978027\n",
      "Oh my lord:\n",
      " of\n",
      " of\n",
      " of\n",
      " a a a a a a a,, a,, a,, a a a,, a a a,, a a,, a a,, a a a,, a a,,\n"
     ]
    },
    {
     "name": "stderr",
     "output_type": "stream",
     "text": [
      " 57%|███████████████████████████▉                     | 1721/3019 [16:17<00:24, 52.69it/s]"
     ]
    },
    {
     "name": "stdout",
     "output_type": "stream",
     "text": [
      "4.9591264724731445\n"
     ]
    },
    {
     "name": "stderr",
     "output_type": "stream",
     "text": [
      " 60%|█████████████████████████████▌                   | 1821/3019 [16:19<00:25, 46.51it/s]"
     ]
    },
    {
     "name": "stdout",
     "output_type": "stream",
     "text": [
      "0.11520000547170639\n",
      "Oh my lord:\n",
      " of\n",
      ", or or or not not not to to to to have have have have to have have have have to have have have have to have have have to have have have have to have have have have have to have have have have to\n"
     ]
    },
    {
     "name": "stderr",
     "output_type": "stream",
     "text": [
      " 64%|███████████████████████████████▏                 | 1921/3019 [16:21<00:20, 52.67it/s]"
     ]
    },
    {
     "name": "stdout",
     "output_type": "stream",
     "text": [
      "3.282892942428589\n"
     ]
    },
    {
     "name": "stderr",
     "output_type": "stream",
     "text": [
      " 67%|████████████████████████████████▊                | 2021/3019 [16:23<00:20, 47.58it/s]"
     ]
    },
    {
     "name": "stdout",
     "output_type": "stream",
     "text": [
      "4.174038410186768\n",
      "Oh my lord the death death death death death death death death death death death death my death death death my death death death my death death death my death death death my death death death my death death death my death death death my death death death my death death death my\n"
     ]
    },
    {
     "name": "stderr",
     "output_type": "stream",
     "text": [
      " 70%|██████████████████████████████████▍              | 2121/3019 [16:25<00:16, 54.47it/s]"
     ]
    },
    {
     "name": "stdout",
     "output_type": "stream",
     "text": [
      "4.297353744506836\n"
     ]
    },
    {
     "name": "stderr",
     "output_type": "stream",
     "text": [
      " 74%|████████████████████████████████████             | 2221/3019 [16:28<00:16, 48.16it/s]"
     ]
    },
    {
     "name": "stdout",
     "output_type": "stream",
     "text": [
      "5.247922420501709\n",
      "Oh my lord the death death death death death death death death death death death death death my death death death death my death death death my death death death my death death death my death death death death my death death death my death death death my death death death my death\n"
     ]
    },
    {
     "name": "stderr",
     "output_type": "stream",
     "text": [
      " 77%|█████████████████████████████████████▋           | 2321/3019 [16:30<00:12, 55.12it/s]"
     ]
    },
    {
     "name": "stdout",
     "output_type": "stream",
     "text": [
      "3.767223834991455\n"
     ]
    },
    {
     "name": "stderr",
     "output_type": "stream",
     "text": [
      " 80%|███████████████████████████████████████▎         | 2421/3019 [16:32<00:12, 47.87it/s]"
     ]
    },
    {
     "name": "stdout",
     "output_type": "stream",
     "text": [
      "5.520794868469238\n",
      "Oh my lord\n",
      "DDDD:\n",
      ";;;,;\n",
      " my my of\n",
      " my of of\n",
      " a a a a a a a,, a,, a,, a,, a a,, a a a,, a a\n"
     ]
    },
    {
     "name": "stderr",
     "output_type": "stream",
     "text": [
      " 84%|████████████████████████████████████████▉        | 2521/3019 [16:34<00:09, 54.79it/s]"
     ]
    },
    {
     "name": "stdout",
     "output_type": "stream",
     "text": [
      "5.537937164306641\n"
     ]
    },
    {
     "name": "stderr",
     "output_type": "stream",
     "text": [
      " 87%|██████████████████████████████████████████▌      | 2621/3019 [16:36<00:08, 48.15it/s]"
     ]
    },
    {
     "name": "stdout",
     "output_type": "stream",
     "text": [
      "1.2693138122558594\n",
      "Oh my lord of\n",
      ": of of of a a a a,,,,,,,,,, a,,,,,,,,,, a,, a,, a,, a,, a,, a a,,\n"
     ]
    },
    {
     "name": "stderr",
     "output_type": "stream",
     "text": [
      " 90%|████████████████████████████████████████████▏    | 2721/3019 [16:39<00:05, 54.88it/s]"
     ]
    },
    {
     "name": "stdout",
     "output_type": "stream",
     "text": [
      "3.0445244312286377\n"
     ]
    },
    {
     "name": "stderr",
     "output_type": "stream",
     "text": [
      " 93%|█████████████████████████████████████████████▊   | 2821/3019 [16:41<00:04, 48.17it/s]"
     ]
    },
    {
     "name": "stdout",
     "output_type": "stream",
     "text": [
      "3.947101593017578\n",
      "Oh my lord death death death by the death death death death death death death death by by by the death death his his the the the death death death death death death death death death death death death death death death death death death death death his his his his his his\n"
     ]
    },
    {
     "name": "stderr",
     "output_type": "stream",
     "text": [
      " 97%|███████████████████████████████████████████████▍ | 2921/3019 [16:43<00:01, 52.83it/s]"
     ]
    },
    {
     "name": "stdout",
     "output_type": "stream",
     "text": [
      "5.0139546394348145\n"
     ]
    },
    {
     "name": "stderr",
     "output_type": "stream",
     "text": [
      "100%|█████████████████████████████████████████████████| 3019/3019 [16:45<00:00,  3.00it/s]"
     ]
    },
    {
     "name": "stdout",
     "output_type": "stream",
     "text": [
      "4.903949737548828\n",
      "Oh my lord:\n",
      ",,,,,,,,,,,,,,,,,For,,,,,,,,,For, it, it not not not not not not not not not not not not not not not not\n"
     ]
    },
    {
     "name": "stderr",
     "output_type": "stream",
     "text": [
      "\n"
     ]
    },
    {
     "name": "stdout",
     "output_type": "stream",
     "text": [
      "Epoch [8/10], Loss: 4.2186\n",
      "epoch 8\n"
     ]
    },
    {
     "name": "stderr",
     "output_type": "stream",
     "text": [
      "  0%|                                                    | 4/3019 [00:00<01:15, 39.68it/s]"
     ]
    },
    {
     "name": "stdout",
     "output_type": "stream",
     "text": [
      "4.102496147155762\n",
      "Oh my lord:\n",
      " and; by, not not not not not to to I I I I I I my my from from from your your your your your your your your your your your your your your your your your your your your your your your your your your\n"
     ]
    },
    {
     "name": "stderr",
     "output_type": "stream",
     "text": [
      "  4%|██                                                | 121/3019 [00:02<00:56, 50.89it/s]"
     ]
    },
    {
     "name": "stdout",
     "output_type": "stream",
     "text": [
      "3.9771766662597656\n"
     ]
    },
    {
     "name": "stderr",
     "output_type": "stream",
     "text": [
      "  7%|███▍                                              | 205/3019 [00:05<02:02, 22.98it/s]"
     ]
    },
    {
     "name": "stdout",
     "output_type": "stream",
     "text": [
      "3.1375975608825684\n",
      "Oh my lord:\n",
      ",\n",
      " my my of of my of of from from,\n",
      " from from from\n",
      ", from:\n",
      ",,,,,,,,,,,,,,,,,,,,,,,,,,,\n"
     ]
    },
    {
     "name": "stderr",
     "output_type": "stream",
     "text": [
      " 11%|█████▎                                            | 321/3019 [00:07<00:52, 51.18it/s]"
     ]
    },
    {
     "name": "stdout",
     "output_type": "stream",
     "text": [
      "2.617532968521118\n"
     ]
    },
    {
     "name": "stderr",
     "output_type": "stream",
     "text": [
      " 13%|██████▋                                           | 404/3019 [00:09<01:55, 22.62it/s]"
     ]
    },
    {
     "name": "stdout",
     "output_type": "stream",
     "text": [
      "0.7349618077278137\n",
      "Oh my lord\n",
      ":,:\n",
      " of a a a,,,,,,,,,,,,,,,,,,,,,,,,,, a,,,,,,,,,,,,,,\n"
     ]
    },
    {
     "name": "stderr",
     "output_type": "stream",
     "text": [
      " 17%|████████▋                                         | 521/3019 [00:12<00:47, 52.22it/s]"
     ]
    },
    {
     "name": "stdout",
     "output_type": "stream",
     "text": [
      "3.8509485721588135\n"
     ]
    },
    {
     "name": "stderr",
     "output_type": "stream",
     "text": [
      " 21%|██████████▎                                       | 621/3019 [00:14<00:51, 46.54it/s]"
     ]
    },
    {
     "name": "stdout",
     "output_type": "stream",
     "text": [
      "0.8740079998970032\n",
      "Oh my lord:\n",
      " of of,,,,,,,,,,,,,,,,,,,,,,,,,,,,,,,,, my,,,,,,,,,,,,\n"
     ]
    },
    {
     "name": "stderr",
     "output_type": "stream",
     "text": [
      " 24%|███████████▉                                      | 721/3019 [00:16<00:43, 52.93it/s]"
     ]
    },
    {
     "name": "stdout",
     "output_type": "stream",
     "text": [
      "2.1224794387817383\n"
     ]
    },
    {
     "name": "stderr",
     "output_type": "stream",
     "text": [
      " 27%|█████████████▌                                    | 821/3019 [00:18<00:46, 47.42it/s]"
     ]
    },
    {
     "name": "stdout",
     "output_type": "stream",
     "text": [
      "5.647909641265869\n",
      "Oh my lord:\n",
      " of,,,,,,,,,,,,,,,,,,,,,,,,,,,,,,,,,,,,,,,, of my of,,,,\n"
     ]
    },
    {
     "name": "stderr",
     "output_type": "stream",
     "text": [
      " 31%|███████████████▎                                  | 921/3019 [00:21<00:39, 53.34it/s]"
     ]
    },
    {
     "name": "stdout",
     "output_type": "stream",
     "text": [
      "5.416334629058838\n"
     ]
    },
    {
     "name": "stderr",
     "output_type": "stream",
     "text": [
      " 34%|████████████████▌                                | 1021/3019 [00:23<00:42, 47.47it/s]"
     ]
    },
    {
     "name": "stdout",
     "output_type": "stream",
     "text": [
      "5.583773612976074\n",
      "Oh my lord:\n",
      ",;,;For,;ForFor,,,,,,,,,,,,,,,,For,,,,,,,,For,,,,,,,,, it,,,\n"
     ]
    },
    {
     "name": "stderr",
     "output_type": "stream",
     "text": [
      " 37%|██████████████████▏                              | 1121/3019 [00:25<00:35, 53.40it/s]"
     ]
    },
    {
     "name": "stdout",
     "output_type": "stream",
     "text": [
      "0.7186896204948425\n"
     ]
    },
    {
     "name": "stderr",
     "output_type": "stream",
     "text": [
      " 40%|███████████████████▊                             | 1221/3019 [00:27<00:36, 49.12it/s]"
     ]
    },
    {
     "name": "stdout",
     "output_type": "stream",
     "text": [
      "3.909566640853882\n",
      "Oh my lord,,,,,,,,:\n",
      " of of of\n",
      " a,, a,,,,,,,,,, a,,,,,,,,,, a,,,,,,,,,,\n"
     ]
    },
    {
     "name": "stderr",
     "output_type": "stream",
     "text": [
      " 44%|█████████████████████▍                           | 1321/3019 [00:29<00:31, 53.92it/s]"
     ]
    },
    {
     "name": "stdout",
     "output_type": "stream",
     "text": [
      "4.893825531005859\n"
     ]
    },
    {
     "name": "stderr",
     "output_type": "stream",
     "text": [
      " 47%|███████████████████████                          | 1421/3019 [00:31<00:32, 48.78it/s]"
     ]
    },
    {
     "name": "stdout",
     "output_type": "stream",
     "text": [
      "4.548238754272461\n",
      "Oh my lord:\n",
      " of of\n",
      " of a\n",
      " a aNNNNNNNNNNNN\n",
      "NNNNNNNNNN aNNNN\n",
      "NNNNNNNN he he he\n"
     ]
    },
    {
     "name": "stderr",
     "output_type": "stream",
     "text": [
      " 50%|████████████████████████▋                        | 1521/3019 [00:34<00:27, 54.76it/s]"
     ]
    },
    {
     "name": "stdout",
     "output_type": "stream",
     "text": [
      "2.936631202697754\n"
     ]
    },
    {
     "name": "stderr",
     "output_type": "stream",
     "text": [
      " 54%|██████████████████████████▎                      | 1621/3019 [00:36<00:29, 48.00it/s]"
     ]
    },
    {
     "name": "stdout",
     "output_type": "stream",
     "text": [
      "5.985418796539307\n",
      "Oh my lord:\n",
      " of\n",
      " of\n",
      " of\n",
      " a a a a a a,NNNNNNNNNNNNNN from from\n",
      " a aNNN aNNNN he he he he he he he he\n"
     ]
    },
    {
     "name": "stderr",
     "output_type": "stream",
     "text": [
      " 57%|███████████████████████████▉                     | 1721/3019 [00:38<00:23, 55.15it/s]"
     ]
    },
    {
     "name": "stdout",
     "output_type": "stream",
     "text": [
      "4.528298377990723\n"
     ]
    },
    {
     "name": "stderr",
     "output_type": "stream",
     "text": [
      " 60%|█████████████████████████████▌                   | 1821/3019 [00:40<00:24, 47.93it/s]"
     ]
    },
    {
     "name": "stdout",
     "output_type": "stream",
     "text": [
      "0.07383035868406296\n",
      "Oh my lord:\n",
      " of\n",
      ", or or or not not not to to to have have have have to have have have have to have have have have to have have have have have to have have have have have to have have have have to have have have have\n"
     ]
    },
    {
     "name": "stderr",
     "output_type": "stream",
     "text": [
      " 64%|███████████████████████████████▏                 | 1921/3019 [00:42<00:19, 55.16it/s]"
     ]
    },
    {
     "name": "stdout",
     "output_type": "stream",
     "text": [
      "2.9137845039367676\n"
     ]
    },
    {
     "name": "stderr",
     "output_type": "stream",
     "text": [
      " 67%|████████████████████████████████▊                | 2021/3019 [00:44<00:20, 47.90it/s]"
     ]
    },
    {
     "name": "stdout",
     "output_type": "stream",
     "text": [
      "3.9159698486328125\n",
      "Oh my lord the death death death death death death death death death death death my death death death my death death death my death death death my death death death my death death death my death death my death death death my death death death my death death death my death death\n"
     ]
    },
    {
     "name": "stderr",
     "output_type": "stream",
     "text": [
      " 70%|██████████████████████████████████▍              | 2121/3019 [00:47<00:16, 54.96it/s]"
     ]
    },
    {
     "name": "stdout",
     "output_type": "stream",
     "text": [
      "4.099614143371582\n"
     ]
    },
    {
     "name": "stderr",
     "output_type": "stream",
     "text": [
      " 74%|████████████████████████████████████             | 2221/3019 [00:49<00:16, 47.83it/s]"
     ]
    },
    {
     "name": "stdout",
     "output_type": "stream",
     "text": [
      "4.8561110496521\n",
      "Oh my lord death death death my death death death death my death death death my death death death my death death death my death death death my death death death my death death death my death death death my death death death my death death death my death death death my death\n"
     ]
    },
    {
     "name": "stderr",
     "output_type": "stream",
     "text": [
      " 77%|█████████████████████████████████████▋           | 2321/3019 [00:51<00:12, 55.01it/s]"
     ]
    },
    {
     "name": "stdout",
     "output_type": "stream",
     "text": [
      "3.2358756065368652\n"
     ]
    },
    {
     "name": "stderr",
     "output_type": "stream",
     "text": [
      " 80%|███████████████████████████████████████          | 2404/3019 [00:53<00:25, 23.87it/s]"
     ]
    },
    {
     "name": "stdout",
     "output_type": "stream",
     "text": [
      "5.097275257110596\n",
      "Oh my lord\n",
      "DDDD:\n",
      ";;;;;;;,;, for\n",
      ", for\n",
      ",,,,,,,,,WithWith\n",
      " for of a a a a a a a a,, a,, a\n"
     ]
    },
    {
     "name": "stderr",
     "output_type": "stream",
     "text": [
      " 84%|████████████████████████████████████████▉        | 2522/3019 [14:54<01:15,  6.55it/s]"
     ]
    },
    {
     "name": "stdout",
     "output_type": "stream",
     "text": [
      "5.185309410095215\n"
     ]
    },
    {
     "name": "stderr",
     "output_type": "stream",
     "text": [
      " 86%|██████████████████████████████████████████▎      | 2605/3019 [14:56<00:17, 23.07it/s]"
     ]
    },
    {
     "name": "stdout",
     "output_type": "stream",
     "text": [
      "1.1023322343826294\n",
      "Oh my lord:\n",
      " of of of of a a a a\n",
      " a a a a,, a,, a,, a a,, a a,, a a a a,, a a a,, a a,, a a,,\n"
     ]
    },
    {
     "name": "stderr",
     "output_type": "stream",
     "text": [
      " 90%|████████████████████████████████████████████▏    | 2721/3019 [14:58<00:05, 51.64it/s]"
     ]
    },
    {
     "name": "stdout",
     "output_type": "stream",
     "text": [
      "2.5671801567077637\n"
     ]
    },
    {
     "name": "stderr",
     "output_type": "stream",
     "text": [
      " 93%|█████████████████████████████████████████████▌   | 2804/3019 [15:01<00:09, 21.99it/s]"
     ]
    },
    {
     "name": "stdout",
     "output_type": "stream",
     "text": [
      "3.5757100582122803\n",
      "Oh my lord death death death by the death death death death death death death by by by the death his the the death death death death death death death death death death death death death death his his his his his his the the the the the the death death death death\n"
     ]
    },
    {
     "name": "stderr",
     "output_type": "stream",
     "text": [
      " 97%|███████████████████████████████████████████████▍ | 2921/3019 [15:03<00:01, 51.26it/s]"
     ]
    },
    {
     "name": "stdout",
     "output_type": "stream",
     "text": [
      "4.57713508605957\n"
     ]
    },
    {
     "name": "stderr",
     "output_type": "stream",
     "text": [
      "100%|█████████████████████████████████████████████████| 3019/3019 [15:05<00:00,  3.33it/s]"
     ]
    },
    {
     "name": "stdout",
     "output_type": "stream",
     "text": [
      "4.76613712310791\n",
      "Oh my lord:\n",
      ",,,,,,,,,,,,,,,,,For,For,,,,,,,,, it it not not not not not not not not not not not not not not not not to\n"
     ]
    },
    {
     "name": "stderr",
     "output_type": "stream",
     "text": [
      "\n"
     ]
    },
    {
     "name": "stdout",
     "output_type": "stream",
     "text": [
      "Epoch [9/10], Loss: 4.0454\n",
      "epoch 9\n"
     ]
    },
    {
     "name": "stderr",
     "output_type": "stream",
     "text": [
      "  0%|▏                                                   | 9/3019 [00:00<00:33, 90.00it/s]"
     ]
    },
    {
     "name": "stdout",
     "output_type": "stream",
     "text": [
      "3.8344216346740723\n",
      "Oh my lord:\n",
      " and by by,,,,,,,,,,,,,,,,,,,,,,,,,,,,,,,,, and and from from from from from I from from I from\n"
     ]
    },
    {
     "name": "stderr",
     "output_type": "stream",
     "text": [
      "  4%|██                                                | 121/3019 [00:02<00:53, 54.39it/s]"
     ]
    },
    {
     "name": "stdout",
     "output_type": "stream",
     "text": [
      "3.7088048458099365\n"
     ]
    },
    {
     "name": "stderr",
     "output_type": "stream",
     "text": [
      "  7%|███▋                                              | 221/3019 [00:04<00:56, 49.47it/s]"
     ]
    },
    {
     "name": "stdout",
     "output_type": "stream",
     "text": [
      "3.0245554447174072\n",
      "Oh my lord:\n",
      ",\n",
      " my my of of of my of of from, from\n",
      " from from\n",
      " a, from from:\n",
      ", from from\n",
      ", from from\n",
      ":,:,: a a a from a a from a from a he he\n"
     ]
    },
    {
     "name": "stderr",
     "output_type": "stream",
     "text": [
      " 11%|█████▎                                            | 321/3019 [00:06<00:50, 53.29it/s]"
     ]
    },
    {
     "name": "stdout",
     "output_type": "stream",
     "text": [
      "2.309068202972412\n"
     ]
    },
    {
     "name": "stderr",
     "output_type": "stream",
     "text": [
      " 14%|██████▉                                           | 421/3019 [00:09<00:52, 49.06it/s]"
     ]
    },
    {
     "name": "stdout",
     "output_type": "stream",
     "text": [
      "0.6311269998550415\n",
      "Oh my lord\n",
      ":,:\n",
      " of a a,, a,,,,,,,,,,,,,,,,,,,,,,,,,,,,,,,,,, a,,,,\n"
     ]
    },
    {
     "name": "stderr",
     "output_type": "stream",
     "text": [
      " 17%|████████▋                                         | 521/3019 [00:11<00:46, 54.15it/s]"
     ]
    },
    {
     "name": "stdout",
     "output_type": "stream",
     "text": [
      "3.264019727706909\n"
     ]
    },
    {
     "name": "stderr",
     "output_type": "stream",
     "text": [
      " 21%|██████████▎                                       | 621/3019 [00:13<00:48, 49.45it/s]"
     ]
    },
    {
     "name": "stdout",
     "output_type": "stream",
     "text": [
      "0.7047638297080994\n",
      "Oh my lord:\n",
      " of of, for,,,,,,,,,,,,,,,,,,,,,,,,,,,,,,,,,,,,,,,,,,,,\n"
     ]
    },
    {
     "name": "stderr",
     "output_type": "stream",
     "text": [
      " 24%|███████████▉                                      | 721/3019 [00:15<00:42, 54.17it/s]"
     ]
    },
    {
     "name": "stdout",
     "output_type": "stream",
     "text": [
      "1.7527978420257568\n"
     ]
    },
    {
     "name": "stderr",
     "output_type": "stream",
     "text": [
      " 27%|█████████████▌                                    | 821/3019 [00:17<00:44, 49.42it/s]"
     ]
    },
    {
     "name": "stdout",
     "output_type": "stream",
     "text": [
      "5.299360275268555\n",
      "Oh my lord:\n",
      " of,,,,,,,,,,,,,,,,,,,,,,,,,,,,,,,,,,,,,,,, of my of of,,,\n"
     ]
    },
    {
     "name": "stderr",
     "output_type": "stream",
     "text": [
      " 31%|███████████████▎                                  | 921/3019 [00:19<00:39, 53.72it/s]"
     ]
    },
    {
     "name": "stdout",
     "output_type": "stream",
     "text": [
      "5.167011260986328\n"
     ]
    },
    {
     "name": "stderr",
     "output_type": "stream",
     "text": [
      " 34%|████████████████▌                                | 1021/3019 [00:22<00:40, 48.94it/s]"
     ]
    },
    {
     "name": "stdout",
     "output_type": "stream",
     "text": [
      "5.230987548828125\n",
      "Oh my lord:\n",
      " of,,,,,,,,,,,,,,,,,,,,,,,,,,,,,,,,,,,,,,,,,,,,,,,\n"
     ]
    },
    {
     "name": "stderr",
     "output_type": "stream",
     "text": [
      " 37%|██████████████████▏                              | 1121/3019 [00:24<00:34, 54.33it/s]"
     ]
    },
    {
     "name": "stdout",
     "output_type": "stream",
     "text": [
      "0.6130762100219727\n"
     ]
    },
    {
     "name": "stderr",
     "output_type": "stream",
     "text": [
      " 40%|███████████████████▊                             | 1221/3019 [00:26<00:36, 49.29it/s]"
     ]
    },
    {
     "name": "stdout",
     "output_type": "stream",
     "text": [
      "3.5688254833221436\n",
      "Oh my lord:\n",
      " of of\n",
      " of a\n",
      " eyes eyes eyes\n",
      " eyes eyes\n",
      " eyes eyes eyes\n",
      " eyes eyes\n",
      " eyes eyes eyes\n",
      "OOMyOOMyOOMyOOMyMyMy my of of my of of of my of of\n"
     ]
    },
    {
     "name": "stderr",
     "output_type": "stream",
     "text": [
      " 44%|█████████████████████▍                           | 1321/3019 [00:28<00:31, 53.80it/s]"
     ]
    },
    {
     "name": "stdout",
     "output_type": "stream",
     "text": [
      "4.4418625831604\n"
     ]
    },
    {
     "name": "stderr",
     "output_type": "stream",
     "text": [
      " 47%|███████████████████████                          | 1421/3019 [00:30<00:32, 49.32it/s]"
     ]
    },
    {
     "name": "stdout",
     "output_type": "stream",
     "text": [
      "4.11469030380249\n",
      "Oh my lord:\n",
      " of of\n",
      " of a\n",
      " aNNNNNNNNNNNN\n",
      "NNNNNNNNNNNN aNNNN he he he he and and and and and and and\n"
     ]
    },
    {
     "name": "stderr",
     "output_type": "stream",
     "text": [
      " 50%|████████████████████████▋                        | 1521/3019 [00:32<00:27, 54.14it/s]"
     ]
    },
    {
     "name": "stdout",
     "output_type": "stream",
     "text": [
      "2.442068099975586\n"
     ]
    },
    {
     "name": "stderr",
     "output_type": "stream",
     "text": [
      " 54%|██████████████████████████▎                      | 1621/3019 [00:34<00:28, 49.34it/s]"
     ]
    },
    {
     "name": "stdout",
     "output_type": "stream",
     "text": [
      "5.856261253356934\n",
      "Oh my lord:\n",
      " of\n",
      " of\n",
      " of\n",
      " a a a aNNNNNNNNNNNN aNNNNNN from\n",
      " aNNNNNN from\n",
      " aNNNNNN from\n"
     ]
    },
    {
     "name": "stderr",
     "output_type": "stream",
     "text": [
      " 57%|███████████████████████████▉                     | 1721/3019 [00:37<00:24, 53.73it/s]"
     ]
    },
    {
     "name": "stdout",
     "output_type": "stream",
     "text": [
      "4.065632343292236\n"
     ]
    },
    {
     "name": "stderr",
     "output_type": "stream",
     "text": [
      " 60%|█████████████████████████████▌                   | 1821/3019 [00:39<00:24, 49.32it/s]"
     ]
    },
    {
     "name": "stdout",
     "output_type": "stream",
     "text": [
      "0.04296531155705452\n",
      "Oh my lord:\n",
      " of\n",
      " of eyes\n",
      " eyes eyes eyes\n",
      " eyes eyes eyes\n",
      " eyes eyes\n",
      "OOOOOOOOOOOOOOOOOOOOOOOO my my my of of my of of\n"
     ]
    },
    {
     "name": "stderr",
     "output_type": "stream",
     "text": [
      " 64%|███████████████████████████████▏                 | 1921/3019 [00:41<00:20, 53.67it/s]"
     ]
    },
    {
     "name": "stdout",
     "output_type": "stream",
     "text": [
      "2.5388855934143066\n"
     ]
    },
    {
     "name": "stderr",
     "output_type": "stream",
     "text": [
      " 67%|████████████████████████████████▊                | 2021/3019 [00:43<00:20, 49.45it/s]"
     ]
    },
    {
     "name": "stdout",
     "output_type": "stream",
     "text": [
      "3.62925386428833\n",
      "Oh my lord the death death death death death death death death death death my death death death my death death death my death death death my death death my death death death my death death death my death death death my death death death my death death my death death death my\n"
     ]
    },
    {
     "name": "stderr",
     "output_type": "stream",
     "text": [
      " 70%|██████████████████████████████████▍              | 2121/3019 [00:45<00:16, 53.66it/s]"
     ]
    },
    {
     "name": "stdout",
     "output_type": "stream",
     "text": [
      "3.8592913150787354\n"
     ]
    },
    {
     "name": "stderr",
     "output_type": "stream",
     "text": [
      " 74%|████████████████████████████████████             | 2221/3019 [00:47<00:16, 49.20it/s]"
     ]
    },
    {
     "name": "stdout",
     "output_type": "stream",
     "text": [
      "4.391729354858398\n",
      "Oh my lord death death death my death death death death my death death death my death death death my death death death my death death death my death death my death death death my death death death my death death death my death death death my death death death my death death\n"
     ]
    },
    {
     "name": "stderr",
     "output_type": "stream",
     "text": [
      " 77%|█████████████████████████████████████▋           | 2321/3019 [00:50<00:13, 51.72it/s]"
     ]
    },
    {
     "name": "stdout",
     "output_type": "stream",
     "text": [
      "2.692647695541382\n"
     ]
    },
    {
     "name": "stderr",
     "output_type": "stream",
     "text": [
      " 80%|███████████████████████████████████████▎         | 2421/3019 [00:52<00:12, 47.77it/s]"
     ]
    },
    {
     "name": "stdout",
     "output_type": "stream",
     "text": [
      "4.635680198669434\n",
      "Oh my lord\n",
      "DDDD:\n",
      ";;;;;;;,;For, for,\n",
      ", for,With\n",
      "With\n",
      " for\n",
      ",WithWith\n",
      " my\n",
      " of make a a a a a a a,, a,,\n"
     ]
    },
    {
     "name": "stderr",
     "output_type": "stream",
     "text": [
      " 84%|████████████████████████████████████████▉        | 2521/3019 [00:54<00:09, 55.14it/s]"
     ]
    },
    {
     "name": "stdout",
     "output_type": "stream",
     "text": [
      "4.798908233642578\n"
     ]
    },
    {
     "name": "stderr",
     "output_type": "stream",
     "text": [
      " 87%|██████████████████████████████████████████▌      | 2621/3019 [00:56<00:08, 47.98it/s]"
     ]
    },
    {
     "name": "stdout",
     "output_type": "stream",
     "text": [
      "0.8328571915626526\n",
      "Oh my lord: of of\n",
      " of of a a a aesesesesesesesesesesesesesUSUSUSUS\n",
      ":\n",
      "US:\n",
      " would of would of of would of a a a a a a a a aN\n"
     ]
    },
    {
     "name": "stderr",
     "output_type": "stream",
     "text": [
      " 90%|████████████████████████████████████████████▏    | 2721/3019 [00:58<00:05, 55.15it/s]"
     ]
    },
    {
     "name": "stdout",
     "output_type": "stream",
     "text": [
      "2.1701791286468506\n"
     ]
    },
    {
     "name": "stderr",
     "output_type": "stream",
     "text": [
      " 93%|█████████████████████████████████████████████▊   | 2821/3019 [01:01<00:04, 47.77it/s]"
     ]
    },
    {
     "name": "stdout",
     "output_type": "stream",
     "text": [
      "3.2156882286071777\n",
      "Oh my lord death death death by by the the death death death death death death death death death death death death by by his his his the the the the the death death death death death death death death death death death death death death death death his his his his his\n"
     ]
    },
    {
     "name": "stderr",
     "output_type": "stream",
     "text": [
      " 97%|███████████████████████████████████████████████▍ | 2921/3019 [01:03<00:01, 55.01it/s]"
     ]
    },
    {
     "name": "stdout",
     "output_type": "stream",
     "text": [
      "4.103275299072266\n"
     ]
    },
    {
     "name": "stderr",
     "output_type": "stream",
     "text": [
      "100%|█████████████████████████████████████████████████| 3019/3019 [01:05<00:00, 46.20it/s]"
     ]
    },
    {
     "name": "stdout",
     "output_type": "stream",
     "text": [
      "4.535262584686279\n",
      "Oh my lord: not not not to to have have to have have have have have have have have have have to have have haveI haveI haveI haveI to have have haveI have haveI haveI haveI haveI haveI have haveI have\n"
     ]
    },
    {
     "name": "stderr",
     "output_type": "stream",
     "text": [
      "\n"
     ]
    },
    {
     "name": "stdout",
     "output_type": "stream",
     "text": [
      "Epoch [10/10], Loss: 3.7904\n"
     ]
    }
   ],
   "source": [
    "from tqdm import tqdm \n",
    "\n",
    "criterion = nn.CrossEntropyLoss()\n",
    "optimizer = optim.SGD(model.parameters(), lr=0.01)\n",
    "\n",
    "# Training loop\n",
    "num_epochs = 10\n",
    "for epoch in range(num_epochs):\n",
    "    print(f\"epoch {epoch}\")\n",
    "    for i in tqdm(range(len(dataset_tok_samples)-1)):\n",
    "        # Forward pass\n",
    "        inputs = dataset_tok_samples[i]\n",
    "        labels = dataset_tok_samples[i+1][0]\n",
    "\n",
    "        outputs = model(inputs)\n",
    "        loss = criterion(outputs, labels)\n",
    "        if (i % 100 == 0):\n",
    "            print(loss.item())\n",
    "        if (i % 200 == 0):\n",
    "            print(generate(\"Oh my lord\", 50))\n",
    "        \n",
    "        # Backward and optimize\n",
    "        optimizer.zero_grad()\n",
    "        loss.backward()\n",
    "        optimizer.step()\n",
    "\n",
    "    print('Epoch [{}/{}], Loss: {:.4f}'.format(epoch+1, num_epochs, loss.item()))"
   ]
  },
  {
   "cell_type": "markdown",
   "id": "947f96ac-c46b-4296-b4b1-e6999dd55086",
   "metadata": {},
   "source": [
    "## training loop with generate and stats"
   ]
  },
  {
   "cell_type": "code",
   "execution_count": 1,
   "id": "3ad77ec3-ec84-4b81-abe1-3b0416efbbb8",
   "metadata": {},
   "outputs": [],
   "source": [
    "import tiktoken\n",
    "\n",
    "# r50k_base vocab size: 50,257 https://arxiv.org/pdf/2404.09894\n",
    "enc = tiktoken.get_encoding(\"r50k_base\")\n",
    "assert enc.decode(enc.encode(\"hello world\")) == \"hello world\"\n",
    "\n",
    "def encode(string):\n",
    "    return torch.tensor(enc.encode(string))\n",
    "\n",
    "def decode(tensor):\n",
    "    return enc.decode([tensor.item()])"
   ]
  },
  {
   "cell_type": "code",
   "execution_count": 8,
   "id": "0484e4a2-4d51-483e-bd83-d870e924af12",
   "metadata": {},
   "outputs": [],
   "source": [
    "import torch \n",
    "\n",
    "def tokenize_dataset():\n",
    "    import datasets\n",
    "    dataset = datasets.load_dataset('karpathy/tiny_shakespeare')['train']\n",
    "    return encode(dataset[\"text\"][0])\n",
    "\n",
    "def get_dataloader(dataset_tok, sample_length):\n",
    "    for i in range(len(dataset_tok)-sample_length):\n",
    "        yield dataset_tok[i:i+sample_length], dataset_tok[i+sample_length]\n",
    "\n",
    "dataset_tok = tokenize_dataset().to(\"mps\")\n",
    "dataset_samples = get_dataloader(dataset_tok, 10)\n"
   ]
  },
  {
   "cell_type": "code",
   "execution_count": 12,
   "id": "9309fa4f-0591-4b0d-aa2c-f10c8e3f3431",
   "metadata": {},
   "outputs": [
    {
     "data": {
      "text/plain": [
       "301966"
      ]
     },
     "execution_count": 12,
     "metadata": {},
     "output_type": "execute_result"
    }
   ],
   "source": [
    "len(dataset_tok)"
   ]
  },
  {
   "cell_type": "code",
   "execution_count": 9,
   "id": "606b528a-fd6c-40b8-ba19-61ef3527be8a",
   "metadata": {},
   "outputs": [
    {
     "data": {
      "text/plain": [
       "77792864"
      ]
     },
     "execution_count": 9,
     "metadata": {},
     "output_type": "execute_result"
    }
   ],
   "source": [
    "import torch\n",
    "import torch.nn as nn\n",
    "import torch.optim as optim\n",
    "\n",
    "class MLP(nn.Module):\n",
    "    def __init__(self, vocab_size, embedding_dim, hidden_size, num_classes):\n",
    "        super(MLP, self).__init__()\n",
    "        self.embedding = nn.Embedding(vocab_size, embedding_dim)\n",
    "        self.fc1 = nn.Linear(embedding_dim, hidden_size)\n",
    "        self.relu = nn.ReLU()\n",
    "        self.fc2 = nn.Linear(hidden_size, num_classes)\n",
    "\n",
    "    def forward(self, x):\n",
    "        out = self.embedding(x)\n",
    "        out = out.mean(dim=0)  # Average the embeddings to get a single vector per sentence\n",
    "        out = self.fc1(out)\n",
    "        out = self.relu(out)\n",
    "        out = self.fc2(out)\n",
    "        return out\n",
    "\n",
    "def count_parameters(model):\n",
    "    return sum(p.numel() for p in model.parameters() if p.requires_grad)\n",
    "\n",
    "def generate(prompt, tokens):\n",
    "    with torch.no_grad():\n",
    "        for _ in range(tokens):\n",
    "            input_tok = encode(prompt).to(\"mps\")\n",
    "            output_tok = model(input_tok)\n",
    "            output = decode(torch.argmax(output_tok))\n",
    "            prompt = prompt + output\n",
    "        return prompt\n",
    "        \n",
    "model = MLP(vocab_size=50_272, embedding_dim=1024, hidden_size=512, num_classes=50_272)\n",
    "model.to(\"mps\")\n",
    "\n",
    "count_parameters(model)"
   ]
  },
  {
   "cell_type": "code",
   "execution_count": null,
   "id": "877d4161-0d82-4fe5-8844-fc596bfc5d32",
   "metadata": {},
   "outputs": [
    {
     "name": "stdout",
     "output_type": "stream",
     "text": [
      "epoch 0\n",
      "step 20: loss 8.78 20.90ms 479tok/s (total 190tok)\n",
      "step 40: loss 11.80 21.63ms 462tok/s (total 390tok)\n",
      "step 60: loss 10.90 21.33ms 469tok/s (total 590tok)\n",
      "step 80: loss 7.33 20.71ms 483tok/s (total 790tok)\n",
      "step 100: loss 11.63 21.12ms 473tok/s (total 990tok)\n",
      "Oh my lord\n",
      ":,:,.\n",
      ",.,\n",
      "step 120: loss 11.16 20.75ms 482tok/s (total 1,190tok)\n",
      "step 140: loss 5.41 20.67ms 484tok/s (total 1,390tok)\n",
      "step 160: loss 11.04 20.72ms 483tok/s (total 1,590tok)\n",
      "step 180: loss 6.27 20.70ms 483tok/s (total 1,790tok)\n",
      "step 200: loss 12.16 20.68ms 484tok/s (total 1,990tok)\n",
      "Oh my lord,\n",
      " a a a, a\n",
      " a was\n",
      "step 220: loss 7.09 21.03ms 475tok/s (total 2,190tok)\n",
      "step 240: loss 13.34 20.67ms 484tok/s (total 2,390tok)\n",
      "step 260: loss 11.08 20.77ms 481tok/s (total 2,590tok)\n",
      "step 280: loss 5.48 21.66ms 462tok/s (total 2,790tok)\n",
      "step 300: loss 11.73 20.79ms 481tok/s (total 2,990tok)\n",
      "Oh my lord\n",
      ":,:\n",
      ", he he the in\n",
      "step 320: loss 8.03 20.96ms 477tok/s (total 3,190tok)\n",
      "step 340: loss 11.07 20.71ms 483tok/s (total 3,390tok)\n",
      "step 360: loss 9.87 21.08ms 474tok/s (total 3,590tok)\n",
      "step 380: loss 11.32 21.37ms 468tok/s (total 3,790tok)\n",
      "step 400: loss 10.37 20.92ms 478tok/s (total 3,990tok)\n",
      "Oh my lord\n",
      ":,,, the.\n",
      "\n",
      "\n",
      "\n",
      "step 420: loss 1.48 20.85ms 480tok/s (total 4,190tok)\n",
      "step 440: loss 7.15 21.50ms 465tok/s (total 4,390tok)\n",
      "step 460: loss 8.74 21.55ms 464tok/s (total 4,590tok)\n",
      "step 480: loss 5.03 21.46ms 466tok/s (total 4,790tok)\n",
      "step 500: loss 4.82 21.49ms 465tok/s (total 4,990tok)\n",
      "Oh my lord,\n",
      " you you you, you you you,\n",
      "step 520: loss 7.25 20.86ms 479tok/s (total 5,190tok)\n",
      "step 540: loss 10.00 22.38ms 447tok/s (total 5,390tok)\n",
      "step 560: loss 9.64 21.95ms 456tok/s (total 5,590tok)\n",
      "step 580: loss 11.42 21.15ms 473tok/s (total 5,790tok)\n",
      "step 600: loss 11.63 21.26ms 470tok/s (total 5,990tok)\n",
      "Oh my lord,\n",
      " a a his his a a: you\n",
      "step 620: loss 6.66 20.78ms 481tok/s (total 6,190tok)\n",
      "step 640: loss 5.62 20.92ms 478tok/s (total 6,390tok)\n",
      "step 660: loss 12.17 20.81ms 481tok/s (total 6,590tok)\n",
      "step 680: loss 6.81 20.73ms 482tok/s (total 6,790tok)\n",
      "step 700: loss 0.79 20.96ms 477tok/s (total 6,990tok)\n",
      "Oh my lord\n",
      ":\n",
      " his his\n",
      " his\n",
      " his his\n",
      "step 720: loss 3.03 20.75ms 482tok/s (total 7,190tok)\n",
      "step 740: loss 9.01 21.50ms 465tok/s (total 7,390tok)\n",
      "step 760: loss 12.67 20.70ms 483tok/s (total 7,590tok)\n",
      "step 780: loss 2.41 20.69ms 483tok/s (total 7,790tok)\n",
      "step 800: loss 10.54 20.73ms 482tok/s (total 7,990tok)\n",
      "Oh my lord\n",
      "I: you you.\n",
      " your your your\n",
      "step 820: loss 7.51 20.71ms 483tok/s (total 8,190tok)\n",
      "step 840: loss 10.26 20.84ms 480tok/s (total 8,390tok)\n",
      "step 860: loss 5.44 20.72ms 483tok/s (total 8,590tok)\n",
      "step 880: loss 9.52 20.72ms 483tok/s (total 8,790tok)\n",
      "step 900: loss 11.35 20.74ms 482tok/s (total 8,990tok)\n",
      "Oh my lord,.,.\n",
      " a a a a I\n",
      "step 920: loss 11.68 20.69ms 483tok/s (total 9,190tok)\n",
      "step 940: loss 8.70 20.77ms 481tok/s (total 9,390tok)\n",
      "step 960: loss 12.65 20.74ms 482tok/s (total 9,590tok)\n",
      "step 980: loss 3.18 20.76ms 482tok/s (total 9,790tok)\n",
      "step 1000: loss 2.64 21.02ms 476tok/s (total 9,990tok)\n",
      "Oh my lord\n",
      "IA:,:,,,\n",
      " it\n",
      "step 1020: loss 1.18 20.94ms 478tok/s (total 10,190tok)\n",
      "step 1040: loss 9.73 20.70ms 483tok/s (total 10,390tok)\n",
      "step 1060: loss 0.01 20.76ms 482tok/s (total 10,590tok)\n",
      "step 1080: loss 13.77 20.85ms 480tok/s (total 10,790tok)\n",
      "step 1100: loss 0.82 20.74ms 482tok/s (total 10,990tok)\n",
      "Oh my lord\n",
      "IA:,:\n",
      ",;.\n",
      "\n",
      "step 1120: loss 3.22 20.78ms 481tok/s (total 11,190tok)\n",
      "step 1140: loss 5.21 21.15ms 473tok/s (total 11,390tok)\n",
      "step 1160: loss 9.01 20.72ms 483tok/s (total 11,590tok)\n",
      "step 1180: loss 2.59 20.72ms 483tok/s (total 11,790tok)\n",
      "step 1200: loss 8.86 20.66ms 484tok/s (total 11,990tok)\n",
      "Oh my lord\n",
      "IA:,:,,, I I\n",
      "step 1220: loss 1.64 20.63ms 485tok/s (total 12,190tok)\n",
      "step 1240: loss 9.03 21.02ms 476tok/s (total 12,390tok)\n",
      "step 1260: loss 4.01 20.83ms 480tok/s (total 12,590tok)\n",
      "step 1280: loss 11.42 20.70ms 483tok/s (total 12,790tok)\n",
      "step 1300: loss 5.56 21.20ms 472tok/s (total 12,990tok)\n",
      "Oh my lord, I.\n",
      "IA:\n",
      ", I that\n",
      "step 1320: loss 1.71 20.68ms 484tok/s (total 13,190tok)\n",
      "step 1340: loss 5.99 20.85ms 480tok/s (total 13,390tok)\n",
      "step 1360: loss 5.32 20.74ms 482tok/s (total 13,590tok)\n",
      "step 1380: loss 0.47 20.74ms 482tok/s (total 13,790tok)\n",
      "step 1400: loss 1.18 20.71ms 483tok/s (total 13,990tok)\n",
      "Oh my lord\n",
      "IA:,:,,,\n",
      ",\n",
      "step 1420: loss 6.00 20.67ms 484tok/s (total 14,190tok)\n",
      "step 1440: loss 0.76 20.93ms 478tok/s (total 14,390tok)\n",
      "step 1460: loss 5.19 20.64ms 485tok/s (total 14,590tok)\n",
      "step 1480: loss 11.32 20.66ms 484tok/s (total 14,790tok)\n",
      "step 1500: loss 2.30 20.67ms 484tok/s (total 14,990tok)\n",
      "Oh my lord\n",
      "IA:,:,:,:,\n",
      "step 1520: loss 7.15 20.61ms 485tok/s (total 15,190tok)\n",
      "step 1540: loss 3.25 20.65ms 484tok/s (total 15,390tok)\n",
      "step 1560: loss 12.27 20.64ms 484tok/s (total 15,590tok)\n",
      "step 1580: loss 11.03 20.61ms 485tok/s (total 15,790tok)\n",
      "step 1600: loss 2.26 20.67ms 484tok/s (total 15,990tok)\n",
      "Oh my lord\n",
      "IA:,:,:,,,\n",
      "step 1620: loss 2.73 20.66ms 484tok/s (total 16,190tok)\n",
      "step 1640: loss 10.32 20.61ms 485tok/s (total 16,390tok)\n",
      "step 1660: loss 0.52 20.69ms 483tok/s (total 16,590tok)\n",
      "step 1680: loss 10.39 20.63ms 485tok/s (total 16,790tok)\n",
      "step 1700: loss 9.45 20.65ms 484tok/s (total 16,990tok)\n",
      "Oh my lord,.\n",
      ",.,.\n",
      "IA:\n",
      "step 1720: loss 11.44 20.60ms 485tok/s (total 17,190tok)\n",
      "step 1740: loss 6.83 20.71ms 483tok/s (total 17,390tok)\n",
      "step 1760: loss 3.09 20.65ms 484tok/s (total 17,590tok)\n",
      "step 1780: loss 12.05 20.59ms 486tok/s (total 17,790tok)\n",
      "step 1800: loss 4.52 20.51ms 488tok/s (total 17,990tok)\n",
      "Oh my lord.\n",
      "\n",
      "\n",
      "\n",
      "\n",
      "\n",
      "\n",
      "\n",
      "\n",
      "\n",
      "step 1820: loss 0.80 20.71ms 483tok/s (total 18,190tok)\n",
      "step 1840: loss 4.05 20.61ms 485tok/s (total 18,390tok)\n",
      "step 1860: loss 9.31 20.59ms 486tok/s (total 18,590tok)\n",
      "step 1880: loss 0.29 20.63ms 485tok/s (total 18,790tok)\n",
      "step 1900: loss 12.69 20.64ms 485tok/s (total 18,990tok)\n",
      "Oh my lord.\n",
      "US:\n",
      "\n",
      "\n",
      "\n",
      "\n",
      "\n",
      "\n",
      "step 1920: loss 11.38 20.55ms 487tok/s (total 19,190tok)\n",
      "step 1940: loss 6.77 20.67ms 484tok/s (total 19,390tok)\n",
      "step 1960: loss 4.39 20.68ms 484tok/s (total 19,590tok)\n",
      "step 1980: loss 0.14 20.59ms 486tok/s (total 19,790tok)\n",
      "step 2000: loss 12.26 20.81ms 481tok/s (total 19,990tok)\n",
      "Oh my lord,\n",
      " our. our our\n",
      " our our.\n",
      "step 2020: loss 5.36 20.77ms 482tok/s (total 20,190tok)\n",
      "step 2040: loss 10.33 21.28ms 470tok/s (total 20,390tok)\n",
      "step 2060: loss 11.41 20.62ms 485tok/s (total 20,590tok)\n",
      "step 2080: loss 5.75 20.60ms 485tok/s (total 20,790tok)\n",
      "step 2100: loss 3.45 20.68ms 484tok/s (total 20,990tok)\n",
      "Oh my lord\n",
      "US:,:,:,.,\n",
      "step 2120: loss 10.14 20.60ms 485tok/s (total 21,190tok)\n",
      "step 2140: loss 6.25 20.73ms 482tok/s (total 21,390tok)\n",
      "step 2160: loss 7.20 20.66ms 484tok/s (total 21,590tok)\n",
      "step 2180: loss 3.40 20.60ms 485tok/s (total 21,790tok)\n",
      "step 2200: loss 4.63 20.59ms 486tok/s (total 21,990tok)\n",
      "Oh my lord\n",
      "US: the,\n",
      " the of.\n",
      "\n",
      "step 2220: loss 11.91 20.60ms 486tok/s (total 22,190tok)\n",
      "step 2240: loss 12.27 20.66ms 484tok/s (total 22,390tok)\n",
      "step 2260: loss 10.00 20.60ms 486tok/s (total 22,590tok)\n",
      "step 2280: loss 11.72 20.63ms 485tok/s (total 22,790tok)\n",
      "step 2300: loss 4.37 20.61ms 485tok/s (total 22,990tok)\n",
      "Oh my lord,\n",
      " and! and!\n",
      " and! and\n",
      "step 2320: loss 4.02 20.71ms 483tok/s (total 23,190tok)\n",
      "step 2340: loss 11.55 20.67ms 484tok/s (total 23,390tok)\n",
      "step 2360: loss 9.73 20.69ms 483tok/s (total 23,590tok)\n",
      "step 2380: loss 12.65 20.61ms 485tok/s (total 23,790tok)\n",
      "step 2400: loss 5.00 20.61ms 485tok/s (total 23,990tok)\n",
      "Oh my lord: the, the,\n",
      " the: the the\n",
      "step 2420: loss 2.32 20.60ms 486tok/s (total 24,190tok)\n",
      "step 2440: loss 3.00 20.91ms 478tok/s (total 24,390tok)\n",
      "step 2460: loss 8.01 20.86ms 479tok/s (total 24,590tok)\n",
      "step 2480: loss 0.92 20.93ms 478tok/s (total 24,790tok)\n",
      "step 2500: loss 8.66 20.64ms 484tok/s (total 24,990tok)\n",
      "Oh my lord:\n",
      " the,\n",
      " the, the.\n",
      "\n",
      "step 2520: loss 6.18 20.66ms 484tok/s (total 25,190tok)\n",
      "step 2540: loss 12.15 20.69ms 483tok/s (total 25,390tok)\n",
      "step 2560: loss 11.27 20.76ms 482tok/s (total 25,590tok)\n",
      "step 2580: loss 5.93 20.63ms 485tok/s (total 25,790tok)\n",
      "step 2600: loss 11.92 20.70ms 483tok/s (total 25,990tok)\n",
      "Oh my lord,:\n",
      " not not.\n",
      ", not the\n",
      "step 2620: loss 9.27 20.66ms 484tok/s (total 26,190tok)\n",
      "step 2640: loss 10.89 20.62ms 485tok/s (total 26,390tok)\n",
      "step 2660: loss 3.53 20.61ms 485tok/s (total 26,590tok)\n",
      "step 2680: loss 11.57 20.61ms 485tok/s (total 26,790tok)\n",
      "step 2700: loss 0.94 20.67ms 484tok/s (total 26,990tok)\n",
      "Oh my lord:\n",
      "\n",
      "\n",
      "\n",
      "\n",
      "\n",
      "\n",
      "\n",
      "\n",
      "\n",
      "step 2720: loss 6.56 20.61ms 485tok/s (total 27,190tok)\n",
      "step 2740: loss 2.47 20.77ms 481tok/s (total 27,390tok)\n",
      "step 2760: loss 11.40 20.74ms 482tok/s (total 27,590tok)\n",
      "step 2780: loss 2.63 20.73ms 483tok/s (total 27,790tok)\n",
      "step 2800: loss 3.87 20.66ms 484tok/s (total 27,990tok)\n",
      "Oh my lord,:!\n",
      "!!!!!!\n",
      "step 2820: loss 4.79 20.61ms 485tok/s (total 28,190tok)\n",
      "step 2840: loss 9.85 20.64ms 485tok/s (total 28,390tok)\n",
      "step 2860: loss 12.23 20.69ms 483tok/s (total 28,590tok)\n",
      "step 2880: loss 1.92 20.60ms 485tok/s (total 28,790tok)\n",
      "step 2900: loss 6.91 21.23ms 471tok/s (total 28,990tok)\n",
      "Oh my lord,\n",
      " the:;\n",
      ", I the;\n",
      "step 2920: loss 4.13 21.43ms 467tok/s (total 29,190tok)\n",
      "step 2940: loss 4.67 22.04ms 454tok/s (total 29,390tok)\n",
      "step 2960: loss 4.33 21.05ms 475tok/s (total 29,590tok)\n",
      "step 2980: loss 12.82 21.26ms 470tok/s (total 29,790tok)\n",
      "step 3000: loss 11.17 20.81ms 480tok/s (total 29,990tok)\n",
      "Oh my lord,\n",
      "I:; I the,\n",
      " with\n",
      "step 3020: loss 11.45 21.68ms 461tok/s (total 30,190tok)\n",
      "step 3040: loss 2.73 20.72ms 483tok/s (total 30,390tok)\n",
      "step 3060: loss 6.44 20.92ms 478tok/s (total 30,590tok)\n",
      "step 3080: loss 5.61 20.82ms 480tok/s (total 30,790tok)\n",
      "step 3100: loss 5.08 20.87ms 479tok/s (total 30,990tok)\n",
      "Oh my lord:\n",
      "!\n",
      "I, the!\n",
      "I\n",
      "step 3120: loss 10.71 20.75ms 482tok/s (total 31,190tok)\n",
      "step 3140: loss 6.98 21.76ms 459tok/s (total 31,390tok)\n",
      "step 3160: loss 4.81 20.78ms 481tok/s (total 31,590tok)\n",
      "step 3180: loss 3.40 21.78ms 459tok/s (total 31,790tok)\n",
      "step 3200: loss 8.35 20.71ms 483tok/s (total 31,990tok)\n",
      "Oh my lord,\n",
      " our.\n",
      "US:\n",
      "\n",
      "\n",
      "\n",
      "step 3220: loss 5.66 20.98ms 477tok/s (total 32,190tok)\n",
      "step 3240: loss 4.28 21.10ms 474tok/s (total 32,390tok)\n",
      "step 3260: loss 10.93 20.83ms 480tok/s (total 32,590tok)\n",
      "step 3280: loss 0.44 20.94ms 478tok/s (total 32,790tok)\n",
      "step 3300: loss 0.89 21.54ms 464tok/s (total 32,990tok)\n",
      "Oh my lord:\n",
      ",\n",
      ".\n",
      "I\n",
      "II\n",
      "step 3320: loss 5.25 20.69ms 483tok/s (total 33,190tok)\n",
      "step 3340: loss 0.43 21.36ms 468tok/s (total 33,390tok)\n",
      "step 3360: loss 12.67 21.29ms 470tok/s (total 33,590tok)\n",
      "step 3380: loss 5.26 21.60ms 463tok/s (total 33,790tok)\n",
      "step 3400: loss 6.69 20.81ms 480tok/s (total 33,990tok)\n",
      "Oh my lord,\n",
      "IUS:\n",
      ",\n",
      " I's\n",
      "step 3420: loss 5.64 20.71ms 483tok/s (total 34,190tok)\n",
      "step 3440: loss 3.34 20.72ms 483tok/s (total 34,390tok)\n",
      "step 3460: loss 5.26 20.94ms 478tok/s (total 34,590tok)\n",
      "step 3480: loss 10.51 20.82ms 480tok/s (total 34,790tok)\n",
      "step 3500: loss 4.01 21.05ms 475tok/s (total 34,990tok)\n",
      "Oh my lord:\n",
      " I the of of, not I not\n",
      "step 3520: loss 8.36 21.13ms 473tok/s (total 35,190tok)\n",
      "step 3540: loss 3.56 21.03ms 475tok/s (total 35,390tok)\n",
      "step 3560: loss 6.27 21.06ms 475tok/s (total 35,590tok)\n",
      "step 3580: loss 8.23 21.04ms 475tok/s (total 35,790tok)\n",
      "step 3600: loss 0.94 20.78ms 481tok/s (total 35,990tok)\n",
      "Oh my lord:\n",
      " I a a\n",
      " of a a,\n",
      "step 3620: loss 10.44 21.07ms 475tok/s (total 36,190tok)\n",
      "step 3640: loss 10.23 21.63ms 462tok/s (total 36,390tok)\n",
      "step 3660: loss 0.05 21.14ms 473tok/s (total 36,590tok)\n",
      "step 3680: loss 4.12 21.53ms 465tok/s (total 36,790tok)\n",
      "step 3700: loss 7.31 21.79ms 459tok/s (total 36,990tok)\n",
      "Oh my lordUS:\n",
      "?\n",
      "?\n",
      " is?\n",
      "\n",
      "step 3720: loss 7.78 22.08ms 453tok/s (total 37,190tok)\n",
      "step 3740: loss 6.07 21.98ms 455tok/s (total 37,390tok)\n",
      "step 3760: loss 0.29 22.96ms 436tok/s (total 37,590tok)\n",
      "step 3780: loss 8.13 22.05ms 453tok/s (total 37,790tok)\n",
      "step 3800: loss 2.61 22.47ms 445tok/s (total 37,990tok)\n",
      "Oh my lord the?\n",
      " the?:????\n",
      "step 3820: loss 1.54 22.00ms 455tok/s (total 38,190tok)\n",
      "step 3840: loss 0.98 21.93ms 456tok/s (total 38,390tok)\n",
      "step 3860: loss 12.43 22.29ms 449tok/s (total 38,590tok)\n",
      "step 3880: loss 2.59 22.01ms 454tok/s (total 38,790tok)\n",
      "step 3900: loss 5.67 21.95ms 456tok/s (total 38,990tok)\n",
      "Oh my lord,\n",
      " the the,\n",
      " the their their their\n",
      "step 3920: loss 2.46 22.02ms 454tok/s (total 39,190tok)\n",
      "step 3940: loss 4.75 22.86ms 438tok/s (total 39,390tok)\n",
      "step 3960: loss 2.93 21.99ms 455tok/s (total 39,590tok)\n",
      "step 3980: loss 3.12 22.18ms 451tok/s (total 39,790tok)\n",
      "step 4000: loss 5.85 23.06ms 434tok/s (total 39,990tok)\n",
      "Oh my lord,\n",
      " the the,,,\n",
      " the,\n",
      "step 4020: loss 7.55 20.75ms 482tok/s (total 40,190tok)\n",
      "step 4040: loss 13.11 21.08ms 474tok/s (total 40,390tok)\n",
      "step 4060: loss 2.61 20.76ms 482tok/s (total 40,590tok)\n",
      "step 4080: loss 0.43 20.67ms 484tok/s (total 40,790tok)\n",
      "step 4100: loss 5.53 20.89ms 479tok/s (total 40,990tok)\n",
      "Oh my lord:\n",
      " you to to to you,;;\n",
      "step 4120: loss 11.20 21.12ms 473tok/s (total 41,190tok)\n",
      "step 4140: loss 6.25 21.27ms 470tok/s (total 41,390tok)\n",
      "step 4160: loss 3.98 20.90ms 479tok/s (total 41,590tok)\n",
      "step 4180: loss 12.11 21.01ms 476tok/s (total 41,790tok)\n",
      "step 4200: loss 11.28 21.22ms 471tok/s (total 41,990tok)\n",
      "Oh my lord,\n",
      " of you of you of you?\n",
      "\n",
      "step 4220: loss 12.45 20.93ms 478tok/s (total 42,190tok)\n",
      "step 4240: loss 8.41 20.69ms 483tok/s (total 42,390tok)\n",
      "step 4260: loss 5.98 20.97ms 477tok/s (total 42,590tok)\n",
      "step 4280: loss 4.12 20.70ms 483tok/s (total 42,790tok)\n",
      "step 4300: loss 6.99 20.96ms 477tok/s (total 42,990tok)\n",
      "Oh my lord,\n",
      ".\n",
      "US:\n",
      "\n",
      "\n",
      ",\n",
      "step 4320: loss 2.72 20.78ms 481tok/s (total 43,190tok)\n",
      "step 4340: loss 5.02 20.87ms 479tok/s (total 43,390tok)\n",
      "step 4360: loss 11.36 20.97ms 477tok/s (total 43,590tok)\n",
      "step 4380: loss 1.71 21.39ms 468tok/s (total 43,790tok)\n",
      "step 4400: loss 10.42 20.76ms 482tok/s (total 43,990tok)\n",
      "Oh my lord,\n",
      ".\n",
      "US:\n",
      "\n",
      "\n",
      "\n",
      "\n",
      "step 4420: loss 0.14 20.80ms 481tok/s (total 44,190tok)\n",
      "step 4440: loss 1.97 21.53ms 464tok/s (total 44,390tok)\n",
      "step 4460: loss 11.09 20.68ms 484tok/s (total 44,590tok)\n",
      "step 4480: loss 12.71 20.93ms 478tok/s (total 44,790tok)\n",
      "step 4500: loss 0.52 20.75ms 482tok/s (total 44,990tok)\n",
      "Oh my lord.\n",
      "US:\n",
      "\n",
      "\n",
      "\n",
      "\n",
      "\n",
      "\n",
      "step 4520: loss 4.13 20.72ms 483tok/s (total 45,190tok)\n",
      "step 4540: loss 0.14 20.75ms 482tok/s (total 45,390tok)\n",
      "step 4560: loss 9.49 20.87ms 479tok/s (total 45,590tok)\n",
      "step 4580: loss 10.44 20.89ms 479tok/s (total 45,790tok)\n",
      "step 4600: loss 5.18 25.11ms 398tok/s (total 45,990tok)\n",
      "Oh my lord\n",
      "US:\n",
      " I, the\n",
      " me me\n",
      "step 4620: loss 11.68 23.92ms 418tok/s (total 46,190tok)\n",
      "step 4640: loss 5.94 20.79ms 481tok/s (total 46,390tok)\n",
      "step 4660: loss 0.98 21.65ms 462tok/s (total 46,590tok)\n",
      "step 4680: loss 5.77 18.57ms 539tok/s (total 46,790tok)\n",
      "step 4700: loss 6.70 22.14ms 452tok/s (total 46,990tok)\n",
      "Oh my lord:\n",
      " I not I not thy thy thy.\n",
      "step 4720: loss 2.76 22.69ms 441tok/s (total 47,190tok)\n",
      "step 4740: loss 0.66 22.15ms 451tok/s (total 47,390tok)\n",
      "step 4760: loss 10.17 21.56ms 464tok/s (total 47,590tok)\n",
      "step 4780: loss 8.28 21.39ms 468tok/s (total 47,790tok)\n",
      "step 4800: loss 11.56 23.18ms 431tok/s (total 47,990tok)\n",
      "Oh my lord,\n",
      " the a a\n",
      " the, shall with\n",
      "step 4820: loss 11.93 21.21ms 471tok/s (total 48,190tok)\n",
      "step 4840: loss 0.13 21.06ms 475tok/s (total 48,390tok)\n",
      "step 4860: loss 7.97 20.87ms 479tok/s (total 48,590tok)\n",
      "step 4880: loss 4.41 21.96ms 455tok/s (total 48,790tok)\n",
      "step 4900: loss 9.93 23.13ms 432tok/s (total 48,990tok)\n",
      "Oh my lord:\n",
      "'s; I's's,; my\n",
      "step 4920: loss 4.83 21.30ms 470tok/s (total 49,190tok)\n",
      "step 4940: loss 6.48 21.37ms 468tok/s (total 49,390tok)\n",
      "step 4960: loss 4.89 22.11ms 452tok/s (total 49,590tok)\n",
      "step 4980: loss 13.13 21.16ms 473tok/s (total 49,790tok)\n",
      "step 5000: loss 9.71 21.21ms 471tok/s (total 49,990tok)\n",
      "Oh my lord:\n",
      ", a a a,\n",
      " of to\n",
      "step 5020: loss 3.55 21.36ms 468tok/s (total 50,190tok)\n",
      "step 5040: loss 1.52 21.28ms 470tok/s (total 50,390tok)\n",
      "step 5060: loss 3.45 21.24ms 471tok/s (total 50,590tok)\n",
      "step 5080: loss 11.26 20.70ms 483tok/s (total 50,790tok)\n",
      "step 5100: loss 12.09 20.85ms 480tok/s (total 50,990tok)\n",
      "Oh my lord,\n",
      ". have have have have\n",
      " have have\n",
      "step 5120: loss 4.48 20.77ms 481tok/s (total 51,190tok)\n",
      "step 5140: loss 7.16 20.67ms 484tok/s (total 51,390tok)\n",
      "step 5160: loss 7.98 21.12ms 473tok/s (total 51,590tok)\n",
      "step 5180: loss 5.31 21.22ms 471tok/s (total 51,790tok)\n",
      "step 5200: loss 2.56 20.72ms 483tok/s (total 51,990tok)\n",
      "Oh my lord\n",
      "MARUS:\n",
      " my\n",
      " my:\n",
      "\n",
      "step 5220: loss 7.61 20.73ms 482tok/s (total 52,190tok)\n",
      "step 5240: loss 2.34 20.76ms 482tok/s (total 52,390tok)\n",
      "step 5260: loss 0.48 20.80ms 481tok/s (total 52,590tok)\n",
      "step 5280: loss 5.80 20.93ms 478tok/s (total 52,790tok)\n",
      "step 5300: loss 11.47 20.97ms 477tok/s (total 52,990tok)\n",
      "Oh my lord:\n",
      " I, I that that that have that\n",
      "step 5320: loss 6.93 21.94ms 456tok/s (total 53,190tok)\n",
      "step 5340: loss 9.42 21.17ms 472tok/s (total 53,390tok)\n",
      "step 5360: loss 5.28 21.04ms 475tok/s (total 53,590tok)\n",
      "step 5380: loss 5.03 20.74ms 482tok/s (total 53,790tok)\n",
      "step 5400: loss 9.72 20.67ms 484tok/s (total 53,990tok)\n",
      "Oh my lord:\n",
      " you, you you, be you,\n",
      "step 5420: loss 3.58 20.60ms 485tok/s (total 54,190tok)\n",
      "step 5440: loss 5.73 21.03ms 475tok/s (total 54,390tok)\n",
      "step 5460: loss 9.71 21.91ms 456tok/s (total 54,590tok)\n",
      "step 5480: loss 5.12 21.28ms 470tok/s (total 54,790tok)\n",
      "step 5500: loss 12.71 23.57ms 424tok/s (total 54,990tok)\n",
      "Oh my lord:,,,\n",
      " all the, all all\n",
      "step 5520: loss 8.20 21.67ms 461tok/s (total 55,190tok)\n",
      "step 5540: loss 6.60 20.75ms 482tok/s (total 55,390tok)\n",
      "step 5560: loss 4.98 20.78ms 481tok/s (total 55,590tok)\n",
      "step 5580: loss 4.38 21.27ms 470tok/s (total 55,790tok)\n",
      "step 5600: loss 5.16 21.27ms 470tok/s (total 55,990tok)\n",
      "Oh my lord:\n",
      ", I your all all you your,\n",
      "step 5620: loss 3.70 21.70ms 461tok/s (total 56,190tok)\n",
      "step 5640: loss 4.82 20.97ms 477tok/s (total 56,390tok)\n",
      "step 5660: loss 5.37 23.80ms 420tok/s (total 56,590tok)\n",
      "step 5680: loss 4.56 24.43ms 409tok/s (total 56,790tok)\n",
      "step 5700: loss 1.41 22.02ms 454tok/s (total 56,990tok)\n",
      "Oh my lord\n",
      "IUS:,:,:,,\n",
      "step 5720: loss 7.97 22.81ms 438tok/s (total 57,190tok)\n",
      "step 5740: loss 0.72 20.78ms 481tok/s (total 57,390tok)\n",
      "step 5760: loss 3.09 21.64ms 462tok/s (total 57,590tok)\n",
      "step 5780: loss 11.88 20.92ms 478tok/s (total 57,790tok)\n",
      "step 5800: loss 6.53 21.89ms 457tok/s (total 57,990tok)\n",
      "Oh my lord\n",
      "IUS:;\n",
      ";;;;\n",
      "step 5820: loss 12.82 22.55ms 444tok/s (total 58,190tok)\n",
      "step 5840: loss 8.14 22.66ms 441tok/s (total 58,390tok)\n",
      "step 5860: loss 3.45 21.82ms 458tok/s (total 58,590tok)\n",
      "step 5880: loss 11.48 21.11ms 474tok/s (total 58,790tok)\n",
      "step 5900: loss 7.59 21.06ms 475tok/s (total 58,990tok)\n",
      "Oh my lord\n",
      "IUS:,:,:\n",
      ",\n",
      "step 5920: loss 0.43 21.13ms 473tok/s (total 59,190tok)\n",
      "step 5940: loss 7.95 22.04ms 454tok/s (total 59,390tok)\n",
      "step 5960: loss 2.26 20.83ms 480tok/s (total 59,590tok)\n",
      "step 5980: loss 10.34 23.10ms 433tok/s (total 59,790tok)\n",
      "step 6000: loss 7.43 21.02ms 476tok/s (total 59,990tok)\n",
      "Oh my lord\n",
      "US:\n",
      "!\n",
      "IIII\n",
      "step 6020: loss 15.28 24.25ms 412tok/s (total 60,190tok)\n",
      "step 6040: loss 12.66 23.33ms 429tok/s (total 60,390tok)\n",
      "step 6060: loss 1.85 22.40ms 446tok/s (total 60,590tok)\n",
      "step 6080: loss 11.27 20.97ms 477tok/s (total 60,790tok)\n",
      "step 6100: loss 8.12 20.72ms 483tok/s (total 60,990tok)\n",
      "Oh my lord\n",
      "IUS:,:\n",
      ", I I\n",
      "step 6120: loss 5.78 25.96ms 385tok/s (total 61,190tok)\n",
      "step 6140: loss 6.90 22.72ms 440tok/s (total 61,390tok)\n",
      "step 6160: loss 2.62 20.91ms 478tok/s (total 61,590tok)\n",
      "step 6180: loss 5.93 21.15ms 473tok/s (total 61,790tok)\n",
      "step 6200: loss 4.40 23.27ms 430tok/s (total 61,990tok)\n",
      "Oh my lord\n",
      ": him him\n",
      " him him him\n",
      " him\n",
      "step 6220: loss 8.70 21.33ms 469tok/s (total 62,190tok)\n",
      "step 6240: loss 7.12 22.16ms 451tok/s (total 62,390tok)\n",
      "step 6260: loss 6.50 22.31ms 448tok/s (total 62,590tok)\n",
      "step 6280: loss 10.28 21.52ms 465tok/s (total 62,790tok)\n",
      "step 6300: loss 7.67 24.62ms 406tok/s (total 62,990tok)\n",
      "Oh my lord,\n",
      "'s's, I's,\n",
      "'s\n",
      "step 6320: loss 7.94 22.69ms 441tok/s (total 63,190tok)\n",
      "step 6340: loss 5.39 24.72ms 405tok/s (total 63,390tok)\n",
      "step 6360: loss 6.83 22.96ms 436tok/s (total 63,590tok)\n",
      "step 6380: loss 4.77 23.51ms 425tok/s (total 63,790tok)\n",
      "step 6400: loss 0.78 21.51ms 465tok/s (total 63,990tok)\n",
      "Oh my lord\n",
      ": the\n",
      " the of\n",
      "I the of\n",
      "step 6420: loss 5.40 21.26ms 470tok/s (total 64,190tok)\n",
      "step 6440: loss 8.66 21.46ms 466tok/s (total 64,390tok)\n",
      "step 6460: loss 5.94 21.08ms 474tok/s (total 64,590tok)\n",
      "step 6480: loss 0.32 21.41ms 467tok/s (total 64,790tok)\n",
      "step 6500: loss 7.36 21.44ms 466tok/s (total 64,990tok)\n",
      "Oh my lord\n",
      "US:\n",
      " the, the.\n",
      "\n",
      "\n",
      "step 6520: loss 3.21 21.46ms 466tok/s (total 65,190tok)\n",
      "step 6540: loss 2.17 21.66ms 462tok/s (total 65,390tok)\n",
      "step 6560: loss 1.35 21.65ms 462tok/s (total 65,590tok)\n",
      "step 6580: loss 12.98 22.74ms 440tok/s (total 65,790tok)\n",
      "step 6600: loss 2.52 23.11ms 433tok/s (total 65,990tok)\n",
      "Oh my lord\n",
      ":.\n",
      "\n",
      "\n",
      "\n",
      "\n",
      "\n",
      "\n",
      "\n",
      "step 6620: loss 8.50 22.29ms 449tok/s (total 66,190tok)\n",
      "step 6640: loss 4.15 22.30ms 448tok/s (total 66,390tok)\n",
      "step 6660: loss 1.51 22.28ms 449tok/s (total 66,590tok)\n",
      "step 6680: loss 0.97 22.19ms 451tok/s (total 66,790tok)\n",
      "step 6700: loss 12.20 22.52ms 444tok/s (total 66,990tok)\n",
      "Oh my lord:\n",
      " you in.\n",
      "\n",
      "\n",
      "\n",
      "\n",
      "\n",
      "step 6720: loss 5.91 22.53ms 444tok/s (total 67,190tok)\n",
      "step 6740: loss 1.90 22.46ms 445tok/s (total 67,390tok)\n",
      "step 6760: loss 10.96 22.80ms 439tok/s (total 67,590tok)\n",
      "step 6780: loss 1.77 22.44ms 446tok/s (total 67,790tok)\n",
      "step 6800: loss 4.74 20.79ms 481tok/s (total 67,990tok)\n",
      "Oh my lord:\n",
      ", you of?\n",
      "\n",
      "\n",
      "\n",
      "\n",
      "step 6820: loss 12.55 20.81ms 481tok/s (total 68,190tok)\n",
      "step 6840: loss 8.89 20.79ms 481tok/s (total 68,390tok)\n",
      "step 6860: loss 7.83 20.74ms 482tok/s (total 68,590tok)\n",
      "step 6880: loss 4.11 20.74ms 482tok/s (total 68,790tok)\n",
      "step 6900: loss 12.00 20.75ms 482tok/s (total 68,990tok)\n",
      "Oh my lord:\n",
      " your your your\n",
      ", your your your\n",
      "step 6920: loss 1.70 20.71ms 483tok/s (total 69,190tok)\n",
      "step 6940: loss 3.98 20.78ms 481tok/s (total 69,390tok)\n",
      "step 6960: loss 3.56 20.78ms 481tok/s (total 69,590tok)\n",
      "step 6980: loss 10.31 20.76ms 482tok/s (total 69,790tok)\n",
      "step 7000: loss 11.68 20.87ms 479tok/s (total 69,990tok)\n",
      "Oh my lord,\n",
      ",,,,,,,,\n",
      "step 7020: loss 5.42 21.15ms 473tok/s (total 70,190tok)\n",
      "step 7040: loss 9.04 20.71ms 483tok/s (total 70,390tok)\n",
      "step 7060: loss 12.55 20.98ms 477tok/s (total 70,590tok)\n",
      "step 7080: loss 5.71 20.77ms 481tok/s (total 70,790tok)\n",
      "step 7100: loss 12.59 20.91ms 478tok/s (total 70,990tok)\n",
      "Oh my lord\n",
      "US: you\n",
      " a a of a of\n",
      "step 7120: loss 11.89 20.80ms 481tok/s (total 71,190tok)\n",
      "step 7140: loss 9.58 20.76ms 482tok/s (total 71,390tok)\n",
      "step 7160: loss 5.44 20.77ms 482tok/s (total 71,590tok)\n",
      "step 7180: loss 11.79 20.92ms 478tok/s (total 71,790tok)\n",
      "step 7200: loss 12.12 20.98ms 477tok/s (total 71,990tok)\n",
      "Oh my lord the,\n",
      " the I the I in the,\n",
      "step 7220: loss 3.81 20.84ms 480tok/s (total 72,190tok)\n",
      "step 7240: loss 4.64 20.80ms 481tok/s (total 72,390tok)\n",
      "step 7260: loss 7.60 20.72ms 483tok/s (total 72,590tok)\n",
      "step 7280: loss 5.51 20.64ms 485tok/s (total 72,790tok)\n",
      "step 7300: loss 8.17 20.65ms 484tok/s (total 72,990tok)\n",
      "Oh my lord,\n",
      " I well\n",
      "US: I\n",
      " well\n",
      "step 7320: loss 7.81 20.65ms 484tok/s (total 73,190tok)\n",
      "step 7340: loss 6.23 20.73ms 482tok/s (total 73,390tok)\n",
      "step 7360: loss 11.61 20.64ms 484tok/s (total 73,590tok)\n",
      "step 7380: loss 10.84 20.59ms 486tok/s (total 73,790tok)\n",
      "step 7400: loss 4.40 20.77ms 481tok/s (total 73,990tok)\n",
      "Oh my lord,\n",
      ".ENIUS:\n",
      " a a\n",
      "step 7420: loss 11.48 20.64ms 484tok/s (total 74,190tok)\n",
      "step 7440: loss 12.65 20.57ms 486tok/s (total 74,390tok)\n",
      "step 7460: loss 3.38 20.68ms 484tok/s (total 74,590tok)\n",
      "step 7480: loss 11.12 20.62ms 485tok/s (total 74,790tok)\n",
      "step 7500: loss 13.63 20.71ms 483tok/s (total 74,990tok)\n",
      "Oh my lord,\n",
      " the,.,.\n",
      "\n",
      "\n",
      "\n",
      "step 7520: loss 9.04 20.62ms 485tok/s (total 75,190tok)\n",
      "step 7540: loss 7.33 20.64ms 485tok/s (total 75,390tok)\n",
      "step 7560: loss 6.22 20.65ms 484tok/s (total 75,590tok)\n",
      "step 7580: loss 12.29 20.90ms 479tok/s (total 75,790tok)\n",
      "step 7600: loss 11.73 21.12ms 473tok/s (total 75,990tok)\n",
      "Oh my lord,\n",
      " to be be be be be be.\n",
      "step 7620: loss 6.80 21.27ms 470tok/s (total 76,190tok)\n",
      "step 7640: loss 8.34 20.88ms 479tok/s (total 76,390tok)\n",
      "step 7660: loss 5.64 21.47ms 466tok/s (total 76,590tok)\n",
      "step 7680: loss 3.07 20.86ms 479tok/s (total 76,790tok)\n",
      "step 7700: loss 1.41 20.97ms 477tok/s (total 76,990tok)\n",
      "Oh my lord.\n",
      "IUS:\n",
      ", you of of\n",
      "step 7720: loss 4.26 21.07ms 475tok/s (total 77,190tok)\n",
      "step 7740: loss 7.83 23.06ms 434tok/s (total 77,390tok)\n",
      "step 7760: loss 8.57 20.84ms 480tok/s (total 77,590tok)\n",
      "step 7780: loss 3.89 21.31ms 469tok/s (total 77,790tok)\n",
      "step 7800: loss 5.90 20.94ms 478tok/s (total 77,990tok)\n",
      "Oh my lord.\n",
      "IUS:\n",
      "\n",
      "\n",
      "\n",
      "\n",
      "\n",
      "step 7820: loss 9.75 21.32ms 469tok/s (total 78,190tok)\n",
      "step 7840: loss 3.84 20.88ms 479tok/s (total 78,390tok)\n",
      "step 7860: loss 4.78 20.84ms 480tok/s (total 78,590tok)\n",
      "step 7880: loss 3.23 20.80ms 481tok/s (total 78,790tok)\n",
      "step 7900: loss 6.38 21.27ms 470tok/s (total 78,990tok)\n",
      "Oh my lord,.,.\n",
      "IUS:\n",
      "\n",
      "\n",
      "step 7920: loss 0.68 20.90ms 478tok/s (total 79,190tok)\n",
      "step 7940: loss 2.78 20.71ms 483tok/s (total 79,390tok)\n",
      "step 7960: loss 11.39 20.73ms 482tok/s (total 79,590tok)\n",
      "step 7980: loss 3.55 20.71ms 483tok/s (total 79,790tok)\n",
      "step 8000: loss 8.23 20.89ms 479tok/s (total 79,990tok)\n",
      "Oh my lord,,,,,,,,,,\n",
      "step 8020: loss 11.12 20.70ms 483tok/s (total 80,190tok)\n",
      "step 8040: loss 2.44 20.65ms 484tok/s (total 80,390tok)\n",
      "step 8060: loss 0.25 20.61ms 485tok/s (total 80,590tok)\n",
      "step 8080: loss 14.09 20.59ms 486tok/s (total 80,790tok)\n",
      "step 8100: loss 2.08 20.81ms 481tok/s (total 80,990tok)\n",
      "Oh my lord.\n",
      "IA:\n",
      ", I a the\n",
      "\n",
      "step 8120: loss 3.30 20.60ms 485tok/s (total 81,190tok)\n",
      "step 8140: loss 3.63 20.62ms 485tok/s (total 81,390tok)\n",
      "step 8160: loss 7.38 20.77ms 481tok/s (total 81,590tok)\n",
      "step 8180: loss 7.99 20.61ms 485tok/s (total 81,790tok)\n",
      "step 8200: loss 7.57 20.63ms 485tok/s (total 81,990tok)\n",
      "Oh my lord.\n",
      "IUS:\n",
      "\n",
      "\n",
      "\n",
      "\n",
      "\n",
      "step 8220: loss 9.25 20.63ms 485tok/s (total 82,190tok)\n",
      "step 8240: loss 3.37 20.70ms 483tok/s (total 82,390tok)\n",
      "step 8260: loss 9.95 20.62ms 485tok/s (total 82,590tok)\n",
      "step 8280: loss 2.49 20.66ms 484tok/s (total 82,790tok)\n",
      "step 8300: loss 2.49 20.65ms 484tok/s (total 82,990tok)\n",
      "Oh my lord:\n",
      ", the he\n",
      " the in the\n",
      "\n",
      "step 8320: loss 0.02 20.63ms 485tok/s (total 83,190tok)\n",
      "step 8340: loss 1.51 21.65ms 462tok/s (total 83,390tok)\n",
      "step 8360: loss 1.88 21.02ms 476tok/s (total 83,590tok)\n",
      "step 8380: loss 6.91 21.97ms 455tok/s (total 83,790tok)\n",
      "step 8400: loss 4.65 20.76ms 482tok/s (total 83,990tok)\n",
      "Oh my lord.\n",
      "ENIUS:!\n",
      "!\n",
      "\n",
      "step 8420: loss 3.52 20.70ms 483tok/s (total 84,190tok)\n",
      "step 8440: loss 6.80 21.28ms 470tok/s (total 84,390tok)\n",
      "step 8460: loss 11.87 20.70ms 483tok/s (total 84,590tok)\n",
      "step 8480: loss 0.78 20.76ms 482tok/s (total 84,790tok)\n",
      "step 8500: loss 6.15 20.65ms 484tok/s (total 84,990tok)\n",
      "Oh my lord.\n",
      "IUS:\n",
      " the, the'\n",
      "step 8520: loss 9.59 20.70ms 483tok/s (total 85,190tok)\n",
      "step 8540: loss 0.22 20.69ms 483tok/s (total 85,390tok)\n",
      "step 8560: loss 9.52 20.68ms 484tok/s (total 85,590tok)\n",
      "step 8580: loss 5.90 21.34ms 469tok/s (total 85,790tok)\n",
      "step 8600: loss 4.98 20.86ms 479tok/s (total 85,990tok)\n",
      "Oh my lord:,.,.\n",
      "\n",
      "\n",
      "\n",
      "\n",
      "\n",
      "step 8620: loss 3.02 21.20ms 472tok/s (total 86,190tok)\n",
      "step 8640: loss 7.62 21.44ms 467tok/s (total 86,390tok)\n",
      "step 8660: loss 3.05 21.56ms 464tok/s (total 86,590tok)\n",
      "step 8680: loss 12.79 21.64ms 462tok/s (total 86,790tok)\n",
      "step 8700: loss 3.89 21.69ms 461tok/s (total 86,990tok)\n",
      "Oh my lord:,,\n",
      ",,,,,,\n",
      "step 8720: loss 5.53 21.23ms 471tok/s (total 87,190tok)\n",
      "step 8740: loss 3.70 21.04ms 475tok/s (total 87,390tok)\n",
      "step 8760: loss 2.29 20.79ms 481tok/s (total 87,590tok)\n",
      "step 8780: loss 0.12 20.95ms 477tok/s (total 87,790tok)\n",
      "step 8800: loss 6.51 21.02ms 476tok/s (total 87,990tok)\n",
      "Oh my lord,\n",
      ",,,,,,,,\n",
      "step 8820: loss 13.48 21.17ms 472tok/s (total 88,190tok)\n",
      "step 8840: loss 4.88 20.94ms 478tok/s (total 88,390tok)\n",
      "step 8860: loss 7.29 20.97ms 477tok/s (total 88,590tok)\n",
      "step 8880: loss 1.81 21.41ms 467tok/s (total 88,790tok)\n",
      "step 8900: loss 1.69 21.40ms 467tok/s (total 88,990tok)\n",
      "Oh my lord,\n",
      " the,\n",
      "ioliolioliol\n",
      "\n",
      "step 8920: loss 0.97 20.97ms 477tok/s (total 89,190tok)\n",
      "step 8940: loss 2.79 21.05ms 475tok/s (total 89,390tok)\n",
      "step 8960: loss 7.91 21.01ms 476tok/s (total 89,590tok)\n",
      "step 8980: loss 5.44 21.05ms 475tok/s (total 89,790tok)\n",
      "step 9000: loss 11.04 20.63ms 485tok/s (total 89,990tok)\n",
      "Oh my lord.\n",
      "IUS: I, I.\n",
      "\n",
      "step 9020: loss 9.83 20.61ms 485tok/s (total 90,190tok)\n",
      "step 9040: loss 7.29 20.69ms 483tok/s (total 90,390tok)\n",
      "step 9060: loss 10.79 20.77ms 482tok/s (total 90,590tok)\n",
      "step 9080: loss 10.25 21.62ms 462tok/s (total 90,790tok)\n",
      "step 9100: loss 5.64 21.30ms 470tok/s (total 90,990tok)\n",
      "Oh my lord.\n",
      "IUS:\n",
      "\n",
      "\n",
      "\n",
      "\n",
      "\n",
      "step 9120: loss 9.56 21.46ms 466tok/s (total 91,190tok)\n",
      "step 9140: loss 5.15 20.80ms 481tok/s (total 91,390tok)\n",
      "step 9160: loss 2.21 7.87ms 1270tok/s (total 91,590tok)\n",
      "step 9180: loss 5.73 20.75ms 482tok/s (total 91,790tok)\n",
      "step 9200: loss 6.75 20.87ms 479tok/s (total 91,990tok)\n",
      "Oh my lord,\n",
      "CORIUS:\n",
      ",\n",
      ",\n",
      "step 9220: loss 0.82 10.31ms 970tok/s (total 92,190tok)\n",
      "step 9240: loss 5.67 22.27ms 449tok/s (total 92,390tok)\n",
      "step 9260: loss 11.00 20.83ms 480tok/s (total 92,590tok)\n",
      "step 9280: loss 9.09 20.80ms 481tok/s (total 92,790tok)\n",
      "step 9300: loss 10.36 21.08ms 474tok/s (total 92,990tok)\n",
      "Oh my lord:\n",
      ", the and\n",
      " the of of\n",
      "\n",
      "step 9320: loss 6.04 19.96ms 501tok/s (total 93,190tok)\n",
      "step 9340: loss 6.92 21.11ms 474tok/s (total 93,390tok)\n",
      "step 9360: loss 11.22 21.96ms 455tok/s (total 93,590tok)\n",
      "step 9380: loss 4.25 21.29ms 470tok/s (total 93,790tok)\n",
      "step 9400: loss 11.03 20.73ms 482tok/s (total 93,990tok)\n",
      "Oh my lord:,,\n",
      " the, and and\n",
      " the\n",
      "step 9420: loss 8.61 20.84ms 480tok/s (total 94,190tok)\n",
      "step 9440: loss 1.30 14.09ms 710tok/s (total 94,390tok)\n",
      "step 9460: loss 1.55 10.66ms 938tok/s (total 94,590tok)\n",
      "step 9480: loss 1.47 10.21ms 980tok/s (total 94,790tok)\n",
      "step 9500: loss 6.94 9.77ms 1023tok/s (total 94,990tok)\n",
      "Oh my lord,\n",
      ".\n",
      "IUS:\n",
      "\n",
      "\n",
      "\n",
      "step 9520: loss 0.31 10.41ms 961tok/s (total 95,190tok)\n",
      "step 9540: loss 1.27 11.12ms 899tok/s (total 95,390tok)\n",
      "step 9560: loss 6.67 4.10ms 2441tok/s (total 95,590tok)\n",
      "step 9580: loss 7.85 9.59ms 1043tok/s (total 95,790tok)\n",
      "step 9600: loss 5.41 10.73ms 932tok/s (total 95,990tok)\n",
      "Oh my lord,\n",
      " the.\n",
      "IUS:\n",
      "\n",
      "\n",
      "step 9620: loss 3.78 11.51ms 869tok/s (total 96,190tok)\n",
      "step 9640: loss 4.40 10.79ms 927tok/s (total 96,390tok)\n",
      "step 9660: loss 0.08 7.43ms 1345tok/s (total 96,590tok)\n",
      "step 9680: loss 9.53 9.66ms 1035tok/s (total 96,790tok)\n",
      "step 9700: loss 12.47 12.62ms 793tok/s (total 96,990tok)\n",
      "Oh my lord,\n",
      " the.\n",
      "US:\n",
      " he he\n",
      "step 9720: loss 2.63 10.89ms 919tok/s (total 97,190tok)\n",
      "step 9740: loss 5.74 12.39ms 807tok/s (total 97,390tok)\n",
      "step 9760: loss 0.04 11.10ms 901tok/s (total 97,590tok)\n",
      "step 9780: loss 0.52 14.08ms 710tok/s (total 97,790tok)\n",
      "step 9800: loss 6.74 10.42ms 959tok/s (total 97,990tok)\n",
      "Oh my lord.\n",
      "\n",
      "\n",
      "\n",
      "\n",
      "\n",
      "\n",
      "\n",
      "\n",
      "\n",
      "step 9820: loss 6.91 11.83ms 846tok/s (total 98,190tok)\n",
      "step 9840: loss 11.75 5.76ms 1737tok/s (total 98,390tok)\n",
      "step 9860: loss 3.61 12.42ms 805tok/s (total 98,590tok)\n",
      "step 9880: loss 5.69 10.43ms 959tok/s (total 98,790tok)\n",
      "step 9900: loss 2.51 17.87ms 560tok/s (total 98,990tok)\n",
      "Oh my lord,\n",
      " the, and\n",
      " and\n",
      ", and\n",
      "step 9920: loss 5.27 13.43ms 745tok/s (total 99,190tok)\n",
      "step 9940: loss 5.51 12.10ms 827tok/s (total 99,390tok)\n",
      "step 9960: loss 5.27 16.22ms 616tok/s (total 99,590tok)\n",
      "step 9980: loss 5.03 11.65ms 858tok/s (total 99,790tok)\n",
      "step 10000: loss 5.74 11.98ms 835tok/s (total 99,990tok)\n",
      "Oh my lord,\n",
      " the and\n",
      " the.\n",
      "US:\n",
      "step 10020: loss 10.53 13.80ms 725tok/s (total 100,190tok)\n",
      "step 10040: loss 7.72 9.01ms 1110tok/s (total 100,390tok)\n",
      "step 10060: loss 11.80 10.65ms 939tok/s (total 100,590tok)\n",
      "step 10080: loss 12.31 20.28ms 493tok/s (total 100,790tok)\n",
      "step 10100: loss 7.86 21.28ms 470tok/s (total 100,990tok)\n",
      "Oh my lord, and\n",
      " and and and\n",
      " the and:\n",
      "step 10120: loss 6.43 21.01ms 476tok/s (total 101,190tok)\n",
      "step 10140: loss 3.54 20.87ms 479tok/s (total 101,390tok)\n",
      "step 10160: loss 3.63 20.92ms 478tok/s (total 101,590tok)\n",
      "step 10180: loss 2.23 20.81ms 481tok/s (total 101,790tok)\n",
      "step 10200: loss 2.77 21.19ms 472tok/s (total 101,990tok)\n",
      "Oh my lord,.,.\n",
      "\n",
      "\n",
      "\n",
      "\n",
      "\n",
      "\n",
      "step 10220: loss 1.41 20.83ms 480tok/s (total 102,190tok)\n",
      "step 10240: loss 8.11 20.88ms 479tok/s (total 102,390tok)\n",
      "step 10260: loss 10.43 21.75ms 460tok/s (total 102,590tok)\n",
      "step 10280: loss 2.12 11.86ms 843tok/s (total 102,790tok)\n",
      "step 10300: loss 6.91 21.59ms 463tok/s (total 102,990tok)\n",
      "Oh my lord,\n",
      ": they they, they they they,\n",
      "step 10320: loss 11.89 20.82ms 480tok/s (total 103,190tok)\n",
      "step 10340: loss 7.95 19.25ms 520tok/s (total 103,390tok)\n",
      "step 10360: loss 7.80 21.55ms 464tok/s (total 103,590tok)\n",
      "step 10380: loss 13.87 21.03ms 475tok/s (total 103,790tok)\n",
      "step 10400: loss 12.70 16.84ms 594tok/s (total 103,990tok)\n",
      "Oh my lord,\n",
      " and their their their\n",
      " their and their\n",
      "step 10420: loss 6.01 19.90ms 502tok/s (total 104,190tok)\n",
      "step 10440: loss 1.27 21.26ms 470tok/s (total 104,390tok)\n",
      "step 10460: loss 4.76 20.76ms 482tok/s (total 104,590tok)\n",
      "step 10480: loss 6.27 21.37ms 468tok/s (total 104,790tok)\n",
      "step 10500: loss 4.01 21.07ms 475tok/s (total 104,990tok)\n",
      "Oh my lord,\n",
      " and to the and their their\n",
      " and\n",
      "step 10520: loss 1.75 12.21ms 819tok/s (total 105,190tok)\n",
      "step 10540: loss 3.63 21.45ms 466tok/s (total 105,390tok)\n",
      "step 10560: loss 3.53 14.18ms 705tok/s (total 105,590tok)\n",
      "step 10580: loss 8.71 21.11ms 474tok/s (total 105,790tok)\n",
      "step 10600: loss 9.52 20.60ms 486tok/s (total 105,990tok)\n",
      "Oh my lord,\n",
      " the of and of and their\n",
      " of\n",
      "step 10620: loss 8.58 20.75ms 482tok/s (total 106,190tok)\n",
      "step 10640: loss 11.17 20.02ms 500tok/s (total 106,390tok)\n",
      "step 10660: loss 9.00 18.15ms 551tok/s (total 106,590tok)\n",
      "step 10680: loss 5.32 21.27ms 470tok/s (total 106,790tok)\n",
      "step 10700: loss 6.76 21.60ms 463tok/s (total 106,990tok)\n",
      "Oh my lord,\n",
      " and, and\n",
      " to, and,\n",
      "step 10720: loss 2.91 21.61ms 463tok/s (total 107,190tok)\n",
      "step 10740: loss 1.35 22.11ms 452tok/s (total 107,390tok)\n",
      "step 10760: loss 4.21 21.83ms 458tok/s (total 107,590tok)\n",
      "step 10780: loss 5.65 21.71ms 461tok/s (total 107,790tok)\n",
      "step 10800: loss 8.75 20.66ms 484tok/s (total 107,990tok)\n",
      "Oh my lord,\n",
      " and to and, and\n",
      " for for\n",
      "step 10820: loss 4.60 21.09ms 474tok/s (total 108,190tok)\n",
      "step 10840: loss 1.97 21.12ms 473tok/s (total 108,390tok)\n",
      "step 10860: loss 0.71 21.01ms 476tok/s (total 108,590tok)\n",
      "step 10880: loss 8.38 20.99ms 476tok/s (total 108,790tok)\n",
      "step 10900: loss 0.86 20.87ms 479tok/s (total 108,990tok)\n",
      "Oh my lord,\n",
      " the and.\n",
      "\n",
      "\n",
      "\n",
      "\n",
      "\n",
      "step 10920: loss 4.14 20.77ms 481tok/s (total 109,190tok)\n",
      "step 10940: loss 5.62 20.78ms 481tok/s (total 109,390tok)\n",
      "step 10960: loss 5.48 20.79ms 481tok/s (total 109,590tok)\n",
      "step 10980: loss 11.80 20.97ms 477tok/s (total 109,790tok)\n",
      "step 11000: loss 2.15 21.87ms 457tok/s (total 109,990tok)\n",
      "Oh my lord.\n",
      "\n",
      "\n",
      "\n",
      "\n",
      "\n",
      "\n",
      ",\n",
      "\n",
      "step 11020: loss 7.48 21.19ms 472tok/s (total 110,190tok)\n",
      "step 11040: loss 5.55 21.16ms 473tok/s (total 110,390tok)\n",
      "step 11060: loss 3.03 21.21ms 472tok/s (total 110,590tok)\n",
      "step 11080: loss 1.71 21.17ms 472tok/s (total 110,790tok)\n",
      "step 11100: loss 3.31 21.21ms 471tok/s (total 110,990tok)\n",
      "Oh my lord,\n",
      ".\n",
      "IUS:\n",
      ",\n",
      "\n",
      "step 11120: loss 5.50 21.09ms 474tok/s (total 111,190tok)\n",
      "step 11140: loss 7.63 21.05ms 475tok/s (total 111,390tok)\n",
      "step 11160: loss 5.02 20.97ms 477tok/s (total 111,590tok)\n",
      "step 11180: loss 6.05 21.04ms 475tok/s (total 111,790tok)\n",
      "step 11200: loss 5.02 21.21ms 472tok/s (total 111,990tok)\n",
      "Oh my lord.\n",
      "\n",
      "\n",
      "\n",
      "\n",
      "\n",
      "\n",
      "\n",
      "\n",
      "\n",
      "step 11220: loss 6.12 21.23ms 471tok/s (total 112,190tok)\n",
      "step 11240: loss 4.52 21.07ms 475tok/s (total 112,390tok)\n",
      "step 11260: loss 2.57 21.18ms 472tok/s (total 112,590tok)\n",
      "step 11280: loss 4.35 21.14ms 473tok/s (total 112,790tok)\n",
      "step 11300: loss 10.25 21.07ms 475tok/s (total 112,990tok)\n",
      "Oh my lord the,\n",
      " the of.\n",
      "I the\n",
      "\n",
      "step 11320: loss 5.04 21.05ms 475tok/s (total 113,190tok)\n",
      "step 11340: loss 8.92 21.13ms 473tok/s (total 113,390tok)\n",
      "step 11360: loss 6.47 21.15ms 473tok/s (total 113,590tok)\n",
      "step 11380: loss 8.27 21.12ms 473tok/s (total 113,790tok)\n",
      "step 11400: loss 9.39 21.14ms 473tok/s (total 113,990tok)\n",
      "Oh my lord,\n",
      " the of and the of\n",
      " of:\n",
      "step 11420: loss 10.59 21.17ms 472tok/s (total 114,190tok)\n",
      "step 11440: loss 3.84 21.55ms 464tok/s (total 114,390tok)\n",
      "step 11460: loss 9.62 21.02ms 476tok/s (total 114,590tok)\n",
      "step 11480: loss 6.77 20.91ms 478tok/s (total 114,790tok)\n",
      "step 11500: loss 4.86 21.13ms 473tok/s (total 114,990tok)\n",
      "Oh my lord,\n",
      " the of in the of\n",
      " of the\n",
      "step 11520: loss 2.38 21.11ms 474tok/s (total 115,190tok)\n",
      "step 11540: loss 11.73 21.32ms 469tok/s (total 115,390tok)\n",
      "step 11560: loss 7.23 21.20ms 472tok/s (total 115,590tok)\n",
      "step 11580: loss 7.36 21.09ms 474tok/s (total 115,790tok)\n",
      "step 11600: loss 10.28 21.13ms 473tok/s (total 115,990tok)\n",
      "Oh my lord,\n",
      " the,\n",
      ":,,,\n",
      "\n",
      "step 11620: loss 7.01 21.02ms 476tok/s (total 116,190tok)\n",
      "step 11640: loss 9.54 21.00ms 476tok/s (total 116,390tok)\n",
      "step 11660: loss 3.23 21.04ms 475tok/s (total 116,590tok)\n",
      "step 11680: loss 11.21 21.16ms 473tok/s (total 116,790tok)\n",
      "step 11700: loss 7.59 21.16ms 473tok/s (total 116,990tok)\n",
      "Oh my lord,\n",
      " the ofAnd the; of he\n",
      "\n",
      "step 11720: loss 11.55 21.05ms 475tok/s (total 117,190tok)\n",
      "step 11740: loss 3.66 21.00ms 476tok/s (total 117,390tok)\n",
      "step 11760: loss 7.03 20.98ms 477tok/s (total 117,590tok)\n",
      "step 11780: loss 5.91 21.02ms 476tok/s (total 117,790tok)\n",
      "step 11800: loss 8.88 20.99ms 476tok/s (total 117,990tok)\n",
      "Oh my lord\n",
      " the,\n",
      " with\n",
      " with with\n",
      " with\n",
      "step 11820: loss 9.49 21.11ms 474tok/s (total 118,190tok)\n",
      "step 11840: loss 2.62 21.05ms 475tok/s (total 118,390tok)\n",
      "step 11860: loss 7.74 21.63ms 462tok/s (total 118,590tok)\n",
      "step 11880: loss 4.60 21.00ms 476tok/s (total 118,790tok)\n",
      "step 11900: loss 5.25 21.53ms 464tok/s (total 118,990tok)\n",
      "Oh my lord.\n",
      "\n",
      "\n",
      "\n",
      "\n",
      "\n",
      "\n",
      "\n",
      "\n",
      "\n",
      "step 11920: loss 1.02 5.78ms 1730tok/s (total 119,190tok)\n",
      "step 11940: loss 1.89 132.27ms 76tok/s (total 119,390tok)\n",
      "step 11960: loss 2.06 9.09ms 1101tok/s (total 119,590tok)\n",
      "step 11980: loss 13.11 5.89ms 1697tok/s (total 119,790tok)\n",
      "step 12000: loss 0.26 5.12ms 1954tok/s (total 119,990tok)\n",
      "Oh my lord,\n",
      " the and, and\n",
      ", and,\n",
      "step 12020: loss 6.51 5.61ms 1782tok/s (total 120,190tok)\n",
      "step 12040: loss 12.25 20.77ms 481tok/s (total 120,390tok)\n",
      "step 12060: loss 0.53 20.84ms 480tok/s (total 120,590tok)\n",
      "step 12080: loss 1.48 10.73ms 932tok/s (total 120,790tok)\n",
      "step 12100: loss 1.53 6.77ms 1478tok/s (total 120,990tok)\n",
      "Oh my lord,\n",
      " the,\n",
      " to you to you,\n",
      "step 12120: loss 0.40 6.27ms 1595tok/s (total 121,190tok)\n",
      "step 12140: loss 4.93 17.01ms 588tok/s (total 121,390tok)\n",
      "step 12160: loss 1.60 3.99ms 2506tok/s (total 121,590tok)\n",
      "step 12180: loss 2.23 17.49ms 572tok/s (total 121,790tok)\n",
      "step 12200: loss 7.05 16.05ms 623tok/s (total 121,990tok)\n",
      "Oh my lord\n",
      " the, and\n",
      " I the\n",
      " them.\n",
      "step 12220: loss 3.36 18.07ms 553tok/s (total 122,190tok)\n",
      "step 12240: loss 1.52 21.55ms 464tok/s (total 122,390tok)\n",
      "step 12260: loss 7.12 16.96ms 590tok/s (total 122,590tok)\n",
      "step 12280: loss 5.96 21.58ms 463tok/s (total 122,790tok)\n",
      "step 12300: loss 6.56 18.87ms 530tok/s (total 122,990tok)\n",
      "Oh my lord,\n",
      " the and.\n",
      "SINIUS\n",
      "step 12320: loss 7.30 13.06ms 766tok/s (total 123,190tok)\n",
      "step 12340: loss 7.06 11.97ms 835tok/s (total 123,390tok)\n",
      "step 12360: loss 0.61 21.64ms 462tok/s (total 123,590tok)\n",
      "step 12380: loss 1.12 19.88ms 503tok/s (total 123,790tok)\n",
      "step 12400: loss 7.05 21.70ms 461tok/s (total 123,990tok)\n",
      "Oh my lord,\n",
      ": we we we we we\n",
      " have\n",
      "step 12420: loss 3.57 21.28ms 470tok/s (total 124,190tok)\n",
      "step 12440: loss 7.91 20.63ms 485tok/s (total 124,390tok)\n",
      "step 12460: loss 11.10 14.42ms 693tok/s (total 124,590tok)\n",
      "step 12480: loss 6.43 13.51ms 740tok/s (total 124,790tok)\n",
      "step 12500: loss 2.89 21.50ms 465tok/s (total 124,990tok)\n",
      "Oh my lord,\n",
      " the to of the, to and\n",
      "\n",
      "step 12520: loss 4.10 21.74ms 460tok/s (total 125,190tok)\n",
      "step 12540: loss 11.67 16.60ms 602tok/s (total 125,390tok)\n",
      "step 12560: loss 13.58 19.26ms 519tok/s (total 125,590tok)\n",
      "step 12580: loss 12.02 18.73ms 534tok/s (total 125,790tok)\n",
      "step 12600: loss 12.49 18.96ms 528tok/s (total 125,990tok)\n",
      "Oh my lord,\n",
      " the of: our, and\n",
      " our\n",
      "step 12620: loss 10.87 14.34ms 697tok/s (total 126,190tok)\n",
      "step 12640: loss 12.05 16.79ms 596tok/s (total 126,390tok)\n",
      "step 12660: loss 12.75 21.44ms 466tok/s (total 126,590tok)\n",
      "step 12680: loss 6.43 20.39ms 490tok/s (total 126,790tok)\n",
      "step 12700: loss 5.90 18.49ms 541tok/s (total 126,990tok)\n",
      "Oh my lord\n",
      " the, of so so so, so so\n",
      "step 12720: loss 9.00 20.18ms 496tok/s (total 127,190tok)\n",
      "step 12740: loss 11.68 21.49ms 465tok/s (total 127,390tok)\n",
      "step 12760: loss 11.43 15.54ms 644tok/s (total 127,590tok)\n",
      "step 12780: loss 0.79 16.39ms 610tok/s (total 127,790tok)\n",
      "step 12800: loss 1.62 21.03ms 476tok/s (total 127,990tok)\n",
      "Oh my lord,\n",
      ": you a a.\n",
      "\n",
      "\n",
      "\n",
      "step 12820: loss 11.35 21.57ms 464tok/s (total 128,190tok)\n",
      "step 12840: loss 4.82 19.32ms 518tok/s (total 128,390tok)\n",
      "step 12860: loss 11.76 21.53ms 465tok/s (total 128,590tok)\n",
      "step 12880: loss 5.91 19.59ms 510tok/s (total 128,790tok)\n",
      "step 12900: loss 1.51 12.39ms 807tok/s (total 128,990tok)\n",
      "Oh my lord,\n",
      " to the.\n",
      " Citizen: by by\n",
      "step 12920: loss 5.95 14.97ms 668tok/s (total 129,190tok)\n",
      "step 12940: loss 2.22 8.91ms 1123tok/s (total 129,390tok)\n",
      "step 12960: loss 1.10 19.51ms 513tok/s (total 129,590tok)\n",
      "step 12980: loss 7.00 21.62ms 462tok/s (total 129,790tok)\n",
      "step 13000: loss 6.69 20.16ms 496tok/s (total 129,990tok)\n",
      "Oh my lord\n",
      ", I not.\n",
      "\n",
      "\n",
      "\n",
      "\n",
      "\n",
      "step 13020: loss 7.91 21.43ms 467tok/s (total 130,190tok)\n",
      "step 13040: loss 5.20 11.60ms 862tok/s (total 130,390tok)\n",
      "step 13060: loss 7.45 21.35ms 468tok/s (total 130,590tok)\n",
      "step 13080: loss 5.59 21.36ms 468tok/s (total 130,790tok)\n",
      "step 13100: loss 2.37 18.11ms 552tok/s (total 130,990tok)\n",
      "Oh my lord\n",
      ", the of\n",
      ": you you\n",
      "I\n",
      "step 13120: loss 7.10 21.29ms 470tok/s (total 131,190tok)\n",
      "step 13140: loss 1.54 21.48ms 466tok/s (total 131,390tok)\n",
      "step 13160: loss 5.07 21.03ms 476tok/s (total 131,590tok)\n",
      "step 13180: loss 8.80 12.36ms 809tok/s (total 131,790tok)\n",
      "step 13200: loss 0.07 21.43ms 467tok/s (total 131,990tok)\n",
      "Oh my lord\n",
      ",.,.\n",
      "IOLUS:\n",
      "step 13220: loss 6.50 21.03ms 475tok/s (total 132,190tok)\n",
      "step 13240: loss 0.15 20.33ms 492tok/s (total 132,390tok)\n",
      "step 13260: loss 2.87 3.93ms 2544tok/s (total 132,590tok)\n",
      "step 13280: loss 4.76 21.51ms 465tok/s (total 132,790tok)\n",
      "step 13300: loss 7.08 21.61ms 463tok/s (total 132,990tok)\n",
      "Oh my lord\n",
      ",.,.\n",
      "\n",
      "\n",
      "CORI\n",
      "step 13320: loss 6.81 19.66ms 509tok/s (total 133,190tok)\n",
      "step 13340: loss 1.27 20.56ms 486tok/s (total 133,390tok)\n",
      "step 13360: loss 6.33 9.50ms 1052tok/s (total 133,590tok)\n",
      "step 13380: loss 1.54 21.25ms 471tok/s (total 133,790tok)\n",
      "step 13400: loss 3.32 21.51ms 465tok/s (total 133,990tok)\n",
      "Oh my lord, to the\n",
      ".\n",
      " Citizen:\n",
      " I\n",
      "step 13420: loss 6.58 21.38ms 468tok/s (total 134,190tok)\n",
      "step 13440: loss 3.92 21.56ms 464tok/s (total 134,390tok)\n",
      "step 13460: loss 9.71 21.49ms 465tok/s (total 134,590tok)\n",
      "step 13480: loss 5.74 21.13ms 473tok/s (total 134,790tok)\n",
      "step 13500: loss 5.41 11.38ms 878tok/s (total 134,990tok)\n",
      "Oh my lord.\n",
      "\n",
      "\n",
      "\n",
      "\n",
      "\n",
      "\n",
      "\n",
      "\n",
      "\n",
      "step 13520: loss 4.68 21.45ms 466tok/s (total 135,190tok)\n",
      "step 13540: loss 6.51 20.75ms 482tok/s (total 135,390tok)\n",
      "step 13560: loss 7.43 21.48ms 465tok/s (total 135,590tok)\n",
      "step 13580: loss 6.50 21.16ms 473tok/s (total 135,790tok)\n",
      "step 13600: loss 4.48 18.82ms 531tok/s (total 135,990tok)\n",
      "Oh my lord\n",
      ", the have have have.\n",
      "\n",
      "\n",
      "\n",
      "step 13620: loss 1.02 21.39ms 467tok/s (total 136,190tok)\n",
      "step 13640: loss 6.46 12.08ms 828tok/s (total 136,390tok)\n",
      "step 13660: loss 5.72 20.66ms 484tok/s (total 136,590tok)\n",
      "step 13680: loss 12.14 21.28ms 470tok/s (total 136,790tok)\n",
      "step 13700: loss 2.95 21.27ms 470tok/s (total 136,990tok)\n",
      "Oh my lord, the\n",
      " to of my my, the my\n",
      "step 13720: loss 3.95 21.54ms 464tok/s (total 137,190tok)\n",
      "step 13740: loss 5.99 20.98ms 477tok/s (total 137,390tok)\n",
      "step 13760: loss 5.90 21.51ms 465tok/s (total 137,590tok)\n",
      "step 13780: loss 4.47 10.52ms 951tok/s (total 137,790tok)\n",
      "step 13800: loss 5.98 21.34ms 469tok/s (total 137,990tok)\n",
      "Oh my lord,\n",
      " the.\n",
      " Citizen:\n",
      " have have\n",
      "step 13820: loss 6.87 4.74ms 2109tok/s (total 138,190tok)\n",
      "step 13840: loss 0.32 21.21ms 472tok/s (total 138,390tok)\n",
      "step 13860: loss 0.22 21.23ms 471tok/s (total 138,590tok)\n",
      "step 13880: loss 2.64 20.89ms 479tok/s (total 138,790tok)\n",
      "step 13900: loss 4.80 20.72ms 483tok/s (total 138,990tok)\n",
      "Oh my lord,\n",
      " to the.\n",
      "CORIOLAN\n",
      "step 13920: loss 8.64 20.71ms 483tok/s (total 139,190tok)\n",
      "step 13940: loss 5.16 20.70ms 483tok/s (total 139,390tok)\n",
      "step 13960: loss 6.30 21.31ms 469tok/s (total 139,590tok)\n",
      "step 13980: loss 2.22 20.74ms 482tok/s (total 139,790tok)\n",
      "step 14000: loss 9.64 20.91ms 478tok/s (total 139,990tok)\n",
      "Oh my lord,\n",
      " the and.\n",
      "\n",
      "\n",
      " to\n",
      "\n",
      "step 14020: loss 6.53 21.16ms 473tok/s (total 140,190tok)\n",
      "step 14040: loss 3.16 21.06ms 475tok/s (total 140,390tok)\n",
      "step 14060: loss 8.53 20.91ms 478tok/s (total 140,590tok)\n",
      "step 14080: loss 1.04 20.91ms 478tok/s (total 140,790tok)\n",
      "step 14100: loss 3.56 20.82ms 480tok/s (total 140,990tok)\n",
      "Oh my lord,\n",
      ", I your your\n",
      "; voices voices\n",
      "step 14120: loss 7.46 20.90ms 478tok/s (total 141,190tok)\n",
      "step 14140: loss 5.42 20.93ms 478tok/s (total 141,390tok)\n",
      "step 14160: loss 4.30 20.95ms 477tok/s (total 141,590tok)\n",
      "step 14180: loss 0.02 20.84ms 480tok/s (total 141,790tok)\n",
      "step 14200: loss 10.51 20.77ms 481tok/s (total 141,990tok)\n",
      "Oh my lord,\n",
      " the and the people\n",
      " people people\n",
      "\n",
      "step 14220: loss 4.44 20.71ms 483tok/s (total 142,190tok)\n",
      "step 14240: loss 0.34 20.85ms 480tok/s (total 142,390tok)\n",
      "step 14260: loss 13.04 21.34ms 469tok/s (total 142,590tok)\n",
      "step 14280: loss 0.28 20.97ms 477tok/s (total 142,790tok)\n",
      "step 14300: loss 8.89 20.90ms 478tok/s (total 142,990tok)\n",
      "Oh my lord,\n",
      " the and people\n",
      "CORIUS:\n",
      "step 14320: loss 3.57 20.82ms 480tok/s (total 143,190tok)\n",
      "step 14340: loss 1.56 20.88ms 479tok/s (total 143,390tok)\n",
      "step 14360: loss 3.20 20.77ms 481tok/s (total 143,590tok)\n",
      "step 14380: loss 4.20 20.73ms 482tok/s (total 143,790tok)\n",
      "step 14400: loss 2.58 20.76ms 482tok/s (total 143,990tok)\n",
      "Oh my lord.\n",
      "\n",
      "\n",
      "\n",
      "\n",
      "\n",
      "\n",
      "\n",
      "\n",
      "\n",
      "step 14420: loss 11.70 20.73ms 482tok/s (total 144,190tok)\n",
      "step 14440: loss 8.37 21.19ms 472tok/s (total 144,390tok)\n",
      "step 14460: loss 2.41 20.73ms 482tok/s (total 144,590tok)\n",
      "step 14480: loss 5.23 20.73ms 482tok/s (total 144,790tok)\n",
      "step 14500: loss 4.91 20.75ms 482tok/s (total 144,990tok)\n",
      "Oh my lord.\n",
      "\n",
      "\n",
      "\n",
      "\n",
      "\n",
      "\n",
      "\n",
      "\n",
      "\n",
      "step 14520: loss 5.17 20.68ms 484tok/s (total 145,190tok)\n",
      "step 14540: loss 1.95 20.93ms 478tok/s (total 145,390tok)\n",
      "step 14560: loss 5.96 20.90ms 478tok/s (total 145,590tok)\n",
      "step 14580: loss 5.16 20.84ms 480tok/s (total 145,790tok)\n",
      "step 14600: loss 1.14 20.76ms 482tok/s (total 145,990tok)\n",
      "Oh my lord,\n",
      " us us: us\n",
      " us us\n",
      "\n",
      "step 14620: loss 0.35 20.83ms 480tok/s (total 146,190tok)\n",
      "step 14640: loss 7.22 21.03ms 476tok/s (total 146,390tok)\n",
      "step 14660: loss 2.82 21.32ms 469tok/s (total 146,590tok)\n",
      "step 14680: loss 5.95 21.11ms 474tok/s (total 146,790tok)\n",
      "step 14700: loss 6.38 21.40ms 467tok/s (total 146,990tok)\n",
      "Oh my lord,\n",
      ", he he\n",
      ", he,\n",
      "\n",
      "step 14720: loss 5.83 21.03ms 476tok/s (total 147,190tok)\n",
      "step 14740: loss 6.18 20.95ms 477tok/s (total 147,390tok)\n",
      "step 14760: loss 2.95 20.83ms 480tok/s (total 147,590tok)\n",
      "step 14780: loss 3.51 20.78ms 481tok/s (total 147,790tok)\n",
      "step 14800: loss 4.05 20.69ms 483tok/s (total 147,990tok)\n",
      "Oh my lord,\n",
      ", you voices\n",
      ",I you voices\n",
      "step 14820: loss 6.38 20.70ms 483tok/s (total 148,190tok)\n",
      "step 14840: loss 11.63 20.72ms 483tok/s (total 148,390tok)\n",
      "step 14860: loss 2.57 20.93ms 478tok/s (total 148,590tok)\n",
      "step 14880: loss 11.21 20.74ms 482tok/s (total 148,790tok)\n",
      "step 14900: loss 5.82 20.78ms 481tok/s (total 148,990tok)\n",
      "Oh my lord,\n",
      " the,\n",
      "I the of and the\n",
      "step 14920: loss 8.89 20.83ms 480tok/s (total 149,190tok)\n",
      "step 14940: loss 10.31 21.07ms 475tok/s (total 149,390tok)\n",
      "step 14960: loss 0.11 20.89ms 479tok/s (total 149,590tok)\n",
      "step 14980: loss 1.92 20.69ms 483tok/s (total 149,790tok)\n",
      "step 15000: loss 3.17 20.78ms 481tok/s (total 149,990tok)\n",
      "Oh my lord,\n",
      " his, his\n",
      " his, his his\n",
      "step 15020: loss 12.20 20.72ms 483tok/s (total 150,190tok)\n",
      "step 15040: loss 11.63 20.84ms 480tok/s (total 150,390tok)\n",
      "step 15060: loss 12.22 20.86ms 479tok/s (total 150,590tok)\n",
      "step 15080: loss 4.95 20.81ms 480tok/s (total 150,790tok)\n",
      "step 15100: loss 6.34 20.74ms 482tok/s (total 150,990tok)\n",
      "Oh my lord,\n",
      " you\n",
      "BRUS: you\n",
      " you\n",
      "step 15120: loss 5.91 20.88ms 479tok/s (total 151,190tok)\n",
      "step 15140: loss 9.98 20.77ms 482tok/s (total 151,390tok)\n",
      "step 15160: loss 5.22 20.74ms 482tok/s (total 151,590tok)\n",
      "step 15180: loss 2.28 21.01ms 476tok/s (total 151,790tok)\n",
      "step 15200: loss 6.69 20.80ms 481tok/s (total 151,990tok)\n",
      "Oh my lord,\n",
      " not?\n",
      " Citizen:\n",
      "\n",
      "\n",
      "\n",
      "step 15220: loss 12.17 20.68ms 484tok/s (total 152,190tok)\n",
      "step 15240: loss 3.86 20.80ms 481tok/s (total 152,390tok)\n",
      "step 15260: loss 7.68 20.77ms 481tok/s (total 152,590tok)\n",
      "step 15280: loss 3.69 20.77ms 482tok/s (total 152,790tok)\n",
      "step 15300: loss 5.69 20.81ms 481tok/s (total 152,990tok)\n",
      "Oh my lord,\n",
      " thatIUS:\n",
      " have have you\n",
      "step 15320: loss 12.44 21.00ms 476tok/s (total 153,190tok)\n",
      "step 15340: loss 3.93 20.88ms 479tok/s (total 153,390tok)\n",
      "step 15360: loss 4.68 20.92ms 478tok/s (total 153,590tok)\n",
      "step 15380: loss 6.98 21.39ms 467tok/s (total 153,790tok)\n",
      "step 15400: loss 12.29 20.90ms 478tok/s (total 153,990tok)\n",
      "Oh my lord,\n",
      ",,,,,,,,\n",
      "step 15420: loss 12.09 21.12ms 474tok/s (total 154,190tok)\n",
      "step 15440: loss 10.12 20.96ms 477tok/s (total 154,390tok)\n",
      "step 15460: loss 0.03 20.90ms 478tok/s (total 154,590tok)\n",
      "step 15480: loss 8.85 20.88ms 479tok/s (total 154,790tok)\n",
      "step 15500: loss 5.89 20.87ms 479tok/s (total 154,990tok)\n",
      "Oh my lord,\n",
      " you\n",
      "SICINIUS:\n",
      "step 15520: loss 5.95 20.75ms 482tok/s (total 155,190tok)\n",
      "step 15540: loss 6.07 20.74ms 482tok/s (total 155,390tok)\n",
      "step 15560: loss 4.87 20.90ms 479tok/s (total 155,590tok)\n",
      "step 15580: loss 4.62 20.80ms 481tok/s (total 155,790tok)\n",
      "step 15600: loss 11.45 20.80ms 481tok/s (total 155,990tok)\n",
      "Oh my lord,\n",
      ",,,,,,,,\n",
      "step 15620: loss 2.10 20.92ms 478tok/s (total 156,190tok)\n",
      "step 15640: loss 8.58 20.89ms 479tok/s (total 156,390tok)\n",
      "step 15660: loss 1.58 20.84ms 480tok/s (total 156,590tok)\n",
      "step 15680: loss 0.53 20.82ms 480tok/s (total 156,790tok)\n",
      "step 15700: loss 12.30 20.71ms 483tok/s (total 156,990tok)\n",
      "Oh my lord,\n",
      " his his,\n",
      " his,\n",
      " his\n",
      "step 15720: loss 1.39 20.95ms 477tok/s (total 157,190tok)\n",
      "step 15740: loss 4.89 20.79ms 481tok/s (total 157,390tok)\n",
      "step 15760: loss 0.28 20.85ms 480tok/s (total 157,590tok)\n",
      "step 15780: loss 11.61 20.80ms 481tok/s (total 157,790tok)\n",
      "step 15800: loss 12.44 21.13ms 473tok/s (total 157,990tok)\n",
      "Oh my lord\n",
      ":,,,\n",
      " on on; your\n",
      "step 15820: loss 3.12 20.75ms 482tok/s (total 158,190tok)\n",
      "step 15840: loss 6.02 20.73ms 483tok/s (total 158,390tok)\n",
      "step 15860: loss 3.02 20.86ms 479tok/s (total 158,590tok)\n",
      "step 15880: loss 5.11 20.81ms 481tok/s (total 158,790tok)\n",
      "step 15900: loss 3.44 20.81ms 481tok/s (total 158,990tok)\n",
      "Oh my lord,\n",
      " the, in,\n",
      " the in,\n",
      "step 15920: loss 8.00 20.72ms 483tok/s (total 159,190tok)\n",
      "step 15940: loss 12.57 20.83ms 480tok/s (total 159,390tok)\n",
      "step 15960: loss 5.41 20.64ms 484tok/s (total 159,590tok)\n",
      "step 15980: loss 5.15 20.77ms 482tok/s (total 159,790tok)\n",
      "step 16000: loss 2.19 20.96ms 477tok/s (total 159,990tok)\n",
      "Oh my lord,,,,,,,,,,\n",
      "step 16020: loss 1.18 20.71ms 483tok/s (total 160,190tok)\n",
      "step 16040: loss 1.17 21.02ms 476tok/s (total 160,390tok)\n",
      "step 16060: loss 5.98 20.91ms 478tok/s (total 160,590tok)\n",
      "step 16080: loss 0.11 20.85ms 480tok/s (total 160,790tok)\n",
      "step 16100: loss 0.14 20.86ms 479tok/s (total 160,990tok)\n",
      "Oh my lord.\n",
      "\n",
      "\n",
      "\n",
      "\n",
      "\n",
      "\n",
      "\n",
      "\n",
      "\n",
      "step 16120: loss 7.00 20.90ms 478tok/s (total 161,190tok)\n",
      "step 16140: loss 3.96 20.78ms 481tok/s (total 161,390tok)\n",
      "step 16160: loss 5.27 20.73ms 482tok/s (total 161,590tok)\n",
      "step 16180: loss 1.44 20.71ms 483tok/s (total 161,790tok)\n",
      "step 16200: loss 0.04 20.84ms 480tok/s (total 161,990tok)\n",
      "Oh my lord.\n",
      "\n",
      "\n",
      "\n",
      "\n",
      "\n",
      "\n",
      "\n",
      "\n",
      "\n",
      "step 16220: loss 9.65 20.71ms 483tok/s (total 162,190tok)\n",
      "step 16240: loss 8.57 20.74ms 482tok/s (total 162,390tok)\n",
      "step 16260: loss 12.64 20.73ms 482tok/s (total 162,590tok)\n",
      "step 16280: loss 3.57 20.77ms 481tok/s (total 162,790tok)\n",
      "step 16300: loss 1.30 20.70ms 483tok/s (total 162,990tok)\n",
      "Oh my lord.\n",
      "\n",
      "\n",
      "\n",
      "\n",
      "\n",
      "\n",
      "\n",
      "\n",
      "\n",
      "step 16320: loss 6.13 20.75ms 482tok/s (total 163,190tok)\n",
      "step 16340: loss 0.80 20.87ms 479tok/s (total 163,390tok)\n",
      "step 16360: loss 4.70 20.92ms 478tok/s (total 163,590tok)\n",
      "step 16380: loss 4.10 20.85ms 480tok/s (total 163,790tok)\n",
      "step 16400: loss 1.59 20.64ms 485tok/s (total 163,990tok)\n",
      "Oh my lord.\n",
      "\n",
      "\n",
      "\n",
      "\n",
      "\n",
      "\n",
      "\n",
      "\n",
      "\n",
      "step 16420: loss 0.21 38.95ms 257tok/s (total 164,190tok)\n",
      "step 16440: loss 0.41 21.39ms 468tok/s (total 164,390tok)\n",
      "step 16460: loss 1.03 21.17ms 472tok/s (total 164,590tok)\n",
      "step 16480: loss 1.36 21.44ms 467tok/s (total 164,790tok)\n",
      "step 16500: loss 11.76 21.28ms 470tok/s (total 164,990tok)\n",
      "Oh my lord,\n",
      ", the?\n",
      "?\n",
      "BRUT\n",
      "step 16520: loss 0.05 21.16ms 473tok/s (total 165,190tok)\n",
      "step 16540: loss 12.50 20.96ms 477tok/s (total 165,390tok)\n",
      "step 16560: loss 11.99 20.77ms 481tok/s (total 165,590tok)\n",
      "step 16580: loss 1.50 20.90ms 479tok/s (total 165,790tok)\n",
      "step 16600: loss 3.87 20.71ms 483tok/s (total 165,990tok)\n",
      "Oh my lord,\n",
      " and the of the:\n",
      " and of\n",
      "step 16620: loss 4.68 20.68ms 484tok/s (total 166,190tok)\n",
      "step 16640: loss 12.06 20.69ms 483tok/s (total 166,390tok)\n",
      "step 16660: loss 7.84 20.78ms 481tok/s (total 166,590tok)\n",
      "step 16680: loss 0.13 20.97ms 477tok/s (total 166,790tok)\n",
      "step 16700: loss 7.04 20.91ms 478tok/s (total 166,990tok)\n",
      "Oh my lord,\n",
      " them.\n",
      "BRUTUS:\n",
      "\n",
      "step 16720: loss 10.44 20.93ms 478tok/s (total 167,190tok)\n",
      "step 16740: loss 0.18 20.86ms 479tok/s (total 167,390tok)\n",
      "step 16760: loss 11.89 20.87ms 479tok/s (total 167,590tok)\n",
      "step 16780: loss 0.62 20.88ms 479tok/s (total 167,790tok)\n",
      "step 16800: loss 12.04 21.37ms 468tok/s (total 167,990tok)\n",
      "Oh my lord,\n",
      " the people people:\n",
      " people people\n",
      "\n",
      "step 16820: loss 6.38 20.71ms 483tok/s (total 168,190tok)\n",
      "step 16840: loss 5.40 20.74ms 482tok/s (total 168,390tok)\n",
      "step 16860: loss 0.66 20.73ms 482tok/s (total 168,590tok)\n",
      "step 16880: loss 5.70 20.70ms 483tok/s (total 168,790tok)\n",
      "step 16900: loss 5.23 20.72ms 483tok/s (total 168,990tok)\n",
      "Oh my lord,\n",
      " with be.\n",
      "CORIANI\n",
      "step 16920: loss 3.02 20.86ms 479tok/s (total 169,190tok)\n",
      "step 16940: loss 4.70 20.80ms 481tok/s (total 169,390tok)\n",
      "step 16960: loss 0.52 20.94ms 478tok/s (total 169,590tok)\n",
      "step 16980: loss 0.06 20.71ms 483tok/s (total 169,790tok)\n",
      "step 17000: loss 6.60 20.79ms 481tok/s (total 169,990tok)\n",
      "Oh my lord,.,.\n",
      "CORIANIOL\n",
      "step 17020: loss 13.00 20.95ms 477tok/s (total 170,190tok)\n",
      "step 17040: loss 1.49 20.93ms 478tok/s (total 170,390tok)\n",
      "step 17060: loss 2.06 20.78ms 481tok/s (total 170,590tok)\n",
      "step 17080: loss 0.76 20.72ms 483tok/s (total 170,790tok)\n",
      "step 17100: loss 10.52 20.72ms 483tok/s (total 170,990tok)\n",
      "Oh my lord,\n",
      ",'d,'d,'d,,\n",
      "step 17120: loss 2.82 20.74ms 482tok/s (total 171,190tok)\n",
      "step 17140: loss 6.29 20.72ms 483tok/s (total 171,390tok)\n",
      "step 17160: loss 4.38 20.71ms 483tok/s (total 171,590tok)\n",
      "step 17180: loss 5.41 20.68ms 484tok/s (total 171,790tok)\n",
      "step 17200: loss 9.03 20.77ms 481tok/s (total 171,990tok)\n",
      "Oh my lord,\n",
      " no my, we we.\n",
      "\n",
      "\n",
      "step 17220: loss 4.95 20.91ms 478tok/s (total 172,190tok)\n",
      "step 17240: loss 7.43 20.85ms 480tok/s (total 172,390tok)\n",
      "step 17260: loss 1.31 20.88ms 479tok/s (total 172,590tok)\n",
      "step 17280: loss 10.59 20.69ms 483tok/s (total 172,790tok)\n",
      "step 17300: loss 12.80 20.80ms 481tok/s (total 172,990tok)\n",
      "Oh my lord,\n",
      " the people people.\n",
      "\n",
      "\n",
      "\n",
      "\n",
      "step 17320: loss 4.16 20.76ms 482tok/s (total 173,190tok)\n",
      "step 17340: loss 2.28 20.76ms 482tok/s (total 173,390tok)\n",
      "step 17360: loss 0.69 21.04ms 475tok/s (total 173,590tok)\n",
      "step 17380: loss 12.37 20.81ms 481tok/s (total 173,790tok)\n",
      "step 17400: loss 0.31 20.79ms 481tok/s (total 173,990tok)\n",
      "Oh my lord,\n",
      " the\n",
      "CORIANIANI\n",
      "step 17420: loss 8.99 20.90ms 478tok/s (total 174,190tok)\n",
      "step 17440: loss 8.10 20.69ms 483tok/s (total 174,390tok)\n",
      "step 17460: loss 6.16 20.77ms 481tok/s (total 174,590tok)\n",
      "step 17480: loss 5.30 21.35ms 468tok/s (total 174,790tok)\n",
      "step 17500: loss 6.58 4.92ms 2034tok/s (total 174,990tok)\n",
      "Oh my lord,\n",
      " have you your, have\n",
      " have your\n",
      "step 17520: loss 5.56 8.03ms 1245tok/s (total 175,190tok)\n",
      "step 17540: loss 11.68 7.39ms 1353tok/s (total 175,390tok)\n",
      "step 17560: loss 4.35 21.86ms 458tok/s (total 175,590tok)\n",
      "step 17580: loss 0.68 6.78ms 1476tok/s (total 175,790tok)\n",
      "step 17600: loss 6.85 7.24ms 1381tok/s (total 175,990tok)\n",
      "Oh my lord,\n",
      " the '' ' '' ' '\n",
      "step 17620: loss 9.23 20.97ms 477tok/s (total 176,190tok)\n",
      "step 17640: loss 3.74 20.72ms 483tok/s (total 176,390tok)\n",
      "step 17660: loss 1.69 20.73ms 483tok/s (total 176,590tok)\n",
      "step 17680: loss 11.15 4.35ms 2296tok/s (total 176,790tok)\n",
      "step 17700: loss 10.20 5.25ms 1905tok/s (total 176,990tok)\n",
      "Oh my lord,\n",
      " the.\n",
      "CORIOLANUS\n",
      "step 17720: loss 5.95 4.89ms 2046tok/s (total 177,190tok)\n",
      "step 17740: loss 4.55 4.65ms 2152tok/s (total 177,390tok)\n",
      "step 17760: loss 6.08 5.17ms 1935tok/s (total 177,590tok)\n",
      "step 17780: loss 2.12 4.44ms 2255tok/s (total 177,790tok)\n",
      "step 17800: loss 2.73 5.14ms 1944tok/s (total 177,990tok)\n",
      "Oh my lord,\n",
      " the\n",
      "CORIANIANI\n",
      "step 17820: loss 3.28 4.65ms 2149tok/s (total 178,190tok)\n",
      "step 17840: loss 6.70 3.68ms 2715tok/s (total 178,390tok)\n",
      "step 17860: loss 7.04 5.20ms 1921tok/s (total 178,590tok)\n",
      "step 17880: loss 9.16 3.70ms 2703tok/s (total 178,790tok)\n",
      "step 17900: loss 5.64 5.15ms 1943tok/s (total 178,990tok)\n",
      "Oh my lord,\n",
      " the of.\n",
      "CORIOLAN\n",
      "step 17920: loss 7.61 4.05ms 2469tok/s (total 179,190tok)\n",
      "step 17940: loss 11.69 3.98ms 2510tok/s (total 179,390tok)\n",
      "step 17960: loss 4.96 3.95ms 2530tok/s (total 179,590tok)\n",
      "step 17980: loss 6.58 3.93ms 2545tok/s (total 179,790tok)\n",
      "step 18000: loss 10.87 5.80ms 1725tok/s (total 179,990tok)\n",
      "Oh my lord,\n",
      " the and\n",
      " of the our\n",
      ":\n",
      "step 18020: loss 5.14 4.01ms 2496tok/s (total 180,190tok)\n",
      "step 18040: loss 12.40 6.25ms 1599tok/s (total 180,390tok)\n",
      "step 18060: loss 7.99 5.53ms 1808tok/s (total 180,590tok)\n",
      "step 18080: loss 0.02 4.06ms 2466tok/s (total 180,790tok)\n",
      "step 18100: loss 7.68 4.43ms 2256tok/s (total 180,990tok)\n",
      "Oh my lord,\n",
      ", and\n",
      "CORIOLANUS\n",
      "step 18120: loss 3.11 4.41ms 2267tok/s (total 181,190tok)\n",
      "step 18140: loss 11.25 5.94ms 1684tok/s (total 181,390tok)\n",
      "step 18160: loss 4.05 4.26ms 2346tok/s (total 181,590tok)\n",
      "step 18180: loss 2.26 5.81ms 1722tok/s (total 181,790tok)\n",
      "step 18200: loss 4.46 6.99ms 1431tok/s (total 181,990tok)\n",
      "Oh my lord,\n",
      ", the and\n",
      ", be be,\n",
      "step 18220: loss 10.73 4.26ms 2350tok/s (total 182,190tok)\n",
      "step 18240: loss 8.91 7.26ms 1377tok/s (total 182,390tok)\n",
      "step 18260: loss 5.26 7.19ms 1391tok/s (total 182,590tok)\n",
      "step 18280: loss 7.27 19.53ms 512tok/s (total 182,790tok)\n",
      "step 18300: loss 2.92 16.36ms 611tok/s (total 182,990tok)\n",
      "Oh my lord,\n",
      " the\n",
      " and that\n",
      "TheThe of\n",
      "step 18320: loss 5.11 20.81ms 481tok/s (total 183,190tok)\n",
      "step 18340: loss 0.04 18.81ms 532tok/s (total 183,390tok)\n",
      "step 18360: loss 0.72 21.08ms 474tok/s (total 183,590tok)\n",
      "step 18380: loss 5.51 19.94ms 502tok/s (total 183,790tok)\n",
      "step 18400: loss 5.88 20.85ms 480tok/s (total 183,990tok)\n",
      "Oh my lord,\n",
      " the and with the\n",
      " with.\n",
      "\n",
      "step 18420: loss 1.83 19.85ms 504tok/s (total 184,190tok)\n",
      "step 18440: loss 4.10 12.46ms 803tok/s (total 184,390tok)\n",
      "step 18460: loss 1.01 20.98ms 477tok/s (total 184,590tok)\n",
      "step 18480: loss 7.62 17.18ms 582tok/s (total 184,790tok)\n",
      "step 18500: loss 7.70 20.96ms 477tok/s (total 184,990tok)\n",
      "Oh my lord,\n",
      " the.\n",
      "BRUTUS:\n",
      "\n",
      "step 18520: loss 7.86 20.42ms 490tok/s (total 185,190tok)\n",
      "step 18540: loss 6.56 21.41ms 467tok/s (total 185,390tok)\n",
      "step 18560: loss 0.34 20.91ms 478tok/s (total 185,590tok)\n",
      "step 18580: loss 1.48 22.38ms 447tok/s (total 185,790tok)\n",
      "step 18600: loss 8.75 20.86ms 479tok/s (total 185,990tok)\n",
      "Oh my lord,\n",
      ".\n",
      "INIUS:\n",
      "\n",
      "\n",
      "step 18620: loss 11.36 19.91ms 502tok/s (total 186,190tok)\n",
      "step 18640: loss 10.20 20.26ms 493tok/s (total 186,390tok)\n",
      "step 18660: loss 1.88 21.03ms 475tok/s (total 186,590tok)\n",
      "step 18680: loss 3.07 12.55ms 797tok/s (total 186,790tok)\n",
      "step 18700: loss 5.45 18.06ms 554tok/s (total 186,990tok)\n",
      "Oh my lord,\n",
      ".\n",
      "\n",
      "\n",
      "\n",
      "\n",
      "\n",
      "\n",
      "\n",
      "step 18720: loss 12.32 20.44ms 489tok/s (total 187,190tok)\n",
      "step 18740: loss 11.35 21.53ms 464tok/s (total 187,390tok)\n",
      "step 18760: loss 5.97 21.20ms 472tok/s (total 187,590tok)\n",
      "step 18780: loss 5.56 12.73ms 786tok/s (total 187,790tok)\n",
      "step 18800: loss 11.77 3.95ms 2534tok/s (total 187,990tok)\n",
      "Oh my lord,\n",
      " with '' ' ' '' '\n",
      "step 18820: loss 2.78 18.48ms 541tok/s (total 188,190tok)\n",
      "step 18840: loss 0.85 17.31ms 578tok/s (total 188,390tok)\n",
      "step 18860: loss 10.82 7.76ms 1289tok/s (total 188,590tok)\n",
      "step 18880: loss 6.74 8.55ms 1170tok/s (total 188,790tok)\n",
      "step 18900: loss 10.21 4.66ms 2144tok/s (total 188,990tok)\n",
      "Oh my lord,\n",
      ":\n",
      "SINIUS!\n",
      "\n",
      "step 18920: loss 4.11 4.92ms 2034tok/s (total 189,190tok)\n",
      "step 18940: loss 2.98 4.84ms 2068tok/s (total 189,390tok)\n",
      "step 18960: loss 2.79 5.12ms 1955tok/s (total 189,590tok)\n",
      "step 18980: loss 0.85 4.30ms 2323tok/s (total 189,790tok)\n",
      "step 19000: loss 5.30 4.98ms 2009tok/s (total 189,990tok)\n",
      "Oh my lord,\n",
      " the.\n",
      "BRUTUS:\n",
      "\n",
      "step 19020: loss 5.35 4.88ms 2048tok/s (total 190,190tok)\n",
      "step 19040: loss 0.93 4.68ms 2137tok/s (total 190,390tok)\n",
      "step 19060: loss 2.59 15.69ms 638tok/s (total 190,590tok)\n",
      "step 19080: loss 6.21 19.35ms 517tok/s (total 190,790tok)\n",
      "step 19100: loss 6.21 15.71ms 636tok/s (total 190,990tok)\n",
      "Oh my lord,\n",
      " the.\n",
      "BRUTUS:\n",
      "\n",
      "step 19120: loss 13.76 20.60ms 485tok/s (total 191,190tok)\n",
      "step 19140: loss 12.36 21.96ms 455tok/s (total 191,390tok)\n",
      "step 19160: loss 0.03 21.16ms 473tok/s (total 191,590tok)\n",
      "step 19180: loss 2.17 21.20ms 472tok/s (total 191,790tok)\n",
      "step 19200: loss 3.64 20.65ms 484tok/s (total 191,990tok)\n",
      "Oh my lord,\n",
      ".\n",
      "BRUTUS:\n",
      "\n",
      "\n",
      "step 19220: loss 0.06 20.02ms 499tok/s (total 192,190tok)\n",
      "step 19240: loss 7.58 13.64ms 733tok/s (total 192,390tok)\n",
      "step 19260: loss 0.43 21.09ms 474tok/s (total 192,590tok)\n",
      "step 19280: loss 12.03 17.91ms 558tok/s (total 192,790tok)\n",
      "step 19300: loss 8.56 20.12ms 497tok/s (total 192,990tok)\n",
      "Oh my lord,\n",
      ",.,.\n",
      "MENIUS\n",
      "step 19320: loss 7.09 20.90ms 479tok/s (total 193,190tok)\n",
      "step 19340: loss 5.98 20.87ms 479tok/s (total 193,390tok)\n",
      "step 19360: loss 6.65 21.48ms 466tok/s (total 193,590tok)\n",
      "step 19380: loss 2.57 13.61ms 735tok/s (total 193,790tok)\n",
      "step 19400: loss 11.97 19.86ms 504tok/s (total 193,990tok)\n",
      "Oh my lord,\n",
      ".\n",
      "BRUTUS:\n",
      ",\n",
      "step 19420: loss 4.77 21.39ms 468tok/s (total 194,190tok)\n",
      "step 19440: loss 7.34 21.19ms 472tok/s (total 194,390tok)\n",
      "step 19460: loss 1.94 21.35ms 468tok/s (total 194,590tok)\n",
      "step 19480: loss 1.21 21.42ms 467tok/s (total 194,790tok)\n",
      "step 19500: loss 12.72 18.95ms 528tok/s (total 194,990tok)\n",
      "Oh my lord,\n",
      ".\n",
      "MENENIUS:\n",
      "\n",
      "step 19520: loss 12.82 22.05ms 453tok/s (total 195,190tok)\n",
      "step 19540: loss 2.95 21.11ms 474tok/s (total 195,390tok)\n",
      "step 19560: loss 0.02 20.97ms 477tok/s (total 195,590tok)\n",
      "step 19580: loss 6.97 21.59ms 463tok/s (total 195,790tok)\n",
      "step 19600: loss 7.72 17.29ms 578tok/s (total 195,990tok)\n",
      "Oh my lord,\n",
      " with be.\n",
      "IUS:\n",
      "\n",
      "step 19620: loss 3.75 19.13ms 523tok/s (total 196,190tok)\n",
      "step 19640: loss 9.37 21.24ms 471tok/s (total 196,390tok)\n",
      "step 19660: loss 8.15 21.04ms 475tok/s (total 196,590tok)\n",
      "step 19680: loss 4.68 21.40ms 467tok/s (total 196,790tok)\n",
      "step 19700: loss 5.40 19.07ms 524tok/s (total 196,990tok)\n",
      "Oh my lord,\n",
      " the.\n",
      "IOLANUS:\n",
      "step 19720: loss 8.06 21.40ms 467tok/s (total 197,190tok)\n",
      "step 19740: loss 0.11 21.02ms 476tok/s (total 197,390tok)\n",
      "step 19760: loss 0.98 21.01ms 476tok/s (total 197,590tok)\n",
      "step 19780: loss 4.60 20.82ms 480tok/s (total 197,790tok)\n",
      "step 19800: loss 7.85 20.78ms 481tok/s (total 197,990tok)\n",
      "Oh my lord,\n",
      " be: be be be be;\n",
      "\n",
      "step 19820: loss 14.66 20.75ms 482tok/s (total 198,190tok)\n",
      "step 19840: loss 0.01 20.77ms 482tok/s (total 198,390tok)\n",
      "step 19860: loss 11.73 21.03ms 476tok/s (total 198,590tok)\n",
      "step 19880: loss 6.12 20.69ms 483tok/s (total 198,790tok)\n",
      "step 19900: loss 4.00 20.74ms 482tok/s (total 198,990tok)\n",
      "Oh my lord,\n",
      " that that, that be that his,\n",
      "step 19920: loss 12.87 20.79ms 481tok/s (total 199,190tok)\n",
      "step 19940: loss 1.58 20.89ms 479tok/s (total 199,390tok)\n",
      "step 19960: loss 6.36 20.98ms 477tok/s (total 199,590tok)\n",
      "step 19980: loss 11.66 20.69ms 483tok/s (total 199,790tok)\n",
      "step 20000: loss 6.21 20.85ms 480tok/s (total 199,990tok)\n",
      "Oh my lord,\n",
      " the\n",
      "MENENIUS:\n",
      "\n",
      "step 20020: loss 10.26 20.91ms 478tok/s (total 200,190tok)\n",
      "step 20040: loss 8.11 20.92ms 478tok/s (total 200,390tok)\n",
      "step 20060: loss 0.28 20.85ms 480tok/s (total 200,590tok)\n",
      "step 20080: loss 3.17 20.73ms 482tok/s (total 200,790tok)\n",
      "step 20100: loss 0.10 20.82ms 480tok/s (total 200,990tok)\n",
      "Oh my lord,\n",
      " the.\n",
      "\n",
      "\n",
      "\n",
      "\n",
      "\n",
      "\n",
      "step 20120: loss 0.04 20.90ms 479tok/s (total 201,190tok)\n",
      "step 20140: loss 4.85 20.89ms 479tok/s (total 201,390tok)\n",
      "step 20160: loss 6.60 20.90ms 478tok/s (total 201,590tok)\n",
      "step 20180: loss 5.71 20.87ms 479tok/s (total 201,790tok)\n",
      "step 20200: loss 6.08 21.12ms 473tok/s (total 201,990tok)\n",
      "Oh my lord,\n",
      " the\n",
      "MENENIUS:\n",
      "\n",
      "step 20220: loss 5.03 20.95ms 477tok/s (total 202,190tok)\n",
      "step 20240: loss 1.49 21.91ms 456tok/s (total 202,390tok)\n",
      "step 20260: loss 4.36 7.85ms 1274tok/s (total 202,590tok)\n",
      "step 20280: loss 2.69 7.81ms 1280tok/s (total 202,790tok)\n",
      "step 20300: loss 5.22 6.04ms 1654tok/s (total 202,990tok)\n",
      "Oh my lord,\n",
      ",MENENIUS: I,\n",
      "step 20320: loss 0.13 10.03ms 997tok/s (total 203,190tok)\n",
      "step 20340: loss 8.22 5.28ms 1895tok/s (total 203,390tok)\n",
      "step 20360: loss 12.36 20.81ms 481tok/s (total 203,590tok)\n",
      "step 20380: loss 3.22 20.50ms 488tok/s (total 203,790tok)\n",
      "step 20400: loss 10.49 20.86ms 479tok/s (total 203,990tok)\n",
      "Oh my lord\n",
      "MENENIUS:\n",
      " to the\n",
      "\n",
      "step 20420: loss 8.13 3.88ms 2577tok/s (total 204,190tok)\n",
      "step 20440: loss 0.12 5.51ms 1814tok/s (total 204,390tok)\n",
      "step 20460: loss 0.01 5.04ms 1984tok/s (total 204,590tok)\n",
      "step 20480: loss 5.67 5.22ms 1914tok/s (total 204,790tok)\n",
      "step 20500: loss 4.09 5.38ms 1857tok/s (total 204,990tok)\n",
      "Oh my lord,\n",
      " to's.'s.\n",
      "MENEN\n",
      "step 20520: loss 2.92 4.62ms 2165tok/s (total 205,190tok)\n",
      "step 20540: loss 5.25 5.12ms 1953tok/s (total 205,390tok)\n",
      "step 20560: loss 6.59 4.99ms 2004tok/s (total 205,590tok)\n",
      "step 20580: loss 0.61 5.28ms 1893tok/s (total 205,790tok)\n",
      "step 20600: loss 0.06 4.45ms 2247tok/s (total 205,990tok)\n",
      "Oh my lord\n",
      "SINIUS: that\n",
      " is is\n",
      "step 20620: loss 3.29 4.94ms 2024tok/s (total 206,190tok)\n",
      "step 20640: loss 3.62 4.00ms 2503tok/s (total 206,390tok)\n",
      "step 20660: loss 6.76 4.04ms 2477tok/s (total 206,590tok)\n",
      "step 20680: loss 1.35 11.45ms 873tok/s (total 206,790tok)\n",
      "step 20700: loss 0.04 17.32ms 578tok/s (total 206,990tok)\n",
      "Oh my lord,\n",
      ".\n",
      "MENENIUS:\n",
      "\n",
      "step 20720: loss 8.72 14.69ms 681tok/s (total 207,190tok)\n",
      "step 20740: loss 4.67 21.05ms 475tok/s (total 207,390tok)\n",
      "step 20760: loss 3.20 9.73ms 1027tok/s (total 207,590tok)\n",
      "step 20780: loss 2.23 13.31ms 752tok/s (total 207,790tok)\n",
      "step 20800: loss 8.56 16.54ms 605tok/s (total 207,990tok)\n",
      "Oh my lord,\n",
      ".\n",
      "BRUTUS:\n",
      "\n",
      "\n",
      "step 20820: loss 0.21 18.51ms 540tok/s (total 208,190tok)\n",
      "step 20840: loss 11.84 19.27ms 519tok/s (total 208,390tok)\n",
      "step 20860: loss 7.06 21.03ms 476tok/s (total 208,590tok)\n",
      "step 20880: loss 13.20 21.58ms 463tok/s (total 208,790tok)\n",
      "step 20900: loss 4.89 22.24ms 450tok/s (total 208,990tok)\n",
      "Oh my lord,\n",
      " to, to,\n",
      ", to he\n",
      "step 20920: loss 6.96 22.40ms 446tok/s (total 209,190tok)\n",
      "step 20940: loss 13.32 21.10ms 474tok/s (total 209,390tok)\n",
      "step 20960: loss 7.05 21.01ms 476tok/s (total 209,590tok)\n",
      "step 20980: loss 0.08 19.69ms 508tok/s (total 209,790tok)\n",
      "step 21000: loss 6.70 17.13ms 584tok/s (total 209,990tok)\n",
      "Oh my lord.\n",
      "\n",
      "\n",
      "\n",
      "\n",
      "\n",
      "\n",
      "\n",
      "\n",
      "\n",
      "step 21020: loss 7.45 10.16ms 984tok/s (total 210,190tok)\n",
      "step 21040: loss 3.29 6.31ms 1584tok/s (total 210,390tok)\n",
      "step 21060: loss 8.56 8.67ms 1153tok/s (total 210,590tok)\n",
      "step 21080: loss 0.04 5.27ms 1899tok/s (total 210,790tok)\n",
      "step 21100: loss 12.20 4.51ms 2218tok/s (total 210,990tok)\n",
      "Oh my lord,\n",
      " the.\n",
      "\n",
      "\n",
      "\n",
      "\n",
      "\n",
      "\n",
      "step 21120: loss 0.71 4.43ms 2259tok/s (total 211,190tok)\n",
      "step 21140: loss 8.23 4.31ms 2321tok/s (total 211,390tok)\n",
      "step 21160: loss 5.34 5.98ms 1671tok/s (total 211,590tok)\n",
      "step 21180: loss 11.53 3.91ms 2556tok/s (total 211,790tok)\n",
      "step 21200: loss 11.84 18.53ms 540tok/s (total 211,990tok)\n",
      "Oh my lord,\n",
      " the\n",
      "SICIUS:\n",
      "\n",
      "step 21220: loss 7.16 19.95ms 501tok/s (total 212,190tok)\n",
      "step 21240: loss 4.23 21.53ms 465tok/s (total 212,390tok)\n",
      "step 21260: loss 4.73 20.28ms 493tok/s (total 212,590tok)\n",
      "step 21280: loss 4.44 21.22ms 471tok/s (total 212,790tok)\n",
      "step 21300: loss 9.71 22.07ms 453tok/s (total 212,990tok)\n",
      "Oh my lord\n",
      ", you,\n",
      "I you me to me\n",
      "step 21320: loss 0.09 13.02ms 768tok/s (total 213,190tok)\n",
      "step 21340: loss 7.78 21.44ms 466tok/s (total 213,390tok)\n",
      "step 21360: loss 4.32 18.39ms 544tok/s (total 213,590tok)\n",
      "step 21380: loss 0.01 19.50ms 513tok/s (total 213,790tok)\n",
      "step 21400: loss 0.61 17.89ms 559tok/s (total 213,990tok)\n",
      "Oh my lord\n",
      ".\n",
      "CORIOLANUS:\n",
      "\n",
      "step 21420: loss 4.12 17.91ms 558tok/s (total 214,190tok)\n",
      "step 21440: loss 4.01 22.10ms 453tok/s (total 214,390tok)\n",
      "step 21460: loss 0.04 19.51ms 513tok/s (total 214,590tok)\n",
      "step 21480: loss 0.80 13.09ms 764tok/s (total 214,790tok)\n",
      "step 21500: loss 5.73 21.27ms 470tok/s (total 214,990tok)\n",
      "Oh my lord\n",
      ", and.\n",
      "\n",
      "\n",
      "\n",
      "\n",
      "\n",
      "\n",
      "step 21520: loss 0.01 20.48ms 488tok/s (total 215,190tok)\n",
      "step 21540: loss 1.11 19.40ms 515tok/s (total 215,390tok)\n",
      "step 21560: loss 5.41 18.44ms 542tok/s (total 215,590tok)\n",
      "step 21580: loss 0.01 19.87ms 503tok/s (total 215,790tok)\n",
      "step 21600: loss 2.94 20.78ms 481tok/s (total 215,990tok)\n",
      "Oh my lord\n",
      " the.\n",
      "MENENIUS:\n",
      "\n",
      "step 21620: loss 4.10 21.27ms 470tok/s (total 216,190tok)\n",
      "step 21640: loss 0.08 19.30ms 518tok/s (total 216,390tok)\n",
      "step 21660: loss 4.37 21.37ms 468tok/s (total 216,590tok)\n",
      "step 21680: loss 8.20 5.30ms 1885tok/s (total 216,790tok)\n",
      "step 21700: loss 8.16 4.46ms 2241tok/s (total 216,990tok)\n",
      "Oh my lord,\n",
      " I them.\n",
      "CORIOLAN\n",
      "step 21720: loss 5.86 4.15ms 2411tok/s (total 217,190tok)\n",
      "step 21740: loss 6.54 5.06ms 1976tok/s (total 217,390tok)\n",
      "step 21760: loss 1.19 4.38ms 2285tok/s (total 217,590tok)\n",
      "step 21780: loss 7.86 4.07ms 2458tok/s (total 217,790tok)\n",
      "step 21800: loss 11.95 4.16ms 2407tok/s (total 217,990tok)\n",
      "Oh my lord,\n",
      "MENENIUS:\n",
      " you,\n",
      "step 21820: loss 10.43 4.61ms 2172tok/s (total 218,190tok)\n",
      "step 21840: loss 4.57 4.23ms 2362tok/s (total 218,390tok)\n",
      "step 21860: loss 4.40 6.89ms 1452tok/s (total 218,590tok)\n",
      "step 21880: loss 4.60 4.07ms 2458tok/s (total 218,790tok)\n",
      "step 21900: loss 7.88 4.25ms 2352tok/s (total 218,990tok)\n",
      "Oh my lord\n",
      " you, your your your,\n",
      " you your\n",
      "step 21920: loss 6.64 4.14ms 2418tok/s (total 219,190tok)\n",
      "step 21940: loss 2.57 3.99ms 2505tok/s (total 219,390tok)\n",
      "step 21960: loss 11.33 3.94ms 2541tok/s (total 219,590tok)\n",
      "step 21980: loss 11.53 3.83ms 2608tok/s (total 219,790tok)\n",
      "step 22000: loss 0.70 4.67ms 2140tok/s (total 219,990tok)\n",
      "Oh my lord\n",
      " in in in, in and\n",
      " in in\n",
      "step 22020: loss 8.64 5.13ms 1951tok/s (total 220,190tok)\n",
      "step 22040: loss 12.27 4.44ms 2254tok/s (total 220,390tok)\n",
      "step 22060: loss 0.00 7.15ms 1399tok/s (total 220,590tok)\n",
      "step 22080: loss 6.13 4.34ms 2302tok/s (total 220,790tok)\n",
      "step 22100: loss 2.95 9.60ms 1041tok/s (total 220,990tok)\n",
      "Oh my lord\n",
      "VOLIA:,:,:\n",
      ",\n",
      "step 22120: loss 4.19 4.30ms 2326tok/s (total 221,190tok)\n",
      "step 22140: loss 5.03 5.00ms 2001tok/s (total 221,390tok)\n",
      "step 22160: loss 8.63 6.23ms 1604tok/s (total 221,590tok)\n",
      "step 22180: loss 0.58 6.22ms 1608tok/s (total 221,790tok)\n",
      "step 22200: loss 6.14 4.68ms 2136tok/s (total 221,990tok)\n",
      "Oh my lord,\n",
      " the,\n",
      " the and with, the\n",
      "step 22220: loss 4.78 5.46ms 1832tok/s (total 222,190tok)\n",
      "step 22240: loss 1.15 4.98ms 2007tok/s (total 222,390tok)\n",
      "step 22260: loss 8.45 5.30ms 1888tok/s (total 222,590tok)\n",
      "step 22280: loss 7.32 5.18ms 1931tok/s (total 222,790tok)\n",
      "step 22300: loss 4.66 6.13ms 1631tok/s (total 222,990tok)\n",
      "Oh my lord,\n",
      " and the\n",
      "MENENIUS:\n",
      "step 22320: loss 5.41 5.13ms 1948tok/s (total 223,190tok)\n",
      "step 22340: loss 12.00 6.20ms 1614tok/s (total 223,390tok)\n",
      "step 22360: loss 8.64 4.55ms 2197tok/s (total 223,590tok)\n",
      "step 22380: loss 11.06 4.58ms 2184tok/s (total 223,790tok)\n",
      "step 22400: loss 8.55 5.54ms 1804tok/s (total 223,990tok)\n",
      "Oh my lord,\n",
      " and the in.\n",
      "IANI\n",
      "step 22420: loss 9.45 6.02ms 1661tok/s (total 224,190tok)\n",
      "step 22440: loss 10.69 4.79ms 2088tok/s (total 224,390tok)\n",
      "step 22460: loss 12.68 5.30ms 1886tok/s (total 224,590tok)\n",
      "step 22480: loss 6.18 5.38ms 1860tok/s (total 224,790tok)\n",
      "step 22500: loss 0.11 4.90ms 2039tok/s (total 224,990tok)\n",
      "Oh my lord,\n",
      " and.\n",
      "CORIOLANUS\n",
      "step 22520: loss 8.21 5.47ms 1827tok/s (total 225,190tok)\n",
      "step 22540: loss 1.01 5.02ms 1991tok/s (total 225,390tok)\n",
      "step 22560: loss 4.26 5.36ms 1865tok/s (total 225,590tok)\n",
      "step 22580: loss 4.74 4.79ms 2086tok/s (total 225,790tok)\n",
      "step 22600: loss 2.49 5.79ms 1728tok/s (total 225,990tok)\n",
      "Oh my lord\n",
      " the to.\n",
      "\n",
      "\n",
      "\n",
      "\n",
      "\n",
      "\n",
      "step 22620: loss 2.48 5.63ms 1776tok/s (total 226,190tok)\n",
      "step 22640: loss 8.02 5.33ms 1874tok/s (total 226,390tok)\n",
      "step 22660: loss 5.28 5.62ms 1779tok/s (total 226,590tok)\n",
      "step 22680: loss 4.56 5.44ms 1838tok/s (total 226,790tok)\n",
      "step 22700: loss 5.50 5.99ms 1670tok/s (total 226,990tok)\n",
      "Oh my lord\n",
      ",,,,,,,,,\n",
      "step 22720: loss 11.81 5.20ms 1922tok/s (total 227,190tok)\n",
      "step 22740: loss 4.34 6.04ms 1656tok/s (total 227,390tok)\n",
      "step 22760: loss 3.57 6.57ms 1523tok/s (total 227,590tok)\n",
      "step 22780: loss 13.42 6.05ms 1654tok/s (total 227,790tok)\n",
      "step 22800: loss 10.71 4.50ms 2220tok/s (total 227,990tok)\n",
      "Oh my lord,\n",
      " my my, my my,\n",
      " my\n",
      "step 22820: loss 9.42 4.77ms 2097tok/s (total 228,190tok)\n",
      "step 22840: loss 2.99 5.00ms 1999tok/s (total 228,390tok)\n",
      "step 22860: loss 2.77 5.40ms 1850tok/s (total 228,590tok)\n",
      "step 22880: loss 8.80 4.75ms 2105tok/s (total 228,790tok)\n",
      "step 22900: loss 6.73 5.20ms 1923tok/s (total 228,990tok)\n",
      "Oh my lord\n",
      "Th,ThThTh.\n",
      "ThTh\n",
      "step 22920: loss 11.61 5.20ms 1923tok/s (total 229,190tok)\n",
      "step 22940: loss 0.41 4.34ms 2304tok/s (total 229,390tok)\n",
      "step 22960: loss 7.20 5.29ms 1890tok/s (total 229,590tok)\n",
      "step 22980: loss 6.24 4.55ms 2200tok/s (total 229,790tok)\n",
      "step 23000: loss 7.87 4.18ms 2391tok/s (total 229,990tok)\n",
      "Oh my lord,\n",
      " I, and I thy.\n",
      " thy\n",
      "step 23020: loss 11.16 5.82ms 1718tok/s (total 230,190tok)\n",
      "step 23040: loss 1.88 5.27ms 1898tok/s (total 230,390tok)\n",
      "step 23060: loss 4.15 5.17ms 1934tok/s (total 230,590tok)\n",
      "step 23080: loss 11.94 4.07ms 2455tok/s (total 230,790tok)\n",
      "step 23100: loss 0.35 5.83ms 1717tok/s (total 230,990tok)\n",
      "Oh my lord\n",
      "CORIOLANUS:\n",
      " I do\n",
      "step 23120: loss 3.48 5.70ms 1755tok/s (total 231,190tok)\n",
      "step 23140: loss 1.01 5.18ms 1932tok/s (total 231,390tok)\n",
      "step 23160: loss 1.58 4.80ms 2082tok/s (total 231,590tok)\n",
      "step 23180: loss 6.98 5.59ms 1788tok/s (total 231,790tok)\n",
      "step 23200: loss 12.54 5.51ms 1815tok/s (total 231,990tok)\n",
      "Oh my lord\n",
      "CORIOLANUS:,:,\n",
      "step 23220: loss 5.04 4.96ms 2014tok/s (total 232,190tok)\n",
      "step 23240: loss 3.98 5.24ms 1908tok/s (total 232,390tok)\n",
      "step 23260: loss 7.76 5.58ms 1792tok/s (total 232,590tok)\n",
      "step 23280: loss 6.38 6.00ms 1667tok/s (total 232,790tok)\n",
      "step 23300: loss 10.33 4.26ms 2348tok/s (total 232,990tok)\n",
      "Oh my lord\n",
      ".\n",
      "\n",
      "\n",
      "\n",
      "\n",
      "\n",
      "\n",
      "\n",
      "\n",
      "step 23320: loss 11.66 5.22ms 1917tok/s (total 233,190tok)\n",
      "step 23340: loss 3.35 5.03ms 1989tok/s (total 233,390tok)\n",
      "step 23360: loss 3.85 4.34ms 2306tok/s (total 233,590tok)\n",
      "step 23380: loss 9.76 5.79ms 1726tok/s (total 233,790tok)\n",
      "step 23400: loss 12.24 6.13ms 1632tok/s (total 233,990tok)\n",
      "Oh my lord\n",
      "SINIUS:,:\n",
      ",\n",
      "step 23420: loss 3.14 5.78ms 1730tok/s (total 234,190tok)\n",
      "step 23440: loss 1.81 6.71ms 1491tok/s (total 234,390tok)\n",
      "step 23460: loss 0.02 5.42ms 1844tok/s (total 234,590tok)\n",
      "step 23480: loss 5.86 5.17ms 1935tok/s (total 234,790tok)\n",
      "step 23500: loss 3.14 5.54ms 1806tok/s (total 234,990tok)\n",
      "Oh my lord\n",
      "A.\n",
      "A:\n",
      "I\n",
      "A\n",
      "step 23520: loss 8.96 5.18ms 1929tok/s (total 235,190tok)\n",
      "step 23540: loss 0.25 5.83ms 1717tok/s (total 235,390tok)\n",
      "step 23560: loss 7.04 5.50ms 1817tok/s (total 235,590tok)\n",
      "step 23580: loss 7.51 4.79ms 2087tok/s (total 235,790tok)\n",
      "step 23600: loss 4.43 4.69ms 2132tok/s (total 235,990tok)\n",
      "Oh my lord\n",
      ".\n",
      "BRUTUS:\n",
      " he to\n",
      "step 23620: loss 1.36 5.08ms 1969tok/s (total 236,190tok)\n",
      "step 23640: loss 13.31 4.47ms 2239tok/s (total 236,390tok)\n",
      "step 23660: loss 6.21 4.41ms 2265tok/s (total 236,590tok)\n",
      "step 23680: loss 13.10 4.26ms 2350tok/s (total 236,790tok)\n",
      "step 23700: loss 5.60 5.65ms 1770tok/s (total 236,990tok)\n",
      "Oh my lord\n",
      ", the and the of.\n",
      "SIC\n",
      "step 23720: loss 5.66 5.46ms 1830tok/s (total 237,190tok)\n",
      "step 23740: loss 11.28 5.70ms 1754tok/s (total 237,390tok)\n",
      "step 23760: loss 0.01 5.13ms 1949tok/s (total 237,590tok)\n",
      "step 23780: loss 7.16 5.61ms 1783tok/s (total 237,790tok)\n",
      "step 23800: loss 2.30 6.48ms 1544tok/s (total 237,990tok)\n",
      "Oh my lord\n",
      ", with the and of\n",
      ".\n",
      "S\n",
      "step 23820: loss 0.33 4.64ms 2154tok/s (total 238,190tok)\n",
      "step 23840: loss 0.20 9.31ms 1075tok/s (total 238,390tok)\n",
      "step 23860: loss 8.07 6.80ms 1471tok/s (total 238,590tok)\n",
      "step 23880: loss 11.47 8.91ms 1122tok/s (total 238,790tok)\n",
      "step 23900: loss 0.20 9.83ms 1018tok/s (total 238,990tok)\n",
      "Oh my lord\n",
      "CORIOLANUS:\n",
      "\n",
      "\n",
      "\n",
      "step 23920: loss 9.75 19.69ms 508tok/s (total 239,190tok)\n",
      "step 23940: loss 8.66 9.02ms 1109tok/s (total 239,390tok)\n",
      "step 23960: loss 0.38 13.59ms 736tok/s (total 239,590tok)\n",
      "step 23980: loss 3.86 14.24ms 702tok/s (total 239,790tok)\n",
      "step 24000: loss 12.24 13.55ms 738tok/s (total 239,990tok)\n",
      "Oh my lord\n",
      "MENENIUS:,:,:\n",
      "step 24020: loss 10.33 7.76ms 1288tok/s (total 240,190tok)\n",
      "step 24040: loss 5.68 7.97ms 1254tok/s (total 240,390tok)\n",
      "step 24060: loss 0.08 18.05ms 554tok/s (total 240,590tok)\n",
      "step 24080: loss 8.05 21.05ms 475tok/s (total 240,790tok)\n",
      "step 24100: loss 0.87 21.00ms 476tok/s (total 240,990tok)\n",
      "Oh my lord\n",
      "CORIOLANUS:\n",
      "\n",
      "\n",
      "\n",
      "step 24120: loss 0.03 21.13ms 473tok/s (total 241,190tok)\n",
      "step 24140: loss 0.02 21.04ms 475tok/s (total 241,390tok)\n",
      "step 24160: loss 11.06 21.17ms 472tok/s (total 241,590tok)\n",
      "step 24180: loss 2.86 21.31ms 469tok/s (total 241,790tok)\n",
      "step 24200: loss 0.81 21.11ms 474tok/s (total 241,990tok)\n",
      "Oh my lord\n",
      "SINIUS:,:,:\n",
      "step 24220: loss 0.15 21.04ms 475tok/s (total 242,190tok)\n",
      "step 24240: loss 9.18 21.12ms 473tok/s (total 242,390tok)\n",
      "step 24260: loss 6.27 21.06ms 475tok/s (total 242,590tok)\n",
      "step 24280: loss 1.61 21.10ms 474tok/s (total 242,790tok)\n",
      "step 24300: loss 6.81 21.15ms 473tok/s (total 242,990tok)\n",
      "Oh my lord\n",
      "CORIOLANUS:!\n",
      " I\n",
      "step 24320: loss 7.16 21.11ms 474tok/s (total 243,190tok)\n",
      "step 24340: loss 0.14 21.19ms 472tok/s (total 243,390tok)\n",
      "step 24360: loss 4.65 21.06ms 475tok/s (total 243,590tok)\n",
      "step 24380: loss 4.71 21.19ms 472tok/s (total 243,790tok)\n",
      "step 24400: loss 11.88 21.18ms 472tok/s (total 243,990tok)\n",
      "Oh my lord\n",
      "SINIUS:,:,:\n",
      "step 24420: loss 0.07 21.21ms 472tok/s (total 244,190tok)\n",
      "step 24440: loss 0.03 21.09ms 474tok/s (total 244,390tok)\n",
      "step 24460: loss 6.12 21.58ms 463tok/s (total 244,590tok)\n",
      "step 24480: loss 6.49 21.15ms 473tok/s (total 244,790tok)\n",
      "step 24500: loss 0.04 21.05ms 475tok/s (total 244,990tok)\n",
      "Oh my lord\n",
      "CORIOLANUS:\n",
      " that\n",
      "\n",
      "step 24520: loss 4.03 21.28ms 470tok/s (total 245,190tok)\n",
      "step 24540: loss 11.21 21.15ms 473tok/s (total 245,390tok)\n",
      "step 24560: loss 13.50 21.19ms 472tok/s (total 245,590tok)\n",
      "step 24580: loss 6.24 21.16ms 472tok/s (total 245,790tok)\n",
      "step 24600: loss 0.04 21.20ms 472tok/s (total 245,990tok)\n",
      "Oh my lord\n",
      "SINIUS:,:,:\n",
      "step 24620: loss 7.69 21.22ms 471tok/s (total 246,190tok)\n",
      "step 24640: loss 7.75 21.37ms 468tok/s (total 246,390tok)\n",
      "step 24660: loss 7.35 21.12ms 474tok/s (total 246,590tok)\n",
      "step 24680: loss 5.23 21.15ms 473tok/s (total 246,790tok)\n",
      "step 24700: loss 2.39 21.11ms 474tok/s (total 246,990tok)\n",
      "Oh my lord,\n",
      " the in the,\n",
      " in the in\n",
      "step 24720: loss 5.77 21.10ms 474tok/s (total 247,190tok)\n",
      "step 24740: loss 7.42 21.25ms 470tok/s (total 247,390tok)\n",
      "step 24760: loss 5.57 21.22ms 471tok/s (total 247,590tok)\n",
      "step 24780: loss 8.21 20.99ms 476tok/s (total 247,790tok)\n",
      "step 24800: loss 2.22 21.24ms 471tok/s (total 247,990tok)\n",
      "Oh my lord,\n",
      "SINIUS:\n",
      ",\n",
      "\n",
      "step 24820: loss 4.13 21.36ms 468tok/s (total 248,190tok)\n",
      "step 24840: loss 3.80 21.41ms 467tok/s (total 248,390tok)\n",
      "step 24860: loss 4.32 21.28ms 470tok/s (total 248,590tok)\n",
      "step 24880: loss 11.83 21.25ms 471tok/s (total 248,790tok)\n",
      "step 24900: loss 1.02 21.18ms 472tok/s (total 248,990tok)\n",
      "Oh my lord,\n",
      "SINIUS:\n",
      "\n",
      "\n",
      "\n",
      "step 24920: loss 9.53 21.27ms 470tok/s (total 249,190tok)\n",
      "step 24940: loss 4.17 21.12ms 473tok/s (total 249,390tok)\n",
      "step 24960: loss 4.34 21.91ms 456tok/s (total 249,590tok)\n",
      "step 24980: loss 12.17 21.12ms 474tok/s (total 249,790tok)\n",
      "step 25000: loss 12.33 21.52ms 465tok/s (total 249,990tok)\n",
      "Oh my lord,\n",
      "CORIOLANUS: I\n",
      "\n",
      "step 25020: loss 9.37 21.13ms 473tok/s (total 250,190tok)\n",
      "step 25040: loss 8.16 21.15ms 473tok/s (total 250,390tok)\n",
      "step 25060: loss 5.06 21.17ms 472tok/s (total 250,590tok)\n",
      "step 25080: loss 8.54 21.28ms 470tok/s (total 250,790tok)\n",
      "step 25100: loss 8.14 21.11ms 474tok/s (total 250,990tok)\n",
      "Oh my lord,\n",
      ",\n",
      "CORIOLANUS:\n",
      "step 25120: loss 6.91 20.98ms 477tok/s (total 251,190tok)\n",
      "step 25140: loss 1.45 20.72ms 483tok/s (total 251,390tok)\n",
      "step 25160: loss 0.77 20.78ms 481tok/s (total 251,590tok)\n",
      "step 25180: loss 3.86 20.79ms 481tok/s (total 251,790tok)\n",
      "step 25200: loss 5.42 20.89ms 479tok/s (total 251,990tok)\n",
      "Oh my lord,\n",
      ", and is the!\n",
      "SIC\n",
      "step 25220: loss 1.79 21.06ms 475tok/s (total 252,190tok)\n",
      "step 25240: loss 8.50 21.15ms 473tok/s (total 252,390tok)\n",
      "step 25260: loss 1.11 21.13ms 473tok/s (total 252,590tok)\n",
      "step 25280: loss 2.66 21.00ms 476tok/s (total 252,790tok)\n",
      "step 25300: loss 5.01 21.17ms 472tok/s (total 252,990tok)\n",
      "Oh my lord,\n",
      ",.,.\n",
      "CORIOL\n",
      "step 25320: loss 7.81 21.21ms 472tok/s (total 253,190tok)\n",
      "step 25340: loss 12.08 20.91ms 478tok/s (total 253,390tok)\n",
      "step 25360: loss 6.82 21.03ms 476tok/s (total 253,590tok)\n",
      "step 25380: loss 5.99 21.10ms 474tok/s (total 253,790tok)\n",
      "step 25400: loss 0.22 20.98ms 477tok/s (total 253,990tok)\n",
      "Oh my lord,\n",
      "That the of\n",
      "That;That'd\n",
      "step 25420: loss 1.95 21.02ms 476tok/s (total 254,190tok)\n",
      "step 25440: loss 5.65 20.89ms 479tok/s (total 254,390tok)\n",
      "step 25460: loss 6.65 21.36ms 468tok/s (total 254,590tok)\n",
      "step 25480: loss 6.15 20.85ms 480tok/s (total 254,790tok)\n",
      "step 25500: loss 6.72 21.08ms 474tok/s (total 254,990tok)\n",
      "Oh my lord,\n",
      ", you you,I the of,\n",
      "step 25520: loss 6.93 20.98ms 477tok/s (total 255,190tok)\n",
      "step 25540: loss 3.94 21.07ms 475tok/s (total 255,390tok)\n",
      "step 25560: loss 10.46 21.01ms 476tok/s (total 255,590tok)\n",
      "step 25580: loss 1.51 21.16ms 473tok/s (total 255,790tok)\n",
      "step 25600: loss 6.00 21.12ms 473tok/s (total 255,990tok)\n",
      "Oh my lord,\n",
      "I.OLANUS:\n",
      ",\n",
      "step 25620: loss 5.06 21.20ms 472tok/s (total 256,190tok)\n",
      "step 25640: loss 12.99 20.96ms 477tok/s (total 256,390tok)\n",
      "step 25660: loss 13.10 22.75ms 440tok/s (total 256,590tok)\n",
      "step 25680: loss 10.95 8.83ms 1132tok/s (total 256,790tok)\n",
      "step 25700: loss 5.07 11.52ms 868tok/s (total 256,990tok)\n",
      "Oh my lord,\n",
      " andI.OLANUS:\n",
      "\n",
      "step 25720: loss 5.13 6.12ms 1634tok/s (total 257,190tok)\n",
      "step 25740: loss 11.96 6.70ms 1493tok/s (total 257,390tok)\n",
      "step 25760: loss 0.09 6.82ms 1466tok/s (total 257,590tok)\n",
      "step 25780: loss 9.13 20.78ms 481tok/s (total 257,790tok)\n",
      "step 25800: loss 6.71 20.85ms 480tok/s (total 257,990tok)\n",
      "Oh my lord,\n",
      "I thee thee thee:\n",
      " thee thee\n",
      "step 25820: loss 6.38 14.93ms 670tok/s (total 258,190tok)\n",
      "step 25840: loss 11.83 13.69ms 730tok/s (total 258,390tok)\n",
      "step 25860: loss 0.01 4.20ms 2383tok/s (total 258,590tok)\n",
      "step 25880: loss 4.26 4.70ms 2128tok/s (total 258,790tok)\n",
      "step 25900: loss 5.48 4.52ms 2211tok/s (total 258,990tok)\n",
      "Oh my lord,\n",
      "I' the the of and\n",
      "'\n",
      "step 25920: loss 3.40 4.07ms 2457tok/s (total 259,190tok)\n",
      "step 25940: loss 9.79 4.41ms 2268tok/s (total 259,390tok)\n",
      "step 25960: loss 10.45 18.04ms 554tok/s (total 259,590tok)\n",
      "step 25980: loss 5.61 4.45ms 2246tok/s (total 259,790tok)\n",
      "step 26000: loss 12.12 21.11ms 474tok/s (total 259,990tok)\n",
      "Oh my lord\n",
      "That of the\n",
      "ThatThat\n",
      "ThatThat\n",
      "step 26020: loss 10.30 11.67ms 857tok/s (total 260,190tok)\n",
      "step 26040: loss 8.15 19.94ms 502tok/s (total 260,390tok)\n",
      "step 26060: loss 1.17 21.25ms 471tok/s (total 260,590tok)\n",
      "step 26080: loss 6.94 16.07ms 622tok/s (total 260,790tok)\n",
      "step 26100: loss 3.93 17.03ms 587tok/s (total 260,990tok)\n",
      "Oh my lord,\n",
      "I.\n",
      "OLUS:\n",
      "\n",
      "\n",
      "step 26120: loss 12.01 15.00ms 667tok/s (total 261,190tok)\n",
      "step 26140: loss 0.12 10.54ms 949tok/s (total 261,390tok)\n",
      "step 26160: loss 12.57 21.98ms 455tok/s (total 261,590tok)\n",
      "step 26180: loss 8.55 21.38ms 468tok/s (total 261,790tok)\n",
      "step 26200: loss 0.14 21.48ms 466tok/s (total 261,990tok)\n",
      "Oh my lord.\n",
      "\n",
      "\n",
      "\n",
      "\n",
      "\n",
      "\n",
      "\n",
      "\n",
      "\n",
      "step 26220: loss 9.13 21.30ms 470tok/s (total 262,190tok)\n",
      "step 26240: loss 8.86 18.61ms 537tok/s (total 262,390tok)\n",
      "step 26260: loss 6.27 14.26ms 701tok/s (total 262,590tok)\n",
      "step 26280: loss 0.00 21.40ms 467tok/s (total 262,790tok)\n",
      "step 26300: loss 7.45 21.41ms 467tok/s (total 262,990tok)\n",
      "Oh my lord.\n",
      "\n",
      "\n",
      "\n",
      "\n",
      "\n",
      "\n",
      "\n",
      "\n",
      "\n",
      "step 26320: loss 3.21 19.19ms 521tok/s (total 263,190tok)\n",
      "step 26340: loss 0.18 21.45ms 466tok/s (total 263,390tok)\n",
      "step 26360: loss 4.96 21.52ms 465tok/s (total 263,590tok)\n",
      "step 26380: loss 7.04 21.79ms 459tok/s (total 263,790tok)\n",
      "step 26400: loss 7.63 17.38ms 575tok/s (total 263,990tok)\n",
      "Oh my lord?\n",
      "VOLNIA:\n",
      "\n",
      "\n",
      "\n",
      "\n",
      "step 26420: loss 0.70 18.17ms 550tok/s (total 264,190tok)\n",
      "step 26440: loss 5.64 21.45ms 466tok/s (total 264,390tok)\n",
      "step 26460: loss 4.86 18.01ms 555tok/s (total 264,590tok)\n",
      "step 26480: loss 3.65 21.15ms 473tok/s (total 264,790tok)\n",
      "step 26500: loss 0.13 20.20ms 495tok/s (total 264,990tok)\n",
      "Oh my lord\n",
      "SICINIUS:\n",
      "?\n",
      "\n",
      "step 26520: loss 2.47 21.50ms 465tok/s (total 265,190tok)\n",
      "step 26540: loss 7.34 22.04ms 454tok/s (total 265,390tok)\n",
      "step 26560: loss 4.86 21.31ms 469tok/s (total 265,590tok)\n",
      "step 26580: loss 3.71 21.58ms 463tok/s (total 265,790tok)\n",
      "step 26600: loss 5.69 21.30ms 470tok/s (total 265,990tok)\n",
      "Oh my lord\n",
      "IUS:\n",
      ", he and he he\n",
      "step 26620: loss 8.73 21.51ms 465tok/s (total 266,190tok)\n",
      "step 26640: loss 5.04 19.36ms 516tok/s (total 266,390tok)\n",
      "step 26660: loss 2.20 21.63ms 462tok/s (total 266,590tok)\n",
      "step 26680: loss 0.08 12.84ms 779tok/s (total 266,790tok)\n",
      "step 26700: loss 8.98 16.64ms 601tok/s (total 266,990tok)\n",
      "Oh my lord\n",
      ",N, and.\n",
      "VOLUMIA\n",
      "step 26720: loss 7.68 18.35ms 545tok/s (total 267,190tok)\n",
      "step 26740: loss 3.26 16.82ms 595tok/s (total 267,390tok)\n",
      "step 26760: loss 0.48 17.15ms 583tok/s (total 267,590tok)\n",
      "step 26780: loss 0.03 16.98ms 589tok/s (total 267,790tok)\n",
      "step 26800: loss 4.60 17.29ms 578tok/s (total 267,990tok)\n",
      "Oh my lord\n",
      "VOLNIA:,:,:\n",
      "\n",
      "step 26820: loss 4.96 17.89ms 559tok/s (total 268,190tok)\n",
      "step 26840: loss 3.47 16.01ms 624tok/s (total 268,390tok)\n",
      "step 26860: loss 0.03 20.64ms 484tok/s (total 268,590tok)\n",
      "step 26880: loss 7.99 14.20ms 704tok/s (total 268,790tok)\n",
      "step 26900: loss 11.95 20.52ms 487tok/s (total 268,990tok)\n",
      "Oh my lord.\n",
      "VOLUMIA:\n",
      "\n",
      "\n",
      "\n",
      "\n",
      "step 26920: loss 2.00 18.67ms 536tok/s (total 269,190tok)\n",
      "step 26940: loss 3.28 9.50ms 1052tok/s (total 269,390tok)\n",
      "step 26960: loss 2.49 20.62ms 485tok/s (total 269,590tok)\n",
      "step 26980: loss 12.11 21.57ms 464tok/s (total 269,790tok)\n",
      "step 27000: loss 6.75 21.39ms 468tok/s (total 269,990tok)\n",
      "Oh my lord,\n",
      ",: and\n",
      " I, you.\n",
      "step 27020: loss 6.36 19.61ms 510tok/s (total 270,190tok)\n",
      "step 27040: loss 0.04 20.04ms 499tok/s (total 270,390tok)\n",
      "step 27060: loss 3.93 22.25ms 449tok/s (total 270,590tok)\n",
      "step 27080: loss 6.75 21.65ms 462tok/s (total 270,790tok)\n",
      "step 27100: loss 4.52 18.14ms 551tok/s (total 270,990tok)\n",
      "Oh my lord.\n",
      " I?\n",
      ":\n",
      " I\n",
      "V\n",
      "step 27120: loss 4.64 8.87ms 1128tok/s (total 271,190tok)\n",
      "step 27140: loss 12.38 20.94ms 477tok/s (total 271,390tok)\n",
      "step 27160: loss 4.79 19.30ms 518tok/s (total 271,590tok)\n",
      "step 27180: loss 11.04 21.35ms 468tok/s (total 271,790tok)\n",
      "step 27200: loss 3.69 9.96ms 1004tok/s (total 271,990tok)\n",
      "Oh my lord, and\n",
      " you the in in the, in\n",
      "step 27220: loss 4.09 21.13ms 473tok/s (total 272,190tok)\n",
      "step 27240: loss 12.77 21.81ms 459tok/s (total 272,390tok)\n",
      "step 27260: loss 9.07 21.30ms 469tok/s (total 272,590tok)\n",
      "step 27280: loss 12.20 21.28ms 470tok/s (total 272,790tok)\n",
      "step 27300: loss 2.81 15.95ms 627tok/s (total 272,990tok)\n",
      "Oh my lord,\n",
      " and is the\n",
      " to.\n",
      "\n",
      "\n",
      "step 27320: loss 5.00 21.51ms 465tok/s (total 273,190tok)\n",
      "step 27340: loss 0.58 15.27ms 655tok/s (total 273,390tok)\n",
      "step 27360: loss 4.42 21.24ms 471tok/s (total 273,590tok)\n",
      "step 27380: loss 3.29 15.15ms 660tok/s (total 273,790tok)\n",
      "step 27400: loss 12.58 21.56ms 464tok/s (total 273,990tok)\n",
      "Oh my lord,\n",
      " and is.\n",
      "VV: I\n",
      "step 27420: loss 2.88 21.42ms 467tok/s (total 274,190tok)\n",
      "step 27440: loss 5.12 18.38ms 544tok/s (total 274,390tok)\n",
      "step 27460: loss 6.08 21.70ms 461tok/s (total 274,590tok)\n",
      "step 27480: loss 5.72 14.20ms 704tok/s (total 274,790tok)\n",
      "step 27500: loss 0.72 19.10ms 524tok/s (total 274,990tok)\n",
      "Oh my lord, you and\n",
      " you to.\n",
      "I you\n",
      "step 27520: loss 1.33 20.22ms 495tok/s (total 275,190tok)\n",
      "step 27540: loss 6.60 20.54ms 487tok/s (total 275,390tok)\n",
      "step 27560: loss 6.31 18.71ms 534tok/s (total 275,590tok)\n",
      "step 27580: loss 1.87 16.39ms 610tok/s (total 275,790tok)\n",
      "step 27600: loss 4.27 18.88ms 530tok/s (total 275,990tok)\n",
      "Oh my lord, and\n",
      " of.\n",
      "VV\n",
      "ce\n",
      "step 27620: loss 4.10 19.91ms 502tok/s (total 276,190tok)\n",
      "step 27640: loss 0.01 21.38ms 468tok/s (total 276,390tok)\n",
      "step 27660: loss 6.85 21.32ms 469tok/s (total 276,590tok)\n",
      "step 27680: loss 4.47 21.26ms 470tok/s (total 276,790tok)\n",
      "step 27700: loss 7.97 21.67ms 461tok/s (total 276,990tok)\n",
      "Oh my lord,\n",
      " and I that that in the of\n",
      "\n",
      "step 27720: loss 1.40 21.12ms 473tok/s (total 277,190tok)\n",
      "step 27740: loss 7.77 20.90ms 478tok/s (total 277,390tok)\n",
      "step 27760: loss 5.50 21.00ms 476tok/s (total 277,590tok)\n",
      "step 27780: loss 5.92 20.98ms 477tok/s (total 277,790tok)\n",
      "step 27800: loss 7.76 20.78ms 481tok/s (total 277,990tok)\n",
      "Oh my lord,\n",
      " and is the of.\n",
      "\n",
      "\n",
      "\n",
      "step 27820: loss 0.06 20.98ms 477tok/s (total 278,190tok)\n",
      "step 27840: loss 12.64 21.18ms 472tok/s (total 278,390tok)\n",
      "step 27860: loss 6.93 21.11ms 474tok/s (total 278,590tok)\n",
      "step 27880: loss 5.69 21.23ms 471tok/s (total 278,790tok)\n",
      "step 27900: loss 11.71 21.18ms 472tok/s (total 278,990tok)\n",
      "Oh my lord,\n",
      ", and,,,,,,\n",
      "step 27920: loss 7.07 21.20ms 472tok/s (total 279,190tok)\n",
      "step 27940: loss 4.72 20.99ms 476tok/s (total 279,390tok)\n",
      "step 27960: loss 5.96 21.20ms 472tok/s (total 279,590tok)\n",
      "step 27980: loss 6.74 21.13ms 473tok/s (total 279,790tok)\n",
      "step 28000: loss 7.66 21.13ms 473tok/s (total 279,990tok)\n",
      "Oh my lord,\n",
      " and I: me me.\n",
      " I\n",
      "step 28020: loss 12.38 21.35ms 468tok/s (total 280,190tok)\n",
      "step 28040: loss 11.79 21.19ms 472tok/s (total 280,390tok)\n",
      "step 28060: loss 9.06 21.19ms 472tok/s (total 280,590tok)\n",
      "step 28080: loss 5.37 21.12ms 473tok/s (total 280,790tok)\n",
      "step 28100: loss 1.45 21.18ms 472tok/s (total 280,990tok)\n",
      "Oh my lord.\n",
      "\n",
      "\n",
      "\n",
      "\n",
      "\n",
      "\n",
      "\n",
      "\n",
      "\n",
      "step 28120: loss 3.08 21.16ms 473tok/s (total 281,190tok)\n",
      "step 28140: loss 5.30 21.36ms 468tok/s (total 281,390tok)\n",
      "step 28160: loss 5.77 21.26ms 470tok/s (total 281,590tok)\n",
      "step 28180: loss 4.91 21.20ms 472tok/s (total 281,790tok)\n",
      "step 28200: loss 0.10 21.12ms 473tok/s (total 281,990tok)\n",
      "Oh my lord,\n",
      " you?\n",
      "CORIOLANUS\n",
      "step 28220: loss 2.22 21.26ms 470tok/s (total 282,190tok)\n",
      "step 28240: loss 8.72 21.23ms 471tok/s (total 282,390tok)\n",
      "step 28260: loss 0.48 21.20ms 472tok/s (total 282,590tok)\n",
      "step 28280: loss 6.53 21.11ms 474tok/s (total 282,790tok)\n",
      "step 28300: loss 5.51 21.23ms 471tok/s (total 282,990tok)\n",
      "Oh my lord.\n",
      "\n",
      "\n",
      "\n",
      "\n",
      "\n",
      "\n",
      "\n",
      "\n",
      "\n",
      "step 28320: loss 4.47 20.94ms 478tok/s (total 283,190tok)\n",
      "step 28340: loss 4.58 21.15ms 473tok/s (total 283,390tok)\n",
      "step 28360: loss 4.37 20.84ms 480tok/s (total 283,590tok)\n",
      "step 28380: loss 13.19 21.20ms 472tok/s (total 283,790tok)\n",
      "step 28400: loss 2.33 21.44ms 466tok/s (total 283,990tok)\n",
      "Oh my lord.\n",
      "\n",
      "\n",
      "\n",
      "\n",
      "\n",
      "\n",
      "\n",
      "\n",
      "\n",
      "step 28420: loss 12.57 21.38ms 468tok/s (total 284,190tok)\n",
      "step 28440: loss 0.45 21.30ms 470tok/s (total 284,390tok)\n",
      "step 28460: loss 3.13 21.30ms 469tok/s (total 284,590tok)\n",
      "step 28480: loss 2.65 21.12ms 473tok/s (total 284,790tok)\n",
      "step 28500: loss 0.23 21.23ms 471tok/s (total 284,990tok)\n",
      "Oh my lord.\n",
      "\n",
      "\n",
      "\n",
      "\n",
      "\n",
      "\n",
      "\n",
      "\n",
      "\n",
      "step 28520: loss 11.41 21.07ms 475tok/s (total 285,190tok)\n",
      "step 28540: loss 0.09 21.10ms 474tok/s (total 285,390tok)\n",
      "step 28560: loss 0.30 21.03ms 475tok/s (total 285,590tok)\n",
      "step 28580: loss 3.10 21.04ms 475tok/s (total 285,790tok)\n",
      "step 28600: loss 5.11 21.16ms 473tok/s (total 285,990tok)\n",
      "Oh my lord.\n",
      "IOLANUS:\n",
      "\n",
      "\n",
      "\n",
      "step 28620: loss 8.34 21.06ms 475tok/s (total 286,190tok)\n",
      "step 28640: loss 5.08 21.17ms 472tok/s (total 286,390tok)\n",
      "step 28660: loss 5.89 21.31ms 469tok/s (total 286,590tok)\n",
      "step 28680: loss 6.16 21.05ms 475tok/s (total 286,790tok)\n",
      "step 28700: loss 0.94 21.19ms 472tok/s (total 286,990tok)\n",
      "Oh my lord,\n",
      " and with!I\n",
      "OLANUS\n",
      "step 28720: loss 3.27 21.21ms 472tok/s (total 287,190tok)\n",
      "step 28740: loss 0.27 21.19ms 472tok/s (total 287,390tok)\n",
      "step 28760: loss 6.24 21.18ms 472tok/s (total 287,590tok)\n",
      "step 28780: loss 3.11 21.19ms 472tok/s (total 287,790tok)\n",
      "step 28800: loss 6.30 21.55ms 464tok/s (total 287,990tok)\n",
      "Oh my lord,\n",
      " thou?CORIOLANUS:\n",
      "step 28820: loss 4.56 21.18ms 472tok/s (total 288,190tok)\n",
      "step 28840: loss 1.27 21.17ms 472tok/s (total 288,390tok)\n",
      "step 28860: loss 6.80 21.16ms 473tok/s (total 288,590tok)\n",
      "step 28880: loss 0.32 21.26ms 470tok/s (total 288,790tok)\n",
      "step 28900: loss 7.84 21.23ms 471tok/s (total 288,990tok)\n",
      "Oh my lord,\n",
      " thy thy?\n",
      "CORIOLAN\n",
      "step 28920: loss 6.89 21.36ms 468tok/s (total 289,190tok)\n",
      "step 28940: loss 10.34 21.26ms 470tok/s (total 289,390tok)\n",
      "step 28960: loss 0.07 21.19ms 472tok/s (total 289,590tok)\n",
      "step 28980: loss 3.48 21.21ms 472tok/s (total 289,790tok)\n",
      "step 29000: loss 7.50 21.20ms 472tok/s (total 289,990tok)\n",
      "Oh my lord,\n",
      " and thy thy name to name.\n",
      "\n",
      "step 29020: loss 13.15 21.21ms 471tok/s (total 290,190tok)\n",
      "step 29040: loss 6.35 21.47ms 466tok/s (total 290,390tok)\n",
      "step 29060: loss 12.24 21.10ms 474tok/s (total 290,590tok)\n",
      "step 29080: loss 3.21 21.95ms 455tok/s (total 290,790tok)\n",
      "step 29100: loss 3.74 21.18ms 472tok/s (total 290,990tok)\n",
      "Oh my lord,\n",
      " and the of\n",
      ", and me\n",
      "\n",
      "step 29120: loss 1.62 21.31ms 469tok/s (total 291,190tok)\n",
      "step 29140: loss 7.40 21.42ms 467tok/s (total 291,390tok)\n",
      "step 29160: loss 1.47 21.30ms 469tok/s (total 291,590tok)\n",
      "step 29180: loss 12.18 21.43ms 467tok/s (total 291,790tok)\n",
      "step 29200: loss 2.91 21.29ms 470tok/s (total 291,990tok)\n",
      "Oh my lord,\n",
      "I of, the of\n",
      ", and\n",
      "step 29220: loss 4.90 21.32ms 469tok/s (total 292,190tok)\n",
      "step 29240: loss 8.09 21.28ms 470tok/s (total 292,390tok)\n",
      "step 29260: loss 5.91 21.32ms 469tok/s (total 292,590tok)\n",
      "step 29280: loss 9.89 21.15ms 473tok/s (total 292,790tok)\n",
      "step 29300: loss 10.32 21.23ms 471tok/s (total 292,990tok)\n",
      "Oh my lord,\n",
      "I thee thee thee: my I my\n",
      "step 29320: loss 5.73 21.16ms 473tok/s (total 293,190tok)\n",
      "step 29340: loss 2.54 21.17ms 472tok/s (total 293,390tok)\n",
      "step 29360: loss 7.79 21.15ms 473tok/s (total 293,590tok)\n",
      "step 29380: loss 12.71 21.18ms 472tok/s (total 293,790tok)\n",
      "step 29400: loss 12.76 21.14ms 473tok/s (total 293,990tok)\n",
      "Oh my lord,\n",
      ", and thy to thy thy,\n",
      "\n",
      "step 29420: loss 5.59 21.32ms 469tok/s (total 294,190tok)\n",
      "step 29440: loss 3.98 21.20ms 472tok/s (total 294,390tok)\n",
      "step 29460: loss 7.63 21.24ms 471tok/s (total 294,590tok)\n",
      "step 29480: loss 4.42 21.18ms 472tok/s (total 294,790tok)\n",
      "step 29500: loss 9.97 21.17ms 472tok/s (total 294,990tok)\n",
      "Oh my lord,\n",
      " I thee thee.\n",
      "AUI\n",
      "\n",
      "step 29520: loss 5.37 21.09ms 474tok/s (total 295,190tok)\n",
      "step 29540: loss 6.07 21.12ms 474tok/s (total 295,390tok)\n",
      "step 29560: loss 9.21 21.14ms 473tok/s (total 295,590tok)\n",
      "step 29580: loss 8.52 21.13ms 473tok/s (total 295,790tok)\n",
      "step 29600: loss 7.92 21.05ms 475tok/s (total 295,990tok)\n",
      "Oh my lord,\n",
      " I and thy\n",
      "ThTh theeTh\n",
      "step 29620: loss 4.96 21.20ms 472tok/s (total 296,190tok)\n",
      "step 29640: loss 12.49 21.06ms 475tok/s (total 296,390tok)\n",
      "step 29660: loss 12.49 21.18ms 472tok/s (total 296,590tok)\n",
      "step 29680: loss 5.49 21.14ms 473tok/s (total 296,790tok)\n",
      "step 29700: loss 11.72 22.28ms 449tok/s (total 296,990tok)\n",
      "Oh my lord,\n",
      " and I have\n",
      " thy, and thy\n",
      "step 29720: loss 1.37 21.20ms 472tok/s (total 297,190tok)\n",
      "step 29740: loss 6.46 21.27ms 470tok/s (total 297,390tok)\n",
      "step 29760: loss 7.12 21.24ms 471tok/s (total 297,590tok)\n",
      "step 29780: loss 6.50 21.39ms 468tok/s (total 297,790tok)\n",
      "step 29800: loss 6.90 21.34ms 469tok/s (total 297,990tok)\n",
      "Oh my lord,\n",
      " and,\n",
      "And to the of\n",
      "\n",
      "step 29820: loss 2.82 21.21ms 471tok/s (total 298,190tok)\n",
      "step 29840: loss 0.23 21.17ms 472tok/s (total 298,390tok)\n",
      "step 29860: loss 6.73 21.37ms 468tok/s (total 298,590tok)\n",
      "step 29880: loss 8.87 21.18ms 472tok/s (total 298,790tok)\n",
      "step 29900: loss 7.64 21.09ms 474tok/s (total 298,990tok)\n",
      "Oh my lord,\n",
      " and thou of thou,\n",
      " and thou\n",
      "step 29920: loss 7.12 21.19ms 472tok/s (total 299,190tok)\n",
      "step 29940: loss 4.48 21.36ms 468tok/s (total 299,390tok)\n",
      "step 29960: loss 6.00 21.27ms 470tok/s (total 299,590tok)\n",
      "step 29980: loss 4.66 21.19ms 472tok/s (total 299,790tok)\n",
      "step 30000: loss 1.98 21.20ms 472tok/s (total 299,990tok)\n",
      "Oh my lord,\n",
      ".\n",
      "CORIOLANUS:\n",
      "step 30020: loss 1.50 21.21ms 472tok/s (total 300,190tok)\n",
      "step 30040: loss 6.36 21.34ms 469tok/s (total 300,390tok)\n",
      "step 30060: loss 5.38 21.10ms 474tok/s (total 300,590tok)\n",
      "step 30080: loss 0.76 21.20ms 472tok/s (total 300,790tok)\n",
      "step 30100: loss 2.80 21.19ms 472tok/s (total 300,990tok)\n",
      "Oh my lord,\n",
      " and.\n",
      "manman:\n",
      " I\n",
      "step 30120: loss 6.78 21.22ms 471tok/s (total 301,190tok)\n",
      "step 30140: loss 7.07 21.18ms 472tok/s (total 301,390tok)\n",
      "step 30160: loss 2.02 21.29ms 470tok/s (total 301,590tok)\n",
      "step 30180: loss 6.81 21.38ms 468tok/s (total 301,790tok)\n",
      "step 30200: loss 10.23 21.21ms 471tok/s (total 301,990tok)\n",
      "Oh my lord,..\n",
      " I.\n",
      "IOLUS\n",
      "step 30220: loss 6.47 21.16ms 473tok/s (total 302,190tok)\n",
      "step 30240: loss 3.43 21.19ms 472tok/s (total 302,390tok)\n",
      "step 30260: loss 2.79 21.37ms 468tok/s (total 302,590tok)\n",
      "step 30280: loss 1.72 21.16ms 473tok/s (total 302,790tok)\n",
      "step 30300: loss 13.02 21.17ms 472tok/s (total 302,990tok)\n",
      "Oh my lord,\n",
      ".\n",
      " Servingman:\n",
      ",,\n",
      "step 30320: loss 6.06 21.48ms 466tok/s (total 303,190tok)\n",
      "step 30340: loss 3.70 21.19ms 472tok/s (total 303,390tok)\n",
      "step 30360: loss 4.79 21.35ms 468tok/s (total 303,590tok)\n",
      "step 30380: loss 3.97 21.25ms 471tok/s (total 303,790tok)\n",
      "step 30400: loss 0.09 21.29ms 470tok/s (total 303,990tok)\n",
      "Oh my lord,..\n",
      "I.\n",
      "US\n",
      " Serving\n",
      "step 30420: loss 4.47 21.21ms 471tok/s (total 304,190tok)\n",
      "step 30440: loss 3.29 21.15ms 473tok/s (total 304,390tok)\n",
      "step 30460: loss 0.60 21.24ms 471tok/s (total 304,590tok)\n",
      "step 30480: loss 9.20 21.16ms 473tok/s (total 304,790tok)\n",
      "step 30500: loss 4.74 21.19ms 472tok/s (total 304,990tok)\n",
      "Oh my lord.\n",
      "\n",
      "\n",
      "\n",
      "\n",
      "\n",
      "\n",
      "\n",
      "\n",
      "\n",
      "step 30520: loss 1.29 21.23ms 471tok/s (total 305,190tok)\n",
      "step 30540: loss 6.77 21.19ms 472tok/s (total 305,390tok)\n",
      "step 30560: loss 3.06 21.47ms 466tok/s (total 305,590tok)\n",
      "step 30580: loss 11.72 21.16ms 473tok/s (total 305,790tok)\n",
      "step 30600: loss 0.42 21.17ms 472tok/s (total 305,990tok)\n",
      "Oh my lord, and\n",
      ".\n",
      " Servingman:\n",
      " he\n",
      "step 30620: loss 6.85 21.16ms 473tok/s (total 306,190tok)\n",
      "step 30640: loss 12.23 21.22ms 471tok/s (total 306,390tok)\n",
      "step 30660: loss 5.32 21.15ms 473tok/s (total 306,590tok)\n",
      "step 30680: loss 6.37 21.26ms 470tok/s (total 306,790tok)\n",
      "step 30700: loss 10.67 21.18ms 472tok/s (total 306,990tok)\n",
      "Oh my lord, and the of him.\n",
      "\n",
      "\n",
      "\n",
      "\n",
      "step 30720: loss 6.87 21.17ms 472tok/s (total 307,190tok)\n",
      "step 30740: loss 4.47 21.18ms 472tok/s (total 307,390tok)\n",
      "step 30760: loss 10.14 21.21ms 471tok/s (total 307,590tok)\n",
      "step 30780: loss 2.05 21.21ms 471tok/s (total 307,790tok)\n",
      "step 30800: loss 0.95 21.40ms 467tok/s (total 307,990tok)\n",
      "Oh my lord, and\n",
      " of as as I the.\n",
      "\n",
      "step 30820: loss 3.03 21.11ms 474tok/s (total 308,190tok)\n",
      "step 30840: loss 2.34 21.05ms 475tok/s (total 308,390tok)\n",
      "step 30860: loss 5.62 21.23ms 471tok/s (total 308,590tok)\n",
      "step 30880: loss 2.77 21.16ms 473tok/s (total 308,790tok)\n",
      "step 30900: loss 4.87 21.12ms 473tok/s (total 308,990tok)\n",
      "Oh my lord,\n",
      ", sir, sir, as, sir\n",
      "step 30920: loss 4.62 21.03ms 476tok/s (total 309,190tok)\n",
      "step 30940: loss 0.11 21.22ms 471tok/s (total 309,390tok)\n",
      "step 30960: loss 3.85 21.16ms 472tok/s (total 309,590tok)\n",
      "step 30980: loss 4.81 21.30ms 469tok/s (total 309,790tok)\n",
      "step 31000: loss 1.43 21.14ms 473tok/s (total 309,990tok)\n",
      "Oh my lord,\n",
      " and to.\n",
      "\n",
      "\n",
      "\n",
      "\n",
      "\n",
      "step 31020: loss 2.25 21.17ms 472tok/s (total 310,190tok)\n",
      "step 31040: loss 3.23 21.36ms 468tok/s (total 310,390tok)\n",
      "step 31060: loss 10.33 21.26ms 470tok/s (total 310,590tok)\n",
      "step 31080: loss 6.63 21.45ms 466tok/s (total 310,790tok)\n",
      "step 31100: loss 12.53 21.36ms 468tok/s (total 310,990tok)\n",
      "Oh my lord,,,,,,,,,,\n",
      "step 31120: loss 2.46 21.20ms 472tok/s (total 311,190tok)\n",
      "step 31140: loss 3.13 20.91ms 478tok/s (total 311,390tok)\n",
      "step 31160: loss 2.51 21.51ms 465tok/s (total 311,590tok)\n",
      "step 31180: loss 7.51 4.84ms 2068tok/s (total 311,790tok)\n",
      "step 31200: loss 8.68 7.96ms 1256tok/s (total 311,990tok)\n",
      "Oh my lord,\n",
      " and.\n",
      " Servingman:\n",
      "\n",
      "\n",
      "step 31220: loss 9.82 6.31ms 1585tok/s (total 312,190tok)\n",
      "step 31240: loss 1.99 6.42ms 1557tok/s (total 312,390tok)\n",
      "step 31260: loss 6.17 6.07ms 1647tok/s (total 312,590tok)\n",
      "step 31280: loss 5.98 5.17ms 1936tok/s (total 312,790tok)\n",
      "step 31300: loss 5.02 20.86ms 479tok/s (total 312,990tok)\n",
      "Oh my lord,\n",
      " in, in in the of\n",
      ".\n",
      "step 31320: loss 10.97 19.07ms 524tok/s (total 313,190tok)\n",
      "step 31340: loss 3.17 21.34ms 469tok/s (total 313,390tok)\n",
      "step 31360: loss 4.09 21.75ms 460tok/s (total 313,590tok)\n",
      "step 31380: loss 4.62 6.74ms 1484tok/s (total 313,790tok)\n",
      "step 31400: loss 3.05 4.54ms 2205tok/s (total 313,990tok)\n",
      "Oh my lord.\n",
      "\n",
      "\n",
      "\n",
      "\n",
      "\n",
      "\n",
      "\n",
      "\n",
      "\n",
      "step 31420: loss 0.39 4.27ms 2343tok/s (total 314,190tok)\n",
      "step 31440: loss 5.72 3.82ms 2616tok/s (total 314,390tok)\n",
      "step 31460: loss 5.25 4.58ms 2186tok/s (total 314,590tok)\n",
      "step 31480: loss 4.70 3.82ms 2618tok/s (total 314,790tok)\n",
      "step 31500: loss 0.02 3.91ms 2555tok/s (total 314,990tok)\n",
      "Oh my lord,\n",
      "SICINIUS: and\n",
      "\n",
      "step 31520: loss 5.84 5.66ms 1765tok/s (total 315,190tok)\n",
      "step 31540: loss 0.21 15.01ms 666tok/s (total 315,390tok)\n",
      "step 31560: loss 3.87 4.49ms 2227tok/s (total 315,590tok)\n",
      "step 31580: loss 10.77 20.86ms 479tok/s (total 315,790tok)\n",
      "step 31600: loss 7.22 17.79ms 562tok/s (total 315,990tok)\n",
      "Oh my lord,\n",
      ", and.\n",
      "\n",
      "\n",
      "\n",
      "\n",
      "\n",
      "step 31620: loss 0.01 3.74ms 2673tok/s (total 316,190tok)\n",
      "step 31640: loss 3.01 16.23ms 616tok/s (total 316,390tok)\n",
      "step 31660: loss 0.40 21.60ms 463tok/s (total 316,590tok)\n",
      "step 31680: loss 0.08 11.69ms 855tok/s (total 316,790tok)\n",
      "step 31700: loss 5.66 15.79ms 633tok/s (total 316,990tok)\n",
      "Oh my lord.\n",
      "\n",
      "\n",
      "\n",
      "\n",
      "\n",
      "\n",
      "\n",
      "\n",
      "\n",
      "step 31720: loss 0.03 19.43ms 515tok/s (total 317,190tok)\n",
      "step 31740: loss 1.78 21.13ms 473tok/s (total 317,390tok)\n",
      "step 31760: loss 2.56 20.04ms 499tok/s (total 317,590tok)\n",
      "step 31780: loss 3.99 21.37ms 468tok/s (total 317,790tok)\n",
      "step 31800: loss 6.06 19.91ms 502tok/s (total 317,990tok)\n",
      "Oh my lord.\n",
      "\n",
      "\n",
      "\n",
      "\n",
      "\n",
      "\n",
      "\n",
      "\n",
      "\n",
      "step 31820: loss 11.19 21.78ms 459tok/s (total 318,190tok)\n",
      "step 31840: loss 2.44 7.40ms 1351tok/s (total 318,390tok)\n",
      "step 31860: loss 1.77 17.68ms 566tok/s (total 318,590tok)\n",
      "step 31880: loss 8.18 10.11ms 989tok/s (total 318,790tok)\n",
      "step 31900: loss 4.52 21.17ms 472tok/s (total 318,990tok)\n",
      "Oh my lord,\n",
      "SICINIUS: and\n",
      "\n",
      "step 31920: loss 4.76 20.19ms 495tok/s (total 319,190tok)\n",
      "step 31940: loss 6.35 20.25ms 494tok/s (total 319,390tok)\n",
      "step 31960: loss 8.36 20.58ms 486tok/s (total 319,590tok)\n",
      "step 31980: loss 0.00 19.48ms 513tok/s (total 319,790tok)\n",
      "step 32000: loss 6.90 19.89ms 503tok/s (total 319,990tok)\n",
      "Oh my lord,\n",
      "SICINIUS:\n",
      "\n",
      "\n",
      "step 32020: loss 4.54 19.61ms 510tok/s (total 320,190tok)\n",
      "step 32040: loss 9.37 20.79ms 481tok/s (total 320,390tok)\n",
      "step 32060: loss 10.55 21.19ms 472tok/s (total 320,590tok)\n",
      "step 32080: loss 5.98 21.26ms 470tok/s (total 320,790tok)\n",
      "step 32100: loss 12.12 19.67ms 509tok/s (total 320,990tok)\n",
      "Oh my lord,\n",
      "And the of the\n",
      "And.\n",
      "\n",
      "step 32120: loss 4.25 19.34ms 517tok/s (total 321,190tok)\n",
      "step 32140: loss 6.41 21.48ms 466tok/s (total 321,390tok)\n",
      "step 32160: loss 12.10 14.78ms 677tok/s (total 321,590tok)\n",
      "step 32180: loss 4.26 21.62ms 463tok/s (total 321,790tok)\n",
      "step 32200: loss 5.35 21.17ms 472tok/s (total 321,990tok)\n",
      "Oh my lord.\n",
      "\n",
      "\n",
      "\n",
      "\n",
      "\n",
      "\n",
      "\n",
      "\n",
      "\n",
      "step 32220: loss 4.97 20.96ms 477tok/s (total 322,190tok)\n",
      "step 32240: loss 0.03 21.07ms 475tok/s (total 322,390tok)\n",
      "step 32260: loss 8.31 19.69ms 508tok/s (total 322,590tok)\n",
      "step 32280: loss 6.73 19.62ms 510tok/s (total 322,790tok)\n",
      "step 32300: loss 2.50 11.01ms 908tok/s (total 322,990tok)\n",
      "Oh my lord,\n",
      "And.\n",
      "\n",
      "\n",
      "\n",
      "\n",
      "\n",
      "\n",
      "step 32320: loss 7.14 19.64ms 509tok/s (total 323,190tok)\n",
      "step 32340: loss 1.11 18.74ms 534tok/s (total 323,390tok)\n",
      "step 32360: loss 6.11 21.39ms 468tok/s (total 323,590tok)\n",
      "step 32380: loss 3.60 15.29ms 654tok/s (total 323,790tok)\n",
      "step 32400: loss 0.25 20.07ms 498tok/s (total 323,990tok)\n",
      "Oh my lord.\n",
      "\n",
      "\n",
      "\n",
      "\n",
      "\n",
      "\n",
      "\n",
      "\n",
      "\n",
      "step 32420: loss 1.80 21.37ms 468tok/s (total 324,190tok)\n",
      "step 32440: loss 7.96 19.57ms 511tok/s (total 324,390tok)\n",
      "step 32460: loss 1.55 17.69ms 565tok/s (total 324,590tok)\n",
      "step 32480: loss 0.02 21.55ms 464tok/s (total 324,790tok)\n",
      "step 32500: loss 9.80 21.39ms 467tok/s (total 324,990tok)\n",
      "Oh my lord,\n",
      " and.\n",
      "\n",
      "\n",
      "\n",
      "\n",
      "\n",
      "\n",
      "step 32520: loss 5.98 14.31ms 699tok/s (total 325,190tok)\n",
      "step 32540: loss 3.57 20.49ms 488tok/s (total 325,390tok)\n",
      "step 32560: loss 12.40 19.02ms 526tok/s (total 325,590tok)\n",
      "step 32580: loss 11.59 8.70ms 1150tok/s (total 325,790tok)\n",
      "step 32600: loss 0.10 20.40ms 490tok/s (total 325,990tok)\n",
      "Oh my lord,\n",
      "MENENIUS:?\n",
      "\n",
      "\n",
      "step 32620: loss 5.25 21.45ms 466tok/s (total 326,190tok)\n",
      "step 32640: loss 5.55 6.61ms 1513tok/s (total 326,390tok)\n",
      "step 32660: loss 6.04 18.21ms 549tok/s (total 326,590tok)\n",
      "step 32680: loss 4.05 19.83ms 504tok/s (total 326,790tok)\n",
      "step 32700: loss 1.47 16.41ms 610tok/s (total 326,990tok)\n",
      "Oh my lord,\n",
      "MENENIUS:\n",
      " news?\n",
      "step 32720: loss 8.94 20.32ms 492tok/s (total 327,190tok)\n",
      "step 32740: loss 5.38 19.95ms 501tok/s (total 327,390tok)\n",
      "step 32760: loss 8.37 19.46ms 514tok/s (total 327,590tok)\n",
      "step 32780: loss 0.05 21.56ms 464tok/s (total 327,790tok)\n",
      "step 32800: loss 3.25 21.26ms 470tok/s (total 327,990tok)\n",
      "Oh my lord.\n",
      "\n",
      "\n",
      "\n",
      "\n",
      "\n",
      "\n",
      "\n",
      "\n",
      "\n",
      "step 32820: loss 6.27 21.35ms 468tok/s (total 328,190tok)\n",
      "step 32840: loss 9.91 23.01ms 435tok/s (total 328,390tok)\n",
      "step 32860: loss 5.70 12.98ms 770tok/s (total 328,590tok)\n",
      "step 32880: loss 2.78 20.07ms 498tok/s (total 328,790tok)\n",
      "step 32900: loss 0.52 21.67ms 462tok/s (total 328,990tok)\n",
      "Oh my lord.\n",
      "COMINIUS:\n",
      "\n",
      "\n",
      "\n",
      "step 32920: loss 4.41 21.37ms 468tok/s (total 329,190tok)\n",
      "step 32940: loss 6.23 21.48ms 466tok/s (total 329,390tok)\n",
      "step 32960: loss 3.75 21.38ms 468tok/s (total 329,590tok)\n",
      "step 32980: loss 7.42 21.52ms 465tok/s (total 329,790tok)\n",
      "step 33000: loss 6.45 17.39ms 575tok/s (total 329,990tok)\n",
      "Oh my lord,\n",
      "And\n",
      "MENENIUS:\n",
      "\n",
      "step 33020: loss 3.65 20.38ms 491tok/s (total 330,190tok)\n",
      "step 33040: loss 2.80 21.47ms 466tok/s (total 330,390tok)\n",
      "step 33060: loss 1.63 16.03ms 624tok/s (total 330,590tok)\n",
      "step 33080: loss 6.81 19.65ms 509tok/s (total 330,790tok)\n",
      "step 33100: loss 9.23 14.16ms 706tok/s (total 330,990tok)\n",
      "Oh my lord,\n",
      "And.\n",
      "MENENIUS:\n",
      "step 33120: loss 0.01 20.21ms 495tok/s (total 331,190tok)\n",
      "step 33140: loss 4.89 16.17ms 619tok/s (total 331,390tok)\n",
      "step 33160: loss 11.27 21.12ms 473tok/s (total 331,590tok)\n",
      "step 33180: loss 3.16 21.65ms 462tok/s (total 331,790tok)\n",
      "step 33200: loss 2.81 10.24ms 976tok/s (total 331,990tok)\n",
      "Oh my lord,\n",
      ".\n",
      "MENENIUS:\n",
      "\n",
      "step 33220: loss 2.55 21.74ms 460tok/s (total 332,190tok)\n",
      "step 33240: loss 5.60 19.63ms 509tok/s (total 332,390tok)\n",
      "step 33260: loss 3.88 21.49ms 465tok/s (total 332,590tok)\n",
      "step 33280: loss 11.63 13.20ms 758tok/s (total 332,790tok)\n",
      "step 33300: loss 6.74 18.62ms 537tok/s (total 332,990tok)\n",
      "Oh my lord.\n",
      "MENENIUS:\n",
      " he he\n",
      "step 33320: loss 6.06 21.51ms 465tok/s (total 333,190tok)\n",
      "step 33340: loss 5.14 20.68ms 484tok/s (total 333,390tok)\n",
      "step 33360: loss 0.47 21.55ms 464tok/s (total 333,590tok)\n",
      "step 33380: loss 8.37 21.23ms 471tok/s (total 333,790tok)\n",
      "step 33400: loss 11.94 21.07ms 475tok/s (total 333,990tok)\n",
      "Oh my lord,\n",
      "And.\n",
      " Citizen:\n",
      " I we\n",
      "step 33420: loss 0.06 21.17ms 472tok/s (total 334,190tok)\n",
      "step 33440: loss 2.60 20.96ms 477tok/s (total 334,390tok)\n",
      "step 33460: loss 1.97 21.04ms 475tok/s (total 334,590tok)\n",
      "step 33480: loss 0.01 20.84ms 480tok/s (total 334,790tok)\n",
      "step 33500: loss 10.72 21.04ms 475tok/s (total 334,990tok)\n",
      "Oh my lord,\n",
      "And.\n",
      "\n",
      "\n",
      "\n",
      "\n",
      "\n",
      "\n",
      "step 33520: loss 0.91 21.12ms 473tok/s (total 335,190tok)\n",
      "step 33540: loss 3.52 21.14ms 473tok/s (total 335,390tok)\n",
      "step 33560: loss 5.54 21.19ms 472tok/s (total 335,590tok)\n",
      "step 33580: loss 6.25 21.30ms 470tok/s (total 335,790tok)\n",
      "step 33600: loss 3.16 21.20ms 472tok/s (total 335,990tok)\n",
      "Oh my lord.\n",
      "\n",
      "\n",
      "\n",
      "\n",
      "\n",
      "\n",
      "\n",
      "\n",
      "\n",
      "step 33620: loss 4.87 21.18ms 472tok/s (total 336,190tok)\n",
      "step 33640: loss 0.03 21.13ms 473tok/s (total 336,390tok)\n",
      "step 33660: loss 7.88 21.18ms 472tok/s (total 336,590tok)\n",
      "step 33680: loss 4.59 21.15ms 473tok/s (total 336,790tok)\n",
      "step 33700: loss 7.18 21.23ms 471tok/s (total 336,990tok)\n",
      "Oh my lord,\n",
      "I the.\n",
      "\n",
      "\n",
      "\n",
      "\n",
      "\n",
      "step 33720: loss 8.09 21.12ms 474tok/s (total 337,190tok)\n",
      "step 33740: loss 5.29 21.20ms 472tok/s (total 337,390tok)\n",
      "step 33760: loss 10.43 21.22ms 471tok/s (total 337,590tok)\n",
      "step 33780: loss 4.30 21.19ms 472tok/s (total 337,790tok)\n",
      "step 33800: loss 3.52 21.67ms 462tok/s (total 337,990tok)\n",
      "Oh my lord,\n",
      " I I have him.\n",
      "\n",
      "\n",
      "\n",
      "step 33820: loss 3.64 21.34ms 469tok/s (total 338,190tok)\n",
      "step 33840: loss 4.41 21.25ms 471tok/s (total 338,390tok)\n",
      "step 33860: loss 3.94 21.87ms 457tok/s (total 338,590tok)\n",
      "step 33880: loss 6.45 21.25ms 471tok/s (total 338,790tok)\n",
      "step 33900: loss 2.14 21.99ms 455tok/s (total 338,990tok)\n",
      "Oh my lord,\n",
      " I him.\n",
      "IOLANUS\n",
      "step 33920: loss 10.45 23.47ms 426tok/s (total 339,190tok)\n",
      "step 33940: loss 12.04 21.46ms 466tok/s (total 339,390tok)\n",
      "step 33960: loss 10.12 21.39ms 467tok/s (total 339,590tok)\n",
      "step 33980: loss 5.67 21.47ms 466tok/s (total 339,790tok)\n",
      "step 34000: loss 5.87 21.30ms 470tok/s (total 339,990tok)\n",
      "Oh my lord,\n",
      " I he and.\n",
      "\n",
      "\n",
      "\n",
      "\n",
      "step 34020: loss 2.86 21.09ms 474tok/s (total 340,190tok)\n",
      "step 34040: loss 8.05 21.49ms 465tok/s (total 340,390tok)\n",
      "step 34060: loss 5.89 21.22ms 471tok/s (total 340,590tok)\n",
      "step 34080: loss 1.10 21.26ms 470tok/s (total 340,790tok)\n",
      "step 34100: loss 13.71 21.62ms 463tok/s (total 340,990tok)\n",
      "Oh my lord,\n",
      " I and to the the of.\n",
      "\n",
      "step 34120: loss 9.26 21.34ms 469tok/s (total 341,190tok)\n",
      "step 34140: loss 6.95 21.36ms 468tok/s (total 341,390tok)\n",
      "step 34160: loss 6.00 21.39ms 468tok/s (total 341,590tok)\n",
      "step 34180: loss 7.86 21.37ms 468tok/s (total 341,790tok)\n",
      "step 34200: loss 4.81 21.28ms 470tok/s (total 341,990tok)\n",
      "Oh my lord,\n",
      " to the of the,\n",
      " of the\n",
      "step 34220: loss 6.10 21.17ms 472tok/s (total 342,190tok)\n",
      "step 34240: loss 1.02 21.20ms 472tok/s (total 342,390tok)\n",
      "step 34260: loss 5.37 21.14ms 473tok/s (total 342,590tok)\n",
      "step 34280: loss 3.08 21.12ms 473tok/s (total 342,790tok)\n",
      "step 34300: loss 11.40 21.06ms 475tok/s (total 342,990tok)\n",
      "Oh my lord,\n",
      " I not aTo the of the of\n",
      "step 34320: loss 5.26 21.19ms 472tok/s (total 343,190tok)\n",
      "step 34340: loss 8.32 21.19ms 472tok/s (total 343,390tok)\n",
      "step 34360: loss 4.73 20.98ms 477tok/s (total 343,590tok)\n",
      "step 34380: loss 4.83 21.16ms 473tok/s (total 343,790tok)\n",
      "step 34400: loss 4.05 21.09ms 474tok/s (total 343,990tok)\n",
      "Oh my lord,\n",
      " I.\n",
      "FIDIUS:\n",
      "step 34420: loss 12.45 21.17ms 472tok/s (total 344,190tok)\n",
      "step 34440: loss 2.55 21.16ms 473tok/s (total 344,390tok)\n",
      "step 34460: loss 8.23 22.01ms 454tok/s (total 344,590tok)\n",
      "step 34480: loss 4.25 21.55ms 464tok/s (total 344,790tok)\n",
      "step 34500: loss 0.78 21.92ms 456tok/s (total 344,990tok)\n",
      "Oh my lord\n",
      "IDIUS:?\n",
      "\n",
      "\n",
      "\n",
      "\n",
      "step 34520: loss 12.11 23.10ms 433tok/s (total 345,190tok)\n",
      "step 34540: loss 9.40 22.99ms 435tok/s (total 345,390tok)\n",
      "step 34560: loss 7.46 6.86ms 1458tok/s (total 345,590tok)\n",
      "step 34580: loss 0.04 19.57ms 511tok/s (total 345,790tok)\n",
      "step 34600: loss 5.74 19.41ms 515tok/s (total 345,990tok)\n",
      "Oh my lord,\n",
      "MENENIUS::::\n",
      "step 34620: loss 0.28 21.32ms 469tok/s (total 346,190tok)\n",
      "step 34640: loss 5.91 20.73ms 482tok/s (total 346,390tok)\n",
      "step 34660: loss 9.27 20.77ms 481tok/s (total 346,590tok)\n",
      "step 34680: loss 6.98 17.22ms 581tok/s (total 346,790tok)\n",
      "step 34700: loss 6.83 7.93ms 1262tok/s (total 346,990tok)\n",
      "Oh my lord\n",
      "COMINIUS:\n",
      "I to\n",
      "\n",
      "step 34720: loss 12.92 5.51ms 1815tok/s (total 347,190tok)\n",
      "step 34740: loss 5.03 5.57ms 1795tok/s (total 347,390tok)\n",
      "step 34760: loss 1.60 4.35ms 2299tok/s (total 347,590tok)\n",
      "step 34780: loss 7.56 21.45ms 466tok/s (total 347,790tok)\n",
      "step 34800: loss 13.55 19.63ms 509tok/s (total 347,990tok)\n",
      "Oh my lord,\n",
      "I to the, of, his,\n",
      "step 34820: loss 5.54 19.92ms 502tok/s (total 348,190tok)\n",
      "step 34840: loss 7.58 20.67ms 484tok/s (total 348,390tok)\n",
      "step 34860: loss 7.08 20.15ms 496tok/s (total 348,590tok)\n",
      "step 34880: loss 6.00 20.86ms 479tok/s (total 348,790tok)\n",
      "step 34900: loss 5.24 20.87ms 479tok/s (total 348,990tok)\n",
      "Oh my lord,\n",
      ",And the you your,\n",
      " your\n",
      "step 34920: loss 3.96 13.16ms 760tok/s (total 349,190tok)\n",
      "step 34940: loss 3.07 21.69ms 461tok/s (total 349,390tok)\n",
      "step 34960: loss 0.41 9.17ms 1090tok/s (total 349,590tok)\n",
      "step 34980: loss 0.16 5.13ms 1949tok/s (total 349,790tok)\n",
      "step 35000: loss 6.58 4.65ms 2150tok/s (total 349,990tok)\n",
      "Oh my lord,\n",
      "MENENIUS:\n",
      ", and\n",
      "step 35020: loss 6.64 6.72ms 1487tok/s (total 350,190tok)\n",
      "step 35040: loss 0.00 4.63ms 2159tok/s (total 350,390tok)\n",
      "step 35060: loss 5.22 5.79ms 1728tok/s (total 350,590tok)\n",
      "step 35080: loss 5.78 6.40ms 1564tok/s (total 350,790tok)\n",
      "step 35100: loss 1.63 5.60ms 1784tok/s (total 350,990tok)\n",
      "Oh my lord,\n",
      "I'll.'ll.\n",
      "SIC\n",
      "step 35120: loss 1.12 4.07ms 2459tok/s (total 351,190tok)\n",
      "step 35140: loss 11.95 6.09ms 1642tok/s (total 351,390tok)\n",
      "step 35160: loss 4.42 20.75ms 482tok/s (total 351,590tok)\n",
      "step 35180: loss 6.16 6.25ms 1599tok/s (total 351,790tok)\n",
      "step 35200: loss 6.90 9.05ms 1105tok/s (total 351,990tok)\n",
      "Oh my lord,\n",
      "I and have'd'd the of\n",
      "\n",
      "step 35220: loss 0.11 4.42ms 2262tok/s (total 352,190tok)\n",
      "step 35240: loss 0.39 6.02ms 1662tok/s (total 352,390tok)\n",
      "step 35260: loss 8.02 7.24ms 1381tok/s (total 352,590tok)\n",
      "step 35280: loss 3.11 7.63ms 1311tok/s (total 352,790tok)\n",
      "step 35300: loss 1.85 4.66ms 2145tok/s (total 352,990tok)\n",
      "Oh my lord,\n",
      " I.\n",
      "COMINIUS:\n",
      "step 35320: loss 6.38 3.86ms 2588tok/s (total 353,190tok)\n",
      "step 35340: loss 8.41 5.34ms 1872tok/s (total 353,390tok)\n",
      "step 35360: loss 11.26 5.32ms 1879tok/s (total 353,590tok)\n",
      "step 35380: loss 4.09 4.57ms 2188tok/s (total 353,790tok)\n",
      "step 35400: loss 6.24 12.06ms 829tok/s (total 353,990tok)\n",
      "Oh my lord,\n",
      " I.\n",
      "COMINIUS:\n",
      "step 35420: loss 5.44 14.15ms 707tok/s (total 354,190tok)\n",
      "step 35440: loss 3.55 5.38ms 1860tok/s (total 354,390tok)\n",
      "step 35460: loss 5.94 17.35ms 576tok/s (total 354,590tok)\n",
      "step 35480: loss 0.07 13.85ms 722tok/s (total 354,790tok)\n",
      "step 35500: loss 6.92 5.56ms 1799tok/s (total 354,990tok)\n",
      "Oh my lord,\n",
      "I to.\n",
      "SICINUS\n",
      "step 35520: loss 0.18 15.51ms 645tok/s (total 355,190tok)\n",
      "step 35540: loss 1.56 21.06ms 475tok/s (total 355,390tok)\n",
      "step 35560: loss 2.58 13.58ms 736tok/s (total 355,590tok)\n",
      "step 35580: loss 3.85 21.17ms 472tok/s (total 355,790tok)\n",
      "step 35600: loss 5.62 21.12ms 473tok/s (total 355,990tok)\n",
      "Oh my lord,\n",
      " with with\n",
      " with\n",
      "MENENI\n",
      "step 35620: loss 11.98 18.28ms 547tok/s (total 356,190tok)\n",
      "step 35640: loss 1.02 21.19ms 472tok/s (total 356,390tok)\n",
      "step 35660: loss 3.40 21.50ms 465tok/s (total 356,590tok)\n",
      "step 35680: loss 12.91 21.20ms 472tok/s (total 356,790tok)\n",
      "step 35700: loss 5.73 21.34ms 469tok/s (total 356,990tok)\n",
      "Oh my lord,\n",
      "I have of,\n",
      " your have\n",
      "\n",
      "step 35720: loss 8.46 20.98ms 477tok/s (total 357,190tok)\n",
      "step 35740: loss 7.80 6.71ms 1489tok/s (total 357,390tok)\n",
      "step 35760: loss 5.99 8.34ms 1199tok/s (total 357,590tok)\n",
      "step 35780: loss 2.81 19.94ms 501tok/s (total 357,790tok)\n",
      "step 35800: loss 10.37 7.85ms 1275tok/s (total 357,990tok)\n",
      "Oh my lord,\n",
      "I, have to,\n",
      " have to\n",
      "step 35820: loss 12.34 11.57ms 864tok/s (total 358,190tok)\n",
      "step 35840: loss 7.72 22.14ms 452tok/s (total 358,390tok)\n",
      "step 35860: loss 2.11 21.14ms 473tok/s (total 358,590tok)\n",
      "step 35880: loss 0.38 9.21ms 1086tok/s (total 358,790tok)\n",
      "step 35900: loss 4.16 8.10ms 1235tok/s (total 358,990tok)\n",
      "Oh my lord,\n",
      " you have as as, you as as\n",
      "step 35920: loss 2.82 17.40ms 575tok/s (total 359,190tok)\n",
      "step 35940: loss 6.63 6.77ms 1476tok/s (total 359,390tok)\n",
      "step 35960: loss 4.52 4.48ms 2231tok/s (total 359,590tok)\n",
      "step 35980: loss 7.51 14.91ms 671tok/s (total 359,790tok)\n",
      "step 36000: loss 16.56 20.84ms 480tok/s (total 359,990tok)\n",
      "Oh my lord,\n",
      ".\n",
      "First Senator: you\n",
      " you\n",
      "step 36020: loss 3.03 22.74ms 440tok/s (total 360,190tok)\n",
      "step 36040: loss 4.57 21.69ms 461tok/s (total 360,390tok)\n",
      "step 36060: loss 11.64 22.31ms 448tok/s (total 360,590tok)\n",
      "step 36080: loss 8.08 22.34ms 448tok/s (total 360,790tok)\n",
      "step 36100: loss 11.45 21.66ms 462tok/s (total 360,990tok)\n",
      "Oh my lord,\n",
      " to your your your, you your\n",
      "\n",
      "step 36120: loss 4.41 22.20ms 450tok/s (total 361,190tok)\n",
      "step 36140: loss 10.07 22.36ms 447tok/s (total 361,390tok)\n",
      "step 36160: loss 1.50 21.57ms 464tok/s (total 361,590tok)\n",
      "step 36180: loss 2.23 22.33ms 448tok/s (total 361,790tok)\n",
      "step 36200: loss 9.26 21.67ms 461tok/s (total 361,990tok)\n",
      "Oh my lord,\n",
      "I to.\n",
      "\n",
      "\n",
      "\n",
      "\n",
      "\n",
      "step 36220: loss 4.90 22.44ms 446tok/s (total 362,190tok)\n",
      "step 36240: loss 5.93 21.75ms 460tok/s (total 362,390tok)\n",
      "step 36260: loss 6.50 21.94ms 456tok/s (total 362,590tok)\n",
      "step 36280: loss 6.50 21.73ms 460tok/s (total 362,790tok)\n",
      "step 36300: loss 6.74 23.03ms 434tok/s (total 362,990tok)\n",
      "Oh my lord,\n",
      "MENENIUS:,:\n",
      "\n",
      "step 36320: loss 12.44 21.51ms 465tok/s (total 363,190tok)\n",
      "step 36340: loss 5.72 21.12ms 473tok/s (total 363,390tok)\n",
      "step 36360: loss 12.05 20.97ms 477tok/s (total 363,590tok)\n",
      "step 36380: loss 11.60 20.56ms 486tok/s (total 363,790tok)\n",
      "step 36400: loss 7.87 20.77ms 481tok/s (total 363,990tok)\n",
      "Oh my lord,\n",
      "MENENIUS:,:,\n",
      "step 36420: loss 12.48 22.39ms 447tok/s (total 364,190tok)\n",
      "step 36440: loss 7.40 21.02ms 476tok/s (total 364,390tok)\n",
      "step 36460: loss 5.20 21.53ms 464tok/s (total 364,590tok)\n",
      "step 36480: loss 5.15 22.10ms 452tok/s (total 364,790tok)\n",
      "step 36500: loss 2.04 21.45ms 466tok/s (total 364,990tok)\n",
      "Oh my lord,\n",
      " I to thee to thee.\n",
      "MEN\n",
      "step 36520: loss 3.53 21.47ms 466tok/s (total 365,190tok)\n",
      "step 36540: loss 4.52 21.57ms 464tok/s (total 365,390tok)\n",
      "step 36560: loss 0.06 23.64ms 423tok/s (total 365,590tok)\n",
      "step 36580: loss 0.10 5.29ms 1890tok/s (total 365,790tok)\n",
      "step 36600: loss 7.42 6.20ms 1614tok/s (total 365,990tok)\n",
      "Oh my lord,,,,,,,,,,\n",
      "step 36620: loss 11.17 5.94ms 1683tok/s (total 366,190tok)\n",
      "step 36640: loss 6.76 5.02ms 1992tok/s (total 366,390tok)\n",
      "step 36660: loss 7.61 5.82ms 1718tok/s (total 366,590tok)\n",
      "step 36680: loss 4.01 7.65ms 1306tok/s (total 366,790tok)\n",
      "step 36700: loss 2.14 5.89ms 1699tok/s (total 366,990tok)\n",
      "Oh my lord,\n",
      " I have.\n",
      "MENENIUS\n",
      "step 36720: loss 5.37 7.45ms 1342tok/s (total 367,190tok)\n",
      "step 36740: loss 5.91 21.46ms 466tok/s (total 367,390tok)\n",
      "step 36760: loss 4.83 13.04ms 767tok/s (total 367,590tok)\n",
      "step 36780: loss 5.30 17.07ms 586tok/s (total 367,790tok)\n",
      "step 36800: loss 9.02 16.71ms 598tok/s (total 367,990tok)\n",
      "Oh my lord,\n",
      " I thee.\n",
      "First Senator:\n",
      "\n",
      "step 36820: loss 1.82 12.12ms 825tok/s (total 368,190tok)\n",
      "step 36840: loss 5.11 14.68ms 681tok/s (total 368,390tok)\n",
      "step 36860: loss 8.63 5.77ms 1733tok/s (total 368,590tok)\n",
      "step 36880: loss 5.40 8.58ms 1166tok/s (total 368,790tok)\n",
      "step 36900: loss 1.87 15.39ms 650tok/s (total 368,990tok)\n",
      "Oh my lord,\n",
      " I your you have your, your\n",
      "\n",
      "step 36920: loss 6.69 6.63ms 1509tok/s (total 369,190tok)\n",
      "step 36940: loss 0.44 11.72ms 853tok/s (total 369,390tok)\n",
      "step 36960: loss 12.08 17.33ms 577tok/s (total 369,590tok)\n",
      "step 36980: loss 7.23 16.26ms 615tok/s (total 369,790tok)\n",
      "step 37000: loss 6.68 4.58ms 2182tok/s (total 369,990tok)\n",
      "Oh my lord,\n",
      " I to.\n",
      "First Senator:\n",
      "\n",
      "step 37020: loss 5.48 12.55ms 797tok/s (total 370,190tok)\n",
      "step 37040: loss 3.31 14.02ms 713tok/s (total 370,390tok)\n",
      "step 37060: loss 0.18 18.40ms 544tok/s (total 370,590tok)\n",
      "step 37080: loss 7.99 20.74ms 482tok/s (total 370,790tok)\n",
      "step 37100: loss 11.46 2.44ms 4106tok/s (total 370,990tok)\n",
      "Oh my lord,\n",
      " I have to\n",
      "CORIOLAN\n",
      "step 37120: loss 1.44 22.73ms 440tok/s (total 371,190tok)\n",
      "step 37140: loss 2.97 12.15ms 823tok/s (total 371,390tok)\n",
      "step 37160: loss 13.25 19.35ms 517tok/s (total 371,590tok)\n",
      "step 37180: loss 12.48 20.33ms 492tok/s (total 371,790tok)\n",
      "step 37200: loss 4.48 21.04ms 475tok/s (total 371,990tok)\n",
      "Oh my lord,\n",
      " I to\n",
      " have\n",
      "CORIOL\n",
      "step 37220: loss 9.72 16.02ms 624tok/s (total 372,190tok)\n",
      "step 37240: loss 12.90 4.21ms 2375tok/s (total 372,390tok)\n",
      "step 37260: loss 5.85 6.56ms 1525tok/s (total 372,590tok)\n",
      "step 37280: loss 4.18 15.12ms 662tok/s (total 372,790tok)\n",
      "step 37300: loss 8.15 11.97ms 835tok/s (total 372,990tok)\n",
      "Oh my lord,\n",
      " I to. be\n",
      "CORIOL\n",
      "step 37320: loss 12.33 17.64ms 567tok/s (total 373,190tok)\n",
      "step 37340: loss 4.66 15.22ms 657tok/s (total 373,390tok)\n",
      "step 37360: loss 5.34 21.91ms 456tok/s (total 373,590tok)\n",
      "step 37380: loss 11.15 6.07ms 1647tok/s (total 373,790tok)\n",
      "step 37400: loss 11.89 8.98ms 1114tok/s (total 373,990tok)\n",
      "Oh my lord,\n",
      " I to\n",
      "CORIOLANUS\n",
      "step 37420: loss 3.80 22.11ms 452tok/s (total 374,190tok)\n",
      "step 37440: loss 0.13 20.81ms 481tok/s (total 374,390tok)\n",
      "step 37460: loss 3.16 20.85ms 480tok/s (total 374,590tok)\n",
      "step 37480: loss 1.13 21.10ms 474tok/s (total 374,790tok)\n",
      "step 37500: loss 2.35 13.94ms 717tok/s (total 374,990tok)\n",
      "Oh my lord\n",
      ", and\n",
      "CORIOLANUS:\n",
      "step 37520: loss 4.68 21.52ms 465tok/s (total 375,190tok)\n",
      "step 37540: loss 1.65 12.72ms 786tok/s (total 375,390tok)\n",
      "step 37560: loss 3.22 13.35ms 749tok/s (total 375,590tok)\n",
      "step 37580: loss 5.38 9.88ms 1013tok/s (total 375,790tok)\n",
      "step 37600: loss 4.23 7.80ms 1282tok/s (total 375,990tok)\n",
      "Oh my lord,\n",
      "I and the of the of, of\n",
      "step 37620: loss 6.67 21.75ms 460tok/s (total 376,190tok)\n",
      "step 37640: loss 0.16 20.88ms 479tok/s (total 376,390tok)\n",
      "step 37660: loss 11.25 18.76ms 533tok/s (total 376,590tok)\n",
      "step 37680: loss 7.32 10.80ms 926tok/s (total 376,790tok)\n",
      "step 37700: loss 4.55 19.94ms 501tok/s (total 376,990tok)\n",
      "Oh my lord,\n",
      "I and the.\n",
      "\n",
      "\n",
      "\n",
      "\n",
      "step 37720: loss 11.65 17.06ms 586tok/s (total 377,190tok)\n",
      "step 37740: loss 9.81 21.78ms 459tok/s (total 377,390tok)\n",
      "step 37760: loss 6.43 20.67ms 484tok/s (total 377,590tok)\n",
      "step 37780: loss 3.35 19.73ms 507tok/s (total 377,790tok)\n",
      "step 37800: loss 0.08 11.34ms 882tok/s (total 377,990tok)\n",
      "Oh my lord,\n",
      "I thee; and to\n",
      " thee to\n",
      "step 37820: loss 3.65 4.49ms 2228tok/s (total 378,190tok)\n",
      "step 37840: loss 11.92 21.89ms 457tok/s (total 378,390tok)\n",
      "step 37860: loss 11.87 15.13ms 661tok/s (total 378,590tok)\n",
      "step 37880: loss 0.31 18.44ms 542tok/s (total 378,790tok)\n",
      "step 37900: loss 9.62 18.76ms 533tok/s (total 378,990tok)\n",
      "Oh my lord,\n",
      " of the\n",
      " of\n",
      "The of of\n",
      "step 37920: loss 9.08 21.75ms 460tok/s (total 379,190tok)\n",
      "step 37940: loss 8.99 20.62ms 485tok/s (total 379,390tok)\n",
      "step 37960: loss 9.79 11.95ms 837tok/s (total 379,590tok)\n",
      "step 37980: loss 0.10 21.86ms 457tok/s (total 379,790tok)\n",
      "step 38000: loss 1.12 21.40ms 467tok/s (total 379,990tok)\n",
      "Oh my lord,\n",
      ", and,\n",
      ", and a,\n",
      "step 38020: loss 4.18 21.70ms 461tok/s (total 380,190tok)\n",
      "step 38040: loss 5.22 10.04ms 996tok/s (total 380,390tok)\n",
      "step 38060: loss 6.41 8.77ms 1141tok/s (total 380,590tok)\n",
      "step 38080: loss 4.89 12.84ms 779tok/s (total 380,790tok)\n",
      "step 38100: loss 2.97 10.40ms 962tok/s (total 380,990tok)\n",
      "Oh my lord,\n",
      "I thee and:\n",
      " my\n",
      " to\n",
      "step 38120: loss 4.94 21.82ms 458tok/s (total 381,190tok)\n",
      "step 38140: loss 8.52 6.02ms 1660tok/s (total 381,390tok)\n",
      "step 38160: loss 12.25 20.49ms 488tok/s (total 381,590tok)\n",
      "step 38180: loss 3.50 21.73ms 460tok/s (total 381,790tok)\n",
      "step 38200: loss 6.36 4.52ms 2211tok/s (total 381,990tok)\n",
      "Oh my lord,\n",
      ", and you.\n",
      "CORIOL\n",
      "step 38220: loss 1.54 21.72ms 460tok/s (total 382,190tok)\n",
      "step 38240: loss 12.24 3.92ms 2551tok/s (total 382,390tok)\n",
      "step 38260: loss 6.12 4.48ms 2232tok/s (total 382,590tok)\n",
      "step 38280: loss 7.23 7.22ms 1385tok/s (total 382,790tok)\n",
      "step 38300: loss 6.87 7.34ms 1362tok/s (total 382,990tok)\n",
      "Oh my lord,\n",
      " with\n",
      "VOLNIA:\n",
      ",\n",
      "step 38320: loss 6.19 21.73ms 460tok/s (total 383,190tok)\n",
      "step 38340: loss 5.50 21.95ms 456tok/s (total 383,390tok)\n",
      "step 38360: loss 3.29 5.64ms 1772tok/s (total 383,590tok)\n",
      "step 38380: loss 12.28 23.07ms 434tok/s (total 383,790tok)\n",
      "step 38400: loss 4.85 26.55ms 377tok/s (total 383,990tok)\n",
      "Oh my lord,\n",
      " with, and we the we we,\n",
      "step 38420: loss 4.95 4.13ms 2422tok/s (total 384,190tok)\n",
      "step 38440: loss 6.53 22.25ms 449tok/s (total 384,390tok)\n",
      "step 38460: loss 4.22 5.96ms 1678tok/s (total 384,590tok)\n",
      "step 38480: loss 10.39 10.41ms 961tok/s (total 384,790tok)\n",
      "step 38500: loss 5.31 2.19ms 4556tok/s (total 384,990tok)\n",
      "Oh my lord,\n",
      ", for country the\n",
      "And country country\n",
      "step 38520: loss 7.50 23.32ms 429tok/s (total 385,190tok)\n",
      "step 38540: loss 4.54 2.99ms 3346tok/s (total 385,390tok)\n",
      "step 38560: loss 12.23 12.63ms 792tok/s (total 385,590tok)\n",
      "step 38580: loss 8.55 24.23ms 413tok/s (total 385,790tok)\n",
      "step 38600: loss 0.94 7.29ms 1372tok/s (total 385,990tok)\n",
      "Oh my lord,\n",
      " to to thy\n",
      " thy to.\n",
      "\n",
      "step 38620: loss 1.45 23.18ms 431tok/s (total 386,190tok)\n",
      "step 38640: loss 4.32 23.84ms 419tok/s (total 386,390tok)\n",
      "step 38660: loss 0.03 6.66ms 1500tok/s (total 386,590tok)\n",
      "step 38680: loss 7.50 12.62ms 792tok/s (total 386,790tok)\n",
      "step 38700: loss 0.11 12.82ms 780tok/s (total 386,990tok)\n",
      "Oh my lord,\n",
      "I to.\n",
      "OLANUS:\n",
      "step 38720: loss 12.64 20.40ms 490tok/s (total 387,190tok)\n",
      "step 38740: loss 8.58 7.41ms 1349tok/s (total 387,390tok)\n",
      "step 38760: loss 7.12 5.44ms 1840tok/s (total 387,590tok)\n",
      "step 38780: loss 8.86 5.15ms 1940tok/s (total 387,790tok)\n",
      "step 38800: loss 9.56 4.92ms 2034tok/s (total 387,990tok)\n",
      "Oh my lord,\n",
      "I; and' the' the of\n",
      "step 38820: loss 2.99 5.30ms 1887tok/s (total 388,190tok)\n",
      "step 38840: loss 4.83 22.04ms 454tok/s (total 388,390tok)\n",
      "step 38860: loss 11.80 21.45ms 466tok/s (total 388,590tok)\n",
      "step 38880: loss 7.48 21.78ms 459tok/s (total 388,790tok)\n",
      "step 38900: loss 3.84 22.15ms 452tok/s (total 388,990tok)\n",
      "Oh my lord,\n",
      "I thee; and and,\n",
      " thou\n",
      "step 38920: loss 6.38 22.90ms 437tok/s (total 389,190tok)\n",
      "step 38940: loss 3.72 9.08ms 1101tok/s (total 389,390tok)\n",
      "step 38960: loss 10.52 2.68ms 3738tok/s (total 389,590tok)\n",
      "step 38980: loss 5.05 26.37ms 379tok/s (total 389,790tok)\n",
      "step 39000: loss 4.96 4.66ms 2148tok/s (total 389,990tok)\n",
      "Oh my lord,\n",
      "I thee; and to the\n",
      " to\n",
      "step 39020: loss 5.84 21.42ms 467tok/s (total 390,190tok)\n",
      "step 39040: loss 8.89 21.52ms 465tok/s (total 390,390tok)\n",
      "step 39060: loss 3.39 22.16ms 451tok/s (total 390,590tok)\n",
      "step 39080: loss 7.48 21.73ms 460tok/s (total 390,790tok)\n",
      "step 39100: loss 8.07 24.84ms 403tok/s (total 390,990tok)\n",
      "Oh my lord,\n",
      " to the of the,\n",
      " of the\n",
      "step 39120: loss 3.32 21.51ms 465tok/s (total 391,190tok)\n",
      "step 39140: loss 5.99 21.67ms 461tok/s (total 391,390tok)\n",
      "step 39160: loss 4.27 21.43ms 467tok/s (total 391,590tok)\n",
      "step 39180: loss 5.92 21.38ms 468tok/s (total 391,790tok)\n",
      "step 39200: loss 6.71 21.48ms 466tok/s (total 391,990tok)\n",
      "Oh my lord,\n",
      " with.\n",
      "IOLANUS:\n",
      "step 39220: loss 4.10 21.54ms 464tok/s (total 392,190tok)\n",
      "step 39240: loss 2.33 12.11ms 826tok/s (total 392,390tok)\n",
      "step 39260: loss 3.36 20.92ms 478tok/s (total 392,590tok)\n",
      "step 39280: loss 6.06 17.63ms 567tok/s (total 392,790tok)\n",
      "step 39300: loss 5.82 21.25ms 471tok/s (total 392,990tok)\n",
      "Oh my lord,\n",
      " with and our.\n",
      "ThisThisThis\n",
      "step 39320: loss 5.67 18.23ms 548tok/s (total 393,190tok)\n",
      "step 39340: loss 0.01 4.06ms 2463tok/s (total 393,390tok)\n",
      "step 39360: loss 9.67 4.76ms 2099tok/s (total 393,590tok)\n",
      "step 39380: loss 1.45 6.04ms 1656tok/s (total 393,790tok)\n",
      "step 39400: loss 5.88 4.53ms 2208tok/s (total 393,990tok)\n",
      "Oh my lord,\n",
      " a to. motherI mother mother mother\n",
      "step 39420: loss 5.44 5.34ms 1872tok/s (total 394,190tok)\n",
      "step 39440: loss 4.19 4.29ms 2330tok/s (total 394,390tok)\n",
      "step 39460: loss 4.50 15.61ms 641tok/s (total 394,590tok)\n",
      "step 39480: loss 6.75 9.80ms 1020tok/s (total 394,790tok)\n",
      "step 39500: loss 11.45 13.26ms 754tok/s (total 394,990tok)\n",
      "Oh my lord,\n",
      "I have.\n",
      "OLANUS:\n",
      "step 39520: loss 0.58 21.30ms 470tok/s (total 395,190tok)\n",
      "step 39540: loss 2.83 15.56ms 642tok/s (total 395,390tok)\n",
      "step 39560: loss 3.17 10.59ms 945tok/s (total 395,590tok)\n",
      "step 39580: loss 5.22 4.34ms 2305tok/s (total 395,790tok)\n",
      "step 39600: loss 1.59 5.91ms 1693tok/s (total 395,990tok)\n",
      "Oh my lord,\n",
      "CORIOLANUS:\n",
      "\n",
      "\n",
      "step 39620: loss 6.17 15.38ms 650tok/s (total 396,190tok)\n",
      "step 39640: loss 11.52 17.20ms 582tok/s (total 396,390tok)\n",
      "step 39660: loss 5.66 21.70ms 461tok/s (total 396,590tok)\n",
      "step 39680: loss 10.50 13.08ms 764tok/s (total 396,790tok)\n",
      "step 39700: loss 10.75 17.76ms 563tok/s (total 396,990tok)\n",
      "Oh my lord,\n",
      " have you and.\n",
      "CORIOL\n",
      "step 39720: loss 0.00 13.44ms 744tok/s (total 397,190tok)\n",
      "step 39740: loss 11.76 12.29ms 813tok/s (total 397,390tok)\n",
      "step 39760: loss 0.55 4.61ms 2167tok/s (total 397,590tok)\n",
      "step 39780: loss 7.88 9.16ms 1092tok/s (total 397,790tok)\n",
      "step 39800: loss 0.06 12.87ms 777tok/s (total 397,990tok)\n",
      "Oh my lord,\n",
      " with.\n",
      "SICINIUS\n",
      "step 39820: loss 7.12 14.10ms 709tok/s (total 398,190tok)\n",
      "step 39840: loss 13.57 18.68ms 535tok/s (total 398,390tok)\n",
      "step 39860: loss 11.74 15.09ms 663tok/s (total 398,590tok)\n",
      "step 39880: loss 0.18 20.41ms 490tok/s (total 398,790tok)\n",
      "step 39900: loss 7.35 5.47ms 1828tok/s (total 398,990tok)\n",
      "Oh my lord\n",
      "SICINIUS:\n",
      " a a\n",
      "step 39920: loss 10.43 21.05ms 475tok/s (total 399,190tok)\n",
      "step 39940: loss 8.31 21.58ms 463tok/s (total 399,390tok)\n",
      "step 39960: loss 4.17 21.15ms 473tok/s (total 399,590tok)\n",
      "step 39980: loss 12.06 19.61ms 510tok/s (total 399,790tok)\n",
      "step 40000: loss 3.27 21.19ms 472tok/s (total 399,990tok)\n",
      "Oh my lord,\n",
      " and.\n",
      "MENENIUS:\n",
      "step 40020: loss 12.99 21.60ms 463tok/s (total 400,190tok)\n",
      "step 40040: loss 9.66 22.07ms 453tok/s (total 400,390tok)\n",
      "step 40060: loss 4.58 21.48ms 465tok/s (total 400,590tok)\n",
      "step 40080: loss 8.10 21.91ms 456tok/s (total 400,790tok)\n",
      "step 40100: loss 6.96 20.61ms 485tok/s (total 400,990tok)\n",
      "Oh my lord,\n",
      "I and.OLANUS:\n",
      "\n",
      "step 40120: loss 6.54 20.66ms 484tok/s (total 401,190tok)\n",
      "step 40140: loss 5.21 20.72ms 483tok/s (total 401,390tok)\n",
      "step 40160: loss 4.25 20.66ms 484tok/s (total 401,590tok)\n",
      "step 40180: loss 2.08 20.83ms 480tok/s (total 401,790tok)\n",
      "step 40200: loss 10.41 20.39ms 490tok/s (total 401,990tok)\n",
      "Oh my lord,\n",
      ",I: you have and him.\n",
      "step 40220: loss 5.07 21.09ms 474tok/s (total 402,190tok)\n",
      "step 40240: loss 0.20 21.12ms 474tok/s (total 402,390tok)\n",
      "step 40260: loss 5.73 21.62ms 462tok/s (total 402,590tok)\n",
      "step 40280: loss 7.89 22.48ms 445tok/s (total 402,790tok)\n",
      "step 40300: loss 12.74 21.15ms 473tok/s (total 402,990tok)\n",
      "Oh my lord,\n",
      ", the have,\n",
      " the, not\n",
      "step 40320: loss 6.99 21.58ms 463tok/s (total 403,190tok)\n",
      "step 40340: loss 5.71 21.13ms 473tok/s (total 403,390tok)\n",
      "step 40360: loss 5.38 21.21ms 472tok/s (total 403,590tok)\n",
      "step 40380: loss 12.17 21.36ms 468tok/s (total 403,790tok)\n",
      "step 40400: loss 3.77 21.66ms 462tok/s (total 403,990tok)\n",
      "Oh my lord,\n",
      " the, the of, the,\n",
      "\n",
      "step 40420: loss 1.32 21.50ms 465tok/s (total 404,190tok)\n",
      "step 40440: loss 3.84 5.67ms 1762tok/s (total 404,390tok)\n",
      "step 40460: loss 9.25 8.69ms 1151tok/s (total 404,590tok)\n",
      "step 40480: loss 4.17 5.58ms 1792tok/s (total 404,790tok)\n",
      "step 40500: loss 11.41 13.03ms 767tok/s (total 404,990tok)\n",
      "Oh my lord,\n",
      "IOLUS:::::\n",
      "step 40520: loss 8.39 4.81ms 2080tok/s (total 405,190tok)\n",
      "step 40540: loss 4.32 4.53ms 2206tok/s (total 405,390tok)\n",
      "step 40560: loss 5.27 4.22ms 2372tok/s (total 405,590tok)\n",
      "step 40580: loss 7.48 4.80ms 2083tok/s (total 405,790tok)\n",
      "step 40600: loss 2.53 9.29ms 1076tok/s (total 405,990tok)\n",
      "Oh my lord\n",
      ",.,.\n",
      "SICINI\n",
      "step 40620: loss 4.95 22.13ms 452tok/s (total 406,190tok)\n",
      "step 40640: loss 8.14 6.68ms 1497tok/s (total 406,390tok)\n",
      "step 40660: loss 12.08 11.90ms 840tok/s (total 406,590tok)\n",
      "step 40680: loss 6.03 21.41ms 467tok/s (total 406,790tok)\n",
      "step 40700: loss 12.09 21.71ms 461tok/s (total 406,990tok)\n",
      "Oh my lord,\n",
      ",\n",
      ",\n",
      ":\n",
      ",\n",
      "\n",
      "step 40720: loss 7.30 21.47ms 466tok/s (total 407,190tok)\n",
      "step 40740: loss 2.95 21.42ms 467tok/s (total 407,390tok)\n",
      "step 40760: loss 9.35 21.36ms 468tok/s (total 407,590tok)\n",
      "step 40780: loss 5.22 21.52ms 465tok/s (total 407,790tok)\n",
      "step 40800: loss 9.27 22.20ms 450tok/s (total 407,990tok)\n",
      "Oh my lord,\n",
      "I the of.\n",
      "\n",
      "\n",
      "\n",
      "\n",
      "step 40820: loss 4.93 3.27ms 3056tok/s (total 408,190tok)\n",
      "step 40840: loss 13.76 21.46ms 466tok/s (total 408,390tok)\n",
      "step 40860: loss 7.49 15.79ms 633tok/s (total 408,590tok)\n",
      "step 40880: loss 6.14 6.70ms 1493tok/s (total 408,790tok)\n",
      "step 40900: loss 4.18 21.03ms 475tok/s (total 408,990tok)\n",
      "Oh my lord,\n",
      "I the.\n",
      "\n",
      "\n",
      "\n",
      "\n",
      "\n",
      "step 40920: loss 9.49 20.90ms 478tok/s (total 409,190tok)\n",
      "step 40940: loss 12.30 22.27ms 449tok/s (total 409,390tok)\n",
      "step 40960: loss 0.16 21.30ms 469tok/s (total 409,590tok)\n",
      "step 40980: loss 12.47 21.48ms 466tok/s (total 409,790tok)\n",
      "step 41000: loss 2.43 22.09ms 453tok/s (total 409,990tok)\n",
      "Oh my lord,\n",
      "IUS:\n",
      " I: you him\n",
      "step 41020: loss 6.29 21.76ms 460tok/s (total 410,190tok)\n",
      "step 41040: loss 7.08 22.28ms 449tok/s (total 410,390tok)\n",
      "step 41060: loss 3.16 10.36ms 965tok/s (total 410,590tok)\n",
      "step 41080: loss 11.31 4.37ms 2286tok/s (total 410,790tok)\n",
      "step 41100: loss 0.21 4.24ms 2361tok/s (total 410,990tok)\n",
      "Oh my lord,\n",
      "\n",
      "\n",
      " of\n",
      "AUIDIUS\n",
      "step 41120: loss 12.35 6.66ms 1502tok/s (total 411,190tok)\n",
      "step 41140: loss 8.31 20.17ms 496tok/s (total 411,390tok)\n",
      "step 41160: loss 3.48 18.99ms 527tok/s (total 411,590tok)\n",
      "step 41180: loss 6.69 21.36ms 468tok/s (total 411,790tok)\n",
      "step 41200: loss 9.54 10.97ms 912tok/s (total 411,990tok)\n",
      "Oh my lord;\n",
      " to his and his,\n",
      " and his\n",
      "step 41220: loss 3.48 21.63ms 462tok/s (total 412,190tok)\n",
      "step 41240: loss 12.19 22.25ms 449tok/s (total 412,390tok)\n",
      "step 41260: loss 10.75 22.14ms 452tok/s (total 412,590tok)\n",
      "step 41280: loss 6.40 21.65ms 462tok/s (total 412,790tok)\n",
      "step 41300: loss 0.76 21.67ms 462tok/s (total 412,990tok)\n",
      "Oh my lord,\n",
      "I and\n",
      "US:\n",
      " he,\n",
      "step 41320: loss 6.78 21.72ms 460tok/s (total 413,190tok)\n",
      "step 41340: loss 4.65 21.66ms 462tok/s (total 413,390tok)\n",
      "step 41360: loss 5.98 22.33ms 448tok/s (total 413,590tok)\n",
      "step 41380: loss 9.08 21.65ms 462tok/s (total 413,790tok)\n",
      "step 41400: loss 12.41 21.62ms 463tok/s (total 413,990tok)\n",
      "Oh my lord,\n",
      "I: he and'd his,\n",
      "\n",
      "step 41420: loss 7.60 21.60ms 463tok/s (total 414,190tok)\n",
      "step 41440: loss 3.85 21.77ms 459tok/s (total 414,390tok)\n",
      "step 41460: loss 3.40 21.59ms 463tok/s (total 414,590tok)\n",
      "step 41480: loss 3.07 21.59ms 463tok/s (total 414,790tok)\n",
      "step 41500: loss 8.90 21.65ms 462tok/s (total 414,990tok)\n",
      "Oh my lord,\n",
      " he his, he,\n",
      "And the\n",
      "step 41520: loss 4.07 21.57ms 464tok/s (total 415,190tok)\n",
      "step 41540: loss 0.01 21.88ms 457tok/s (total 415,390tok)\n",
      "step 41560: loss 11.92 21.58ms 463tok/s (total 415,590tok)\n",
      "step 41580: loss 4.44 21.76ms 459tok/s (total 415,790tok)\n",
      "step 41600: loss 4.93 20.69ms 483tok/s (total 415,990tok)\n",
      "Oh my lord,\n",
      ".\n",
      "IOLUS:\n",
      "\n",
      "\n",
      "step 41620: loss 6.29 20.85ms 480tok/s (total 416,190tok)\n",
      "step 41640: loss 6.33 20.78ms 481tok/s (total 416,390tok)\n",
      "step 41660: loss 0.41 21.41ms 467tok/s (total 416,590tok)\n",
      "step 41680: loss 0.41 20.84ms 480tok/s (total 416,790tok)\n",
      "step 41700: loss 6.07 20.82ms 480tok/s (total 416,990tok)\n",
      "Oh my lord,\n",
      "IUS::::::\n",
      "step 41720: loss 6.69 20.63ms 485tok/s (total 417,190tok)\n",
      "step 41740: loss 3.68 20.92ms 478tok/s (total 417,390tok)\n",
      "step 41760: loss 11.04 20.79ms 481tok/s (total 417,590tok)\n",
      "step 41780: loss 7.59 20.68ms 483tok/s (total 417,790tok)\n",
      "step 41800: loss 11.75 20.76ms 482tok/s (total 417,990tok)\n",
      "Oh my lord,\n",
      "I have to the and the\n",
      " of\n",
      "step 41820: loss 6.68 20.67ms 484tok/s (total 418,190tok)\n",
      "step 41840: loss 7.44 20.67ms 484tok/s (total 418,390tok)\n",
      "step 41860: loss 10.43 20.67ms 484tok/s (total 418,590tok)\n",
      "step 41880: loss 2.09 20.66ms 484tok/s (total 418,790tok)\n",
      "step 41900: loss 0.01 20.67ms 484tok/s (total 418,990tok)\n",
      "Oh my lord,\n",
      "I,\n",
      " the have\n",
      ",\n",
      "\n",
      "step 41920: loss 8.44 20.93ms 478tok/s (total 419,190tok)\n",
      "step 41940: loss 11.72 20.67ms 484tok/s (total 419,390tok)\n",
      "step 41960: loss 2.07 20.64ms 484tok/s (total 419,590tok)\n",
      "step 41980: loss 7.82 20.86ms 479tok/s (total 419,790tok)\n",
      "step 42000: loss 5.72 20.76ms 482tok/s (total 419,990tok)\n",
      "Oh my lord,\n",
      "IOLUS:!\n",
      "\n",
      "\n",
      "\n",
      "step 42020: loss 11.31 20.67ms 484tok/s (total 420,190tok)\n",
      "step 42040: loss 3.65 20.65ms 484tok/s (total 420,390tok)\n",
      "step 42060: loss 8.13 20.67ms 484tok/s (total 420,590tok)\n",
      "step 42080: loss 1.59 20.73ms 482tok/s (total 420,790tok)\n",
      "step 42100: loss 3.15 20.85ms 480tok/s (total 420,990tok)\n",
      "Oh my lord\n",
      "CORIOLANUS:!\n",
      "\n",
      "\n",
      "step 42120: loss 5.08 20.75ms 482tok/s (total 421,190tok)\n",
      "step 42140: loss 11.37 20.69ms 483tok/s (total 421,390tok)\n",
      "step 42160: loss 7.95 20.68ms 484tok/s (total 421,590tok)\n",
      "step 42180: loss 3.04 20.69ms 483tok/s (total 421,790tok)\n",
      "step 42200: loss 5.05 20.80ms 481tok/s (total 421,990tok)\n",
      "Oh my lord,\n",
      "I and.OLANUS:!\n",
      "step 42220: loss 8.37 21.37ms 468tok/s (total 422,190tok)\n",
      "step 42240: loss 0.69 20.78ms 481tok/s (total 422,390tok)\n",
      "step 42260: loss 12.87 20.77ms 482tok/s (total 422,590tok)\n",
      "step 42280: loss 4.37 20.68ms 484tok/s (total 422,790tok)\n",
      "step 42300: loss 6.78 20.64ms 485tok/s (total 422,990tok)\n",
      "Oh my lord,\n",
      "CORIOLANUS:,:\n",
      "step 42320: loss 10.32 20.63ms 485tok/s (total 423,190tok)\n",
      "step 42340: loss 2.43 20.63ms 485tok/s (total 423,390tok)\n",
      "step 42360: loss 5.98 20.79ms 481tok/s (total 423,590tok)\n",
      "step 42380: loss 5.19 20.78ms 481tok/s (total 423,790tok)\n",
      "step 42400: loss 4.28 20.70ms 483tok/s (total 423,990tok)\n",
      "Oh my lord\n",
      "IDIUS:\n",
      ",\n",
      " him.\n",
      "step 42420: loss 5.11 21.56ms 464tok/s (total 424,190tok)\n",
      "step 42440: loss 3.45 20.65ms 484tok/s (total 424,390tok)\n",
      "step 42460: loss 7.48 20.91ms 478tok/s (total 424,590tok)\n",
      "step 42480: loss 9.37 20.77ms 481tok/s (total 424,790tok)\n",
      "step 42500: loss 0.22 21.06ms 475tok/s (total 424,990tok)\n",
      "Oh my lord\n",
      "IDIUS:::.\n",
      "\n",
      "\n",
      "step 42520: loss 6.75 22.36ms 447tok/s (total 425,190tok)\n",
      "step 42540: loss 0.48 21.02ms 476tok/s (total 425,390tok)\n",
      "step 42560: loss 10.03 21.32ms 469tok/s (total 425,590tok)\n",
      "step 42580: loss 1.13 23.22ms 431tok/s (total 425,790tok)\n",
      "step 42600: loss 1.25 23.59ms 424tok/s (total 425,990tok)\n",
      "Oh my lord\n",
      ",\n",
      "FIDIUS:,:\n",
      "step 42620: loss 12.08 21.63ms 462tok/s (total 426,190tok)\n",
      "step 42640: loss 8.22 48.75ms 205tok/s (total 426,390tok)\n",
      "step 42660: loss 4.87 20.89ms 479tok/s (total 426,590tok)\n",
      "step 42680: loss 7.17 20.80ms 481tok/s (total 426,790tok)\n",
      "step 42700: loss 6.97 21.47ms 466tok/s (total 426,990tok)\n",
      "Oh my lord\n",
      "IDIUS:,:\n",
      ", you\n",
      "step 42720: loss 4.11 20.65ms 484tok/s (total 427,190tok)\n",
      "step 42740: loss 6.98 20.68ms 484tok/s (total 427,390tok)\n",
      "step 42760: loss 1.49 20.70ms 483tok/s (total 427,590tok)\n",
      "step 42780: loss 3.82 21.10ms 474tok/s (total 427,790tok)\n",
      "step 42800: loss 12.26 20.99ms 476tok/s (total 427,990tok)\n",
      "Oh my lord\n",
      "Second:\n",
      " him to.\n",
      "\n",
      "\n",
      "\n",
      "step 42820: loss 2.99 20.61ms 485tok/s (total 428,190tok)\n",
      "step 42840: loss 10.76 20.65ms 484tok/s (total 428,390tok)\n",
      "step 42860: loss 5.47 20.73ms 482tok/s (total 428,590tok)\n",
      "step 42880: loss 7.50 21.12ms 473tok/s (total 428,790tok)\n",
      "step 42900: loss 11.65 20.80ms 481tok/s (total 428,990tok)\n",
      "Oh my lord\n",
      "IDIUS:;\n",
      " the be I\n",
      "step 42920: loss 4.34 20.75ms 482tok/s (total 429,190tok)\n",
      "step 42940: loss 4.77 21.35ms 468tok/s (total 429,390tok)\n",
      "step 42960: loss 12.25 23.34ms 429tok/s (total 429,590tok)\n",
      "step 42980: loss 5.81 20.92ms 478tok/s (total 429,790tok)\n",
      "step 43000: loss 11.77 22.77ms 439tok/s (total 429,990tok)\n",
      "Oh my lord\n",
      "IDIUS:\n",
      ";\n",
      " to the\n",
      "step 43020: loss 7.81 20.95ms 477tok/s (total 430,190tok)\n",
      "step 43040: loss 11.28 20.84ms 480tok/s (total 430,390tok)\n",
      "step 43060: loss 7.92 20.67ms 484tok/s (total 430,590tok)\n",
      "step 43080: loss 11.78 20.67ms 484tok/s (total 430,790tok)\n",
      "step 43100: loss 8.40 20.71ms 483tok/s (total 430,990tok)\n",
      "Oh my lord,\n",
      "AUIDIUS:\n",
      ",\n",
      "\n",
      "step 43120: loss 12.42 20.68ms 484tok/s (total 431,190tok)\n",
      "step 43140: loss 11.97 20.80ms 481tok/s (total 431,390tok)\n",
      "step 43160: loss 6.45 23.13ms 432tok/s (total 431,590tok)\n",
      "step 43180: loss 4.86 21.02ms 476tok/s (total 431,790tok)\n",
      "step 43200: loss 6.48 21.23ms 471tok/s (total 431,990tok)\n",
      "Oh my lord,\n",
      " of, this, this\n",
      "And of\n",
      "step 43220: loss 10.02 20.87ms 479tok/s (total 432,190tok)\n",
      "step 43240: loss 12.08 23.35ms 428tok/s (total 432,390tok)\n",
      "step 43260: loss 10.55 21.31ms 469tok/s (total 432,590tok)\n",
      "step 43280: loss 12.54 21.83ms 458tok/s (total 432,790tok)\n",
      "step 43300: loss 8.18 21.29ms 470tok/s (total 432,990tok)\n",
      "Oh my lord\n",
      ",And\n",
      ",And the\n",
      "And to\n",
      "step 43320: loss 4.78 21.93ms 456tok/s (total 433,190tok)\n",
      "step 43340: loss 11.73 20.73ms 482tok/s (total 433,390tok)\n",
      "step 43360: loss 1.86 20.70ms 483tok/s (total 433,590tok)\n",
      "step 43380: loss 1.96 20.66ms 484tok/s (total 433,790tok)\n",
      "step 43400: loss 11.78 20.70ms 483tok/s (total 433,990tok)\n",
      "Oh my lord\n",
      ",\n",
      "FI,And\n",
      " to\n",
      "\n",
      "step 43420: loss 11.37 21.04ms 475tok/s (total 434,190tok)\n",
      "step 43440: loss 0.21 20.66ms 484tok/s (total 434,390tok)\n",
      "step 43460: loss 0.40 20.70ms 483tok/s (total 434,590tok)\n",
      "step 43480: loss 2.05 20.72ms 483tok/s (total 434,790tok)\n",
      "step 43500: loss 5.92 20.66ms 484tok/s (total 434,990tok)\n",
      "Oh my lord,\n",
      ",,,,,,,,\n",
      "step 43520: loss 11.30 20.72ms 483tok/s (total 435,190tok)\n",
      "step 43540: loss 6.00 20.73ms 482tok/s (total 435,390tok)\n",
      "step 43560: loss 5.51 20.68ms 484tok/s (total 435,590tok)\n",
      "step 43580: loss 11.76 20.74ms 482tok/s (total 435,790tok)\n",
      "step 43600: loss 5.56 20.85ms 480tok/s (total 435,990tok)\n",
      "Oh my lord\n",
      ",And the.\n",
      "\n",
      "\n",
      "\n",
      "\n",
      "\n",
      "step 43620: loss 4.37 21.43ms 467tok/s (total 436,190tok)\n",
      "step 43640: loss 10.69 20.68ms 483tok/s (total 436,390tok)\n",
      "step 43660: loss 5.37 21.24ms 471tok/s (total 436,590tok)\n",
      "step 43680: loss 6.24 20.72ms 483tok/s (total 436,790tok)\n",
      "step 43700: loss 12.16 20.76ms 482tok/s (total 436,990tok)\n",
      "Oh my lord\n",
      ", to the\n",
      "And,That the\n",
      "\n",
      "step 43720: loss 12.59 20.70ms 483tok/s (total 437,190tok)\n",
      "step 43740: loss 8.64 20.63ms 485tok/s (total 437,390tok)\n",
      "step 43760: loss 4.14 20.73ms 482tok/s (total 437,590tok)\n",
      "step 43780: loss 13.18 20.68ms 484tok/s (total 437,790tok)\n",
      "step 43800: loss 4.79 20.76ms 482tok/s (total 437,990tok)\n",
      "Oh my lord\n",
      ",That the\n",
      "ThatThat the of\n",
      "\n",
      "step 43820: loss 6.89 22.23ms 450tok/s (total 438,190tok)\n",
      "step 43840: loss 4.85 20.67ms 484tok/s (total 438,390tok)\n",
      "step 43860: loss 5.31 21.08ms 474tok/s (total 438,590tok)\n",
      "step 43880: loss 6.42 22.45ms 445tok/s (total 438,790tok)\n",
      "step 43900: loss 10.82 22.34ms 448tok/s (total 438,990tok)\n",
      "Oh my lord\n",
      "I, andOLANUS:\n",
      ",\n",
      "step 43920: loss 6.75 21.46ms 466tok/s (total 439,190tok)\n",
      "step 43940: loss 5.77 20.95ms 477tok/s (total 439,390tok)\n",
      "step 43960: loss 5.32 22.89ms 437tok/s (total 439,590tok)\n",
      "step 43980: loss 0.37 23.11ms 433tok/s (total 439,790tok)\n",
      "step 44000: loss 7.54 6.81ms 1469tok/s (total 439,990tok)\n",
      "Oh my lord,\n",
      "IOLANUS:,:,\n",
      "step 44020: loss 10.30 20.78ms 481tok/s (total 440,190tok)\n",
      "step 44040: loss 6.03 21.41ms 467tok/s (total 440,390tok)\n",
      "step 44060: loss 5.10 20.64ms 484tok/s (total 440,590tok)\n",
      "step 44080: loss 8.39 20.65ms 484tok/s (total 440,790tok)\n",
      "step 44100: loss 7.46 20.70ms 483tok/s (total 440,990tok)\n",
      "Oh my lord,\n",
      "I and: that you, say this\n",
      "step 44120: loss 2.02 20.75ms 482tok/s (total 441,190tok)\n",
      "step 44140: loss 8.97 20.65ms 484tok/s (total 441,390tok)\n",
      "step 44160: loss 1.88 20.68ms 484tok/s (total 441,590tok)\n",
      "step 44180: loss 4.18 20.67ms 484tok/s (total 441,790tok)\n",
      "step 44200: loss 9.51 20.90ms 479tok/s (total 441,990tok)\n",
      "Oh my lord,\n",
      "C:?\n",
      "\n",
      "\n",
      "\n",
      "\n",
      "\n",
      "step 44220: loss 11.04 20.88ms 479tok/s (total 442,190tok)\n",
      "step 44240: loss 2.47 22.08ms 453tok/s (total 442,390tok)\n",
      "step 44260: loss 4.81 21.20ms 472tok/s (total 442,590tok)\n",
      "step 44280: loss 8.66 21.36ms 468tok/s (total 442,790tok)\n",
      "step 44300: loss 11.32 21.24ms 471tok/s (total 442,990tok)\n",
      "Oh my lord,\n",
      "I and, to the and.\n",
      "\n",
      "step 44320: loss 10.96 20.82ms 480tok/s (total 443,190tok)\n",
      "step 44340: loss 6.25 23.19ms 431tok/s (total 443,390tok)\n",
      "step 44360: loss 0.47 20.78ms 481tok/s (total 443,590tok)\n",
      "step 44380: loss 2.05 21.15ms 473tok/s (total 443,790tok)\n",
      "step 44400: loss 3.27 20.70ms 483tok/s (total 443,990tok)\n",
      "Oh my lord.\n",
      "IOLANUS:\n",
      "\n",
      "\n",
      "\n",
      "step 44420: loss 9.40 20.66ms 484tok/s (total 444,190tok)\n",
      "step 44440: loss 7.39 20.68ms 484tok/s (total 444,390tok)\n",
      "step 44460: loss 11.18 22.39ms 447tok/s (total 444,590tok)\n",
      "step 44480: loss 3.06 22.14ms 452tok/s (total 444,790tok)\n",
      "step 44500: loss 6.01 20.75ms 482tok/s (total 444,990tok)\n",
      "Oh my lord\n",
      "IUS:?\n",
      "\n",
      "\n",
      "\n",
      "\n",
      "\n",
      "step 44520: loss 2.38 21.38ms 468tok/s (total 445,190tok)\n",
      "step 44540: loss 9.45 20.80ms 481tok/s (total 445,390tok)\n",
      "step 44560: loss 4.44 20.91ms 478tok/s (total 445,590tok)\n",
      "step 44580: loss 6.40 20.90ms 478tok/s (total 445,790tok)\n",
      "step 44600: loss 1.72 20.65ms 484tok/s (total 445,990tok)\n",
      "Oh my lord\n",
      "C:,,,\n",
      ", lord lord\n",
      "step 44620: loss 11.26 20.69ms 483tok/s (total 446,190tok)\n",
      "step 44640: loss 7.32 20.63ms 485tok/s (total 446,390tok)\n",
      "step 44660: loss 0.38 20.64ms 485tok/s (total 446,590tok)\n",
      "step 44680: loss 0.29 20.83ms 480tok/s (total 446,790tok)\n",
      "step 44700: loss 4.13 21.70ms 461tok/s (total 446,990tok)\n",
      "Oh my lord\n",
      "C,:\n",
      ", so, and as\n",
      "step 44720: loss 4.69 21.21ms 471tok/s (total 447,190tok)\n",
      "step 44740: loss 10.69 7.84ms 1276tok/s (total 447,390tok)\n",
      "step 44760: loss 0.33 6.83ms 1464tok/s (total 447,590tok)\n",
      "step 44780: loss 5.44 6.50ms 1538tok/s (total 447,790tok)\n",
      "step 44800: loss 6.07 5.26ms 1900tok/s (total 447,990tok)\n",
      "Oh my lord.\n",
      "CES\n",
      ":\n",
      "IH you\n",
      "step 44820: loss 12.45 6.41ms 1561tok/s (total 448,190tok)\n",
      "step 44840: loss 9.11 5.15ms 1940tok/s (total 448,390tok)\n",
      "step 44860: loss 5.03 21.75ms 460tok/s (total 448,590tok)\n",
      "step 44880: loss 0.70 20.99ms 476tok/s (total 448,790tok)\n",
      "step 44900: loss 8.99 21.01ms 476tok/s (total 448,990tok)\n",
      "Oh my lord,\n",
      " toI to the and the. I\n",
      "step 44920: loss 3.43 21.74ms 460tok/s (total 449,190tok)\n",
      "step 44940: loss 5.68 21.22ms 471tok/s (total 449,390tok)\n",
      "step 44960: loss 12.32 21.13ms 473tok/s (total 449,590tok)\n",
      "step 44980: loss 4.97 20.81ms 481tok/s (total 449,790tok)\n",
      "step 45000: loss 12.48 21.23ms 471tok/s (total 449,990tok)\n",
      "Oh my lord\n",
      "C:\n",
      ", I I not, must\n",
      "step 45020: loss 11.06 21.22ms 471tok/s (total 450,190tok)\n",
      "step 45040: loss 11.11 20.70ms 483tok/s (total 450,390tok)\n",
      "step 45060: loss 5.99 21.32ms 469tok/s (total 450,590tok)\n",
      "step 45080: loss 10.71 7.56ms 1322tok/s (total 450,790tok)\n",
      "step 45100: loss 11.72 5.24ms 1907tok/s (total 450,990tok)\n",
      "Oh my lord\n",
      ", to, I to the\n",
      " of,\n",
      "step 45120: loss 8.40 3.81ms 2627tok/s (total 451,190tok)\n",
      "step 45140: loss 4.04 4.80ms 2084tok/s (total 451,390tok)\n",
      "step 45160: loss 6.12 4.35ms 2300tok/s (total 451,590tok)\n",
      "step 45180: loss 12.13 4.96ms 2016tok/s (total 451,790tok)\n",
      "step 45200: loss 5.75 5.40ms 1851tok/s (total 451,990tok)\n",
      "Oh my lord\n",
      "C, that the of that!\n",
      "C\n",
      "step 45220: loss 3.88 15.38ms 650tok/s (total 452,190tok)\n",
      "step 45240: loss 5.08 4.06ms 2465tok/s (total 452,390tok)\n",
      "step 45260: loss 7.47 21.58ms 463tok/s (total 452,590tok)\n",
      "step 45280: loss 6.70 20.19ms 495tok/s (total 452,790tok)\n",
      "step 45300: loss 4.52 15.12ms 661tok/s (total 452,990tok)\n",
      "Oh my lord\n",
      "C the of!\n",
      "C\n",
      "C:\n",
      "step 45320: loss 6.86 21.03ms 476tok/s (total 453,190tok)\n",
      "step 45340: loss 3.88 20.71ms 483tok/s (total 453,390tok)\n",
      "step 45360: loss 3.17 5.33ms 1874tok/s (total 453,590tok)\n",
      "step 45380: loss 0.54 5.71ms 1750tok/s (total 453,790tok)\n",
      "step 45400: loss 6.51 5.42ms 1845tok/s (total 453,990tok)\n",
      "Oh my lord\n",
      "C:\n",
      ", I you, and the\n",
      "step 45420: loss 4.29 3.94ms 2538tok/s (total 454,190tok)\n",
      "step 45440: loss 9.40 5.51ms 1814tok/s (total 454,390tok)\n",
      "step 45460: loss 12.34 21.69ms 461tok/s (total 454,590tok)\n",
      "step 45480: loss 3.36 4.05ms 2467tok/s (total 454,790tok)\n",
      "step 45500: loss 10.81 4.84ms 2068tok/s (total 454,990tok)\n",
      "Oh my lord,\n",
      "C, and the by by the,\n",
      "step 45520: loss 2.51 4.42ms 2261tok/s (total 455,190tok)\n",
      "step 45540: loss 10.45 6.05ms 1653tok/s (total 455,390tok)\n",
      "step 45560: loss 2.11 4.27ms 2340tok/s (total 455,590tok)\n",
      "step 45580: loss 4.11 4.55ms 2196tok/s (total 455,790tok)\n",
      "step 45600: loss 4.42 3.76ms 2656tok/s (total 455,990tok)\n",
      "Oh my lord,\n",
      ", you and the of.\n",
      "\n",
      "\n",
      "step 45620: loss 5.21 6.80ms 1470tok/s (total 456,190tok)\n",
      "step 45640: loss 10.49 5.76ms 1737tok/s (total 456,390tok)\n",
      "step 45660: loss 10.84 8.53ms 1172tok/s (total 456,590tok)\n",
      "step 45680: loss 4.41 3.80ms 2629tok/s (total 456,790tok)\n",
      "step 45700: loss 2.94 6.75ms 1481tok/s (total 456,990tok)\n",
      "Oh my lord,,,,,.,,.,\n",
      "step 45720: loss 3.97 5.24ms 1910tok/s (total 457,190tok)\n",
      "step 45740: loss 5.34 5.31ms 1885tok/s (total 457,390tok)\n",
      "step 45760: loss 6.92 23.43ms 427tok/s (total 457,590tok)\n",
      "step 45780: loss 8.61 14.10ms 709tok/s (total 457,790tok)\n",
      "step 45800: loss 8.40 5.73ms 1746tok/s (total 457,990tok)\n",
      "Oh my lord,.,!\n",
      " this, this of this\n",
      "step 45820: loss 3.52 9.71ms 1030tok/s (total 458,190tok)\n",
      "step 45840: loss 4.43 4.81ms 2080tok/s (total 458,390tok)\n",
      "step 45860: loss 2.68 4.00ms 2500tok/s (total 458,590tok)\n",
      "step 45880: loss 11.96 4.59ms 2181tok/s (total 458,790tok)\n",
      "step 45900: loss 5.19 5.52ms 1813tok/s (total 458,990tok)\n",
      "Oh my lord\n",
      ", this\n",
      "Y, and\n",
      "LL\n",
      "step 45920: loss 0.35 6.36ms 1573tok/s (total 459,190tok)\n",
      "step 45940: loss 0.87 4.93ms 2029tok/s (total 459,390tok)\n",
      "step 45960: loss 3.50 4.74ms 2111tok/s (total 459,590tok)\n",
      "step 45980: loss 10.77 5.35ms 1870tok/s (total 459,790tok)\n",
      "step 46000: loss 7.41 6.23ms 1604tok/s (total 459,990tok)\n",
      "Oh my lord,\n",
      ", of, of\n",
      ",,,\n",
      "step 46020: loss 10.85 6.35ms 1575tok/s (total 460,190tok)\n",
      "step 46040: loss 1.73 5.64ms 1772tok/s (total 460,390tok)\n",
      "step 46060: loss 6.69 8.47ms 1181tok/s (total 460,590tok)\n",
      "step 46080: loss 0.40 5.67ms 1763tok/s (total 460,790tok)\n",
      "step 46100: loss 6.33 22.18ms 451tok/s (total 460,990tok)\n",
      "Oh my lord,\n",
      "L toL\n",
      "FLLL\n",
      "step 46120: loss 0.49 5.20ms 1924tok/s (total 461,190tok)\n",
      "step 46140: loss 8.66 5.56ms 1797tok/s (total 461,390tok)\n",
      "step 46160: loss 7.85 3.25ms 3081tok/s (total 461,590tok)\n",
      "step 46180: loss 8.03 4.67ms 2139tok/s (total 461,790tok)\n",
      "step 46200: loss 4.26 3.90ms 2566tok/s (total 461,990tok)\n",
      "Oh my lord\n",
      "L,\n",
      "LYLLLL\n",
      "step 46220: loss 2.76 10.48ms 954tok/s (total 462,190tok)\n",
      "step 46240: loss 2.72 3.87ms 2587tok/s (total 462,390tok)\n",
      "step 46260: loss 5.92 4.79ms 2089tok/s (total 462,590tok)\n",
      "step 46280: loss 0.65 5.62ms 1779tok/s (total 462,790tok)\n",
      "step 46300: loss 11.34 4.46ms 2240tok/s (total 462,990tok)\n",
      "Oh my lord.\n",
      "\n",
      "\n",
      "\n",
      "\n",
      "\n",
      "\n",
      "\n",
      "\n",
      "\n",
      "step 46320: loss 2.71 5.01ms 1994tok/s (total 463,190tok)\n",
      "step 46340: loss 6.05 4.39ms 2280tok/s (total 463,390tok)\n",
      "step 46360: loss 2.93 3.78ms 2645tok/s (total 463,590tok)\n",
      "step 46380: loss 5.65 4.16ms 2403tok/s (total 463,790tok)\n",
      "step 46400: loss 2.09 3.79ms 2638tok/s (total 463,990tok)\n",
      "Oh my lord.\n",
      "\n",
      "\n",
      "\n",
      "\n",
      "\n",
      "\n",
      "\n",
      "\n",
      "\n",
      "step 46420: loss 5.71 8.92ms 1121tok/s (total 464,190tok)\n",
      "step 46440: loss 12.45 4.26ms 2349tok/s (total 464,390tok)\n",
      "step 46460: loss 2.08 20.95ms 477tok/s (total 464,590tok)\n",
      "step 46480: loss 2.79 21.58ms 463tok/s (total 464,790tok)\n",
      "step 46500: loss 2.15 20.86ms 479tok/s (total 464,990tok)\n",
      "Oh my lord,\n",
      "OUCES:\n",
      " thou is,\n",
      "step 46520: loss 0.66 21.34ms 469tok/s (total 465,190tok)\n",
      "step 46540: loss 0.10 20.82ms 480tok/s (total 465,390tok)\n",
      "step 46560: loss 4.04 21.65ms 462tok/s (total 465,590tok)\n",
      "step 46580: loss 0.49 21.01ms 476tok/s (total 465,790tok)\n",
      "step 46600: loss 0.05 21.19ms 472tok/s (total 465,990tok)\n",
      "Oh my lord.\n",
      "\n",
      "\n",
      "\n",
      "\n",
      "\n",
      "\n",
      "\n",
      "\n",
      "\n",
      "step 46620: loss 4.43 20.76ms 482tok/s (total 466,190tok)\n",
      "step 46640: loss 6.10 19.05ms 525tok/s (total 466,390tok)\n",
      "step 46660: loss 1.46 8.93ms 1120tok/s (total 466,590tok)\n",
      "step 46680: loss 5.62 21.38ms 468tok/s (total 466,790tok)\n",
      "step 46700: loss 3.44 21.94ms 456tok/s (total 466,990tok)\n",
      "Oh my lord,\n",
      "C, of\n",
      "I,,,\n",
      "step 46720: loss 3.38 21.81ms 458tok/s (total 467,190tok)\n",
      "step 46740: loss 6.92 21.57ms 464tok/s (total 467,390tok)\n",
      "step 46760: loss 4.53 21.12ms 473tok/s (total 467,590tok)\n",
      "step 46780: loss 6.72 21.42ms 467tok/s (total 467,790tok)\n",
      "step 46800: loss 2.35 20.73ms 482tok/s (total 467,990tok)\n",
      "Oh my lord.\n",
      "\n",
      "\n",
      "\n",
      "\n",
      "\n",
      "\n",
      "\n",
      "\n",
      "\n",
      "step 46820: loss 6.58 21.64ms 462tok/s (total 468,190tok)\n",
      "step 46840: loss 7.04 21.06ms 475tok/s (total 468,390tok)\n",
      "step 46860: loss 4.27 3.67ms 2728tok/s (total 468,590tok)\n",
      "step 46880: loss 4.58 7.21ms 1387tok/s (total 468,790tok)\n",
      "step 46900: loss 10.63 4.29ms 2329tok/s (total 468,990tok)\n",
      "Oh my lord.\n",
      "\n",
      "\n",
      "\n",
      "\n",
      "\n",
      "\n",
      "\n",
      "\n",
      "\n",
      "step 46920: loss 12.44 6.37ms 1570tok/s (total 469,190tok)\n",
      "step 46940: loss 4.11 7.27ms 1376tok/s (total 469,390tok)\n",
      "step 46960: loss 0.07 4.51ms 2216tok/s (total 469,590tok)\n",
      "step 46980: loss 0.01 3.69ms 2713tok/s (total 469,790tok)\n",
      "step 47000: loss 8.97 16.83ms 594tok/s (total 469,990tok)\n",
      "Oh my lord.\n",
      "\n",
      "\n",
      "\n",
      "\n",
      "\n",
      "\n",
      "\n",
      "\n",
      "\n",
      "step 47020: loss 11.93 5.90ms 1695tok/s (total 470,190tok)\n",
      "step 47040: loss 2.96 4.82ms 2074tok/s (total 470,390tok)\n",
      "step 47060: loss 0.00 10.74ms 931tok/s (total 470,590tok)\n",
      "step 47080: loss 0.12 5.09ms 1966tok/s (total 470,790tok)\n",
      "step 47100: loss 10.96 6.41ms 1560tok/s (total 470,990tok)\n",
      "Oh my lord.\n",
      "\n",
      "\n",
      "\n",
      "\n",
      "\n",
      "\n",
      "\n",
      "\n",
      "\n",
      "step 47120: loss 0.02 12.91ms 775tok/s (total 471,190tok)\n",
      "step 47140: loss 0.00 20.95ms 477tok/s (total 471,390tok)\n",
      "step 47160: loss 0.06 21.39ms 467tok/s (total 471,590tok)\n",
      "step 47180: loss 0.38 21.81ms 459tok/s (total 471,790tok)\n",
      "step 47200: loss 1.51 21.62ms 462tok/s (total 471,990tok)\n",
      "Oh my lord.\n",
      "\n",
      "\n",
      "\n",
      "\n",
      "\n",
      "\n",
      "\n",
      "\n",
      "\n",
      "step 47220: loss 11.77 21.62ms 462tok/s (total 472,190tok)\n",
      "step 47240: loss 8.95 3.83ms 2614tok/s (total 472,390tok)\n",
      "step 47260: loss 7.93 21.78ms 459tok/s (total 472,590tok)\n",
      "step 47280: loss 7.80 19.55ms 511tok/s (total 472,790tok)\n",
      "step 47300: loss 6.56 20.96ms 477tok/s (total 472,990tok)\n",
      "Oh my lord.\n",
      "Y\n",
      " ANNE:\n",
      "GLOU\n",
      "step 47320: loss 6.77 22.39ms 447tok/s (total 473,190tok)\n",
      "step 47340: loss 5.36 21.66ms 462tok/s (total 473,390tok)\n",
      "step 47360: loss 0.60 12.32ms 812tok/s (total 473,590tok)\n",
      "step 47380: loss 8.29 6.52ms 1533tok/s (total 473,790tok)\n",
      "step 47400: loss 11.73 5.71ms 1752tok/s (total 473,990tok)\n",
      "Oh my lord,\n",
      "LAD ANNE:\n",
      ",\n",
      "\n",
      "step 47420: loss 6.70 7.39ms 1354tok/s (total 474,190tok)\n",
      "step 47440: loss 6.59 6.08ms 1645tok/s (total 474,390tok)\n",
      "step 47460: loss 7.19 6.51ms 1537tok/s (total 474,590tok)\n",
      "step 47480: loss 0.02 16.90ms 592tok/s (total 474,790tok)\n",
      "step 47500: loss 0.33 6.39ms 1564tok/s (total 474,990tok)\n",
      "Oh my lord,\n",
      "LAD AN to;\n",
      "I and\n",
      "step 47520: loss 6.86 6.84ms 1462tok/s (total 475,190tok)\n",
      "step 47540: loss 4.19 5.70ms 1753tok/s (total 475,390tok)\n",
      "step 47560: loss 7.73 6.26ms 1598tok/s (total 475,590tok)\n",
      "step 47580: loss 7.97 4.17ms 2399tok/s (total 475,790tok)\n",
      "step 47600: loss 3.42 28.73ms 348tok/s (total 475,990tok)\n",
      "Oh my lord.\n",
      "Y ANNE:\n",
      "\n",
      "\n",
      "\n",
      "\n",
      "step 47620: loss 6.81 4.00ms 2501tok/s (total 476,190tok)\n",
      "step 47640: loss 6.09 7.38ms 1356tok/s (total 476,390tok)\n",
      "step 47660: loss 2.92 5.83ms 1717tok/s (total 476,590tok)\n",
      "step 47680: loss 7.40 21.52ms 465tok/s (total 476,790tok)\n",
      "step 47700: loss 6.11 16.28ms 614tok/s (total 476,990tok)\n",
      "Oh my lord.\n",
      "Y ANNE:\n",
      "\n",
      "\n",
      "\n",
      "\n",
      "step 47720: loss 0.89 21.64ms 462tok/s (total 477,190tok)\n",
      "step 47740: loss 2.25 21.07ms 475tok/s (total 477,390tok)\n",
      "step 47760: loss 8.73 21.46ms 466tok/s (total 477,590tok)\n",
      "step 47780: loss 3.55 20.83ms 480tok/s (total 477,790tok)\n",
      "step 47800: loss 3.80 5.57ms 1796tok/s (total 477,990tok)\n",
      "Oh my lord,,,,,,,,,,\n",
      "step 47820: loss 10.97 5.56ms 1797tok/s (total 478,190tok)\n",
      "step 47840: loss 3.03 4.67ms 2142tok/s (total 478,390tok)\n",
      "step 47860: loss 1.50 5.27ms 1897tok/s (total 478,590tok)\n",
      "step 47880: loss 7.56 4.99ms 2005tok/s (total 478,790tok)\n",
      "step 47900: loss 5.52 4.80ms 2083tok/s (total 478,990tok)\n",
      "Oh my lord.\n",
      "\n",
      "\n",
      "\n",
      "\n",
      "\n",
      "\n",
      "\n",
      "\n",
      "\n",
      "step 47920: loss 5.57 5.86ms 1707tok/s (total 479,190tok)\n",
      "step 47940: loss 1.25 5.41ms 1849tok/s (total 479,390tok)\n",
      "step 47960: loss 0.11 11.23ms 891tok/s (total 479,590tok)\n",
      "step 47980: loss 7.22 20.97ms 477tok/s (total 479,790tok)\n",
      "step 48000: loss 6.04 20.21ms 495tok/s (total 479,990tok)\n",
      "Oh my lord.\n",
      "\n",
      "\n",
      "\n",
      "\n",
      "\n",
      "\n",
      "\n",
      "\n",
      "\n",
      "step 48020: loss 11.41 20.88ms 479tok/s (total 480,190tok)\n",
      "step 48040: loss 2.99 15.47ms 646tok/s (total 480,390tok)\n",
      "step 48060: loss 9.66 20.73ms 482tok/s (total 480,590tok)\n",
      "step 48080: loss 1.34 21.29ms 470tok/s (total 480,790tok)\n",
      "step 48100: loss 0.34 20.76ms 482tok/s (total 480,990tok)\n",
      "Oh my lord.\n",
      "\n",
      "\n",
      "\n",
      "\n",
      "\n",
      "\n",
      "\n",
      "\n",
      "\n",
      "step 48120: loss 8.55 21.45ms 466tok/s (total 481,190tok)\n",
      "step 48140: loss 10.16 20.93ms 478tok/s (total 481,390tok)\n",
      "step 48160: loss 12.73 21.64ms 462tok/s (total 481,590tok)\n",
      "step 48180: loss 4.48 19.80ms 505tok/s (total 481,790tok)\n",
      "step 48200: loss 0.05 16.32ms 613tok/s (total 481,990tok)\n",
      "Oh my lord,\n",
      "LADY AN: I,\n",
      "\n",
      "step 48220: loss 9.24 21.43ms 467tok/s (total 482,190tok)\n",
      "step 48240: loss 1.80 13.70ms 730tok/s (total 482,390tok)\n",
      "step 48260: loss 6.25 21.65ms 462tok/s (total 482,590tok)\n",
      "step 48280: loss 1.42 11.55ms 866tok/s (total 482,790tok)\n",
      "step 48300: loss 7.35 7.31ms 1368tok/s (total 482,990tok)\n",
      "Oh my lord,\n",
      "GLCGLC\n",
      "GLCGL\n",
      "step 48320: loss 3.70 4.39ms 2277tok/s (total 483,190tok)\n",
      "step 48340: loss 4.71 5.75ms 1738tok/s (total 483,390tok)\n",
      "step 48360: loss 8.62 4.43ms 2258tok/s (total 483,590tok)\n",
      "step 48380: loss 0.05 12.60ms 794tok/s (total 483,790tok)\n",
      "step 48400: loss 5.63 5.86ms 1707tok/s (total 483,990tok)\n",
      "Oh my lord,.,.\n",
      "GLC\n",
      "GLC\n",
      "step 48420: loss 11.95 12.68ms 789tok/s (total 484,190tok)\n",
      "step 48440: loss 2.51 20.71ms 483tok/s (total 484,390tok)\n",
      "step 48460: loss 9.14 19.01ms 526tok/s (total 484,590tok)\n",
      "step 48480: loss 7.05 21.23ms 471tok/s (total 484,790tok)\n",
      "step 48500: loss 16.50 21.66ms 462tok/s (total 484,990tok)\n",
      "Oh my lord,,,,,,,,,,\n",
      "step 48520: loss 11.43 21.65ms 462tok/s (total 485,190tok)\n",
      "step 48540: loss 11.77 21.45ms 466tok/s (total 485,390tok)\n",
      "step 48560: loss 12.21 20.86ms 479tok/s (total 485,590tok)\n",
      "step 48580: loss 11.61 16.38ms 611tok/s (total 485,790tok)\n",
      "step 48600: loss 2.55 8.41ms 1189tok/s (total 485,990tok)\n",
      "Oh my lord,\n",
      "And to her, her,\n",
      " her\n",
      "step 48620: loss 11.44 20.73ms 482tok/s (total 486,190tok)\n",
      "step 48640: loss 12.07 11.60ms 862tok/s (total 486,390tok)\n",
      "step 48660: loss 6.14 20.77ms 481tok/s (total 486,590tok)\n",
      "step 48680: loss 6.55 22.53ms 444tok/s (total 486,790tok)\n",
      "step 48700: loss 4.53 20.90ms 478tok/s (total 486,990tok)\n",
      "Oh my lord,\n",
      "And to, to,\n",
      "I to\n",
      "step 48720: loss 5.08 21.62ms 463tok/s (total 487,190tok)\n",
      "step 48740: loss 6.40 22.48ms 445tok/s (total 487,390tok)\n",
      "step 48760: loss 5.49 21.42ms 467tok/s (total 487,590tok)\n",
      "step 48780: loss 8.43 21.32ms 469tok/s (total 487,790tok)\n",
      "step 48800: loss 11.62 7.85ms 1274tok/s (total 487,990tok)\n",
      "Oh my lord,\n",
      "And to.\n",
      ", I\n",
      " have\n",
      "step 48820: loss 4.45 20.93ms 478tok/s (total 488,190tok)\n",
      "step 48840: loss 5.62 13.75ms 727tok/s (total 488,390tok)\n",
      "step 48860: loss 7.19 21.61ms 463tok/s (total 488,590tok)\n",
      "step 48880: loss 3.88 22.97ms 435tok/s (total 488,790tok)\n",
      "step 48900: loss 11.80 21.93ms 456tok/s (total 488,990tok)\n",
      "Oh my lord,\n",
      "And.\n",
      "\n",
      "\n",
      "\n",
      "\n",
      "\n",
      "\n",
      "step 48920: loss 8.00 20.84ms 480tok/s (total 489,190tok)\n",
      "step 48940: loss 9.85 14.46ms 691tok/s (total 489,390tok)\n",
      "step 48960: loss 11.64 20.81ms 481tok/s (total 489,590tok)\n",
      "step 48980: loss 10.30 21.10ms 474tok/s (total 489,790tok)\n",
      "step 49000: loss 8.81 10.74ms 931tok/s (total 489,990tok)\n",
      "Oh my lord,\n",
      " of.\n",
      "EN\n",
      "Y:\n",
      "\n",
      "step 49020: loss 7.35 20.87ms 479tok/s (total 490,190tok)\n",
      "step 49040: loss 0.16 3.29ms 3038tok/s (total 490,390tok)\n",
      "step 49060: loss 1.96 7.66ms 1306tok/s (total 490,590tok)\n",
      "step 49080: loss 7.22 4.44ms 2250tok/s (total 490,790tok)\n",
      "step 49100: loss 11.05 5.38ms 1858tok/s (total 490,990tok)\n",
      "Oh my lord.\n",
      ":\n",
      "\n",
      "\n",
      "\n",
      "\n",
      "\n",
      "\n",
      "\n",
      "step 49120: loss 1.96 7.41ms 1350tok/s (total 491,190tok)\n",
      "step 49140: loss 11.22 21.34ms 469tok/s (total 491,390tok)\n",
      "step 49160: loss 3.60 12.27ms 815tok/s (total 491,590tok)\n",
      "step 49180: loss 4.19 4.47ms 2238tok/s (total 491,790tok)\n",
      "step 49200: loss 0.54 7.51ms 1331tok/s (total 491,990tok)\n",
      "Oh my lord,\n",
      ",And,\n",
      ",I not,\n",
      "step 49220: loss 2.32 37.23ms 269tok/s (total 492,190tok)\n",
      "step 49240: loss 3.53 5.42ms 1844tok/s (total 492,390tok)\n",
      "step 49260: loss 0.10 6.65ms 1503tok/s (total 492,590tok)\n",
      "step 49280: loss 0.00 8.46ms 1183tok/s (total 492,790tok)\n",
      "step 49300: loss 6.58 10.94ms 914tok/s (total 492,990tok)\n",
      "Oh my lord,\n",
      " of,And his.\n",
      "\n",
      "\n",
      "\n",
      "step 49320: loss 7.37 13.80ms 725tok/s (total 493,190tok)\n",
      "step 49340: loss 6.73 21.71ms 461tok/s (total 493,390tok)\n",
      "step 49360: loss 5.79 8.49ms 1178tok/s (total 493,590tok)\n",
      "step 49380: loss 8.55 5.86ms 1705tok/s (total 493,790tok)\n",
      "step 49400: loss 5.23 8.24ms 1214tok/s (total 493,990tok)\n",
      "Oh my lord.\n",
      "\n",
      "\n",
      "\n",
      "\n",
      "\n",
      "\n",
      "\n",
      "\n",
      "\n",
      "step 49420: loss 4.59 13.90ms 720tok/s (total 494,190tok)\n",
      "step 49440: loss 3.09 6.55ms 1527tok/s (total 494,390tok)\n",
      "step 49460: loss 4.71 12.87ms 777tok/s (total 494,590tok)\n",
      "step 49480: loss 12.59 21.61ms 463tok/s (total 494,790tok)\n",
      "step 49500: loss 11.48 8.64ms 1158tok/s (total 494,990tok)\n",
      "Oh my lord,\n",
      ", and, and,\n",
      "ThatThat\n",
      "step 49520: loss 8.41 4.00ms 2500tok/s (total 495,190tok)\n",
      "step 49540: loss 3.09 4.69ms 2133tok/s (total 495,390tok)\n",
      "step 49560: loss 0.17 7.03ms 1422tok/s (total 495,590tok)\n",
      "step 49580: loss 5.16 5.22ms 1916tok/s (total 495,790tok)\n",
      "step 49600: loss 6.19 5.66ms 1766tok/s (total 495,990tok)\n",
      "Oh my lord?\n",
      "GLCGLC, andTo thee\n",
      "step 49620: loss 7.74 5.69ms 1758tok/s (total 496,190tok)\n",
      "step 49640: loss 3.51 6.68ms 1497tok/s (total 496,390tok)\n",
      "step 49660: loss 3.85 4.22ms 2371tok/s (total 496,590tok)\n",
      "step 49680: loss 5.83 4.51ms 2217tok/s (total 496,790tok)\n",
      "step 49700: loss 9.41 5.55ms 1801tok/s (total 496,990tok)\n",
      "Oh my lord,\n",
      ",And, your,\n",
      ", your\n",
      "step 49720: loss 5.11 19.86ms 504tok/s (total 497,190tok)\n",
      "step 49740: loss 1.63 21.51ms 465tok/s (total 497,390tok)\n",
      "step 49760: loss 10.75 4.51ms 2216tok/s (total 497,590tok)\n",
      "step 49780: loss 8.41 17.73ms 564tok/s (total 497,790tok)\n",
      "step 49800: loss 2.79 20.99ms 476tok/s (total 497,990tok)\n",
      "Oh my lord,\n",
      ":\n",
      "\n",
      "\n",
      "\n",
      "\n",
      "\n",
      "\n",
      "\n",
      "step 49820: loss 12.79 20.78ms 481tok/s (total 498,190tok)\n",
      "step 49840: loss 0.70 21.31ms 469tok/s (total 498,390tok)\n",
      "step 49860: loss 8.43 21.60ms 463tok/s (total 498,590tok)\n",
      "step 49880: loss 5.21 21.28ms 470tok/s (total 498,790tok)\n",
      "step 49900: loss 6.88 20.79ms 481tok/s (total 498,990tok)\n",
      "Oh my lord,\n",
      "That\n",
      "GLCGLC,\n",
      "\n",
      "step 49920: loss 3.07 22.16ms 451tok/s (total 499,190tok)\n",
      "step 49940: loss 4.91 21.97ms 455tok/s (total 499,390tok)\n",
      "step 49960: loss 2.69 28.12ms 356tok/s (total 499,590tok)\n",
      "step 49980: loss 11.94 21.38ms 468tok/s (total 499,790tok)\n",
      "step 50000: loss 6.50 21.52ms 465tok/s (total 499,990tok)\n",
      "Oh my lord,\n",
      " to.\n",
      "GLOUCESTER\n",
      "step 50020: loss 7.49 8.55ms 1170tok/s (total 500,190tok)\n",
      "step 50040: loss 10.45 117.17ms 85tok/s (total 500,390tok)\n",
      "step 50060: loss 1.77 7.72ms 1295tok/s (total 500,590tok)\n",
      "step 50080: loss 5.62 5.29ms 1890tok/s (total 500,790tok)\n",
      "step 50100: loss 5.02 6.73ms 1487tok/s (total 500,990tok)\n",
      "Oh my lord,\n",
      "And to.\n",
      "GLOUCES\n",
      "step 50120: loss 12.62 9.30ms 1076tok/s (total 501,190tok)\n",
      "step 50140: loss 5.19 10.18ms 982tok/s (total 501,390tok)\n",
      "step 50160: loss 5.12 88.54ms 113tok/s (total 501,590tok)\n",
      "step 50180: loss 6.37 4.94ms 2023tok/s (total 501,790tok)\n",
      "step 50200: loss 12.44 20.79ms 481tok/s (total 501,990tok)\n",
      "Oh my lord,\n",
      "GLC,\n",
      "GLCGLC\n",
      "step 50220: loss 9.98 5.81ms 1720tok/s (total 502,190tok)\n",
      "step 50240: loss 3.89 6.73ms 1486tok/s (total 502,390tok)\n",
      "step 50260: loss 0.85 7.40ms 1351tok/s (total 502,590tok)\n",
      "step 50280: loss 2.56 14.11ms 709tok/s (total 502,790tok)\n",
      "step 50300: loss 7.70 6.26ms 1599tok/s (total 502,990tok)\n",
      "Oh my lord,\n",
      "And, I have\n",
      "\n",
      "\n",
      "\n",
      "\n",
      "step 50320: loss 5.69 7.95ms 1258tok/s (total 503,190tok)\n",
      "step 50340: loss 7.53 11.79ms 848tok/s (total 503,390tok)\n",
      "step 50360: loss 3.58 20.04ms 499tok/s (total 503,590tok)\n",
      "step 50380: loss 0.19 3.75ms 2668tok/s (total 503,790tok)\n",
      "step 50400: loss 3.44 20.96ms 477tok/s (total 503,990tok)\n",
      "Oh my lord\n",
      ":I to the.\n",
      "\n",
      "\n",
      "\n",
      "\n",
      "step 50420: loss 3.18 18.10ms 553tok/s (total 504,190tok)\n",
      "step 50440: loss 9.29 3.25ms 3076tok/s (total 504,390tok)\n",
      "step 50460: loss 3.61 21.11ms 474tok/s (total 504,590tok)\n",
      "step 50480: loss 5.21 18.35ms 545tok/s (total 504,790tok)\n",
      "step 50500: loss 5.01 5.74ms 1743tok/s (total 504,990tok)\n",
      "Oh my lord\n",
      "CES:,:,,,\n",
      "\n",
      "step 50520: loss 0.74 4.12ms 2430tok/s (total 505,190tok)\n",
      "step 50540: loss 5.16 20.32ms 492tok/s (total 505,390tok)\n",
      "step 50560: loss 11.86 14.31ms 699tok/s (total 505,590tok)\n",
      "step 50580: loss 2.88 10.85ms 921tok/s (total 505,790tok)\n",
      "step 50600: loss 4.66 4.69ms 2131tok/s (total 505,990tok)\n",
      "Oh my lord,\n",
      "GLC,,,,,,\n",
      "step 50620: loss 5.55 21.34ms 469tok/s (total 506,190tok)\n",
      "step 50640: loss 8.37 11.20ms 893tok/s (total 506,390tok)\n",
      "step 50660: loss 11.29 10.68ms 936tok/s (total 506,590tok)\n",
      "step 50680: loss 0.97 17.35ms 576tok/s (total 506,790tok)\n",
      "step 50700: loss 3.29 20.54ms 487tok/s (total 506,990tok)\n",
      "Oh my lord\n",
      "GLC,\n",
      "GLCGLC and\n",
      "step 50720: loss 6.50 21.46ms 466tok/s (total 507,190tok)\n",
      "step 50740: loss 7.07 14.77ms 677tok/s (total 507,390tok)\n",
      "step 50760: loss 4.37 20.66ms 484tok/s (total 507,590tok)\n",
      "step 50780: loss 5.76 20.84ms 480tok/s (total 507,790tok)\n",
      "step 50800: loss 9.89 21.04ms 475tok/s (total 507,990tok)\n",
      "Oh my lord,\n",
      "I to.\n",
      "GLCGLC\n",
      "step 50820: loss 6.01 21.55ms 464tok/s (total 508,190tok)\n",
      "step 50840: loss 5.07 21.43ms 467tok/s (total 508,390tok)\n",
      "step 50860: loss 4.48 21.39ms 468tok/s (total 508,590tok)\n",
      "step 50880: loss 3.52 7.55ms 1324tok/s (total 508,790tok)\n",
      "step 50900: loss 5.00 5.47ms 1828tok/s (total 508,990tok)\n",
      "Oh my lord,\n",
      "GLC,,,,,,\n",
      "step 50920: loss 0.11 4.29ms 2329tok/s (total 509,190tok)\n",
      "step 50940: loss 2.66 9.08ms 1102tok/s (total 509,390tok)\n",
      "step 50960: loss 0.10 4.69ms 2133tok/s (total 509,590tok)\n",
      "step 50980: loss 8.53 4.06ms 2462tok/s (total 509,790tok)\n",
      "step 51000: loss 6.76 5.06ms 1974tok/s (total 509,990tok)\n",
      "Oh my lord,\n",
      " youQENI.\n",
      "QUE\n",
      "step 51020: loss 3.27 6.90ms 1450tok/s (total 510,190tok)\n",
      "step 51040: loss 6.96 10.85ms 922tok/s (total 510,390tok)\n",
      "step 51060: loss 5.67 4.77ms 2096tok/s (total 510,590tok)\n",
      "step 51080: loss 7.47 21.74ms 460tok/s (total 510,790tok)\n",
      "step 51100: loss 2.41 15.30ms 654tok/s (total 510,990tok)\n",
      "Oh my lord\n",
      "QENIUS:\n",
      ",\n",
      "\n",
      "\n",
      "step 51120: loss 0.04 22.58ms 443tok/s (total 511,190tok)\n",
      "step 51140: loss 3.69 14.12ms 708tok/s (total 511,390tok)\n",
      "step 51160: loss 6.18 20.74ms 482tok/s (total 511,590tok)\n",
      "step 51180: loss 6.58 20.82ms 480tok/s (total 511,790tok)\n",
      "step 51200: loss 6.81 21.32ms 469tok/s (total 511,990tok)\n",
      "Oh my lord,\n",
      "GLOUCESTER: I you\n",
      "step 51220: loss 4.33 7.69ms 1301tok/s (total 512,190tok)\n",
      "step 51240: loss 5.90 3.89ms 2570tok/s (total 512,390tok)\n",
      "step 51260: loss 12.39 88.07ms 114tok/s (total 512,590tok)\n",
      "step 51280: loss 3.07 7.15ms 1399tok/s (total 512,790tok)\n",
      "step 51300: loss 1.18 6.75ms 1481tok/s (total 512,990tok)\n",
      "Oh my lord,\n",
      "GLOUCESTER:\n",
      ",\n",
      "step 51320: loss 3.53 3.69ms 2712tok/s (total 513,190tok)\n",
      "step 51340: loss 0.41 15.94ms 627tok/s (total 513,390tok)\n",
      "step 51360: loss 5.50 10.60ms 944tok/s (total 513,590tok)\n",
      "step 51380: loss 7.05 6.94ms 1441tok/s (total 513,790tok)\n",
      "step 51400: loss 4.33 12.66ms 790tok/s (total 513,990tok)\n",
      "Oh my lord\n",
      ":,,,\n",
      "I to theAnd\n",
      "step 51420: loss 4.38 13.17ms 759tok/s (total 514,190tok)\n",
      "step 51440: loss 5.00 9.46ms 1057tok/s (total 514,390tok)\n",
      "step 51460: loss 7.65 8.72ms 1147tok/s (total 514,590tok)\n",
      "step 51480: loss 6.43 14.02ms 713tok/s (total 514,790tok)\n",
      "step 51500: loss 1.38 3.69ms 2712tok/s (total 514,990tok)\n",
      "Oh my lord,\n",
      ",,,,,,,,\n",
      "step 51520: loss 5.52 4.36ms 2293tok/s (total 515,190tok)\n",
      "step 51540: loss 1.09 16.58ms 603tok/s (total 515,390tok)\n",
      "step 51560: loss 4.20 18.32ms 546tok/s (total 515,590tok)\n",
      "step 51580: loss 5.88 19.62ms 510tok/s (total 515,790tok)\n",
      "step 51600: loss 12.01 21.40ms 467tok/s (total 515,990tok)\n",
      "Oh my lord,\n",
      ", to, by by my,\n",
      "\n",
      "step 51620: loss 11.39 21.55ms 464tok/s (total 516,190tok)\n",
      "step 51640: loss 4.51 15.82ms 632tok/s (total 516,390tok)\n",
      "step 51660: loss 5.80 9.75ms 1026tok/s (total 516,590tok)\n",
      "step 51680: loss 1.78 17.40ms 575tok/s (total 516,790tok)\n",
      "step 51700: loss 5.65 13.32ms 751tok/s (total 516,990tok)\n",
      "Oh my lord,\n",
      ",,,,,,,,\n",
      "step 51720: loss 1.97 15.57ms 642tok/s (total 517,190tok)\n",
      "step 51740: loss 8.42 9.09ms 1100tok/s (total 517,390tok)\n",
      "step 51760: loss 4.52 7.21ms 1388tok/s (total 517,590tok)\n",
      "step 51780: loss 12.39 15.82ms 632tok/s (total 517,790tok)\n",
      "step 51800: loss 7.88 20.57ms 486tok/s (total 517,990tok)\n",
      "Oh my lord\n",
      "QENET:\n",
      ",\n",
      "And,\n",
      "step 51820: loss 10.47 15.22ms 657tok/s (total 518,190tok)\n",
      "step 51840: loss 8.29 22.09ms 453tok/s (total 518,390tok)\n",
      "step 51860: loss 5.75 16.20ms 617tok/s (total 518,590tok)\n",
      "step 51880: loss 8.91 21.51ms 465tok/s (total 518,790tok)\n",
      "step 51900: loss 4.08 21.21ms 472tok/s (total 518,990tok)\n",
      "Oh my lord,\n",
      "And thee, thou for thou for thee\n",
      "step 51920: loss 5.65 20.63ms 485tok/s (total 519,190tok)\n",
      "step 51940: loss 5.14 9.79ms 1021tok/s (total 519,390tok)\n",
      "step 51960: loss 4.86 6.46ms 1549tok/s (total 519,590tok)\n",
      "step 51980: loss 3.29 13.02ms 768tok/s (total 519,790tok)\n",
      "step 52000: loss 0.12 4.49ms 2226tok/s (total 519,990tok)\n",
      "Oh my lord\n",
      "OUCES:!\n",
      "\n",
      "\n",
      "\n",
      "\n",
      "step 52020: loss 12.42 13.50ms 741tok/s (total 520,190tok)\n",
      "step 52040: loss 1.52 11.80ms 847tok/s (total 520,390tok)\n",
      "step 52060: loss 3.38 21.66ms 462tok/s (total 520,590tok)\n",
      "step 52080: loss 5.71 21.43ms 467tok/s (total 520,790tok)\n",
      "step 52100: loss 2.12 16.76ms 597tok/s (total 520,990tok)\n",
      "Oh my lord\n",
      "QENIUS:\n",
      "\n",
      "\n",
      "\n",
      "\n",
      "step 52120: loss 5.66 19.73ms 507tok/s (total 521,190tok)\n",
      "step 52140: loss 7.14 17.49ms 572tok/s (total 521,390tok)\n",
      "step 52160: loss 4.51 21.47ms 466tok/s (total 521,590tok)\n",
      "step 52180: loss 2.70 9.04ms 1106tok/s (total 521,790tok)\n",
      "step 52200: loss 6.37 19.56ms 511tok/s (total 521,990tok)\n",
      "Oh my lord\n",
      "QENIUS:,:,:\n",
      "step 52220: loss 8.38 22.08ms 453tok/s (total 522,190tok)\n",
      "step 52240: loss 7.52 15.31ms 653tok/s (total 522,390tok)\n",
      "step 52260: loss 3.45 17.18ms 582tok/s (total 522,590tok)\n",
      "step 52280: loss 8.24 14.84ms 674tok/s (total 522,790tok)\n",
      "step 52300: loss 2.42 20.52ms 487tok/s (total 522,990tok)\n",
      "Oh my lord\n",
      "QENIUS:\n",
      "\n",
      "\n",
      ",\n",
      "step 52320: loss 3.96 18.20ms 550tok/s (total 523,190tok)\n",
      "step 52340: loss 1.18 8.89ms 1124tok/s (total 523,390tok)\n",
      "step 52360: loss 5.13 21.42ms 467tok/s (total 523,590tok)\n",
      "step 52380: loss 4.12 23.02ms 434tok/s (total 523,790tok)\n",
      "step 52400: loss 0.03 20.98ms 477tok/s (total 523,990tok)\n",
      "Oh my lord,\n",
      "QENIUS:\n",
      "\n",
      "\n",
      "\n",
      "step 52420: loss 10.71 11.91ms 840tok/s (total 524,190tok)\n",
      "step 52440: loss 9.32 20.70ms 483tok/s (total 524,390tok)\n",
      "step 52460: loss 7.82 20.66ms 484tok/s (total 524,590tok)\n",
      "step 52480: loss 3.83 20.68ms 483tok/s (total 524,790tok)\n",
      "step 52500: loss 3.30 20.95ms 477tok/s (total 524,990tok)\n",
      "Oh my lord,\n",
      "GLC, to, and to,\n",
      "step 52520: loss 7.07 21.64ms 462tok/s (total 525,190tok)\n",
      "step 52540: loss 3.76 21.95ms 455tok/s (total 525,390tok)\n",
      "step 52560: loss 1.68 21.86ms 458tok/s (total 525,590tok)\n",
      "step 52580: loss 1.92 20.73ms 482tok/s (total 525,790tok)\n",
      "step 52600: loss 5.99 21.09ms 474tok/s (total 525,990tok)\n",
      "Oh my lord,\n",
      "GLC to theAnd.\n",
      "\n",
      "\n",
      "step 52620: loss 11.19 21.74ms 460tok/s (total 526,190tok)\n",
      "step 52640: loss 4.44 20.74ms 482tok/s (total 526,390tok)\n",
      "step 52660: loss 5.75 22.21ms 450tok/s (total 526,590tok)\n",
      "step 52680: loss 4.32 6.02ms 1662tok/s (total 526,790tok)\n",
      "step 52700: loss 12.94 7.12ms 1405tok/s (total 526,990tok)\n",
      "Oh my lord,\n",
      "QENIUS:\n",
      ",\n",
      "\n",
      "step 52720: loss 5.92 11.23ms 891tok/s (total 527,190tok)\n",
      "step 52740: loss 2.61 9.45ms 1058tok/s (total 527,390tok)\n",
      "step 52760: loss 6.15 6.04ms 1656tok/s (total 527,590tok)\n",
      "step 52780: loss 11.81 4.76ms 2101tok/s (total 527,790tok)\n",
      "step 52800: loss 7.35 7.83ms 1277tok/s (total 527,990tok)\n",
      "Oh my lord\n",
      "QENET:\n",
      "\n",
      "\n",
      "\n",
      "\n",
      "\n",
      "step 52820: loss 2.83 5.08ms 1967tok/s (total 528,190tok)\n",
      "step 52840: loss 7.71 5.32ms 1878tok/s (total 528,390tok)\n",
      "step 52860: loss 0.56 4.07ms 2455tok/s (total 528,590tok)\n",
      "step 52880: loss 1.88 17.62ms 568tok/s (total 528,790tok)\n",
      "step 52900: loss 12.24 7.01ms 1427tok/s (total 528,990tok)\n",
      "Oh my lord.\n",
      "O,\n",
      "QUEENGEN\n",
      "step 52920: loss 2.36 8.62ms 1160tok/s (total 529,190tok)\n",
      "step 52940: loss 5.00 13.41ms 746tok/s (total 529,390tok)\n",
      "step 52960: loss 6.34 18.12ms 552tok/s (total 529,590tok)\n",
      "step 52980: loss 1.35 19.81ms 505tok/s (total 529,790tok)\n",
      "step 53000: loss 9.91 8.89ms 1124tok/s (total 529,990tok)\n",
      "Oh my lord\n",
      "OUCES:\n",
      ",\n",
      "\n",
      "\n",
      "\n",
      "step 53020: loss 4.74 10.88ms 919tok/s (total 530,190tok)\n",
      "step 53040: loss 1.89 12.48ms 801tok/s (total 530,390tok)\n",
      "step 53060: loss 8.28 20.90ms 479tok/s (total 530,590tok)\n",
      "step 53080: loss 2.15 3.57ms 2803tok/s (total 530,790tok)\n",
      "step 53100: loss 5.58 12.31ms 812tok/s (total 530,990tok)\n",
      "Oh my lord\n",
      "And to,\n",
      "And to\n",
      " thee to\n",
      "step 53120: loss 4.30 20.93ms 478tok/s (total 531,190tok)\n",
      "step 53140: loss 0.21 20.98ms 477tok/s (total 531,390tok)\n",
      "step 53160: loss 2.75 20.72ms 483tok/s (total 531,590tok)\n",
      "step 53180: loss 4.06 21.85ms 458tok/s (total 531,790tok)\n",
      "step 53200: loss 0.52 20.77ms 482tok/s (total 531,990tok)\n",
      "Oh my lord.\n",
      "\n",
      "\n",
      "\n",
      "\n",
      "\n",
      "\n",
      "\n",
      "\n",
      "\n",
      "step 53220: loss 4.59 12.73ms 786tok/s (total 532,190tok)\n",
      "step 53240: loss 5.59 22.00ms 455tok/s (total 532,390tok)\n",
      "step 53260: loss 4.72 21.58ms 463tok/s (total 532,590tok)\n",
      "step 53280: loss 6.76 21.31ms 469tok/s (total 532,790tok)\n",
      "step 53300: loss 1.36 18.60ms 538tok/s (total 532,990tok)\n",
      "Oh my lord.\n",
      "\n",
      "\n",
      "\n",
      "\n",
      "\n",
      "\n",
      "\n",
      "\n",
      "\n",
      "step 53320: loss 0.07 18.19ms 550tok/s (total 533,190tok)\n",
      "step 53340: loss 7.35 20.81ms 481tok/s (total 533,390tok)\n",
      "step 53360: loss 7.60 21.02ms 476tok/s (total 533,590tok)\n",
      "step 53380: loss 3.77 20.80ms 481tok/s (total 533,790tok)\n",
      "step 53400: loss 9.16 21.08ms 474tok/s (total 533,990tok)\n",
      "Oh my lord.\n",
      ",QUEEN\n",
      "CABETH\n",
      "step 53420: loss 10.75 20.99ms 476tok/s (total 534,190tok)\n",
      "step 53440: loss 8.21 20.74ms 482tok/s (total 534,390tok)\n",
      "step 53460: loss 2.31 20.32ms 492tok/s (total 534,590tok)\n",
      "step 53480: loss 10.09 6.33ms 1580tok/s (total 534,790tok)\n",
      "step 53500: loss 11.76 7.01ms 1427tok/s (total 534,990tok)\n",
      "Oh my lord.\n",
      ",\n",
      "OUCESTER:\n",
      "\n",
      "step 53520: loss 9.01 6.80ms 1471tok/s (total 535,190tok)\n",
      "step 53540: loss 7.71 4.14ms 2414tok/s (total 535,390tok)\n",
      "step 53560: loss 9.39 4.30ms 2328tok/s (total 535,590tok)\n",
      "step 53580: loss 12.40 4.19ms 2384tok/s (total 535,790tok)\n",
      "step 53600: loss 0.04 5.68ms 1761tok/s (total 535,990tok)\n",
      "Oh my lord.\n",
      "OUCTERCCCCC\n",
      "step 53620: loss 8.73 5.17ms 1936tok/s (total 536,190tok)\n",
      "step 53640: loss 10.22 5.04ms 1986tok/s (total 536,390tok)\n",
      "step 53660: loss 6.22 5.32ms 1878tok/s (total 536,590tok)\n",
      "step 53680: loss 11.32 5.16ms 1939tok/s (total 536,790tok)\n",
      "step 53700: loss 4.26 4.40ms 2273tok/s (total 536,990tok)\n",
      "Oh my lord.\n",
      ",,,,,,,,\n",
      "step 53720: loss 5.59 4.77ms 2094tok/s (total 537,190tok)\n",
      "step 53740: loss 12.97 5.31ms 1885tok/s (total 537,390tok)\n",
      "step 53760: loss 4.94 4.34ms 2304tok/s (total 537,590tok)\n",
      "step 53780: loss 0.14 6.18ms 1619tok/s (total 537,790tok)\n",
      "step 53800: loss 6.39 5.85ms 1709tok/s (total 537,990tok)\n",
      "Oh my lord.\n",
      ",GLOUCESTER:\n",
      "\n",
      "step 53820: loss 2.67 4.58ms 2186tok/s (total 538,190tok)\n",
      "step 53840: loss 0.14 5.70ms 1753tok/s (total 538,390tok)\n",
      "step 53860: loss 4.40 4.05ms 2469tok/s (total 538,590tok)\n",
      "step 53880: loss 0.67 11.23ms 890tok/s (total 538,790tok)\n",
      "step 53900: loss 2.45 6.02ms 1661tok/s (total 538,990tok)\n",
      "Oh my lord,\n",
      ",I, to, a,\n",
      "\n",
      "step 53920: loss 6.49 3.82ms 2618tok/s (total 539,190tok)\n",
      "step 53940: loss 4.59 3.89ms 2568tok/s (total 539,390tok)\n",
      "step 53960: loss 12.81 13.11ms 763tok/s (total 539,590tok)\n",
      "step 53980: loss 3.93 5.78ms 1730tok/s (total 539,790tok)\n",
      "step 54000: loss 11.59 4.08ms 2450tok/s (total 539,990tok)\n",
      "Oh my lord.\n",
      "Y:\n",
      "\n",
      "\n",
      "\n",
      "\n",
      "\n",
      "\n",
      "step 54020: loss 3.80 4.19ms 2384tok/s (total 540,190tok)\n",
      "step 54040: loss 8.94 11.54ms 866tok/s (total 540,390tok)\n",
      "step 54060: loss 2.92 5.94ms 1684tok/s (total 540,590tok)\n",
      "step 54080: loss 3.27 4.84ms 2067tok/s (total 540,790tok)\n",
      "step 54100: loss 6.47 9.08ms 1101tok/s (total 540,990tok)\n",
      "Oh my lord.\n",
      "Y:\n",
      ",,,,,\n",
      "step 54120: loss 9.64 5.82ms 1718tok/s (total 541,190tok)\n",
      "step 54140: loss 4.64 6.38ms 1567tok/s (total 541,390tok)\n",
      "step 54160: loss 3.15 7.44ms 1344tok/s (total 541,590tok)\n",
      "step 54180: loss 4.13 6.74ms 1484tok/s (total 541,790tok)\n",
      "step 54200: loss 6.65 5.16ms 1938tok/s (total 541,990tok)\n",
      "Oh my lord.\n",
      "Y:\n",
      ",\n",
      "What, in\n",
      "step 54220: loss 2.48 8.54ms 1171tok/s (total 542,190tok)\n",
      "step 54240: loss 4.93 4.63ms 2160tok/s (total 542,390tok)\n",
      "step 54260: loss 2.14 4.19ms 2384tok/s (total 542,590tok)\n",
      "step 54280: loss 0.33 4.81ms 2079tok/s (total 542,790tok)\n",
      "step 54300: loss 3.09 20.79ms 481tok/s (total 542,990tok)\n",
      "Oh my lord.\n",
      "Y:\n",
      "\n",
      "\n",
      "\n",
      "\n",
      "\n",
      "\n",
      "step 54320: loss 1.57 13.06ms 766tok/s (total 543,190tok)\n",
      "step 54340: loss 1.76 20.96ms 477tok/s (total 543,390tok)\n",
      "step 54360: loss 0.26 5.63ms 1776tok/s (total 543,590tok)\n",
      "step 54380: loss 2.38 18.16ms 551tok/s (total 543,790tok)\n",
      "step 54400: loss 7.29 4.30ms 2326tok/s (total 543,990tok)\n",
      "Oh my lord.\n",
      "Y:\n",
      "\n",
      "\n",
      "\n",
      "\n",
      "\n",
      "\n",
      "step 54420: loss 7.67 16.70ms 599tok/s (total 544,190tok)\n",
      "step 54440: loss 12.60 4.32ms 2312tok/s (total 544,390tok)\n",
      "step 54460: loss 12.12 5.15ms 1941tok/s (total 544,590tok)\n",
      "step 54480: loss 6.74 9.51ms 1052tok/s (total 544,790tok)\n",
      "step 54500: loss 10.25 5.59ms 1788tok/s (total 544,990tok)\n",
      "Oh my lord,\n",
      "C,\n",
      "Y:,:,\n",
      "step 54520: loss 2.92 9.44ms 1059tok/s (total 545,190tok)\n",
      "step 54540: loss 10.15 17.79ms 562tok/s (total 545,390tok)\n",
      "step 54560: loss 2.45 8.44ms 1184tok/s (total 545,590tok)\n",
      "step 54580: loss 0.93 21.31ms 469tok/s (total 545,790tok)\n",
      "step 54600: loss 7.45 16.78ms 596tok/s (total 545,990tok)\n",
      "Oh my lord,\n",
      "'d, in the of, that\n",
      "\n",
      "step 54620: loss 10.06 9.36ms 1068tok/s (total 546,190tok)\n",
      "step 54640: loss 5.34 21.35ms 468tok/s (total 546,390tok)\n",
      "step 54660: loss 4.10 3.15ms 3177tok/s (total 546,590tok)\n",
      "step 54680: loss 1.09 16.80ms 595tok/s (total 546,790tok)\n",
      "step 54700: loss 13.63 19.43ms 515tok/s (total 546,990tok)\n",
      "Oh my lord,\n",
      "I to the\n",
      "And, my;\n",
      "step 54720: loss 6.37 17.45ms 573tok/s (total 547,190tok)\n",
      "step 54740: loss 1.50 21.10ms 474tok/s (total 547,390tok)\n",
      "step 54760: loss 5.77 13.40ms 746tok/s (total 547,590tok)\n",
      "step 54780: loss 3.49 21.96ms 455tok/s (total 547,790tok)\n",
      "step 54800: loss 12.92 11.20ms 893tok/s (total 547,990tok)\n",
      "Oh my lord,\n",
      "I, my,; and my,\n",
      "step 54820: loss 9.80 20.71ms 483tok/s (total 548,190tok)\n",
      "step 54840: loss 7.72 5.51ms 1814tok/s (total 548,390tok)\n",
      "step 54860: loss 13.15 9.04ms 1106tok/s (total 548,590tok)\n",
      "step 54880: loss 11.94 19.35ms 517tok/s (total 548,790tok)\n",
      "step 54900: loss 0.61 4.84ms 2064tok/s (total 548,990tok)\n",
      "Oh my lord,\n",
      "I, to the.\n",
      "\n",
      "\n",
      "\n",
      "step 54920: loss 10.47 20.06ms 498tok/s (total 549,190tok)\n",
      "step 54940: loss 5.65 13.16ms 760tok/s (total 549,390tok)\n",
      "step 54960: loss 0.95 20.83ms 480tok/s (total 549,590tok)\n",
      "step 54980: loss 0.06 5.68ms 1760tok/s (total 549,790tok)\n",
      "step 55000: loss 2.16 21.01ms 476tok/s (total 549,990tok)\n",
      "Oh my lord,.,.\n",
      "\n",
      "\n",
      "\n",
      "\n",
      "\n",
      "\n",
      "step 55020: loss 5.21 13.18ms 759tok/s (total 550,190tok)\n",
      "step 55040: loss 6.80 19.33ms 517tok/s (total 550,390tok)\n",
      "step 55060: loss 4.14 9.11ms 1098tok/s (total 550,590tok)\n",
      "step 55080: loss 0.21 13.17ms 759tok/s (total 550,790tok)\n",
      "step 55100: loss 6.01 4.90ms 2041tok/s (total 550,990tok)\n",
      "Oh my lord.\n",
      "Y:\n",
      "I, to to\n",
      "\n",
      "step 55120: loss 5.89 17.31ms 578tok/s (total 551,190tok)\n",
      "step 55140: loss 0.58 16.63ms 601tok/s (total 551,390tok)\n",
      "step 55160: loss 3.53 11.73ms 853tok/s (total 551,590tok)\n",
      "step 55180: loss 0.40 7.92ms 1262tok/s (total 551,790tok)\n",
      "step 55200: loss 9.56 8.27ms 1209tok/s (total 551,990tok)\n",
      "Oh my lord.\n",
      "\n",
      "\n",
      "\n",
      "\n",
      "\n",
      "\n",
      "\n",
      "\n",
      "\n",
      "step 55220: loss 3.32 4.36ms 2295tok/s (total 552,190tok)\n",
      "step 55240: loss 11.95 21.16ms 473tok/s (total 552,390tok)\n",
      "step 55260: loss 0.34 5.83ms 1714tok/s (total 552,590tok)\n",
      "step 55280: loss 2.85 11.89ms 841tok/s (total 552,790tok)\n",
      "step 55300: loss 3.67 20.90ms 479tok/s (total 552,990tok)\n",
      "Oh my lord.\n",
      "\n",
      "\n",
      "\n",
      "\n",
      "\n",
      "\n",
      "\n",
      "\n",
      "\n",
      "step 55320: loss 3.38 11.34ms 882tok/s (total 553,190tok)\n",
      "step 55340: loss 11.18 7.36ms 1359tok/s (total 553,390tok)\n",
      "step 55360: loss 1.28 5.51ms 1813tok/s (total 553,590tok)\n",
      "step 55380: loss 13.24 5.85ms 1709tok/s (total 553,790tok)\n",
      "step 55400: loss 0.01 5.65ms 1769tok/s (total 553,990tok)\n",
      "Oh my lord.\n",
      "\n",
      "\n",
      "\n",
      "\n",
      "\n",
      "\n",
      "\n",
      "\n",
      "\n",
      "step 55420: loss 0.01 4.92ms 2033tok/s (total 554,190tok)\n",
      "step 55440: loss 6.61 5.71ms 1750tok/s (total 554,390tok)\n",
      "step 55460: loss 6.63 6.56ms 1524tok/s (total 554,590tok)\n",
      "step 55480: loss 0.02 5.22ms 1917tok/s (total 554,790tok)\n",
      "step 55500: loss 0.19 21.40ms 467tok/s (total 554,990tok)\n",
      "Oh my lord.\n",
      "\n",
      "\n",
      "\n",
      "\n",
      "\n",
      "\n",
      "\n",
      "\n",
      "\n",
      "step 55520: loss 8.44 6.92ms 1445tok/s (total 555,190tok)\n",
      "step 55540: loss 7.59 4.20ms 2379tok/s (total 555,390tok)\n",
      "step 55560: loss 4.32 6.87ms 1456tok/s (total 555,590tok)\n",
      "step 55580: loss 7.72 7.06ms 1416tok/s (total 555,790tok)\n",
      "step 55600: loss 13.32 14.87ms 672tok/s (total 555,990tok)\n",
      "Oh my lord.\n",
      "\n",
      "\n",
      "\n",
      "\n",
      "\n",
      "\n",
      "\n",
      "\n",
      "\n",
      "step 55620: loss 6.31 11.61ms 861tok/s (total 556,190tok)\n",
      "step 55640: loss 5.94 21.52ms 465tok/s (total 556,390tok)\n",
      "step 55660: loss 4.19 11.45ms 873tok/s (total 556,590tok)\n",
      "step 55680: loss 10.94 12.76ms 784tok/s (total 556,790tok)\n",
      "step 55700: loss 2.82 3.69ms 2709tok/s (total 556,990tok)\n",
      "Oh my lord.\n",
      "\n",
      "\n",
      "\n",
      "\n",
      "\n",
      "\n",
      "\n",
      "\n",
      "\n",
      "step 55720: loss 5.84 3.88ms 2577tok/s (total 557,190tok)\n",
      "step 55740: loss 6.45 8.97ms 1115tok/s (total 557,390tok)\n",
      "step 55760: loss 3.40 19.50ms 513tok/s (total 557,590tok)\n",
      "step 55780: loss 10.05 12.83ms 780tok/s (total 557,790tok)\n",
      "step 55800: loss 4.95 4.16ms 2404tok/s (total 557,990tok)\n",
      "Oh my lord.\n",
      "\n",
      "\n",
      "\n",
      "\n",
      "\n",
      "\n",
      "\n",
      "\n",
      "\n",
      "step 55820: loss 10.37 23.04ms 434tok/s (total 558,190tok)\n",
      "step 55840: loss 10.78 19.21ms 520tok/s (total 558,390tok)\n",
      "step 55860: loss 10.59 9.17ms 1091tok/s (total 558,590tok)\n",
      "step 55880: loss 4.19 4.94ms 2025tok/s (total 558,790tok)\n",
      "step 55900: loss 3.88 18.42ms 543tok/s (total 558,990tok)\n",
      "Oh my lord.\n",
      "\n",
      "\n",
      "\n",
      "\n",
      "\n",
      "\n",
      "\n",
      "\n",
      "\n",
      "step 55920: loss 2.30 10.06ms 994tok/s (total 559,190tok)\n",
      "step 55940: loss 1.77 21.13ms 473tok/s (total 559,390tok)\n",
      "step 55960: loss 2.37 5.61ms 1781tok/s (total 559,590tok)\n",
      "step 55980: loss 2.98 11.90ms 840tok/s (total 559,790tok)\n",
      "step 56000: loss 11.69 19.93ms 502tok/s (total 559,990tok)\n",
      "Oh my lord.\n",
      "\n",
      "\n",
      "\n",
      "\n",
      "\n",
      "\n",
      "\n",
      "\n",
      "\n",
      "step 56020: loss 9.02 11.93ms 838tok/s (total 560,190tok)\n",
      "step 56040: loss 0.38 18.38ms 544tok/s (total 560,390tok)\n",
      "step 56060: loss 6.26 5.88ms 1702tok/s (total 560,590tok)\n",
      "step 56080: loss 0.50 21.42ms 467tok/s (total 560,790tok)\n",
      "step 56100: loss 0.00 20.75ms 482tok/s (total 560,990tok)\n",
      "Oh my lord.\n",
      "AR:\n",
      "\n",
      "\n",
      "\n",
      "\n",
      "\n",
      "\n",
      "step 56120: loss 6.77 20.72ms 483tok/s (total 561,190tok)\n",
      "step 56140: loss 0.02 21.00ms 476tok/s (total 561,390tok)\n",
      "step 56160: loss 4.03 18.19ms 550tok/s (total 561,590tok)\n",
      "step 56180: loss 5.35 12.21ms 819tok/s (total 561,790tok)\n",
      "step 56200: loss 4.14 18.37ms 544tok/s (total 561,990tok)\n",
      "Oh my lord.\n",
      "ARENCE:\n",
      "\n",
      "\n",
      "\n",
      "\n",
      "\n",
      "step 56220: loss 5.99 17.47ms 572tok/s (total 562,190tok)\n",
      "step 56240: loss 10.97 4.77ms 2095tok/s (total 562,390tok)\n",
      "step 56260: loss 6.98 6.94ms 1440tok/s (total 562,590tok)\n",
      "step 56280: loss 6.65 21.00ms 476tok/s (total 562,790tok)\n",
      "step 56300: loss 6.77 13.81ms 724tok/s (total 562,990tok)\n",
      "Oh my lord,\n",
      "CLAR: you?\n",
      "\n",
      "\n",
      "\n",
      "step 56320: loss 3.94 12.35ms 810tok/s (total 563,190tok)\n",
      "step 56340: loss 0.03 20.81ms 480tok/s (total 563,390tok)\n",
      "step 56360: loss 8.29 15.03ms 665tok/s (total 563,590tok)\n",
      "step 56380: loss 5.34 20.81ms 481tok/s (total 563,790tok)\n",
      "step 56400: loss 11.98 21.35ms 468tok/s (total 563,990tok)\n",
      "Oh my lord,\n",
      "AR: we have.\n",
      "\n",
      "\n",
      "\n",
      "step 56420: loss 1.23 21.00ms 476tok/s (total 564,190tok)\n",
      "step 56440: loss 3.58 20.55ms 487tok/s (total 564,390tok)\n",
      "step 56460: loss 7.13 13.60ms 735tok/s (total 564,590tok)\n",
      "step 56480: loss 4.17 21.04ms 475tok/s (total 564,790tok)\n",
      "step 56500: loss 3.37 5.03ms 1989tok/s (total 564,990tok)\n",
      "Oh my lord,\n",
      "Firsterer:,:,:,\n",
      "step 56520: loss 10.23 13.93ms 718tok/s (total 565,190tok)\n",
      "step 56540: loss 4.76 15.24ms 656tok/s (total 565,390tok)\n",
      "step 56560: loss 8.59 17.76ms 563tok/s (total 565,590tok)\n",
      "step 56580: loss 0.13 21.67ms 461tok/s (total 565,790tok)\n",
      "step 56600: loss 7.47 18.76ms 533tok/s (total 565,990tok)\n",
      "Oh my lord,\n",
      "CLAR: thou to\n",
      " for for\n",
      "step 56620: loss 6.64 20.74ms 482tok/s (total 566,190tok)\n",
      "step 56640: loss 4.40 21.86ms 457tok/s (total 566,390tok)\n",
      "step 56660: loss 4.44 20.81ms 481tok/s (total 566,590tok)\n",
      "step 56680: loss 6.74 20.71ms 483tok/s (total 566,790tok)\n",
      "step 56700: loss 9.82 20.74ms 482tok/s (total 566,990tok)\n",
      "Oh my lord,\n",
      "Firsterer:,:,:,\n",
      "step 56720: loss 2.72 20.73ms 482tok/s (total 567,190tok)\n",
      "step 56740: loss 7.51 20.75ms 482tok/s (total 567,390tok)\n",
      "step 56760: loss 9.18 20.71ms 483tok/s (total 567,590tok)\n",
      "step 56780: loss 1.65 20.96ms 477tok/s (total 567,790tok)\n",
      "step 56800: loss 2.38 15.82ms 632tok/s (total 567,990tok)\n",
      "Oh my lord,.,,\n",
      "CLCL,\n",
      "AR\n",
      "step 56820: loss 2.38 20.92ms 478tok/s (total 568,190tok)\n",
      "step 56840: loss 7.55 20.89ms 479tok/s (total 568,390tok)\n",
      "step 56860: loss 5.69 15.07ms 663tok/s (total 568,590tok)\n",
      "step 56880: loss 5.26 16.33ms 612tok/s (total 568,790tok)\n",
      "step 56900: loss 0.01 5.69ms 1757tok/s (total 568,990tok)\n",
      "Oh my lord.\n",
      "ARENCE:\n",
      "\n",
      "\n",
      "\n",
      "\n",
      "\n",
      "step 56920: loss 1.96 22.38ms 447tok/s (total 569,190tok)\n",
      "step 56940: loss 0.60 20.82ms 480tok/s (total 569,390tok)\n",
      "step 56960: loss 5.94 20.88ms 479tok/s (total 569,590tok)\n",
      "step 56980: loss 0.03 21.64ms 462tok/s (total 569,790tok)\n",
      "step 57000: loss 0.21 18.96ms 528tok/s (total 569,990tok)\n",
      "Oh my lord.\n",
      "ARENCE:\n",
      "\n",
      "\n",
      "\n",
      "\n",
      "\n",
      "step 57020: loss 0.22 7.53ms 1328tok/s (total 570,190tok)\n",
      "step 57040: loss 4.58 20.29ms 493tok/s (total 570,390tok)\n",
      "step 57060: loss 4.87 20.92ms 478tok/s (total 570,590tok)\n",
      "step 57080: loss 3.28 21.30ms 470tok/s (total 570,790tok)\n",
      "step 57100: loss 5.94 21.10ms 474tok/s (total 570,990tok)\n",
      "Oh my lord,\n",
      "Second Murderer:,:,:\n",
      "step 57120: loss 6.23 20.73ms 482tok/s (total 571,190tok)\n",
      "step 57140: loss 8.39 21.83ms 458tok/s (total 571,390tok)\n",
      "step 57160: loss 4.74 20.68ms 483tok/s (total 571,590tok)\n",
      "step 57180: loss 4.01 20.66ms 484tok/s (total 571,790tok)\n",
      "step 57200: loss 2.45 20.73ms 482tok/s (total 571,990tok)\n",
      "Oh my lord,\n",
      "CLAR: to\n",
      "And, he\n",
      "step 57220: loss 4.78 20.71ms 483tok/s (total 572,190tok)\n",
      "step 57240: loss 0.07 20.69ms 483tok/s (total 572,390tok)\n",
      "step 57260: loss 7.26 20.65ms 484tok/s (total 572,590tok)\n",
      "step 57280: loss 2.35 21.51ms 465tok/s (total 572,790tok)\n",
      "step 57300: loss 10.01 20.72ms 483tok/s (total 572,990tok)\n",
      "Oh my lord,.,.\n",
      "CLENCE:\n",
      "\n",
      "\n",
      "step 57320: loss 2.05 21.02ms 476tok/s (total 573,190tok)\n",
      "step 57340: loss 4.50 20.67ms 484tok/s (total 573,390tok)\n",
      "step 57360: loss 3.68 20.81ms 481tok/s (total 573,590tok)\n",
      "step 57380: loss 11.70 21.69ms 461tok/s (total 573,790tok)\n",
      "step 57400: loss 4.55 20.82ms 480tok/s (total 573,990tok)\n",
      "Oh my lord,\n",
      "Seconderer: you, you\n",
      " you\n",
      "step 57420: loss 6.99 21.02ms 476tok/s (total 574,190tok)\n",
      "step 57440: loss 0.87 21.01ms 476tok/s (total 574,390tok)\n",
      "step 57460: loss 9.39 20.67ms 484tok/s (total 574,590tok)\n",
      "step 57480: loss 1.54 21.38ms 468tok/s (total 574,790tok)\n",
      "step 57500: loss 3.11 20.70ms 483tok/s (total 574,990tok)\n",
      "Oh my lord,\n",
      "First Murderer:,:,:\n",
      "step 57520: loss 0.39 20.73ms 482tok/s (total 575,190tok)\n",
      "step 57540: loss 7.61 22.21ms 450tok/s (total 575,390tok)\n",
      "step 57560: loss 2.29 20.69ms 483tok/s (total 575,590tok)\n",
      "step 57580: loss 3.26 21.17ms 472tok/s (total 575,790tok)\n",
      "step 57600: loss 4.33 20.71ms 483tok/s (total 575,990tok)\n",
      "Oh my lord.\n",
      "Firsterer:\n",
      "\n",
      "\n",
      "\n",
      "\n",
      "\n",
      "step 57620: loss 1.68 20.66ms 484tok/s (total 576,190tok)\n",
      "step 57640: loss 5.86 20.69ms 483tok/s (total 576,390tok)\n",
      "step 57660: loss 12.41 20.69ms 483tok/s (total 576,590tok)\n",
      "step 57680: loss 7.75 20.76ms 482tok/s (total 576,790tok)\n",
      "step 57700: loss 0.01 20.67ms 484tok/s (total 576,990tok)\n",
      "Oh my lord.\n",
      "\n",
      "\n",
      "\n",
      "\n",
      "\n",
      "\n",
      "\n",
      "\n",
      "\n",
      "step 57720: loss 6.09 20.72ms 483tok/s (total 577,190tok)\n",
      "step 57740: loss 7.31 20.81ms 481tok/s (total 577,390tok)\n",
      "step 57760: loss 0.67 20.99ms 476tok/s (total 577,590tok)\n",
      "step 57780: loss 1.79 23.73ms 421tok/s (total 577,790tok)\n",
      "step 57800: loss 4.97 21.07ms 475tok/s (total 577,990tok)\n",
      "Oh my lord.\n",
      "\n",
      "\n",
      "\n",
      "\n",
      "\n",
      "\n",
      "\n",
      "\n",
      "\n",
      "step 57820: loss 8.16 20.98ms 477tok/s (total 578,190tok)\n",
      "step 57840: loss 1.82 21.16ms 473tok/s (total 578,390tok)\n",
      "step 57860: loss 11.39 20.93ms 478tok/s (total 578,590tok)\n",
      "step 57880: loss 4.13 20.90ms 478tok/s (total 578,790tok)\n",
      "step 57900: loss 2.91 21.93ms 456tok/s (total 578,990tok)\n",
      "Oh my lord,\n",
      "And, I, as you have the\n",
      "step 57920: loss 10.77 21.07ms 475tok/s (total 579,190tok)\n",
      "step 57940: loss 4.89 21.56ms 464tok/s (total 579,390tok)\n",
      "step 57960: loss 9.23 20.72ms 483tok/s (total 579,590tok)\n",
      "step 57980: loss 5.25 20.78ms 481tok/s (total 579,790tok)\n",
      "step 58000: loss 8.06 20.79ms 481tok/s (total 579,990tok)\n",
      "Oh my lord,;\n",
      "And I love, love love love\n",
      "step 58020: loss 8.81 20.71ms 483tok/s (total 580,190tok)\n",
      "step 58040: loss 4.55 20.69ms 483tok/s (total 580,390tok)\n",
      "step 58060: loss 0.41 20.99ms 476tok/s (total 580,590tok)\n",
      "step 58080: loss 11.92 20.82ms 480tok/s (total 580,790tok)\n",
      "step 58100: loss 3.45 5.41ms 1850tok/s (total 580,990tok)\n",
      "Oh my lord\n",
      "H:\n",
      ", I\n",
      "And, I\n",
      "step 58120: loss 4.85 6.76ms 1480tok/s (total 581,190tok)\n",
      "step 58140: loss 5.27 6.11ms 1636tok/s (total 581,390tok)\n",
      "step 58160: loss 5.29 6.67ms 1498tok/s (total 581,590tok)\n",
      "step 58180: loss 4.44 4.86ms 2058tok/s (total 581,790tok)\n",
      "step 58200: loss 1.90 4.74ms 2111tok/s (total 581,990tok)\n",
      "Oh my lord.\n",
      "HENCE:\n",
      "\n",
      "\n",
      "\n",
      "\n",
      "\n",
      "step 58220: loss 4.78 10.65ms 939tok/s (total 582,190tok)\n",
      "step 58240: loss 6.36 20.88ms 479tok/s (total 582,390tok)\n",
      "step 58260: loss 3.30 7.71ms 1297tok/s (total 582,590tok)\n",
      "step 58280: loss 6.38 18.97ms 527tok/s (total 582,790tok)\n",
      "step 58300: loss 3.26 3.64ms 2744tok/s (total 582,990tok)\n",
      "Oh my lord.\n",
      "H\n",
      "ENCE:\n",
      ",,,\n",
      "step 58320: loss 0.10 6.78ms 1475tok/s (total 583,190tok)\n",
      "step 58340: loss 6.17 20.81ms 480tok/s (total 583,390tok)\n",
      "step 58360: loss 5.31 10.69ms 936tok/s (total 583,590tok)\n",
      "step 58380: loss 3.22 20.81ms 480tok/s (total 583,790tok)\n",
      "step 58400: loss 7.52 20.74ms 482tok/s (total 583,990tok)\n",
      "Oh my lord.\n",
      "\n",
      "\n",
      "\n",
      "\n",
      "\n",
      "\n",
      "\n",
      "\n",
      "\n",
      "step 58420: loss 6.63 21.18ms 472tok/s (total 584,190tok)\n",
      "step 58440: loss 6.39 20.75ms 482tok/s (total 584,390tok)\n",
      "step 58460: loss 3.94 20.70ms 483tok/s (total 584,590tok)\n",
      "step 58480: loss 6.64 8.23ms 1215tok/s (total 584,790tok)\n",
      "step 58500: loss 11.17 15.89ms 629tok/s (total 584,990tok)\n",
      "Oh my lord,\n",
      "First:;\n",
      ", and, you\n",
      "step 58520: loss 11.70 10.95ms 914tok/s (total 585,190tok)\n",
      "step 58540: loss 4.69 21.06ms 475tok/s (total 585,390tok)\n",
      "step 58560: loss 1.92 21.46ms 466tok/s (total 585,590tok)\n",
      "step 58580: loss 9.24 21.01ms 476tok/s (total 585,790tok)\n",
      "step 58600: loss 6.87 21.00ms 476tok/s (total 585,990tok)\n",
      "Oh my lord.\n",
      "UEENIUS:\n",
      "\n",
      "\n",
      "\n",
      "step 58620: loss 6.80 20.87ms 479tok/s (total 586,190tok)\n",
      "step 58640: loss 0.07 17.39ms 575tok/s (total 586,390tok)\n",
      "step 58660: loss 9.30 20.61ms 485tok/s (total 586,590tok)\n",
      "step 58680: loss 1.93 20.78ms 481tok/s (total 586,790tok)\n",
      "step 58700: loss 4.05 20.72ms 483tok/s (total 586,990tok)\n",
      "Oh my lord.\n",
      "UEENAB:\n",
      "\n",
      "\n",
      "\n",
      "\n",
      "step 58720: loss 5.45 21.30ms 469tok/s (total 587,190tok)\n",
      "step 58740: loss 5.44 20.74ms 482tok/s (total 587,390tok)\n",
      "step 58760: loss 0.01 20.75ms 482tok/s (total 587,590tok)\n",
      "step 58780: loss 4.59 19.13ms 523tok/s (total 587,790tok)\n",
      "step 58800: loss 5.03 21.42ms 467tok/s (total 587,990tok)\n",
      "Oh my lord.\n",
      "GLOUCESTER:\n",
      "\n",
      "\n",
      "step 58820: loss 12.09 17.62ms 568tok/s (total 588,190tok)\n",
      "step 58840: loss 3.95 19.51ms 513tok/s (total 588,390tok)\n",
      "step 58860: loss 11.51 20.69ms 483tok/s (total 588,590tok)\n",
      "step 58880: loss 6.85 22.09ms 453tok/s (total 588,790tok)\n",
      "step 58900: loss 6.52 20.93ms 478tok/s (total 588,990tok)\n",
      "Oh my lord.\n",
      "\n",
      "\n",
      "\n",
      "\n",
      "\n",
      "\n",
      "\n",
      "\n",
      "\n",
      "step 58920: loss 1.58 19.92ms 502tok/s (total 589,190tok)\n",
      "step 58940: loss 1.87 20.70ms 483tok/s (total 589,390tok)\n",
      "step 58960: loss 5.62 21.61ms 463tok/s (total 589,590tok)\n",
      "step 58980: loss 3.11 20.39ms 490tok/s (total 589,790tok)\n",
      "step 59000: loss 8.82 15.59ms 641tok/s (total 589,990tok)\n",
      "Oh my lord.\n",
      "\n",
      "\n",
      "\n",
      "\n",
      "\n",
      "\n",
      "\n",
      "\n",
      "\n",
      "step 59020: loss 3.81 20.78ms 481tok/s (total 590,190tok)\n",
      "step 59040: loss 8.59 15.23ms 657tok/s (total 590,390tok)\n",
      "step 59060: loss 11.01 20.83ms 480tok/s (total 590,590tok)\n",
      "step 59080: loss 10.63 18.20ms 549tok/s (total 590,790tok)\n",
      "step 59100: loss 10.24 19.83ms 504tok/s (total 590,990tok)\n",
      "Oh my lord.\n",
      "ET:\n",
      "WhoWho,Who me\n",
      "step 59120: loss 2.63 15.66ms 639tok/s (total 591,190tok)\n",
      "step 59140: loss 8.05 20.64ms 485tok/s (total 591,390tok)\n",
      "step 59160: loss 7.20 20.58ms 486tok/s (total 591,590tok)\n",
      "step 59180: loss 6.98 20.72ms 483tok/s (total 591,790tok)\n",
      "step 59200: loss 7.21 21.54ms 464tok/s (total 591,990tok)\n",
      "Oh my lord.\n",
      "ET:\n",
      "\n",
      "\n",
      ",Who,\n",
      "step 59220: loss 5.88 20.74ms 482tok/s (total 592,190tok)\n",
      "step 59240: loss 3.69 20.76ms 482tok/s (total 592,390tok)\n",
      "step 59260: loss 3.27 19.00ms 526tok/s (total 592,590tok)\n",
      "step 59280: loss 2.56 21.06ms 475tok/s (total 592,790tok)\n",
      "step 59300: loss 8.96 20.74ms 482tok/s (total 592,990tok)\n",
      "Oh my lord.\n",
      "ET:\n",
      ",Who,Who,\n",
      "step 59320: loss 4.52 21.32ms 469tok/s (total 593,190tok)\n",
      "step 59340: loss 8.31 20.73ms 482tok/s (total 593,390tok)\n",
      "step 59360: loss 4.91 17.46ms 573tok/s (total 593,590tok)\n",
      "step 59380: loss 7.43 21.18ms 472tok/s (total 593,790tok)\n",
      "step 59400: loss 6.98 15.39ms 650tok/s (total 593,990tok)\n",
      "Oh my lord.\n",
      "GLOUCESTER:\n",
      "\n",
      "\n",
      "step 59420: loss 5.99 21.39ms 468tok/s (total 594,190tok)\n",
      "step 59440: loss 6.48 20.93ms 478tok/s (total 594,390tok)\n",
      "step 59460: loss 3.02 20.82ms 480tok/s (total 594,590tok)\n",
      "step 59480: loss 4.68 21.49ms 465tok/s (total 594,790tok)\n",
      "step 59500: loss 12.50 5.71ms 1752tok/s (total 594,990tok)\n",
      "Oh my lord.\n",
      "\n",
      "\n",
      "\n",
      "\n",
      "\n",
      "\n",
      "\n",
      "\n",
      "\n",
      "step 59520: loss 9.04 16.36ms 611tok/s (total 595,190tok)\n",
      "step 59540: loss 7.97 5.16ms 1938tok/s (total 595,390tok)\n",
      "step 59560: loss 3.57 13.51ms 740tok/s (total 595,590tok)\n",
      "step 59580: loss 4.47 20.88ms 479tok/s (total 595,790tok)\n",
      "step 59600: loss 6.21 21.10ms 474tok/s (total 595,990tok)\n",
      "Oh my lord\n",
      ":,:,,,I, your\n",
      "step 59620: loss 6.74 20.86ms 479tok/s (total 596,190tok)\n",
      "step 59640: loss 5.26 21.36ms 468tok/s (total 596,390tok)\n",
      "step 59660: loss 4.27 21.43ms 467tok/s (total 596,590tok)\n",
      "step 59680: loss 9.63 14.31ms 699tok/s (total 596,790tok)\n",
      "step 59700: loss 8.24 21.36ms 468tok/s (total 596,990tok)\n",
      "Oh my lord.\n",
      ":\n",
      "\n",
      "\n",
      "\n",
      "\n",
      "\n",
      "\n",
      "\n",
      "step 59720: loss 3.40 11.12ms 899tok/s (total 597,190tok)\n",
      "step 59740: loss 3.55 8.64ms 1157tok/s (total 597,390tok)\n",
      "step 59760: loss 3.45 12.75ms 785tok/s (total 597,590tok)\n",
      "step 59780: loss 5.23 19.36ms 516tok/s (total 597,790tok)\n",
      "step 59800: loss 2.75 20.13ms 497tok/s (total 597,990tok)\n",
      "Oh my lord\n",
      ":,And, my\n",
      "And me,\n",
      "step 59820: loss 10.49 12.82ms 780tok/s (total 598,190tok)\n",
      "step 59840: loss 9.78 21.08ms 474tok/s (total 598,390tok)\n",
      "step 59860: loss 13.11 20.87ms 479tok/s (total 598,590tok)\n",
      "step 59880: loss 10.35 20.74ms 482tok/s (total 598,790tok)\n",
      "step 59900: loss 7.43 20.71ms 483tok/s (total 598,990tok)\n",
      "Oh my lord\n",
      ":,,,,,,,,\n",
      "step 59920: loss 2.54 20.70ms 483tok/s (total 599,190tok)\n",
      "step 59940: loss 9.43 20.65ms 484tok/s (total 599,390tok)\n",
      "step 59960: loss 2.40 20.74ms 482tok/s (total 599,590tok)\n",
      "step 59980: loss 5.95 20.65ms 484tok/s (total 599,790tok)\n",
      "step 60000: loss 7.04 20.71ms 483tok/s (total 599,990tok)\n",
      "Oh my lord\n",
      "D,And.\n",
      "D\n",
      ":\n",
      "\n",
      "step 60020: loss 3.35 20.79ms 481tok/s (total 600,190tok)\n",
      "step 60040: loss 10.60 22.01ms 454tok/s (total 600,390tok)\n",
      "step 60060: loss 2.48 21.96ms 455tok/s (total 600,590tok)\n",
      "step 60080: loss 2.70 20.92ms 478tok/s (total 600,790tok)\n",
      "step 60100: loss 1.06 21.03ms 476tok/s (total 600,990tok)\n",
      "Oh my lord,\n",
      "To.\n",
      "D\n",
      "DDD\n",
      "step 60120: loss 8.23 20.77ms 481tok/s (total 601,190tok)\n",
      "step 60140: loss 4.21 27.67ms 361tok/s (total 601,390tok)\n",
      "step 60160: loss 10.63 20.77ms 481tok/s (total 601,590tok)\n",
      "step 60180: loss 5.06 20.69ms 483tok/s (total 601,790tok)\n",
      "step 60200: loss 9.69 20.74ms 482tok/s (total 601,990tok)\n",
      "Oh my lord,\n",
      "And in a; I, my\n",
      "\n",
      "step 60220: loss 7.24 20.70ms 483tok/s (total 602,190tok)\n",
      "step 60240: loss 10.43 20.73ms 482tok/s (total 602,390tok)\n",
      "step 60260: loss 4.54 20.76ms 482tok/s (total 602,590tok)\n",
      "step 60280: loss 7.38 22.02ms 454tok/s (total 602,790tok)\n",
      "step 60300: loss 4.54 21.26ms 470tok/s (total 602,990tok)\n",
      "Oh my lord,\n",
      "And'd, ourAnd our our\n",
      "\n",
      "step 60320: loss 0.47 21.55ms 464tok/s (total 603,190tok)\n",
      "step 60340: loss 2.24 21.03ms 476tok/s (total 603,390tok)\n",
      "step 60360: loss 11.64 21.63ms 462tok/s (total 603,590tok)\n",
      "step 60380: loss 11.19 21.55ms 464tok/s (total 603,790tok)\n",
      "step 60400: loss 6.76 20.84ms 480tok/s (total 603,990tok)\n",
      "Oh my lord,;\n",
      "I'd not the toAnd my\n",
      "step 60420: loss 7.14 21.12ms 473tok/s (total 604,190tok)\n",
      "step 60440: loss 6.43 21.68ms 461tok/s (total 604,390tok)\n",
      "step 60460: loss 4.21 21.58ms 463tok/s (total 604,590tok)\n",
      "step 60480: loss 2.60 21.00ms 476tok/s (total 604,790tok)\n",
      "step 60500: loss 4.00 20.87ms 479tok/s (total 604,990tok)\n",
      "Oh my lord!\n",
      "DD\n",
      "DDDDD\n",
      "step 60520: loss 7.51 21.03ms 476tok/s (total 605,190tok)\n",
      "step 60540: loss 8.73 20.79ms 481tok/s (total 605,390tok)\n",
      "step 60560: loss 3.09 20.70ms 483tok/s (total 605,590tok)\n",
      "step 60580: loss 5.94 20.70ms 483tok/s (total 605,790tok)\n",
      "step 60600: loss 6.16 20.73ms 482tok/s (total 605,990tok)\n",
      "Oh my lord!\n",
      "D,\n",
      " YORK: so so\n",
      "\n",
      "step 60620: loss 2.68 22.98ms 435tok/s (total 606,190tok)\n",
      "step 60640: loss 5.12 15.75ms 635tok/s (total 606,390tok)\n",
      "step 60660: loss 6.55 5.93ms 1686tok/s (total 606,590tok)\n",
      "step 60680: loss 6.24 22.72ms 440tok/s (total 606,790tok)\n",
      "step 60700: loss 6.81 21.31ms 469tok/s (total 606,990tok)\n",
      "Oh my lord,\n",
      "D dear:,,,\n",
      " dear\n",
      "step 60720: loss 3.01 5.35ms 1871tok/s (total 607,190tok)\n",
      "step 60740: loss 10.90 8.34ms 1200tok/s (total 607,390tok)\n",
      "step 60760: loss 5.50 21.37ms 468tok/s (total 607,590tok)\n",
      "step 60780: loss 7.57 21.30ms 469tok/s (total 607,790tok)\n",
      "step 60800: loss 3.00 21.69ms 461tok/s (total 607,990tok)\n",
      "Oh my lord,\n",
      "'dAnd a, be, the\n",
      "\n",
      "step 60820: loss 12.26 21.54ms 464tok/s (total 608,190tok)\n",
      "step 60840: loss 3.56 5.99ms 1669tok/s (total 608,390tok)\n",
      "step 60860: loss 11.54 5.68ms 1760tok/s (total 608,590tok)\n",
      "step 60880: loss 2.93 6.91ms 1447tok/s (total 608,790tok)\n",
      "step 60900: loss 3.02 5.39ms 1854tok/s (total 608,990tok)\n",
      "Oh my lord.\n",
      "\n",
      "\n",
      "\n",
      "\n",
      ",\n",
      "DD\n",
      "step 60920: loss 4.80 4.84ms 2068tok/s (total 609,190tok)\n",
      "step 60940: loss 0.07 5.67ms 1764tok/s (total 609,390tok)\n",
      "step 60960: loss 7.73 6.00ms 1666tok/s (total 609,590tok)\n",
      "step 60980: loss 8.08 20.80ms 481tok/s (total 609,790tok)\n",
      "step 61000: loss 5.72 20.73ms 482tok/s (total 609,990tok)\n",
      "Oh my lord,\n",
      "I in, and,\n",
      "\n",
      "\n",
      "\n",
      "step 61020: loss 9.03 20.74ms 482tok/s (total 610,190tok)\n",
      "step 61040: loss 12.06 20.64ms 484tok/s (total 610,390tok)\n",
      "step 61060: loss 2.00 21.99ms 455tok/s (total 610,590tok)\n",
      "step 61080: loss 5.28 20.75ms 482tok/s (total 610,790tok)\n",
      "step 61100: loss 7.58 10.27ms 974tok/s (total 610,990tok)\n",
      "Oh my lord,\n",
      "'d, and,'d,,,\n",
      "step 61120: loss 5.79 6.46ms 1547tok/s (total 611,190tok)\n",
      "step 61140: loss 7.46 20.82ms 480tok/s (total 611,390tok)\n",
      "step 61160: loss 3.38 4.54ms 2201tok/s (total 611,590tok)\n",
      "step 61180: loss 2.62 5.30ms 1888tok/s (total 611,790tok)\n",
      "step 61200: loss 12.22 21.31ms 469tok/s (total 611,990tok)\n",
      "Oh my lord,,,,,,,,,,\n",
      "step 61220: loss 6.55 16.07ms 622tok/s (total 612,190tok)\n",
      "step 61240: loss 4.29 3.96ms 2523tok/s (total 612,390tok)\n",
      "step 61260: loss 2.89 20.85ms 480tok/s (total 612,590tok)\n",
      "step 61280: loss 9.18 15.97ms 626tok/s (total 612,790tok)\n",
      "step 61300: loss 11.51 20.73ms 482tok/s (total 612,990tok)\n",
      "Oh my lord,\n",
      "And, be,\n",
      " so, and\n",
      "step 61320: loss 0.96 12.00ms 834tok/s (total 613,190tok)\n",
      "step 61340: loss 6.74 20.75ms 482tok/s (total 613,390tok)\n",
      "step 61360: loss 6.63 16.65ms 601tok/s (total 613,590tok)\n",
      "step 61380: loss 2.13 21.90ms 457tok/s (total 613,790tok)\n",
      "step 61400: loss 2.09 21.74ms 460tok/s (total 613,990tok)\n",
      "Oh my lord,\n",
      "And to.\n",
      "GLOUCES\n",
      "step 61420: loss 0.19 20.85ms 480tok/s (total 614,190tok)\n",
      "step 61440: loss 9.30 21.17ms 472tok/s (total 614,390tok)\n",
      "step 61460: loss 0.11 9.04ms 1106tok/s (total 614,590tok)\n",
      "step 61480: loss 4.85 19.21ms 521tok/s (total 614,790tok)\n",
      "step 61500: loss 0.06 11.21ms 892tok/s (total 614,990tok)\n",
      "Oh my lord,,,,,,,,,,\n",
      "step 61520: loss 0.15 21.26ms 470tok/s (total 615,190tok)\n",
      "step 61540: loss 9.66 16.12ms 620tok/s (total 615,390tok)\n",
      "step 61560: loss 1.69 20.98ms 477tok/s (total 615,590tok)\n",
      "step 61580: loss 7.69 21.73ms 460tok/s (total 615,790tok)\n",
      "step 61600: loss 12.24 8.99ms 1112tok/s (total 615,990tok)\n",
      "Oh my lord,,,,,.,,\n",
      " the\n",
      "step 61620: loss 1.83 6.78ms 1474tok/s (total 616,190tok)\n",
      "step 61640: loss 8.31 5.25ms 1906tok/s (total 616,390tok)\n",
      "step 61660: loss 4.95 3.53ms 2834tok/s (total 616,590tok)\n",
      "step 61680: loss 7.97 4.36ms 2292tok/s (total 616,790tok)\n",
      "step 61700: loss 5.12 8.98ms 1114tok/s (total 616,990tok)\n",
      "Oh my lord.\n",
      "\n",
      "\n",
      "\n",
      "\n",
      "\n",
      "\n",
      "\n",
      "\n",
      "\n",
      "step 61720: loss 5.69 17.39ms 575tok/s (total 617,190tok)\n",
      "step 61740: loss 3.82 18.13ms 552tok/s (total 617,390tok)\n",
      "step 61760: loss 9.06 22.95ms 436tok/s (total 617,590tok)\n",
      "step 61780: loss 1.39 21.56ms 464tok/s (total 617,790tok)\n",
      "step 61800: loss 11.90 21.27ms 470tok/s (total 617,990tok)\n",
      "Oh my lord.\n",
      "\n",
      "\n",
      "\n",
      "\n",
      "\n",
      "\n",
      "\n",
      "\n",
      "\n",
      "step 61820: loss 8.71 9.49ms 1054tok/s (total 618,190tok)\n",
      "step 61840: loss 2.64 21.07ms 475tok/s (total 618,390tok)\n",
      "step 61860: loss 5.98 6.13ms 1631tok/s (total 618,590tok)\n",
      "step 61880: loss 6.55 5.90ms 1694tok/s (total 618,790tok)\n",
      "step 61900: loss 0.39 8.02ms 1247tok/s (total 618,990tok)\n",
      "Oh my lord.\n",
      "\n",
      "\n",
      "\n",
      "\n",
      "\n",
      "\n",
      "\n",
      "\n",
      "\n",
      "step 61920: loss 13.56 21.33ms 469tok/s (total 619,190tok)\n",
      "step 61940: loss 4.18 8.12ms 1232tok/s (total 619,390tok)\n",
      "step 61960: loss 12.63 21.28ms 470tok/s (total 619,590tok)\n",
      "step 61980: loss 1.47 7.15ms 1399tok/s (total 619,790tok)\n",
      "step 62000: loss 10.59 21.13ms 473tok/s (total 619,990tok)\n",
      "Oh my lord.\n",
      "\n",
      "\n",
      "\n",
      "\n",
      "\n",
      "\n",
      "\n",
      "\n",
      "\n",
      "step 62020: loss 6.48 8.52ms 1173tok/s (total 620,190tok)\n",
      "step 62040: loss 7.11 21.08ms 474tok/s (total 620,390tok)\n",
      "step 62060: loss 4.71 21.39ms 467tok/s (total 620,590tok)\n",
      "step 62080: loss 0.06 4.23ms 2367tok/s (total 620,790tok)\n",
      "step 62100: loss 4.62 20.98ms 477tok/s (total 620,990tok)\n",
      "Oh my lord.\n",
      "\n",
      "\n",
      "\n",
      "\n",
      "\n",
      "\n",
      "\n",
      "\n",
      "\n",
      "step 62120: loss 10.21 9.94ms 1006tok/s (total 621,190tok)\n",
      "step 62140: loss 12.26 21.09ms 474tok/s (total 621,390tok)\n",
      "step 62160: loss 5.62 21.29ms 470tok/s (total 621,590tok)\n",
      "step 62180: loss 9.94 5.28ms 1892tok/s (total 621,790tok)\n",
      "step 62200: loss 6.17 17.49ms 572tok/s (total 621,990tok)\n",
      "Oh my lord.\n",
      " Citizen:\n",
      "\n",
      "\n",
      "\n",
      "\n",
      "\n",
      "\n",
      "step 62220: loss 2.91 21.53ms 464tok/s (total 622,190tok)\n",
      "step 62240: loss 4.20 14.07ms 710tok/s (total 622,390tok)\n",
      "step 62260: loss 5.29 7.19ms 1390tok/s (total 622,590tok)\n",
      "step 62280: loss 4.40 17.89ms 559tok/s (total 622,790tok)\n",
      "step 62300: loss 1.52 10.80ms 926tok/s (total 622,990tok)\n",
      "Oh my lord.\n",
      "\n",
      "\n",
      "\n",
      "\n",
      "\n",
      "\n",
      "\n",
      "\n",
      "\n",
      "step 62320: loss 11.86 21.42ms 467tok/s (total 623,190tok)\n",
      "step 62340: loss 6.59 21.61ms 463tok/s (total 623,390tok)\n",
      "step 62360: loss 11.63 8.58ms 1166tok/s (total 623,590tok)\n",
      "step 62380: loss 5.61 21.01ms 476tok/s (total 623,790tok)\n",
      "step 62400: loss 5.67 2.77ms 3610tok/s (total 623,990tok)\n",
      "Oh my lord.\n",
      "\n",
      "\n",
      "\n",
      "\n",
      "\n",
      "\n",
      "\n",
      "\n",
      "\n",
      "step 62420: loss 7.24 12.53ms 798tok/s (total 624,190tok)\n",
      "step 62440: loss 4.45 18.68ms 535tok/s (total 624,390tok)\n",
      "step 62460: loss 2.35 4.23ms 2363tok/s (total 624,590tok)\n",
      "step 62480: loss 12.73 21.41ms 467tok/s (total 624,790tok)\n",
      "step 62500: loss 7.43 10.59ms 944tok/s (total 624,990tok)\n",
      "Oh my lord,,,,.\n",
      "\n",
      "\n",
      "\n",
      "\n",
      "\n",
      "step 62520: loss 6.75 20.98ms 477tok/s (total 625,190tok)\n",
      "step 62540: loss 1.59 21.39ms 468tok/s (total 625,390tok)\n",
      "step 62560: loss 3.07 20.85ms 480tok/s (total 625,590tok)\n",
      "step 62580: loss 2.09 20.97ms 477tok/s (total 625,790tok)\n",
      "step 62600: loss 1.48 7.56ms 1322tok/s (total 625,990tok)\n",
      "Oh my lord,,,,.\n",
      "\n",
      "\n",
      "\n",
      "\n",
      "\n",
      "step 62620: loss 1.96 17.81ms 561tok/s (total 626,190tok)\n",
      "step 62640: loss 3.49 20.87ms 479tok/s (total 626,390tok)\n",
      "step 62660: loss 4.44 21.18ms 472tok/s (total 626,590tok)\n",
      "step 62680: loss 2.48 21.13ms 473tok/s (total 626,790tok)\n",
      "step 62700: loss 2.45 5.96ms 1678tok/s (total 626,990tok)\n",
      "Oh my lord.\n",
      " OF\n",
      " OF OF:\n",
      "DU\n",
      "step 62720: loss 1.89 19.88ms 503tok/s (total 627,190tok)\n",
      "step 62740: loss 6.01 13.84ms 723tok/s (total 627,390tok)\n",
      "step 62760: loss 7.46 4.43ms 2255tok/s (total 627,590tok)\n",
      "step 62780: loss 2.25 17.65ms 567tok/s (total 627,790tok)\n",
      "step 62800: loss 1.03 14.79ms 676tok/s (total 627,990tok)\n",
      "Oh my lord.\n",
      "\n",
      "\n",
      "\n",
      "\n",
      "\n",
      "\n",
      "\n",
      "\n",
      "\n",
      "step 62820: loss 0.00 19.80ms 505tok/s (total 628,190tok)\n",
      "step 62840: loss 4.55 21.10ms 474tok/s (total 628,390tok)\n",
      "step 62860: loss 0.01 18.55ms 539tok/s (total 628,590tok)\n",
      "step 62880: loss 1.64 20.98ms 477tok/s (total 628,790tok)\n",
      "step 62900: loss 3.55 20.68ms 483tok/s (total 628,990tok)\n",
      "Oh my lord.\n",
      "\n",
      "\n",
      "\n",
      "\n",
      "\n",
      "\n",
      "\n",
      "\n",
      "\n",
      "step 62920: loss 7.08 21.50ms 465tok/s (total 629,190tok)\n",
      "step 62940: loss 2.43 21.48ms 466tok/s (total 629,390tok)\n",
      "step 62960: loss 7.09 20.69ms 483tok/s (total 629,590tok)\n",
      "step 62980: loss 2.93 21.31ms 469tok/s (total 629,790tok)\n",
      "step 63000: loss 6.94 21.25ms 471tok/s (total 629,990tok)\n",
      "Oh my lord.\n",
      "\n",
      "\n",
      "\n",
      "\n",
      "\n",
      "\n",
      "\n",
      "\n",
      "\n",
      "step 63020: loss 5.99 20.64ms 484tok/s (total 630,190tok)\n",
      "step 63040: loss 2.08 21.81ms 459tok/s (total 630,390tok)\n",
      "step 63060: loss 12.21 20.80ms 481tok/s (total 630,590tok)\n",
      "step 63080: loss 10.29 20.84ms 480tok/s (total 630,790tok)\n",
      "step 63100: loss 2.62 20.81ms 481tok/s (total 630,990tok)\n",
      "Oh my lord,,,,,,,,,,\n",
      "step 63120: loss 12.32 20.68ms 484tok/s (total 631,190tok)\n",
      "step 63140: loss 6.45 20.67ms 484tok/s (total 631,390tok)\n",
      "step 63160: loss 5.28 20.83ms 480tok/s (total 631,590tok)\n",
      "step 63180: loss 4.48 21.23ms 471tok/s (total 631,790tok)\n",
      "step 63200: loss 7.81 20.95ms 477tok/s (total 631,990tok)\n",
      "Oh my lord,.,.\n",
      "QUEEN ELIZ\n",
      "step 63220: loss 8.48 21.59ms 463tok/s (total 632,190tok)\n",
      "step 63240: loss 0.10 20.76ms 482tok/s (total 632,390tok)\n",
      "step 63260: loss 7.87 21.03ms 476tok/s (total 632,590tok)\n",
      "step 63280: loss 5.22 20.74ms 482tok/s (total 632,790tok)\n",
      "step 63300: loss 8.80 20.68ms 484tok/s (total 632,990tok)\n",
      "Oh my lord.\n",
      "\n",
      "\n",
      "\n",
      "\n",
      "\n",
      "\n",
      "\n",
      "\n",
      "\n",
      "step 63320: loss 10.94 20.73ms 482tok/s (total 633,190tok)\n",
      "step 63340: loss 8.87 20.71ms 483tok/s (total 633,390tok)\n",
      "step 63360: loss 7.13 20.66ms 484tok/s (total 633,590tok)\n",
      "step 63380: loss 8.36 21.74ms 460tok/s (total 633,790tok)\n",
      "step 63400: loss 1.89 21.26ms 470tok/s (total 633,990tok)\n",
      "Oh my lord, to.\n",
      "\n",
      "\n",
      "\n",
      "\n",
      "\n",
      "\n",
      "\n",
      "step 63420: loss 11.27 22.64ms 442tok/s (total 634,190tok)\n",
      "step 63440: loss 12.04 26.63ms 375tok/s (total 634,390tok)\n",
      "step 63460: loss 0.18 21.80ms 459tok/s (total 634,590tok)\n",
      "step 63480: loss 7.59 21.54ms 464tok/s (total 634,790tok)\n",
      "step 63500: loss 6.16 22.10ms 452tok/s (total 634,990tok)\n",
      "Oh my lord,\n",
      " toGLOUCESTER:\n",
      "\n",
      "step 63520: loss 6.53 14.87ms 673tok/s (total 635,190tok)\n",
      "step 63540: loss 11.65 5.79ms 1728tok/s (total 635,390tok)\n",
      "step 63560: loss 6.30 6.62ms 1510tok/s (total 635,590tok)\n",
      "step 63580: loss 5.06 6.91ms 1448tok/s (total 635,790tok)\n",
      "step 63600: loss 6.47 4.10ms 2439tok/s (total 635,990tok)\n",
      "Oh my lord,!\n",
      "GLOUCESTER:\n",
      "\n",
      "step 63620: loss 5.50 4.03ms 2478tok/s (total 636,190tok)\n",
      "step 63640: loss 6.02 6.63ms 1508tok/s (total 636,390tok)\n",
      "step 63660: loss 4.74 4.26ms 2350tok/s (total 636,590tok)\n",
      "step 63680: loss 8.01 7.17ms 1394tok/s (total 636,790tok)\n",
      "step 63700: loss 4.32 9.56ms 1046tok/s (total 636,990tok)\n",
      "Oh my lord,\n",
      "I'll you and, not you my\n",
      "step 63720: loss 3.84 11.98ms 835tok/s (total 637,190tok)\n",
      "step 63740: loss 6.77 7.97ms 1255tok/s (total 637,390tok)\n",
      "step 63760: loss 5.66 5.84ms 1712tok/s (total 637,590tok)\n",
      "step 63780: loss 6.22 9.43ms 1060tok/s (total 637,790tok)\n",
      "step 63800: loss 3.96 6.61ms 1513tok/s (total 637,990tok)\n",
      "Oh my lord,\n",
      "B, your yourAnd, lord,\n",
      "step 63820: loss 5.87 5.89ms 1696tok/s (total 638,190tok)\n",
      "step 63840: loss 9.78 4.75ms 2107tok/s (total 638,390tok)\n",
      "step 63860: loss 6.00 20.40ms 490tok/s (total 638,590tok)\n",
      "step 63880: loss 0.36 8.45ms 1183tok/s (total 638,790tok)\n",
      "step 63900: loss 5.67 11.27ms 887tok/s (total 638,990tok)\n",
      "Oh my lord,\n",
      " toAnd the of mother from his mother\n",
      "step 63920: loss 8.17 13.91ms 719tok/s (total 639,190tok)\n",
      "step 63940: loss 6.52 4.18ms 2391tok/s (total 639,390tok)\n",
      "step 63960: loss 2.20 5.41ms 1850tok/s (total 639,590tok)\n",
      "step 63980: loss 5.58 20.88ms 479tok/s (total 639,790tok)\n",
      "step 64000: loss 5.41 6.56ms 1524tok/s (total 639,990tok)\n",
      "Oh my lord,\n",
      "B in,\n",
      "BUCKINGHAM\n",
      "step 64020: loss 3.81 21.40ms 467tok/s (total 640,190tok)\n",
      "step 64040: loss 5.55 20.85ms 480tok/s (total 640,390tok)\n",
      "step 64060: loss 12.76 18.07ms 554tok/s (total 640,590tok)\n",
      "step 64080: loss 12.12 6.98ms 1433tok/s (total 640,790tok)\n",
      "step 64100: loss 3.52 20.73ms 482tok/s (total 640,990tok)\n",
      "Oh my lord,\n",
      "And in.\n",
      "C\n",
      "BUCK\n",
      "step 64120: loss 0.01 6.23ms 1606tok/s (total 641,190tok)\n",
      "step 64140: loss 4.52 5.42ms 1846tok/s (total 641,390tok)\n",
      "step 64160: loss 3.74 3.68ms 2719tok/s (total 641,590tok)\n",
      "step 64180: loss 5.43 21.33ms 469tok/s (total 641,790tok)\n",
      "step 64200: loss 4.44 3.72ms 2685tok/s (total 641,990tok)\n",
      "Oh my lord,\n",
      "INI, lord, you have the\n",
      "step 64220: loss 7.69 21.63ms 462tok/s (total 642,190tok)\n",
      "step 64240: loss 7.28 20.90ms 478tok/s (total 642,390tok)\n",
      "step 64260: loss 2.75 21.37ms 468tok/s (total 642,590tok)\n",
      "step 64280: loss 4.25 21.56ms 464tok/s (total 642,790tok)\n",
      "step 64300: loss 4.97 15.98ms 626tok/s (total 642,990tok)\n",
      "Oh my lord,\n",
      " lord,I.\n",
      "BUCKING\n",
      "step 64320: loss 2.00 5.93ms 1686tok/s (total 643,190tok)\n",
      "step 64340: loss 11.61 4.64ms 2153tok/s (total 643,390tok)\n",
      "step 64360: loss 5.78 11.28ms 887tok/s (total 643,590tok)\n",
      "step 64380: loss 7.17 18.38ms 544tok/s (total 643,790tok)\n",
      "step 64400: loss 5.77 21.22ms 471tok/s (total 643,990tok)\n",
      "Oh my lord,,,,,,,,,,\n",
      "step 64420: loss 0.16 8.45ms 1184tok/s (total 644,190tok)\n",
      "step 64440: loss 0.66 21.35ms 468tok/s (total 644,390tok)\n",
      "step 64460: loss 4.56 7.01ms 1427tok/s (total 644,590tok)\n",
      "step 64480: loss 2.82 4.91ms 2035tok/s (total 644,790tok)\n",
      "step 64500: loss 7.38 16.58ms 603tok/s (total 644,990tok)\n",
      "Oh my lord,,,,,.,,\n",
      " to\n",
      "step 64520: loss 7.50 10.66ms 938tok/s (total 645,190tok)\n",
      "step 64540: loss 0.01 18.44ms 542tok/s (total 645,390tok)\n",
      "step 64560: loss 4.96 13.61ms 735tok/s (total 645,590tok)\n",
      "step 64580: loss 5.96 5.19ms 1927tok/s (total 645,790tok)\n",
      "step 64600: loss 9.09 20.58ms 486tok/s (total 645,990tok)\n",
      "Oh my lord,\n",
      "INI'll, in in,\n",
      "\n",
      "step 64620: loss 5.88 21.37ms 468tok/s (total 646,190tok)\n",
      "step 64640: loss 2.01 18.41ms 543tok/s (total 646,390tok)\n",
      "step 64660: loss 0.94 21.52ms 465tok/s (total 646,590tok)\n",
      "step 64680: loss 2.48 19.50ms 513tok/s (total 646,790tok)\n",
      "step 64700: loss 5.16 20.78ms 481tok/s (total 646,990tok)\n",
      "Oh my lord,,,,,,,,,,\n",
      "step 64720: loss 0.13 17.25ms 580tok/s (total 647,190tok)\n",
      "step 64740: loss 4.53 20.72ms 483tok/s (total 647,390tok)\n",
      "step 64760: loss 11.12 21.88ms 457tok/s (total 647,590tok)\n",
      "step 64780: loss 0.18 15.08ms 663tok/s (total 647,790tok)\n",
      "step 64800: loss 7.44 8.95ms 1117tok/s (total 647,990tok)\n",
      "Oh my lord.\n",
      "\n",
      "\n",
      "\n",
      "\n",
      "\n",
      "\n",
      "\n",
      "\n",
      "\n",
      "step 64820: loss 6.74 21.29ms 470tok/s (total 648,190tok)\n",
      "step 64840: loss 6.02 21.83ms 458tok/s (total 648,390tok)\n",
      "step 64860: loss 5.35 20.88ms 479tok/s (total 648,590tok)\n",
      "step 64880: loss 2.51 20.78ms 481tok/s (total 648,790tok)\n",
      "step 64900: loss 1.83 20.63ms 485tok/s (total 648,990tok)\n",
      "Oh my lord.\n",
      "\n",
      "\n",
      "\n",
      "\n",
      "\n",
      "\n",
      "\n",
      "\n",
      "\n",
      "step 64920: loss 9.27 13.07ms 765tok/s (total 649,190tok)\n",
      "step 64940: loss 4.42 22.02ms 454tok/s (total 649,390tok)\n",
      "step 64960: loss 0.11 4.42ms 2263tok/s (total 649,590tok)\n",
      "step 64980: loss 0.09 20.56ms 486tok/s (total 649,790tok)\n",
      "step 65000: loss 0.29 11.50ms 870tok/s (total 649,990tok)\n",
      "Oh my lord.\n",
      "\n",
      "\n",
      "\n",
      "\n",
      "\n",
      "\n",
      "\n",
      "\n",
      "\n",
      "step 65020: loss 7.27 19.67ms 508tok/s (total 650,190tok)\n",
      "step 65040: loss 6.05 20.86ms 479tok/s (total 650,390tok)\n",
      "step 65060: loss 6.50 13.31ms 751tok/s (total 650,590tok)\n",
      "step 65080: loss 2.99 15.30ms 654tok/s (total 650,790tok)\n",
      "step 65100: loss 2.14 7.27ms 1375tok/s (total 650,990tok)\n",
      "Oh my lord.\n",
      "\n",
      "\n",
      "\n",
      "\n",
      "\n",
      "\n",
      "\n",
      "\n",
      "\n",
      "step 65120: loss 0.00 21.42ms 467tok/s (total 651,190tok)\n",
      "step 65140: loss 6.06 20.74ms 482tok/s (total 651,390tok)\n",
      "step 65160: loss 9.21 15.98ms 626tok/s (total 651,590tok)\n",
      "step 65180: loss 3.19 19.35ms 517tok/s (total 651,790tok)\n",
      "step 65200: loss 3.72 13.71ms 729tok/s (total 651,990tok)\n",
      "Oh my lord,., to.\n",
      "\n",
      "\n",
      "\n",
      "\n",
      "\n",
      "step 65220: loss 6.01 20.97ms 477tok/s (total 652,190tok)\n",
      "step 65240: loss 12.40 20.77ms 482tok/s (total 652,390tok)\n",
      "step 65260: loss 12.42 21.66ms 462tok/s (total 652,590tok)\n",
      "step 65280: loss 0.25 21.30ms 469tok/s (total 652,790tok)\n",
      "step 65300: loss 6.72 21.80ms 459tok/s (total 652,990tok)\n",
      "Oh my lord.\n",
      "\n",
      "\n",
      "\n",
      "\n",
      "\n",
      "\n",
      "\n",
      "\n",
      "\n",
      "step 65320: loss 8.91 21.11ms 474tok/s (total 653,190tok)\n",
      "step 65340: loss 3.66 20.79ms 481tok/s (total 653,390tok)\n",
      "step 65360: loss 0.01 21.14ms 473tok/s (total 653,590tok)\n",
      "step 65380: loss 0.29 17.70ms 565tok/s (total 653,790tok)\n",
      "step 65400: loss 3.88 11.34ms 882tok/s (total 653,990tok)\n",
      "Oh my lord.\n",
      "\n",
      "\n",
      "\n",
      "\n",
      "\n",
      "\n",
      "\n",
      "\n",
      "\n",
      "step 65420: loss 3.90 21.53ms 464tok/s (total 654,190tok)\n",
      "step 65440: loss 0.07 3.86ms 2590tok/s (total 654,390tok)\n",
      "step 65460: loss 8.56 4.24ms 2359tok/s (total 654,590tok)\n",
      "step 65480: loss 6.25 8.78ms 1139tok/s (total 654,790tok)\n",
      "step 65500: loss 3.51 5.29ms 1890tok/s (total 654,990tok)\n",
      "Oh my lord.\n",
      "\n",
      "\n",
      "\n",
      "\n",
      "\n",
      "\n",
      "\n",
      "\n",
      "\n",
      "step 65520: loss 10.87 21.41ms 467tok/s (total 655,190tok)\n",
      "step 65540: loss 0.19 14.82ms 675tok/s (total 655,390tok)\n",
      "step 65560: loss 7.97 21.38ms 468tok/s (total 655,590tok)\n",
      "step 65580: loss 2.77 8.65ms 1156tok/s (total 655,790tok)\n",
      "step 65600: loss 3.84 16.70ms 599tok/s (total 655,990tok)\n",
      "Oh my lord.\n",
      "\n",
      "\n",
      "\n",
      "\n",
      "\n",
      "\n",
      "\n",
      "\n",
      "\n",
      "step 65620: loss 3.84 16.20ms 617tok/s (total 656,190tok)\n",
      "step 65640: loss 8.71 21.34ms 469tok/s (total 656,390tok)\n",
      "step 65660: loss 6.95 21.57ms 464tok/s (total 656,590tok)\n",
      "step 65680: loss 7.34 20.88ms 479tok/s (total 656,790tok)\n",
      "step 65700: loss 5.84 21.19ms 472tok/s (total 656,990tok)\n",
      "Oh my lord.\n",
      "INWARD:\n",
      "\n",
      "\n",
      "\n",
      "\n",
      "\n",
      "step 65720: loss 2.63 20.74ms 482tok/s (total 657,190tok)\n",
      "step 65740: loss 3.33 20.72ms 483tok/s (total 657,390tok)\n",
      "step 65760: loss 2.11 20.77ms 481tok/s (total 657,590tok)\n",
      "step 65780: loss 9.14 20.89ms 479tok/s (total 657,790tok)\n",
      "step 65800: loss 4.66 21.13ms 473tok/s (total 657,990tok)\n",
      "Oh my lord,,,,,,,,,,\n",
      "step 65820: loss 10.55 20.80ms 481tok/s (total 658,190tok)\n",
      "step 65840: loss 12.78 20.78ms 481tok/s (total 658,390tok)\n",
      "step 65860: loss 3.15 20.65ms 484tok/s (total 658,590tok)\n",
      "step 65880: loss 12.58 20.70ms 483tok/s (total 658,790tok)\n",
      "step 65900: loss 8.52 20.66ms 484tok/s (total 658,990tok)\n",
      "Oh my lord,\n",
      " toAnd to\n",
      "C:,:\n",
      "step 65920: loss 12.57 20.68ms 484tok/s (total 659,190tok)\n",
      "step 65940: loss 6.84 20.69ms 483tok/s (total 659,390tok)\n",
      "step 65960: loss 6.59 21.56ms 464tok/s (total 659,590tok)\n",
      "step 65980: loss 0.17 20.77ms 481tok/s (total 659,790tok)\n",
      "step 66000: loss 0.07 21.33ms 469tok/s (total 659,990tok)\n",
      "Oh my lord,,,,,\n",
      "C:,:\n",
      "step 66020: loss 0.01 21.07ms 475tok/s (total 660,190tok)\n",
      "step 66040: loss 4.06 21.32ms 469tok/s (total 660,390tok)\n",
      "step 66060: loss 8.93 21.46ms 466tok/s (total 660,590tok)\n",
      "step 66080: loss 1.81 20.77ms 481tok/s (total 660,790tok)\n",
      "step 66100: loss 12.35 21.05ms 475tok/s (total 660,990tok)\n",
      "Oh my lord,,,,,,,,,,\n",
      "step 66120: loss 13.81 21.09ms 474tok/s (total 661,190tok)\n",
      "step 66140: loss 6.73 20.74ms 482tok/s (total 661,390tok)\n",
      "step 66160: loss 5.45 20.73ms 482tok/s (total 661,590tok)\n",
      "step 66180: loss 1.08 20.68ms 484tok/s (total 661,790tok)\n",
      "step 66200: loss 0.00 21.71ms 461tok/s (total 661,990tok)\n",
      "Oh my lord.\n",
      "\n",
      "\n",
      "\n",
      "\n",
      "\n",
      "\n",
      "\n",
      "\n",
      "\n",
      "step 66220: loss 10.83 21.22ms 471tok/s (total 662,190tok)\n",
      "step 66240: loss 0.47 21.26ms 470tok/s (total 662,390tok)\n",
      "step 66260: loss 0.03 20.88ms 479tok/s (total 662,590tok)\n",
      "step 66280: loss 0.01 6.76ms 1480tok/s (total 662,790tok)\n",
      "step 66300: loss 0.86 7.98ms 1253tok/s (total 662,990tok)\n",
      "Oh my lord.\n",
      "\n",
      "\n",
      "\n",
      "\n",
      "\n",
      "\n",
      "\n",
      "\n",
      "\n",
      "step 66320: loss 6.22 10.12ms 988tok/s (total 663,190tok)\n",
      "step 66340: loss 2.77 6.11ms 1637tok/s (total 663,390tok)\n",
      "step 66360: loss 12.73 9.21ms 1086tok/s (total 663,590tok)\n",
      "step 66380: loss 11.56 8.34ms 1200tok/s (total 663,790tok)\n",
      "step 66400: loss 4.87 13.97ms 716tok/s (total 663,990tok)\n",
      "Oh my lord.\n",
      "\n",
      "\n",
      "\n",
      "\n",
      "\n",
      "\n",
      "\n",
      "\n",
      "\n",
      "step 66420: loss 6.56 5.45ms 1835tok/s (total 664,190tok)\n",
      "step 66440: loss 12.00 21.01ms 476tok/s (total 664,390tok)\n",
      "step 66460: loss 5.58 11.23ms 890tok/s (total 664,590tok)\n",
      "step 66480: loss 4.16 4.99ms 2003tok/s (total 664,790tok)\n",
      "step 66500: loss 6.01 12.18ms 821tok/s (total 664,990tok)\n",
      "Oh my lord,\n",
      "H theAnd to the\n",
      " at the\n",
      "step 66520: loss 6.89 4.40ms 2271tok/s (total 665,190tok)\n",
      "step 66540: loss 11.98 11.18ms 895tok/s (total 665,390tok)\n",
      "step 66560: loss 11.27 8.68ms 1151tok/s (total 665,590tok)\n",
      "step 66580: loss 2.88 21.57ms 464tok/s (total 665,790tok)\n",
      "step 66600: loss 5.69 4.88ms 2048tok/s (total 665,990tok)\n",
      "Oh my lord,\n",
      "And to the\n",
      "And to the to\n",
      "step 66620: loss 5.30 18.56ms 539tok/s (total 666,190tok)\n",
      "step 66640: loss 5.95 14.65ms 683tok/s (total 666,390tok)\n",
      "step 66660: loss 6.84 15.14ms 660tok/s (total 666,590tok)\n",
      "step 66680: loss 4.55 13.44ms 744tok/s (total 666,790tok)\n",
      "step 66700: loss 3.55 8.25ms 1213tok/s (total 666,990tok)\n",
      "Oh my lord,;\n",
      "And lord,,,,,\n",
      "step 66720: loss 0.30 18.40ms 544tok/s (total 667,190tok)\n",
      "step 66740: loss 0.63 18.20ms 549tok/s (total 667,390tok)\n",
      "step 66760: loss 5.55 16.13ms 620tok/s (total 667,590tok)\n",
      "step 66780: loss 10.61 15.50ms 645tok/s (total 667,790tok)\n",
      "step 66800: loss 4.05 21.97ms 455tok/s (total 667,990tok)\n",
      "Oh my lord\n",
      "HAST:!\n",
      "\n",
      "\n",
      "\n",
      "\n",
      "\n",
      "step 66820: loss 3.12 21.64ms 462tok/s (total 668,190tok)\n",
      "step 66840: loss 7.27 12.24ms 817tok/s (total 668,390tok)\n",
      "step 66860: loss 2.74 16.16ms 619tok/s (total 668,590tok)\n",
      "step 66880: loss 4.36 11.25ms 889tok/s (total 668,790tok)\n",
      "step 66900: loss 1.65 22.26ms 449tok/s (total 668,990tok)\n",
      "Oh my lord\n",
      "HINGS:,:,:,,\n",
      "step 66920: loss 4.60 16.69ms 599tok/s (total 669,190tok)\n",
      "step 66940: loss 4.93 4.98ms 2008tok/s (total 669,390tok)\n",
      "step 66960: loss 0.92 18.30ms 547tok/s (total 669,590tok)\n",
      "step 66980: loss 0.99 21.13ms 473tok/s (total 669,790tok)\n",
      "step 67000: loss 4.74 21.55ms 464tok/s (total 669,990tok)\n",
      "Oh my lord\n",
      "C:\n",
      ", lord\n",
      "I, my\n",
      "step 67020: loss 7.32 21.29ms 470tok/s (total 670,190tok)\n",
      "step 67040: loss 10.73 19.88ms 503tok/s (total 670,390tok)\n",
      "step 67060: loss 0.16 21.85ms 458tok/s (total 670,590tok)\n",
      "step 67080: loss 4.25 21.17ms 472tok/s (total 670,790tok)\n",
      "step 67100: loss 6.66 21.03ms 475tok/s (total 670,990tok)\n",
      "Oh my lord,\n",
      "H and,\n",
      "AST:,:\n",
      "step 67120: loss 7.58 20.94ms 478tok/s (total 671,190tok)\n",
      "step 67140: loss 3.82 21.55ms 464tok/s (total 671,390tok)\n",
      "step 67160: loss 3.79 21.26ms 470tok/s (total 671,590tok)\n",
      "step 67180: loss 5.89 20.80ms 481tok/s (total 671,790tok)\n",
      "step 67200: loss 6.36 20.85ms 480tok/s (total 671,990tok)\n",
      "Oh my lord,;\n",
      " andI not to it.\n",
      "\n",
      "step 67220: loss 1.91 20.75ms 482tok/s (total 672,190tok)\n",
      "step 67240: loss 1.70 18.46ms 542tok/s (total 672,390tok)\n",
      "step 67260: loss 1.45 20.70ms 483tok/s (total 672,590tok)\n",
      "step 67280: loss 2.67 19.78ms 506tok/s (total 672,790tok)\n",
      "step 67300: loss 5.45 20.75ms 482tok/s (total 672,990tok)\n",
      "Oh my lord,\n",
      "HAST:,:,,,\n",
      "step 67320: loss 12.25 20.82ms 480tok/s (total 673,190tok)\n",
      "step 67340: loss 10.23 21.43ms 467tok/s (total 673,390tok)\n",
      "step 67360: loss 5.07 20.75ms 482tok/s (total 673,590tok)\n",
      "step 67380: loss 7.09 20.72ms 483tok/s (total 673,790tok)\n",
      "step 67400: loss 11.05 16.95ms 590tok/s (total 673,990tok)\n",
      "Oh my lord,\n",
      "I do I'll you.\n",
      "AN\n",
      "step 67420: loss 1.91 20.86ms 479tok/s (total 674,190tok)\n",
      "step 67440: loss 9.10 21.59ms 463tok/s (total 674,390tok)\n",
      "step 67460: loss 0.76 20.73ms 482tok/s (total 674,590tok)\n",
      "step 67480: loss 8.08 20.64ms 484tok/s (total 674,790tok)\n",
      "step 67500: loss 0.52 20.79ms 481tok/s (total 674,990tok)\n",
      "Oh my lord,\n",
      "HAST:,.,, you\n",
      "step 67520: loss 4.65 21.17ms 472tok/s (total 675,190tok)\n",
      "step 67540: loss 5.83 21.48ms 465tok/s (total 675,390tok)\n",
      "step 67560: loss 5.61 21.85ms 458tok/s (total 675,590tok)\n",
      "step 67580: loss 8.87 21.23ms 471tok/s (total 675,790tok)\n",
      "step 67600: loss 5.42 21.24ms 471tok/s (total 675,990tok)\n",
      "Oh my lord\n",
      "AST:\n",
      ",\n",
      "I I'll'll\n",
      "step 67620: loss 3.56 20.78ms 481tok/s (total 676,190tok)\n",
      "step 67640: loss 9.57 21.46ms 466tok/s (total 676,390tok)\n",
      "step 67660: loss 2.08 20.95ms 477tok/s (total 676,590tok)\n",
      "step 67680: loss 9.00 21.07ms 475tok/s (total 676,790tok)\n",
      "step 67700: loss 5.06 21.34ms 469tok/s (total 676,990tok)\n",
      "Oh my lord\n",
      ":,,,,,!\n",
      "\n",
      "\n",
      "step 67720: loss 2.95 21.34ms 469tok/s (total 677,190tok)\n",
      "step 67740: loss 12.10 21.57ms 464tok/s (total 677,390tok)\n",
      "step 67760: loss 0.10 20.81ms 480tok/s (total 677,590tok)\n",
      "step 67780: loss 2.50 21.31ms 469tok/s (total 677,790tok)\n",
      "step 67800: loss 2.57 21.63ms 462tok/s (total 677,990tok)\n",
      "Oh my lord.\n",
      "\n",
      "\n",
      "\n",
      "\n",
      "\n",
      "\n",
      "\n",
      "\n",
      "\n",
      "step 67820: loss 7.02 21.58ms 463tok/s (total 678,190tok)\n",
      "step 67840: loss 1.94 21.48ms 466tok/s (total 678,390tok)\n",
      "step 67860: loss 7.96 21.63ms 462tok/s (total 678,590tok)\n",
      "step 67880: loss 2.54 21.63ms 462tok/s (total 678,790tok)\n",
      "step 67900: loss 4.98 21.52ms 465tok/s (total 678,990tok)\n",
      "Oh my lord.\n",
      "HINGS:\n",
      "\n",
      "\n",
      "\n",
      "\n",
      "\n",
      "step 67920: loss 11.14 21.57ms 464tok/s (total 679,190tok)\n",
      "step 67940: loss 1.44 20.85ms 480tok/s (total 679,390tok)\n",
      "step 67960: loss 4.74 20.64ms 485tok/s (total 679,590tok)\n",
      "step 67980: loss 11.38 20.64ms 484tok/s (total 679,790tok)\n",
      "step 68000: loss 5.99 20.69ms 483tok/s (total 679,990tok)\n",
      "Oh my lord.\n",
      "\n",
      "\n",
      "\n",
      "\n",
      "\n",
      "\n",
      "\n",
      "\n",
      "\n",
      "step 68020: loss 12.37 20.64ms 485tok/s (total 680,190tok)\n",
      "step 68040: loss 7.61 20.75ms 482tok/s (total 680,390tok)\n",
      "step 68060: loss 12.74 20.71ms 483tok/s (total 680,590tok)\n",
      "step 68080: loss 11.10 20.63ms 485tok/s (total 680,790tok)\n",
      "step 68100: loss 9.74 20.64ms 485tok/s (total 680,990tok)\n",
      "Oh my lord.\n",
      "\n",
      "\n",
      "\n",
      "\n",
      "\n",
      "\n",
      "\n",
      "\n",
      "\n",
      "step 68120: loss 6.13 20.73ms 482tok/s (total 681,190tok)\n",
      "step 68140: loss 10.93 20.73ms 482tok/s (total 681,390tok)\n",
      "step 68160: loss 4.03 20.68ms 484tok/s (total 681,590tok)\n",
      "step 68180: loss 12.85 20.62ms 485tok/s (total 681,790tok)\n",
      "step 68200: loss 6.71 20.67ms 484tok/s (total 681,990tok)\n",
      "Oh my lord,,,,,,,,,,\n",
      "step 68220: loss 5.72 20.70ms 483tok/s (total 682,190tok)\n",
      "step 68240: loss 4.86 20.74ms 482tok/s (total 682,390tok)\n",
      "step 68260: loss 1.17 20.84ms 480tok/s (total 682,590tok)\n",
      "step 68280: loss 4.46 21.18ms 472tok/s (total 682,790tok)\n",
      "step 68300: loss 1.75 21.02ms 476tok/s (total 682,990tok)\n",
      "Oh my lord.\n",
      "R:\n",
      "\n",
      "\n",
      "\n",
      "\n",
      "\n",
      "\n",
      "step 68320: loss 0.20 21.04ms 475tok/s (total 683,190tok)\n",
      "step 68340: loss 6.53 21.00ms 476tok/s (total 683,390tok)\n",
      "step 68360: loss 8.14 20.94ms 478tok/s (total 683,590tok)\n",
      "step 68380: loss 0.14 21.10ms 474tok/s (total 683,790tok)\n",
      "step 68400: loss 7.32 20.84ms 480tok/s (total 683,990tok)\n",
      "Oh my lord.\n",
      "\n",
      "\n",
      "\n",
      "\n",
      "\n",
      "\n",
      "\n",
      "\n",
      "\n",
      "step 68420: loss 8.70 20.88ms 479tok/s (total 684,190tok)\n",
      "step 68440: loss 3.13 20.89ms 479tok/s (total 684,390tok)\n",
      "step 68460: loss 6.76 21.63ms 462tok/s (total 684,590tok)\n",
      "step 68480: loss 5.53 20.82ms 480tok/s (total 684,790tok)\n",
      "step 68500: loss 0.09 20.79ms 481tok/s (total 684,990tok)\n",
      "Oh my lord,;\n",
      "BUCKINGHAM: I lord\n",
      "step 68520: loss 4.86 20.92ms 478tok/s (total 685,190tok)\n",
      "step 68540: loss 4.49 20.79ms 481tok/s (total 685,390tok)\n",
      "step 68560: loss 1.95 20.98ms 477tok/s (total 685,590tok)\n",
      "step 68580: loss 1.31 20.85ms 480tok/s (total 685,790tok)\n",
      "step 68600: loss 1.57 20.82ms 480tok/s (total 685,990tok)\n",
      "Oh my lord,;\n",
      "And I in in I'll,\n",
      "step 68620: loss 5.13 20.87ms 479tok/s (total 686,190tok)\n",
      "step 68640: loss 0.18 20.85ms 480tok/s (total 686,390tok)\n",
      "step 68660: loss 1.75 20.91ms 478tok/s (total 686,590tok)\n",
      "step 68680: loss 0.28 20.85ms 480tok/s (total 686,790tok)\n",
      "step 68700: loss 5.64 20.84ms 480tok/s (total 686,990tok)\n",
      "Oh my lord,\n",
      "BUCKHAM: lord\n",
      " lordI\n",
      "step 68720: loss 3.50 20.91ms 478tok/s (total 687,190tok)\n",
      "step 68740: loss 5.62 20.83ms 480tok/s (total 687,390tok)\n",
      "step 68760: loss 5.65 20.90ms 478tok/s (total 687,590tok)\n",
      "step 68780: loss 8.32 20.79ms 481tok/s (total 687,790tok)\n",
      "step 68800: loss 8.82 20.78ms 481tok/s (total 687,990tok)\n",
      "Oh my lord,\n",
      "I lord of your.\n",
      "GLOU\n",
      "step 68820: loss 0.01 21.03ms 475tok/s (total 688,190tok)\n",
      "step 68840: loss 5.53 20.87ms 479tok/s (total 688,390tok)\n",
      "step 68860: loss 9.15 20.80ms 481tok/s (total 688,590tok)\n",
      "step 68880: loss 9.12 20.86ms 479tok/s (total 688,790tok)\n",
      "step 68900: loss 4.42 20.74ms 482tok/s (total 688,990tok)\n",
      "Oh my lord,.,,\n",
      "B as he lord,\n",
      "step 68920: loss 7.83 20.82ms 480tok/s (total 689,190tok)\n",
      "step 68940: loss 5.38 20.83ms 480tok/s (total 689,390tok)\n",
      "step 68960: loss 12.54 20.80ms 481tok/s (total 689,590tok)\n",
      "step 68980: loss 5.28 20.93ms 478tok/s (total 689,790tok)\n",
      "step 69000: loss 10.75 21.80ms 459tok/s (total 689,990tok)\n",
      "Oh my lord.\n",
      "\n",
      "\n",
      "\n",
      "\n",
      "\n",
      "\n",
      "\n",
      "\n",
      "\n",
      "step 69020: loss 7.33 21.46ms 466tok/s (total 690,190tok)\n",
      "step 69040: loss 3.61 4.92ms 2033tok/s (total 690,390tok)\n",
      "step 69060: loss 3.54 6.39ms 1564tok/s (total 690,590tok)\n",
      "step 69080: loss 3.14 5.56ms 1798tok/s (total 690,790tok)\n",
      "step 69100: loss 0.06 6.40ms 1561tok/s (total 690,990tok)\n",
      "Oh my lord;\n",
      "HASTINGS: I have, he\n",
      "step 69120: loss 1.67 5.11ms 1956tok/s (total 691,190tok)\n",
      "step 69140: loss 2.70 21.03ms 476tok/s (total 691,390tok)\n",
      "step 69160: loss 7.16 20.96ms 477tok/s (total 691,590tok)\n",
      "step 69180: loss 5.76 20.74ms 482tok/s (total 691,790tok)\n",
      "step 69200: loss 0.15 20.72ms 483tok/s (total 691,990tok)\n",
      "Oh my lord?\n",
      "\n",
      "\n",
      "\n",
      "\n",
      "\n",
      "\n",
      "\n",
      "\n",
      "\n",
      "step 69220: loss 6.92 21.08ms 474tok/s (total 692,190tok)\n",
      "step 69240: loss 8.11 21.14ms 473tok/s (total 692,390tok)\n",
      "step 69260: loss 10.17 21.06ms 475tok/s (total 692,590tok)\n",
      "step 69280: loss 12.52 21.17ms 472tok/s (total 692,790tok)\n",
      "step 69300: loss 0.72 21.39ms 467tok/s (total 692,990tok)\n",
      "Oh my lord,;\n",
      "And I, have, be'd\n",
      "step 69320: loss 5.08 22.17ms 451tok/s (total 693,190tok)\n",
      "step 69340: loss 0.08 21.88ms 457tok/s (total 693,390tok)\n",
      "step 69360: loss 0.29 21.28ms 470tok/s (total 693,590tok)\n",
      "step 69380: loss 8.17 21.88ms 457tok/s (total 693,790tok)\n",
      "step 69400: loss 8.19 21.31ms 469tok/s (total 693,990tok)\n",
      "Oh my lord,\n",
      "GLOUCESTER: I this\n",
      "step 69420: loss 4.03 21.96ms 455tok/s (total 694,190tok)\n",
      "step 69440: loss 10.43 21.31ms 469tok/s (total 694,390tok)\n",
      "step 69460: loss 4.46 21.71ms 461tok/s (total 694,590tok)\n",
      "step 69480: loss 4.74 21.47ms 466tok/s (total 694,790tok)\n",
      "step 69500: loss 7.37 22.66ms 441tok/s (total 694,990tok)\n",
      "Oh my lord,;\n",
      " I have'd, me and to\n",
      "step 69520: loss 6.78 21.17ms 472tok/s (total 695,190tok)\n",
      "step 69540: loss 2.77 21.33ms 469tok/s (total 695,390tok)\n",
      "step 69560: loss 6.36 21.45ms 466tok/s (total 695,590tok)\n",
      "step 69580: loss 7.08 21.40ms 467tok/s (total 695,790tok)\n",
      "step 69600: loss 8.16 21.71ms 461tok/s (total 695,990tok)\n",
      "Oh my lord,\n",
      "GLOUCESTER: I,\n",
      "step 69620: loss 3.36 21.29ms 470tok/s (total 696,190tok)\n",
      "step 69640: loss 7.92 21.43ms 467tok/s (total 696,390tok)\n",
      "step 69660: loss 5.52 21.35ms 468tok/s (total 696,590tok)\n",
      "step 69680: loss 7.79 21.36ms 468tok/s (total 696,790tok)\n",
      "step 69700: loss 3.89 22.40ms 446tok/s (total 696,990tok)\n",
      "Oh my lord,;\n",
      "And I, a,\n",
      ",\n",
      "step 69720: loss 5.96 22.19ms 451tok/s (total 697,190tok)\n",
      "step 69740: loss 0.17 21.55ms 464tok/s (total 697,390tok)\n",
      "step 69760: loss 3.60 21.53ms 465tok/s (total 697,590tok)\n",
      "step 69780: loss 6.39 21.50ms 465tok/s (total 697,790tok)\n",
      "step 69800: loss 0.12 21.63ms 462tok/s (total 697,990tok)\n",
      "Oh my lord.\n",
      "GLOUCESTER:\n",
      "\n",
      "\n",
      "step 69820: loss 11.70 21.88ms 457tok/s (total 698,190tok)\n",
      "step 69840: loss 4.27 4.06ms 2464tok/s (total 698,390tok)\n",
      "step 69860: loss 6.66 8.32ms 1202tok/s (total 698,590tok)\n",
      "step 69880: loss 11.49 13.25ms 755tok/s (total 698,790tok)\n",
      "step 69900: loss 11.47 12.15ms 823tok/s (total 698,990tok)\n",
      "Oh my lord,;\n",
      " and, and to,\n",
      " and\n",
      "step 69920: loss 7.69 21.93ms 456tok/s (total 699,190tok)\n",
      "step 69940: loss 6.84 22.04ms 454tok/s (total 699,390tok)\n",
      "step 69960: loss 4.50 21.54ms 464tok/s (total 699,590tok)\n",
      "step 69980: loss 11.95 7.57ms 1321tok/s (total 699,790tok)\n",
      "step 70000: loss 1.07 9.97ms 1003tok/s (total 699,990tok)\n",
      "Oh my lord,;\n",
      "And\n",
      "GLOUCESTER\n",
      "step 70020: loss 0.08 15.69ms 637tok/s (total 700,190tok)\n",
      "step 70040: loss 0.03 4.49ms 2229tok/s (total 700,390tok)\n",
      "step 70060: loss 9.00 9.29ms 1076tok/s (total 700,590tok)\n",
      "step 70080: loss 11.48 11.11ms 900tok/s (total 700,790tok)\n",
      "step 70100: loss 4.75 8.99ms 1112tok/s (total 700,990tok)\n",
      "Oh my lord.\n",
      "GLOUCESTER:\n",
      "\n",
      "\n",
      "step 70120: loss 6.59 15.92ms 628tok/s (total 701,190tok)\n",
      "step 70140: loss 0.07 21.86ms 457tok/s (total 701,390tok)\n",
      "step 70160: loss 6.90 22.11ms 452tok/s (total 701,590tok)\n",
      "step 70180: loss 11.40 20.40ms 490tok/s (total 701,790tok)\n",
      "step 70200: loss 5.96 13.90ms 719tok/s (total 701,990tok)\n",
      "Oh my lord.\n",
      "\n",
      "\n",
      "\n",
      "\n",
      "\n",
      "\n",
      "\n",
      "\n",
      "\n",
      "step 70220: loss 4.58 13.94ms 717tok/s (total 702,190tok)\n",
      "step 70240: loss 1.99 20.58ms 486tok/s (total 702,390tok)\n",
      "step 70260: loss 4.33 17.92ms 558tok/s (total 702,590tok)\n",
      "step 70280: loss 7.97 10.41ms 961tok/s (total 702,790tok)\n",
      "step 70300: loss 5.86 15.48ms 646tok/s (total 702,990tok)\n",
      "Oh my lord,,,,,,,,,,\n",
      "step 70320: loss 12.53 21.54ms 464tok/s (total 703,190tok)\n",
      "step 70340: loss 7.33 21.58ms 463tok/s (total 703,390tok)\n",
      "step 70360: loss 8.40 21.66ms 462tok/s (total 703,590tok)\n",
      "step 70380: loss 3.87 21.54ms 464tok/s (total 703,790tok)\n",
      "step 70400: loss 6.58 21.51ms 465tok/s (total 703,990tok)\n",
      "Oh my lord,?\n",
      "\n",
      "\n",
      "\n",
      "\n",
      "\n",
      "\n",
      "\n",
      "\n",
      "step 70420: loss 5.08 21.91ms 456tok/s (total 704,190tok)\n",
      "step 70440: loss 2.93 20.95ms 477tok/s (total 704,390tok)\n",
      "step 70460: loss 5.01 20.65ms 484tok/s (total 704,590tok)\n",
      "step 70480: loss 6.86 20.63ms 485tok/s (total 704,790tok)\n",
      "step 70500: loss 2.93 20.60ms 486tok/s (total 704,990tok)\n",
      "Oh my lord?\n",
      "\n",
      "\n",
      "\n",
      "\n",
      "\n",
      "\n",
      "\n",
      "\n",
      "\n",
      "step 70520: loss 3.79 20.61ms 485tok/s (total 705,190tok)\n",
      "step 70540: loss 4.82 20.66ms 484tok/s (total 705,390tok)\n",
      "step 70560: loss 3.76 21.72ms 460tok/s (total 705,590tok)\n",
      "step 70580: loss 2.70 20.81ms 480tok/s (total 705,790tok)\n",
      "step 70600: loss 1.59 21.21ms 471tok/s (total 705,990tok)\n",
      "Oh my lord,\n",
      ", lord have,\n",
      " andThe the\n",
      "step 70620: loss 6.58 21.68ms 461tok/s (total 706,190tok)\n",
      "step 70640: loss 7.76 21.24ms 471tok/s (total 706,390tok)\n",
      "step 70660: loss 4.76 21.43ms 467tok/s (total 706,590tok)\n",
      "step 70680: loss 1.55 20.85ms 480tok/s (total 706,790tok)\n",
      "step 70700: loss 7.94 21.92ms 456tok/s (total 706,990tok)\n",
      "Oh my lord,\n",
      "GLOUCESTER: we we\n",
      "step 70720: loss 0.62 20.90ms 479tok/s (total 707,190tok)\n",
      "step 70740: loss 12.04 20.74ms 482tok/s (total 707,390tok)\n",
      "step 70760: loss 6.80 20.99ms 476tok/s (total 707,590tok)\n",
      "step 70780: loss 4.54 20.67ms 484tok/s (total 707,790tok)\n",
      "step 70800: loss 10.90 20.65ms 484tok/s (total 707,990tok)\n",
      "Oh my lord,.,,\n",
      " lord to the's the\n",
      "step 70820: loss 5.64 20.97ms 477tok/s (total 708,190tok)\n",
      "step 70840: loss 11.39 20.95ms 477tok/s (total 708,390tok)\n",
      "step 70860: loss 4.31 20.74ms 482tok/s (total 708,590tok)\n",
      "step 70880: loss 1.31 21.15ms 473tok/s (total 708,790tok)\n",
      "step 70900: loss 7.76 20.66ms 484tok/s (total 708,990tok)\n",
      "Oh my lord,.,.\n",
      "GLOUCESTER\n",
      "step 70920: loss 2.88 20.65ms 484tok/s (total 709,190tok)\n",
      "step 70940: loss 3.87 21.62ms 463tok/s (total 709,390tok)\n",
      "step 70960: loss 6.31 22.54ms 444tok/s (total 709,590tok)\n",
      "step 70980: loss 3.49 20.93ms 478tok/s (total 709,790tok)\n",
      "step 71000: loss 8.32 21.40ms 467tok/s (total 709,990tok)\n",
      "Oh my lord,.,\n",
      "BUCKHAM:,:\n",
      "step 71020: loss 12.37 21.91ms 456tok/s (total 710,190tok)\n",
      "step 71040: loss 12.91 21.04ms 475tok/s (total 710,390tok)\n",
      "step 71060: loss 12.45 20.82ms 480tok/s (total 710,590tok)\n",
      "step 71080: loss 7.81 20.71ms 483tok/s (total 710,790tok)\n",
      "step 71100: loss 0.04 21.36ms 468tok/s (total 710,990tok)\n",
      "Oh my lord.\n",
      "\n",
      "\n",
      "\n",
      "\n",
      "\n",
      "\n",
      "\n",
      "\n",
      "\n",
      "step 71120: loss 12.70 21.65ms 462tok/s (total 711,190tok)\n",
      "step 71140: loss 0.00 21.10ms 474tok/s (total 711,390tok)\n",
      "step 71160: loss 8.10 20.80ms 481tok/s (total 711,590tok)\n",
      "step 71180: loss 5.61 20.85ms 480tok/s (total 711,790tok)\n",
      "step 71200: loss 6.80 21.43ms 467tok/s (total 711,990tok)\n",
      "Oh my lord.\n",
      "\n",
      "\n",
      "\n",
      "\n",
      "\n",
      "\n",
      "\n",
      "\n",
      "\n",
      "step 71220: loss 6.43 21.68ms 461tok/s (total 712,190tok)\n",
      "step 71240: loss 11.86 22.06ms 453tok/s (total 712,390tok)\n",
      "step 71260: loss 5.52 24.84ms 403tok/s (total 712,590tok)\n",
      "step 71280: loss 11.07 20.73ms 482tok/s (total 712,790tok)\n",
      "step 71300: loss 4.94 20.77ms 481tok/s (total 712,990tok)\n",
      "Oh my lord,.,.\n",
      "GLOUCESTER\n",
      "step 71320: loss 11.51 20.77ms 481tok/s (total 713,190tok)\n",
      "step 71340: loss 6.91 21.24ms 471tok/s (total 713,390tok)\n",
      "step 71360: loss 4.43 21.00ms 476tok/s (total 713,590tok)\n",
      "step 71380: loss 2.22 20.66ms 484tok/s (total 713,790tok)\n",
      "step 71400: loss 4.83 20.95ms 477tok/s (total 713,990tok)\n",
      "Oh my lord,.,,\n",
      " theBUCKINGHAM\n",
      "step 71420: loss 8.55 24.59ms 407tok/s (total 714,190tok)\n",
      "step 71440: loss 4.72 22.39ms 447tok/s (total 714,390tok)\n",
      "step 71460: loss 12.79 24.79ms 403tok/s (total 714,590tok)\n",
      "step 71480: loss 6.77 22.02ms 454tok/s (total 714,790tok)\n",
      "step 71500: loss 0.35 20.79ms 481tok/s (total 714,990tok)\n",
      "Oh my lord,;\n",
      "GLOUCESTER,,\n",
      "step 71520: loss 2.56 21.18ms 472tok/s (total 715,190tok)\n",
      "step 71540: loss 7.18 21.74ms 460tok/s (total 715,390tok)\n",
      "step 71560: loss 4.13 21.09ms 474tok/s (total 715,590tok)\n",
      "step 71580: loss 5.58 20.74ms 482tok/s (total 715,790tok)\n",
      "step 71600: loss 11.37 20.95ms 477tok/s (total 715,990tok)\n",
      "Oh my lord,,,,,,,,,,\n",
      "step 71620: loss 8.03 20.77ms 482tok/s (total 716,190tok)\n",
      "step 71640: loss 6.76 20.66ms 484tok/s (total 716,390tok)\n",
      "step 71660: loss 9.31 20.60ms 485tok/s (total 716,590tok)\n",
      "step 71680: loss 7.43 20.65ms 484tok/s (total 716,790tok)\n",
      "step 71700: loss 0.43 20.86ms 479tok/s (total 716,990tok)\n",
      "Oh my lord,.,;\n",
      "BUCKINGHAM,\n",
      "step 71720: loss 7.31 21.07ms 475tok/s (total 717,190tok)\n",
      "step 71740: loss 6.76 22.01ms 454tok/s (total 717,390tok)\n",
      "step 71760: loss 4.02 21.56ms 464tok/s (total 717,590tok)\n",
      "step 71780: loss 11.93 37.10ms 270tok/s (total 717,790tok)\n",
      "step 71800: loss 2.33 4.75ms 2106tok/s (total 717,990tok)\n",
      "Oh my lord,,,,,,,,,,\n",
      "step 71820: loss 3.83 5.80ms 1725tok/s (total 718,190tok)\n",
      "step 71840: loss 8.78 10.57ms 946tok/s (total 718,390tok)\n",
      "step 71860: loss 9.13 5.33ms 1875tok/s (total 718,590tok)\n",
      "step 71880: loss 12.53 5.79ms 1727tok/s (total 718,790tok)\n",
      "step 71900: loss 5.04 6.12ms 1634tok/s (total 718,990tok)\n",
      "Oh my lord,\n",
      "BUCKINGHAM:,:,\n",
      "step 71920: loss 8.88 22.49ms 445tok/s (total 719,190tok)\n",
      "step 71940: loss 8.51 11.62ms 860tok/s (total 719,390tok)\n",
      "step 71960: loss 6.10 5.48ms 1823tok/s (total 719,590tok)\n",
      "step 71980: loss 4.12 6.89ms 1451tok/s (total 719,790tok)\n",
      "step 72000: loss 5.76 13.93ms 718tok/s (total 719,990tok)\n",
      "Oh my lord.\n",
      "GLOUCESTER:\n",
      "\n",
      "\n",
      "step 72020: loss 4.68 10.13ms 987tok/s (total 720,190tok)\n",
      "step 72040: loss 6.54 21.70ms 461tok/s (total 720,390tok)\n",
      "step 72060: loss 8.27 21.50ms 465tok/s (total 720,590tok)\n",
      "step 72080: loss 3.34 21.00ms 476tok/s (total 720,790tok)\n",
      "step 72100: loss 5.33 20.75ms 482tok/s (total 720,990tok)\n",
      "Oh my lord;\n",
      " II II II I to\n",
      "step 72120: loss 3.51 21.24ms 471tok/s (total 721,190tok)\n",
      "step 72140: loss 5.60 6.74ms 1485tok/s (total 721,390tok)\n",
      "step 72160: loss 7.19 24.42ms 410tok/s (total 721,590tok)\n",
      "step 72180: loss 2.72 8.49ms 1178tok/s (total 721,790tok)\n",
      "step 72200: loss 4.24 201.83ms 50tok/s (total 721,990tok)\n",
      "Oh my lord;\n",
      "And\n",
      " I to\n",
      "BUCKING\n",
      "step 72220: loss 5.06 22.19ms 451tok/s (total 722,190tok)\n",
      "step 72240: loss 8.58 6.36ms 1572tok/s (total 722,390tok)\n",
      "step 72260: loss 0.72 4.53ms 2209tok/s (total 722,590tok)\n",
      "step 72280: loss 0.74 21.44ms 467tok/s (total 722,790tok)\n",
      "step 72300: loss 6.75 20.78ms 481tok/s (total 722,990tok)\n",
      "Oh my lord.\n",
      "\n",
      "\n",
      "\n",
      "\n",
      "\n",
      "\n",
      "\n",
      "\n",
      "\n",
      "step 72320: loss 4.71 21.10ms 474tok/s (total 723,190tok)\n",
      "step 72340: loss 6.64 21.89ms 457tok/s (total 723,390tok)\n",
      "step 72360: loss 3.67 21.49ms 465tok/s (total 723,590tok)\n",
      "step 72380: loss 5.08 10.46ms 956tok/s (total 723,790tok)\n",
      "step 72400: loss 5.65 20.88ms 479tok/s (total 723,990tok)\n",
      "Oh my lord,.,;\n",
      "But, I\n",
      " to\n",
      "step 72420: loss 4.54 21.54ms 464tok/s (total 724,190tok)\n",
      "step 72440: loss 4.90 40.93ms 244tok/s (total 724,390tok)\n",
      "step 72460: loss 3.89 3.38ms 2955tok/s (total 724,590tok)\n",
      "step 72480: loss 7.76 21.47ms 466tok/s (total 724,790tok)\n",
      "step 72500: loss 1.21 21.47ms 466tok/s (total 724,990tok)\n",
      "Oh my lord.\n",
      "\n",
      "\n",
      "\n",
      "\n",
      "\n",
      "\n",
      "\n",
      "\n",
      "\n",
      "step 72520: loss 4.23 21.35ms 468tok/s (total 725,190tok)\n",
      "step 72540: loss 5.18 21.94ms 456tok/s (total 725,390tok)\n",
      "step 72560: loss 6.25 23.34ms 428tok/s (total 725,590tok)\n",
      "step 72580: loss 3.45 21.48ms 466tok/s (total 725,790tok)\n",
      "step 72600: loss 0.54 21.47ms 466tok/s (total 725,990tok)\n",
      "Oh my lord.\n",
      "\n",
      "\n",
      "\n",
      "\n",
      "\n",
      "\n",
      "\n",
      "\n",
      "\n",
      "step 72620: loss 12.64 21.45ms 466tok/s (total 726,190tok)\n",
      "step 72640: loss 3.79 21.22ms 471tok/s (total 726,390tok)\n",
      "step 72660: loss 12.76 21.31ms 469tok/s (total 726,590tok)\n",
      "step 72680: loss 4.87 21.34ms 469tok/s (total 726,790tok)\n",
      "step 72700: loss 6.28 22.36ms 447tok/s (total 726,990tok)\n",
      "Oh my lord.\n",
      "\n",
      "\n",
      "\n",
      "\n",
      "\n",
      "\n",
      "\n",
      "\n",
      "\n",
      "step 72720: loss 2.77 21.37ms 468tok/s (total 727,190tok)\n",
      "step 72740: loss 5.93 21.77ms 459tok/s (total 727,390tok)\n",
      "step 72760: loss 5.90 19.96ms 501tok/s (total 727,590tok)\n",
      "step 72780: loss 0.08 21.79ms 459tok/s (total 727,790tok)\n",
      "step 72800: loss 8.17 21.61ms 463tok/s (total 727,990tok)\n",
      "Oh my lord.\n",
      "\n",
      "\n",
      "\n",
      "\n",
      "\n",
      "\n",
      "\n",
      "\n",
      "\n",
      "step 72820: loss 0.36 21.58ms 463tok/s (total 728,190tok)\n",
      "step 72840: loss 8.05 6.94ms 1442tok/s (total 728,390tok)\n",
      "step 72860: loss 11.51 21.32ms 469tok/s (total 728,590tok)\n",
      "step 72880: loss 3.78 18.51ms 540tok/s (total 728,790tok)\n",
      "step 72900: loss 12.51 19.80ms 505tok/s (total 728,990tok)\n",
      "Oh my lord.\n",
      "GLOUCESTER:\n",
      "\n",
      "\n",
      "step 72920: loss 11.31 5.60ms 1787tok/s (total 729,190tok)\n",
      "step 72940: loss 9.38 22.96ms 436tok/s (total 729,390tok)\n",
      "step 72960: loss 8.84 7.03ms 1422tok/s (total 729,590tok)\n",
      "step 72980: loss 11.12 2.91ms 3434tok/s (total 729,790tok)\n",
      "step 73000: loss 8.59 6.28ms 1593tok/s (total 729,990tok)\n",
      "Oh my lord,.,\n",
      "BUCKINGHAM:,\n",
      "step 73020: loss 11.84 24.37ms 410tok/s (total 730,190tok)\n",
      "step 73040: loss 11.12 2.35ms 4253tok/s (total 730,390tok)\n",
      "step 73060: loss 12.04 18.52ms 540tok/s (total 730,590tok)\n",
      "step 73080: loss 11.62 14.57ms 686tok/s (total 730,790tok)\n",
      "step 73100: loss 5.37 32.62ms 307tok/s (total 730,990tok)\n",
      "Oh my lord,,,,,.,, your,\n",
      "step 73120: loss 10.12 33.44ms 299tok/s (total 731,190tok)\n",
      "step 73140: loss 5.04 15.92ms 628tok/s (total 731,390tok)\n",
      "step 73160: loss 7.47 22.28ms 449tok/s (total 731,590tok)\n",
      "step 73180: loss 10.73 22.86ms 438tok/s (total 731,790tok)\n",
      "step 73200: loss 1.79 22.13ms 452tok/s (total 731,990tok)\n",
      "Oh my lord.\n",
      "GLOUCESTER:\n",
      "\n",
      "\n",
      "step 73220: loss 7.95 5.31ms 1882tok/s (total 732,190tok)\n",
      "step 73240: loss 7.74 3.71ms 2692tok/s (total 732,390tok)\n",
      "step 73260: loss 8.81 19.35ms 517tok/s (total 732,590tok)\n",
      "step 73280: loss 7.32 18.04ms 554tok/s (total 732,790tok)\n",
      "step 73300: loss 11.90 4.23ms 2362tok/s (total 732,990tok)\n",
      "Oh my lord.\n",
      "GLOUCESTER:\n",
      "\n",
      "\n",
      "step 73320: loss 9.33 20.50ms 488tok/s (total 733,190tok)\n",
      "step 73340: loss 11.85 19.15ms 522tok/s (total 733,390tok)\n",
      "step 73360: loss 6.65 17.50ms 571tok/s (total 733,590tok)\n",
      "step 73380: loss 11.82 13.94ms 717tok/s (total 733,790tok)\n",
      "step 73400: loss 0.02 21.22ms 471tok/s (total 733,990tok)\n",
      "Oh my lord.\n",
      "GLOUCESTER:\n",
      "\n",
      "\n",
      "step 73420: loss 2.79 3.46ms 2893tok/s (total 734,190tok)\n",
      "step 73440: loss 2.33 21.61ms 463tok/s (total 734,390tok)\n",
      "step 73460: loss 3.70 21.56ms 464tok/s (total 734,590tok)\n",
      "step 73480: loss 5.90 21.63ms 462tok/s (total 734,790tok)\n",
      "step 73500: loss 3.23 4.87ms 2052tok/s (total 734,990tok)\n",
      "Oh my lord.\n",
      "GLOUCESTER:\n",
      "\n",
      "\n",
      "step 73520: loss 10.41 9.56ms 1046tok/s (total 735,190tok)\n",
      "step 73540: loss 4.05 21.46ms 466tok/s (total 735,390tok)\n",
      "step 73560: loss 4.58 21.58ms 463tok/s (total 735,590tok)\n",
      "step 73580: loss 9.87 21.43ms 467tok/s (total 735,790tok)\n",
      "step 73600: loss 3.30 21.42ms 467tok/s (total 735,990tok)\n",
      "Oh my lord.\n",
      "GLOUCESTER:\n",
      "\n",
      "\n",
      "step 73620: loss 7.29 9.44ms 1059tok/s (total 736,190tok)\n",
      "step 73640: loss 4.53 18.16ms 551tok/s (total 736,390tok)\n",
      "step 73660: loss 12.38 12.73ms 786tok/s (total 736,590tok)\n",
      "step 73680: loss 3.85 21.42ms 467tok/s (total 736,790tok)\n",
      "step 73700: loss 6.20 4.15ms 2408tok/s (total 736,990tok)\n",
      "Oh my lord,;\n",
      " and\n",
      "BUCKINGHAM,\n",
      "step 73720: loss 3.99 21.63ms 462tok/s (total 737,190tok)\n",
      "step 73740: loss 4.38 22.57ms 443tok/s (total 737,390tok)\n",
      "step 73760: loss 8.80 4.63ms 2161tok/s (total 737,590tok)\n",
      "step 73780: loss 3.19 22.87ms 437tok/s (total 737,790tok)\n",
      "step 73800: loss 3.71 21.89ms 457tok/s (total 737,990tok)\n",
      "Oh my lord.\n",
      ",\n",
      "GLOUCESTER:\n",
      "step 73820: loss 2.05 21.98ms 455tok/s (total 738,190tok)\n",
      "step 73840: loss 6.83 21.48ms 466tok/s (total 738,390tok)\n",
      "step 73860: loss 8.52 21.64ms 462tok/s (total 738,590tok)\n",
      "step 73880: loss 4.31 22.33ms 448tok/s (total 738,790tok)\n",
      "step 73900: loss 3.39 8.80ms 1137tok/s (total 738,990tok)\n",
      "Oh my lord.\n",
      "UCKINGHAM:\n",
      ",,,\n",
      "step 73920: loss 5.84 22.18ms 451tok/s (total 739,190tok)\n",
      "step 73940: loss 5.84 22.37ms 447tok/s (total 739,390tok)\n",
      "step 73960: loss 5.89 21.15ms 473tok/s (total 739,590tok)\n",
      "step 73980: loss 2.62 13.43ms 745tok/s (total 739,790tok)\n",
      "step 74000: loss 3.02 21.16ms 473tok/s (total 739,990tok)\n",
      "Oh my lord,.,;\n",
      " youI you not to\n",
      "step 74020: loss 7.37 5.44ms 1839tok/s (total 740,190tok)\n",
      "step 74040: loss 5.30 14.01ms 714tok/s (total 740,390tok)\n",
      "step 74060: loss 4.56 21.73ms 460tok/s (total 740,590tok)\n",
      "step 74080: loss 1.17 13.07ms 765tok/s (total 740,790tok)\n",
      "step 74100: loss 5.74 21.58ms 463tok/s (total 740,990tok)\n",
      "Oh my lord.\n",
      "\n",
      "\n",
      "\n",
      "\n",
      "\n",
      "\n",
      "\n",
      "\n",
      "\n",
      "step 74120: loss 5.23 20.83ms 480tok/s (total 741,190tok)\n",
      "step 74140: loss 1.92 10.34ms 967tok/s (total 741,390tok)\n",
      "step 74160: loss 3.89 22.80ms 439tok/s (total 741,590tok)\n",
      "step 74180: loss 5.09 22.56ms 443tok/s (total 741,790tok)\n",
      "step 74200: loss 5.42 21.22ms 471tok/s (total 741,990tok)\n",
      "Oh my lord,.,.\n",
      "CES and\n",
      ":\n",
      "step 74220: loss 11.56 21.17ms 472tok/s (total 742,190tok)\n",
      "step 74240: loss 4.36 22.17ms 451tok/s (total 742,390tok)\n",
      "step 74260: loss 7.37 20.75ms 482tok/s (total 742,590tok)\n",
      "step 74280: loss 6.26 20.92ms 478tok/s (total 742,790tok)\n",
      "step 74300: loss 0.13 21.22ms 471tok/s (total 742,990tok)\n",
      "Oh my lord.\n",
      "CES:\n",
      "\n",
      "\n",
      "\n",
      "\n",
      "\n",
      "step 74320: loss 0.02 21.96ms 455tok/s (total 743,190tok)\n",
      "step 74340: loss 7.57 21.37ms 468tok/s (total 743,390tok)\n",
      "step 74360: loss 7.28 5.11ms 1956tok/s (total 743,590tok)\n",
      "step 74380: loss 7.21 5.15ms 1941tok/s (total 743,790tok)\n",
      "step 74400: loss 5.19 6.53ms 1531tok/s (total 743,990tok)\n",
      "Oh my lord.\n",
      "CES:\n",
      "\n",
      "\n",
      "\n",
      "\n",
      "\n",
      "step 74420: loss 4.87 7.43ms 1346tok/s (total 744,190tok)\n",
      "step 74440: loss 6.73 5.36ms 1867tok/s (total 744,390tok)\n",
      "step 74460: loss 4.79 5.62ms 1780tok/s (total 744,590tok)\n",
      "step 74480: loss 7.29 5.19ms 1928tok/s (total 744,790tok)\n",
      "step 74500: loss 4.78 5.13ms 1950tok/s (total 744,990tok)\n",
      "Oh my lord.\n",
      "UCKINGHAM:\n",
      ",,,\n",
      "step 74520: loss 8.48 9.01ms 1110tok/s (total 745,190tok)\n",
      "step 74540: loss 5.16 21.33ms 469tok/s (total 745,390tok)\n",
      "step 74560: loss 2.99 21.21ms 471tok/s (total 745,590tok)\n",
      "step 74580: loss 12.43 21.18ms 472tok/s (total 745,790tok)\n",
      "step 74600: loss 3.71 21.37ms 468tok/s (total 745,990tok)\n",
      "Oh my lord,.,.\n",
      "\n",
      "\n",
      "\n",
      "\n",
      "\n",
      "\n",
      "step 74620: loss 10.77 22.27ms 449tok/s (total 746,190tok)\n",
      "step 74640: loss 7.78 22.16ms 451tok/s (total 746,390tok)\n",
      "step 74660: loss 3.69 22.51ms 444tok/s (total 746,590tok)\n",
      "step 74680: loss 8.73 21.57ms 464tok/s (total 746,790tok)\n",
      "step 74700: loss 7.31 21.51ms 465tok/s (total 746,990tok)\n",
      "Oh my lord,.,.\n",
      "\n",
      "\n",
      "\n",
      "\n",
      "\n",
      "\n",
      "step 74720: loss 7.65 21.33ms 469tok/s (total 747,190tok)\n",
      "step 74740: loss 9.67 21.21ms 471tok/s (total 747,390tok)\n",
      "step 74760: loss 6.63 21.11ms 474tok/s (total 747,590tok)\n",
      "step 74780: loss 4.84 21.73ms 460tok/s (total 747,790tok)\n",
      "step 74800: loss 4.33 21.36ms 468tok/s (total 747,990tok)\n",
      "Oh my lord.\n",
      "Y:\n",
      "\n",
      "\n",
      "\n",
      "\n",
      "\n",
      "\n",
      "step 74820: loss 4.12 21.22ms 471tok/s (total 748,190tok)\n",
      "step 74840: loss 8.60 21.52ms 465tok/s (total 748,390tok)\n",
      "step 74860: loss 4.44 22.16ms 451tok/s (total 748,590tok)\n",
      "step 74880: loss 6.12 21.51ms 465tok/s (total 748,790tok)\n",
      "step 74900: loss 2.80 21.54ms 464tok/s (total 748,990tok)\n",
      "Oh my lord.\n",
      "LY\n",
      "Y:,:,\n",
      "step 74920: loss 4.82 21.61ms 463tok/s (total 749,190tok)\n",
      "step 74940: loss 7.11 21.92ms 456tok/s (total 749,390tok)\n",
      "step 74960: loss 11.88 21.57ms 464tok/s (total 749,590tok)\n",
      "step 74980: loss 4.68 22.24ms 450tok/s (total 749,790tok)\n",
      "step 75000: loss 5.29 21.53ms 465tok/s (total 749,990tok)\n",
      "Oh my lord,.,.\n",
      "\n",
      "\n",
      "\n",
      "\n",
      "\n",
      "\n",
      "step 75020: loss 13.18 21.71ms 461tok/s (total 750,190tok)\n",
      "step 75040: loss 6.26 21.65ms 462tok/s (total 750,390tok)\n",
      "step 75060: loss 1.65 21.54ms 464tok/s (total 750,590tok)\n",
      "step 75080: loss 7.69 21.59ms 463tok/s (total 750,790tok)\n",
      "step 75100: loss 7.51 21.55ms 464tok/s (total 750,990tok)\n",
      "Oh my lord.\n",
      "\n",
      "\n",
      "\n",
      "\n",
      "\n",
      "\n",
      "\n",
      "\n",
      "\n",
      "step 75120: loss 0.95 21.80ms 459tok/s (total 751,190tok)\n",
      "step 75140: loss 10.41 22.64ms 442tok/s (total 751,390tok)\n",
      "step 75160: loss 0.92 21.61ms 463tok/s (total 751,590tok)\n",
      "step 75180: loss 0.38 21.43ms 467tok/s (total 751,790tok)\n",
      "step 75200: loss 4.84 21.61ms 463tok/s (total 751,990tok)\n",
      "Oh my lord.\n",
      "ANUS:\n",
      "\n",
      "\n",
      "\n",
      "\n",
      "\n",
      "step 75220: loss 3.37 21.84ms 458tok/s (total 752,190tok)\n",
      "step 75240: loss 4.01 21.66ms 462tok/s (total 752,390tok)\n",
      "step 75260: loss 5.18 22.95ms 436tok/s (total 752,590tok)\n",
      "step 75280: loss 3.40 21.61ms 463tok/s (total 752,790tok)\n",
      "step 75300: loss 1.66 22.00ms 455tok/s (total 752,990tok)\n",
      "Oh my lord.\n",
      "\n",
      "\n",
      "\n",
      "\n",
      "\n",
      "\n",
      "\n",
      "\n",
      "\n",
      "step 75320: loss 1.66 21.71ms 461tok/s (total 753,190tok)\n",
      "step 75340: loss 13.33 21.71ms 461tok/s (total 753,390tok)\n",
      "step 75360: loss 4.64 21.52ms 465tok/s (total 753,590tok)\n",
      "step 75380: loss 7.93 21.68ms 461tok/s (total 753,790tok)\n",
      "step 75400: loss 1.32 21.56ms 464tok/s (total 753,990tok)\n",
      "Oh my lord,.,.\n",
      "\n",
      "\n",
      "\n",
      "\n",
      "\n",
      "\n",
      "step 75420: loss 7.19 22.46ms 445tok/s (total 754,190tok)\n",
      "step 75440: loss 4.65 21.60ms 463tok/s (total 754,390tok)\n",
      "step 75460: loss 3.34 21.93ms 456tok/s (total 754,590tok)\n",
      "step 75480: loss 7.70 21.84ms 458tok/s (total 754,790tok)\n",
      "step 75500: loss 4.25 23.06ms 434tok/s (total 754,990tok)\n",
      "Oh my lord,.,, I\n",
      " to the,And\n",
      "step 75520: loss 6.47 21.53ms 464tok/s (total 755,190tok)\n",
      "step 75540: loss 1.19 21.50ms 465tok/s (total 755,390tok)\n",
      "step 75560: loss 6.79 21.50ms 465tok/s (total 755,590tok)\n",
      "step 75580: loss 3.77 20.66ms 484tok/s (total 755,790tok)\n",
      "step 75600: loss 1.39 21.59ms 463tok/s (total 755,990tok)\n",
      "Oh my lord!\n",
      "Y:,:,,,,\n",
      "step 75620: loss 12.90 20.80ms 481tok/s (total 756,190tok)\n",
      "step 75640: loss 3.60 21.75ms 460tok/s (total 756,390tok)\n",
      "step 75660: loss 10.23 20.99ms 477tok/s (total 756,590tok)\n",
      "step 75680: loss 4.35 21.67ms 461tok/s (total 756,790tok)\n",
      "step 75700: loss 4.51 20.78ms 481tok/s (total 756,990tok)\n",
      "Oh my lord,.,!\n",
      "LYC,'s\n",
      "step 75720: loss 9.42 20.86ms 479tok/s (total 757,190tok)\n",
      "step 75740: loss 11.77 21.37ms 468tok/s (total 757,390tok)\n",
      "step 75760: loss 11.24 21.11ms 474tok/s (total 757,590tok)\n",
      "step 75780: loss 7.67 21.24ms 471tok/s (total 757,790tok)\n",
      "step 75800: loss 0.31 21.27ms 470tok/s (total 757,990tok)\n",
      "Oh my lord.\n",
      "\n",
      "\n",
      "\n",
      "\n",
      "\n",
      "\n",
      "\n",
      "\n",
      "\n",
      "step 75820: loss 4.61 21.25ms 471tok/s (total 758,190tok)\n",
      "step 75840: loss 12.24 21.25ms 471tok/s (total 758,390tok)\n",
      "step 75860: loss 12.95 21.29ms 470tok/s (total 758,590tok)\n",
      "step 75880: loss 3.18 21.97ms 455tok/s (total 758,790tok)\n",
      "step 75900: loss 11.27 21.57ms 464tok/s (total 758,990tok)\n",
      "Oh my lord.\n",
      "\n",
      "\n",
      "\n",
      "\n",
      "\n",
      "\n",
      "\n",
      "\n",
      "\n",
      "step 75920: loss 7.98 21.31ms 469tok/s (total 759,190tok)\n",
      "step 75940: loss 5.24 21.72ms 460tok/s (total 759,390tok)\n",
      "step 75960: loss 5.51 21.30ms 470tok/s (total 759,590tok)\n",
      "step 75980: loss 0.80 21.57ms 464tok/s (total 759,790tok)\n",
      "step 76000: loss 5.49 22.13ms 452tok/s (total 759,990tok)\n",
      "Oh my lord.\n",
      "\n",
      "\n",
      "\n",
      "\n",
      "\n",
      "\n",
      "\n",
      "\n",
      "\n",
      "step 76020: loss 11.28 21.44ms 466tok/s (total 760,190tok)\n",
      "step 76040: loss 7.03 21.46ms 466tok/s (total 760,390tok)\n",
      "step 76060: loss 4.07 21.40ms 467tok/s (total 760,590tok)\n",
      "step 76080: loss 1.64 21.58ms 463tok/s (total 760,790tok)\n",
      "step 76100: loss 3.32 22.14ms 452tok/s (total 760,990tok)\n",
      "Oh my lord.\n",
      "\n",
      "\n",
      "\n",
      "\n",
      "\n",
      "\n",
      "\n",
      "\n",
      "\n",
      "step 76120: loss 5.27 21.51ms 465tok/s (total 761,190tok)\n",
      "step 76140: loss 7.58 21.72ms 460tok/s (total 761,390tok)\n",
      "step 76160: loss 4.61 22.25ms 449tok/s (total 761,590tok)\n",
      "step 76180: loss 3.90 21.54ms 464tok/s (total 761,790tok)\n",
      "step 76200: loss 4.52 21.84ms 458tok/s (total 761,990tok)\n",
      "Oh my lord.\n",
      "ING\n",
      "HAM:\n",
      "O,,\n",
      "step 76220: loss 5.68 21.45ms 466tok/s (total 762,190tok)\n",
      "step 76240: loss 4.43 21.55ms 464tok/s (total 762,390tok)\n",
      "step 76260: loss 0.07 21.55ms 464tok/s (total 762,590tok)\n",
      "step 76280: loss 4.36 21.70ms 461tok/s (total 762,790tok)\n",
      "step 76300: loss 0.52 21.46ms 466tok/s (total 762,990tok)\n",
      "Oh my lord.\n",
      "\n",
      "\n",
      "\n",
      "\n",
      "\n",
      "\n",
      "\n",
      "\n",
      "\n",
      "step 76320: loss 5.23 22.36ms 447tok/s (total 763,190tok)\n",
      "step 76340: loss 0.02 22.21ms 450tok/s (total 763,390tok)\n",
      "step 76360: loss 10.79 23.22ms 431tok/s (total 763,590tok)\n",
      "step 76380: loss 0.46 21.72ms 460tok/s (total 763,790tok)\n",
      "step 76400: loss 11.24 21.38ms 468tok/s (total 763,990tok)\n",
      "Oh my lord.\n",
      "\n",
      "\n",
      "\n",
      "\n",
      "\n",
      "\n",
      "\n",
      "\n",
      "\n",
      "step 76420: loss 6.65 21.52ms 465tok/s (total 764,190tok)\n",
      "step 76440: loss 6.72 21.53ms 464tok/s (total 764,390tok)\n",
      "step 76460: loss 0.00 21.75ms 460tok/s (total 764,590tok)\n",
      "step 76480: loss 2.53 21.71ms 461tok/s (total 764,790tok)\n",
      "step 76500: loss 2.57 22.08ms 453tok/s (total 764,990tok)\n",
      "Oh my lord.\n",
      "\n",
      "\n",
      "\n",
      "\n",
      "\n",
      "\n",
      "\n",
      "\n",
      "\n",
      "step 76520: loss 9.91 21.56ms 464tok/s (total 765,190tok)\n",
      "step 76540: loss 2.24 21.55ms 464tok/s (total 765,390tok)\n",
      "step 76560: loss 3.00 21.58ms 463tok/s (total 765,590tok)\n",
      "step 76580: loss 1.45 21.59ms 463tok/s (total 765,790tok)\n",
      "step 76600: loss 6.56 21.46ms 466tok/s (total 765,990tok)\n",
      "Oh my lord.\n",
      "\n",
      "\n",
      "\n",
      "\n",
      "\n",
      "\n",
      "\n",
      "\n",
      "\n",
      "step 76620: loss 11.28 21.52ms 465tok/s (total 766,190tok)\n",
      "step 76640: loss 5.26 21.48ms 466tok/s (total 766,390tok)\n",
      "step 76660: loss 1.79 21.57ms 463tok/s (total 766,590tok)\n",
      "step 76680: loss 6.68 21.26ms 470tok/s (total 766,790tok)\n",
      "step 76700: loss 5.41 21.57ms 464tok/s (total 766,990tok)\n",
      "Oh my lord.\n",
      "CESTER:\n",
      "\n",
      "\n",
      "\n",
      "\n",
      "step 76720: loss 3.52 21.58ms 463tok/s (total 767,190tok)\n",
      "step 76740: loss 5.65 21.53ms 464tok/s (total 767,390tok)\n",
      "step 76760: loss 4.25 21.85ms 458tok/s (total 767,590tok)\n",
      "step 76780: loss 0.18 20.67ms 484tok/s (total 767,790tok)\n",
      "step 76800: loss 7.60 20.84ms 480tok/s (total 767,990tok)\n",
      "Oh my lord.\n",
      "\n",
      "\n",
      "\n",
      "\n",
      "\n",
      "\n",
      "\n",
      "\n",
      "\n",
      "step 76820: loss 11.63 20.67ms 484tok/s (total 768,190tok)\n",
      "step 76840: loss 0.27 20.65ms 484tok/s (total 768,390tok)\n",
      "step 76860: loss 7.09 20.96ms 477tok/s (total 768,590tok)\n",
      "step 76880: loss 1.84 20.64ms 484tok/s (total 768,790tok)\n",
      "step 76900: loss 4.18 20.61ms 485tok/s (total 768,990tok)\n",
      "Oh my lord.\n",
      "\n",
      "\n",
      "\n",
      "\n",
      "\n",
      "\n",
      "\n",
      "\n",
      "\n",
      "step 76920: loss 11.19 20.70ms 483tok/s (total 769,190tok)\n",
      "step 76940: loss 4.20 20.65ms 484tok/s (total 769,390tok)\n",
      "step 76960: loss 6.08 22.21ms 450tok/s (total 769,590tok)\n",
      "step 76980: loss 8.36 21.97ms 455tok/s (total 769,790tok)\n",
      "step 77000: loss 10.76 21.31ms 469tok/s (total 769,990tok)\n",
      "Oh my lord.\n",
      "ARD\n",
      ":\n",
      " RICH III,\n",
      "step 77020: loss 5.61 21.07ms 475tok/s (total 770,190tok)\n",
      "step 77040: loss 5.92 22.50ms 444tok/s (total 770,390tok)\n",
      "step 77060: loss 10.03 23.13ms 432tok/s (total 770,590tok)\n",
      "step 77080: loss 0.05 23.72ms 422tok/s (total 770,790tok)\n",
      "step 77100: loss 8.96 7.58ms 1319tok/s (total 770,990tok)\n",
      "Oh my lord.\n",
      "\n",
      "\n",
      "\n",
      "\n",
      "\n",
      "\n",
      "\n",
      "\n",
      "\n",
      "step 77120: loss 6.91 7.25ms 1379tok/s (total 771,190tok)\n",
      "step 77140: loss 6.76 22.32ms 448tok/s (total 771,390tok)\n",
      "step 77160: loss 4.55 14.77ms 677tok/s (total 771,590tok)\n",
      "step 77180: loss 2.06 6.79ms 1474tok/s (total 771,790tok)\n",
      "step 77200: loss 4.80 35.63ms 281tok/s (total 771,990tok)\n",
      "Oh my lord.\n",
      "\n",
      "\n",
      "\n",
      "\n",
      "\n",
      "\n",
      "\n",
      "\n",
      "\n",
      "step 77220: loss 5.84 21.05ms 475tok/s (total 772,190tok)\n",
      "step 77240: loss 6.24 6.01ms 1664tok/s (total 772,390tok)\n",
      "step 77260: loss 0.27 8.90ms 1124tok/s (total 772,590tok)\n",
      "step 77280: loss 0.04 68.82ms 145tok/s (total 772,790tok)\n",
      "step 77300: loss 8.22 9.08ms 1101tok/s (total 772,990tok)\n",
      "Oh my lord.\n",
      "\n",
      "\n",
      "\n",
      "\n",
      "\n",
      "\n",
      "\n",
      "\n",
      "\n",
      "step 77320: loss 4.10 4.25ms 2352tok/s (total 773,190tok)\n",
      "step 77340: loss 10.62 4.71ms 2124tok/s (total 773,390tok)\n",
      "step 77360: loss 8.20 264.45ms 38tok/s (total 773,590tok)\n",
      "step 77380: loss 3.43 5.51ms 1817tok/s (total 773,790tok)\n",
      "step 77400: loss 11.65 22.07ms 453tok/s (total 773,990tok)\n",
      "Oh my lord.\n",
      "\n",
      "\n",
      "\n",
      "\n",
      "\n",
      "\n",
      "\n",
      "\n",
      "\n",
      "step 77420: loss 11.97 21.79ms 459tok/s (total 774,190tok)\n",
      "step 77440: loss 5.81 8.36ms 1196tok/s (total 774,390tok)\n",
      "step 77460: loss 1.95 8.22ms 1216tok/s (total 774,590tok)\n",
      "step 77480: loss 0.55 3.99ms 2508tok/s (total 774,790tok)\n",
      "step 77500: loss 4.54 11.52ms 868tok/s (total 774,990tok)\n",
      "Oh my lord.\n",
      "\n",
      "\n",
      "\n",
      "\n",
      "\n",
      "\n",
      "\n",
      "\n",
      "\n",
      "step 77520: loss 0.63 22.76ms 439tok/s (total 775,190tok)\n",
      "step 77540: loss 1.68 23.91ms 418tok/s (total 775,390tok)\n",
      "step 77560: loss 9.86 7.28ms 1374tok/s (total 775,590tok)\n",
      "step 77580: loss 4.32 16.82ms 595tok/s (total 775,790tok)\n",
      "step 77600: loss 11.06 2.61ms 3828tok/s (total 775,990tok)\n",
      "Oh my lord.\n",
      "\n",
      "\n",
      "\n",
      "\n",
      "\n",
      "\n",
      "\n",
      "\n",
      "\n",
      "step 77620: loss 4.34 17.30ms 578tok/s (total 776,190tok)\n",
      "step 77640: loss 6.66 3.83ms 2612tok/s (total 776,390tok)\n",
      "step 77660: loss 0.04 14.30ms 699tok/s (total 776,590tok)\n",
      "step 77680: loss 6.09 5.76ms 1735tok/s (total 776,790tok)\n",
      "step 77700: loss 12.45 20.96ms 477tok/s (total 776,990tok)\n",
      "Oh my lord.\n",
      "\n",
      "\n",
      "\n",
      "\n",
      "\n",
      "\n",
      "\n",
      "\n",
      "\n",
      "step 77720: loss 8.57 21.16ms 473tok/s (total 777,190tok)\n",
      "step 77740: loss 6.21 21.39ms 468tok/s (total 777,390tok)\n",
      "step 77760: loss 10.61 21.55ms 464tok/s (total 777,590tok)\n",
      "step 77780: loss 8.29 21.24ms 471tok/s (total 777,790tok)\n",
      "step 77800: loss 9.72 21.74ms 460tok/s (total 777,990tok)\n",
      "Oh my lord.\n",
      " III:\n",
      ",\n",
      "BUCKING\n",
      "step 77820: loss 6.16 5.39ms 1856tok/s (total 778,190tok)\n",
      "step 77840: loss 3.07 21.44ms 466tok/s (total 778,390tok)\n",
      "step 77860: loss 8.15 21.82ms 458tok/s (total 778,590tok)\n",
      "step 77880: loss 4.10 21.82ms 458tok/s (total 778,790tok)\n",
      "step 77900: loss 1.30 21.67ms 462tok/s (total 778,990tok)\n",
      "Oh my lord.\n",
      " III:\n",
      ",',''\n",
      "step 77920: loss 9.86 21.46ms 466tok/s (total 779,190tok)\n",
      "step 77940: loss 7.97 21.76ms 460tok/s (total 779,390tok)\n",
      "step 77960: loss 4.95 19.08ms 524tok/s (total 779,590tok)\n",
      "step 77980: loss 5.62 13.36ms 749tok/s (total 779,790tok)\n",
      "step 78000: loss 8.06 22.06ms 453tok/s (total 779,990tok)\n",
      "Oh my lord.\n",
      "ICH III:\n",
      "\n",
      "\n",
      "\n",
      "\n",
      "\n",
      "step 78020: loss 4.74 12.54ms 797tok/s (total 780,190tok)\n",
      "step 78040: loss 3.83 15.82ms 632tok/s (total 780,390tok)\n",
      "step 78060: loss 6.01 18.35ms 545tok/s (total 780,590tok)\n",
      "step 78080: loss 6.75 22.83ms 438tok/s (total 780,790tok)\n",
      "step 78100: loss 6.98 21.32ms 469tok/s (total 780,990tok)\n",
      "Oh my lord.\n",
      "\n",
      "\n",
      "\n",
      "\n",
      "\n",
      "\n",
      "\n",
      "\n",
      "\n",
      "step 78120: loss 1.83 23.16ms 432tok/s (total 781,190tok)\n",
      "step 78140: loss 7.78 22.39ms 447tok/s (total 781,390tok)\n",
      "step 78160: loss 7.69 22.32ms 448tok/s (total 781,590tok)\n",
      "step 78180: loss 9.26 22.14ms 452tok/s (total 781,790tok)\n",
      "step 78200: loss 3.39 22.11ms 452tok/s (total 781,990tok)\n",
      "Oh my lord.\n",
      " R III:\n",
      "\n",
      "\n",
      "\n",
      "\n",
      "\n",
      "step 78220: loss 4.95 15.79ms 633tok/s (total 782,190tok)\n",
      "step 78240: loss 2.85 4.71ms 2121tok/s (total 782,390tok)\n",
      "step 78260: loss 2.01 5.16ms 1938tok/s (total 782,590tok)\n",
      "step 78280: loss 0.38 46.34ms 216tok/s (total 782,790tok)\n",
      "step 78300: loss 11.15 6.23ms 1605tok/s (total 782,990tok)\n",
      "Oh my lord.\n",
      "\n",
      "\n",
      "\n",
      "\n",
      "\n",
      "\n",
      "\n",
      "\n",
      "\n",
      "step 78320: loss 4.43 4.52ms 2210tok/s (total 783,190tok)\n",
      "step 78340: loss 5.15 13.79ms 725tok/s (total 783,390tok)\n",
      "step 78360: loss 0.70 5.55ms 1802tok/s (total 783,590tok)\n",
      "step 78380: loss 1.60 6.34ms 1576tok/s (total 783,790tok)\n",
      "step 78400: loss 4.31 7.96ms 1256tok/s (total 783,990tok)\n",
      "Oh my lord.\n",
      "\n",
      "\n",
      "\n",
      "\n",
      "\n",
      "\n",
      "\n",
      "\n",
      "\n",
      "step 78420: loss 2.50 8.01ms 1248tok/s (total 784,190tok)\n",
      "step 78440: loss 3.81 18.55ms 539tok/s (total 784,390tok)\n",
      "step 78460: loss 0.10 3.91ms 2560tok/s (total 784,590tok)\n",
      "step 78480: loss 10.32 4.81ms 2078tok/s (total 784,790tok)\n",
      "step 78500: loss 11.20 5.17ms 1935tok/s (total 784,990tok)\n",
      "Oh my lord.\n",
      "\n",
      "\n",
      "\n",
      "\n",
      "\n",
      "\n",
      "\n",
      "\n",
      "\n",
      "step 78520: loss 10.01 21.56ms 464tok/s (total 785,190tok)\n",
      "step 78540: loss 11.81 3.39ms 2949tok/s (total 785,390tok)\n",
      "step 78560: loss 4.05 21.70ms 461tok/s (total 785,590tok)\n",
      "step 78580: loss 9.32 105.50ms 95tok/s (total 785,790tok)\n",
      "step 78600: loss 11.67 6.92ms 1445tok/s (total 785,990tok)\n",
      "Oh my lord.\n",
      "ICH III:\n",
      ",And,,\n",
      "step 78620: loss 7.13 21.86ms 458tok/s (total 786,190tok)\n",
      "step 78640: loss 5.15 3.01ms 3322tok/s (total 786,390tok)\n",
      "step 78660: loss 2.12 4.70ms 2129tok/s (total 786,590tok)\n",
      "step 78680: loss 3.47 8.73ms 1145tok/s (total 786,790tok)\n",
      "step 78700: loss 3.50 21.23ms 471tok/s (total 786,990tok)\n",
      "Oh my lord.\n",
      "\n",
      "\n",
      "\n",
      "\n",
      "\n",
      "\n",
      "\n",
      "\n",
      "\n",
      "step 78720: loss 9.01 19.71ms 507tok/s (total 787,190tok)\n",
      "step 78740: loss 0.64 22.06ms 453tok/s (total 787,390tok)\n",
      "step 78760: loss 11.70 20.07ms 498tok/s (total 787,590tok)\n",
      "step 78780: loss 7.21 8.36ms 1196tok/s (total 787,790tok)\n",
      "step 78800: loss 7.62 5.57ms 1794tok/s (total 787,990tok)\n",
      "Oh my lord.\n",
      "\n",
      "\n",
      "\n",
      "\n",
      "\n",
      "\n",
      "\n",
      "\n",
      "\n",
      "step 78820: loss 11.63 14.26ms 701tok/s (total 788,190tok)\n",
      "step 78840: loss 1.92 21.83ms 458tok/s (total 788,390tok)\n",
      "step 78860: loss 3.49 21.44ms 466tok/s (total 788,590tok)\n",
      "step 78880: loss 7.35 21.50ms 465tok/s (total 788,790tok)\n",
      "step 78900: loss 6.90 13.13ms 762tok/s (total 788,990tok)\n",
      "Oh my lord.\n",
      "\n",
      "\n",
      "\n",
      "\n",
      "\n",
      "\n",
      "\n",
      "\n",
      "\n",
      "step 78920: loss 11.42 3.60ms 2777tok/s (total 789,190tok)\n",
      "step 78940: loss 1.47 19.37ms 516tok/s (total 789,390tok)\n",
      "step 78960: loss 7.19 11.28ms 886tok/s (total 789,590tok)\n",
      "step 78980: loss 6.57 19.99ms 500tok/s (total 789,790tok)\n",
      "step 79000: loss 6.85 8.70ms 1149tok/s (total 789,990tok)\n",
      "Oh my lord.\n",
      "\n",
      "\n",
      "\n",
      "\n",
      "\n",
      "\n",
      "\n",
      "\n",
      "\n",
      "step 79020: loss 6.76 5.53ms 1809tok/s (total 790,190tok)\n",
      "step 79040: loss 4.63 7.87ms 1270tok/s (total 790,390tok)\n",
      "step 79060: loss 2.51 11.40ms 877tok/s (total 790,590tok)\n",
      "step 79080: loss 14.35 21.95ms 456tok/s (total 790,790tok)\n",
      "step 79100: loss 1.76 21.56ms 464tok/s (total 790,990tok)\n",
      "Oh my lord.\n",
      "\n",
      "\n",
      "\n",
      "\n",
      "\n",
      "\n",
      "\n",
      "\n",
      "\n",
      "step 79120: loss 9.17 21.40ms 467tok/s (total 791,190tok)\n",
      "step 79140: loss 8.04 22.06ms 453tok/s (total 791,390tok)\n",
      "step 79160: loss 10.52 19.27ms 519tok/s (total 791,590tok)\n",
      "step 79180: loss 3.56 22.71ms 440tok/s (total 791,790tok)\n",
      "step 79200: loss 0.64 16.81ms 595tok/s (total 791,990tok)\n",
      "Oh my lord.\n",
      "\n",
      "\n",
      "\n",
      "\n",
      "\n",
      "\n",
      "\n",
      "\n",
      "\n",
      "step 79220: loss 4.25 18.22ms 549tok/s (total 792,190tok)\n",
      "step 79240: loss 11.52 15.98ms 626tok/s (total 792,390tok)\n",
      "step 79260: loss 5.79 3.95ms 2529tok/s (total 792,590tok)\n",
      "step 79280: loss 11.87 4.20ms 2383tok/s (total 792,790tok)\n",
      "step 79300: loss 0.14 22.12ms 452tok/s (total 792,990tok)\n",
      "Oh my lord.\n",
      "D OF YORK:\n",
      "\n",
      "\n",
      "\n",
      "\n",
      "step 79320: loss 3.12 22.18ms 451tok/s (total 793,190tok)\n",
      "step 79340: loss 3.19 20.90ms 478tok/s (total 793,390tok)\n",
      "step 79360: loss 0.49 21.70ms 461tok/s (total 793,590tok)\n",
      "step 79380: loss 6.21 11.75ms 851tok/s (total 793,790tok)\n",
      "step 79400: loss 6.83 21.83ms 458tok/s (total 793,990tok)\n",
      "Oh my lord.\n",
      "\n",
      "\n",
      "\n",
      "\n",
      "\n",
      "\n",
      "\n",
      "\n",
      "\n",
      "step 79420: loss 7.14 21.46ms 466tok/s (total 794,190tok)\n",
      "step 79440: loss 2.48 18.83ms 531tok/s (total 794,390tok)\n",
      "step 79460: loss 1.78 20.78ms 481tok/s (total 794,590tok)\n",
      "step 79480: loss 12.18 21.26ms 470tok/s (total 794,790tok)\n",
      "step 79500: loss 8.17 21.58ms 463tok/s (total 794,990tok)\n",
      "Oh my lord.\n",
      ",\n",
      "QUEENGENG\n",
      "step 79520: loss 7.03 6.07ms 1647tok/s (total 795,190tok)\n",
      "step 79540: loss 3.22 18.47ms 541tok/s (total 795,390tok)\n",
      "step 79560: loss 4.07 21.67ms 461tok/s (total 795,590tok)\n",
      "step 79580: loss 0.10 18.35ms 545tok/s (total 795,790tok)\n",
      "step 79600: loss 7.18 15.56ms 643tok/s (total 795,990tok)\n",
      "Oh my lord.\n",
      "\n",
      "\n",
      "\n",
      "\n",
      "\n",
      "\n",
      "\n",
      "\n",
      "\n",
      "step 79620: loss 4.57 24.11ms 415tok/s (total 796,190tok)\n",
      "step 79640: loss 11.01 6.76ms 1480tok/s (total 796,390tok)\n",
      "step 79660: loss 5.19 4.51ms 2216tok/s (total 796,590tok)\n",
      "step 79680: loss 8.07 7.59ms 1317tok/s (total 796,790tok)\n",
      "step 79700: loss 9.85 7.82ms 1278tok/s (total 796,990tok)\n",
      "Oh my lord;\n",
      ",\n",
      "QUEEN MARGAR\n",
      "step 79720: loss 6.33 6.64ms 1505tok/s (total 797,190tok)\n",
      "step 79740: loss 6.89 7.58ms 1319tok/s (total 797,390tok)\n",
      "step 79760: loss 3.22 6.97ms 1435tok/s (total 797,590tok)\n",
      "step 79780: loss 4.99 5.12ms 1954tok/s (total 797,790tok)\n",
      "step 79800: loss 6.59 7.87ms 1271tok/s (total 797,990tok)\n",
      "Oh my lord;\n",
      ",,,,,,,,\n",
      "step 79820: loss 4.19 6.75ms 1481tok/s (total 798,190tok)\n",
      "step 79840: loss 5.07 7.82ms 1278tok/s (total 798,390tok)\n",
      "step 79860: loss 1.13 5.06ms 1975tok/s (total 798,590tok)\n",
      "step 79880: loss 3.52 7.61ms 1315tok/s (total 798,790tok)\n",
      "step 79900: loss 3.54 21.88ms 457tok/s (total 798,990tok)\n",
      "Oh my lord;\n",
      ",For'd of, one\n",
      "For\n",
      "step 79920: loss 5.04 21.91ms 456tok/s (total 799,190tok)\n",
      "step 79940: loss 3.04 17.04ms 587tok/s (total 799,390tok)\n",
      "step 79960: loss 8.20 3.99ms 2506tok/s (total 799,590tok)\n",
      "step 79980: loss 6.37 19.91ms 502tok/s (total 799,790tok)\n",
      "step 80000: loss 8.71 4.23ms 2362tok/s (total 799,990tok)\n",
      "Oh my lord;\n",
      ",For, one of one'd of\n",
      "step 80020: loss 2.36 11.07ms 903tok/s (total 800,190tok)\n",
      "step 80040: loss 7.71 15.32ms 653tok/s (total 800,390tok)\n",
      "step 80060: loss 3.64 6.34ms 1578tok/s (total 800,590tok)\n",
      "step 80080: loss 7.17 7.08ms 1412tok/s (total 800,790tok)\n",
      "step 80100: loss 12.10 18.77ms 533tok/s (total 800,990tok)\n",
      "Oh my lord;\n",
      ",And\n",
      "QUEEN MARG\n",
      "step 80120: loss 6.70 17.28ms 579tok/s (total 801,190tok)\n",
      "step 80140: loss 9.82 23.49ms 426tok/s (total 801,390tok)\n",
      "step 80160: loss 10.57 10.10ms 990tok/s (total 801,590tok)\n",
      "step 80180: loss 0.35 22.05ms 454tok/s (total 801,790tok)\n",
      "step 80200: loss 0.03 4.94ms 2023tok/s (total 801,990tok)\n",
      "Oh my lord.\n",
      "\n",
      "\n",
      "\n",
      "\n",
      "\n",
      "\n",
      "\n",
      "\n",
      "\n",
      "step 80220: loss 1.15 13.23ms 756tok/s (total 802,190tok)\n",
      "step 80240: loss 11.77 7.16ms 1396tok/s (total 802,390tok)\n",
      "step 80260: loss 1.33 4.22ms 2369tok/s (total 802,590tok)\n",
      "step 80280: loss 5.94 8.34ms 1199tok/s (total 802,790tok)\n",
      "step 80300: loss 8.75 21.62ms 463tok/s (total 802,990tok)\n",
      "Oh my lord.\n",
      "DU OF YORK:\n",
      "\n",
      "\n",
      "\n",
      "step 80320: loss 3.53 21.19ms 472tok/s (total 803,190tok)\n",
      "step 80340: loss 0.06 16.49ms 607tok/s (total 803,390tok)\n",
      "step 80360: loss 8.83 19.94ms 502tok/s (total 803,590tok)\n",
      "step 80380: loss 0.12 20.84ms 480tok/s (total 803,790tok)\n",
      "step 80400: loss 6.21 11.61ms 861tok/s (total 803,990tok)\n",
      "Oh my lord.\n",
      "\n",
      "\n",
      "\n",
      "\n",
      "\n",
      "\n",
      "\n",
      "\n",
      "\n",
      "step 80420: loss 6.67 18.50ms 541tok/s (total 804,190tok)\n",
      "step 80440: loss 9.74 2.85ms 3514tok/s (total 804,390tok)\n",
      "step 80460: loss 9.85 21.59ms 463tok/s (total 804,590tok)\n",
      "step 80480: loss 5.67 21.13ms 473tok/s (total 804,790tok)\n",
      "step 80500: loss 1.71 21.98ms 455tok/s (total 804,990tok)\n",
      "Oh my lord,.,.\n",
      "\n",
      "\n",
      "\n",
      "\n",
      "\n",
      "\n",
      "step 80520: loss 10.11 21.19ms 472tok/s (total 805,190tok)\n",
      "step 80540: loss 7.11 21.05ms 475tok/s (total 805,390tok)\n",
      "step 80560: loss 5.85 21.38ms 468tok/s (total 805,590tok)\n",
      "step 80580: loss 7.94 21.75ms 460tok/s (total 805,790tok)\n",
      "step 80600: loss 2.78 21.36ms 468tok/s (total 805,990tok)\n",
      "Oh my lord.\n",
      "\n",
      "\n",
      "\n",
      "\n",
      "\n",
      "\n",
      "\n",
      "\n",
      "\n",
      "step 80620: loss 2.01 21.69ms 461tok/s (total 806,190tok)\n",
      "step 80640: loss 1.37 21.30ms 469tok/s (total 806,390tok)\n",
      "step 80660: loss 10.25 21.17ms 472tok/s (total 806,590tok)\n",
      "step 80680: loss 4.80 21.45ms 466tok/s (total 806,790tok)\n",
      "step 80700: loss 3.58 21.81ms 458tok/s (total 806,990tok)\n",
      "Oh my lord.\n",
      "\n",
      "\n",
      "\n",
      "\n",
      "\n",
      "\n",
      "\n",
      "\n",
      "\n",
      "step 80720: loss 2.62 21.60ms 463tok/s (total 807,190tok)\n",
      "step 80740: loss 10.56 21.43ms 467tok/s (total 807,390tok)\n",
      "step 80760: loss 7.97 21.12ms 474tok/s (total 807,590tok)\n",
      "step 80780: loss 1.32 21.48ms 466tok/s (total 807,790tok)\n",
      "step 80800: loss 1.90 12.56ms 796tok/s (total 807,990tok)\n",
      "Oh my lord.\n",
      "\n",
      "\n",
      "\n",
      "\n",
      "\n",
      "\n",
      "\n",
      "\n",
      "\n",
      "step 80820: loss 2.59 21.55ms 464tok/s (total 808,190tok)\n",
      "step 80840: loss 10.24 21.72ms 460tok/s (total 808,390tok)\n",
      "step 80860: loss 4.24 21.08ms 474tok/s (total 808,590tok)\n",
      "step 80880: loss 10.82 21.16ms 473tok/s (total 808,790tok)\n",
      "step 80900: loss 8.83 21.82ms 458tok/s (total 808,990tok)\n",
      "Oh my lord.\n",
      "\n",
      "\n",
      "\n",
      "\n",
      "\n",
      "\n",
      "\n",
      "\n",
      "\n",
      "step 80920: loss 0.61 21.40ms 467tok/s (total 809,190tok)\n",
      "step 80940: loss 0.22 21.41ms 467tok/s (total 809,390tok)\n",
      "step 80960: loss 3.14 21.20ms 472tok/s (total 809,590tok)\n",
      "step 80980: loss 5.36 21.31ms 469tok/s (total 809,790tok)\n",
      "step 81000: loss 0.01 22.11ms 452tok/s (total 809,990tok)\n",
      "Oh my lord.\n",
      "ICHARD III:\n",
      ",\n",
      ",\n",
      "step 81020: loss 0.65 5.32ms 1881tok/s (total 810,190tok)\n",
      "step 81040: loss 0.61 15.00ms 667tok/s (total 810,390tok)\n",
      "step 81060: loss 0.15 21.54ms 464tok/s (total 810,590tok)\n",
      "step 81080: loss 10.67 22.11ms 452tok/s (total 810,790tok)\n",
      "step 81100: loss 4.47 22.98ms 435tok/s (total 810,990tok)\n",
      "Oh my lord.\n",
      "\n",
      "\n",
      "\n",
      "\n",
      "\n",
      "\n",
      "\n",
      "\n",
      "\n",
      "step 81120: loss 8.46 21.46ms 466tok/s (total 811,190tok)\n",
      "step 81140: loss 10.54 21.69ms 461tok/s (total 811,390tok)\n",
      "step 81160: loss 8.43 21.43ms 467tok/s (total 811,590tok)\n",
      "step 81180: loss 10.40 8.44ms 1184tok/s (total 811,790tok)\n",
      "step 81200: loss 3.44 16.62ms 602tok/s (total 811,990tok)\n",
      "Oh my lord.\n",
      "ICH III:\n",
      "And\n",
      "And.\n",
      "step 81220: loss 0.03 21.70ms 461tok/s (total 812,190tok)\n",
      "step 81240: loss 3.84 21.40ms 467tok/s (total 812,390tok)\n",
      "step 81260: loss 0.62 13.62ms 734tok/s (total 812,590tok)\n",
      "step 81280: loss 0.07 16.91ms 591tok/s (total 812,790tok)\n",
      "step 81300: loss 9.56 22.18ms 451tok/s (total 812,990tok)\n",
      "Oh my lord.\n",
      "\n",
      "\n",
      "\n",
      "\n",
      "\n",
      "\n",
      "\n",
      "\n",
      "\n",
      "step 81320: loss 4.72 23.51ms 425tok/s (total 813,190tok)\n",
      "step 81340: loss 3.54 4.55ms 2196tok/s (total 813,390tok)\n",
      "step 81360: loss 0.62 24.02ms 416tok/s (total 813,590tok)\n",
      "step 81380: loss 3.06 24.39ms 410tok/s (total 813,790tok)\n",
      "step 81400: loss 6.53 5.59ms 1790tok/s (total 813,990tok)\n",
      "Oh my lord.\n",
      "ICHARD III:\n",
      "\n",
      "\n",
      "\n",
      "\n",
      "step 81420: loss 12.24 23.48ms 426tok/s (total 814,190tok)\n",
      "step 81440: loss 1.34 23.51ms 425tok/s (total 814,390tok)\n",
      "step 81460: loss 2.50 18.45ms 542tok/s (total 814,590tok)\n",
      "step 81480: loss 5.44 29.12ms 343tok/s (total 814,790tok)\n",
      "step 81500: loss 0.39 10.05ms 995tok/s (total 814,990tok)\n",
      "Oh my lord.\n",
      "\n",
      "\n",
      "\n",
      "\n",
      "\n",
      "\n",
      "\n",
      "\n",
      "\n",
      "step 81520: loss 0.36 16.59ms 603tok/s (total 815,190tok)\n",
      "step 81540: loss 1.32 23.97ms 417tok/s (total 815,390tok)\n",
      "step 81560: loss 0.00 21.40ms 467tok/s (total 815,590tok)\n",
      "step 81580: loss 0.05 21.80ms 459tok/s (total 815,790tok)\n",
      "step 81600: loss 9.70 24.37ms 410tok/s (total 815,990tok)\n",
      "Oh my lord.\n",
      "\n",
      "\n",
      "\n",
      "\n",
      "\n",
      "\n",
      "\n",
      "\n",
      "\n",
      "step 81620: loss 8.95 21.61ms 463tok/s (total 816,190tok)\n",
      "step 81640: loss 5.12 21.62ms 463tok/s (total 816,390tok)\n",
      "step 81660: loss 4.66 21.41ms 467tok/s (total 816,590tok)\n",
      "step 81680: loss 7.58 21.50ms 465tok/s (total 816,790tok)\n",
      "step 81700: loss 11.92 21.50ms 465tok/s (total 816,990tok)\n",
      "Oh my lord.\n",
      "\n",
      "\n",
      "\n",
      "\n",
      "\n",
      "\n",
      "\n",
      "\n",
      "\n",
      "step 81720: loss 5.45 21.16ms 473tok/s (total 817,190tok)\n",
      "step 81740: loss 7.50 21.64ms 462tok/s (total 817,390tok)\n",
      "step 81760: loss 4.23 21.69ms 461tok/s (total 817,590tok)\n",
      "step 81780: loss 3.87 18.87ms 530tok/s (total 817,790tok)\n",
      "step 81800: loss 3.12 16.77ms 596tok/s (total 817,990tok)\n",
      "Oh my lord.\n",
      "ICHARD III:\n",
      "\n",
      "\n",
      ",\n",
      "step 81820: loss 0.40 11.10ms 901tok/s (total 818,190tok)\n",
      "step 81840: loss 3.46 38.20ms 262tok/s (total 818,390tok)\n",
      "step 81860: loss 4.12 6.08ms 1644tok/s (total 818,590tok)\n",
      "step 81880: loss 8.17 23.52ms 425tok/s (total 818,790tok)\n",
      "step 81900: loss 0.78 4.65ms 2153tok/s (total 818,990tok)\n",
      "Oh my lord.\n",
      "\n",
      "\n",
      "\n",
      "\n",
      "\n",
      "\n",
      "\n",
      "\n",
      "\n",
      "step 81920: loss 0.81 23.20ms 431tok/s (total 819,190tok)\n",
      "step 81940: loss 1.31 21.87ms 457tok/s (total 819,390tok)\n",
      "step 81960: loss 3.55 21.27ms 470tok/s (total 819,590tok)\n",
      "step 81980: loss 7.41 22.00ms 455tok/s (total 819,790tok)\n",
      "step 82000: loss 11.92 21.27ms 470tok/s (total 819,990tok)\n",
      "Oh my lord.\n",
      "\n",
      "\n",
      "\n",
      "\n",
      "\n",
      "\n",
      "\n",
      "\n",
      "\n",
      "step 82020: loss 6.03 6.34ms 1577tok/s (total 820,190tok)\n",
      "step 82040: loss 2.34 18.85ms 531tok/s (total 820,390tok)\n",
      "step 82060: loss 11.68 4.74ms 2108tok/s (total 820,590tok)\n",
      "step 82080: loss 0.35 3.80ms 2631tok/s (total 820,790tok)\n",
      "step 82100: loss 11.56 21.25ms 471tok/s (total 820,990tok)\n",
      "Oh my lord.\n",
      "\n",
      "\n",
      "\n",
      "\n",
      "\n",
      "\n",
      "\n",
      "\n",
      "\n",
      "step 82120: loss 3.98 10.68ms 936tok/s (total 821,190tok)\n",
      "step 82140: loss 4.32 21.88ms 457tok/s (total 821,390tok)\n",
      "step 82160: loss 5.19 5.07ms 1971tok/s (total 821,590tok)\n",
      "step 82180: loss 3.40 7.51ms 1331tok/s (total 821,790tok)\n",
      "step 82200: loss 0.92 21.20ms 472tok/s (total 821,990tok)\n",
      "Oh my lord.\n",
      "\n",
      "\n",
      "\n",
      "\n",
      "\n",
      "\n",
      "\n",
      "\n",
      "\n",
      "step 82220: loss 0.35 6.05ms 1654tok/s (total 822,190tok)\n",
      "step 82240: loss 2.83 7.48ms 1337tok/s (total 822,390tok)\n",
      "step 82260: loss 0.13 6.46ms 1548tok/s (total 822,590tok)\n",
      "step 82280: loss 3.34 7.71ms 1297tok/s (total 822,790tok)\n",
      "step 82300: loss 0.71 6.10ms 1640tok/s (total 822,990tok)\n",
      "Oh my lord.\n",
      "\n",
      "\n",
      "\n",
      "\n",
      "\n",
      "\n",
      "\n",
      "\n",
      "\n",
      "step 82320: loss 1.89 5.72ms 1748tok/s (total 823,190tok)\n",
      "step 82340: loss 0.98 9.95ms 1005tok/s (total 823,390tok)\n",
      "step 82360: loss 1.35 6.43ms 1555tok/s (total 823,590tok)\n",
      "step 82380: loss 5.61 6.88ms 1454tok/s (total 823,790tok)\n",
      "step 82400: loss 3.41 5.09ms 1965tok/s (total 823,990tok)\n",
      "Oh my lord.\n",
      "\n",
      "\n",
      "\n",
      "\n",
      "\n",
      "\n",
      "\n",
      "\n",
      "\n",
      "step 82420: loss 0.06 6.13ms 1631tok/s (total 824,190tok)\n",
      "step 82440: loss 4.04 9.83ms 1017tok/s (total 824,390tok)\n",
      "step 82460: loss 6.70 8.64ms 1157tok/s (total 824,590tok)\n",
      "step 82480: loss 3.92 6.18ms 1618tok/s (total 824,790tok)\n",
      "step 82500: loss 7.73 5.83ms 1714tok/s (total 824,990tok)\n",
      "Oh my lord.\n",
      "\n",
      "\n",
      "\n",
      "\n",
      "\n",
      "\n",
      "\n",
      "\n",
      "\n",
      "step 82520: loss 11.82 22.01ms 454tok/s (total 825,190tok)\n",
      "step 82540: loss 2.66 21.49ms 465tok/s (total 825,390tok)\n",
      "step 82560: loss 9.88 21.60ms 463tok/s (total 825,590tok)\n",
      "step 82580: loss 6.59 3.38ms 2958tok/s (total 825,790tok)\n",
      "step 82600: loss 2.99 21.88ms 457tok/s (total 825,990tok)\n",
      "Oh my lord.\n",
      "\n",
      "\n",
      "\n",
      "\n",
      "\n",
      "\n",
      "\n",
      "\n",
      "\n",
      "step 82620: loss 0.17 4.50ms 2222tok/s (total 826,190tok)\n",
      "step 82640: loss 4.25 23.59ms 424tok/s (total 826,390tok)\n",
      "step 82660: loss 4.31 4.88ms 2048tok/s (total 826,590tok)\n",
      "step 82680: loss 1.54 16.40ms 610tok/s (total 826,790tok)\n",
      "step 82700: loss 6.94 14.71ms 680tok/s (total 826,990tok)\n",
      "Oh my lord.\n",
      "\n",
      "\n",
      "\n",
      "\n",
      "\n",
      "\n",
      "\n",
      "\n",
      "\n",
      "step 82720: loss 12.63 5.68ms 1760tok/s (total 827,190tok)\n",
      "step 82740: loss 3.39 5.03ms 1989tok/s (total 827,390tok)\n",
      "step 82760: loss 5.18 4.64ms 2153tok/s (total 827,590tok)\n",
      "step 82780: loss 8.15 13.15ms 761tok/s (total 827,790tok)\n",
      "step 82800: loss 6.81 4.30ms 2328tok/s (total 827,990tok)\n",
      "Oh my lord.\n",
      "\n",
      "\n",
      "\n",
      "\n",
      "\n",
      "\n",
      "\n",
      "\n",
      "\n",
      "step 82820: loss 0.20 20.26ms 494tok/s (total 828,190tok)\n",
      "step 82840: loss 5.25 19.02ms 526tok/s (total 828,390tok)\n",
      "step 82860: loss 2.99 4.71ms 2124tok/s (total 828,590tok)\n",
      "step 82880: loss 6.86 22.23ms 450tok/s (total 828,790tok)\n",
      "step 82900: loss 1.60 13.84ms 723tok/s (total 828,990tok)\n",
      "Oh my lord.\n",
      " RICH III:\n",
      ", is your\n",
      "step 82920: loss 4.89 15.04ms 665tok/s (total 829,190tok)\n",
      "step 82940: loss 5.13 18.78ms 532tok/s (total 829,390tok)\n",
      "step 82960: loss 9.77 19.70ms 508tok/s (total 829,590tok)\n",
      "step 82980: loss 6.00 21.16ms 473tok/s (total 829,790tok)\n",
      "step 83000: loss 4.85 21.04ms 475tok/s (total 829,990tok)\n",
      "Oh my lord.\n",
      "ICHARD III:\n",
      " I,\n",
      "\n",
      "step 83020: loss 3.06 14.56ms 687tok/s (total 830,190tok)\n",
      "step 83040: loss 9.60 20.45ms 489tok/s (total 830,390tok)\n",
      "step 83060: loss 11.73 5.70ms 1753tok/s (total 830,590tok)\n",
      "step 83080: loss 2.60 21.14ms 473tok/s (total 830,790tok)\n",
      "step 83100: loss 8.49 20.89ms 479tok/s (total 830,990tok)\n",
      "Oh my lord.\n",
      " RICH III:\n",
      ",\n",
      " to\n",
      "step 83120: loss 10.78 20.97ms 477tok/s (total 831,190tok)\n",
      "step 83140: loss 5.80 20.86ms 479tok/s (total 831,390tok)\n",
      "step 83160: loss 9.21 20.84ms 480tok/s (total 831,590tok)\n",
      "step 83180: loss 4.59 21.33ms 469tok/s (total 831,790tok)\n",
      "step 83200: loss 0.05 3.05ms 3277tok/s (total 831,990tok)\n",
      "Oh my lord.\n",
      " RICH III:\n",
      ",\n",
      "And\n",
      "step 83220: loss 3.48 21.05ms 475tok/s (total 832,190tok)\n",
      "step 83240: loss 4.88 10.64ms 940tok/s (total 832,390tok)\n",
      "step 83260: loss 6.13 5.39ms 1854tok/s (total 832,590tok)\n",
      "step 83280: loss 9.81 5.49ms 1822tok/s (total 832,790tok)\n",
      "step 83300: loss 4.34 5.70ms 1754tok/s (total 832,990tok)\n",
      "Oh my lord.\n",
      " RICH III:\n",
      "\n",
      "\n",
      "\n",
      "\n",
      "step 83320: loss 5.05 4.93ms 2028tok/s (total 833,190tok)\n",
      "step 83340: loss 9.67 10.80ms 926tok/s (total 833,390tok)\n",
      "step 83360: loss 4.53 5.32ms 1880tok/s (total 833,590tok)\n",
      "step 83380: loss 7.04 22.12ms 452tok/s (total 833,790tok)\n",
      "step 83400: loss 12.56 21.31ms 469tok/s (total 833,990tok)\n",
      "Oh my lord.\n",
      "\n",
      "\n",
      "\n",
      "\n",
      "\n",
      "\n",
      "\n",
      "\n",
      "\n",
      "step 83420: loss 5.11 18.22ms 549tok/s (total 834,190tok)\n",
      "step 83440: loss 8.40 19.77ms 506tok/s (total 834,390tok)\n",
      "step 83460: loss 6.75 3.53ms 2834tok/s (total 834,590tok)\n",
      "step 83480: loss 5.01 21.81ms 458tok/s (total 834,790tok)\n",
      "step 83500: loss 7.21 4.90ms 2039tok/s (total 834,990tok)\n",
      "Oh my lord.\n",
      "\n",
      "\n",
      "\n",
      "\n",
      "\n",
      "\n",
      "\n",
      "\n",
      "\n",
      "step 83520: loss 4.52 21.44ms 466tok/s (total 835,190tok)\n",
      "step 83540: loss 2.90 21.60ms 463tok/s (total 835,390tok)\n",
      "step 83560: loss 0.02 21.13ms 473tok/s (total 835,590tok)\n",
      "step 83580: loss 0.21 21.18ms 472tok/s (total 835,790tok)\n",
      "step 83600: loss 0.17 21.20ms 472tok/s (total 835,990tok)\n",
      "Oh my lord.\n",
      "\n",
      "\n",
      "\n",
      "\n",
      "\n",
      "\n",
      "\n",
      "\n",
      "\n",
      "step 83620: loss 0.02 20.96ms 477tok/s (total 836,190tok)\n",
      "step 83640: loss 0.03 21.79ms 459tok/s (total 836,390tok)\n",
      "step 83660: loss 0.08 21.13ms 473tok/s (total 836,590tok)\n",
      "step 83680: loss 0.03 21.56ms 464tok/s (total 836,790tok)\n",
      "step 83700: loss 12.62 22.34ms 448tok/s (total 836,990tok)\n",
      "Oh my lord.\n",
      "\n",
      "\n",
      "\n",
      "\n",
      "\n",
      "\n",
      "\n",
      "\n",
      "\n",
      "step 83720: loss 13.01 21.34ms 469tok/s (total 837,190tok)\n",
      "step 83740: loss 4.87 12.16ms 822tok/s (total 837,390tok)\n",
      "step 83760: loss 0.07 21.49ms 465tok/s (total 837,590tok)\n",
      "step 83780: loss 0.58 21.81ms 459tok/s (total 837,790tok)\n",
      "step 83800: loss 5.23 21.28ms 470tok/s (total 837,990tok)\n",
      "Oh my lord,.,.\n",
      "\n",
      "\n",
      "\n",
      "\n",
      "\n",
      "\n",
      "step 83820: loss 0.71 22.17ms 451tok/s (total 838,190tok)\n",
      "step 83840: loss 3.88 21.25ms 471tok/s (total 838,390tok)\n",
      "step 83860: loss 12.63 5.33ms 1878tok/s (total 838,590tok)\n",
      "step 83880: loss 12.40 4.15ms 2407tok/s (total 838,790tok)\n",
      "step 83900: loss 8.16 5.93ms 1686tok/s (total 838,990tok)\n",
      "Oh my lord.\n",
      " RICH III:\n",
      "\n",
      "\n",
      "\n",
      "\n",
      "step 83920: loss 1.76 4.92ms 2033tok/s (total 839,190tok)\n",
      "step 83940: loss 0.17 5.69ms 1758tok/s (total 839,390tok)\n",
      "step 83960: loss 0.17 4.31ms 2321tok/s (total 839,590tok)\n",
      "step 83980: loss 0.06 5.70ms 1753tok/s (total 839,790tok)\n",
      "step 84000: loss 8.64 17.98ms 556tok/s (total 839,990tok)\n",
      "Oh my lord.\n",
      "\n",
      "\n",
      "\n",
      "\n",
      "\n",
      "\n",
      "\n",
      "\n",
      "\n",
      "step 84020: loss 6.96 5.75ms 1740tok/s (total 840,190tok)\n",
      "step 84040: loss 2.45 4.91ms 2036tok/s (total 840,390tok)\n",
      "step 84060: loss 4.91 6.91ms 1447tok/s (total 840,590tok)\n",
      "step 84080: loss 3.54 12.69ms 788tok/s (total 840,790tok)\n",
      "step 84100: loss 8.79 6.23ms 1604tok/s (total 840,990tok)\n",
      "Oh my lord.\n",
      " RICHARD III:\n",
      "\n",
      "\n",
      "\n",
      "step 84120: loss 7.81 4.48ms 2232tok/s (total 841,190tok)\n",
      "step 84140: loss 6.51 6.18ms 1618tok/s (total 841,390tok)\n",
      "step 84160: loss 0.12 5.00ms 1999tok/s (total 841,590tok)\n",
      "step 84180: loss 6.30 4.93ms 2028tok/s (total 841,790tok)\n",
      "step 84200: loss 9.27 4.93ms 2030tok/s (total 841,990tok)\n",
      "Oh my lord.\n",
      "KINGICHARD III:\n",
      "\n",
      "\n",
      "\n",
      "step 84220: loss 6.19 5.15ms 1943tok/s (total 842,190tok)\n",
      "step 84240: loss 8.07 4.36ms 2294tok/s (total 842,390tok)\n",
      "step 84260: loss 2.78 3.83ms 2612tok/s (total 842,590tok)\n",
      "step 84280: loss 5.18 5.43ms 1843tok/s (total 842,790tok)\n",
      "step 84300: loss 1.88 20.06ms 499tok/s (total 842,990tok)\n",
      "Oh my lord;\n",
      ",The,,,,,,\n",
      "step 84320: loss 4.91 4.69ms 2133tok/s (total 843,190tok)\n",
      "step 84340: loss 7.82 2.30ms 4344tok/s (total 843,390tok)\n",
      "step 84360: loss 7.28 4.61ms 2171tok/s (total 843,590tok)\n",
      "step 84380: loss 2.13 17.68ms 566tok/s (total 843,790tok)\n",
      "step 84400: loss 6.20 6.80ms 1471tok/s (total 843,990tok)\n",
      "Oh my lord,,,,,.,,\n",
      ",\n",
      "step 84420: loss 3.98 4.34ms 2304tok/s (total 844,190tok)\n",
      "step 84440: loss 2.15 5.88ms 1702tok/s (total 844,390tok)\n",
      "step 84460: loss 6.44 3.89ms 2571tok/s (total 844,590tok)\n",
      "step 84480: loss 13.01 10.77ms 929tok/s (total 844,790tok)\n",
      "step 84500: loss 4.33 4.22ms 2368tok/s (total 844,990tok)\n",
      "Oh my lord;\n",
      ", I, and, not I will\n",
      "step 84520: loss 8.18 4.44ms 2250tok/s (total 845,190tok)\n",
      "step 84540: loss 0.03 5.28ms 1894tok/s (total 845,390tok)\n",
      "step 84560: loss 0.95 4.71ms 2124tok/s (total 845,590tok)\n",
      "step 84580: loss 0.19 7.37ms 1357tok/s (total 845,790tok)\n",
      "step 84600: loss 0.48 5.70ms 1754tok/s (total 845,990tok)\n",
      "Oh my lord;\n",
      ", I\n",
      "QUEEN ELIZ\n",
      "step 84620: loss 0.11 4.89ms 2047tok/s (total 846,190tok)\n",
      "step 84640: loss 0.07 4.38ms 2281tok/s (total 846,390tok)\n",
      "step 84660: loss 10.86 10.49ms 953tok/s (total 846,590tok)\n",
      "step 84680: loss 1.11 5.05ms 1982tok/s (total 846,790tok)\n",
      "step 84700: loss 0.01 5.87ms 1704tok/s (total 846,990tok)\n",
      "Oh my lord.\n",
      "KINGICHARD III:\n",
      "\n",
      "\n",
      "\n",
      "step 84720: loss 1.47 4.91ms 2037tok/s (total 847,190tok)\n",
      "step 84740: loss 6.68 10.36ms 966tok/s (total 847,390tok)\n",
      "step 84760: loss 8.96 5.88ms 1701tok/s (total 847,590tok)\n",
      "step 84780: loss 7.38 9.15ms 1092tok/s (total 847,790tok)\n",
      "step 84800: loss 6.80 7.68ms 1303tok/s (total 847,990tok)\n",
      "Oh my lord.\n",
      "ICHARD III:\n",
      "\n",
      "\n",
      "\n",
      "\n",
      "step 84820: loss 8.96 7.20ms 1389tok/s (total 848,190tok)\n",
      "step 84840: loss 1.44 12.48ms 801tok/s (total 848,390tok)\n",
      "step 84860: loss 3.59 5.84ms 1712tok/s (total 848,590tok)\n",
      "step 84880: loss 9.83 4.94ms 2026tok/s (total 848,790tok)\n",
      "step 84900: loss 8.08 7.13ms 1402tok/s (total 848,990tok)\n",
      "Oh my lord;\n",
      ",,,,,,,,\n",
      "step 84920: loss 0.58 6.54ms 1529tok/s (total 849,190tok)\n",
      "step 84940: loss 11.98 5.97ms 1675tok/s (total 849,390tok)\n",
      "step 84960: loss 9.10 4.12ms 2427tok/s (total 849,590tok)\n",
      "step 84980: loss 2.30 5.24ms 1908tok/s (total 849,790tok)\n",
      "step 85000: loss 4.16 5.95ms 1680tok/s (total 849,990tok)\n",
      "Oh my lord;\n",
      ",,,,,,,,\n",
      "step 85020: loss 7.33 7.64ms 1309tok/s (total 850,190tok)\n",
      "step 85040: loss 4.43 8.49ms 1178tok/s (total 850,390tok)\n",
      "step 85060: loss 6.76 22.41ms 446tok/s (total 850,590tok)\n",
      "step 85080: loss 0.05 22.21ms 450tok/s (total 850,790tok)\n",
      "step 85100: loss 2.52 22.30ms 448tok/s (total 850,990tok)\n",
      "Oh my lord;\n",
      ",\n",
      "KING RICHARD III:\n",
      "step 85120: loss 0.16 35.48ms 282tok/s (total 851,190tok)\n",
      "step 85140: loss 0.01 8.64ms 1158tok/s (total 851,390tok)\n",
      "step 85160: loss 4.47 8.17ms 1224tok/s (total 851,590tok)\n",
      "step 85180: loss 8.47 5.69ms 1759tok/s (total 851,790tok)\n",
      "step 85200: loss 5.29 14.88ms 672tok/s (total 851,990tok)\n",
      "Oh my lord.\n",
      "\n",
      "\n",
      "\n",
      "\n",
      "\n",
      "\n",
      "\n",
      "\n",
      "\n",
      "step 85220: loss 7.49 9.85ms 1015tok/s (total 852,190tok)\n",
      "step 85240: loss 1.13 10.08ms 992tok/s (total 852,390tok)\n",
      "step 85260: loss 12.10 16.33ms 612tok/s (total 852,590tok)\n",
      "step 85280: loss 7.29 5.51ms 1815tok/s (total 852,790tok)\n",
      "step 85300: loss 10.36 4.50ms 2221tok/s (total 852,990tok)\n",
      "Oh my lord,?\n",
      "\n",
      "\n",
      "\n",
      "\n",
      "\n",
      "\n",
      "\n",
      "\n",
      "step 85320: loss 3.91 15.60ms 641tok/s (total 853,190tok)\n",
      "step 85340: loss 1.68 6.83ms 1464tok/s (total 853,390tok)\n",
      "step 85360: loss 0.45 119.77ms 83tok/s (total 853,590tok)\n",
      "step 85380: loss 5.32 6.01ms 1663tok/s (total 853,790tok)\n",
      "step 85400: loss 0.97 6.40ms 1563tok/s (total 853,990tok)\n",
      "Oh my lord?\n",
      "AN: is the is the?\n",
      "\n",
      "step 85420: loss 2.97 4.18ms 2393tok/s (total 854,190tok)\n",
      "step 85440: loss 8.78 6.51ms 1535tok/s (total 854,390tok)\n",
      "step 85460: loss 8.48 6.40ms 1562tok/s (total 854,590tok)\n",
      "step 85480: loss 5.26 5.61ms 1783tok/s (total 854,790tok)\n",
      "step 85500: loss 5.48 4.67ms 2141tok/s (total 854,990tok)\n",
      "Oh my lord,.,.\n",
      "\n",
      "\n",
      "\n",
      "\n",
      "\n",
      "\n",
      "step 85520: loss 7.12 4.49ms 2226tok/s (total 855,190tok)\n",
      "step 85540: loss 4.36 6.36ms 1573tok/s (total 855,390tok)\n",
      "step 85560: loss 11.89 5.59ms 1790tok/s (total 855,590tok)\n",
      "step 85580: loss 11.89 6.52ms 1535tok/s (total 855,790tok)\n",
      "step 85600: loss 2.33 5.36ms 1865tok/s (total 855,990tok)\n",
      "Oh my lord.\n",
      "\n",
      "\n",
      "\n",
      "\n",
      "\n",
      "\n",
      "\n",
      "\n",
      "\n",
      "step 85620: loss 0.61 4.91ms 2038tok/s (total 856,190tok)\n",
      "step 85640: loss 4.83 6.94ms 1441tok/s (total 856,390tok)\n",
      "step 85660: loss 8.05 5.66ms 1766tok/s (total 856,590tok)\n",
      "step 85680: loss 4.20 6.67ms 1500tok/s (total 856,790tok)\n",
      "step 85700: loss 0.94 5.72ms 1747tok/s (total 856,990tok)\n",
      "Oh my lord,.,.\n",
      "\n",
      "\n",
      "\n",
      "\n",
      "\n",
      "\n",
      "step 85720: loss 7.18 5.22ms 1917tok/s (total 857,190tok)\n",
      "step 85740: loss 8.86 6.56ms 1525tok/s (total 857,390tok)\n",
      "step 85760: loss 13.42 7.05ms 1419tok/s (total 857,590tok)\n",
      "step 85780: loss 6.26 5.72ms 1748tok/s (total 857,790tok)\n",
      "step 85800: loss 3.67 7.48ms 1337tok/s (total 857,990tok)\n",
      "Oh my lord.\n",
      "\n",
      "\n",
      "\n",
      "\n",
      "\n",
      "\n",
      "\n",
      "\n",
      "\n",
      "step 85820: loss 2.16 5.07ms 1971tok/s (total 858,190tok)\n",
      "step 85840: loss 8.37 4.34ms 2303tok/s (total 858,390tok)\n",
      "step 85860: loss 1.95 5.75ms 1738tok/s (total 858,590tok)\n",
      "step 85880: loss 3.42 4.24ms 2357tok/s (total 858,790tok)\n",
      "step 85900: loss 1.79 5.23ms 1912tok/s (total 858,990tok)\n",
      "Oh my lord.\n",
      "\n",
      "\n",
      "\n",
      "\n",
      "\n",
      "\n",
      "\n",
      "\n",
      "\n",
      "step 85920: loss 5.62 4.91ms 2035tok/s (total 859,190tok)\n",
      "step 85940: loss 6.25 5.60ms 1784tok/s (total 859,390tok)\n",
      "step 85960: loss 5.80 6.26ms 1598tok/s (total 859,590tok)\n",
      "step 85980: loss 2.87 4.05ms 2469tok/s (total 859,790tok)\n",
      "step 86000: loss 0.53 5.40ms 1853tok/s (total 859,990tok)\n",
      "Oh my lord.\n",
      "\n",
      "\n",
      "\n",
      "\n",
      "\n",
      "\n",
      "\n",
      "\n",
      "\n",
      "step 86020: loss 6.56 6.29ms 1589tok/s (total 860,190tok)\n",
      "step 86040: loss 5.07 4.99ms 2004tok/s (total 860,390tok)\n",
      "step 86060: loss 0.00 9.17ms 1091tok/s (total 860,590tok)\n",
      "step 86080: loss 4.60 6.47ms 1545tok/s (total 860,790tok)\n",
      "step 86100: loss 4.33 8.69ms 1151tok/s (total 860,990tok)\n",
      "Oh my lord.\n",
      ":\n",
      "\n",
      "\n",
      "\n",
      "\n",
      "\n",
      "\n",
      "\n",
      "step 86120: loss 11.88 5.43ms 1842tok/s (total 861,190tok)\n",
      "step 86140: loss 6.86 4.99ms 2006tok/s (total 861,390tok)\n",
      "step 86160: loss 0.00 5.06ms 1977tok/s (total 861,590tok)\n",
      "step 86180: loss 4.80 11.31ms 884tok/s (total 861,790tok)\n",
      "step 86200: loss 4.73 4.58ms 2186tok/s (total 861,990tok)\n",
      "Oh my lord.\n",
      "ICH:\n",
      ",,,,,\n",
      "step 86220: loss 6.75 13.93ms 718tok/s (total 862,190tok)\n",
      "step 86240: loss 2.52 13.89ms 720tok/s (total 862,390tok)\n",
      "step 86260: loss 7.24 13.61ms 735tok/s (total 862,590tok)\n",
      "step 86280: loss 0.16 13.82ms 724tok/s (total 862,790tok)\n",
      "step 86300: loss 8.72 4.19ms 2388tok/s (total 862,990tok)\n",
      "Oh my lord.\n",
      "\n",
      "\n",
      "\n",
      "\n",
      "\n",
      "\n",
      "\n",
      "\n",
      "\n",
      "step 86320: loss 10.99 3.86ms 2587tok/s (total 863,190tok)\n",
      "step 86340: loss 2.98 8.26ms 1211tok/s (total 863,390tok)\n",
      "step 86360: loss 3.43 10.43ms 958tok/s (total 863,590tok)\n",
      "step 86380: loss 12.37 10.99ms 910tok/s (total 863,790tok)\n",
      "step 86400: loss 1.98 4.92ms 2032tok/s (total 863,990tok)\n",
      "Oh my lord.\n",
      "\n",
      "\n",
      "\n",
      "\n",
      "\n",
      "\n",
      "\n",
      "\n",
      "\n",
      "step 86420: loss 4.68 8.24ms 1213tok/s (total 864,190tok)\n",
      "step 86440: loss 11.16 6.75ms 1481tok/s (total 864,390tok)\n",
      "step 86460: loss 11.66 5.97ms 1675tok/s (total 864,590tok)\n",
      "step 86480: loss 6.66 8.35ms 1197tok/s (total 864,790tok)\n",
      "step 86500: loss 6.55 9.44ms 1060tok/s (total 864,990tok)\n",
      "Oh my lord.\n",
      "\n",
      "\n",
      "\n",
      "\n",
      "\n",
      "\n",
      "\n",
      "\n",
      "\n",
      "step 86520: loss 1.66 6.14ms 1628tok/s (total 865,190tok)\n",
      "step 86540: loss 3.50 4.00ms 2499tok/s (total 865,390tok)\n",
      "step 86560: loss 11.91 9.34ms 1071tok/s (total 865,590tok)\n",
      "step 86580: loss 7.28 6.59ms 1517tok/s (total 865,790tok)\n",
      "step 86600: loss 3.99 4.87ms 2054tok/s (total 865,990tok)\n",
      "Oh my lord.\n",
      "\n",
      "\n",
      "\n",
      "\n",
      "\n",
      "\n",
      "\n",
      "\n",
      "\n",
      "step 86620: loss 8.36 5.36ms 1866tok/s (total 866,190tok)\n",
      "step 86640: loss 2.19 5.14ms 1946tok/s (total 866,390tok)\n",
      "step 86660: loss 10.29 4.78ms 2094tok/s (total 866,590tok)\n",
      "step 86680: loss 6.70 4.16ms 2406tok/s (total 866,790tok)\n",
      "step 86700: loss 9.58 4.11ms 2435tok/s (total 866,990tok)\n",
      "Oh my lord.\n",
      "\n",
      "\n",
      "\n",
      "\n",
      "\n",
      "\n",
      "\n",
      "\n",
      "\n",
      "step 86720: loss 12.87 8.72ms 1147tok/s (total 867,190tok)\n",
      "step 86740: loss 6.75 8.03ms 1246tok/s (total 867,390tok)\n",
      "step 86760: loss 10.56 6.57ms 1522tok/s (total 867,590tok)\n",
      "step 86780: loss 2.49 4.51ms 2217tok/s (total 867,790tok)\n",
      "step 86800: loss 5.66 4.89ms 2046tok/s (total 867,990tok)\n",
      "Oh my lord.\n",
      "\n",
      "\n",
      "\n",
      "\n",
      "\n",
      "\n",
      "\n",
      "\n",
      "\n",
      "step 86820: loss 5.02 4.95ms 2021tok/s (total 868,190tok)\n",
      "step 86840: loss 7.36 7.84ms 1275tok/s (total 868,390tok)\n",
      "step 86860: loss 4.14 5.29ms 1891tok/s (total 868,590tok)\n",
      "step 86880: loss 9.30 5.87ms 1702tok/s (total 868,790tok)\n",
      "step 86900: loss 12.13 5.93ms 1685tok/s (total 868,990tok)\n",
      "Oh my lord.\n",
      "ICHARD III:\n",
      "\n",
      "\n",
      "\n",
      "\n",
      "step 86920: loss 10.04 8.81ms 1135tok/s (total 869,190tok)\n",
      "step 86940: loss 8.77 3.17ms 3158tok/s (total 869,390tok)\n",
      "step 86960: loss 6.42 7.42ms 1348tok/s (total 869,590tok)\n",
      "step 86980: loss 3.47 6.47ms 1546tok/s (total 869,790tok)\n",
      "step 87000: loss 7.86 4.97ms 2014tok/s (total 869,990tok)\n",
      "Oh my lord;\n",
      ", the\n",
      "BUCKINGHAM:\n",
      "step 87020: loss 8.47 4.22ms 2369tok/s (total 870,190tok)\n",
      "step 87040: loss 8.05 4.25ms 2351tok/s (total 870,390tok)\n",
      "step 87060: loss 1.89 8.41ms 1189tok/s (total 870,590tok)\n",
      "step 87080: loss 4.60 4.62ms 2165tok/s (total 870,790tok)\n",
      "step 87100: loss 4.66 4.85ms 2063tok/s (total 870,990tok)\n",
      "Oh my lord.\n",
      "ICHARD III:\n",
      "\n",
      "\n",
      "\n",
      "\n",
      "step 87120: loss 4.66 8.61ms 1162tok/s (total 871,190tok)\n",
      "step 87140: loss 4.47 5.37ms 1863tok/s (total 871,390tok)\n",
      "step 87160: loss 8.20 6.28ms 1593tok/s (total 871,590tok)\n",
      "step 87180: loss 6.05 3.98ms 2514tok/s (total 871,790tok)\n",
      "step 87200: loss 1.40 4.41ms 2269tok/s (total 871,990tok)\n",
      "Oh my lord.\n",
      "ICH:\n",
      "\n",
      "\n",
      "\n",
      "\n",
      "\n",
      "\n",
      "step 87220: loss 7.27 3.60ms 2778tok/s (total 872,190tok)\n",
      "step 87240: loss 3.64 6.54ms 1529tok/s (total 872,390tok)\n",
      "step 87260: loss 7.69 5.29ms 1890tok/s (total 872,590tok)\n",
      "step 87280: loss 2.16 6.15ms 1626tok/s (total 872,790tok)\n",
      "step 87300: loss 0.58 11.78ms 849tok/s (total 872,990tok)\n",
      "Oh my lord.\n",
      "\n",
      "\n",
      "\n",
      "\n",
      "\n",
      "\n",
      "\n",
      "\n",
      "\n",
      "step 87320: loss 6.20 24.93ms 401tok/s (total 873,190tok)\n",
      "step 87340: loss 6.83 12.25ms 816tok/s (total 873,390tok)\n",
      "step 87360: loss 7.91 5.40ms 1853tok/s (total 873,590tok)\n",
      "step 87380: loss 5.15 6.94ms 1440tok/s (total 873,790tok)\n",
      "step 87400: loss 7.17 7.73ms 1294tok/s (total 873,990tok)\n",
      "Oh my lord.\n",
      "KING RICHARD III:\n",
      "\n",
      "\n",
      "step 87420: loss 3.08 17.25ms 580tok/s (total 874,190tok)\n",
      "step 87440: loss 0.20 4.91ms 2035tok/s (total 874,390tok)\n",
      "step 87460: loss 5.44 5.82ms 1718tok/s (total 874,590tok)\n",
      "step 87480: loss 6.02 4.44ms 2250tok/s (total 874,790tok)\n",
      "step 87500: loss 11.73 4.50ms 2223tok/s (total 874,990tok)\n",
      "Oh my lord.\n",
      "KING RICHARD III:\n",
      "\n",
      "\n",
      "step 87520: loss 4.23 14.47ms 691tok/s (total 875,190tok)\n",
      "step 87540: loss 9.09 17.79ms 562tok/s (total 875,390tok)\n",
      "step 87560: loss 6.44 5.44ms 1840tok/s (total 875,590tok)\n",
      "step 87580: loss 6.18 6.48ms 1543tok/s (total 875,790tok)\n",
      "step 87600: loss 0.70 6.37ms 1569tok/s (total 875,990tok)\n",
      "Oh my lord.\n",
      "ICHARD III:\n",
      "\n",
      "\n",
      "\n",
      "\n",
      "step 87620: loss 7.97 6.12ms 1633tok/s (total 876,190tok)\n",
      "step 87640: loss 5.24 7.37ms 1356tok/s (total 876,390tok)\n",
      "step 87660: loss 2.85 5.31ms 1883tok/s (total 876,590tok)\n",
      "step 87680: loss 10.60 6.77ms 1478tok/s (total 876,790tok)\n",
      "step 87700: loss 7.10 6.74ms 1484tok/s (total 876,990tok)\n",
      "Oh my lord.\n",
      "ICHARD III:\n",
      "\n",
      "\n",
      "\n",
      "\n",
      "step 87720: loss 11.59 22.16ms 451tok/s (total 877,190tok)\n",
      "step 87740: loss 7.30 6.68ms 1497tok/s (total 877,390tok)\n",
      "step 87760: loss 7.36 6.02ms 1660tok/s (total 877,590tok)\n",
      "step 87780: loss 2.68 4.73ms 2113tok/s (total 877,790tok)\n",
      "step 87800: loss 4.20 3.77ms 2652tok/s (total 877,990tok)\n",
      "Oh my lord.\n",
      "ICHARD III:\n",
      "\n",
      "\n",
      "\n",
      "\n",
      "step 87820: loss 1.89 3.79ms 2638tok/s (total 878,190tok)\n",
      "step 87840: loss 5.02 30.97ms 323tok/s (total 878,390tok)\n",
      "step 87860: loss 0.61 4.34ms 2302tok/s (total 878,590tok)\n",
      "step 87880: loss 5.78 5.83ms 1716tok/s (total 878,790tok)\n",
      "step 87900: loss 0.88 5.47ms 1828tok/s (total 878,990tok)\n",
      "Oh my lord.\n",
      "ICHARD III:\n",
      "\n",
      "\n",
      "\n",
      "\n",
      "step 87920: loss 3.30 4.71ms 2123tok/s (total 879,190tok)\n",
      "step 87940: loss 0.26 4.32ms 2313tok/s (total 879,390tok)\n",
      "step 87960: loss 0.05 4.99ms 2004tok/s (total 879,590tok)\n",
      "step 87980: loss 1.13 5.61ms 1783tok/s (total 879,790tok)\n",
      "step 88000: loss 4.10 8.38ms 1193tok/s (total 879,990tok)\n",
      "Oh my lord.\n",
      "CBY:\n",
      "\n",
      "\n",
      "\n",
      "\n",
      "\n",
      "step 88020: loss 9.22 6.09ms 1641tok/s (total 880,190tok)\n",
      "step 88040: loss 0.20 5.78ms 1730tok/s (total 880,390tok)\n",
      "step 88060: loss 10.00 7.10ms 1409tok/s (total 880,590tok)\n",
      "step 88080: loss 0.03 5.90ms 1694tok/s (total 880,790tok)\n",
      "step 88100: loss 0.31 5.01ms 1995tok/s (total 880,990tok)\n",
      "Oh my lord.\n",
      "KING RICHARD III:\n",
      "\n",
      "\n",
      "step 88120: loss 5.11 5.12ms 1952tok/s (total 881,190tok)\n",
      "step 88140: loss 4.11 7.35ms 1361tok/s (total 881,390tok)\n",
      "step 88160: loss 12.96 4.08ms 2452tok/s (total 881,590tok)\n",
      "step 88180: loss 9.49 4.75ms 2106tok/s (total 881,790tok)\n",
      "step 88200: loss 0.09 7.77ms 1286tok/s (total 881,990tok)\n",
      "Oh my lord.\n",
      " RICHARD III:\n",
      "\n",
      "\n",
      "\n",
      "step 88220: loss 0.29 16.71ms 598tok/s (total 882,190tok)\n",
      "step 88240: loss 11.31 20.91ms 478tok/s (total 882,390tok)\n",
      "step 88260: loss 1.91 21.06ms 475tok/s (total 882,590tok)\n",
      "step 88280: loss 5.46 22.02ms 454tok/s (total 882,790tok)\n",
      "step 88300: loss 4.99 21.49ms 465tok/s (total 882,990tok)\n",
      "Oh my lord.\n",
      "KING RICHARD III:\n",
      "\n",
      "\n",
      "step 88320: loss 2.76 21.28ms 470tok/s (total 883,190tok)\n",
      "step 88340: loss 0.13 24.13ms 414tok/s (total 883,390tok)\n",
      "step 88360: loss 8.09 20.90ms 479tok/s (total 883,590tok)\n",
      "step 88380: loss 3.79 8.71ms 1148tok/s (total 883,790tok)\n",
      "step 88400: loss 6.62 19.73ms 507tok/s (total 883,990tok)\n",
      "Oh my lord.\n",
      "ICHARD:\n",
      "\n",
      "\n",
      "\n",
      "\n",
      "\n",
      "step 88420: loss 3.12 16.41ms 610tok/s (total 884,190tok)\n",
      "step 88440: loss 12.75 21.13ms 473tok/s (total 884,390tok)\n",
      "step 88460: loss 5.96 21.38ms 468tok/s (total 884,590tok)\n",
      "step 88480: loss 8.41 22.80ms 439tok/s (total 884,790tok)\n",
      "step 88500: loss 2.39 20.98ms 477tok/s (total 884,990tok)\n",
      "Oh my lord.\n",
      "ICHARD:\n",
      "\n",
      "\n",
      "\n",
      "\n",
      "\n",
      "step 88520: loss 7.48 21.42ms 467tok/s (total 885,190tok)\n",
      "step 88540: loss 7.63 21.11ms 474tok/s (total 885,390tok)\n",
      "step 88560: loss 7.21 18.68ms 535tok/s (total 885,590tok)\n",
      "step 88580: loss 7.27 20.98ms 477tok/s (total 885,790tok)\n",
      "step 88600: loss 4.32 19.77ms 506tok/s (total 885,990tok)\n",
      "Oh my lord.\n",
      "CBY:\n",
      "\n",
      "\n",
      "\n",
      "\n",
      "\n",
      "step 88620: loss 3.48 17.39ms 575tok/s (total 886,190tok)\n",
      "step 88640: loss 12.59 10.10ms 990tok/s (total 886,390tok)\n",
      "step 88660: loss 5.32 4.02ms 2488tok/s (total 886,590tok)\n",
      "step 88680: loss 6.36 8.19ms 1221tok/s (total 886,790tok)\n",
      "step 88700: loss 4.51 18.33ms 545tok/s (total 886,990tok)\n",
      "Oh my lord.\n",
      "ICHARD:\n",
      "\n",
      "\n",
      "\n",
      "\n",
      "\n",
      "step 88720: loss 2.28 21.36ms 468tok/s (total 887,190tok)\n",
      "step 88740: loss 12.60 21.37ms 468tok/s (total 887,390tok)\n",
      "step 88760: loss 6.44 21.31ms 469tok/s (total 887,590tok)\n",
      "step 88780: loss 5.50 5.86ms 1706tok/s (total 887,790tok)\n",
      "step 88800: loss 4.86 4.32ms 2317tok/s (total 887,990tok)\n",
      "Oh my lord.\n",
      "ICHARD:\n",
      "\n",
      "\n",
      "\n",
      "\n",
      "\n",
      "step 88820: loss 0.26 20.29ms 493tok/s (total 888,190tok)\n",
      "step 88840: loss 2.80 13.44ms 744tok/s (total 888,390tok)\n",
      "step 88860: loss 8.89 24.11ms 415tok/s (total 888,590tok)\n",
      "step 88880: loss 5.60 13.83ms 723tok/s (total 888,790tok)\n",
      "step 88900: loss 4.64 21.14ms 473tok/s (total 888,990tok)\n",
      "Oh my lord:\n",
      "\n",
      "\n",
      "\n",
      "\n",
      "\n",
      "\n",
      "\n",
      "\n",
      "\n",
      "step 88920: loss 6.33 21.90ms 457tok/s (total 889,190tok)\n",
      "step 88940: loss 4.79 21.19ms 472tok/s (total 889,390tok)\n",
      "step 88960: loss 11.09 21.50ms 465tok/s (total 889,590tok)\n",
      "step 88980: loss 9.11 21.89ms 457tok/s (total 889,790tok)\n",
      "step 89000: loss 8.13 20.32ms 492tok/s (total 889,990tok)\n",
      "Oh my lord.\n",
      "ICH III:!\n",
      "CBY?\n",
      "step 89020: loss 3.24 21.84ms 458tok/s (total 890,190tok)\n",
      "step 89040: loss 16.05 21.49ms 465tok/s (total 890,390tok)\n",
      "step 89060: loss 2.16 21.83ms 458tok/s (total 890,590tok)\n",
      "step 89080: loss 5.35 21.26ms 470tok/s (total 890,790tok)\n",
      "step 89100: loss 4.89 21.66ms 462tok/s (total 890,990tok)\n",
      "Oh my lord.\n",
      "ICHARD III:\n",
      " I myself?\n",
      "step 89120: loss 8.12 19.92ms 502tok/s (total 891,190tok)\n",
      "step 89140: loss 5.42 21.16ms 473tok/s (total 891,390tok)\n",
      "step 89160: loss 11.95 21.79ms 459tok/s (total 891,590tok)\n",
      "step 89180: loss 10.84 21.42ms 467tok/s (total 891,790tok)\n",
      "step 89200: loss 2.86 20.15ms 496tok/s (total 891,990tok)\n",
      "Oh my lord.\n",
      "ICHARD III:,:,:\n",
      "step 89220: loss 4.86 21.09ms 474tok/s (total 892,190tok)\n",
      "step 89240: loss 6.49 21.42ms 467tok/s (total 892,390tok)\n",
      "step 89260: loss 4.22 9.95ms 1005tok/s (total 892,590tok)\n",
      "step 89280: loss 14.42 21.99ms 455tok/s (total 892,790tok)\n",
      "step 89300: loss 2.17 21.44ms 466tok/s (total 892,990tok)\n",
      "Oh my lord.\n",
      "ICHARD III:\n",
      "\n",
      "\n",
      "\n",
      "\n",
      "step 89320: loss 3.60 17.44ms 573tok/s (total 893,190tok)\n",
      "step 89340: loss 10.79 21.34ms 469tok/s (total 893,390tok)\n",
      "step 89360: loss 7.18 4.88ms 2051tok/s (total 893,590tok)\n",
      "step 89380: loss 8.00 17.87ms 560tok/s (total 893,790tok)\n",
      "step 89400: loss 8.83 4.62ms 2163tok/s (total 893,990tok)\n",
      "Oh my lord.\n",
      "KING RICHARD III:\n",
      "\n",
      "\n",
      "step 89420: loss 0.53 4.54ms 2203tok/s (total 894,190tok)\n",
      "step 89440: loss 2.05 23.92ms 418tok/s (total 894,390tok)\n",
      "step 89460: loss 0.51 24.70ms 405tok/s (total 894,590tok)\n",
      "step 89480: loss 9.73 23.72ms 422tok/s (total 894,790tok)\n",
      "step 89500: loss 12.17 21.72ms 460tok/s (total 894,990tok)\n",
      "Oh my lord.\n",
      "KING RICHARD III:\n",
      "\n",
      "\n",
      "step 89520: loss 6.97 24.99ms 400tok/s (total 895,190tok)\n",
      "step 89540: loss 8.03 23.72ms 422tok/s (total 895,390tok)\n",
      "step 89560: loss 5.16 21.61ms 463tok/s (total 895,590tok)\n",
      "step 89580: loss 6.82 21.37ms 468tok/s (total 895,790tok)\n",
      "step 89600: loss 7.33 15.21ms 658tok/s (total 895,990tok)\n",
      "Oh my lord.\n",
      "ICH III:\n",
      "\n",
      "\n",
      "\n",
      "\n",
      "\n",
      "step 89620: loss 1.67 21.99ms 455tok/s (total 896,190tok)\n",
      "step 89640: loss 0.54 21.57ms 464tok/s (total 896,390tok)\n",
      "step 89660: loss 7.11 21.48ms 466tok/s (total 896,590tok)\n",
      "step 89680: loss 1.90 21.47ms 466tok/s (total 896,790tok)\n",
      "step 89700: loss 8.26 21.68ms 461tok/s (total 896,990tok)\n",
      "Oh my lord.\n",
      "ICHARD:\n",
      "\n",
      "\n",
      "\n",
      "\n",
      "\n",
      "step 89720: loss 9.70 6.87ms 1456tok/s (total 897,190tok)\n",
      "step 89740: loss 11.92 22.13ms 452tok/s (total 897,390tok)\n",
      "step 89760: loss 5.48 4.27ms 2343tok/s (total 897,590tok)\n",
      "step 89780: loss 6.58 19.91ms 502tok/s (total 897,790tok)\n",
      "step 89800: loss 7.96 21.65ms 462tok/s (total 897,990tok)\n",
      "Oh my lord.\n",
      "ICHARD III:\n",
      "\n",
      "\n",
      "\n",
      "\n",
      "step 89820: loss 3.82 12.78ms 782tok/s (total 898,190tok)\n",
      "step 89840: loss 11.20 3.63ms 2756tok/s (total 898,390tok)\n",
      "step 89860: loss 5.46 7.14ms 1400tok/s (total 898,590tok)\n",
      "step 89880: loss 4.54 24.74ms 404tok/s (total 898,790tok)\n",
      "step 89900: loss 12.09 23.64ms 423tok/s (total 898,990tok)\n",
      "Oh my lord;\n",
      ", andThe- to the of\n",
      "\n",
      "step 89920: loss 5.61 22.73ms 440tok/s (total 899,190tok)\n",
      "step 89940: loss 4.64 23.64ms 423tok/s (total 899,390tok)\n",
      "step 89960: loss 9.44 18.13ms 552tok/s (total 899,590tok)\n",
      "step 89980: loss 8.33 21.25ms 471tok/s (total 899,790tok)\n",
      "step 90000: loss 3.24 21.71ms 461tok/s (total 899,990tok)\n",
      "Oh my lord;\n",
      "'s, you\n",
      "RMR in\n",
      "step 90020: loss 9.11 4.25ms 2351tok/s (total 900,190tok)\n",
      "step 90040: loss 6.23 13.87ms 721tok/s (total 900,390tok)\n",
      "step 90060: loss 2.12 8.70ms 1150tok/s (total 900,590tok)\n",
      "step 90080: loss 1.63 21.41ms 467tok/s (total 900,790tok)\n",
      "step 90100: loss 8.13 23.18ms 431tok/s (total 900,990tok)\n",
      "Oh my lord;\n",
      " the of of yourThe of,\n",
      "\n",
      "step 90120: loss 6.69 13.30ms 752tok/s (total 901,190tok)\n",
      "step 90140: loss 6.14 22.33ms 448tok/s (total 901,390tok)\n",
      "step 90160: loss 1.02 13.22ms 757tok/s (total 901,590tok)\n",
      "step 90180: loss 0.50 11.63ms 860tok/s (total 901,790tok)\n",
      "step 90200: loss 4.23 16.25ms 616tok/s (total 901,990tok)\n",
      "Oh my lord.\n",
      "KING RICHARD III:\n",
      "\n",
      "\n",
      "step 90220: loss 12.54 12.41ms 806tok/s (total 902,190tok)\n",
      "step 90240: loss 4.59 21.71ms 461tok/s (total 902,390tok)\n",
      "step 90260: loss 0.20 19.98ms 500tok/s (total 902,590tok)\n",
      "step 90280: loss 4.97 21.73ms 460tok/s (total 902,790tok)\n",
      "step 90300: loss 0.97 5.43ms 1841tok/s (total 902,990tok)\n",
      "Oh my lord.\n",
      "KING RICHARD III:\n",
      "\n",
      "\n",
      "step 90320: loss 7.80 4.12ms 2425tok/s (total 903,190tok)\n",
      "step 90340: loss 9.05 25.14ms 398tok/s (total 903,390tok)\n",
      "step 90360: loss 6.20 23.55ms 425tok/s (total 903,590tok)\n",
      "step 90380: loss 0.84 19.15ms 522tok/s (total 903,790tok)\n",
      "step 90400: loss 5.33 2.72ms 3672tok/s (total 903,990tok)\n",
      "Oh my lord.\n",
      "KING RICHARD III:\n",
      "\n",
      "\n",
      "step 90420: loss 0.19 25.06ms 399tok/s (total 904,190tok)\n",
      "step 90440: loss 7.09 15.47ms 647tok/s (total 904,390tok)\n",
      "step 90460: loss 3.92 10.03ms 997tok/s (total 904,590tok)\n",
      "step 90480: loss 2.72 16.70ms 599tok/s (total 904,790tok)\n",
      "step 90500: loss 4.34 13.40ms 746tok/s (total 904,990tok)\n",
      "Oh my lord.\n",
      "\n",
      "\n",
      "\n",
      "\n",
      "\n",
      "\n",
      "\n",
      "\n",
      "\n",
      "step 90520: loss 5.90 21.28ms 470tok/s (total 905,190tok)\n",
      "step 90540: loss 5.83 21.36ms 468tok/s (total 905,390tok)\n",
      "step 90560: loss 9.75 17.99ms 556tok/s (total 905,590tok)\n",
      "step 90580: loss 0.22 21.91ms 456tok/s (total 905,790tok)\n",
      "step 90600: loss 1.35 4.63ms 2161tok/s (total 905,990tok)\n",
      "Oh my lord.\n",
      "\n",
      "\n",
      "\n",
      "\n",
      "\n",
      "\n",
      "\n",
      "\n",
      "\n",
      "step 90620: loss 5.02 10.97ms 911tok/s (total 906,190tok)\n",
      "step 90640: loss 0.24 17.05ms 586tok/s (total 906,390tok)\n",
      "step 90660: loss 6.89 21.49ms 465tok/s (total 906,590tok)\n",
      "step 90680: loss 9.01 9.08ms 1102tok/s (total 906,790tok)\n",
      "step 90700: loss 11.33 16.20ms 617tok/s (total 906,990tok)\n",
      "Oh my lord.\n",
      "\n",
      "\n",
      "\n",
      "\n",
      "\n",
      "\n",
      "\n",
      "\n",
      "\n",
      "step 90720: loss 7.85 19.46ms 514tok/s (total 907,190tok)\n",
      "step 90740: loss 2.46 10.58ms 945tok/s (total 907,390tok)\n",
      "step 90760: loss 3.41 21.56ms 464tok/s (total 907,590tok)\n",
      "step 90780: loss 13.04 18.39ms 544tok/s (total 907,790tok)\n",
      "step 90800: loss 0.96 21.18ms 472tok/s (total 907,990tok)\n",
      "Oh my lord.\n",
      "KING RICHARD III:\n",
      "\n",
      "\n",
      "step 90820: loss 6.48 21.46ms 466tok/s (total 908,190tok)\n",
      "step 90840: loss 1.57 11.49ms 870tok/s (total 908,390tok)\n",
      "step 90860: loss 11.52 4.99ms 2006tok/s (total 908,590tok)\n",
      "step 90880: loss 7.09 21.13ms 473tok/s (total 908,790tok)\n",
      "step 90900: loss 5.53 22.67ms 441tok/s (total 908,990tok)\n",
      "Oh my lord.\n",
      "\n",
      "\n",
      "\n",
      "\n",
      "\n",
      "\n",
      "\n",
      "\n",
      "\n",
      "step 90920: loss 2.68 4.55ms 2200tok/s (total 909,190tok)\n",
      "step 90940: loss 5.25 4.69ms 2130tok/s (total 909,390tok)\n",
      "step 90960: loss 7.00 5.12ms 1954tok/s (total 909,590tok)\n",
      "step 90980: loss 7.76 4.44ms 2255tok/s (total 909,790tok)\n",
      "step 91000: loss 10.86 4.27ms 2341tok/s (total 909,990tok)\n",
      "Oh my lord.\n",
      "ICH III:\n",
      ",,,,\n",
      "step 91020: loss 3.03 14.50ms 689tok/s (total 910,190tok)\n",
      "step 91040: loss 6.80 3.11ms 3211tok/s (total 910,390tok)\n",
      "step 91060: loss 1.68 6.09ms 1642tok/s (total 910,590tok)\n",
      "step 91080: loss 6.39 9.30ms 1075tok/s (total 910,790tok)\n",
      "step 91100: loss 0.06 6.48ms 1544tok/s (total 910,990tok)\n",
      "Oh my lord.\n",
      "ICHARD III:\n",
      "\n",
      "\n",
      "\n",
      "\n",
      "step 91120: loss 10.30 6.75ms 1481tok/s (total 911,190tok)\n",
      "step 91140: loss 11.77 39.52ms 253tok/s (total 911,390tok)\n",
      "step 91160: loss 5.54 5.75ms 1740tok/s (total 911,590tok)\n",
      "step 91180: loss 10.86 5.52ms 1812tok/s (total 911,790tok)\n",
      "step 91200: loss 5.21 5.98ms 1673tok/s (total 911,990tok)\n",
      "Oh my lord.\n",
      "ICH\n",
      "M:\n",
      "\n",
      "\n",
      "\n",
      "\n",
      "step 91220: loss 7.40 14.28ms 700tok/s (total 912,190tok)\n",
      "step 91240: loss 2.72 4.71ms 2121tok/s (total 912,390tok)\n",
      "step 91260: loss 7.14 5.57ms 1796tok/s (total 912,590tok)\n",
      "step 91280: loss 9.36 11.91ms 840tok/s (total 912,790tok)\n",
      "step 91300: loss 8.09 14.85ms 673tok/s (total 912,990tok)\n",
      "Oh my lord.\n",
      "ICHARD III:\n",
      "\n",
      "\n",
      ",\n",
      "step 91320: loss 3.68 11.43ms 875tok/s (total 913,190tok)\n",
      "step 91340: loss 1.55 14.22ms 703tok/s (total 913,390tok)\n",
      "step 91360: loss 2.23 13.71ms 729tok/s (total 913,590tok)\n",
      "step 91380: loss 4.35 9.15ms 1093tok/s (total 913,790tok)\n",
      "step 91400: loss 7.20 4.07ms 2460tok/s (total 913,990tok)\n",
      "Oh my lord.\n",
      "ICHARD III:\n",
      "\n",
      "\n",
      "\n",
      "\n",
      "step 91420: loss 5.71 9.92ms 1008tok/s (total 914,190tok)\n",
      "step 91440: loss 10.56 7.28ms 1373tok/s (total 914,390tok)\n",
      "step 91460: loss 12.69 9.02ms 1109tok/s (total 914,590tok)\n",
      "step 91480: loss 12.25 4.68ms 2136tok/s (total 914,790tok)\n",
      "step 91500: loss 2.90 4.40ms 2272tok/s (total 914,990tok)\n",
      "Oh my lord.\n",
      "\n",
      "\n",
      "\n",
      "\n",
      "\n",
      "\n",
      "\n",
      "\n",
      "\n",
      "step 91520: loss 2.33 3.58ms 2796tok/s (total 915,190tok)\n",
      "step 91540: loss 5.31 24.24ms 413tok/s (total 915,390tok)\n",
      "step 91560: loss 5.39 4.85ms 2061tok/s (total 915,590tok)\n",
      "step 91580: loss 7.32 21.79ms 459tok/s (total 915,790tok)\n",
      "step 91600: loss 6.70 21.47ms 466tok/s (total 915,990tok)\n",
      "Oh my lord.\n",
      "\n",
      "\n",
      "\n",
      "\n",
      "\n",
      "\n",
      "\n",
      "\n",
      "\n",
      "step 91620: loss 2.98 20.87ms 479tok/s (total 916,190tok)\n",
      "step 91640: loss 3.11 20.90ms 479tok/s (total 916,390tok)\n",
      "step 91660: loss 4.93 21.11ms 474tok/s (total 916,590tok)\n",
      "step 91680: loss 5.92 5.91ms 1692tok/s (total 916,790tok)\n",
      "step 91700: loss 1.49 6.04ms 1654tok/s (total 916,990tok)\n",
      "Oh my lord.\n",
      "\n",
      "\n",
      "\n",
      "\n",
      "\n",
      "\n",
      "\n",
      "\n",
      "\n",
      "step 91720: loss 0.03 6.11ms 1636tok/s (total 917,190tok)\n",
      "step 91740: loss 11.71 6.33ms 1579tok/s (total 917,390tok)\n",
      "step 91760: loss 4.77 7.47ms 1338tok/s (total 917,590tok)\n",
      "step 91780: loss 7.77 4.42ms 2263tok/s (total 917,790tok)\n",
      "step 91800: loss 5.21 6.42ms 1558tok/s (total 917,990tok)\n",
      "Oh my lord.\n",
      "\n",
      "\n",
      "\n",
      "\n",
      "\n",
      "\n",
      "\n",
      "\n",
      "\n",
      "step 91820: loss 6.14 10.85ms 922tok/s (total 918,190tok)\n",
      "step 91840: loss 11.31 4.77ms 2095tok/s (total 918,390tok)\n",
      "step 91860: loss 5.00 17.97ms 557tok/s (total 918,590tok)\n",
      "step 91880: loss 10.31 4.45ms 2249tok/s (total 918,790tok)\n",
      "step 91900: loss 10.78 13.12ms 762tok/s (total 918,990tok)\n",
      "Oh my lord.\n",
      "\n",
      "\n",
      "\n",
      "\n",
      "\n",
      "\n",
      "\n",
      "\n",
      "\n",
      "step 91920: loss 2.54 6.18ms 1617tok/s (total 919,190tok)\n",
      "step 91940: loss 1.89 4.49ms 2227tok/s (total 919,390tok)\n",
      "step 91960: loss 8.18 7.14ms 1400tok/s (total 919,590tok)\n",
      "step 91980: loss 9.01 3.95ms 2530tok/s (total 919,790tok)\n",
      "step 92000: loss 0.41 11.74ms 852tok/s (total 919,990tok)\n",
      "Oh my lord.\n",
      "KING RICHARD:\n",
      "\n",
      "\n",
      "\n",
      "step 92020: loss 4.44 15.37ms 651tok/s (total 920,190tok)\n",
      "step 92040: loss 12.76 11.72ms 853tok/s (total 920,390tok)\n",
      "step 92060: loss 6.26 10.44ms 958tok/s (total 920,590tok)\n",
      "step 92080: loss 9.45 19.70ms 508tok/s (total 920,790tok)\n",
      "step 92100: loss 4.95 7.59ms 1317tok/s (total 920,990tok)\n",
      "Oh my lord.\n",
      "\n",
      "\n",
      "\n",
      "\n",
      "\n",
      "\n",
      "\n",
      "\n",
      "\n",
      "step 92120: loss 3.76 11.18ms 894tok/s (total 921,190tok)\n",
      "step 92140: loss 6.39 5.97ms 1675tok/s (total 921,390tok)\n",
      "step 92160: loss 7.75 14.23ms 703tok/s (total 921,590tok)\n",
      "step 92180: loss 10.63 17.55ms 570tok/s (total 921,790tok)\n",
      "step 92200: loss 0.92 13.89ms 720tok/s (total 921,990tok)\n",
      "Oh my lord.\n",
      "\n",
      "\n",
      "\n",
      "\n",
      "\n",
      "\n",
      "\n",
      "\n",
      "\n",
      "step 92220: loss 4.43 16.00ms 625tok/s (total 922,190tok)\n",
      "step 92240: loss 13.84 13.82ms 723tok/s (total 922,390tok)\n",
      "step 92260: loss 8.87 4.53ms 2208tok/s (total 922,590tok)\n",
      "step 92280: loss 4.48 4.24ms 2361tok/s (total 922,790tok)\n",
      "step 92300: loss 4.71 4.66ms 2146tok/s (total 922,990tok)\n",
      "Oh my lord.\n",
      "\n",
      "\n",
      "\n",
      "\n",
      "\n",
      "\n",
      "\n",
      "\n",
      "\n",
      "step 92320: loss 8.53 5.48ms 1826tok/s (total 923,190tok)\n",
      "step 92340: loss 5.64 6.59ms 1517tok/s (total 923,390tok)\n",
      "step 92360: loss 6.85 5.97ms 1676tok/s (total 923,590tok)\n",
      "step 92380: loss 0.44 9.15ms 1093tok/s (total 923,790tok)\n",
      "step 92400: loss 2.75 7.53ms 1328tok/s (total 923,990tok)\n",
      "Oh my lord.\n",
      "\n",
      "\n",
      "\n",
      "\n",
      "\n",
      "\n",
      "\n",
      "\n",
      "\n",
      "step 92420: loss 11.55 6.87ms 1456tok/s (total 924,190tok)\n",
      "step 92440: loss 0.72 22.63ms 442tok/s (total 924,390tok)\n",
      "step 92460: loss 9.08 4.70ms 2125tok/s (total 924,590tok)\n",
      "step 92480: loss 5.40 11.87ms 842tok/s (total 924,790tok)\n",
      "step 92500: loss 0.21 5.38ms 1857tok/s (total 924,990tok)\n",
      "Oh my lord.\n",
      "\n",
      "\n",
      "\n",
      "\n",
      "\n",
      "\n",
      "\n",
      "\n",
      "\n",
      "step 92520: loss 7.79 6.29ms 1590tok/s (total 925,190tok)\n",
      "step 92540: loss 2.48 6.25ms 1601tok/s (total 925,390tok)\n",
      "step 92560: loss 5.35 5.00ms 2001tok/s (total 925,590tok)\n",
      "step 92580: loss 10.97 5.43ms 1842tok/s (total 925,790tok)\n",
      "step 92600: loss 1.11 4.83ms 2071tok/s (total 925,990tok)\n",
      "Oh my lord.\n",
      "\n",
      "\n",
      "\n",
      "\n",
      "\n",
      "\n",
      "\n",
      "\n",
      "\n",
      "step 92620: loss 2.97 12.56ms 796tok/s (total 926,190tok)\n",
      "step 92640: loss 3.18 15.56ms 643tok/s (total 926,390tok)\n",
      "step 92660: loss 4.13 23.59ms 424tok/s (total 926,590tok)\n",
      "step 92680: loss 10.60 11.50ms 869tok/s (total 926,790tok)\n",
      "step 92700: loss 6.12 7.49ms 1335tok/s (total 926,990tok)\n",
      "Oh my lord.\n",
      "\n",
      "\n",
      "\n",
      "\n",
      "\n",
      "\n",
      "\n",
      "\n",
      "\n",
      "step 92720: loss 8.07 6.02ms 1662tok/s (total 927,190tok)\n",
      "step 92740: loss 4.59 6.34ms 1577tok/s (total 927,390tok)\n",
      "step 92760: loss 0.56 5.64ms 1774tok/s (total 927,590tok)\n",
      "step 92780: loss 5.47 5.51ms 1817tok/s (total 927,790tok)\n",
      "step 92800: loss 0.56 10.64ms 940tok/s (total 927,990tok)\n",
      "Oh my lord.\n",
      "KING RICHARD:\n",
      "\n",
      "\n",
      "\n",
      "step 92820: loss 6.55 6.75ms 1482tok/s (total 928,190tok)\n",
      "step 92840: loss 5.89 4.99ms 2003tok/s (total 928,390tok)\n",
      "step 92860: loss 9.11 5.73ms 1746tok/s (total 928,590tok)\n",
      "step 92880: loss 11.95 8.21ms 1218tok/s (total 928,790tok)\n",
      "step 92900: loss 3.68 5.22ms 1917tok/s (total 928,990tok)\n",
      "Oh my lord.\n",
      "\n",
      "\n",
      "\n",
      "\n",
      "\n",
      "\n",
      "\n",
      "\n",
      "\n",
      "step 92920: loss 5.59 5.79ms 1728tok/s (total 929,190tok)\n",
      "step 92940: loss 7.10 10.14ms 986tok/s (total 929,390tok)\n",
      "step 92960: loss 12.36 5.85ms 1710tok/s (total 929,590tok)\n",
      "step 92980: loss 7.01 4.53ms 2210tok/s (total 929,790tok)\n",
      "step 93000: loss 0.77 6.10ms 1640tok/s (total 929,990tok)\n",
      "Oh my lord.\n",
      "\n",
      "\n",
      "\n",
      "\n",
      "\n",
      "\n",
      "\n",
      "\n",
      "\n",
      "step 93020: loss 5.34 6.60ms 1516tok/s (total 930,190tok)\n",
      "step 93040: loss 4.61 4.67ms 2143tok/s (total 930,390tok)\n",
      "step 93060: loss 0.34 4.25ms 2352tok/s (total 930,590tok)\n",
      "step 93080: loss 5.26 6.69ms 1495tok/s (total 930,790tok)\n",
      "step 93100: loss 0.22 9.26ms 1080tok/s (total 930,990tok)\n",
      "Oh my lord.\n",
      "\n",
      "\n",
      "\n",
      "\n",
      "\n",
      "\n",
      "\n",
      "\n",
      "\n",
      "step 93120: loss 2.46 5.24ms 1908tok/s (total 931,190tok)\n",
      "step 93140: loss 6.63 3.62ms 2760tok/s (total 931,390tok)\n",
      "step 93160: loss 6.55 5.59ms 1790tok/s (total 931,590tok)\n",
      "step 93180: loss 10.20 12.09ms 827tok/s (total 931,790tok)\n",
      "step 93200: loss 3.62 4.10ms 2437tok/s (total 931,990tok)\n",
      "Oh my lord.\n",
      "\n",
      "\n",
      "\n",
      "\n",
      "\n",
      "\n",
      "\n",
      "\n",
      "\n",
      "step 93220: loss 0.98 10.09ms 991tok/s (total 932,190tok)\n",
      "step 93240: loss 3.68 5.81ms 1720tok/s (total 932,390tok)\n",
      "step 93260: loss 7.35 4.76ms 2102tok/s (total 932,590tok)\n",
      "step 93280: loss 8.47 163.70ms 61tok/s (total 932,790tok)\n",
      "step 93300: loss 2.40 4.74ms 2108tok/s (total 932,990tok)\n",
      "Oh my lord.\n",
      "\n",
      "\n",
      "\n",
      "\n",
      "\n",
      "\n",
      "\n",
      "\n",
      "\n",
      "step 93320: loss 7.79 6.30ms 1588tok/s (total 933,190tok)\n",
      "step 93340: loss 5.42 6.66ms 1500tok/s (total 933,390tok)\n",
      "step 93360: loss 1.58 4.79ms 2087tok/s (total 933,590tok)\n",
      "step 93380: loss 11.53 4.91ms 2038tok/s (total 933,790tok)\n",
      "step 93400: loss 6.68 7.95ms 1257tok/s (total 933,990tok)\n",
      "Oh my lord.\n",
      "\n",
      "\n",
      "\n",
      "\n",
      "\n",
      "\n",
      "\n",
      "\n",
      "\n",
      "step 93420: loss 12.54 4.49ms 2230tok/s (total 934,190tok)\n",
      "step 93440: loss 2.45 5.74ms 1741tok/s (total 934,390tok)\n",
      "step 93460: loss 11.35 5.21ms 1921tok/s (total 934,590tok)\n",
      "step 93480: loss 6.13 5.64ms 1775tok/s (total 934,790tok)\n",
      "step 93500: loss 6.80 6.19ms 1616tok/s (total 934,990tok)\n",
      "Oh my lord.\n",
      "\n",
      "\n",
      "\n",
      "\n",
      "\n",
      "\n",
      "\n",
      "\n",
      "\n",
      "step 93520: loss 5.24 4.52ms 2213tok/s (total 935,190tok)\n",
      "step 93540: loss 8.81 3.80ms 2633tok/s (total 935,390tok)\n",
      "step 93560: loss 7.23 4.43ms 2256tok/s (total 935,590tok)\n",
      "step 93580: loss 9.43 7.93ms 1262tok/s (total 935,790tok)\n",
      "step 93600: loss 5.74 5.84ms 1712tok/s (total 935,990tok)\n",
      "Oh my lord.\n",
      "\n",
      "\n",
      "\n",
      "\n",
      "\n",
      "\n",
      "\n",
      "\n",
      "\n",
      "step 93620: loss 9.76 5.31ms 1883tok/s (total 936,190tok)\n",
      "step 93640: loss 7.14 5.77ms 1733tok/s (total 936,390tok)\n",
      "step 93660: loss 3.85 6.73ms 1485tok/s (total 936,590tok)\n",
      "step 93680: loss 11.61 4.98ms 2008tok/s (total 936,790tok)\n",
      "step 93700: loss 11.94 3.90ms 2563tok/s (total 936,990tok)\n",
      "Oh my lord.\n",
      "\n",
      "\n",
      "\n",
      "\n",
      "\n",
      "\n",
      "\n",
      "\n",
      "\n",
      "step 93720: loss 7.59 4.89ms 2043tok/s (total 937,190tok)\n",
      "step 93740: loss 3.98 7.90ms 1266tok/s (total 937,390tok)\n",
      "step 93760: loss 5.44 4.02ms 2489tok/s (total 937,590tok)\n",
      "step 93780: loss 11.93 4.31ms 2319tok/s (total 937,790tok)\n",
      "step 93800: loss 2.55 4.56ms 2192tok/s (total 937,990tok)\n",
      "Oh my lord.\n",
      "\n",
      "\n",
      "\n",
      "\n",
      "\n",
      "\n",
      "\n",
      "\n",
      "\n",
      "step 93820: loss 5.63 6.65ms 1505tok/s (total 938,190tok)\n",
      "step 93840: loss 4.99 8.71ms 1148tok/s (total 938,390tok)\n",
      "step 93860: loss 9.95 7.57ms 1321tok/s (total 938,590tok)\n",
      "step 93880: loss 7.70 11.93ms 838tok/s (total 938,790tok)\n",
      "step 93900: loss 10.96 15.98ms 626tok/s (total 938,990tok)\n",
      "Oh my lord.\n",
      "\n",
      "\n",
      "\n",
      "\n",
      "\n",
      "\n",
      "\n",
      "\n",
      "\n",
      "step 93920: loss 4.11 11.32ms 883tok/s (total 939,190tok)\n",
      "step 93940: loss 5.87 11.17ms 896tok/s (total 939,390tok)\n",
      "step 93960: loss 13.32 4.55ms 2196tok/s (total 939,590tok)\n",
      "step 93980: loss 2.89 14.38ms 695tok/s (total 939,790tok)\n",
      "step 94000: loss 8.31 10.58ms 946tok/s (total 939,990tok)\n",
      "Oh my lord,\n",
      "KING RARD:,:,:\n",
      "step 94020: loss 6.27 14.40ms 694tok/s (total 940,190tok)\n",
      "step 94040: loss 1.60 11.78ms 849tok/s (total 940,390tok)\n",
      "step 94060: loss 4.22 11.38ms 879tok/s (total 940,590tok)\n",
      "step 94080: loss 1.26 5.64ms 1774tok/s (total 940,790tok)\n",
      "step 94100: loss 6.13 12.61ms 793tok/s (total 940,990tok)\n",
      "Oh my lord.\n",
      "\n",
      "\n",
      "\n",
      "\n",
      "\n",
      "\n",
      "\n",
      "\n",
      "\n",
      "step 94120: loss 3.70 14.55ms 687tok/s (total 941,190tok)\n",
      "step 94140: loss 10.96 6.43ms 1555tok/s (total 941,390tok)\n",
      "step 94160: loss 5.17 13.31ms 751tok/s (total 941,590tok)\n",
      "step 94180: loss 6.08 9.38ms 1066tok/s (total 941,790tok)\n",
      "step 94200: loss 10.35 12.14ms 824tok/s (total 941,990tok)\n",
      "Oh my lord.\n",
      "\n",
      "\n",
      "\n",
      "\n",
      "\n",
      "\n",
      "\n",
      "\n",
      "\n",
      "step 94220: loss 9.14 11.92ms 839tok/s (total 942,190tok)\n",
      "step 94240: loss 8.71 10.00ms 1000tok/s (total 942,390tok)\n",
      "step 94260: loss 8.83 15.87ms 630tok/s (total 942,590tok)\n",
      "step 94280: loss 8.00 5.69ms 1758tok/s (total 942,790tok)\n",
      "step 94300: loss 10.36 12.17ms 822tok/s (total 942,990tok)\n",
      "Oh my lord,,,,,,,,,,\n",
      "step 94320: loss 11.12 15.43ms 648tok/s (total 943,190tok)\n",
      "step 94340: loss 6.66 9.53ms 1050tok/s (total 943,390tok)\n",
      "step 94360: loss 12.15 11.27ms 887tok/s (total 943,590tok)\n",
      "step 94380: loss 5.31 11.33ms 883tok/s (total 943,790tok)\n",
      "step 94400: loss 12.31 29.74ms 336tok/s (total 943,990tok)\n",
      "Oh my lord,\n",
      "'s, that that thou thou thou\n",
      "\n",
      "step 94420: loss 0.31 6.15ms 1627tok/s (total 944,190tok)\n",
      "step 94440: loss 3.11 7.17ms 1395tok/s (total 944,390tok)\n",
      "step 94460: loss 12.22 5.06ms 1975tok/s (total 944,590tok)\n",
      "step 94480: loss 12.19 11.34ms 882tok/s (total 944,790tok)\n",
      "step 94500: loss 0.06 5.06ms 1974tok/s (total 944,990tok)\n",
      "Oh my lord.\n",
      "KING RICHARD:\n",
      "\n",
      "\n",
      "\n",
      "step 94520: loss 0.44 5.96ms 1678tok/s (total 945,190tok)\n",
      "step 94540: loss 11.71 5.38ms 1857tok/s (total 945,390tok)\n",
      "step 94560: loss 0.72 4.86ms 2057tok/s (total 945,590tok)\n",
      "step 94580: loss 7.51 5.87ms 1705tok/s (total 945,790tok)\n",
      "step 94600: loss 2.69 5.65ms 1770tok/s (total 945,990tok)\n",
      "Oh my lord.\n",
      "\n",
      "\n",
      "\n",
      "\n",
      "\n",
      "\n",
      "\n",
      "\n",
      "\n",
      "step 94620: loss 7.89 12.67ms 789tok/s (total 946,190tok)\n",
      "step 94640: loss 7.33 12.01ms 832tok/s (total 946,390tok)\n",
      "step 94660: loss 5.03 5.59ms 1790tok/s (total 946,590tok)\n",
      "step 94680: loss 12.37 6.09ms 1643tok/s (total 946,790tok)\n",
      "step 94700: loss 8.36 6.94ms 1441tok/s (total 946,990tok)\n",
      "Oh my lord,'s,\n",
      "'s,'s,\n",
      "'s\n",
      "step 94720: loss 2.08 9.00ms 1112tok/s (total 947,190tok)\n",
      "step 94740: loss 9.83 8.31ms 1203tok/s (total 947,390tok)\n",
      "step 94760: loss 4.85 142.04ms 70tok/s (total 947,590tok)\n",
      "step 94780: loss 6.50 15.06ms 664tok/s (total 947,790tok)\n",
      "step 94800: loss 6.60 9.59ms 1043tok/s (total 947,990tok)\n",
      "Oh my lord.\n",
      "\n",
      "\n",
      "\n",
      "\n",
      "\n",
      "\n",
      "\n",
      "\n",
      "\n",
      "step 94820: loss 11.03 9.24ms 1082tok/s (total 948,190tok)\n",
      "step 94840: loss 8.18 5.90ms 1694tok/s (total 948,390tok)\n",
      "step 94860: loss 5.34 10.45ms 957tok/s (total 948,590tok)\n",
      "step 94880: loss 6.97 5.56ms 1798tok/s (total 948,790tok)\n",
      "step 94900: loss 11.82 5.79ms 1727tok/s (total 948,990tok)\n",
      "Oh my lord.\n",
      ",DESS:,,,,\n",
      "step 94920: loss 3.70 3.98ms 2510tok/s (total 949,190tok)\n",
      "step 94940: loss 10.45 5.52ms 1811tok/s (total 949,390tok)\n",
      "step 94960: loss 5.37 7.81ms 1281tok/s (total 949,590tok)\n",
      "step 94980: loss 10.70 6.32ms 1581tok/s (total 949,790tok)\n",
      "step 95000: loss 8.02 7.01ms 1426tok/s (total 949,990tok)\n",
      "Oh my lord.\n",
      ",,,\n",
      "DCHESS:\n",
      "step 95020: loss 2.50 5.78ms 1730tok/s (total 950,190tok)\n",
      "step 95040: loss 3.31 5.63ms 1775tok/s (total 950,390tok)\n",
      "step 95060: loss 8.81 6.36ms 1572tok/s (total 950,590tok)\n",
      "step 95080: loss 8.55 4.89ms 2045tok/s (total 950,790tok)\n",
      "step 95100: loss 6.81 5.88ms 1700tok/s (total 950,990tok)\n",
      "Oh my lord.\n",
      "\n",
      "\n",
      "\n",
      "\n",
      "\n",
      "\n",
      "\n",
      "\n",
      "\n",
      "step 95120: loss 10.59 6.97ms 1435tok/s (total 951,190tok)\n",
      "step 95140: loss 4.40 6.14ms 1629tok/s (total 951,390tok)\n",
      "step 95160: loss 6.04 4.95ms 2022tok/s (total 951,590tok)\n",
      "step 95180: loss 12.11 8.26ms 1210tok/s (total 951,790tok)\n",
      "step 95200: loss 9.64 6.24ms 1604tok/s (total 951,990tok)\n",
      "Oh my lord.\n",
      "\n",
      "\n",
      "\n",
      "\n",
      "\n",
      "\n",
      "\n",
      "\n",
      "\n",
      "step 95220: loss 4.67 13.11ms 763tok/s (total 952,190tok)\n",
      "step 95240: loss 6.00 5.99ms 1670tok/s (total 952,390tok)\n",
      "step 95260: loss 7.64 13.75ms 727tok/s (total 952,590tok)\n",
      "step 95280: loss 4.62 7.16ms 1396tok/s (total 952,790tok)\n",
      "step 95300: loss 8.65 7.50ms 1334tok/s (total 952,990tok)\n",
      "Oh my lord.\n",
      "\n",
      "\n",
      "\n",
      "\n",
      "\n",
      "\n",
      "\n",
      "\n",
      "\n",
      "step 95320: loss 7.29 23.95ms 418tok/s (total 953,190tok)\n",
      "step 95340: loss 6.58 5.26ms 1903tok/s (total 953,390tok)\n",
      "step 95360: loss 3.57 4.95ms 2019tok/s (total 953,590tok)\n",
      "step 95380: loss 3.78 7.32ms 1366tok/s (total 953,790tok)\n",
      "step 95400: loss 4.05 7.19ms 1391tok/s (total 953,990tok)\n",
      "Oh my lord,\n",
      ", ofAnd,\n",
      " the of,\n",
      "step 95420: loss 7.26 5.70ms 1756tok/s (total 954,190tok)\n",
      "step 95440: loss 5.99 6.59ms 1518tok/s (total 954,390tok)\n",
      "step 95460: loss 6.87 8.33ms 1201tok/s (total 954,590tok)\n",
      "step 95480: loss 5.99 6.21ms 1610tok/s (total 954,790tok)\n",
      "step 95500: loss 7.91 2.98ms 3359tok/s (total 954,990tok)\n",
      "Oh my lord.\n",
      "\n",
      "\n",
      "\n",
      "\n",
      "\n",
      "\n",
      "\n",
      "\n",
      "\n",
      "step 95520: loss 2.58 21.72ms 460tok/s (total 955,190tok)\n",
      "step 95540: loss 5.19 4.94ms 2024tok/s (total 955,390tok)\n",
      "step 95560: loss 8.57 7.08ms 1412tok/s (total 955,590tok)\n",
      "step 95580: loss 10.34 6.36ms 1571tok/s (total 955,790tok)\n",
      "step 95600: loss 3.10 23.63ms 423tok/s (total 955,990tok)\n",
      "Oh my lord.\n",
      "\n",
      "\n",
      "\n",
      "\n",
      "\n",
      "\n",
      "\n",
      "\n",
      "\n",
      "step 95620: loss 5.92 23.11ms 433tok/s (total 956,190tok)\n",
      "step 95640: loss 7.25 5.34ms 1874tok/s (total 956,390tok)\n",
      "step 95660: loss 12.06 3.87ms 2587tok/s (total 956,590tok)\n",
      "step 95680: loss 6.38 8.65ms 1156tok/s (total 956,790tok)\n",
      "step 95700: loss 1.44 5.55ms 1802tok/s (total 956,990tok)\n",
      "Oh my lord.\n",
      "\n",
      "\n",
      "\n",
      "\n",
      "\n",
      "\n",
      "\n",
      "\n",
      "\n",
      "step 95720: loss 0.01 15.01ms 666tok/s (total 957,190tok)\n",
      "step 95740: loss 5.78 12.24ms 817tok/s (total 957,390tok)\n",
      "step 95760: loss 1.45 12.01ms 833tok/s (total 957,590tok)\n",
      "step 95780: loss 2.21 46.13ms 217tok/s (total 957,790tok)\n",
      "step 95800: loss 5.23 7.83ms 1277tok/s (total 957,990tok)\n",
      "Oh my lord.\n",
      "\n",
      "\n",
      "\n",
      "\n",
      "\n",
      "\n",
      "\n",
      "\n",
      "\n",
      "step 95820: loss 11.51 12.58ms 795tok/s (total 958,190tok)\n",
      "step 95840: loss 4.25 11.70ms 855tok/s (total 958,390tok)\n",
      "step 95860: loss 0.90 3.93ms 2543tok/s (total 958,590tok)\n",
      "step 95880: loss 9.63 67.50ms 148tok/s (total 958,790tok)\n",
      "step 95900: loss 7.01 13.20ms 757tok/s (total 958,990tok)\n",
      "Oh my lord,;\n",
      " I,,,,,,\n",
      "step 95920: loss 5.52 23.49ms 426tok/s (total 959,190tok)\n",
      "step 95940: loss 11.92 9.00ms 1111tok/s (total 959,390tok)\n",
      "step 95960: loss 4.47 8.10ms 1235tok/s (total 959,590tok)\n",
      "step 95980: loss 7.98 11.10ms 901tok/s (total 959,790tok)\n",
      "step 96000: loss 4.34 16.60ms 602tok/s (total 959,990tok)\n",
      "Oh my lord,\n",
      "And the of,\n",
      " M Mow\n",
      "step 96020: loss 4.27 6.40ms 1563tok/s (total 960,190tok)\n",
      "step 96040: loss 3.71 24.25ms 412tok/s (total 960,390tok)\n",
      "step 96060: loss 10.50 4.90ms 2040tok/s (total 960,590tok)\n",
      "step 96080: loss 6.78 5.50ms 1817tok/s (total 960,790tok)\n",
      "step 96100: loss 9.51 5.12ms 1952tok/s (total 960,990tok)\n",
      "Oh my lord.\n",
      "\n",
      "\n",
      "\n",
      "\n",
      "\n",
      "\n",
      "\n",
      "\n",
      "\n",
      "step 96120: loss 13.73 21.10ms 474tok/s (total 961,190tok)\n",
      "step 96140: loss 2.84 4.60ms 2176tok/s (total 961,390tok)\n",
      "step 96160: loss 13.26 5.65ms 1770tok/s (total 961,590tok)\n",
      "step 96180: loss 8.39 5.45ms 1836tok/s (total 961,790tok)\n",
      "step 96200: loss 7.98 7.28ms 1374tok/s (total 961,990tok)\n",
      "Oh my lord,\n",
      " of\n",
      " RICHARD:\n",
      "\n",
      "\n",
      "step 96220: loss 6.94 16.55ms 604tok/s (total 962,190tok)\n",
      "step 96240: loss 10.32 4.67ms 2143tok/s (total 962,390tok)\n",
      "step 96260: loss 4.71 4.96ms 2017tok/s (total 962,590tok)\n",
      "step 96280: loss 9.64 24.23ms 413tok/s (total 962,790tok)\n",
      "step 96300: loss 2.77 14.98ms 668tok/s (total 962,990tok)\n",
      "Oh my lord.\n",
      "\n",
      "\n",
      "\n",
      "\n",
      "\n",
      "\n",
      "\n",
      "\n",
      "\n",
      "step 96320: loss 2.90 11.84ms 845tok/s (total 963,190tok)\n",
      "step 96340: loss 0.13 5.22ms 1917tok/s (total 963,390tok)\n",
      "step 96360: loss 7.76 8.35ms 1197tok/s (total 963,590tok)\n",
      "step 96380: loss 4.86 9.45ms 1059tok/s (total 963,790tok)\n",
      "step 96400: loss 5.60 6.80ms 1471tok/s (total 963,990tok)\n",
      "Oh my lord,\n",
      " of, and\n",
      "\n",
      "\n",
      "\n",
      "\n",
      "\n",
      "step 96420: loss 6.47 5.05ms 1981tok/s (total 964,190tok)\n",
      "step 96440: loss 7.68 9.79ms 1022tok/s (total 964,390tok)\n",
      "step 96460: loss 3.68 5.69ms 1757tok/s (total 964,590tok)\n",
      "step 96480: loss 1.26 5.81ms 1723tok/s (total 964,790tok)\n",
      "step 96500: loss 5.55 10.17ms 984tok/s (total 964,990tok)\n",
      "Oh my lord,\n",
      " of, and, and\n",
      "To to\n",
      "step 96520: loss 2.61 6.84ms 1462tok/s (total 965,190tok)\n",
      "step 96540: loss 7.36 7.08ms 1412tok/s (total 965,390tok)\n",
      "step 96560: loss 2.78 4.13ms 2419tok/s (total 965,590tok)\n",
      "step 96580: loss 9.34 2.35ms 4264tok/s (total 965,790tok)\n",
      "step 96600: loss 11.69 19.24ms 520tok/s (total 965,990tok)\n",
      "Oh my lord.\n",
      "\n",
      "\n",
      "\n",
      "\n",
      "\n",
      "\n",
      "\n",
      "\n",
      "\n",
      "step 96620: loss 5.51 23.25ms 430tok/s (total 966,190tok)\n",
      "step 96640: loss 9.30 5.20ms 1924tok/s (total 966,390tok)\n",
      "step 96660: loss 2.51 5.75ms 1739tok/s (total 966,590tok)\n",
      "step 96680: loss 10.26 7.70ms 1298tok/s (total 966,790tok)\n",
      "step 96700: loss 11.21 6.43ms 1556tok/s (total 966,990tok)\n",
      "Oh my lord\n",
      ",And the\n",
      " of:\n",
      "\n",
      "\n",
      "\n",
      "step 96720: loss 9.23 6.32ms 1581tok/s (total 967,190tok)\n",
      "step 96740: loss 12.01 8.89ms 1125tok/s (total 967,390tok)\n",
      "step 96760: loss 6.38 24.71ms 405tok/s (total 967,590tok)\n",
      "step 96780: loss 4.33 7.66ms 1305tok/s (total 967,790tok)\n",
      "step 96800: loss 4.80 5.75ms 1739tok/s (total 967,990tok)\n",
      "Oh my lord,\n",
      "And of,,, our,,\n",
      "step 96820: loss 3.12 5.81ms 1721tok/s (total 968,190tok)\n",
      "step 96840: loss 6.83 4.13ms 2422tok/s (total 968,390tok)\n",
      "step 96860: loss 0.08 4.75ms 2107tok/s (total 968,590tok)\n",
      "step 96880: loss 8.83 13.80ms 725tok/s (total 968,790tok)\n",
      "step 96900: loss 9.83 8.86ms 1129tok/s (total 968,990tok)\n",
      "Oh my lord\n",
      "KING RICHARD:\n",
      ",\n",
      ",\n",
      "step 96920: loss 6.55 7.28ms 1373tok/s (total 969,190tok)\n",
      "step 96940: loss 9.14 14.96ms 668tok/s (total 969,390tok)\n",
      "step 96960: loss 1.86 5.51ms 1815tok/s (total 969,590tok)\n",
      "step 96980: loss 5.37 7.21ms 1388tok/s (total 969,790tok)\n",
      "step 97000: loss 6.42 8.69ms 1151tok/s (total 969,990tok)\n",
      "Oh my lord,\n",
      "And:\n",
      ",\n",
      "The of\n",
      "\n",
      "step 97020: loss 3.09 7.33ms 1363tok/s (total 970,190tok)\n",
      "step 97040: loss 12.05 4.64ms 2154tok/s (total 970,390tok)\n",
      "step 97060: loss 13.03 5.58ms 1793tok/s (total 970,590tok)\n",
      "step 97080: loss 2.37 8.96ms 1116tok/s (total 970,790tok)\n",
      "step 97100: loss 4.88 8.09ms 1235tok/s (total 970,990tok)\n",
      "Oh my lord,\n",
      "And:\n",
      " I,\n",
      "The,\n",
      "step 97120: loss 4.48 22.67ms 441tok/s (total 971,190tok)\n",
      "step 97140: loss 6.34 7.04ms 1419tok/s (total 971,390tok)\n",
      "step 97160: loss 5.08 16.71ms 598tok/s (total 971,590tok)\n",
      "step 97180: loss 6.00 4.29ms 2330tok/s (total 971,790tok)\n",
      "step 97200: loss 12.74 7.69ms 1300tok/s (total 971,990tok)\n",
      "Oh my lord,\n",
      "KING RARDICH:\n",
      "\n",
      "\n",
      "\n",
      "step 97220: loss 4.88 5.97ms 1675tok/s (total 972,190tok)\n",
      "step 97240: loss 5.00 14.44ms 692tok/s (total 972,390tok)\n",
      "step 97260: loss 2.77 16.63ms 601tok/s (total 972,590tok)\n",
      "step 97280: loss 0.15 21.80ms 459tok/s (total 972,790tok)\n",
      "step 97300: loss 9.75 22.83ms 438tok/s (total 972,990tok)\n",
      "Oh my lord;\n",
      "KING RICHARDARD:\n",
      ",\n",
      "step 97320: loss 4.58 7.62ms 1312tok/s (total 973,190tok)\n",
      "step 97340: loss 6.79 4.66ms 2148tok/s (total 973,390tok)\n",
      "step 97360: loss 4.44 7.63ms 1310tok/s (total 973,590tok)\n",
      "step 97380: loss 3.31 5.82ms 1719tok/s (total 973,790tok)\n",
      "step 97400: loss 6.08 4.77ms 2097tok/s (total 973,990tok)\n",
      "Oh my lord,;\n",
      "And, our, our, our\n",
      "step 97420: loss 2.41 14.48ms 691tok/s (total 974,190tok)\n",
      "step 97440: loss 5.05 8.78ms 1139tok/s (total 974,390tok)\n",
      "step 97460: loss 5.59 11.13ms 899tok/s (total 974,590tok)\n",
      "step 97480: loss 5.87 4.01ms 2491tok/s (total 974,790tok)\n",
      "step 97500: loss 5.82 4.06ms 2462tok/s (total 974,990tok)\n",
      "Oh my lord,;\n",
      "And I, to our our\n",
      "\n",
      "step 97520: loss 6.04 5.57ms 1797tok/s (total 975,190tok)\n",
      "step 97540: loss 8.71 14.80ms 676tok/s (total 975,390tok)\n",
      "step 97560: loss 2.36 8.71ms 1148tok/s (total 975,590tok)\n",
      "step 97580: loss 9.59 9.21ms 1086tok/s (total 975,790tok)\n",
      "step 97600: loss 6.37 14.23ms 703tok/s (total 975,990tok)\n",
      "Oh my lord,;\n",
      "And I from from from the of\n",
      "step 97620: loss 4.55 8.26ms 1211tok/s (total 976,190tok)\n",
      "step 97640: loss 14.02 4.31ms 2320tok/s (total 976,390tok)\n",
      "step 97660: loss 0.19 11.84ms 845tok/s (total 976,590tok)\n",
      "step 97680: loss 12.46 8.08ms 1237tok/s (total 976,790tok)\n",
      "step 97700: loss 8.39 16.39ms 610tok/s (total 976,990tok)\n",
      "Oh my lord;\n",
      "And I, the of\n",
      "'d the\n",
      "step 97720: loss 1.39 8.72ms 1146tok/s (total 977,190tok)\n",
      "step 97740: loss 7.97 7.94ms 1259tok/s (total 977,390tok)\n",
      "step 97760: loss 5.69 3.33ms 3006tok/s (total 977,590tok)\n",
      "step 97780: loss 3.45 6.80ms 1471tok/s (total 977,790tok)\n",
      "step 97800: loss 7.59 3.99ms 2503tok/s (total 977,990tok)\n",
      "Oh my lord;\n",
      "And of\n",
      "'d in the of of\n",
      "step 97820: loss 1.71 5.66ms 1767tok/s (total 978,190tok)\n",
      "step 97840: loss 8.08 5.70ms 1754tok/s (total 978,390tok)\n",
      "step 97860: loss 12.05 7.97ms 1255tok/s (total 978,590tok)\n",
      "step 97880: loss 0.65 6.27ms 1596tok/s (total 978,790tok)\n",
      "step 97900: loss 5.79 5.41ms 1848tok/s (total 978,990tok)\n",
      "Oh my lord.\n",
      "\n",
      "\n",
      "\n",
      "\n",
      "\n",
      "\n",
      "\n",
      "\n",
      "\n",
      "step 97920: loss 0.55 3.83ms 2612tok/s (total 979,190tok)\n",
      "step 97940: loss 4.43 7.78ms 1286tok/s (total 979,390tok)\n",
      "step 97960: loss 4.92 6.53ms 1533tok/s (total 979,590tok)\n",
      "step 97980: loss 7.24 4.70ms 2127tok/s (total 979,790tok)\n",
      "step 98000: loss 0.07 4.73ms 2115tok/s (total 979,990tok)\n",
      "Oh my lord,;\n",
      "But\n",
      "KING RICHARD:\n",
      "step 98020: loss 5.30 7.11ms 1406tok/s (total 980,190tok)\n",
      "step 98040: loss 7.14 9.27ms 1079tok/s (total 980,390tok)\n",
      "step 98060: loss 4.97 6.02ms 1662tok/s (total 980,590tok)\n",
      "step 98080: loss 7.00 7.09ms 1410tok/s (total 980,790tok)\n",
      "step 98100: loss 5.90 4.81ms 2079tok/s (total 980,990tok)\n",
      "Oh my lord,;\n",
      "And I\n",
      " me with a,\n",
      "step 98120: loss 4.52 4.97ms 2013tok/s (total 981,190tok)\n",
      "step 98140: loss 7.38 11.52ms 868tok/s (total 981,390tok)\n",
      "step 98160: loss 3.84 4.87ms 2054tok/s (total 981,590tok)\n",
      "step 98180: loss 0.56 4.66ms 2146tok/s (total 981,790tok)\n",
      "step 98200: loss 5.27 25.85ms 387tok/s (total 981,990tok)\n",
      "Oh my lord,;\n",
      "And I, to you have my\n",
      "step 98220: loss 2.47 47.60ms 210tok/s (total 982,190tok)\n",
      "step 98240: loss 10.91 11.48ms 871tok/s (total 982,390tok)\n",
      "step 98260: loss 16.22 9.58ms 1044tok/s (total 982,590tok)\n",
      "step 98280: loss 2.91 5.00ms 1999tok/s (total 982,790tok)\n",
      "step 98300: loss 5.97 8.11ms 1233tok/s (total 982,990tok)\n",
      "Oh my lord,;\n",
      " I will\n",
      "KING RICHARD\n",
      "step 98320: loss 0.05 8.20ms 1220tok/s (total 983,190tok)\n",
      "step 98340: loss 10.86 7.82ms 1278tok/s (total 983,390tok)\n",
      "step 98360: loss 2.44 6.13ms 1632tok/s (total 983,590tok)\n",
      "step 98380: loss 2.29 4.91ms 2036tok/s (total 983,790tok)\n",
      "step 98400: loss 3.16 6.65ms 1504tok/s (total 983,990tok)\n",
      "Oh my lord.\n",
      "\n",
      "\n",
      "\n",
      "\n",
      "\n",
      "\n",
      "\n",
      "\n",
      "\n",
      "step 98420: loss 0.57 8.54ms 1171tok/s (total 984,190tok)\n",
      "step 98440: loss 11.49 7.80ms 1283tok/s (total 984,390tok)\n",
      "step 98460: loss 5.03 7.90ms 1266tok/s (total 984,590tok)\n",
      "step 98480: loss 6.53 11.60ms 862tok/s (total 984,790tok)\n",
      "step 98500: loss 1.71 6.28ms 1593tok/s (total 984,990tok)\n",
      "Oh my lord.\n",
      "\n",
      "\n",
      "\n",
      "\n",
      "\n",
      "\n",
      "\n",
      "\n",
      "\n",
      "step 98520: loss 11.68 12.91ms 775tok/s (total 985,190tok)\n",
      "step 98540: loss 2.46 6.49ms 1540tok/s (total 985,390tok)\n",
      "step 98560: loss 4.91 11.87ms 842tok/s (total 985,590tok)\n",
      "step 98580: loss 6.01 7.92ms 1263tok/s (total 985,790tok)\n",
      "step 98600: loss 11.47 8.75ms 1142tok/s (total 985,990tok)\n",
      "Oh my lord,\n",
      " ITo.\n",
      "ENOLHING\n",
      "step 98620: loss 1.44 7.32ms 1366tok/s (total 986,190tok)\n",
      "step 98640: loss 12.59 7.37ms 1358tok/s (total 986,390tok)\n",
      "step 98660: loss 11.41 6.51ms 1536tok/s (total 986,590tok)\n",
      "step 98680: loss 5.83 6.74ms 1485tok/s (total 986,790tok)\n",
      "step 98700: loss 7.36 6.92ms 1444tok/s (total 986,990tok)\n",
      "Oh my lord,., I.\n",
      "\n",
      "\n",
      "\n",
      "\n",
      "\n",
      "step 98720: loss 11.22 6.12ms 1634tok/s (total 987,190tok)\n",
      "step 98740: loss 1.60 13.88ms 721tok/s (total 987,390tok)\n",
      "step 98760: loss 2.81 11.49ms 870tok/s (total 987,590tok)\n",
      "step 98780: loss 4.89 5.89ms 1697tok/s (total 987,790tok)\n",
      "step 98800: loss 6.21 7.04ms 1420tok/s (total 987,990tok)\n",
      "Oh my lord,\n",
      "And I, the, the king king\n",
      "step 98820: loss 13.89 7.30ms 1369tok/s (total 988,190tok)\n",
      "step 98840: loss 0.73 14.93ms 670tok/s (total 988,390tok)\n",
      "step 98860: loss 7.05 4.80ms 2082tok/s (total 988,590tok)\n",
      "step 98880: loss 2.77 5.84ms 1712tok/s (total 988,790tok)\n",
      "step 98900: loss 1.13 6.08ms 1644tok/s (total 988,990tok)\n",
      "Oh my lord,\n",
      "\n",
      "\n",
      "\n",
      "\n",
      "\n",
      "\n",
      "\n",
      "\n",
      "\n",
      "step 98920: loss 5.62 6.56ms 1524tok/s (total 989,190tok)\n",
      "step 98940: loss 4.38 7.13ms 1402tok/s (total 989,390tok)\n",
      "step 98960: loss 1.72 7.58ms 1319tok/s (total 989,590tok)\n",
      "step 98980: loss 4.20 5.82ms 1718tok/s (total 989,790tok)\n",
      "step 99000: loss 8.11 12.11ms 826tok/s (total 989,990tok)\n",
      "Oh my lord, I.\n",
      "\n",
      "\n",
      "\n",
      "\n",
      "\n",
      "\n",
      "\n",
      "step 99020: loss 4.30 9.01ms 1109tok/s (total 990,190tok)\n",
      "step 99040: loss 5.71 4.97ms 2013tok/s (total 990,390tok)\n",
      "step 99060: loss 5.16 6.31ms 1586tok/s (total 990,590tok)\n",
      "step 99080: loss 6.33 6.84ms 1462tok/s (total 990,790tok)\n",
      "step 99100: loss 6.72 4.81ms 2078tok/s (total 990,990tok)\n",
      "Oh my lord,;\n",
      " IAnd, I not will,\n",
      "step 99120: loss 3.01 6.52ms 1533tok/s (total 991,190tok)\n",
      "step 99140: loss 1.23 4.65ms 2150tok/s (total 991,390tok)\n",
      "step 99160: loss 6.29 5.23ms 1913tok/s (total 991,590tok)\n",
      "step 99180: loss 10.00 6.31ms 1586tok/s (total 991,790tok)\n",
      "step 99200: loss 0.20 6.66ms 1502tok/s (total 991,990tok)\n",
      "Oh my lord,\n",
      "KING RICHARDARD:,:\n",
      "step 99220: loss 2.15 5.59ms 1789tok/s (total 992,190tok)\n",
      "step 99240: loss 12.88 4.70ms 2127tok/s (total 992,390tok)\n",
      "step 99260: loss 5.14 6.08ms 1645tok/s (total 992,590tok)\n",
      "step 99280: loss 4.93 5.41ms 1849tok/s (total 992,790tok)\n",
      "step 99300: loss 3.66 7.51ms 1332tok/s (total 992,990tok)\n",
      "Oh my lord,\n",
      "And the of\n",
      "And'd, the\n",
      "step 99320: loss 5.65 5.03ms 1989tok/s (total 993,190tok)\n",
      "step 99340: loss 4.43 5.40ms 1851tok/s (total 993,390tok)\n",
      "step 99360: loss 11.78 4.08ms 2452tok/s (total 993,590tok)\n",
      "step 99380: loss 1.99 4.74ms 2111tok/s (total 993,790tok)\n",
      "step 99400: loss 9.14 5.33ms 1875tok/s (total 993,990tok)\n",
      "Oh my lord,;\n",
      "And I to, you have me\n",
      "step 99420: loss 12.39 5.41ms 1847tok/s (total 994,190tok)\n",
      "step 99440: loss 5.86 4.92ms 2033tok/s (total 994,390tok)\n",
      "step 99460: loss 12.25 5.68ms 1761tok/s (total 994,590tok)\n",
      "step 99480: loss 6.62 5.69ms 1758tok/s (total 994,790tok)\n",
      "step 99500: loss 6.63 4.95ms 2019tok/s (total 994,990tok)\n",
      "Oh my lord,;\n",
      "And, my, the of\n",
      "\n",
      "step 99520: loss 9.25 6.24ms 1601tok/s (total 995,190tok)\n",
      "step 99540: loss 10.14 8.17ms 1224tok/s (total 995,390tok)\n",
      "step 99560: loss 8.37 4.85ms 2063tok/s (total 995,590tok)\n",
      "step 99580: loss 6.68 4.98ms 2008tok/s (total 995,790tok)\n",
      "step 99600: loss 9.42 10.93ms 915tok/s (total 995,990tok)\n",
      "Oh my lord,;\n",
      "\n",
      "\n",
      "\n",
      "\n",
      "\n",
      "\n",
      "\n",
      "\n",
      "step 99620: loss 11.67 5.13ms 1951tok/s (total 996,190tok)\n",
      "step 99640: loss 0.35 5.76ms 1735tok/s (total 996,390tok)\n",
      "step 99660: loss 0.36 5.17ms 1935tok/s (total 996,590tok)\n",
      "step 99680: loss 4.96 4.61ms 2171tok/s (total 996,790tok)\n",
      "step 99700: loss 4.33 5.24ms 1907tok/s (total 996,990tok)\n",
      "Oh my lord,;\n",
      "And,\n",
      " shall\n",
      "And,\n",
      "step 99720: loss 5.43 13.90ms 719tok/s (total 997,190tok)\n",
      "step 99740: loss 2.63 7.08ms 1413tok/s (total 997,390tok)\n",
      "step 99760: loss 0.83 6.14ms 1629tok/s (total 997,590tok)\n",
      "step 99780: loss 8.22 8.50ms 1177tok/s (total 997,790tok)\n",
      "step 99800: loss 4.62 15.03ms 665tok/s (total 997,990tok)\n",
      "Oh my lord,;\n",
      "\n",
      "\n",
      "\n",
      "\n",
      "\n",
      "\n",
      "\n",
      "\n",
      "step 99820: loss 6.86 16.18ms 618tok/s (total 998,190tok)\n",
      "step 99840: loss 5.40 21.67ms 461tok/s (total 998,390tok)\n",
      "step 99860: loss 6.73 5.46ms 1830tok/s (total 998,590tok)\n",
      "step 99880: loss 4.67 6.32ms 1582tok/s (total 998,790tok)\n",
      "step 99900: loss 1.80 6.28ms 1592tok/s (total 998,990tok)\n",
      "Oh my lord,\n",
      ":,;\n",
      "DU OF\n",
      "\n",
      "step 99920: loss 6.10 14.19ms 705tok/s (total 999,190tok)\n",
      "step 99940: loss 5.61 9.94ms 1006tok/s (total 999,390tok)\n",
      "step 99960: loss 10.60 132.52ms 75tok/s (total 999,590tok)\n",
      "step 99980: loss 1.81 10.49ms 953tok/s (total 999,790tok)\n",
      "step 100000: loss 6.40 9.08ms 1101tok/s (total 999,990tok)\n",
      "Oh my lord,;\n",
      "\n",
      "\n",
      "\n",
      "\n",
      "\n",
      "\n",
      "\n",
      "\n",
      "step 100020: loss 6.51 5.29ms 1889tok/s (total 1,000,190tok)\n",
      "step 100040: loss 6.18 5.35ms 1871tok/s (total 1,000,390tok)\n",
      "step 100060: loss 6.60 7.53ms 1329tok/s (total 1,000,590tok)\n",
      "step 100080: loss 2.03 7.35ms 1360tok/s (total 1,000,790tok)\n",
      "step 100100: loss 4.34 4.85ms 2063tok/s (total 1,000,990tok)\n",
      "Oh my lord,;\n",
      "For, the's is and,\n",
      "step 100120: loss 0.30 7.17ms 1394tok/s (total 1,001,190tok)\n",
      "step 100140: loss 4.14 4.85ms 2061tok/s (total 1,001,390tok)\n",
      "step 100160: loss 2.45 6.24ms 1602tok/s (total 1,001,590tok)\n",
      "step 100180: loss 11.07 5.05ms 1980tok/s (total 1,001,790tok)\n",
      "step 100200: loss 8.91 6.07ms 1646tok/s (total 1,001,990tok)\n",
      "Oh my lord,;\n",
      " the ofThe of\n",
      "'sThe\n",
      "step 100220: loss 4.84 5.74ms 1741tok/s (total 1,002,190tok)\n",
      "step 100240: loss 6.52 5.86ms 1705tok/s (total 1,002,390tok)\n",
      "step 100260: loss 4.69 5.55ms 1802tok/s (total 1,002,590tok)\n",
      "step 100280: loss 5.54 4.59ms 2180tok/s (total 1,002,790tok)\n",
      "step 100300: loss 5.24 5.21ms 1919tok/s (total 1,002,990tok)\n",
      "Oh my lord,\n",
      ";\n",
      "D OF of\n",
      " OFUN\n",
      "step 100320: loss 6.94 8.36ms 1197tok/s (total 1,003,190tok)\n",
      "step 100340: loss 8.58 8.78ms 1139tok/s (total 1,003,390tok)\n",
      "step 100360: loss 2.29 5.78ms 1731tok/s (total 1,003,590tok)\n",
      "step 100380: loss 0.57 4.59ms 2181tok/s (total 1,003,790tok)\n",
      "step 100400: loss 5.71 11.34ms 882tok/s (total 1,003,990tok)\n",
      "Oh my lord,,,,,,,,,,\n",
      "step 100420: loss 0.29 16.91ms 591tok/s (total 1,004,190tok)\n",
      "step 100440: loss 2.25 22.18ms 451tok/s (total 1,004,390tok)\n",
      "step 100460: loss 3.12 4.13ms 2418tok/s (total 1,004,590tok)\n",
      "step 100480: loss 14.89 5.64ms 1773tok/s (total 1,004,790tok)\n",
      "step 100500: loss 12.18 28.32ms 353tok/s (total 1,004,990tok)\n",
      "Oh my lord,,,,,,,,,,\n",
      "step 100520: loss 5.27 5.18ms 1929tok/s (total 1,005,190tok)\n",
      "step 100540: loss 11.98 4.40ms 2273tok/s (total 1,005,390tok)\n",
      "step 100560: loss 8.66 6.87ms 1456tok/s (total 1,005,590tok)\n",
      "step 100580: loss 4.66 5.21ms 1920tok/s (total 1,005,790tok)\n",
      "step 100600: loss 6.69 19.34ms 517tok/s (total 1,005,990tok)\n",
      "Oh my lord,\n",
      ", the of\n",
      "This,\n",
      "This\n",
      "step 100620: loss 8.80 7.54ms 1327tok/s (total 1,006,190tok)\n",
      "step 100640: loss 5.78 18.37ms 544tok/s (total 1,006,390tok)\n",
      "step 100660: loss 12.76 15.37ms 651tok/s (total 1,006,590tok)\n",
      "step 100680: loss 1.73 21.03ms 476tok/s (total 1,006,790tok)\n",
      "step 100700: loss 8.07 6.89ms 1451tok/s (total 1,006,990tok)\n",
      "Oh my lord,\n",
      "This, with\n",
      "This of this,\n",
      "step 100720: loss 7.81 9.73ms 1028tok/s (total 1,007,190tok)\n",
      "step 100740: loss 11.80 4.77ms 2097tok/s (total 1,007,390tok)\n",
      "step 100760: loss 11.84 5.12ms 1954tok/s (total 1,007,590tok)\n",
      "step 100780: loss 10.36 68.67ms 146tok/s (total 1,007,790tok)\n",
      "step 100800: loss 11.09 6.68ms 1498tok/s (total 1,007,990tok)\n",
      "Oh my lord,;\n",
      "For\n",
      "For is in that the\n",
      "step 100820: loss 7.50 6.97ms 1434tok/s (total 1,008,190tok)\n",
      "step 100840: loss 4.20 4.94ms 2022tok/s (total 1,008,390tok)\n",
      "step 100860: loss 5.75 6.41ms 1559tok/s (total 1,008,590tok)\n",
      "step 100880: loss 8.56 4.58ms 2183tok/s (total 1,008,790tok)\n",
      "step 100900: loss 4.62 9.64ms 1037tok/s (total 1,008,990tok)\n",
      "Oh my lord,;\n",
      " IAnd, my's, I\n",
      "step 100920: loss 9.72 9.00ms 1111tok/s (total 1,009,190tok)\n",
      "step 100940: loss 2.42 12.48ms 802tok/s (total 1,009,390tok)\n",
      "step 100960: loss 5.48 5.66ms 1767tok/s (total 1,009,590tok)\n",
      "step 100980: loss 2.86 8.78ms 1139tok/s (total 1,009,790tok)\n",
      "step 101000: loss 2.56 5.95ms 1680tok/s (total 1,009,990tok)\n",
      "Oh my lord,,,,,,,,,,\n",
      "step 101020: loss 2.06 9.63ms 1039tok/s (total 1,010,190tok)\n",
      "step 101040: loss 1.63 3.84ms 2606tok/s (total 1,010,390tok)\n",
      "step 101060: loss 1.76 5.96ms 1677tok/s (total 1,010,590tok)\n",
      "step 101080: loss 3.16 8.98ms 1114tok/s (total 1,010,790tok)\n",
      "step 101100: loss 4.00 10.90ms 917tok/s (total 1,010,990tok)\n",
      "Oh my lord,., I;, thee.\n",
      "\n",
      "\n",
      "step 101120: loss 5.53 4.02ms 2484tok/s (total 1,011,190tok)\n",
      "step 101140: loss 5.58 7.94ms 1259tok/s (total 1,011,390tok)\n",
      "step 101160: loss 5.66 4.87ms 2054tok/s (total 1,011,590tok)\n",
      "step 101180: loss 2.86 6.21ms 1610tok/s (total 1,011,790tok)\n",
      "step 101200: loss 4.80 12.68ms 788tok/s (total 1,011,990tok)\n",
      "Oh my lord,;\n",
      "And, I, thee thy,\n",
      "step 101220: loss 7.60 7.96ms 1256tok/s (total 1,012,190tok)\n",
      "step 101240: loss 1.32 3.95ms 2529tok/s (total 1,012,390tok)\n",
      "step 101260: loss 3.18 21.37ms 468tok/s (total 1,012,590tok)\n",
      "step 101280: loss 6.38 6.29ms 1589tok/s (total 1,012,790tok)\n",
      "step 101300: loss 4.15 9.35ms 1070tok/s (total 1,012,990tok)\n",
      "Oh my lord,;\n",
      " I toAnd, thee thy,\n",
      "step 101320: loss 13.01 15.58ms 642tok/s (total 1,013,190tok)\n",
      "step 101340: loss 11.94 10.24ms 977tok/s (total 1,013,390tok)\n",
      "step 101360: loss 5.43 14.28ms 700tok/s (total 1,013,590tok)\n",
      "step 101380: loss 10.93 14.02ms 713tok/s (total 1,013,790tok)\n",
      "step 101400: loss 3.10 15.49ms 646tok/s (total 1,013,990tok)\n",
      "Oh my lord,;\n",
      "\n",
      "\n",
      "\n",
      "\n",
      "\n",
      "\n",
      "\n",
      "\n",
      "step 101420: loss 5.03 21.36ms 468tok/s (total 1,014,190tok)\n",
      "step 101440: loss 10.73 11.60ms 862tok/s (total 1,014,390tok)\n",
      "step 101460: loss 3.47 15.64ms 640tok/s (total 1,014,590tok)\n",
      "step 101480: loss 10.76 14.67ms 682tok/s (total 1,014,790tok)\n",
      "step 101500: loss 7.45 15.33ms 652tok/s (total 1,014,990tok)\n",
      "Oh my lord,;\n",
      ", I,\n",
      "ForFor,\n",
      "step 101520: loss 5.20 12.91ms 775tok/s (total 1,015,190tok)\n",
      "step 101540: loss 5.40 10.18ms 983tok/s (total 1,015,390tok)\n",
      "step 101560: loss 6.88 12.80ms 781tok/s (total 1,015,590tok)\n",
      "step 101580: loss 7.76 13.04ms 767tok/s (total 1,015,790tok)\n",
      "step 101600: loss 0.53 15.31ms 653tok/s (total 1,015,990tok)\n",
      "Oh my lord,!\n",
      "\n",
      "\n",
      "\n",
      "\n",
      "\n",
      "\n",
      "\n",
      "\n",
      "step 101620: loss 5.29 14.13ms 708tok/s (total 1,016,190tok)\n",
      "step 101640: loss 9.57 15.45ms 647tok/s (total 1,016,390tok)\n",
      "step 101660: loss 2.24 14.44ms 693tok/s (total 1,016,590tok)\n",
      "step 101680: loss 2.30 11.89ms 841tok/s (total 1,016,790tok)\n",
      "step 101700: loss 5.09 18.54ms 539tok/s (total 1,016,990tok)\n",
      "Oh my lord,:\n",
      ", and I have\n",
      "And,\n",
      "step 101720: loss 9.61 21.44ms 466tok/s (total 1,017,190tok)\n",
      "step 101740: loss 2.67 20.72ms 483tok/s (total 1,017,390tok)\n",
      "step 101760: loss 6.90 21.25ms 471tok/s (total 1,017,590tok)\n",
      "step 101780: loss 14.52 21.84ms 458tok/s (total 1,017,790tok)\n",
      "step 101800: loss 11.92 21.71ms 461tok/s (total 1,017,990tok)\n",
      "Oh my lord;\n",
      ",\n",
      "KING RICHARD:\n",
      "\n",
      "step 101820: loss 0.79 20.73ms 482tok/s (total 1,018,190tok)\n",
      "step 101840: loss 10.82 21.42ms 467tok/s (total 1,018,390tok)\n",
      "step 101860: loss 11.10 21.81ms 459tok/s (total 1,018,590tok)\n",
      "step 101880: loss 8.38 21.72ms 460tok/s (total 1,018,790tok)\n",
      "step 101900: loss 11.31 22.33ms 448tok/s (total 1,018,990tok)\n",
      "Oh my lord;\n",
      ", and be.\n",
      "KING RICH\n",
      "step 101920: loss 3.79 21.51ms 465tok/s (total 1,019,190tok)\n",
      "step 101940: loss 6.80 21.64ms 462tok/s (total 1,019,390tok)\n",
      "step 101960: loss 7.75 22.34ms 448tok/s (total 1,019,590tok)\n",
      "step 101980: loss 5.81 21.59ms 463tok/s (total 1,019,790tok)\n",
      "step 102000: loss 8.21 20.93ms 478tok/s (total 1,019,990tok)\n",
      "Oh my lord,.,.\n",
      "\n",
      "\n",
      "\n",
      "\n",
      "\n",
      "\n",
      "step 102020: loss 6.46 21.28ms 470tok/s (total 1,020,190tok)\n",
      "step 102040: loss 2.70 21.58ms 463tok/s (total 1,020,390tok)\n",
      "step 102060: loss 10.47 21.68ms 461tok/s (total 1,020,590tok)\n",
      "step 102080: loss 6.35 21.53ms 464tok/s (total 1,020,790tok)\n",
      "step 102100: loss 10.15 21.51ms 465tok/s (total 1,020,990tok)\n",
      "Oh my lord,'s,\n",
      "'s,'s,,,\n",
      "step 102120: loss 6.06 21.41ms 467tok/s (total 1,021,190tok)\n",
      "step 102140: loss 4.98 7.15ms 1399tok/s (total 1,021,390tok)\n",
      "step 102160: loss 1.14 8.16ms 1226tok/s (total 1,021,590tok)\n",
      "step 102180: loss 5.91 6.40ms 1563tok/s (total 1,021,790tok)\n",
      "step 102200: loss 3.16 6.21ms 1611tok/s (total 1,021,990tok)\n",
      "Oh my lord;\n",
      ",\n",
      "DUKEKEKEKE\n",
      "step 102220: loss 4.37 6.64ms 1507tok/s (total 1,022,190tok)\n",
      "step 102240: loss 0.30 7.38ms 1356tok/s (total 1,022,390tok)\n",
      "step 102260: loss 6.64 6.91ms 1448tok/s (total 1,022,590tok)\n",
      "step 102280: loss 6.07 5.19ms 1926tok/s (total 1,022,790tok)\n",
      "step 102300: loss 8.14 4.59ms 2178tok/s (total 1,022,990tok)\n",
      "Oh my lord,;\n",
      ", I, you to you,\n",
      "step 102320: loss 8.31 12.35ms 810tok/s (total 1,023,190tok)\n",
      "step 102340: loss 10.15 7.40ms 1350tok/s (total 1,023,390tok)\n",
      "step 102360: loss 7.99 8.89ms 1125tok/s (total 1,023,590tok)\n",
      "step 102380: loss 11.35 10.42ms 960tok/s (total 1,023,790tok)\n",
      "step 102400: loss 0.63 16.60ms 603tok/s (total 1,023,990tok)\n",
      "Oh my lord;\n",
      ", and not to and\n",
      " not to\n",
      "step 102420: loss 1.44 21.13ms 473tok/s (total 1,024,190tok)\n",
      "step 102440: loss 3.13 21.35ms 468tok/s (total 1,024,390tok)\n",
      "step 102460: loss 12.01 20.64ms 485tok/s (total 1,024,590tok)\n",
      "step 102480: loss 6.49 20.73ms 482tok/s (total 1,024,790tok)\n",
      "step 102500: loss 2.83 20.76ms 482tok/s (total 1,024,990tok)\n",
      "Oh my lord,\n",
      "KING RARDICHARD:,:\n",
      "step 102520: loss 0.05 20.92ms 478tok/s (total 1,025,190tok)\n",
      "step 102540: loss 3.43 20.58ms 486tok/s (total 1,025,390tok)\n",
      "step 102560: loss 5.97 21.00ms 476tok/s (total 1,025,590tok)\n",
      "step 102580: loss 3.48 21.21ms 471tok/s (total 1,025,790tok)\n",
      "step 102600: loss 0.14 21.35ms 468tok/s (total 1,025,990tok)\n",
      "Oh my lord,;\n",
      "But\n",
      "DUKE and\n",
      "\n",
      "step 102620: loss 9.08 21.38ms 468tok/s (total 1,026,190tok)\n",
      "step 102640: loss 8.35 21.36ms 468tok/s (total 1,026,390tok)\n",
      "step 102660: loss 12.96 21.44ms 466tok/s (total 1,026,590tok)\n",
      "step 102680: loss 4.46 21.51ms 465tok/s (total 1,026,790tok)\n",
      "step 102700: loss 8.58 21.51ms 465tok/s (total 1,026,990tok)\n",
      "Oh my lord,;\n",
      "But I to and you will,\n",
      "step 102720: loss 1.79 11.62ms 860tok/s (total 1,027,190tok)\n",
      "step 102740: loss 0.67 29.95ms 334tok/s (total 1,027,390tok)\n",
      "step 102760: loss 0.01 4.63ms 2160tok/s (total 1,027,590tok)\n",
      "step 102780: loss 0.35 4.64ms 2156tok/s (total 1,027,790tok)\n",
      "step 102800: loss 4.03 7.33ms 1364tok/s (total 1,027,990tok)\n",
      "Oh my lord.\n",
      "\n",
      "\n",
      "\n",
      "\n",
      "\n",
      "\n",
      "\n",
      "\n",
      "\n",
      "step 102820: loss 5.65 19.78ms 506tok/s (total 1,028,190tok)\n",
      "step 102840: loss 8.24 20.78ms 481tok/s (total 1,028,390tok)\n",
      "step 102860: loss 4.61 4.76ms 2103tok/s (total 1,028,590tok)\n",
      "step 102880: loss 3.79 19.80ms 505tok/s (total 1,028,790tok)\n",
      "step 102900: loss 8.08 20.84ms 480tok/s (total 1,028,990tok)\n",
      "Oh my lord,;\n",
      "\n",
      "\n",
      "\n",
      "\n",
      "\n",
      "\n",
      "\n",
      "\n",
      "step 102920: loss 6.95 21.31ms 469tok/s (total 1,029,190tok)\n",
      "step 102940: loss 9.21 6.85ms 1460tok/s (total 1,029,390tok)\n",
      "step 102960: loss 0.27 14.33ms 698tok/s (total 1,029,590tok)\n",
      "step 102980: loss 8.19 20.94ms 478tok/s (total 1,029,790tok)\n",
      "step 103000: loss 8.07 21.80ms 459tok/s (total 1,029,990tok)\n",
      "Oh my lord.\n",
      "\n",
      "\n",
      "\n",
      "\n",
      "\n",
      "\n",
      "\n",
      "\n",
      "\n",
      "step 103020: loss 5.65 20.42ms 490tok/s (total 1,030,190tok)\n",
      "step 103040: loss 8.04 21.55ms 464tok/s (total 1,030,390tok)\n",
      "step 103060: loss 3.58 21.31ms 469tok/s (total 1,030,590tok)\n",
      "step 103080: loss 7.88 20.92ms 478tok/s (total 1,030,790tok)\n",
      "step 103100: loss 0.24 20.85ms 480tok/s (total 1,030,990tok)\n",
      "Oh my lord,.,.\n",
      "\n",
      "\n",
      "\n",
      "\n",
      "\n",
      "\n",
      "step 103120: loss 3.07 20.90ms 478tok/s (total 1,031,190tok)\n",
      "step 103140: loss 6.88 21.09ms 474tok/s (total 1,031,390tok)\n",
      "step 103160: loss 12.53 6.85ms 1461tok/s (total 1,031,590tok)\n",
      "step 103180: loss 5.97 158.66ms 63tok/s (total 1,031,790tok)\n",
      "step 103200: loss 1.18 5.46ms 1831tok/s (total 1,031,990tok)\n",
      "Oh my lord,\n",
      "L.\n",
      " R:\n",
      "\n",
      "\n",
      "\n",
      "step 103220: loss 0.98 27.72ms 361tok/s (total 1,032,190tok)\n",
      "step 103240: loss 0.44 8.86ms 1128tok/s (total 1,032,390tok)\n",
      "step 103260: loss 1.68 21.60ms 463tok/s (total 1,032,590tok)\n",
      "step 103280: loss 12.57 7.75ms 1291tok/s (total 1,032,790tok)\n",
      "step 103300: loss 2.96 5.95ms 1682tok/s (total 1,032,990tok)\n",
      "Oh my lord,.,.\n",
      "\n",
      "\n",
      "\n",
      "\n",
      "\n",
      "\n",
      "step 103320: loss 4.21 16.12ms 620tok/s (total 1,033,190tok)\n",
      "step 103340: loss 7.78 5.62ms 1779tok/s (total 1,033,390tok)\n",
      "step 103360: loss 4.83 23.68ms 422tok/s (total 1,033,590tok)\n",
      "step 103380: loss 3.96 4.24ms 2357tok/s (total 1,033,790tok)\n",
      "step 103400: loss 0.16 6.76ms 1478tok/s (total 1,033,990tok)\n",
      "Oh my lord,.,.\n",
      "\n",
      "\n",
      "\n",
      "\n",
      "\n",
      "\n",
      "step 103420: loss 11.95 4.93ms 2028tok/s (total 1,034,190tok)\n",
      "step 103440: loss 3.40 9.89ms 1011tok/s (total 1,034,390tok)\n",
      "step 103460: loss 6.56 5.94ms 1685tok/s (total 1,034,590tok)\n",
      "step 103480: loss 9.03 7.35ms 1361tok/s (total 1,034,790tok)\n",
      "step 103500: loss 4.90 6.52ms 1534tok/s (total 1,034,990tok)\n",
      "Oh my lord,.,.\n",
      "\n",
      "\n",
      "\n",
      "\n",
      "\n",
      "\n",
      "step 103520: loss 6.32 5.61ms 1781tok/s (total 1,035,190tok)\n",
      "step 103540: loss 2.45 19.30ms 518tok/s (total 1,035,390tok)\n",
      "step 103560: loss 3.26 4.10ms 2438tok/s (total 1,035,590tok)\n",
      "step 103580: loss 11.73 16.55ms 604tok/s (total 1,035,790tok)\n",
      "step 103600: loss 7.94 7.86ms 1273tok/s (total 1,035,990tok)\n",
      "Oh my lord,,,,,,,,,,\n",
      "step 103620: loss 2.68 8.21ms 1217tok/s (total 1,036,190tok)\n",
      "step 103640: loss 4.23 4.95ms 2021tok/s (total 1,036,390tok)\n",
      "step 103660: loss 10.52 14.49ms 690tok/s (total 1,036,590tok)\n",
      "step 103680: loss 11.94 3.50ms 2860tok/s (total 1,036,790tok)\n",
      "step 103700: loss 2.25 20.97ms 477tok/s (total 1,036,990tok)\n",
      "Oh my lord,\n",
      " RARD:,:,:,\n",
      "step 103720: loss 7.60 6.01ms 1664tok/s (total 1,037,190tok)\n",
      "step 103740: loss 5.69 15.27ms 655tok/s (total 1,037,390tok)\n",
      "step 103760: loss 0.00 4.42ms 2264tok/s (total 1,037,590tok)\n",
      "step 103780: loss 3.74 4.91ms 2037tok/s (total 1,037,790tok)\n",
      "step 103800: loss 8.58 2.19ms 4570tok/s (total 1,037,990tok)\n",
      "Oh my lord,\n",
      "L and.\n",
      " RORD\n",
      " R\n",
      "step 103820: loss 7.13 6.06ms 1650tok/s (total 1,038,190tok)\n",
      "step 103840: loss 6.18 21.14ms 473tok/s (total 1,038,390tok)\n",
      "step 103860: loss 4.63 21.66ms 462tok/s (total 1,038,590tok)\n",
      "step 103880: loss 7.97 10.85ms 921tok/s (total 1,038,790tok)\n",
      "step 103900: loss 4.46 9.23ms 1083tok/s (total 1,038,990tok)\n",
      "Oh my lord,\n",
      ": I I will to\n",
      "\n",
      "\n",
      "\n",
      "step 103920: loss 10.83 7.16ms 1397tok/s (total 1,039,190tok)\n",
      "step 103940: loss 10.07 4.62ms 2167tok/s (total 1,039,390tok)\n",
      "step 103960: loss 10.77 5.42ms 1844tok/s (total 1,039,590tok)\n",
      "step 103980: loss 4.12 6.57ms 1522tok/s (total 1,039,790tok)\n",
      "step 104000: loss 8.62 7.75ms 1291tok/s (total 1,039,990tok)\n",
      "Oh my lord,.,.\n",
      "\n",
      "\n",
      "\n",
      "\n",
      "\n",
      "\n",
      "step 104020: loss 4.14 10.85ms 922tok/s (total 1,040,190tok)\n",
      "step 104040: loss 2.43 21.43ms 467tok/s (total 1,040,390tok)\n",
      "step 104060: loss 7.06 13.91ms 719tok/s (total 1,040,590tok)\n",
      "step 104080: loss 10.72 14.37ms 696tok/s (total 1,040,790tok)\n",
      "step 104100: loss 2.05 17.30ms 578tok/s (total 1,040,990tok)\n",
      "Oh my lord;\n",
      ", is's not not: so it\n",
      "step 104120: loss 5.74 20.81ms 481tok/s (total 1,041,190tok)\n",
      "step 104140: loss 12.36 20.83ms 480tok/s (total 1,041,390tok)\n",
      "step 104160: loss 5.86 22.52ms 444tok/s (total 1,041,590tok)\n",
      "step 104180: loss 0.68 20.91ms 478tok/s (total 1,041,790tok)\n",
      "step 104200: loss 4.47 17.01ms 588tok/s (total 1,041,990tok)\n",
      "Oh my lord.\n",
      "\n",
      "\n",
      "\n",
      "\n",
      "\n",
      "\n",
      "\n",
      "\n",
      "\n",
      "step 104220: loss 5.41 21.17ms 472tok/s (total 1,042,190tok)\n",
      "step 104240: loss 1.23 21.76ms 460tok/s (total 1,042,390tok)\n",
      "step 104260: loss 4.99 21.41ms 467tok/s (total 1,042,590tok)\n",
      "step 104280: loss 2.20 22.01ms 454tok/s (total 1,042,790tok)\n",
      "step 104300: loss 7.65 22.57ms 443tok/s (total 1,042,990tok)\n",
      "Oh my lord;\n",
      " IBut, I; is, cannot\n",
      "step 104320: loss 8.01 17.77ms 563tok/s (total 1,043,190tok)\n",
      "step 104340: loss 13.64 14.24ms 702tok/s (total 1,043,390tok)\n",
      "step 104360: loss 7.58 20.80ms 481tok/s (total 1,043,590tok)\n",
      "step 104380: loss 1.52 21.46ms 466tok/s (total 1,043,790tok)\n",
      "step 104400: loss 9.98 20.69ms 483tok/s (total 1,043,990tok)\n",
      "Oh my lord:,;\n",
      ", I,\n",
      ":,\n",
      "step 104420: loss 4.37 20.71ms 483tok/s (total 1,044,190tok)\n",
      "step 104440: loss 12.10 22.86ms 437tok/s (total 1,044,390tok)\n",
      "step 104460: loss 10.86 20.88ms 479tok/s (total 1,044,590tok)\n",
      "step 104480: loss 8.40 20.73ms 482tok/s (total 1,044,790tok)\n",
      "step 104500: loss 3.35 22.12ms 452tok/s (total 1,044,990tok)\n",
      "Oh my lord,:\n",
      ",,,,,,,\n",
      "step 104520: loss 2.82 20.75ms 482tok/s (total 1,045,190tok)\n",
      "step 104540: loss 11.64 22.39ms 447tok/s (total 1,045,390tok)\n",
      "step 104560: loss 9.83 21.84ms 458tok/s (total 1,045,590tok)\n",
      "step 104580: loss 6.87 22.73ms 440tok/s (total 1,045,790tok)\n",
      "step 104600: loss 6.23 20.71ms 483tok/s (total 1,045,990tok)\n",
      "Oh my lord,:\n",
      ", the\n",
      ",\n",
      "And,\n",
      "step 104620: loss 3.56 20.66ms 484tok/s (total 1,046,190tok)\n",
      "step 104640: loss 6.48 21.01ms 476tok/s (total 1,046,390tok)\n",
      "step 104660: loss 0.00 20.67ms 484tok/s (total 1,046,590tok)\n",
      "step 104680: loss 0.29 23.65ms 423tok/s (total 1,046,790tok)\n",
      "step 104700: loss 11.32 20.68ms 484tok/s (total 1,046,990tok)\n",
      "Oh my lord.\n",
      "\n",
      "\n",
      "\n",
      "\n",
      "\n",
      "\n",
      "\n",
      "\n",
      "\n",
      "step 104720: loss 4.37 20.69ms 483tok/s (total 1,047,190tok)\n",
      "step 104740: loss 0.24 20.87ms 479tok/s (total 1,047,390tok)\n",
      "step 104760: loss 12.81 20.70ms 483tok/s (total 1,047,590tok)\n",
      "step 104780: loss 8.89 22.50ms 444tok/s (total 1,047,790tok)\n",
      "step 104800: loss 0.12 21.03ms 476tok/s (total 1,047,990tok)\n",
      "Oh my lord.\n",
      "\n",
      "\n",
      "\n",
      "\n",
      "\n",
      "\n",
      "\n",
      "\n",
      "\n",
      "step 104820: loss 5.74 5.96ms 1679tok/s (total 1,048,190tok)\n",
      "step 104840: loss 2.76 4.66ms 2144tok/s (total 1,048,390tok)\n",
      "step 104860: loss 2.41 5.10ms 1962tok/s (total 1,048,590tok)\n",
      "step 104880: loss 14.00 5.09ms 1965tok/s (total 1,048,790tok)\n",
      "step 104900: loss 10.26 5.76ms 1737tok/s (total 1,048,990tok)\n",
      "Oh my lord:\n",
      " I,,,,,,,\n",
      "step 104920: loss 6.58 11.01ms 908tok/s (total 1,049,190tok)\n",
      "step 104940: loss 4.65 20.77ms 481tok/s (total 1,049,390tok)\n",
      "step 104960: loss 9.17 21.15ms 473tok/s (total 1,049,590tok)\n",
      "step 104980: loss 9.91 21.03ms 475tok/s (total 1,049,790tok)\n",
      "step 105000: loss 5.45 21.81ms 458tok/s (total 1,049,990tok)\n",
      "Oh my lord.\n",
      " OF\n",
      "T:,:,:\n",
      "step 105020: loss 3.43 20.98ms 477tok/s (total 1,050,190tok)\n",
      "step 105040: loss 13.84 21.46ms 466tok/s (total 1,050,390tok)\n",
      "step 105060: loss 1.52 21.31ms 469tok/s (total 1,050,590tok)\n",
      "step 105080: loss 3.12 21.95ms 456tok/s (total 1,050,790tok)\n",
      "step 105100: loss 5.30 20.87ms 479tok/s (total 1,050,990tok)\n",
      "Oh my lord.\n",
      "\n",
      "\n",
      "\n",
      "\n",
      "\n",
      "\n",
      "\n",
      "\n",
      "\n",
      "step 105120: loss 0.28 20.82ms 480tok/s (total 1,051,190tok)\n",
      "step 105140: loss 6.57 10.51ms 952tok/s (total 1,051,390tok)\n",
      "step 105160: loss 6.69 18.46ms 542tok/s (total 1,051,590tok)\n",
      "step 105180: loss 7.76 22.99ms 435tok/s (total 1,051,790tok)\n",
      "step 105200: loss 4.78 4.43ms 2258tok/s (total 1,051,990tok)\n",
      "Oh my lord,.,.\n",
      "\n",
      "\n",
      "\n",
      "\n",
      "\n",
      "\n",
      "step 105220: loss 5.79 20.67ms 484tok/s (total 1,052,190tok)\n",
      "step 105240: loss 7.75 21.07ms 475tok/s (total 1,052,390tok)\n",
      "step 105260: loss 13.60 20.72ms 483tok/s (total 1,052,590tok)\n",
      "step 105280: loss 11.07 21.20ms 472tok/s (total 1,052,790tok)\n",
      "step 105300: loss 6.50 22.62ms 442tok/s (total 1,052,990tok)\n",
      "Oh my lord,.,.\n",
      "U OF:\n",
      "\n",
      "\n",
      "step 105320: loss 7.51 21.20ms 472tok/s (total 1,053,190tok)\n",
      "step 105340: loss 7.06 21.51ms 465tok/s (total 1,053,390tok)\n",
      "step 105360: loss 6.23 21.31ms 469tok/s (total 1,053,590tok)\n",
      "step 105380: loss 1.90 21.44ms 466tok/s (total 1,053,790tok)\n",
      "step 105400: loss 4.52 21.38ms 468tok/s (total 1,053,990tok)\n",
      "Oh my lord.\n",
      "\n",
      "\n",
      "\n",
      "\n",
      "\n",
      "\n",
      ",\n",
      "\n",
      "step 105420: loss 12.61 22.49ms 445tok/s (total 1,054,190tok)\n",
      "step 105440: loss 3.81 22.31ms 448tok/s (total 1,054,390tok)\n",
      "step 105460: loss 14.11 22.15ms 451tok/s (total 1,054,590tok)\n",
      "step 105480: loss 8.84 21.50ms 465tok/s (total 1,054,790tok)\n",
      "step 105500: loss 6.46 21.42ms 467tok/s (total 1,054,990tok)\n",
      "Oh my lord.\n",
      "\n",
      "\n",
      "\n",
      "\n",
      "\n",
      "\n",
      "\n",
      "\n",
      "\n",
      "step 105520: loss 6.30 21.46ms 466tok/s (total 1,055,190tok)\n",
      "step 105540: loss 3.78 21.58ms 463tok/s (total 1,055,390tok)\n",
      "step 105560: loss 4.57 13.25ms 754tok/s (total 1,055,590tok)\n",
      "step 105580: loss 9.36 16.65ms 601tok/s (total 1,055,790tok)\n",
      "step 105600: loss 1.96 15.23ms 657tok/s (total 1,055,990tok)\n",
      "Oh my lord.\n",
      "\n",
      "\n",
      "\n",
      "\n",
      "\n",
      "\n",
      "\n",
      "\n",
      "\n",
      "step 105620: loss 2.79 4.40ms 2272tok/s (total 1,056,190tok)\n",
      "step 105640: loss 0.59 9.28ms 1078tok/s (total 1,056,390tok)\n",
      "step 105660: loss 7.17 14.25ms 702tok/s (total 1,056,590tok)\n",
      "step 105680: loss 7.99 21.26ms 470tok/s (total 1,056,790tok)\n",
      "step 105700: loss 6.09 19.23ms 520tok/s (total 1,056,990tok)\n",
      "Oh my lord.\n",
      "\n",
      "\n",
      "\n",
      "\n",
      "\n",
      "\n",
      "\n",
      "\n",
      "\n",
      "step 105720: loss 6.94 20.95ms 477tok/s (total 1,057,190tok)\n",
      "step 105740: loss 6.10 7.80ms 1283tok/s (total 1,057,390tok)\n",
      "step 105760: loss 4.08 20.81ms 481tok/s (total 1,057,590tok)\n",
      "step 105780: loss 0.14 21.91ms 456tok/s (total 1,057,790tok)\n",
      "step 105800: loss 11.41 14.49ms 690tok/s (total 1,057,990tok)\n",
      "Oh my lord,.,.\n",
      "\n",
      "\n",
      "\n",
      "\n",
      "\n",
      "\n",
      "step 105820: loss 7.01 4.17ms 2399tok/s (total 1,058,190tok)\n",
      "step 105840: loss 11.18 18.52ms 540tok/s (total 1,058,390tok)\n",
      "step 105860: loss 3.85 6.19ms 1617tok/s (total 1,058,590tok)\n",
      "step 105880: loss 3.38 10.34ms 967tok/s (total 1,058,790tok)\n",
      "step 105900: loss 13.58 38.51ms 260tok/s (total 1,058,990tok)\n",
      "Oh my lord,,,,,,,,,,\n",
      "step 105920: loss 4.78 4.99ms 2005tok/s (total 1,059,190tok)\n",
      "step 105940: loss 3.97 6.62ms 1511tok/s (total 1,059,390tok)\n",
      "step 105960: loss 1.74 10.48ms 955tok/s (total 1,059,590tok)\n",
      "step 105980: loss 1.23 8.61ms 1162tok/s (total 1,059,790tok)\n",
      "step 106000: loss 5.21 3.98ms 2515tok/s (total 1,059,990tok)\n",
      "Oh my lord,\n",
      "And I.\n",
      "\n",
      "\n",
      "\n",
      "\n",
      "\n",
      "step 106020: loss 3.74 4.20ms 2380tok/s (total 1,060,190tok)\n",
      "step 106040: loss 12.01 3.31ms 3021tok/s (total 1,060,390tok)\n",
      "step 106060: loss 2.22 21.21ms 472tok/s (total 1,060,590tok)\n",
      "step 106080: loss 1.94 7.19ms 1392tok/s (total 1,060,790tok)\n",
      "step 106100: loss 0.25 6.44ms 1554tok/s (total 1,060,990tok)\n",
      "Oh my lord,.,.\n",
      "\n",
      "\n",
      "\n",
      "\n",
      "\n",
      "\n",
      "step 106120: loss 8.43 7.46ms 1340tok/s (total 1,061,190tok)\n",
      "step 106140: loss 6.13 6.72ms 1488tok/s (total 1,061,390tok)\n",
      "step 106160: loss 0.05 5.82ms 1718tok/s (total 1,061,590tok)\n",
      "step 106180: loss 5.08 35.22ms 284tok/s (total 1,061,790tok)\n",
      "step 106200: loss 3.24 7.41ms 1349tok/s (total 1,061,990tok)\n",
      "Oh my lord,.,.\n",
      "\n",
      "\n",
      "\n",
      "\n",
      "\n",
      "\n",
      "step 106220: loss 6.78 10.22ms 979tok/s (total 1,062,190tok)\n",
      "step 106240: loss 1.44 8.60ms 1163tok/s (total 1,062,390tok)\n",
      "step 106260: loss 2.14 4.76ms 2099tok/s (total 1,062,590tok)\n",
      "step 106280: loss 4.36 8.67ms 1153tok/s (total 1,062,790tok)\n",
      "step 106300: loss 0.42 6.79ms 1474tok/s (total 1,062,990tok)\n",
      "Oh my lord,.,.\n",
      "\n",
      "\n",
      "\n",
      "\n",
      "\n",
      "\n",
      "step 106320: loss 2.08 4.55ms 2200tok/s (total 1,063,190tok)\n",
      "step 106340: loss 2.70 4.77ms 2096tok/s (total 1,063,390tok)\n",
      "step 106360: loss 7.83 7.48ms 1337tok/s (total 1,063,590tok)\n",
      "step 106380: loss 0.54 11.01ms 908tok/s (total 1,063,790tok)\n",
      "step 106400: loss 8.08 5.21ms 1919tok/s (total 1,063,990tok)\n",
      "Oh my lord,,,,,.,,\n",
      " and\n",
      "step 106420: loss 10.67 6.45ms 1551tok/s (total 1,064,190tok)\n",
      "step 106440: loss 6.32 6.22ms 1608tok/s (total 1,064,390tok)\n",
      "step 106460: loss 7.63 6.13ms 1632tok/s (total 1,064,590tok)\n",
      "step 106480: loss 8.43 21.55ms 464tok/s (total 1,064,790tok)\n",
      "step 106500: loss 12.41 21.95ms 456tok/s (total 1,064,990tok)\n",
      "Oh my lord,,,,,,,,,,\n",
      "step 106520: loss 3.53 8.38ms 1193tok/s (total 1,065,190tok)\n",
      "step 106540: loss 6.78 4.72ms 2118tok/s (total 1,065,390tok)\n",
      "step 106560: loss 9.20 5.38ms 1859tok/s (total 1,065,590tok)\n",
      "step 106580: loss 1.24 4.26ms 2350tok/s (total 1,065,790tok)\n",
      "step 106600: loss 10.95 10.75ms 930tok/s (total 1,065,990tok)\n",
      "Oh my lord,.,,.,.\n",
      "\n",
      "\n",
      "\n",
      "step 106620: loss 7.01 5.82ms 1719tok/s (total 1,066,190tok)\n",
      "step 106640: loss 4.06 4.10ms 2437tok/s (total 1,066,390tok)\n",
      "step 106660: loss 0.08 14.79ms 676tok/s (total 1,066,590tok)\n",
      "step 106680: loss 0.29 5.31ms 1884tok/s (total 1,066,790tok)\n",
      "step 106700: loss 3.14 8.19ms 1221tok/s (total 1,066,990tok)\n",
      "Oh my lord,.,.\n",
      "\n",
      "\n",
      "\n",
      "\n",
      "\n",
      "\n",
      "step 106720: loss 3.92 3.83ms 2614tok/s (total 1,067,190tok)\n",
      "step 106740: loss 1.72 10.71ms 934tok/s (total 1,067,390tok)\n",
      "step 106760: loss 5.61 7.54ms 1327tok/s (total 1,067,590tok)\n",
      "step 106780: loss 9.52 4.69ms 2134tok/s (total 1,067,790tok)\n",
      "step 106800: loss 3.40 5.87ms 1703tok/s (total 1,067,990tok)\n",
      "Oh my lord.\n",
      "\n",
      "\n",
      "\n",
      "\n",
      "\n",
      "\n",
      "\n",
      "\n",
      "\n",
      "step 106820: loss 0.00 6.48ms 1543tok/s (total 1,068,190tok)\n",
      "step 106840: loss 7.25 5.89ms 1697tok/s (total 1,068,390tok)\n",
      "step 106860: loss 2.15 5.37ms 1864tok/s (total 1,068,590tok)\n",
      "step 106880: loss 1.38 4.62ms 2165tok/s (total 1,068,790tok)\n",
      "step 106900: loss 7.84 9.21ms 1086tok/s (total 1,068,990tok)\n",
      "Oh my lord,,,,,,,,,,\n",
      "step 106920: loss 0.50 7.18ms 1393tok/s (total 1,069,190tok)\n",
      "step 106940: loss 7.77 4.51ms 2219tok/s (total 1,069,390tok)\n",
      "step 106960: loss 10.02 8.27ms 1209tok/s (total 1,069,590tok)\n",
      "step 106980: loss 2.73 22.26ms 449tok/s (total 1,069,790tok)\n",
      "step 107000: loss 1.25 21.83ms 458tok/s (total 1,069,990tok)\n",
      "Oh my lord,\n",
      "DU OF YORK:\n",
      "\n",
      "\n",
      "\n",
      "step 107020: loss 7.18 6.21ms 1611tok/s (total 1,070,190tok)\n",
      "step 107040: loss 7.42 22.29ms 449tok/s (total 1,070,390tok)\n",
      "step 107060: loss 7.25 4.24ms 2358tok/s (total 1,070,590tok)\n",
      "step 107080: loss 4.00 14.32ms 698tok/s (total 1,070,790tok)\n",
      "step 107100: loss 8.87 20.69ms 483tok/s (total 1,070,990tok)\n",
      "Oh my lord,;\n",
      "And I to you you to you\n",
      "step 107120: loss 5.16 20.81ms 480tok/s (total 1,071,190tok)\n",
      "step 107140: loss 4.13 20.88ms 479tok/s (total 1,071,390tok)\n",
      "step 107160: loss 9.10 20.90ms 479tok/s (total 1,071,590tok)\n",
      "step 107180: loss 4.36 20.87ms 479tok/s (total 1,071,790tok)\n",
      "step 107200: loss 6.97 22.41ms 446tok/s (total 1,071,990tok)\n",
      "Oh my lord,,,,,,,,,,\n",
      "step 107220: loss 0.94 21.16ms 473tok/s (total 1,072,190tok)\n",
      "step 107240: loss 0.01 7.25ms 1380tok/s (total 1,072,390tok)\n",
      "step 107260: loss 0.50 6.19ms 1617tok/s (total 1,072,590tok)\n",
      "step 107280: loss 11.29 4.12ms 2426tok/s (total 1,072,790tok)\n",
      "step 107300: loss 1.48 9.28ms 1077tok/s (total 1,072,990tok)\n",
      "Oh my lord,\n",
      "DU OF YORK:,:,\n",
      "step 107320: loss 0.15 4.68ms 2138tok/s (total 1,073,190tok)\n",
      "step 107340: loss 4.66 20.94ms 478tok/s (total 1,073,390tok)\n",
      "step 107360: loss 4.81 9.91ms 1009tok/s (total 1,073,590tok)\n",
      "step 107380: loss 7.66 4.95ms 2020tok/s (total 1,073,790tok)\n",
      "step 107400: loss 6.85 14.75ms 678tok/s (total 1,073,990tok)\n",
      "Oh my lord,\n",
      "DU OF YORK: I, I\n",
      "step 107420: loss 10.04 6.27ms 1595tok/s (total 1,074,190tok)\n",
      "step 107440: loss 8.26 8.76ms 1141tok/s (total 1,074,390tok)\n",
      "step 107460: loss 8.78 8.12ms 1232tok/s (total 1,074,590tok)\n",
      "step 107480: loss 2.22 8.02ms 1248tok/s (total 1,074,790tok)\n",
      "step 107500: loss 9.77 11.35ms 881tok/s (total 1,074,990tok)\n",
      "Oh my lord,;\n",
      " IAnd my you, you,\n",
      "step 107520: loss 6.57 7.61ms 1314tok/s (total 1,075,190tok)\n",
      "step 107540: loss 2.37 6.60ms 1515tok/s (total 1,075,390tok)\n",
      "step 107560: loss 11.95 5.94ms 1683tok/s (total 1,075,590tok)\n",
      "step 107580: loss 6.64 8.90ms 1123tok/s (total 1,075,790tok)\n",
      "step 107600: loss 4.04 19.57ms 511tok/s (total 1,075,990tok)\n",
      "Oh my lord:\n",
      " I, you, you have, you\n",
      "step 107620: loss 3.78 16.24ms 616tok/s (total 1,076,190tok)\n",
      "step 107640: loss 2.71 32.86ms 304tok/s (total 1,076,390tok)\n",
      "step 107660: loss 5.34 7.61ms 1314tok/s (total 1,076,590tok)\n",
      "step 107680: loss 1.81 12.54ms 797tok/s (total 1,076,790tok)\n",
      "step 107700: loss 4.13 9.17ms 1090tok/s (total 1,076,990tok)\n",
      "Oh my lord.\n",
      "\n",
      "\n",
      "\n",
      "\n",
      "\n",
      "\n",
      "\n",
      "\n",
      "\n",
      "step 107720: loss 5.27 6.90ms 1449tok/s (total 1,077,190tok)\n",
      "step 107740: loss 4.46 6.38ms 1567tok/s (total 1,077,390tok)\n",
      "step 107760: loss 5.13 4.51ms 2219tok/s (total 1,077,590tok)\n",
      "step 107780: loss 3.09 14.27ms 701tok/s (total 1,077,790tok)\n",
      "step 107800: loss 5.24 4.19ms 2384tok/s (total 1,077,990tok)\n",
      "Oh my lord;\n",
      "And I in, you\n",
      " hisAnd\n",
      "step 107820: loss 7.33 6.42ms 1558tok/s (total 1,078,190tok)\n",
      "step 107840: loss 0.99 6.75ms 1481tok/s (total 1,078,390tok)\n",
      "step 107860: loss 4.92 5.13ms 1948tok/s (total 1,078,590tok)\n",
      "step 107880: loss 2.42 5.82ms 1719tok/s (total 1,078,790tok)\n",
      "step 107900: loss 9.52 8.38ms 1193tok/s (total 1,078,990tok)\n",
      "Oh my lord,\n",
      "To and\n",
      "DKE OF\n",
      "KE\n",
      "step 107920: loss 1.35 8.72ms 1147tok/s (total 1,079,190tok)\n",
      "step 107940: loss 4.75 6.36ms 1573tok/s (total 1,079,390tok)\n",
      "step 107960: loss 0.42 8.10ms 1234tok/s (total 1,079,590tok)\n",
      "step 107980: loss 9.50 10.99ms 910tok/s (total 1,079,790tok)\n",
      "step 108000: loss 7.59 14.75ms 678tok/s (total 1,079,990tok)\n",
      "Oh my lord,\n",
      "To you, you\n",
      "To the of\n",
      "step 108020: loss 6.24 9.03ms 1107tok/s (total 1,080,190tok)\n",
      "step 108040: loss 3.40 66.03ms 151tok/s (total 1,080,390tok)\n",
      "step 108060: loss 9.90 8.91ms 1123tok/s (total 1,080,590tok)\n",
      "step 108080: loss 1.09 4.76ms 2100tok/s (total 1,080,790tok)\n",
      "step 108100: loss 11.70 9.89ms 1012tok/s (total 1,080,990tok)\n",
      "Oh my lord:\n",
      " I, you are, you are,\n",
      "step 108120: loss 4.78 25.04ms 399tok/s (total 1,081,190tok)\n",
      "step 108140: loss 2.17 18.64ms 536tok/s (total 1,081,390tok)\n",
      "step 108160: loss 3.34 8.72ms 1147tok/s (total 1,081,590tok)\n",
      "step 108180: loss 4.03 6.60ms 1516tok/s (total 1,081,790tok)\n",
      "step 108200: loss 7.37 6.71ms 1491tok/s (total 1,081,990tok)\n",
      "Oh my lord.\n",
      " OF\n",
      "Y:\n",
      "My, we\n",
      "step 108220: loss 5.52 6.68ms 1498tok/s (total 1,082,190tok)\n",
      "step 108240: loss 11.76 7.61ms 1314tok/s (total 1,082,390tok)\n",
      "step 108260: loss 7.05 40.75ms 245tok/s (total 1,082,590tok)\n",
      "step 108280: loss 8.03 5.56ms 1800tok/s (total 1,082,790tok)\n",
      "step 108300: loss 6.55 4.25ms 2350tok/s (total 1,082,990tok)\n",
      "Oh my lord:\n",
      ", are andThe and\n",
      "The of\n",
      "step 108320: loss 3.29 5.93ms 1688tok/s (total 1,083,190tok)\n",
      "step 108340: loss 5.05 21.87ms 457tok/s (total 1,083,390tok)\n",
      "step 108360: loss 1.39 16.54ms 605tok/s (total 1,083,590tok)\n",
      "step 108380: loss 6.29 76.73ms 130tok/s (total 1,083,790tok)\n",
      "step 108400: loss 1.81 38.64ms 259tok/s (total 1,083,990tok)\n",
      "Oh my lord,\n",
      "And\n",
      "KE, and all\n",
      "And\n",
      "step 108420: loss 4.82 17.43ms 574tok/s (total 1,084,190tok)\n",
      "step 108440: loss 12.39 8.55ms 1169tok/s (total 1,084,390tok)\n",
      "step 108460: loss 9.20 20.10ms 498tok/s (total 1,084,590tok)\n",
      "step 108480: loss 2.22 155.44ms 64tok/s (total 1,084,790tok)\n",
      "step 108500: loss 3.99 10.13ms 987tok/s (total 1,084,990tok)\n",
      "Oh my lord,\n",
      " of your,I your, will\n",
      "\n",
      "step 108520: loss 5.48 6.63ms 1508tok/s (total 1,085,190tok)\n",
      "step 108540: loss 12.68 22.65ms 441tok/s (total 1,085,390tok)\n",
      "step 108560: loss 10.94 6.59ms 1517tok/s (total 1,085,590tok)\n",
      "step 108580: loss 9.61 9.97ms 1003tok/s (total 1,085,790tok)\n",
      "step 108600: loss 5.05 21.00ms 476tok/s (total 1,085,990tok)\n",
      "Oh my lord,,,,,\n",
      " of your, in\n",
      "step 108620: loss 9.44 18.39ms 544tok/s (total 1,086,190tok)\n",
      "step 108640: loss 3.17 37.28ms 268tok/s (total 1,086,390tok)\n",
      "step 108660: loss 1.09 9.29ms 1076tok/s (total 1,086,590tok)\n",
      "step 108680: loss 6.04 5.15ms 1941tok/s (total 1,086,790tok)\n",
      "step 108700: loss 5.88 9.11ms 1097tok/s (total 1,086,990tok)\n",
      "Oh my lord,,,,,\n",
      ", my, my\n",
      "step 108720: loss 12.01 10.31ms 970tok/s (total 1,087,190tok)\n",
      "step 108740: loss 2.98 5.33ms 1876tok/s (total 1,087,390tok)\n",
      "step 108760: loss 6.79 6.54ms 1529tok/s (total 1,087,590tok)\n",
      "step 108780: loss 5.26 54.45ms 184tok/s (total 1,087,790tok)\n",
      "step 108800: loss 0.33 73.78ms 136tok/s (total 1,087,990tok)\n",
      "Oh my lord,\n",
      "And\n",
      " of the\n",
      " of.H\n",
      "step 108820: loss 10.44 17.83ms 561tok/s (total 1,088,190tok)\n",
      "step 108840: loss 6.66 21.49ms 465tok/s (total 1,088,390tok)\n",
      "step 108860: loss 4.33 9.04ms 1106tok/s (total 1,088,590tok)\n",
      "step 108880: loss 3.97 10.10ms 990tok/s (total 1,088,790tok)\n",
      "step 108900: loss 1.40 23.35ms 428tok/s (total 1,088,990tok)\n",
      "Oh my lord,\n",
      " of.\n",
      "HEN BOLING\n",
      "step 108920: loss 7.80 13.08ms 764tok/s (total 1,089,190tok)\n",
      "step 108940: loss 4.14 32.89ms 304tok/s (total 1,089,390tok)\n",
      "step 108960: loss 8.06 28.52ms 351tok/s (total 1,089,590tok)\n",
      "step 108980: loss 13.32 15.34ms 652tok/s (total 1,089,790tok)\n",
      "step 109000: loss 5.08 13.96ms 716tok/s (total 1,089,990tok)\n",
      "Oh my lord,.,.\n",
      "EN BOLINGO\n",
      "step 109020: loss 6.91 4.20ms 2382tok/s (total 1,090,190tok)\n",
      "step 109040: loss 0.65 21.98ms 455tok/s (total 1,090,390tok)\n",
      "step 109060: loss 8.19 25.89ms 386tok/s (total 1,090,590tok)\n",
      "step 109080: loss 8.58 6.19ms 1616tok/s (total 1,090,790tok)\n",
      "step 109100: loss 7.07 43.70ms 229tok/s (total 1,090,990tok)\n",
      "Oh my lord,,,,,,,,,,\n",
      "step 109120: loss 5.39 6.56ms 1524tok/s (total 1,091,190tok)\n",
      "step 109140: loss 6.32 5.47ms 1829tok/s (total 1,091,390tok)\n",
      "step 109160: loss 3.85 7.11ms 1407tok/s (total 1,091,590tok)\n",
      "step 109180: loss 3.63 29.97ms 334tok/s (total 1,091,790tok)\n",
      "step 109200: loss 4.43 112.28ms 89tok/s (total 1,091,990tok)\n",
      "Oh my lord,,,,,,,,,,\n",
      "step 109220: loss 6.63 22.97ms 435tok/s (total 1,092,190tok)\n",
      "step 109240: loss 6.71 6.06ms 1650tok/s (total 1,092,390tok)\n",
      "step 109260: loss 6.80 5.27ms 1896tok/s (total 1,092,590tok)\n",
      "step 109280: loss 2.37 5.07ms 1973tok/s (total 1,092,790tok)\n",
      "step 109300: loss 6.45 6.28ms 1593tok/s (total 1,092,990tok)\n",
      "Oh my lord,:\n",
      " I you have a\n",
      " king\n",
      "\n",
      "step 109320: loss 4.40 6.86ms 1457tok/s (total 1,093,190tok)\n",
      "step 109340: loss 4.68 26.91ms 372tok/s (total 1,093,390tok)\n",
      "step 109360: loss 2.27 8.26ms 1211tok/s (total 1,093,590tok)\n",
      "step 109380: loss 6.42 4.53ms 2205tok/s (total 1,093,790tok)\n",
      "step 109400: loss 0.08 5.33ms 1877tok/s (total 1,093,990tok)\n",
      "Oh my lord,,,,.\n",
      "U OF\n",
      "UM\n",
      "step 109420: loss 6.92 6.20ms 1612tok/s (total 1,094,190tok)\n",
      "step 109440: loss 5.09 17.84ms 560tok/s (total 1,094,390tok)\n",
      "step 109460: loss 6.50 9.57ms 1045tok/s (total 1,094,590tok)\n",
      "step 109480: loss 12.03 76.27ms 131tok/s (total 1,094,790tok)\n",
      "step 109500: loss 6.41 27.79ms 360tok/s (total 1,094,990tok)\n",
      "Oh my lord,,,,,,,,,,\n",
      "step 109520: loss 6.82 34.17ms 293tok/s (total 1,095,190tok)\n",
      "step 109540: loss 4.28 17.26ms 579tok/s (total 1,095,390tok)\n",
      "step 109560: loss 1.70 9.09ms 1101tok/s (total 1,095,590tok)\n",
      "step 109580: loss 11.71 10.07ms 993tok/s (total 1,095,790tok)\n",
      "step 109600: loss 10.28 52.92ms 189tok/s (total 1,095,990tok)\n",
      "Oh my lord,,,,,,,,,,\n",
      "step 109620: loss 10.22 7.62ms 1313tok/s (total 1,096,190tok)\n",
      "step 109640: loss 2.99 8.55ms 1169tok/s (total 1,096,390tok)\n",
      "step 109660: loss 0.68 10.92ms 916tok/s (total 1,096,590tok)\n",
      "step 109680: loss 3.11 5.97ms 1676tok/s (total 1,096,790tok)\n",
      "step 109700: loss 12.54 7.55ms 1324tok/s (total 1,096,990tok)\n",
      "Oh my lord,,,,,:\n",
      ",,,\n",
      "step 109720: loss 5.67 11.01ms 908tok/s (total 1,097,190tok)\n",
      "step 109740: loss 5.23 9.48ms 1055tok/s (total 1,097,390tok)\n",
      "step 109760: loss 9.06 31.19ms 321tok/s (total 1,097,590tok)\n",
      "step 109780: loss 6.21 25.25ms 396tok/s (total 1,097,790tok)\n",
      "step 109800: loss 8.05 18.07ms 553tok/s (total 1,097,990tok)\n",
      "Oh my lord,,,,,:\n",
      ", lord,\n",
      "step 109820: loss 8.11 16.70ms 599tok/s (total 1,098,190tok)\n",
      "step 109840: loss 11.22 46.41ms 215tok/s (total 1,098,390tok)\n",
      "step 109860: loss 9.31 52.68ms 190tok/s (total 1,098,590tok)\n",
      "step 109880: loss 5.82 17.17ms 582tok/s (total 1,098,790tok)\n",
      "step 109900: loss 7.94 8.06ms 1240tok/s (total 1,098,990tok)\n",
      "Oh my lord,:\n",
      " the king,,,,,\n",
      "step 109920: loss 8.73 7.82ms 1278tok/s (total 1,099,190tok)\n",
      "step 109940: loss 1.04 7.61ms 1314tok/s (total 1,099,390tok)\n",
      "step 109960: loss 4.22 7.04ms 1420tok/s (total 1,099,590tok)\n",
      "step 109980: loss 4.55 8.60ms 1163tok/s (total 1,099,790tok)\n",
      "step 110000: loss 4.28 12.33ms 811tok/s (total 1,099,990tok)\n",
      "Oh my lord.\n",
      "KING RICHARD II:\n",
      "\n",
      "\n",
      "step 110020: loss 2.76 11.44ms 874tok/s (total 1,100,190tok)\n",
      "step 110040: loss 9.72 17.43ms 574tok/s (total 1,100,390tok)\n",
      "step 110060: loss 5.51 68.98ms 145tok/s (total 1,100,590tok)\n",
      "step 110080: loss 6.24 11.35ms 881tok/s (total 1,100,790tok)\n",
      "step 110100: loss 14.76 4.58ms 2183tok/s (total 1,100,990tok)\n",
      "Oh my lord.\n",
      "KING RICHARD II:\n",
      "\n",
      "\n",
      "step 110120: loss 13.17 20.70ms 483tok/s (total 1,101,190tok)\n",
      "step 110140: loss 3.72 20.77ms 482tok/s (total 1,101,390tok)\n",
      "step 110160: loss 7.33 25.22ms 397tok/s (total 1,101,590tok)\n",
      "step 110180: loss 8.38 7.57ms 1322tok/s (total 1,101,790tok)\n",
      "step 110200: loss 7.06 4.61ms 2168tok/s (total 1,101,990tok)\n",
      "Oh my lord?\n",
      "\n",
      "\n",
      "\n",
      "\n",
      "\n",
      "\n",
      "\n",
      "\n",
      "\n",
      "step 110220: loss 5.04 41.70ms 240tok/s (total 1,102,190tok)\n",
      "step 110240: loss 5.90 23.64ms 423tok/s (total 1,102,390tok)\n",
      "step 110260: loss 6.87 4.74ms 2110tok/s (total 1,102,590tok)\n",
      "step 110280: loss 3.01 8.76ms 1142tok/s (total 1,102,790tok)\n",
      "step 110300: loss 11.70 9.79ms 1021tok/s (total 1,102,990tok)\n",
      "Oh my lord,:\n",
      " is and, and\n",
      "The is\n",
      "step 110320: loss 6.86 6.80ms 1471tok/s (total 1,103,190tok)\n",
      "step 110340: loss 10.26 18.14ms 551tok/s (total 1,103,390tok)\n",
      "step 110360: loss 4.65 9.53ms 1049tok/s (total 1,103,590tok)\n",
      "step 110380: loss 12.32 7.98ms 1253tok/s (total 1,103,790tok)\n",
      "step 110400: loss 9.75 28.44ms 352tok/s (total 1,103,990tok)\n",
      "Oh my lord,;\n",
      " and, and, and all,\n",
      "step 110420: loss 7.33 5.00ms 1999tok/s (total 1,104,190tok)\n",
      "step 110440: loss 9.12 10.66ms 939tok/s (total 1,104,390tok)\n",
      "step 110460: loss 0.08 42.94ms 233tok/s (total 1,104,590tok)\n",
      "step 110480: loss 0.97 4.51ms 2216tok/s (total 1,104,790tok)\n",
      "step 110500: loss 4.35 15.61ms 640tok/s (total 1,104,990tok)\n",
      "Oh my lord;\n",
      ",And, I to have to\n",
      "\n",
      "step 110520: loss 12.01 187.03ms 53tok/s (total 1,105,190tok)\n",
      "step 110540: loss 7.12 8.94ms 1119tok/s (total 1,105,390tok)\n",
      "step 110560: loss 4.62 108.70ms 92tok/s (total 1,105,590tok)\n",
      "step 110580: loss 4.50 19.68ms 508tok/s (total 1,105,790tok)\n",
      "step 110600: loss 13.26 10.36ms 965tok/s (total 1,105,990tok)\n",
      "Oh my lord.\n",
      "KING RICHARD II:\n",
      "\n",
      "\n",
      "step 110620: loss 0.69 11.26ms 888tok/s (total 1,106,190tok)\n",
      "step 110640: loss 11.52 11.28ms 886tok/s (total 1,106,390tok)\n",
      "step 110660: loss 8.25 7.67ms 1303tok/s (total 1,106,590tok)\n",
      "step 110680: loss 0.67 4.27ms 2340tok/s (total 1,106,790tok)\n",
      "step 110700: loss 7.89 8.84ms 1132tok/s (total 1,106,990tok)\n",
      "Oh my lord,!\n",
      "KING RICHARD II:,\n",
      "step 110720: loss 5.78 8.25ms 1212tok/s (total 1,107,190tok)\n",
      "step 110740: loss 7.74 8.39ms 1192tok/s (total 1,107,390tok)\n",
      "step 110760: loss 2.04 9.32ms 1073tok/s (total 1,107,590tok)\n",
      "step 110780: loss 3.40 9.27ms 1079tok/s (total 1,107,790tok)\n",
      "step 110800: loss 1.62 11.74ms 852tok/s (total 1,107,990tok)\n",
      "Oh my lord.\n",
      "\n",
      "\n",
      "\n",
      "\n",
      "\n",
      "\n",
      "\n",
      "\n",
      "\n",
      "step 110820: loss 6.19 9.80ms 1020tok/s (total 1,108,190tok)\n",
      "step 110840: loss 6.91 8.82ms 1134tok/s (total 1,108,390tok)\n",
      "step 110860: loss 9.59 99.52ms 100tok/s (total 1,108,590tok)\n",
      "step 110880: loss 4.89 5.35ms 1868tok/s (total 1,108,790tok)\n",
      "step 110900: loss 12.74 18.07ms 554tok/s (total 1,108,990tok)\n",
      "Oh my lord;\n",
      ", and, and their their\n",
      "And\n",
      "step 110920: loss 6.22 25.64ms 390tok/s (total 1,109,190tok)\n",
      "step 110940: loss 9.98 6.77ms 1477tok/s (total 1,109,390tok)\n",
      "step 110960: loss 4.00 7.39ms 1353tok/s (total 1,109,590tok)\n",
      "step 110980: loss 0.25 12.44ms 804tok/s (total 1,109,790tok)\n",
      "step 111000: loss 6.70 23.81ms 420tok/s (total 1,109,990tok)\n",
      "Oh my lord;\n",
      "And, the of, of the\n",
      "\n",
      "step 111020: loss 4.81 10.73ms 932tok/s (total 1,110,190tok)\n",
      "step 111040: loss 5.64 3.51ms 2851tok/s (total 1,110,390tok)\n",
      "step 111060: loss 2.38 8.95ms 1117tok/s (total 1,110,590tok)\n",
      "step 111080: loss 2.46 4.92ms 2032tok/s (total 1,110,790tok)\n",
      "step 111100: loss 10.33 39.09ms 256tok/s (total 1,110,990tok)\n",
      "Oh my lord,,,,,,,,,,\n",
      "step 111120: loss 11.55 14.80ms 676tok/s (total 1,111,190tok)\n",
      "step 111140: loss 4.56 24.75ms 404tok/s (total 1,111,390tok)\n",
      "step 111160: loss 3.54 15.69ms 637tok/s (total 1,111,590tok)\n",
      "step 111180: loss 4.98 5.43ms 1842tok/s (total 1,111,790tok)\n",
      "step 111200: loss 7.63 39.93ms 250tok/s (total 1,111,990tok)\n",
      "Oh my lord,,,,,,,,,,\n",
      "step 111220: loss 5.64 27.17ms 368tok/s (total 1,112,190tok)\n",
      "step 111240: loss 7.30 27.03ms 370tok/s (total 1,112,390tok)\n",
      "step 111260: loss 2.56 6.64ms 1506tok/s (total 1,112,590tok)\n",
      "step 111280: loss 6.01 6.18ms 1618tok/s (total 1,112,790tok)\n",
      "step 111300: loss 3.21 7.02ms 1425tok/s (total 1,112,990tok)\n",
      "Oh my lord,:\n",
      " andAnd, you the king,\n",
      "step 111320: loss 6.24 19.66ms 509tok/s (total 1,113,190tok)\n",
      "step 111340: loss 5.96 6.49ms 1541tok/s (total 1,113,390tok)\n",
      "step 111360: loss 0.71 6.10ms 1640tok/s (total 1,113,590tok)\n",
      "step 111380: loss 9.33 12.50ms 800tok/s (total 1,113,790tok)\n",
      "step 111400: loss 12.03 6.45ms 1550tok/s (total 1,113,990tok)\n",
      "Oh my lord;\n",
      "And of, you: have\n",
      " a\n",
      "step 111420: loss 6.44 6.60ms 1516tok/s (total 1,114,190tok)\n",
      "step 111440: loss 11.87 5.56ms 1799tok/s (total 1,114,390tok)\n",
      "step 111460: loss 4.39 5.65ms 1769tok/s (total 1,114,590tok)\n",
      "step 111480: loss 7.42 5.80ms 1724tok/s (total 1,114,790tok)\n",
      "step 111500: loss 6.06 4.47ms 2238tok/s (total 1,114,990tok)\n",
      "Oh my lord,.,.\n",
      "\n",
      "\n",
      "\n",
      "\n",
      "\n",
      "\n",
      "step 111520: loss 3.53 4.99ms 2003tok/s (total 1,115,190tok)\n",
      "step 111540: loss 4.52 5.33ms 1877tok/s (total 1,115,390tok)\n",
      "step 111560: loss 3.41 5.80ms 1725tok/s (total 1,115,590tok)\n",
      "step 111580: loss 1.30 4.75ms 2106tok/s (total 1,115,790tok)\n",
      "step 111600: loss 5.66 5.30ms 1887tok/s (total 1,115,990tok)\n",
      "Oh my lord,\n",
      "KING RICHARD:,:,\n",
      "step 111620: loss 6.87 4.71ms 2124tok/s (total 1,116,190tok)\n",
      "step 111640: loss 6.81 6.06ms 1649tok/s (total 1,116,390tok)\n",
      "step 111660: loss 6.23 6.77ms 1477tok/s (total 1,116,590tok)\n",
      "step 111680: loss 8.64 7.33ms 1363tok/s (total 1,116,790tok)\n",
      "step 111700: loss 2.61 8.99ms 1113tok/s (total 1,116,990tok)\n",
      "Oh my lord,\n",
      "To.\n",
      "KING RICHARD II\n",
      "step 111720: loss 0.22 17.14ms 583tok/s (total 1,117,190tok)\n",
      "step 111740: loss 3.43 9.91ms 1009tok/s (total 1,117,390tok)\n",
      "step 111760: loss 4.57 8.35ms 1198tok/s (total 1,117,590tok)\n",
      "step 111780: loss 0.05 6.55ms 1527tok/s (total 1,117,790tok)\n",
      "step 111800: loss 7.20 7.23ms 1383tok/s (total 1,117,990tok)\n",
      "Oh my lord.\n",
      "KING RICHARD II:\n",
      "\n",
      "\n",
      "step 111820: loss 0.99 5.89ms 1699tok/s (total 1,118,190tok)\n",
      "step 111840: loss 0.06 5.86ms 1706tok/s (total 1,118,390tok)\n",
      "step 111860: loss 3.91 13.89ms 720tok/s (total 1,118,590tok)\n",
      "step 111880: loss 7.48 6.11ms 1635tok/s (total 1,118,790tok)\n",
      "step 111900: loss 0.23 5.33ms 1877tok/s (total 1,118,990tok)\n",
      "Oh my lord.\n",
      "KING RICHARD II:\n",
      "\n",
      "\n",
      "step 111920: loss 1.31 6.13ms 1631tok/s (total 1,119,190tok)\n",
      "step 111940: loss 5.41 5.33ms 1877tok/s (total 1,119,390tok)\n",
      "step 111960: loss 7.79 6.04ms 1656tok/s (total 1,119,590tok)\n",
      "step 111980: loss 0.10 6.78ms 1474tok/s (total 1,119,790tok)\n",
      "step 112000: loss 0.12 7.17ms 1394tok/s (total 1,119,990tok)\n",
      "Oh my lord.\n",
      "\n",
      "\n",
      "\n",
      "\n",
      "\n",
      "\n",
      "\n",
      "\n",
      "\n",
      "step 112020: loss 8.99 3.68ms 2718tok/s (total 1,120,190tok)\n",
      "step 112040: loss 5.64 8.26ms 1211tok/s (total 1,120,390tok)\n",
      "step 112060: loss 11.99 17.57ms 569tok/s (total 1,120,590tok)\n",
      "step 112080: loss 0.14 10.64ms 940tok/s (total 1,120,790tok)\n",
      "step 112100: loss 4.11 7.77ms 1287tok/s (total 1,120,990tok)\n",
      "Oh my lord.\n",
      "\n",
      "\n",
      "\n",
      "\n",
      "\n",
      "\n",
      "\n",
      "\n",
      "\n",
      "step 112120: loss 5.85 5.95ms 1682tok/s (total 1,121,190tok)\n",
      "step 112140: loss 6.57 6.08ms 1646tok/s (total 1,121,390tok)\n",
      "step 112160: loss 3.98 10.31ms 970tok/s (total 1,121,590tok)\n",
      "step 112180: loss 10.65 9.24ms 1082tok/s (total 1,121,790tok)\n",
      "step 112200: loss 4.94 5.92ms 1689tok/s (total 1,121,990tok)\n",
      "Oh my lord,\n",
      ".\n",
      "HENRY BOLING\n",
      "step 112220: loss 0.59 5.52ms 1813tok/s (total 1,122,190tok)\n",
      "step 112240: loss 10.71 20.89ms 479tok/s (total 1,122,390tok)\n",
      "step 112260: loss 4.51 9.91ms 1009tok/s (total 1,122,590tok)\n",
      "step 112280: loss 7.59 8.75ms 1142tok/s (total 1,122,790tok)\n",
      "step 112300: loss 7.47 5.97ms 1675tok/s (total 1,122,990tok)\n",
      "Oh my lord;\n",
      "\n",
      "\n",
      "\n",
      "\n",
      "\n",
      "\n",
      "\n",
      "\n",
      "\n",
      "step 112320: loss 5.96 6.90ms 1449tok/s (total 1,123,190tok)\n",
      "step 112340: loss 5.07 5.17ms 1935tok/s (total 1,123,390tok)\n",
      "step 112360: loss 5.94 6.54ms 1529tok/s (total 1,123,590tok)\n",
      "step 112380: loss 1.67 4.92ms 2032tok/s (total 1,123,790tok)\n",
      "step 112400: loss 11.77 36.95ms 271tok/s (total 1,123,990tok)\n",
      "Oh my lord,\n",
      "And\n",
      "KE of the\n",
      "HEN\n",
      "step 112420: loss 3.11 16.16ms 619tok/s (total 1,124,190tok)\n",
      "step 112440: loss 8.95 6.26ms 1597tok/s (total 1,124,390tok)\n",
      "step 112460: loss 11.44 15.57ms 642tok/s (total 1,124,590tok)\n",
      "step 112480: loss 8.48 11.85ms 844tok/s (total 1,124,790tok)\n",
      "step 112500: loss 0.15 5.14ms 1946tok/s (total 1,124,990tok)\n",
      "Oh my lord,\n",
      " andTo the of,\n",
      "And the\n",
      "step 112520: loss 13.16 15.04ms 665tok/s (total 1,125,190tok)\n",
      "step 112540: loss 2.33 4.74ms 2110tok/s (total 1,125,390tok)\n",
      "step 112560: loss 0.08 44.37ms 225tok/s (total 1,125,590tok)\n",
      "step 112580: loss 9.88 8.53ms 1173tok/s (total 1,125,790tok)\n",
      "step 112600: loss 9.61 5.67ms 1764tok/s (total 1,125,990tok)\n",
      "Oh my lord,\n",
      " the the of, the.\n",
      " of\n",
      "step 112620: loss 12.52 9.50ms 1053tok/s (total 1,126,190tok)\n",
      "step 112640: loss 2.04 6.62ms 1510tok/s (total 1,126,390tok)\n",
      "step 112660: loss 5.77 12.78ms 783tok/s (total 1,126,590tok)\n",
      "step 112680: loss 8.09 7.74ms 1292tok/s (total 1,126,790tok)\n",
      "step 112700: loss 9.93 14.83ms 674tok/s (total 1,126,990tok)\n",
      "Oh my lord,\n",
      " and theTo\n",
      "Of the of\n",
      "\n",
      "step 112720: loss 4.67 6.12ms 1635tok/s (total 1,127,190tok)\n",
      "step 112740: loss 9.59 9.24ms 1083tok/s (total 1,127,390tok)\n",
      "step 112760: loss 4.37 12.88ms 776tok/s (total 1,127,590tok)\n",
      "step 112780: loss 4.06 129.93ms 77tok/s (total 1,127,790tok)\n",
      "step 112800: loss 3.82 8.47ms 1181tok/s (total 1,127,990tok)\n",
      "Oh my lord,\n",
      " andTo the of,\n",
      " our,\n",
      "step 112820: loss 12.66 10.87ms 920tok/s (total 1,128,190tok)\n",
      "step 112840: loss 5.97 9.19ms 1089tok/s (total 1,128,390tok)\n",
      "step 112860: loss 4.98 12.06ms 829tok/s (total 1,128,590tok)\n",
      "step 112880: loss 6.10 10.80ms 926tok/s (total 1,128,790tok)\n",
      "step 112900: loss 1.33 11.59ms 863tok/s (total 1,128,990tok)\n",
      "Oh my lord;\n",
      "And\n",
      " ofAnd the of\n",
      "\n",
      "\n",
      "step 112920: loss 7.16 11.75ms 851tok/s (total 1,129,190tok)\n",
      "step 112940: loss 7.01 7.16ms 1396tok/s (total 1,129,390tok)\n",
      "step 112960: loss 6.92 16.65ms 601tok/s (total 1,129,590tok)\n",
      "step 112980: loss 12.05 17.89ms 559tok/s (total 1,129,790tok)\n",
      "step 113000: loss 5.88 10.47ms 955tok/s (total 1,129,990tok)\n",
      "Oh my lord;\n",
      "And\n",
      " of the of\n",
      " the\n",
      "\n",
      "step 113020: loss 9.99 10.67ms 937tok/s (total 1,130,190tok)\n",
      "step 113040: loss 12.45 6.17ms 1620tok/s (total 1,130,390tok)\n",
      "step 113060: loss 3.91 4.63ms 2158tok/s (total 1,130,590tok)\n",
      "step 113080: loss 10.50 5.66ms 1766tok/s (total 1,130,790tok)\n",
      "step 113100: loss 7.38 7.63ms 1310tok/s (total 1,130,990tok)\n",
      "Oh my lord;\n",
      "And the of\n",
      "And the of\n",
      "\n",
      "step 113120: loss 9.92 6.38ms 1567tok/s (total 1,131,190tok)\n",
      "step 113140: loss 8.24 78.33ms 128tok/s (total 1,131,390tok)\n",
      "step 113160: loss 8.20 4.56ms 2193tok/s (total 1,131,590tok)\n",
      "step 113180: loss 6.34 4.58ms 2182tok/s (total 1,131,790tok)\n",
      "step 113200: loss 0.69 5.88ms 1699tok/s (total 1,131,990tok)\n",
      "Oh my lord,\n",
      " andAnd\n",
      " his to of the\n",
      "\n",
      "step 113220: loss 5.91 7.24ms 1381tok/s (total 1,132,190tok)\n",
      "step 113240: loss 0.03 5.44ms 1838tok/s (total 1,132,390tok)\n",
      "step 113260: loss 7.41 4.73ms 2116tok/s (total 1,132,590tok)\n",
      "step 113280: loss 11.99 6.85ms 1460tok/s (total 1,132,790tok)\n",
      "step 113300: loss 8.35 5.52ms 1812tok/s (total 1,132,990tok)\n",
      "Oh my lord;\n",
      "And\n",
      " the of\n",
      "And his\n",
      "\n",
      "step 113320: loss 4.07 4.43ms 2255tok/s (total 1,133,190tok)\n",
      "step 113340: loss 12.29 4.88ms 2050tok/s (total 1,133,390tok)\n",
      "step 113360: loss 1.17 7.15ms 1399tok/s (total 1,133,590tok)\n",
      "step 113380: loss 5.32 7.60ms 1316tok/s (total 1,133,790tok)\n",
      "step 113400: loss 5.92 11.91ms 839tok/s (total 1,133,990tok)\n",
      "Oh my lord;\n",
      "And, and\n",
      " so to the of\n",
      "step 113420: loss 7.27 4.89ms 2046tok/s (total 1,134,190tok)\n",
      "step 113440: loss 7.13 6.15ms 1625tok/s (total 1,134,390tok)\n",
      "step 113460: loss 9.38 5.70ms 1755tok/s (total 1,134,590tok)\n",
      "step 113480: loss 5.78 6.69ms 1495tok/s (total 1,134,790tok)\n",
      "step 113500: loss 8.18 6.85ms 1459tok/s (total 1,134,990tok)\n",
      "Oh my lord,!\n",
      "KING RICHARD II:\n",
      "\n",
      "step 113520: loss 7.20 6.26ms 1598tok/s (total 1,135,190tok)\n",
      "step 113540: loss 4.50 14.79ms 676tok/s (total 1,135,390tok)\n",
      "step 113560: loss 12.77 10.31ms 970tok/s (total 1,135,590tok)\n",
      "step 113580: loss 3.75 5.29ms 1889tok/s (total 1,135,790tok)\n",
      "step 113600: loss 2.64 8.00ms 1249tok/s (total 1,135,990tok)\n",
      "Oh my lord:\n",
      "The of king,'s,'s,\n",
      "step 113620: loss 6.15 6.51ms 1537tok/s (total 1,136,190tok)\n",
      "step 113640: loss 3.53 6.37ms 1570tok/s (total 1,136,390tok)\n",
      "step 113660: loss 7.91 5.42ms 1846tok/s (total 1,136,590tok)\n",
      "step 113680: loss 5.05 6.90ms 1450tok/s (total 1,136,790tok)\n",
      "step 113700: loss 9.56 5.69ms 1757tok/s (total 1,136,990tok)\n",
      "Oh my lord,\n",
      "KING RICHARD:\n",
      "\n",
      "\n",
      "\n",
      "step 113720: loss 8.01 7.61ms 1314tok/s (total 1,137,190tok)\n",
      "step 113740: loss 3.62 10.40ms 962tok/s (total 1,137,390tok)\n",
      "step 113760: loss 7.68 7.31ms 1367tok/s (total 1,137,590tok)\n",
      "step 113780: loss 11.17 4.79ms 2087tok/s (total 1,137,790tok)\n",
      "step 113800: loss 11.08 6.18ms 1618tok/s (total 1,137,990tok)\n",
      "Oh my lord;\n",
      "And, I'll a,And\n",
      "\n",
      "step 113820: loss 5.74 5.10ms 1961tok/s (total 1,138,190tok)\n",
      "step 113840: loss 14.23 5.18ms 1930tok/s (total 1,138,390tok)\n",
      "step 113860: loss 6.08 6.60ms 1515tok/s (total 1,138,590tok)\n",
      "step 113880: loss 5.50 4.64ms 2154tok/s (total 1,138,790tok)\n",
      "step 113900: loss 3.76 5.36ms 1864tok/s (total 1,138,990tok)\n",
      "Oh my lord,\n",
      "KING RICHARD II:,:\n",
      "step 113920: loss 1.59 5.19ms 1925tok/s (total 1,139,190tok)\n",
      "step 113940: loss 2.04 4.88ms 2048tok/s (total 1,139,390tok)\n",
      "step 113960: loss 7.55 6.13ms 1632tok/s (total 1,139,590tok)\n",
      "step 113980: loss 11.74 6.88ms 1453tok/s (total 1,139,790tok)\n",
      "step 114000: loss 5.97 5.60ms 1786tok/s (total 1,139,990tok)\n",
      "Oh my lord;\n",
      "And, I the,ing of\n",
      "\n",
      "step 114020: loss 4.27 6.50ms 1539tok/s (total 1,140,190tok)\n",
      "step 114040: loss 3.49 6.17ms 1620tok/s (total 1,140,390tok)\n",
      "step 114060: loss 6.22 6.49ms 1542tok/s (total 1,140,590tok)\n",
      "step 114080: loss 3.32 7.53ms 1327tok/s (total 1,140,790tok)\n",
      "step 114100: loss 6.83 6.06ms 1651tok/s (total 1,140,990tok)\n",
      "Oh my lord;\n",
      "And,\n",
      " and the of\n",
      "To\n",
      "step 114120: loss 0.12 10.15ms 985tok/s (total 1,141,190tok)\n",
      "step 114140: loss 3.52 6.01ms 1664tok/s (total 1,141,390tok)\n",
      "step 114160: loss 8.83 5.41ms 1850tok/s (total 1,141,590tok)\n",
      "step 114180: loss 5.39 5.25ms 1907tok/s (total 1,141,790tok)\n",
      "step 114200: loss 6.44 5.71ms 1753tok/s (total 1,141,990tok)\n",
      "Oh my lord,\n",
      "To and.\n",
      "KING RICHARD\n",
      "step 114220: loss 2.88 25.85ms 387tok/s (total 1,142,190tok)\n",
      "step 114240: loss 6.48 6.17ms 1620tok/s (total 1,142,390tok)\n",
      "step 114260: loss 3.54 5.83ms 1715tok/s (total 1,142,590tok)\n",
      "step 114280: loss 6.35 5.28ms 1893tok/s (total 1,142,790tok)\n",
      "step 114300: loss 4.28 4.33ms 2307tok/s (total 1,142,990tok)\n",
      "Oh my lord,\n",
      "KING RICHARD II:,:\n",
      "step 114320: loss 0.33 5.55ms 1800tok/s (total 1,143,190tok)\n",
      "step 114340: loss 3.49 6.89ms 1450tok/s (total 1,143,390tok)\n",
      "step 114360: loss 12.08 6.87ms 1456tok/s (total 1,143,590tok)\n",
      "step 114380: loss 8.23 7.69ms 1300tok/s (total 1,143,790tok)\n",
      "step 114400: loss 4.14 7.55ms 1324tok/s (total 1,143,990tok)\n",
      "Oh my lord,;\n",
      " I you have, and your your\n",
      "step 114420: loss 2.54 6.14ms 1630tok/s (total 1,144,190tok)\n",
      "step 114440: loss 1.74 7.70ms 1298tok/s (total 1,144,390tok)\n",
      "step 114460: loss 3.69 5.02ms 1990tok/s (total 1,144,590tok)\n",
      "step 114480: loss 12.33 4.97ms 2012tok/s (total 1,144,790tok)\n",
      "step 114500: loss 13.95 4.87ms 2053tok/s (total 1,144,990tok)\n",
      "Oh my lord.\n",
      "\n",
      "\n",
      "\n",
      "\n",
      "\n",
      "\n",
      "\n",
      "\n",
      "\n",
      "step 114520: loss 13.66 6.85ms 1459tok/s (total 1,145,190tok)\n",
      "step 114540: loss 6.39 5.50ms 1817tok/s (total 1,145,390tok)\n",
      "step 114560: loss 11.59 8.15ms 1227tok/s (total 1,145,590tok)\n",
      "step 114580: loss 4.73 5.84ms 1712tok/s (total 1,145,790tok)\n",
      "step 114600: loss 3.96 5.77ms 1733tok/s (total 1,145,990tok)\n",
      "Oh my lord.\n",
      "\n",
      "\n",
      "\n",
      "\n",
      "\n",
      "\n",
      "\n",
      "\n",
      "\n",
      "step 114620: loss 3.85 7.60ms 1315tok/s (total 1,146,190tok)\n",
      "step 114640: loss 12.62 5.05ms 1979tok/s (total 1,146,390tok)\n",
      "step 114660: loss 7.53 5.23ms 1913tok/s (total 1,146,590tok)\n",
      "step 114680: loss 5.18 6.04ms 1654tok/s (total 1,146,790tok)\n",
      "step 114700: loss 1.68 7.27ms 1376tok/s (total 1,146,990tok)\n",
      "Oh my lord:\n",
      ",\n",
      " of I;\n",
      "And to\n",
      "step 114720: loss 5.15 5.90ms 1695tok/s (total 1,147,190tok)\n",
      "step 114740: loss 7.97 5.69ms 1757tok/s (total 1,147,390tok)\n",
      "step 114760: loss 0.15 5.26ms 1899tok/s (total 1,147,590tok)\n",
      "step 114780: loss 4.82 5.85ms 1710tok/s (total 1,147,790tok)\n",
      "step 114800: loss 2.69 5.03ms 1990tok/s (total 1,147,990tok)\n",
      "Oh my lord:\n",
      ", I'll.\n",
      "\n",
      "\n",
      "\n",
      "\n",
      "step 114820: loss 4.31 5.15ms 1941tok/s (total 1,148,190tok)\n",
      "step 114840: loss 1.94 5.18ms 1929tok/s (total 1,148,390tok)\n",
      "step 114860: loss 2.28 5.00ms 2000tok/s (total 1,148,590tok)\n",
      "step 114880: loss 12.08 4.94ms 2024tok/s (total 1,148,790tok)\n",
      "step 114900: loss 6.89 4.81ms 2078tok/s (total 1,148,990tok)\n",
      "Oh my lord.\n",
      "\n",
      "\n",
      "\n",
      "\n",
      "\n",
      "\n",
      "\n",
      "\n",
      "\n",
      "step 114920: loss 6.23 5.50ms 1817tok/s (total 1,149,190tok)\n",
      "step 114940: loss 7.39 4.95ms 2021tok/s (total 1,149,390tok)\n",
      "step 114960: loss 10.79 5.04ms 1983tok/s (total 1,149,590tok)\n",
      "step 114980: loss 2.68 5.45ms 1836tok/s (total 1,149,790tok)\n",
      "step 115000: loss 4.11 7.75ms 1291tok/s (total 1,149,990tok)\n",
      "Oh my lord,\n",
      "QUEEN:\n",
      "\n",
      "\n",
      "\n",
      "\n",
      "step 115020: loss 8.15 6.24ms 1602tok/s (total 1,150,190tok)\n",
      "step 115040: loss 2.88 4.95ms 2019tok/s (total 1,150,390tok)\n",
      "step 115060: loss 4.92 5.32ms 1878tok/s (total 1,150,590tok)\n",
      "step 115080: loss 9.63 5.86ms 1707tok/s (total 1,150,790tok)\n",
      "step 115100: loss 9.40 5.49ms 1821tok/s (total 1,150,990tok)\n",
      "Oh my lord:\n",
      ",\n",
      " the of\n",
      "And the of\n",
      "step 115120: loss 5.62 5.80ms 1723tok/s (total 1,151,190tok)\n",
      "step 115140: loss 8.43 5.17ms 1934tok/s (total 1,151,390tok)\n",
      "step 115160: loss 4.64 6.29ms 1589tok/s (total 1,151,590tok)\n",
      "step 115180: loss 2.78 5.09ms 1965tok/s (total 1,151,790tok)\n",
      "step 115200: loss 10.66 9.03ms 1108tok/s (total 1,151,990tok)\n",
      "Oh my lord:\n",
      ", the of\n",
      "That, the of\n",
      "step 115220: loss 9.34 4.75ms 2105tok/s (total 1,152,190tok)\n",
      "step 115240: loss 4.96 275.52ms 36tok/s (total 1,152,390tok)\n",
      "step 115260: loss 6.02 6.24ms 1602tok/s (total 1,152,590tok)\n",
      "step 115280: loss 1.75 5.80ms 1724tok/s (total 1,152,790tok)\n",
      "step 115300: loss 8.99 98.69ms 101tok/s (total 1,152,990tok)\n",
      "Oh my lord:\n",
      ",\n",
      " andI, in the of\n",
      "step 115320: loss 8.41 5.46ms 1831tok/s (total 1,153,190tok)\n",
      "step 115340: loss 5.74 6.76ms 1480tok/s (total 1,153,390tok)\n",
      "step 115360: loss 9.67 5.30ms 1888tok/s (total 1,153,590tok)\n",
      "step 115380: loss 3.75 5.23ms 1911tok/s (total 1,153,790tok)\n",
      "step 115400: loss 0.03 8.45ms 1184tok/s (total 1,153,990tok)\n",
      "Oh my lord:\n",
      " he,\n",
      " he is\n",
      "And'd\n",
      "step 115420: loss 6.02 4.99ms 2004tok/s (total 1,154,190tok)\n",
      "step 115440: loss 10.85 7.96ms 1256tok/s (total 1,154,390tok)\n",
      "step 115460: loss 3.47 6.31ms 1584tok/s (total 1,154,590tok)\n",
      "step 115480: loss 2.58 5.13ms 1950tok/s (total 1,154,790tok)\n",
      "step 115500: loss 7.55 5.41ms 1848tok/s (total 1,154,990tok)\n",
      "Oh my lord,,,,,,,,,,\n",
      "step 115520: loss 1.05 91.28ms 110tok/s (total 1,155,190tok)\n",
      "step 115540: loss 4.81 9.55ms 1047tok/s (total 1,155,390tok)\n",
      "step 115560: loss 6.17 6.40ms 1563tok/s (total 1,155,590tok)\n",
      "step 115580: loss 5.88 5.25ms 1903tok/s (total 1,155,790tok)\n",
      "step 115600: loss 13.29 7.16ms 1397tok/s (total 1,155,990tok)\n",
      "Oh my lord:\n",
      ", the of's\n",
      "That,That\n",
      "step 115620: loss 6.45 7.10ms 1409tok/s (total 1,156,190tok)\n",
      "step 115640: loss 3.77 7.66ms 1305tok/s (total 1,156,390tok)\n",
      "step 115660: loss 1.41 10.92ms 916tok/s (total 1,156,590tok)\n",
      "step 115680: loss 9.19 5.31ms 1885tok/s (total 1,156,790tok)\n",
      "step 115700: loss 2.61 7.38ms 1355tok/s (total 1,156,990tok)\n",
      "Oh my lord,\n",
      "QUEEN: that that thou thou\n",
      "step 115720: loss 2.15 108.83ms 92tok/s (total 1,157,190tok)\n",
      "step 115740: loss 8.21 5.14ms 1946tok/s (total 1,157,390tok)\n",
      "step 115760: loss 1.94 7.11ms 1407tok/s (total 1,157,590tok)\n",
      "step 115780: loss 4.80 8.13ms 1230tok/s (total 1,157,790tok)\n",
      "step 115800: loss 5.50 4.47ms 2240tok/s (total 1,157,990tok)\n",
      "Oh my lord.\n",
      "\n",
      "\n",
      "\n",
      "\n",
      "\n",
      "\n",
      "\n",
      "\n",
      "\n",
      "step 115820: loss 1.73 19.70ms 507tok/s (total 1,158,190tok)\n",
      "step 115840: loss 8.22 4.96ms 2017tok/s (total 1,158,390tok)\n",
      "step 115860: loss 10.25 5.22ms 1914tok/s (total 1,158,590tok)\n",
      "step 115880: loss 0.13 5.10ms 1960tok/s (total 1,158,790tok)\n",
      "step 115900: loss 1.49 5.49ms 1821tok/s (total 1,158,990tok)\n",
      "Oh my lord.\n",
      "\n",
      "\n",
      "\n",
      "\n",
      "\n",
      "\n",
      "\n",
      "\n",
      "\n",
      "step 115920: loss 4.76 5.43ms 1842tok/s (total 1,159,190tok)\n",
      "step 115940: loss 0.21 55.35ms 181tok/s (total 1,159,390tok)\n",
      "step 115960: loss 0.24 10.59ms 944tok/s (total 1,159,590tok)\n",
      "step 115980: loss 9.92 6.52ms 1533tok/s (total 1,159,790tok)\n",
      "step 116000: loss 10.98 5.61ms 1781tok/s (total 1,159,990tok)\n",
      "Oh my lord.\n",
      "\n",
      "\n",
      "\n",
      "\n",
      "\n",
      "\n",
      "\n",
      "\n",
      "\n",
      "step 116020: loss 14.44 4.37ms 2291tok/s (total 1,160,190tok)\n",
      "step 116040: loss 8.84 5.17ms 1936tok/s (total 1,160,390tok)\n",
      "step 116060: loss 12.03 6.51ms 1536tok/s (total 1,160,590tok)\n",
      "step 116080: loss 6.61 6.41ms 1560tok/s (total 1,160,790tok)\n",
      "step 116100: loss 5.08 7.72ms 1295tok/s (total 1,160,990tok)\n",
      "Oh my lord;\n",
      "I you you to\n",
      " you know the\n",
      "step 116120: loss 0.84 4.50ms 2221tok/s (total 1,161,190tok)\n",
      "step 116140: loss 9.00 5.80ms 1726tok/s (total 1,161,390tok)\n",
      "step 116160: loss 2.24 6.15ms 1626tok/s (total 1,161,590tok)\n",
      "step 116180: loss 8.14 72.57ms 138tok/s (total 1,161,790tok)\n",
      "step 116200: loss 2.69 8.44ms 1184tok/s (total 1,161,990tok)\n",
      "Oh my lord,\n",
      "G the of\n",
      "DKEKE OF\n",
      "step 116220: loss 10.26 5.81ms 1722tok/s (total 1,162,190tok)\n",
      "step 116240: loss 7.36 7.46ms 1341tok/s (total 1,162,390tok)\n",
      "step 116260: loss 1.03 5.03ms 1987tok/s (total 1,162,590tok)\n",
      "step 116280: loss 6.04 12.52ms 798tok/s (total 1,162,790tok)\n",
      "step 116300: loss 6.69 6.20ms 1613tok/s (total 1,162,990tok)\n",
      "Oh my lord,\n",
      "DUKE OF AUM thou\n",
      "\n",
      "step 116320: loss 13.01 4.71ms 2122tok/s (total 1,163,190tok)\n",
      "step 116340: loss 7.52 8.23ms 1216tok/s (total 1,163,390tok)\n",
      "step 116360: loss 5.89 9.62ms 1040tok/s (total 1,163,590tok)\n",
      "step 116380: loss 5.24 6.18ms 1618tok/s (total 1,163,790tok)\n",
      "step 116400: loss 2.12 10.39ms 962tok/s (total 1,163,990tok)\n",
      "Oh my lord.\n",
      "\n",
      "\n",
      "\n",
      "\n",
      "\n",
      "\n",
      "\n",
      "\n",
      "\n",
      "step 116420: loss 1.26 5.74ms 1742tok/s (total 1,164,190tok)\n",
      "step 116440: loss 0.81 10.08ms 992tok/s (total 1,164,390tok)\n",
      "step 116460: loss 2.62 10.77ms 929tok/s (total 1,164,590tok)\n",
      "step 116480: loss 9.67 4.95ms 2022tok/s (total 1,164,790tok)\n",
      "step 116500: loss 12.57 5.29ms 1890tok/s (total 1,164,990tok)\n",
      "Oh my lord.\n",
      "\n",
      "\n",
      "\n",
      "\n",
      "\n",
      "\n",
      "\n",
      "\n",
      "\n",
      "step 116520: loss 1.17 5.63ms 1776tok/s (total 1,165,190tok)\n",
      "step 116540: loss 4.04 5.46ms 1830tok/s (total 1,165,390tok)\n",
      "step 116560: loss 4.23 4.91ms 2038tok/s (total 1,165,590tok)\n",
      "step 116580: loss 1.06 13.07ms 765tok/s (total 1,165,790tok)\n",
      "step 116600: loss 9.14 10.68ms 937tok/s (total 1,165,990tok)\n",
      "Oh my lord,\n",
      "DUKE OF A\n",
      "UMER\n",
      "step 116620: loss 2.07 7.08ms 1413tok/s (total 1,166,190tok)\n",
      "step 116640: loss 1.47 7.41ms 1350tok/s (total 1,166,390tok)\n",
      "step 116660: loss 11.29 5.42ms 1846tok/s (total 1,166,590tok)\n",
      "step 116680: loss 3.72 6.23ms 1604tok/s (total 1,166,790tok)\n",
      "step 116700: loss 8.14 5.86ms 1706tok/s (total 1,166,990tok)\n",
      "Oh my lord;\n",
      "And the\n",
      "DUKEKE OF\n",
      "step 116720: loss 5.29 6.44ms 1552tok/s (total 1,167,190tok)\n",
      "step 116740: loss 12.70 4.53ms 2209tok/s (total 1,167,390tok)\n",
      "step 116760: loss 5.11 5.82ms 1717tok/s (total 1,167,590tok)\n",
      "step 116780: loss 6.94 5.41ms 1848tok/s (total 1,167,790tok)\n",
      "step 116800: loss 0.29 5.89ms 1697tok/s (total 1,167,990tok)\n",
      "Oh my lord:\n",
      "I you; you you have\n",
      " in\n",
      "step 116820: loss 5.55 5.53ms 1807tok/s (total 1,168,190tok)\n",
      "step 116840: loss 0.02 5.34ms 1872tok/s (total 1,168,390tok)\n",
      "step 116860: loss 9.88 5.57ms 1796tok/s (total 1,168,590tok)\n",
      "step 116880: loss 4.54 5.39ms 1854tok/s (total 1,168,790tok)\n",
      "step 116900: loss 12.94 12.25ms 816tok/s (total 1,168,990tok)\n",
      "Oh my lord:\n",
      ",\n",
      "I you you shall the and\n",
      "step 116920: loss 3.55 8.95ms 1117tok/s (total 1,169,190tok)\n",
      "step 116940: loss 10.57 12.18ms 821tok/s (total 1,169,390tok)\n",
      "step 116960: loss 9.05 5.44ms 1840tok/s (total 1,169,590tok)\n",
      "step 116980: loss 10.78 32.59ms 307tok/s (total 1,169,790tok)\n",
      "step 117000: loss 2.24 18.70ms 535tok/s (total 1,169,990tok)\n",
      "Oh my lord,\n",
      "And,\n",
      "L the of\n",
      "And\n",
      "step 117020: loss 2.07 22.31ms 448tok/s (total 1,170,190tok)\n",
      "step 117040: loss 8.79 30.45ms 328tok/s (total 1,170,390tok)\n",
      "step 117060: loss 3.98 40.95ms 244tok/s (total 1,170,590tok)\n",
      "step 117080: loss 10.58 8.38ms 1193tok/s (total 1,170,790tok)\n",
      "step 117100: loss 0.96 6.02ms 1660tok/s (total 1,170,990tok)\n",
      "Oh my lord:\n",
      " I,\n",
      "And the\n",
      "To I\n",
      "step 117120: loss 0.12 36.28ms 276tok/s (total 1,171,190tok)\n",
      "step 117140: loss 3.96 14.13ms 708tok/s (total 1,171,390tok)\n",
      "step 117160: loss 5.90 131.13ms 76tok/s (total 1,171,590tok)\n",
      "step 117180: loss 5.14 14.41ms 694tok/s (total 1,171,790tok)\n",
      "step 117200: loss 8.57 20.95ms 477tok/s (total 1,171,990tok)\n",
      "Oh my lord:\n",
      ",\n",
      "I shall he be,To\n",
      "step 117220: loss 11.58 2.60ms 3844tok/s (total 1,172,190tok)\n",
      "step 117240: loss 9.13 4.99ms 2003tok/s (total 1,172,390tok)\n",
      "step 117260: loss 7.18 8.52ms 1173tok/s (total 1,172,590tok)\n",
      "step 117280: loss 4.98 5.84ms 1713tok/s (total 1,172,790tok)\n",
      "step 117300: loss 1.80 11.24ms 890tok/s (total 1,172,990tok)\n",
      "Oh my lord,\n",
      "To\n",
      "L and\n",
      "DKEU\n",
      "step 117320: loss 5.97 13.25ms 755tok/s (total 1,173,190tok)\n",
      "step 117340: loss 4.87 4.03ms 2484tok/s (total 1,173,390tok)\n",
      "step 117360: loss 7.41 6.68ms 1497tok/s (total 1,173,590tok)\n",
      "step 117380: loss 8.65 6.25ms 1601tok/s (total 1,173,790tok)\n",
      "step 117400: loss 2.19 4.75ms 2104tok/s (total 1,173,990tok)\n",
      "Oh my lord.\n",
      "\n",
      "\n",
      "\n",
      "\n",
      "\n",
      "\n",
      "\n",
      "\n",
      "\n",
      "step 117420: loss 7.18 21.80ms 459tok/s (total 1,174,190tok)\n",
      "step 117440: loss 12.17 4.97ms 2014tok/s (total 1,174,390tok)\n",
      "step 117460: loss 6.43 27.70ms 361tok/s (total 1,174,590tok)\n",
      "step 117480: loss 0.11 8.24ms 1213tok/s (total 1,174,790tok)\n",
      "step 117500: loss 1.31 3.83ms 2610tok/s (total 1,174,990tok)\n",
      "Oh my lord:\n",
      ",\n",
      "And the of\n",
      "\n",
      "\n",
      "\n",
      "step 117520: loss 7.61 6.97ms 1435tok/s (total 1,175,190tok)\n",
      "step 117540: loss 0.19 4.82ms 2076tok/s (total 1,175,390tok)\n",
      "step 117560: loss 5.86 5.93ms 1687tok/s (total 1,175,590tok)\n",
      "step 117580: loss 8.16 8.81ms 1136tok/s (total 1,175,790tok)\n",
      "step 117600: loss 1.84 8.92ms 1121tok/s (total 1,175,990tok)\n",
      "Oh my lord.\n",
      "\n",
      "\n",
      "\n",
      "\n",
      "\n",
      "\n",
      "\n",
      "\n",
      "\n",
      "step 117620: loss 7.11 5.95ms 1681tok/s (total 1,176,190tok)\n",
      "step 117640: loss 6.35 4.88ms 2049tok/s (total 1,176,390tok)\n",
      "step 117660: loss 7.92 5.01ms 1996tok/s (total 1,176,590tok)\n",
      "step 117680: loss 4.12 3.99ms 2504tok/s (total 1,176,790tok)\n",
      "step 117700: loss 5.95 9.19ms 1088tok/s (total 1,176,990tok)\n",
      "Oh my lord,\n",
      "And,\n",
      " the of\n",
      "DU\n",
      "step 117720: loss 6.14 8.45ms 1184tok/s (total 1,177,190tok)\n",
      "step 117740: loss 8.00 9.72ms 1028tok/s (total 1,177,390tok)\n",
      "step 117760: loss 3.79 7.27ms 1375tok/s (total 1,177,590tok)\n",
      "step 117780: loss 10.97 7.04ms 1420tok/s (total 1,177,790tok)\n",
      "step 117800: loss 7.10 6.85ms 1461tok/s (total 1,177,990tok)\n",
      "Oh my lord:\n",
      ",And,\n",
      " a\n",
      "And of\n",
      "step 117820: loss 11.47 7.28ms 1373tok/s (total 1,178,190tok)\n",
      "step 117840: loss 8.43 6.36ms 1573tok/s (total 1,178,390tok)\n",
      "step 117860: loss 7.46 6.35ms 1576tok/s (total 1,178,590tok)\n",
      "step 117880: loss 10.29 10.40ms 962tok/s (total 1,178,790tok)\n",
      "step 117900: loss 9.13 5.18ms 1931tok/s (total 1,178,990tok)\n",
      "Oh my lord,\n",
      "And this\n",
      "KE of\n",
      "DKE\n",
      "step 117920: loss 3.52 18.40ms 543tok/s (total 1,179,190tok)\n",
      "step 117940: loss 6.09 7.81ms 1281tok/s (total 1,179,390tok)\n",
      "step 117960: loss 6.81 6.84ms 1461tok/s (total 1,179,590tok)\n",
      "step 117980: loss 3.46 27.28ms 367tok/s (total 1,179,790tok)\n",
      "step 118000: loss 10.97 7.86ms 1272tok/s (total 1,179,990tok)\n",
      "Oh my lord.\n",
      "\n",
      "\n",
      "\n",
      "\n",
      "\n",
      "\n",
      "\n",
      "\n",
      "\n",
      "step 118020: loss 4.13 10.96ms 912tok/s (total 1,180,190tok)\n",
      "step 118040: loss 0.04 7.89ms 1267tok/s (total 1,180,390tok)\n",
      "step 118060: loss 7.70 8.71ms 1147tok/s (total 1,180,590tok)\n",
      "step 118080: loss 7.67 7.83ms 1278tok/s (total 1,180,790tok)\n",
      "step 118100: loss 7.75 6.46ms 1549tok/s (total 1,180,990tok)\n",
      "Oh my lord.\n",
      "\n",
      "\n",
      "\n",
      "\n",
      "\n",
      "\n",
      "\n",
      "\n",
      "\n",
      "step 118120: loss 7.76 4.51ms 2219tok/s (total 1,181,190tok)\n",
      "step 118140: loss 10.24 9.56ms 1046tok/s (total 1,181,390tok)\n",
      "step 118160: loss 12.19 4.48ms 2233tok/s (total 1,181,590tok)\n",
      "step 118180: loss 4.46 7.49ms 1335tok/s (total 1,181,790tok)\n",
      "step 118200: loss 4.21 7.55ms 1324tok/s (total 1,181,990tok)\n",
      "Oh my lord:\n",
      ", to\n",
      "I you to the\n",
      "\n",
      "step 118220: loss 5.16 117.78ms 85tok/s (total 1,182,190tok)\n",
      "step 118240: loss 6.80 12.33ms 811tok/s (total 1,182,390tok)\n",
      "step 118260: loss 6.54 6.92ms 1446tok/s (total 1,182,590tok)\n",
      "step 118280: loss 7.83 9.64ms 1037tok/s (total 1,182,790tok)\n",
      "step 118300: loss 6.70 16.07ms 622tok/s (total 1,182,990tok)\n",
      "Oh my lord:\n",
      ", ITo to the of\n",
      " the\n",
      "step 118320: loss 9.06 80.99ms 123tok/s (total 1,183,190tok)\n",
      "step 118340: loss 9.76 32.30ms 310tok/s (total 1,183,390tok)\n",
      "step 118360: loss 6.40 9.83ms 1017tok/s (total 1,183,590tok)\n",
      "step 118380: loss 3.09 9.16ms 1091tok/s (total 1,183,790tok)\n",
      "step 118400: loss 12.43 6.61ms 1514tok/s (total 1,183,990tok)\n",
      "Oh my lord.\n",
      "KING RICHARD II:\n",
      ",\n",
      "step 118420: loss 5.19 6.91ms 1447tok/s (total 1,184,190tok)\n",
      "step 118440: loss 0.13 6.81ms 1468tok/s (total 1,184,390tok)\n",
      "step 118460: loss 0.11 7.44ms 1345tok/s (total 1,184,590tok)\n",
      "step 118480: loss 11.89 6.74ms 1483tok/s (total 1,184,790tok)\n",
      "step 118500: loss 2.70 6.43ms 1555tok/s (total 1,184,990tok)\n",
      "Oh my lord;\n",
      "KING RICHARD II: I am\n",
      "step 118520: loss 5.16 6.51ms 1535tok/s (total 1,185,190tok)\n",
      "step 118540: loss 7.98 171.08ms 58tok/s (total 1,185,390tok)\n",
      "step 118560: loss 7.37 11.51ms 869tok/s (total 1,185,590tok)\n",
      "step 118580: loss 8.20 23.52ms 425tok/s (total 1,185,790tok)\n",
      "step 118600: loss 0.03 8.73ms 1145tok/s (total 1,185,990tok)\n",
      "Oh my lord.\n",
      "\n",
      "\n",
      "\n",
      "\n",
      "\n",
      "\n",
      "\n",
      "\n",
      "\n",
      "step 118620: loss 0.43 7.06ms 1416tok/s (total 1,186,190tok)\n",
      "step 118640: loss 4.41 27.67ms 361tok/s (total 1,186,390tok)\n",
      "step 118660: loss 5.64 6.10ms 1639tok/s (total 1,186,590tok)\n",
      "step 118680: loss 10.17 36.61ms 273tok/s (total 1,186,790tok)\n",
      "step 118700: loss 6.28 35.78ms 280tok/s (total 1,186,990tok)\n",
      "Oh my lord;\n",
      "KING RICHARD II: I;\n",
      "step 118720: loss 2.00 21.84ms 458tok/s (total 1,187,190tok)\n",
      "step 118740: loss 12.10 5.55ms 1803tok/s (total 1,187,390tok)\n",
      "step 118760: loss 13.46 5.95ms 1681tok/s (total 1,187,590tok)\n",
      "step 118780: loss 5.85 6.40ms 1561tok/s (total 1,187,790tok)\n",
      "step 118800: loss 6.72 6.33ms 1580tok/s (total 1,187,990tok)\n",
      "Oh my lord,\n",
      "KING RICHARD II: I;\n",
      "step 118820: loss 11.40 5.97ms 1674tok/s (total 1,188,190tok)\n",
      "step 118840: loss 1.87 5.64ms 1772tok/s (total 1,188,390tok)\n",
      "step 118860: loss 8.65 5.84ms 1713tok/s (total 1,188,590tok)\n",
      "step 118880: loss 2.57 4.86ms 2056tok/s (total 1,188,790tok)\n",
      "step 118900: loss 12.87 7.46ms 1340tok/s (total 1,188,990tok)\n",
      "Oh my lord,\n",
      "KING RICHARD II:!\n",
      "\n",
      "step 118920: loss 2.07 5.41ms 1848tok/s (total 1,189,190tok)\n",
      "step 118940: loss 7.21 5.69ms 1759tok/s (total 1,189,390tok)\n",
      "step 118960: loss 13.42 5.92ms 1690tok/s (total 1,189,590tok)\n",
      "step 118980: loss 7.46 10.24ms 977tok/s (total 1,189,790tok)\n",
      "step 119000: loss 2.94 5.51ms 1816tok/s (total 1,189,990tok)\n",
      "Oh my lord!\n",
      "KING RICHARD II:\n",
      "\n",
      "\n",
      "step 119020: loss 11.97 12.92ms 774tok/s (total 1,190,190tok)\n",
      "step 119040: loss 5.22 5.58ms 1792tok/s (total 1,190,390tok)\n",
      "step 119060: loss 8.02 36.58ms 273tok/s (total 1,190,590tok)\n",
      "step 119080: loss 5.72 7.29ms 1372tok/s (total 1,190,790tok)\n",
      "step 119100: loss 8.38 144.03ms 69tok/s (total 1,190,990tok)\n",
      "Oh my lord,\n",
      "KING RICHARD II: I;\n",
      "step 119120: loss 1.98 19.63ms 509tok/s (total 1,191,190tok)\n",
      "step 119140: loss 0.01 4.78ms 2093tok/s (total 1,191,390tok)\n",
      "step 119160: loss 0.10 7.68ms 1302tok/s (total 1,191,590tok)\n",
      "step 119180: loss 9.21 4.89ms 2045tok/s (total 1,191,790tok)\n",
      "step 119200: loss 7.36 163.41ms 61tok/s (total 1,191,990tok)\n",
      "Oh my lord,\n",
      "KING RICHARD: I; I\n",
      "step 119220: loss 11.41 14.94ms 670tok/s (total 1,192,190tok)\n",
      "step 119240: loss 4.19 5.34ms 1872tok/s (total 1,192,390tok)\n",
      "step 119260: loss 3.15 6.12ms 1634tok/s (total 1,192,590tok)\n",
      "step 119280: loss 3.36 6.92ms 1444tok/s (total 1,192,790tok)\n",
      "step 119300: loss 4.45 7.33ms 1364tok/s (total 1,192,990tok)\n",
      "Oh my lord,\n",
      "KING RICHARD II:,:\n",
      "step 119320: loss 8.15 6.08ms 1644tok/s (total 1,193,190tok)\n",
      "step 119340: loss 5.55 8.45ms 1183tok/s (total 1,193,390tok)\n",
      "step 119360: loss 5.13 9.02ms 1108tok/s (total 1,193,590tok)\n",
      "step 119380: loss 7.76 40.94ms 244tok/s (total 1,193,790tok)\n",
      "step 119400: loss 0.89 16.86ms 593tok/s (total 1,193,990tok)\n",
      "Oh my lord,\n",
      "KING RICHARD II:,:\n",
      "step 119420: loss 0.73 10.75ms 930tok/s (total 1,194,190tok)\n",
      "step 119440: loss 0.04 8.29ms 1206tok/s (total 1,194,390tok)\n",
      "step 119460: loss 1.05 5.83ms 1716tok/s (total 1,194,590tok)\n",
      "step 119480: loss 0.09 6.53ms 1531tok/s (total 1,194,790tok)\n",
      "step 119500: loss 0.33 6.21ms 1609tok/s (total 1,194,990tok)\n",
      "Oh my lord,\n",
      "KING RICHARD II: I,\n",
      "step 119520: loss 6.66 7.50ms 1334tok/s (total 1,195,190tok)\n",
      "step 119540: loss 12.36 6.81ms 1468tok/s (total 1,195,390tok)\n",
      "step 119560: loss 3.98 6.34ms 1578tok/s (total 1,195,590tok)\n",
      "step 119580: loss 5.34 9.78ms 1023tok/s (total 1,195,790tok)\n",
      "step 119600: loss 7.41 6.09ms 1642tok/s (total 1,195,990tok)\n",
      "Oh my lord,.,.\n",
      "\n",
      "\n",
      "\n",
      "\n",
      "\n",
      "\n",
      "step 119620: loss 6.12 8.18ms 1223tok/s (total 1,196,190tok)\n",
      "step 119640: loss 10.05 6.17ms 1622tok/s (total 1,196,390tok)\n",
      "step 119660: loss 6.90 5.94ms 1684tok/s (total 1,196,590tok)\n",
      "step 119680: loss 2.13 6.04ms 1656tok/s (total 1,196,790tok)\n",
      "step 119700: loss 6.05 7.47ms 1339tok/s (total 1,196,990tok)\n",
      "Oh my lord,\n",
      "KING RICHARD II:,:\n",
      "step 119720: loss 2.91 6.47ms 1544tok/s (total 1,197,190tok)\n",
      "step 119740: loss 0.05 4.99ms 2006tok/s (total 1,197,390tok)\n",
      "step 119760: loss 4.01 8.73ms 1145tok/s (total 1,197,590tok)\n",
      "step 119780: loss 6.90 12.26ms 815tok/s (total 1,197,790tok)\n",
      "step 119800: loss 6.45 8.07ms 1239tok/s (total 1,197,990tok)\n",
      "Oh my lord,\n",
      " the\n",
      "KING RICHARD II:\n",
      "step 119820: loss 3.19 16.35ms 612tok/s (total 1,198,190tok)\n",
      "step 119840: loss 12.77 6.96ms 1436tok/s (total 1,198,390tok)\n",
      "step 119860: loss 3.35 5.88ms 1700tok/s (total 1,198,590tok)\n",
      "step 119880: loss 10.07 7.31ms 1367tok/s (total 1,198,790tok)\n",
      "step 119900: loss 7.67 5.84ms 1712tok/s (total 1,198,990tok)\n",
      "Oh my lord,\n",
      " theThat\n",
      "KING RICHARD:\n",
      "step 119920: loss 7.28 9.34ms 1070tok/s (total 1,199,190tok)\n",
      "step 119940: loss 3.77 6.21ms 1609tok/s (total 1,199,390tok)\n",
      "step 119960: loss 10.86 5.14ms 1946tok/s (total 1,199,590tok)\n",
      "step 119980: loss 8.41 4.93ms 2028tok/s (total 1,199,790tok)\n",
      "step 120000: loss 7.48 4.59ms 2180tok/s (total 1,199,990tok)\n",
      "Oh my lord.\n",
      "\n",
      "\n",
      "\n",
      "\n",
      "\n",
      "\n",
      "\n",
      "\n",
      "\n",
      "step 120020: loss 0.05 8.31ms 1203tok/s (total 1,200,190tok)\n",
      "step 120040: loss 2.04 5.64ms 1774tok/s (total 1,200,390tok)\n",
      "step 120060: loss 0.18 6.78ms 1476tok/s (total 1,200,590tok)\n",
      "step 120080: loss 0.14 6.62ms 1510tok/s (total 1,200,790tok)\n",
      "step 120100: loss 4.95 6.37ms 1569tok/s (total 1,200,990tok)\n",
      "Oh my lord.\n",
      "\n",
      "\n",
      "\n",
      "\n",
      "\n",
      "\n",
      "\n",
      "\n",
      "\n",
      "step 120120: loss 0.01 5.91ms 1693tok/s (total 1,201,190tok)\n",
      "step 120140: loss 0.03 5.86ms 1706tok/s (total 1,201,390tok)\n",
      "step 120160: loss 7.55 5.58ms 1791tok/s (total 1,201,590tok)\n",
      "step 120180: loss 0.02 10.16ms 984tok/s (total 1,201,790tok)\n",
      "step 120200: loss 0.10 19.00ms 526tok/s (total 1,201,990tok)\n",
      "Oh my lord.\n",
      "\n",
      "\n",
      "\n",
      "\n",
      "\n",
      "\n",
      "\n",
      "\n",
      "\n",
      "step 120220: loss 2.47 6.38ms 1568tok/s (total 1,202,190tok)\n",
      "step 120240: loss 7.22 15.50ms 645tok/s (total 1,202,390tok)\n",
      "step 120260: loss 2.76 14.68ms 681tok/s (total 1,202,590tok)\n",
      "step 120280: loss 9.48 35.59ms 281tok/s (total 1,202,790tok)\n",
      "step 120300: loss 8.11 8.17ms 1224tok/s (total 1,202,990tok)\n",
      "Oh my lord.\n",
      "\n",
      "\n",
      "\n",
      "\n",
      "\n",
      "\n",
      "\n",
      "\n",
      "\n",
      "step 120320: loss 4.21 6.29ms 1590tok/s (total 1,203,190tok)\n",
      "step 120340: loss 3.13 6.47ms 1546tok/s (total 1,203,390tok)\n",
      "step 120360: loss 4.06 5.09ms 1964tok/s (total 1,203,590tok)\n",
      "step 120380: loss 1.37 5.30ms 1886tok/s (total 1,203,790tok)\n",
      "step 120400: loss 8.80 17.07ms 586tok/s (total 1,203,990tok)\n",
      "Oh my lord,\n",
      " theTo of the\n",
      "\n",
      "\n",
      "\n",
      "\n",
      "step 120420: loss 11.93 6.43ms 1556tok/s (total 1,204,190tok)\n",
      "step 120440: loss 7.96 7.28ms 1374tok/s (total 1,204,390tok)\n",
      "step 120460: loss 5.34 5.95ms 1681tok/s (total 1,204,590tok)\n",
      "step 120480: loss 6.40 7.27ms 1375tok/s (total 1,204,790tok)\n",
      "step 120500: loss 1.09 15.12ms 661tok/s (total 1,204,990tok)\n",
      "Oh my lord,\n",
      "To,\n",
      "And a\n",
      "To of\n",
      "step 120520: loss 6.17 8.65ms 1156tok/s (total 1,205,190tok)\n",
      "step 120540: loss 6.94 6.82ms 1466tok/s (total 1,205,390tok)\n",
      "step 120560: loss 10.75 6.69ms 1494tok/s (total 1,205,590tok)\n",
      "step 120580: loss 4.72 6.95ms 1440tok/s (total 1,205,790tok)\n",
      "step 120600: loss 11.48 6.16ms 1624tok/s (total 1,205,990tok)\n",
      "Oh my lord,\n",
      "To, not theTo of,\n",
      "\n",
      "step 120620: loss 10.02 5.90ms 1695tok/s (total 1,206,190tok)\n",
      "step 120640: loss 6.39 10.92ms 916tok/s (total 1,206,390tok)\n",
      "step 120660: loss 5.16 5.43ms 1843tok/s (total 1,206,590tok)\n",
      "step 120680: loss 6.60 6.80ms 1470tok/s (total 1,206,790tok)\n",
      "step 120700: loss 5.70 6.73ms 1485tok/s (total 1,206,990tok)\n",
      "Oh my lord,\n",
      "To a\n",
      "To\n",
      "KING RARD\n",
      "step 120720: loss 1.58 8.41ms 1189tok/s (total 1,207,190tok)\n",
      "step 120740: loss 13.08 5.09ms 1965tok/s (total 1,207,390tok)\n",
      "step 120760: loss 13.03 59.40ms 168tok/s (total 1,207,590tok)\n",
      "step 120780: loss 12.85 12.14ms 824tok/s (total 1,207,790tok)\n",
      "step 120800: loss 4.04 16.09ms 621tok/s (total 1,207,990tok)\n",
      "Oh my lord,\n",
      "To a,\n",
      "And\n",
      "To a\n",
      "step 120820: loss 3.48 22.93ms 436tok/s (total 1,208,190tok)\n",
      "step 120840: loss 2.41 6.21ms 1610tok/s (total 1,208,390tok)\n",
      "step 120860: loss 2.45 5.67ms 1765tok/s (total 1,208,590tok)\n",
      "step 120880: loss 7.65 15.52ms 644tok/s (total 1,208,790tok)\n",
      "step 120900: loss 9.35 15.73ms 636tok/s (total 1,208,990tok)\n",
      "Oh my lord,\n",
      "To and a of\n",
      "KING RICH\n",
      "step 120920: loss 0.43 14.64ms 683tok/s (total 1,209,190tok)\n",
      "step 120940: loss 0.55 9.15ms 1093tok/s (total 1,209,390tok)\n",
      "step 120960: loss 5.64 37.10ms 270tok/s (total 1,209,590tok)\n",
      "step 120980: loss 0.50 5.58ms 1791tok/s (total 1,209,790tok)\n",
      "step 121000: loss 0.40 5.90ms 1696tok/s (total 1,209,990tok)\n",
      "Oh my lord,\n",
      "And the of\n",
      "And\n",
      "And\n",
      "\n",
      "step 121020: loss 5.41 6.69ms 1495tok/s (total 1,210,190tok)\n",
      "step 121040: loss 1.23 68.14ms 147tok/s (total 1,210,390tok)\n",
      "step 121060: loss 10.55 57.54ms 174tok/s (total 1,210,590tok)\n",
      "step 121080: loss 1.29 12.99ms 770tok/s (total 1,210,790tok)\n",
      "step 121100: loss 13.97 34.50ms 290tok/s (total 1,210,990tok)\n",
      "Oh my lord,\n",
      "And\n",
      "KING RICHARD II:\n",
      "step 121120: loss 6.89 6.60ms 1516tok/s (total 1,211,190tok)\n",
      "step 121140: loss 5.28 19.68ms 508tok/s (total 1,211,390tok)\n",
      "step 121160: loss 6.98 7.90ms 1266tok/s (total 1,211,590tok)\n",
      "step 121180: loss 5.86 19.04ms 525tok/s (total 1,211,790tok)\n",
      "step 121200: loss 8.68 15.10ms 662tok/s (total 1,211,990tok)\n",
      "Oh my lord,\n",
      "To the of\n",
      "And\n",
      "KING R\n",
      "step 121220: loss 0.31 7.73ms 1294tok/s (total 1,212,190tok)\n",
      "step 121240: loss 5.62 10.08ms 992tok/s (total 1,212,390tok)\n",
      "step 121260: loss 11.76 6.64ms 1505tok/s (total 1,212,590tok)\n",
      "step 121280: loss 3.75 7.81ms 1281tok/s (total 1,212,790tok)\n",
      "step 121300: loss 4.53 8.15ms 1228tok/s (total 1,212,990tok)\n",
      "Oh my lord.\n",
      "KING RICHARD II:\n",
      "\n",
      "\n",
      "step 121320: loss 6.95 10.31ms 970tok/s (total 1,213,190tok)\n",
      "step 121340: loss 13.61 6.48ms 1543tok/s (total 1,213,390tok)\n",
      "step 121360: loss 7.17 12.90ms 775tok/s (total 1,213,590tok)\n",
      "step 121380: loss 8.84 8.94ms 1119tok/s (total 1,213,790tok)\n",
      "step 121400: loss 5.05 59.81ms 167tok/s (total 1,213,990tok)\n",
      "Oh my lord.\n",
      "\n",
      "\n",
      "\n",
      "\n",
      "\n",
      "\n",
      "\n",
      "\n",
      "\n",
      "step 121420: loss 2.82 4.68ms 2138tok/s (total 1,214,190tok)\n",
      "step 121440: loss 5.03 256.24ms 39tok/s (total 1,214,390tok)\n",
      "step 121460: loss 3.35 6.13ms 1632tok/s (total 1,214,590tok)\n",
      "step 121480: loss 0.03 5.72ms 1747tok/s (total 1,214,790tok)\n",
      "step 121500: loss 0.00 8.77ms 1140tok/s (total 1,214,990tok)\n",
      "Oh my lord.\n",
      "\n",
      "\n",
      "\n",
      "\n",
      "\n",
      "\n",
      "\n",
      "\n",
      "\n",
      "step 121520: loss 2.18 41.20ms 243tok/s (total 1,215,190tok)\n",
      "step 121540: loss 7.20 6.60ms 1516tok/s (total 1,215,390tok)\n",
      "step 121560: loss 2.63 9.16ms 1091tok/s (total 1,215,590tok)\n",
      "step 121580: loss 5.91 5.93ms 1687tok/s (total 1,215,790tok)\n",
      "step 121600: loss 2.35 8.72ms 1147tok/s (total 1,215,990tok)\n",
      "Oh my lord.\n",
      "\n",
      "\n",
      "\n",
      "\n",
      "\n",
      "\n",
      "\n",
      "\n",
      "\n",
      "step 121620: loss 4.88 5.62ms 1779tok/s (total 1,216,190tok)\n",
      "step 121640: loss 6.54 10.83ms 923tok/s (total 1,216,390tok)\n",
      "step 121660: loss 7.47 10.84ms 922tok/s (total 1,216,590tok)\n",
      "step 121680: loss 0.07 11.32ms 884tok/s (total 1,216,790tok)\n",
      "step 121700: loss 5.51 10.44ms 958tok/s (total 1,216,990tok)\n",
      "Oh my lord,.,;\n",
      " I I have, and\n",
      "step 121720: loss 8.83 14.37ms 696tok/s (total 1,217,190tok)\n",
      "step 121740: loss 1.31 7.27ms 1375tok/s (total 1,217,390tok)\n",
      "step 121760: loss 3.61 9.11ms 1098tok/s (total 1,217,590tok)\n",
      "step 121780: loss 0.06 5.94ms 1683tok/s (total 1,217,790tok)\n",
      "step 121800: loss 1.16 5.33ms 1877tok/s (total 1,217,990tok)\n",
      "Oh my lord.\n",
      "\n",
      "\n",
      "\n",
      "\n",
      "\n",
      "\n",
      "\n",
      "\n",
      "\n",
      "step 121820: loss 10.83 8.48ms 1179tok/s (total 1,218,190tok)\n",
      "step 121840: loss 0.38 7.59ms 1318tok/s (total 1,218,390tok)\n",
      "step 121860: loss 2.89 8.61ms 1162tok/s (total 1,218,590tok)\n",
      "step 121880: loss 5.69 6.33ms 1579tok/s (total 1,218,790tok)\n",
      "step 121900: loss 7.77 10.62ms 941tok/s (total 1,218,990tok)\n",
      "Oh my lord,\n",
      "DUKE OF\n",
      " YORK:,\n",
      "step 121920: loss 0.80 9.42ms 1062tok/s (total 1,219,190tok)\n",
      "step 121940: loss 8.81 6.19ms 1616tok/s (total 1,219,390tok)\n",
      "step 121960: loss 14.22 9.08ms 1101tok/s (total 1,219,590tok)\n",
      "step 121980: loss 7.69 6.10ms 1639tok/s (total 1,219,790tok)\n",
      "step 122000: loss 1.81 7.22ms 1386tok/s (total 1,219,990tok)\n",
      "Oh my lord,\n",
      " the,To, the\n",
      ", the\n",
      "step 122020: loss 3.76 7.84ms 1275tok/s (total 1,220,190tok)\n",
      "step 122040: loss 9.04 6.17ms 1620tok/s (total 1,220,390tok)\n",
      "step 122060: loss 6.11 7.65ms 1307tok/s (total 1,220,590tok)\n",
      "step 122080: loss 1.21 7.39ms 1352tok/s (total 1,220,790tok)\n",
      "step 122100: loss 5.69 7.94ms 1259tok/s (total 1,220,990tok)\n",
      "Oh my lord,\n",
      " the,And, the\n",
      " the of\n",
      "step 122120: loss 5.05 8.71ms 1148tok/s (total 1,221,190tok)\n",
      "step 122140: loss 2.96 8.20ms 1220tok/s (total 1,221,390tok)\n",
      "step 122160: loss 5.10 25.36ms 394tok/s (total 1,221,590tok)\n",
      "step 122180: loss 4.24 7.92ms 1262tok/s (total 1,221,790tok)\n",
      "step 122200: loss 9.14 7.08ms 1412tok/s (total 1,221,990tok)\n",
      "Oh my lord,\n",
      ", theThat,\n",
      ",\n",
      "D\n",
      "step 122220: loss 4.30 5.42ms 1845tok/s (total 1,222,190tok)\n",
      "step 122240: loss 2.19 4.99ms 2004tok/s (total 1,222,390tok)\n",
      "step 122260: loss 1.88 5.45ms 1836tok/s (total 1,222,590tok)\n",
      "step 122280: loss 0.66 5.58ms 1791tok/s (total 1,222,790tok)\n",
      "step 122300: loss 5.71 5.91ms 1691tok/s (total 1,222,990tok)\n",
      "Oh my lord.\n",
      "\n",
      "\n",
      "\n",
      "\n",
      "\n",
      "\n",
      "\n",
      "\n",
      "\n",
      "step 122320: loss 5.13 6.29ms 1589tok/s (total 1,223,190tok)\n",
      "step 122340: loss 0.43 5.97ms 1676tok/s (total 1,223,390tok)\n",
      "step 122360: loss 1.03 6.15ms 1627tok/s (total 1,223,590tok)\n",
      "step 122380: loss 1.28 8.20ms 1220tok/s (total 1,223,790tok)\n",
      "step 122400: loss 8.61 5.96ms 1678tok/s (total 1,223,990tok)\n",
      "Oh my lord,:\n",
      " I theAnd,\n",
      "And,\n",
      "step 122420: loss 5.88 6.76ms 1479tok/s (total 1,224,190tok)\n",
      "step 122440: loss 7.82 5.93ms 1687tok/s (total 1,224,390tok)\n",
      "step 122460: loss 0.19 9.00ms 1111tok/s (total 1,224,590tok)\n",
      "step 122480: loss 3.23 5.74ms 1743tok/s (total 1,224,790tok)\n",
      "step 122500: loss 4.43 5.90ms 1696tok/s (total 1,224,990tok)\n",
      "Oh my lord.\n",
      "\n",
      "\n",
      "\n",
      "\n",
      "\n",
      "\n",
      "\n",
      "\n",
      "\n",
      "step 122520: loss 5.50 4.96ms 2014tok/s (total 1,225,190tok)\n",
      "step 122540: loss 7.98 6.25ms 1599tok/s (total 1,225,390tok)\n",
      "step 122560: loss 1.14 6.24ms 1601tok/s (total 1,225,590tok)\n",
      "step 122580: loss 0.04 5.73ms 1746tok/s (total 1,225,790tok)\n",
      "step 122600: loss 11.33 5.48ms 1826tok/s (total 1,225,990tok)\n",
      "Oh my lord.\n",
      "\n",
      "\n",
      "\n",
      "\n",
      "\n",
      "\n",
      "\n",
      "\n",
      "\n",
      "step 122620: loss 6.10 5.95ms 1680tok/s (total 1,226,190tok)\n",
      "step 122640: loss 3.78 5.50ms 1817tok/s (total 1,226,390tok)\n",
      "step 122660: loss 8.86 5.21ms 1919tok/s (total 1,226,590tok)\n",
      "step 122680: loss 1.63 7.69ms 1300tok/s (total 1,226,790tok)\n",
      "step 122700: loss 6.10 8.52ms 1173tok/s (total 1,226,990tok)\n",
      "Oh my lord.\n",
      "\n",
      "\n",
      "\n",
      "\n",
      "\n",
      "\n",
      "\n",
      "\n",
      "\n",
      "step 122720: loss 4.34 70.83ms 141tok/s (total 1,227,190tok)\n",
      "step 122740: loss 11.21 5.19ms 1928tok/s (total 1,227,390tok)\n",
      "step 122760: loss 4.28 7.40ms 1351tok/s (total 1,227,590tok)\n",
      "step 122780: loss 4.43 21.35ms 468tok/s (total 1,227,790tok)\n",
      "step 122800: loss 0.21 16.97ms 589tok/s (total 1,227,990tok)\n",
      "Oh my lord.\n",
      "\n",
      "\n",
      "\n",
      "\n",
      "\n",
      "\n",
      "\n",
      "\n",
      "\n",
      "step 122820: loss 5.25 295.86ms 34tok/s (total 1,228,190tok)\n",
      "step 122840: loss 4.68 4.50ms 2221tok/s (total 1,228,390tok)\n",
      "step 122860: loss 5.50 21.00ms 476tok/s (total 1,228,590tok)\n",
      "step 122880: loss 1.20 5.21ms 1921tok/s (total 1,228,790tok)\n",
      "step 122900: loss 0.31 5.96ms 1678tok/s (total 1,228,990tok)\n",
      "Oh my lord.\n",
      "\n",
      "\n",
      "\n",
      "\n",
      "\n",
      "\n",
      "\n",
      "\n",
      "\n",
      "step 122920: loss 0.01 9.50ms 1053tok/s (total 1,229,190tok)\n",
      "step 122940: loss 13.01 6.97ms 1435tok/s (total 1,229,390tok)\n",
      "step 122960: loss 0.63 5.58ms 1792tok/s (total 1,229,590tok)\n",
      "step 122980: loss 0.13 4.92ms 2034tok/s (total 1,229,790tok)\n",
      "step 123000: loss 0.12 13.98ms 715tok/s (total 1,229,990tok)\n",
      "Oh my lord.\n",
      "\n",
      "\n",
      "\n",
      "\n",
      "\n",
      "\n",
      "\n",
      "\n",
      "\n",
      "step 123020: loss 5.19 5.28ms 1894tok/s (total 1,230,190tok)\n",
      "step 123040: loss 7.71 4.01ms 2493tok/s (total 1,230,390tok)\n",
      "step 123060: loss 4.05 4.28ms 2335tok/s (total 1,230,590tok)\n",
      "step 123080: loss 15.94 3.95ms 2529tok/s (total 1,230,790tok)\n",
      "step 123100: loss 0.54 3.99ms 2505tok/s (total 1,230,990tok)\n",
      "Oh my lord.\n",
      "DUESS OF YORK:\n",
      ",\n",
      "step 123120: loss 0.20 7.48ms 1338tok/s (total 1,231,190tok)\n",
      "step 123140: loss 3.86 13.28ms 753tok/s (total 1,231,390tok)\n",
      "step 123160: loss 4.44 5.02ms 1992tok/s (total 1,231,590tok)\n",
      "step 123180: loss 7.53 17.25ms 580tok/s (total 1,231,790tok)\n",
      "step 123200: loss 1.01 12.61ms 793tok/s (total 1,231,990tok)\n",
      "Oh my lord,\n",
      "DUKE OF YORK:,:\n",
      "step 123220: loss 0.37 13.43ms 745tok/s (total 1,232,190tok)\n",
      "step 123240: loss 12.27 7.99ms 1252tok/s (total 1,232,390tok)\n",
      "step 123260: loss 3.15 12.57ms 796tok/s (total 1,232,590tok)\n",
      "step 123280: loss 4.89 16.00ms 625tok/s (total 1,232,790tok)\n",
      "step 123300: loss 0.06 10.70ms 935tok/s (total 1,232,990tok)\n",
      "Oh my lord,\n",
      "\n",
      "\n",
      "\n",
      "\n",
      "\n",
      "\n",
      "\n",
      "\n",
      "\n",
      "step 123320: loss 5.15 7.64ms 1308tok/s (total 1,233,190tok)\n",
      "step 123340: loss 8.51 5.93ms 1686tok/s (total 1,233,390tok)\n",
      "step 123360: loss 6.30 8.00ms 1249tok/s (total 1,233,590tok)\n",
      "step 123380: loss 2.90 6.02ms 1660tok/s (total 1,233,790tok)\n",
      "step 123400: loss 5.16 8.25ms 1212tok/s (total 1,233,990tok)\n",
      "Oh my lord,\n",
      "And,\n",
      "\n",
      ",DUKE\n",
      "step 123420: loss 6.29 8.94ms 1118tok/s (total 1,234,190tok)\n",
      "step 123440: loss 0.13 6.43ms 1556tok/s (total 1,234,390tok)\n",
      "step 123460: loss 0.12 8.94ms 1118tok/s (total 1,234,590tok)\n",
      "step 123480: loss 5.41 9.06ms 1104tok/s (total 1,234,790tok)\n",
      "step 123500: loss 0.00 7.05ms 1418tok/s (total 1,234,990tok)\n",
      "Oh my lord,\n",
      "And\n",
      "DUKE OF YORK:\n",
      "step 123520: loss 5.73 4.79ms 2088tok/s (total 1,235,190tok)\n",
      "step 123540: loss 2.00 8.85ms 1129tok/s (total 1,235,390tok)\n",
      "step 123560: loss 0.07 6.03ms 1659tok/s (total 1,235,590tok)\n",
      "step 123580: loss 4.34 7.50ms 1334tok/s (total 1,235,790tok)\n",
      "step 123600: loss 5.69 4.38ms 2286tok/s (total 1,235,990tok)\n",
      "Oh my lord,\n",
      "And him\n",
      "DUKEESS OF\n",
      "step 123620: loss 12.95 5.25ms 1905tok/s (total 1,236,190tok)\n",
      "step 123640: loss 11.43 5.61ms 1784tok/s (total 1,236,390tok)\n",
      "step 123660: loss 8.22 5.66ms 1767tok/s (total 1,236,590tok)\n",
      "step 123680: loss 7.97 5.26ms 1900tok/s (total 1,236,790tok)\n",
      "step 123700: loss 6.89 5.76ms 1736tok/s (total 1,236,990tok)\n",
      "Oh my lord,\n",
      "And,\n",
      "\n",
      "\n",
      "\n",
      "\n",
      "\n",
      "\n",
      "step 123720: loss 8.40 4.42ms 2262tok/s (total 1,237,190tok)\n",
      "step 123740: loss 0.03 6.54ms 1530tok/s (total 1,237,390tok)\n",
      "step 123760: loss 0.38 5.09ms 1965tok/s (total 1,237,590tok)\n",
      "step 123780: loss 1.71 5.87ms 1704tok/s (total 1,237,790tok)\n",
      "step 123800: loss 11.49 7.34ms 1362tok/s (total 1,237,990tok)\n",
      "Oh my lord,\n",
      "And the\n",
      "And\n",
      "HENRY\n",
      "step 123820: loss 1.33 7.90ms 1266tok/s (total 1,238,190tok)\n",
      "step 123840: loss 4.83 5.68ms 1759tok/s (total 1,238,390tok)\n",
      "step 123860: loss 0.02 14.16ms 706tok/s (total 1,238,590tok)\n",
      "step 123880: loss 0.86 5.01ms 1995tok/s (total 1,238,790tok)\n",
      "step 123900: loss 2.76 16.49ms 606tok/s (total 1,238,990tok)\n",
      "Oh my lord,\n",
      "And\n",
      "HENRY BOLING\n",
      "step 123920: loss 4.83 18.33ms 546tok/s (total 1,239,190tok)\n",
      "step 123940: loss 0.17 8.17ms 1224tok/s (total 1,239,390tok)\n",
      "step 123960: loss 10.37 5.05ms 1981tok/s (total 1,239,590tok)\n",
      "step 123980: loss 0.76 5.46ms 1831tok/s (total 1,239,790tok)\n",
      "step 124000: loss 4.88 4.51ms 2219tok/s (total 1,239,990tok)\n",
      "Oh my lord,\n",
      "And.\n",
      "DUKE OF A\n",
      "step 124020: loss 0.19 4.91ms 2038tok/s (total 1,240,190tok)\n",
      "step 124040: loss 3.14 18.05ms 554tok/s (total 1,240,390tok)\n",
      "step 124060: loss 5.27 5.38ms 1860tok/s (total 1,240,590tok)\n",
      "step 124080: loss 4.52 20.53ms 487tok/s (total 1,240,790tok)\n",
      "step 124100: loss 0.16 21.88ms 457tok/s (total 1,240,990tok)\n",
      "Oh my lord,\n",
      "And.\n",
      "\n",
      "\n",
      "\n",
      "\n",
      "\n",
      "\n",
      "step 124120: loss 0.01 21.42ms 467tok/s (total 1,241,190tok)\n",
      "step 124140: loss 4.39 19.67ms 508tok/s (total 1,241,390tok)\n",
      "step 124160: loss 3.60 20.61ms 485tok/s (total 1,241,590tok)\n",
      "step 124180: loss 0.98 14.85ms 674tok/s (total 1,241,790tok)\n",
      "step 124200: loss 12.82 5.77ms 1734tok/s (total 1,241,990tok)\n",
      "Oh my lord.\n",
      "\n",
      "\n",
      "\n",
      "\n",
      "\n",
      "\n",
      "\n",
      "\n",
      "\n",
      "step 124220: loss 0.55 18.65ms 536tok/s (total 1,242,190tok)\n",
      "step 124240: loss 6.63 13.34ms 750tok/s (total 1,242,390tok)\n",
      "step 124260: loss 3.08 20.77ms 482tok/s (total 1,242,590tok)\n",
      "step 124280: loss 8.64 4.84ms 2068tok/s (total 1,242,790tok)\n",
      "step 124300: loss 0.15 5.01ms 1998tok/s (total 1,242,990tok)\n",
      "Oh my lord.\n",
      "\n",
      "\n",
      "\n",
      "\n",
      "\n",
      "\n",
      "\n",
      "\n",
      "\n",
      "step 124320: loss 0.09 19.94ms 502tok/s (total 1,243,190tok)\n",
      "step 124340: loss 7.50 8.19ms 1220tok/s (total 1,243,390tok)\n",
      "step 124360: loss 11.35 5.28ms 1895tok/s (total 1,243,590tok)\n",
      "step 124380: loss 0.00 5.49ms 1823tok/s (total 1,243,790tok)\n",
      "step 124400: loss 6.55 3.68ms 2716tok/s (total 1,243,990tok)\n",
      "Oh my lord\n",
      "KE OF:,:,,,\n",
      "\n",
      "step 124420: loss 2.19 8.91ms 1122tok/s (total 1,244,190tok)\n",
      "step 124440: loss 5.16 5.16ms 1938tok/s (total 1,244,390tok)\n",
      "step 124460: loss 0.12 7.66ms 1305tok/s (total 1,244,590tok)\n",
      "step 124480: loss 5.90 5.56ms 1798tok/s (total 1,244,790tok)\n",
      "step 124500: loss 2.87 5.45ms 1836tok/s (total 1,244,990tok)\n",
      "Oh my lord.\n",
      "\n",
      "\n",
      "\n",
      "\n",
      "\n",
      "\n",
      "\n",
      "\n",
      "\n",
      "step 124520: loss 7.44 4.93ms 2029tok/s (total 1,245,190tok)\n",
      "step 124540: loss 7.57 3.75ms 2666tok/s (total 1,245,390tok)\n",
      "step 124560: loss 0.42 10.59ms 944tok/s (total 1,245,590tok)\n",
      "step 124580: loss 11.41 7.36ms 1359tok/s (total 1,245,790tok)\n",
      "step 124600: loss 4.27 8.29ms 1207tok/s (total 1,245,990tok)\n",
      "Oh my lord.\n",
      "\n",
      "\n",
      "\n",
      "\n",
      "\n",
      "\n",
      "\n",
      "\n",
      "\n",
      "step 124620: loss 3.80 10.12ms 988tok/s (total 1,246,190tok)\n",
      "step 124640: loss 0.08 4.51ms 2216tok/s (total 1,246,390tok)\n",
      "step 124660: loss 10.57 10.36ms 965tok/s (total 1,246,590tok)\n",
      "step 124680: loss 4.73 8.08ms 1237tok/s (total 1,246,790tok)\n",
      "step 124700: loss 0.22 4.27ms 2339tok/s (total 1,246,990tok)\n",
      "Oh my lord.\n",
      "\n",
      "\n",
      "\n",
      "\n",
      "\n",
      "\n",
      "\n",
      "\n",
      "\n",
      "step 124720: loss 6.53 4.37ms 2289tok/s (total 1,247,190tok)\n",
      "step 124740: loss 5.40 21.27ms 470tok/s (total 1,247,390tok)\n",
      "step 124760: loss 9.91 4.30ms 2324tok/s (total 1,247,590tok)\n",
      "step 124780: loss 0.19 8.92ms 1121tok/s (total 1,247,790tok)\n",
      "step 124800: loss 7.05 5.41ms 1847tok/s (total 1,247,990tok)\n",
      "Oh my lord.\n",
      "\n",
      "\n",
      "\n",
      "\n",
      "\n",
      "\n",
      "\n",
      "\n",
      "\n",
      "step 124820: loss 0.21 8.12ms 1232tok/s (total 1,248,190tok)\n",
      "step 124840: loss 0.10 3.68ms 2715tok/s (total 1,248,390tok)\n",
      "step 124860: loss 0.41 4.30ms 2323tok/s (total 1,248,590tok)\n",
      "step 124880: loss 4.15 4.80ms 2084tok/s (total 1,248,790tok)\n",
      "step 124900: loss 10.77 5.31ms 1882tok/s (total 1,248,990tok)\n",
      "Oh my lord.\n",
      "\n",
      "\n",
      "\n",
      "\n",
      "\n",
      "\n",
      "\n",
      "\n",
      "\n",
      "step 124920: loss 0.81 4.61ms 2167tok/s (total 1,249,190tok)\n",
      "step 124940: loss 0.92 4.58ms 2183tok/s (total 1,249,390tok)\n",
      "step 124960: loss 0.00 3.79ms 2635tok/s (total 1,249,590tok)\n",
      "step 124980: loss 0.22 3.28ms 3051tok/s (total 1,249,790tok)\n",
      "step 125000: loss 5.65 15.24ms 656tok/s (total 1,249,990tok)\n",
      "Oh my lord.\n",
      "\n",
      "\n",
      "\n",
      "\n",
      "\n",
      "\n",
      "\n",
      "\n",
      "\n",
      "step 125020: loss 6.78 4.27ms 2345tok/s (total 1,250,190tok)\n",
      "step 125040: loss 8.67 17.93ms 558tok/s (total 1,250,390tok)\n",
      "step 125060: loss 11.59 10.35ms 967tok/s (total 1,250,590tok)\n",
      "step 125080: loss 11.16 4.07ms 2458tok/s (total 1,250,790tok)\n",
      "step 125100: loss 6.06 5.51ms 1815tok/s (total 1,250,990tok)\n",
      "Oh my lord;\n",
      "DUKE OF YORK:\n",
      ",\n",
      "step 125120: loss 0.05 3.79ms 2642tok/s (total 1,251,190tok)\n",
      "step 125140: loss 0.13 14.13ms 708tok/s (total 1,251,390tok)\n",
      "step 125160: loss 9.18 21.45ms 466tok/s (total 1,251,590tok)\n",
      "step 125180: loss 2.95 17.26ms 579tok/s (total 1,251,790tok)\n",
      "step 125200: loss 3.50 16.64ms 601tok/s (total 1,251,990tok)\n",
      "Oh my lord.\n",
      "\n",
      "\n",
      "\n",
      "\n",
      "\n",
      "\n",
      "\n",
      "\n",
      "\n",
      "step 125220: loss 3.85 16.56ms 604tok/s (total 1,252,190tok)\n",
      "step 125240: loss 8.75 12.72ms 786tok/s (total 1,252,390tok)\n",
      "step 125260: loss 6.75 7.23ms 1383tok/s (total 1,252,590tok)\n",
      "step 125280: loss 1.26 7.18ms 1392tok/s (total 1,252,790tok)\n",
      "step 125300: loss 4.21 6.22ms 1609tok/s (total 1,252,990tok)\n",
      "Oh my lord;\n",
      "DUKE OF YORK:,:\n",
      "step 125320: loss 7.64 9.54ms 1049tok/s (total 1,253,190tok)\n",
      "step 125340: loss 5.44 14.14ms 707tok/s (total 1,253,390tok)\n",
      "step 125360: loss 9.84 6.11ms 1637tok/s (total 1,253,590tok)\n",
      "step 125380: loss 8.26 5.89ms 1697tok/s (total 1,253,790tok)\n",
      "step 125400: loss 0.04 3.98ms 2512tok/s (total 1,253,990tok)\n",
      "Oh my lord;\n",
      "DUKE OF YORK:\n",
      ",\n",
      "step 125420: loss 0.59 6.02ms 1661tok/s (total 1,254,190tok)\n",
      "step 125440: loss 6.26 6.20ms 1613tok/s (total 1,254,390tok)\n",
      "step 125460: loss 6.14 5.07ms 1971tok/s (total 1,254,590tok)\n",
      "step 125480: loss 10.22 6.88ms 1453tok/s (total 1,254,790tok)\n",
      "step 125500: loss 9.55 5.55ms 1801tok/s (total 1,254,990tok)\n",
      "Oh my lord.\n",
      "\n",
      "\n",
      "\n",
      "\n",
      "\n",
      "\n",
      "\n",
      "\n",
      "\n",
      "step 125520: loss 0.40 14.74ms 679tok/s (total 1,255,190tok)\n",
      "step 125540: loss 5.43 10.30ms 970tok/s (total 1,255,390tok)\n",
      "step 125560: loss 0.32 10.82ms 924tok/s (total 1,255,590tok)\n",
      "step 125580: loss 5.22 2.16ms 4623tok/s (total 1,255,790tok)\n",
      "step 125600: loss 12.14 6.27ms 1594tok/s (total 1,255,990tok)\n",
      "Oh my lord.\n",
      "\n",
      "\n",
      "\n",
      "\n",
      "\n",
      "\n",
      "\n",
      "\n",
      "\n",
      "step 125620: loss 11.02 4.59ms 2177tok/s (total 1,256,190tok)\n",
      "step 125640: loss 4.69 4.64ms 2156tok/s (total 1,256,390tok)\n",
      "step 125660: loss 8.56 7.15ms 1398tok/s (total 1,256,590tok)\n",
      "step 125680: loss 9.24 70.48ms 142tok/s (total 1,256,790tok)\n",
      "step 125700: loss 6.65 4.20ms 2379tok/s (total 1,256,990tok)\n",
      "Oh my lord,:\n",
      " I, I have,.,\n",
      "step 125720: loss 7.17 4.16ms 2407tok/s (total 1,257,190tok)\n",
      "step 125740: loss 3.16 7.23ms 1384tok/s (total 1,257,390tok)\n",
      "step 125760: loss 11.59 16.83ms 594tok/s (total 1,257,590tok)\n",
      "step 125780: loss 2.46 21.51ms 465tok/s (total 1,257,790tok)\n",
      "step 125800: loss 0.13 7.46ms 1341tok/s (total 1,257,990tok)\n",
      "Oh my lord.\n",
      "\n",
      "\n",
      "\n",
      "\n",
      "\n",
      "\n",
      "\n",
      "\n",
      "\n",
      "step 125820: loss 3.03 6.94ms 1440tok/s (total 1,258,190tok)\n",
      "step 125840: loss 6.12 34.70ms 288tok/s (total 1,258,390tok)\n",
      "step 125860: loss 2.22 8.63ms 1159tok/s (total 1,258,590tok)\n",
      "step 125880: loss 0.06 5.57ms 1794tok/s (total 1,258,790tok)\n",
      "step 125900: loss 6.84 6.99ms 1430tok/s (total 1,258,990tok)\n",
      "Oh my lord.\n",
      "\n",
      "\n",
      "\n",
      "\n",
      "\n",
      "\n",
      "\n",
      "\n",
      "\n",
      "step 125920: loss 2.72 7.30ms 1369tok/s (total 1,259,190tok)\n",
      "step 125940: loss 12.66 20.49ms 488tok/s (total 1,259,390tok)\n",
      "step 125960: loss 7.50 11.76ms 851tok/s (total 1,259,590tok)\n",
      "step 125980: loss 2.58 6.65ms 1504tok/s (total 1,259,790tok)\n",
      "step 126000: loss 8.26 4.83ms 2072tok/s (total 1,259,990tok)\n",
      "Oh my lord.\n",
      "\n",
      "\n",
      "\n",
      "\n",
      "\n",
      "\n",
      ",\n",
      "\n",
      "step 126020: loss 3.02 5.16ms 1936tok/s (total 1,260,190tok)\n",
      "step 126040: loss 4.62 7.24ms 1382tok/s (total 1,260,390tok)\n",
      "step 126060: loss 12.29 2.79ms 3583tok/s (total 1,260,590tok)\n",
      "step 126080: loss 6.07 21.17ms 472tok/s (total 1,260,790tok)\n",
      "step 126100: loss 2.95 7.11ms 1406tok/s (total 1,260,990tok)\n",
      "Oh my lord,\n",
      "And the,\n",
      "\n",
      "\n",
      "\n",
      "\n",
      "\n",
      "step 126120: loss 0.37 7.98ms 1253tok/s (total 1,261,190tok)\n",
      "step 126140: loss 1.14 5.73ms 1746tok/s (total 1,261,390tok)\n",
      "step 126160: loss 5.17 4.58ms 2183tok/s (total 1,261,590tok)\n",
      "step 126180: loss 4.85 9.37ms 1067tok/s (total 1,261,790tok)\n",
      "step 126200: loss 5.92 6.11ms 1637tok/s (total 1,261,990tok)\n",
      "Oh my lord;\n",
      "And the, of\n",
      "And a,\n",
      "step 126220: loss 7.78 13.63ms 734tok/s (total 1,262,190tok)\n",
      "step 126240: loss 0.74 20.65ms 484tok/s (total 1,262,390tok)\n",
      "step 126260: loss 4.30 8.22ms 1216tok/s (total 1,262,590tok)\n",
      "step 126280: loss 12.67 20.90ms 478tok/s (total 1,262,790tok)\n",
      "step 126300: loss 5.85 11.21ms 892tok/s (total 1,262,990tok)\n",
      "Oh my lord;\n",
      "And I am: I am am I\n",
      "step 126320: loss 7.11 11.36ms 880tok/s (total 1,263,190tok)\n",
      "step 126340: loss 5.11 17.68ms 566tok/s (total 1,263,390tok)\n",
      "step 126360: loss 4.97 16.34ms 612tok/s (total 1,263,590tok)\n",
      "step 126380: loss 1.51 7.84ms 1276tok/s (total 1,263,790tok)\n",
      "step 126400: loss 7.34 4.43ms 2259tok/s (total 1,263,990tok)\n",
      "Oh my lord.\n",
      "\n",
      "\n",
      "\n",
      "\n",
      " the of\n",
      ":\n",
      "step 126420: loss 4.12 10.97ms 912tok/s (total 1,264,190tok)\n",
      "step 126440: loss 4.98 9.46ms 1057tok/s (total 1,264,390tok)\n",
      "step 126460: loss 10.50 8.79ms 1138tok/s (total 1,264,590tok)\n",
      "step 126480: loss 3.23 12.38ms 808tok/s (total 1,264,790tok)\n",
      "step 126500: loss 8.27 21.16ms 473tok/s (total 1,264,990tok)\n",
      "Oh my lord,\n",
      "And, the,\n",
      " time time time\n",
      "step 126520: loss 7.01 8.90ms 1123tok/s (total 1,265,190tok)\n",
      "step 126540: loss 6.13 15.59ms 641tok/s (total 1,265,390tok)\n",
      "step 126560: loss 6.22 16.24ms 616tok/s (total 1,265,590tok)\n",
      "step 126580: loss 0.34 17.19ms 582tok/s (total 1,265,790tok)\n",
      "step 126600: loss 6.41 17.04ms 587tok/s (total 1,265,990tok)\n",
      "Oh my lord,;\n",
      " it it it is, it it\n",
      "step 126620: loss 4.11 4.74ms 2112tok/s (total 1,266,190tok)\n",
      "step 126640: loss 9.77 18.12ms 552tok/s (total 1,266,390tok)\n",
      "step 126660: loss 0.44 13.32ms 751tok/s (total 1,266,590tok)\n",
      "step 126680: loss 8.81 17.39ms 575tok/s (total 1,266,790tok)\n",
      "step 126700: loss 4.51 10.76ms 930tok/s (total 1,266,990tok)\n",
      "Oh my lord.\n",
      "\n",
      "\n",
      "\n",
      "\n",
      ",\n",
      ":\n",
      "\n",
      "step 126720: loss 4.41 13.72ms 729tok/s (total 1,267,190tok)\n",
      "step 126740: loss 13.43 14.09ms 710tok/s (total 1,267,390tok)\n",
      "step 126760: loss 10.02 17.41ms 574tok/s (total 1,267,590tok)\n",
      "step 126780: loss 8.78 9.40ms 1064tok/s (total 1,267,790tok)\n",
      "step 126800: loss 12.04 7.32ms 1365tok/s (total 1,267,990tok)\n",
      "Oh my lord,\n",
      "With.\n",
      "HENRY BOL\n",
      "step 126820: loss 3.48 19.92ms 502tok/s (total 1,268,190tok)\n",
      "step 126840: loss 13.92 12.39ms 807tok/s (total 1,268,390tok)\n"
     ]
    }
   ],
   "source": [
    "from tqdm import tqdm \n",
    "import time\n",
    "\n",
    "criterion = nn.CrossEntropyLoss()\n",
    "optimizer = optim.SGD(model.parameters(), lr=0.01)\n",
    "\n",
    "# Training loop\n",
    "num_epochs = 10\n",
    "curr_time = time.time()\n",
    "curr_step = 1\n",
    "curr_tok = 0\n",
    "\n",
    "for epoch in range(num_epochs):\n",
    "    print(f\"epoch {epoch}\")\n",
    "    for inputs, labels in dataset_samples:\n",
    "        tok_cnt = inputs.size()[0]\n",
    "        \n",
    "        outputs = model(inputs)\n",
    "        loss = criterion(outputs, labels)\n",
    "        \n",
    "        # Backward and optimize\n",
    "        optimizer.zero_grad()\n",
    "        loss.backward()\n",
    "        optimizer.step()\n",
    "\n",
    "        if (curr_step % 20 == 0):\n",
    "            step_time = time.time() - curr_time\n",
    "            print(f\"step {curr_step}: loss {loss.detach().item():.2f} {step_time*1000:.2f}ms {(tok_cnt/step_time):.0f}tok/s (total {curr_tok:,} tok)\")\n",
    "\n",
    "        if (curr_step % 100 == 0):\n",
    "            print(generate(\"Oh my lord\", 10))\n",
    "        \n",
    "        curr_time = time.time() \n",
    "        curr_step = curr_step + 1\n",
    "        curr_tok = curr_tok + tok_cnt\n",
    "\n",
    "    print('Epoch [{}/{}], Loss: {:.4f}'.format(epoch+1, num_epochs, loss.item()))"
   ]
  },
  {
   "cell_type": "code",
   "execution_count": 13,
   "id": "be121f57-3cc7-476a-9f4a-ef534d340e5f",
   "metadata": {},
   "outputs": [
    {
     "data": {
      "text/plain": [
       "100"
      ]
     },
     "execution_count": 13,
     "metadata": {},
     "output_type": "execute_result"
    }
   ],
   "source": [
    "dataset_tok_samples[0].size()[0]"
   ]
  }
 ],
 "metadata": {
  "kernelspec": {
   "display_name": "Python 3 (ipykernel)",
   "language": "python",
   "name": "python3"
  },
  "language_info": {
   "codemirror_mode": {
    "name": "ipython",
    "version": 3
   },
   "file_extension": ".py",
   "mimetype": "text/x-python",
   "name": "python",
   "nbconvert_exporter": "python",
   "pygments_lexer": "ipython3",
   "version": "3.12.4"
  }
 },
 "nbformat": 4,
 "nbformat_minor": 5
}
